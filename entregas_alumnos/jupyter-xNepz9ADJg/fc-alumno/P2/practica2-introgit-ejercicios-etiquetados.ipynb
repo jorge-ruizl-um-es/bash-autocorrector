{
 "cells": [
  {
   "cell_type": "markdown",
   "id": "53d40637",
   "metadata": {},
   "source": [
    "# Ejercicios - Práctica 2: Control de versiones con Git"
   ]
  },
  {
   "cell_type": "markdown",
   "id": "267d7c1c",
   "metadata": {},
   "source": [
    "## Flujo de trabajo con un repositorio local"
   ]
  },
  {
   "cell_type": "code",
   "execution_count": 1,
   "id": "96c574d0",
   "metadata": {},
   "outputs": [],
   "source": [
    "# Sitúate en tu directorio de inicio de usuario\n",
    "cd"
   ]
  },
  {
   "cell_type": "code",
   "execution_count": 2,
   "id": "cc6a4a29-6cb6-485c-bebe-32754c560594",
   "metadata": {},
   "outputs": [],
   "source": [
    "# Borra recursivamente el directorio test-repo\n",
    "rm -rf test-repo"
   ]
  },
  {
   "cell_type": "code",
   "execution_count": 3,
   "id": "91da112d",
   "metadata": {},
   "outputs": [],
   "source": [
    "#II.1\n",
    "# Crea un directorio llamado \"test-repo\"\n",
    "mkdir test-repo"
   ]
  },
  {
   "cell_type": "code",
   "execution_count": 4,
   "id": "352abf5b",
   "metadata": {},
   "outputs": [],
   "source": [
    "#II.2\n",
    "# Accede al directorio que acabas de crear\n",
    "cd test-repo"
   ]
  },
  {
   "cell_type": "code",
   "execution_count": 5,
   "id": "2cb58bc5",
   "metadata": {},
   "outputs": [
    {
     "name": "stdout",
     "output_type": "stream",
     "text": [
      "Inicializado repositorio Git vacío en /home/jupyter-9PXvuHaKCD/test-repo/.git/\n"
     ]
    }
   ],
   "source": [
    "#II.3\n",
    "# Crea un repositorio vacío\n",
    "git init"
   ]
  },
  {
   "cell_type": "code",
   "execution_count": 6,
   "id": "8bce43cb",
   "metadata": {},
   "outputs": [
    {
     "name": "stdout",
     "output_type": "stream",
     "text": [
      "total 12\n",
      "drwxr-xr-x  3 jupyter-9PXvuHaKCD jupyter-9PXvuHaKCD 4096 oct  7 09:57 .\n",
      "drwxr-x--- 22 jupyter-9PXvuHaKCD jupyter-9PXvuHaKCD 4096 oct  7 09:57 ..\n",
      "drwxr-xr-x  7 jupyter-9PXvuHaKCD jupyter-9PXvuHaKCD 4096 oct  7 09:57 .git\n"
     ]
    }
   ],
   "source": [
    "#II.4\n",
    "# Muestra el contenido del directorio actual.\n",
    "# NOTA:: Usa la opción adecuada para mostrar **TODOS** \n",
    "# los ficheros y directorios (incluyendo los ocultos)\n",
    "ls -la"
   ]
  },
  {
   "cell_type": "markdown",
   "id": "c1c769a9-594c-490b-ae7f-70bca3daa281",
   "metadata": {},
   "source": [
    "Deberías observar en la salida del comando anterior que tras ejecutar `git init` se ha creado un directorio oculto llamado `.git`."
   ]
  },
  {
   "cell_type": "code",
   "execution_count": 7,
   "id": "34019ca2",
   "metadata": {},
   "outputs": [
    {
     "name": "stdout",
     "output_type": "stream",
     "text": [
      "branches  config  description  HEAD  hooks  info  objects  refs\n"
     ]
    }
   ],
   "source": [
    "#II.5\n",
    "# Muestra el contenido del subdirectorio \".git\"\n",
    "ls .git"
   ]
  },
  {
   "cell_type": "code",
   "execution_count": 8,
   "id": "a49e7a8c",
   "metadata": {},
   "outputs": [],
   "source": [
    "#II.6\n",
    "# Crea un fichero vacío llamado AUTHORS\n",
    "touch AUTHORS"
   ]
  },
  {
   "cell_type": "code",
   "execution_count": 9,
   "id": "542bbc8b",
   "metadata": {},
   "outputs": [
    {
     "name": "stdout",
     "output_type": "stream",
     "text": [
      "En la rama main\n",
      "\n",
      "No hay commits todavía\n",
      "\n",
      "Archivos sin seguimiento:\n",
      "  (usa \"git add <archivo>...\" para incluirlo a lo que será confirmado)\n",
      "\tAUTHORS\n",
      "\n",
      "no hay nada agregado al commit pero hay archivos sin seguimiento presentes (usa \"git add\" para hacerles seguimiento)\n"
     ]
    }
   ],
   "source": [
    "#II.7\n",
    "# Muestra el estado del árbol de trabajo y\n",
    "# observa en qué estado está el fichero AUTHORS\n",
    "git status"
   ]
  },
  {
   "cell_type": "code",
   "execution_count": 10,
   "id": "28c95973",
   "metadata": {},
   "outputs": [],
   "source": [
    "#II.8\n",
    "# Crea un directorio llamado practica2\n",
    "mkdir practica2"
   ]
  },
  {
   "cell_type": "code",
   "execution_count": 11,
   "id": "6476d087",
   "metadata": {},
   "outputs": [],
   "source": [
    "#II.9\n",
    "# Crea otro fichero vacío llamado \"lista_comandos.txt\" \n",
    "# en el directorio `practica2`\n",
    "cd practica2"
   ]
  },
  {
   "cell_type": "code",
   "execution_count": 12,
   "id": "d4f9c43b-0d35-416d-bba6-41014734ddec",
   "metadata": {},
   "outputs": [],
   "source": [
    "#II.10\n",
    "touch lista_comandos.txt"
   ]
  },
  {
   "cell_type": "code",
   "execution_count": 13,
   "id": "04b4e4f6",
   "metadata": {},
   "outputs": [
    {
     "name": "stdout",
     "output_type": "stream",
     "text": [
      "En la rama main\n",
      "\n",
      "No hay commits todavía\n",
      "\n",
      "Archivos sin seguimiento:\n",
      "  (usa \"git add <archivo>...\" para incluirlo a lo que será confirmado)\n",
      "\t../AUTHORS\n",
      "\t./\n",
      "\n",
      "no hay nada agregado al commit pero hay archivos sin seguimiento presentes (usa \"git add\" para hacerles seguimiento)\n"
     ]
    }
   ],
   "source": [
    "#II.11\n",
    "# Muestra el estado del árbol de trabajo y\n",
    "# observa en qué estado está el fichero AUTHORS\n",
    "git status"
   ]
  },
  {
   "cell_type": "code",
   "execution_count": 14,
   "id": "53cc5cb2",
   "metadata": {},
   "outputs": [],
   "source": [
    "#II.12\n",
    "# Añade el fichero AUTHORS (actualmente vacío) al índice\n",
    "git add ../AUTHORS"
   ]
  },
  {
   "cell_type": "code",
   "execution_count": 15,
   "id": "fa38c765",
   "metadata": {},
   "outputs": [
    {
     "name": "stdout",
     "output_type": "stream",
     "text": [
      "En la rama main\n",
      "\n",
      "No hay commits todavía\n",
      "\n",
      "Cambios a ser confirmados:\n",
      "  (usa \"git rm --cached <archivo>...\" para sacar del área de stage)\n",
      "\tnuevos archivos: ../AUTHORS\n",
      "\n",
      "Archivos sin seguimiento:\n",
      "  (usa \"git add <archivo>...\" para incluirlo a lo que será confirmado)\n",
      "\t./\n",
      "\n"
     ]
    }
   ],
   "source": [
    "# Muestra el estado del árbol de trabajo y observa\n",
    "# el nuevo estado del fichero AUTHORS\n",
    "git status"
   ]
  },
  {
   "cell_type": "markdown",
   "id": "546716b0-a233-4b15-af69-6fb15676aae0",
   "metadata": {},
   "source": [
    "#II.13\n",
    "Observa que el fichero `AUTHORS` debería haber pasado de estar *ignorado* a ser parte del área de índice o stage (*candidato* a ser confirmado)."
   ]
  },
  {
   "cell_type": "code",
   "execution_count": 16,
   "id": "c2649bb5",
   "metadata": {},
   "outputs": [
    {
     "name": "stdout",
     "output_type": "stream",
     "text": [
      "[main (commit-raíz) 3fa3624] Añadiendo AUTHORS vacío\n",
      " 1 file changed, 0 insertions(+), 0 deletions(-)\n",
      " create mode 100644 AUTHORS\n"
     ]
    }
   ],
   "source": [
    "#II.14\n",
    "# Confirma los cambios al repositorio. Recuerda usar\n",
    "# la opción -m seguida del mensaje de commit entrecomillado\n",
    "# (p.ej., \"añadiendo fichero con autores vacío\")\n",
    "git commit -m \"Añadiendo AUTHORS vacío\""
   ]
  },
  {
   "cell_type": "code",
   "execution_count": 17,
   "id": "897f2853",
   "metadata": {},
   "outputs": [
    {
     "name": "stdout",
     "output_type": "stream",
     "text": [
      "En la rama main\n",
      "Archivos sin seguimiento:\n",
      "  (usa \"git add <archivo>...\" para incluirlo a lo que será confirmado)\n",
      "\t./\n",
      "\n",
      "no hay nada agregado al commit pero hay archivos sin seguimiento presentes (usa \"git add\" para hacerles seguimiento)\n"
     ]
    }
   ],
   "source": [
    "# Muestra el estado del árbol de trabajo\n",
    "git status"
   ]
  },
  {
   "cell_type": "code",
   "execution_count": 18,
   "id": "20674efd-2b5c-4ffc-9a08-b008e8e07b71",
   "metadata": {},
   "outputs": [],
   "source": [
    "#II.15\n",
    "# Añade una línea al fichero `AUTHORS` ejecutando esta celda:\n",
    "echo \"Nombre Apellido\" >> AUTHORS"
   ]
  },
  {
   "cell_type": "code",
   "execution_count": 19,
   "id": "8d2f1cb2-ab14-42cc-9753-2b03d3eae3a0",
   "metadata": {},
   "outputs": [],
   "source": [
    "#II.16\n",
    "cd ../"
   ]
  },
  {
   "cell_type": "code",
   "execution_count": 20,
   "id": "d9fe058a-24cf-4caf-adc1-6ec9e9ce4891",
   "metadata": {},
   "outputs": [],
   "source": [
    "#II.17\n",
    "# Muestra los cambios en el fichero `AUTHORS`\n",
    "cat AUTHORS"
   ]
  },
  {
   "cell_type": "code",
   "execution_count": 21,
   "id": "9b649178-91cb-45d2-96b8-99499e99330b",
   "metadata": {},
   "outputs": [],
   "source": [
    "git diff AUTHORS"
   ]
  },
  {
   "cell_type": "code",
   "execution_count": 22,
   "id": "2feaf35f-4fa7-4da1-af36-baf33b7eb69d",
   "metadata": {},
   "outputs": [],
   "source": [
    "# Deshaz los cambios en el fichero `AUTHORS`\n",
    "git restore AUTHORS"
   ]
  },
  {
   "cell_type": "code",
   "execution_count": 23,
   "id": "73c7fa59-47b7-4ea6-903e-726de4683538",
   "metadata": {},
   "outputs": [],
   "source": [
    "#II.18\n",
    "# Muestra el contenido del fichero `AUTHORS`\n",
    "cat AUTHORS"
   ]
  },
  {
   "cell_type": "markdown",
   "id": "32eff9c5-64a9-4e15-a2ad-c74e5832f0c6",
   "metadata": {},
   "source": [
    "#II.19\n",
    "Ahora añade tu nombre y apellidos y haz los pasos necesarios para confirmar el cambio al repositorio."
   ]
  },
  {
   "cell_type": "code",
   "execution_count": 24,
   "id": "508ed25c-2a47-4119-9b1e-cb61a0294bfb",
   "metadata": {},
   "outputs": [],
   "source": [
    "#II.20\n",
    "# Añadimos nombre y apellidos (edita y pon los tuyos)\n",
    "echo \"Domingo Consentino\" >> AUTHORS"
   ]
  },
  {
   "cell_type": "code",
   "execution_count": 25,
   "id": "6bbee57c-0e87-4e0f-ae60-c8c6ccebe8f4",
   "metadata": {},
   "outputs": [],
   "source": [
    "#II.21\n",
    "git add AUTHORS"
   ]
  },
  {
   "cell_type": "code",
   "execution_count": 26,
   "id": "6d9d6b9c-d8e7-4cdf-a2c9-5d81693906ad",
   "metadata": {},
   "outputs": [
    {
     "name": "stdout",
     "output_type": "stream",
     "text": [
      "[main c9bd5ad] Añadiendo nombre a AUTHORS\n",
      " 1 file changed, 1 insertion(+)\n"
     ]
    }
   ],
   "source": [
    "git commit -m \"Añadiendo nombre a AUTHORS\""
   ]
  },
  {
   "cell_type": "code",
   "execution_count": 27,
   "id": "54592108-10cc-4d22-9b58-3b6d8ab69633",
   "metadata": {},
   "outputs": [
    {
     "name": "stdout",
     "output_type": "stream",
     "text": [
      "En la rama main\n",
      "Archivos sin seguimiento:\n",
      "  (usa \"git add <archivo>...\" para incluirlo a lo que será confirmado)\n",
      "\tpractica2/\n",
      "\n",
      "no hay nada agregado al commit pero hay archivos sin seguimiento presentes (usa \"git add\" para hacerles seguimiento)\n"
     ]
    }
   ],
   "source": [
    "#II.22\n",
    "git status"
   ]
  },
  {
   "cell_type": "code",
   "execution_count": 28,
   "id": "f7779f83-e435-48cc-8201-22c6ab8ab0bb",
   "metadata": {},
   "outputs": [
    {
     "name": "stdout",
     "output_type": "stream",
     "text": [
      "commit c9bd5ad51fc26aef510b1aa9ef1615042dbde6e9 (HEAD -> main)\n",
      "Date:   Mon Oct 7 09:58:06 2024 +0200\n",
      "\n",
      "    Añadiendo nombre a AUTHORS\n",
      "\n",
      "commit 3fa3624f1fe388cc6061dd92821bd69fa574fa5a\n",
      "Date:   Mon Oct 7 09:58:01 2024 +0200\n",
      "\n",
      "    Añadiendo AUTHORS vacío\n"
     ]
    }
   ],
   "source": [
    "# Muestra al registro de *commits* al repositorio:\n",
    "git log"
   ]
  },
  {
   "cell_type": "code",
   "execution_count": 29,
   "id": "6c81869a-20cd-4ecd-827e-020677479b1f",
   "metadata": {},
   "outputs": [],
   "source": [
    "# Regresa a tu directorio personal (padre del actual).\n",
    "cd ../"
   ]
  },
  {
   "cell_type": "code",
   "execution_count": 30,
   "id": "9799e73a-b50b-43d6-a9bd-e0bb60a15e79",
   "metadata": {},
   "outputs": [
    {
     "name": "stdout",
     "output_type": "stream",
     "text": [
      "/home/jupyter-9PXvuHaKCD\n"
     ]
    }
   ],
   "source": [
    "# Muestra el directorio actual\n",
    "pwd"
   ]
  },
  {
   "cell_type": "code",
   "execution_count": 31,
   "id": "37c1f89c-0efa-4c5e-8eea-acf55270cbe0",
   "metadata": {},
   "outputs": [
    {
     "name": "stdout",
     "output_type": "stream",
     "text": [
      "fatal: no es un repositorio git (ni ninguno de los directorios superiores): .git\n"
     ]
    },
    {
     "ename": "",
     "evalue": "128",
     "output_type": "error",
     "traceback": []
    }
   ],
   "source": [
    "# Muestra el estado del árbol de trabajo\n",
    "git status "
   ]
  },
  {
   "cell_type": "markdown",
   "id": "98fd1845-bede-4c08-ba44-612dcdf303e2",
   "metadata": {},
   "source": [
    "PREGUNTA: ¿Es posible mostrar el estado del árbol de trabajo del repositorio `test-repo` desde el directorio actual? ¿Por qué?\n",
    "\n",
    "RESPUESTA: No, porque no puedes hacer el git status sin estar en 'test-repo' ya que es el directorio personal no es un repositorio git\n",
    "\n"
   ]
  },
  {
   "cell_type": "markdown",
   "id": "ef459484-03b5-49ea-bf7c-658c33e5d73d",
   "metadata": {},
   "source": [
    "Vamos a copiar un fichero cualquiera de configuración al directorio del usuario, ejecutando la siguiente celda:"
   ]
  },
  {
   "cell_type": "code",
   "execution_count": 32,
   "id": "fbc8d42f-d742-4e79-9f47-ab986231c4e7",
   "metadata": {},
   "outputs": [],
   "source": [
    "# Copiamos un fichero cualquiera\n",
    "cp /etc/hosts ."
   ]
  },
  {
   "cell_type": "code",
   "execution_count": 33,
   "id": "6d4a178c-e6a6-4242-9c9c-f77eaeaa4e39",
   "metadata": {},
   "outputs": [
    {
     "name": "stdout",
     "output_type": "stream",
     "text": [
      "127.0.0.1 localhost\n",
      "\n",
      "# The following lines are desirable for IPv6 capable hosts\n",
      "::1 ip6-localhost ip6-loopback\n",
      "fe00::0 ip6-localnet\n",
      "ff00::0 ip6-mcastprefix\n",
      "ff02::1 ip6-allnodes\n",
      "ff02::2 ip6-allrouters\n",
      "ff02::3 ip6-allhosts\n",
      "169.254.169.254 metadata.google.internal metadata\n"
     ]
    }
   ],
   "source": [
    "#II.23\n",
    "# Mostramos las primeras líneas del fichero descargado\n",
    "head hosts"
   ]
  },
  {
   "cell_type": "markdown",
   "id": "0fd5ce13-217c-4cac-91c8-187a17a1fb2d",
   "metadata": {},
   "source": [
    "Mostramos la ubicación del fichero copiado (su ruta absoluta):"
   ]
  },
  {
   "cell_type": "code",
   "execution_count": 34,
   "id": "1390ce41-9f5a-42e4-96f2-a4daab326788",
   "metadata": {},
   "outputs": [
    {
     "name": "stdout",
     "output_type": "stream",
     "text": [
      "/home/jupyter-9PXvuHaKCD/hosts\n"
     ]
    }
   ],
   "source": [
    "readlink -f hosts"
   ]
  },
  {
   "cell_type": "markdown",
   "id": "71888ede-bcd3-4f8a-b6c9-e111962ef65f",
   "metadata": {},
   "source": [
    "Ahora vamos a tratar de añadir el fichero `hosts` al repositorio."
   ]
  },
  {
   "cell_type": "code",
   "execution_count": 35,
   "id": "cc23fd1c-f4bb-404a-b275-33075a148a64",
   "metadata": {},
   "outputs": [],
   "source": [
    "#II.24\n",
    "# Entrar en el directorio `test-repo` donde hemos creado el repositorio.\n",
    "cd test-repo"
   ]
  },
  {
   "cell_type": "code",
   "execution_count": 36,
   "id": "1bddec72-f157-4f29-977c-496dfd8f5e2c",
   "metadata": {},
   "outputs": [
    {
     "name": "stdout",
     "output_type": "stream",
     "text": [
      "/home/jupyter-9PXvuHaKCD/test-repo\n"
     ]
    }
   ],
   "source": [
    "#II.25\n",
    "pwd"
   ]
  },
  {
   "cell_type": "code",
   "execution_count": 37,
   "id": "01b42719-2555-4f34-9411-e666299d7ffb",
   "metadata": {},
   "outputs": [
    {
     "name": "stdout",
     "output_type": "stream",
     "text": [
      "fatal: ../hosts: '../hosts' está fuera del repositorio en '/home/jupyter-9PXvuHaKCD/test-repo'\n"
     ]
    },
    {
     "ename": "",
     "evalue": "128",
     "output_type": "error",
     "traceback": []
    }
   ],
   "source": [
    "#II.26\n",
    "# tratamos de añadir el fichero al repositorio.\n",
    "git add ../hosts"
   ]
  },
  {
   "cell_type": "markdown",
   "id": "9f24b24f-7ce6-45ba-ade6-c3f14cd3aa3f",
   "metadata": {},
   "source": [
    "PREGUNTA: ¿Podemos añadirlo directamente a nuestro repositorio `test-repo`? ¿Por qué?\n",
    "\n",
    "RESPUESTA: Porque el fichero no esta en el directorio 'test-repo'\n",
    "\n"
   ]
  },
  {
   "cell_type": "code",
   "execution_count": 38,
   "id": "a5664ff0-fb45-4ec2-9de6-01aec98ee246",
   "metadata": {},
   "outputs": [
    {
     "name": "stdout",
     "output_type": "stream",
     "text": [
      "buenas       fc-alumno                         listadolargorecientes\n",
      "cu           ficheros_ejemplo                  listadoprogramas\n",
      "desktop      ficheros_ejemplo.zip              myfirstrepo\n",
      "directorio0  ficherosololectura                noexiste\n",
      "directorio1  geografia-murciana                p2-ejercicio\n",
      "directorio2  hello                             SALUDO\n",
      "directorio3  hello2                            test-repo\n",
      "downloads    hosts                             tmp\n",
      "empty        jupyter-9PXvuHaKCD\n"
     ]
    }
   ],
   "source": [
    "#II.27\n",
    "ls .."
   ]
  },
  {
   "cell_type": "markdown",
   "id": "cabed57f-1ba1-4fdb-b580-e23fdf7ce0ed",
   "metadata": {},
   "source": [
    "Realiza los pasos necesarios para añadir el fichero `hosts` al repositorio `test-repo`, mostrando el estado del árbol de trabajo cada vez que cambie:"
   ]
  },
  {
   "cell_type": "code",
   "execution_count": 39,
   "id": "84d0e29a-15d2-4ca9-a588-a172e816fe42",
   "metadata": {},
   "outputs": [],
   "source": [
    "#II.28\n",
    "# Paso 1: Moverlo dentro del directorio del repositorio\n",
    "mv ../hosts ."
   ]
  },
  {
   "cell_type": "code",
   "execution_count": 40,
   "id": "1699f6dd-3e96-4b5c-9c6b-c97d88bde397",
   "metadata": {},
   "outputs": [
    {
     "name": "stdout",
     "output_type": "stream",
     "text": [
      "AUTHORS  hosts  practica2\n"
     ]
    }
   ],
   "source": [
    "ls "
   ]
  },
  {
   "cell_type": "code",
   "execution_count": 41,
   "id": "a1b314c6-29aa-4617-b78b-9674da5d0a6c",
   "metadata": {},
   "outputs": [
    {
     "name": "stdout",
     "output_type": "stream",
     "text": [
      "En la rama main\n",
      "Archivos sin seguimiento:\n",
      "  (usa \"git add <archivo>...\" para incluirlo a lo que será confirmado)\n",
      "\thosts\n",
      "\tpractica2/\n",
      "\n",
      "no hay nada agregado al commit pero hay archivos sin seguimiento presentes (usa \"git add\" para hacerles seguimiento)\n"
     ]
    }
   ],
   "source": [
    "# Paso 2: mostrar estado del fichero (ignorado)\n",
    "git status"
   ]
  },
  {
   "cell_type": "code",
   "execution_count": 42,
   "id": "36cd821c-e671-43c7-838c-fa59ac12f406",
   "metadata": {},
   "outputs": [],
   "source": [
    "# Paso 3: Añadirlo al índice\n",
    "git add hosts"
   ]
  },
  {
   "cell_type": "code",
   "execution_count": 43,
   "id": "aabe3e4d-d302-48bb-838e-4c033469c76f",
   "metadata": {},
   "outputs": [
    {
     "name": "stdout",
     "output_type": "stream",
     "text": [
      "En la rama main\n",
      "Cambios a ser confirmados:\n",
      "  (usa \"git restore --staged <archivo>...\" para sacar del área de stage)\n",
      "\tnuevos archivos: hosts\n",
      "\n",
      "Archivos sin seguimiento:\n",
      "  (usa \"git add <archivo>...\" para incluirlo a lo que será confirmado)\n",
      "\tpractica2/\n",
      "\n"
     ]
    }
   ],
   "source": [
    "#II.29\n",
    "# Paso 4: mostrar que hosts va a ser añadido al repositorio\n",
    "git status"
   ]
  },
  {
   "cell_type": "code",
   "execution_count": 44,
   "id": "19020a2c-2907-43f2-ac06-46f8c7b9903c",
   "metadata": {},
   "outputs": [
    {
     "name": "stdout",
     "output_type": "stream",
     "text": [
      "[main ae69b36] Añadiendo hosts\n",
      " 1 file changed, 10 insertions(+)\n",
      " create mode 100644 hosts\n"
     ]
    }
   ],
   "source": [
    "#II.30\n",
    "# Paso 5: Confirmar nuevo fichero\n",
    "git commit -m \"Añadiendo hosts\""
   ]
  },
  {
   "cell_type": "code",
   "execution_count": 45,
   "id": "dd95ff63-c392-4a86-989e-3936a6aa2ca6",
   "metadata": {},
   "outputs": [
    {
     "name": "stdout",
     "output_type": "stream",
     "text": [
      "total 12\n",
      "-rw-r--r-- 1 jupyter-9PXvuHaKCD jupyter-9PXvuHaKCD   19 oct  7 09:58 AUTHORS\n",
      "-rw-r--r-- 1 jupyter-9PXvuHaKCD jupyter-9PXvuHaKCD  271 oct  7 09:58 hosts\n",
      "drwxr-xr-x 2 jupyter-9PXvuHaKCD jupyter-9PXvuHaKCD 4096 oct  7 09:58 practica2\n"
     ]
    }
   ],
   "source": [
    "#II.31\n",
    "ls -l"
   ]
  },
  {
   "cell_type": "code",
   "execution_count": 46,
   "id": "1e79d93d-9f30-4023-ad6a-c6801b7c881d",
   "metadata": {},
   "outputs": [
    {
     "name": "stdout",
     "output_type": "stream",
     "text": [
      "En la rama main\n",
      "Archivos sin seguimiento:\n",
      "  (usa \"git add <archivo>...\" para incluirlo a lo que será confirmado)\n",
      "\tpractica2/\n",
      "\n",
      "no hay nada agregado al commit pero hay archivos sin seguimiento presentes (usa \"git add\" para hacerles seguimiento)\n"
     ]
    }
   ],
   "source": [
    "#II.32\n",
    "# Muestra el estado del árbol de trabajo\n",
    "git status"
   ]
  },
  {
   "cell_type": "markdown",
   "id": "a982c79f-272f-453a-9244-404766b367f0",
   "metadata": {},
   "source": [
    "Ejecuta la siguiente celda para modificar el fichero que hay en el directorio `practica2`."
   ]
  },
  {
   "cell_type": "code",
   "execution_count": 47,
   "id": "28580ab3-3c06-4982-86bd-f5c306625890",
   "metadata": {},
   "outputs": [],
   "source": [
    "echo \"ls\" >> practica2/lista_comandos.txt"
   ]
  },
  {
   "cell_type": "markdown",
   "id": "c9ea4edf-ea0f-4440-ac71-e5dcb77152a6",
   "metadata": {},
   "source": [
    "#II.33\n",
    "Sin cambiar de directorio, haz los pasos necesarios para añadir los cambios en el fichero `lista_comandos.txt` al índice y luego al repositorio, mostrando el estado del árbol de trabajo tras cada cambio."
   ]
  },
  {
   "cell_type": "code",
   "execution_count": 48,
   "id": "d6253ccd-1de7-4b6f-8ecb-4c2bbc4b2892",
   "metadata": {},
   "outputs": [
    {
     "name": "stdout",
     "output_type": "stream",
     "text": [
      "AUTHORS  hosts  practica2\n"
     ]
    }
   ],
   "source": [
    "#II.34\n",
    "ls"
   ]
  },
  {
   "cell_type": "code",
   "execution_count": 49,
   "id": "a984e222-1825-4b43-a10a-72b765e2829f",
   "metadata": {},
   "outputs": [],
   "source": [
    "git add practica2/lista_comandos.txt"
   ]
  },
  {
   "cell_type": "code",
   "execution_count": 50,
   "id": "a5ed9540-86d1-4ac1-9a88-feeccd0068ea",
   "metadata": {},
   "outputs": [
    {
     "name": "stdout",
     "output_type": "stream",
     "text": [
      "En la rama main\n",
      "Cambios a ser confirmados:\n",
      "  (usa \"git restore --staged <archivo>...\" para sacar del área de stage)\n",
      "\tnuevos archivos: practica2/lista_comandos.txt\n",
      "\n",
      "Archivos sin seguimiento:\n",
      "  (usa \"git add <archivo>...\" para incluirlo a lo que será confirmado)\n",
      "\tpractica2/AUTHORS\n",
      "\n"
     ]
    }
   ],
   "source": [
    "git status"
   ]
  },
  {
   "cell_type": "code",
   "execution_count": 51,
   "id": "52eb3163-1d8f-4041-ba44-8cfbea0f28a7",
   "metadata": {},
   "outputs": [
    {
     "name": "stdout",
     "output_type": "stream",
     "text": [
      "[main d6dabb6] Añadiendo lista_comandos.txt\n",
      " 1 file changed, 1 insertion(+)\n",
      " create mode 100644 practica2/lista_comandos.txt\n"
     ]
    }
   ],
   "source": [
    "#II.35\n",
    "git commit -m \"Añadiendo lista_comandos.txt\""
   ]
  },
  {
   "cell_type": "code",
   "execution_count": 52,
   "id": "ea0a0aef-dc8f-4c62-b187-4bc93b8e1d61",
   "metadata": {},
   "outputs": [
    {
     "name": "stdout",
     "output_type": "stream",
     "text": [
      "En la rama main\n",
      "Archivos sin seguimiento:\n",
      "  (usa \"git add <archivo>...\" para incluirlo a lo que será confirmado)\n",
      "\tpractica2/AUTHORS\n",
      "\n",
      "no hay nada agregado al commit pero hay archivos sin seguimiento presentes (usa \"git add\" para hacerles seguimiento)\n"
     ]
    }
   ],
   "source": [
    "#II.36\n",
    "# Muestra el estado de los ficheros del árbol de trabajo\n",
    "git status"
   ]
  },
  {
   "cell_type": "code",
   "execution_count": 53,
   "id": "db95d09a-aeb1-4c64-8d46-b9915d05e6ce",
   "metadata": {},
   "outputs": [],
   "source": [
    "#II.37\n",
    "# Ejecuta esta celda para seguir añadiendo comandos del shell al fichero anterior.\n",
    "echo \"cat\" >> practica2/lista_comandos.txt"
   ]
  },
  {
   "cell_type": "code",
   "execution_count": 54,
   "id": "b2f82334-6405-4b7a-88d1-510c79b5277a",
   "metadata": {},
   "outputs": [],
   "source": [
    "#II.38\n",
    "# Ejecuta esta celda para crear otro fichero con comandos de git.\n",
    "echo \"git init\" > practica2/lista_comandos_git.txt"
   ]
  },
  {
   "cell_type": "code",
   "execution_count": 55,
   "id": "2057f567-83c6-4a88-a31d-b5f0a43cdb9b",
   "metadata": {},
   "outputs": [
    {
     "name": "stdout",
     "output_type": "stream",
     "text": [
      "En la rama main\n",
      "Cambios no rastreados para el commit:\n",
      "  (usa \"git add <archivo>...\" para actualizar lo que será confirmado)\n",
      "  (usa \"git restore <archivo>...\" para descartar los cambios en el directorio de trabajo)\n",
      "\tmodificados:     practica2/lista_comandos.txt\n",
      "\n",
      "Archivos sin seguimiento:\n",
      "  (usa \"git add <archivo>...\" para incluirlo a lo que será confirmado)\n",
      "\tpractica2/AUTHORS\n",
      "\tpractica2/lista_comandos_git.txt\n",
      "\n",
      "sin cambios agregados al commit (usa \"git add\" y/o \"git commit -a\")\n"
     ]
    }
   ],
   "source": [
    "# Muestra el estado de los ficheros del árbol de trabajo\n",
    "git status"
   ]
  },
  {
   "cell_type": "code",
   "execution_count": 56,
   "id": "781b954b-2236-45e7-859b-10b5c18c155a",
   "metadata": {},
   "outputs": [
    {
     "name": "stdout",
     "output_type": "stream",
     "text": [
      "AUTHORS  lista_comandos_git.txt  lista_comandos.txt\n"
     ]
    }
   ],
   "source": [
    "#II.39\n",
    "ls practica2"
   ]
  },
  {
   "cell_type": "code",
   "execution_count": 57,
   "id": "808c9dcd-ef61-45e5-8f43-e3d011dfb30c",
   "metadata": {},
   "outputs": [
    {
     "name": "stdout",
     "output_type": "stream",
     "text": [
      "diff --git a/practica2/lista_comandos.txt b/practica2/lista_comandos.txt\n",
      "index 9e2740c..b8a4987 100644\n",
      "--- a/practica2/lista_comandos.txt\n",
      "+++ b/practica2/lista_comandos.txt\n",
      "@@ -1 +1,2 @@\n",
      " ls\n",
      "+cat\n"
     ]
    }
   ],
   "source": [
    "#II.40\n",
    "# Muestra los cambios en el directorio `practica2`.\n",
    "git diff practica2"
   ]
  },
  {
   "cell_type": "markdown",
   "id": "749722f5-b952-492b-ab02-690462975121",
   "metadata": {},
   "source": [
    "PREGUNTA: ¿Por qué no aparecen los cambios en el fichero `lista_comandos_git.txt`, pero sí el cambio en `lista_comandos.txt`?\n",
    "\n",
    "RESPUESTA: Porque lista_comandos_git.txt no esta añadida al repositorio\n",
    "\n"
   ]
  },
  {
   "cell_type": "markdown",
   "id": "3c4c2e25-0df1-4686-bf51-9acfab16672c",
   "metadata": {},
   "source": [
    "Añade el fichero de la lista de comandos de Git al índice, muestra el estado del árbol de trabajo y luego confirma el añadido."
   ]
  },
  {
   "cell_type": "code",
   "execution_count": 58,
   "id": "7e329b73-63f4-4c53-b891-0f3b53e2f2f1",
   "metadata": {},
   "outputs": [],
   "source": [
    "# Paso 1: añadir\n",
    "git add practica2/lista_comandos_git.txt"
   ]
  },
  {
   "cell_type": "code",
   "execution_count": 59,
   "id": "c3e61aca-c3f9-498d-a984-e42597dfa91d",
   "metadata": {},
   "outputs": [
    {
     "name": "stdout",
     "output_type": "stream",
     "text": [
      "En la rama main\n",
      "Cambios a ser confirmados:\n",
      "  (usa \"git restore --staged <archivo>...\" para sacar del área de stage)\n",
      "\tnuevos archivos: practica2/lista_comandos_git.txt\n",
      "\n",
      "Cambios no rastreados para el commit:\n",
      "  (usa \"git add <archivo>...\" para actualizar lo que será confirmado)\n",
      "  (usa \"git restore <archivo>...\" para descartar los cambios en el directorio de trabajo)\n",
      "\tmodificados:     practica2/lista_comandos.txt\n",
      "\n",
      "Archivos sin seguimiento:\n",
      "  (usa \"git add <archivo>...\" para incluirlo a lo que será confirmado)\n",
      "\tpractica2/AUTHORS\n",
      "\n"
     ]
    }
   ],
   "source": [
    "#II.41\n",
    "# Paso 2: estado\n",
    "git status"
   ]
  },
  {
   "cell_type": "code",
   "execution_count": 60,
   "id": "98a2f7e7-4b3b-4d82-a117-904083f7cd0f",
   "metadata": {},
   "outputs": [
    {
     "name": "stdout",
     "output_type": "stream",
     "text": [
      "[main 9b014f7] Añadiendo lista_comandos.txt\n",
      " 1 file changed, 1 insertion(+)\n",
      " create mode 100644 practica2/lista_comandos_git.txt\n"
     ]
    }
   ],
   "source": [
    "# Paso 3: Confirmar\n",
    "git commit -m \"Añadiendo lista_comandos.txt\""
   ]
  },
  {
   "cell_type": "code",
   "execution_count": 61,
   "id": "bb4c927b-47c1-446d-87c7-304eb2e4e527",
   "metadata": {},
   "outputs": [
    {
     "name": "stdout",
     "output_type": "stream",
     "text": [
      "commit 9b014f7d0f634686c4d68fc6b32ea9cd61033935 (HEAD -> main)\n",
      "Date:   Mon Oct 7 09:58:35 2024 +0200\n",
      "\n",
      "    Añadiendo lista_comandos.txt\n",
      "\n",
      "commit d6dabb6aecb37fcf64a2dbc29065cf7bd6e4c4c2\n",
      "Date:   Mon Oct 7 09:58:22 2024 +0200\n",
      "\n",
      "    Añadiendo lista_comandos.txt\n",
      "\n",
      "commit ae69b36e1bd23be89f49c3810d2c3ef2d54cc846\n",
      "Date:   Mon Oct 7 09:58:18 2024 +0200\n",
      "\n",
      "    Añadiendo hosts\n",
      "\n",
      "commit c9bd5ad51fc26aef510b1aa9ef1615042dbde6e9\n",
      "Date:   Mon Oct 7 09:58:06 2024 +0200\n",
      "\n",
      "    Añadiendo nombre a AUTHORS\n",
      "\n",
      "commit 3fa3624f1fe388cc6061dd92821bd69fa574fa5a\n",
      "Date:   Mon Oct 7 09:58:01 2024 +0200\n",
      "\n",
      "    Añadiendo AUTHORS vacío\n"
     ]
    }
   ],
   "source": [
    "# Muestra el registro de commits hasta el momento\n",
    "git log"
   ]
  },
  {
   "cell_type": "markdown",
   "id": "32cf43b1-408d-43f8-b139-1607137386a2",
   "metadata": {},
   "source": [
    "Añade al índice los cambios en `lista_comandos.txt`, muestra el estado y luego muestra las diferencias con `git diff`:"
   ]
  },
  {
   "cell_type": "code",
   "execution_count": 62,
   "id": "6578006e-1129-4d41-b2fd-e3f825d79631",
   "metadata": {},
   "outputs": [],
   "source": [
    "# Paso 1: añadir\n",
    "git add practica2/lista_comandos.txt"
   ]
  },
  {
   "cell_type": "code",
   "execution_count": 63,
   "id": "e47dc5c9-c3fd-4486-8d31-1e8c209adc74",
   "metadata": {},
   "outputs": [
    {
     "name": "stdout",
     "output_type": "stream",
     "text": [
      "En la rama main\n",
      "Cambios a ser confirmados:\n",
      "  (usa \"git restore --staged <archivo>...\" para sacar del área de stage)\n",
      "\tmodificados:     practica2/lista_comandos.txt\n",
      "\n",
      "Archivos sin seguimiento:\n",
      "  (usa \"git add <archivo>...\" para incluirlo a lo que será confirmado)\n",
      "\tpractica2/AUTHORS\n",
      "\n"
     ]
    }
   ],
   "source": [
    "# Paso 2: estado\n",
    "git status"
   ]
  },
  {
   "cell_type": "code",
   "execution_count": 64,
   "id": "53a7cf78-5d1a-4c4e-b928-f376bb14ef9d",
   "metadata": {},
   "outputs": [],
   "source": [
    "# Ejecuta esta celda:\n",
    "git diff"
   ]
  },
  {
   "cell_type": "markdown",
   "id": "8b5eb524-225f-4390-8014-7bc5f71b9c25",
   "metadata": {},
   "source": [
    "#II.42\n",
    "PREGUNTA: ¿Por qué el `git diff` anterior no muestra nada?\n",
    "\n",
    "RESPUESTA: Porque estas ejecutando git diff en 'test-repo' que no ha sido modificado\n",
    "\n"
   ]
  },
  {
   "cell_type": "markdown",
   "id": "c72586ef-55c1-4c5e-a132-cb6bdf0195a2",
   "metadata": {},
   "source": [
    "#II.43\n",
    "Muestra los cambios en el fichero que han sido añadidos al índice (diferencia entre el índice y el repositorio):"
   ]
  },
  {
   "cell_type": "code",
   "execution_count": 65,
   "id": "96bff157-7015-40f5-819c-25118ecbdecc",
   "metadata": {},
   "outputs": [
    {
     "name": "stdout",
     "output_type": "stream",
     "text": [
      "diff --git a/practica2/lista_comandos.txt b/practica2/lista_comandos.txt\n",
      "index 9e2740c..b8a4987 100644\n",
      "--- a/practica2/lista_comandos.txt\n",
      "+++ b/practica2/lista_comandos.txt\n",
      "@@ -1 +1,2 @@\n",
      " ls\n",
      "+cat\n"
     ]
    }
   ],
   "source": [
    "#II.44\n",
    "git diff --staged practica2/lista_comandos.txt"
   ]
  },
  {
   "cell_type": "markdown",
   "id": "04dc1925-3356-4426-af2c-72516af650f7",
   "metadata": {},
   "source": [
    "Vamos a modificar de nuevo el fichero en nuestro árbol de trabajo, añadiendo un nuevo comando de *Bash*. "
   ]
  },
  {
   "cell_type": "code",
   "execution_count": 66,
   "id": "8d7d0bc9-97ab-44d1-9c63-5ebd49c87e82",
   "metadata": {},
   "outputs": [],
   "source": [
    "#II.45\n",
    "echo \"find\" >> practica2/lista_comandos.txt"
   ]
  },
  {
   "cell_type": "markdown",
   "id": "fb7c7e68-b2dc-4ad6-8a1e-28864375904e",
   "metadata": {},
   "source": [
    "Ahora, ejecuta la siguiente celda y explica lo que ves:"
   ]
  },
  {
   "cell_type": "code",
   "execution_count": 67,
   "id": "876d3504-d71e-44bd-a95a-25d9f38de3c8",
   "metadata": {},
   "outputs": [
    {
     "name": "stdout",
     "output_type": "stream",
     "text": [
      "diff --git a/practica2/lista_comandos.txt b/practica2/lista_comandos.txt\n",
      "index b8a4987..6e1a82d 100644\n",
      "--- a/practica2/lista_comandos.txt\n",
      "+++ b/practica2/lista_comandos.txt\n",
      "@@ -1,2 +1,3 @@\n",
      " ls\n",
      " cat\n",
      "+find\n"
     ]
    }
   ],
   "source": [
    "#II.46\n",
    "git diff"
   ]
  },
  {
   "cell_type": "markdown",
   "id": "74427941-0acb-4a0d-b1c6-6d98b64faf59",
   "metadata": {},
   "source": [
    "#II.47\n",
    "PREGUNTA: ¿Por qué `git diff` sólo muestra el añadido del comando \"find\", pero no del `cat`?\n",
    "\n",
    "RESPUESTA: Porque muestra la última versión del fichero modificado en el repositorio\n",
    "\n"
   ]
  },
  {
   "cell_type": "markdown",
   "id": "010425f6-936e-4329-888b-476fea050fc4",
   "metadata": {},
   "source": [
    "Vuelve a sacar el fichero del índice y muestra el estado otra vez:"
   ]
  },
  {
   "cell_type": "code",
   "execution_count": 68,
   "id": "e44195f5-7bbe-4b95-bdd4-c0a7df66f393",
   "metadata": {},
   "outputs": [],
   "source": [
    "#II.48\n",
    "# Paso 3: Sacar del índice\n",
    "git restore --staged practica2/lista_comandos.txt"
   ]
  },
  {
   "cell_type": "code",
   "execution_count": 69,
   "id": "f4a06373-4d86-42f2-b8fd-b220a48ac958",
   "metadata": {},
   "outputs": [
    {
     "name": "stdout",
     "output_type": "stream",
     "text": [
      "En la rama main\n",
      "Cambios no rastreados para el commit:\n",
      "  (usa \"git add <archivo>...\" para actualizar lo que será confirmado)\n",
      "  (usa \"git restore <archivo>...\" para descartar los cambios en el directorio de trabajo)\n",
      "\tmodificados:     practica2/lista_comandos.txt\n",
      "\n",
      "Archivos sin seguimiento:\n",
      "  (usa \"git add <archivo>...\" para incluirlo a lo que será confirmado)\n",
      "\tpractica2/AUTHORS\n",
      "\n",
      "sin cambios agregados al commit (usa \"git add\" y/o \"git commit -a\")\n"
     ]
    }
   ],
   "source": [
    "#II.49\n",
    "# Paso 4: Estado\n",
    "git status"
   ]
  },
  {
   "cell_type": "code",
   "execution_count": 70,
   "id": "a7433e27-ce63-482e-b006-684151b9a683",
   "metadata": {},
   "outputs": [
    {
     "name": "stdout",
     "output_type": "stream",
     "text": [
      "diff --git a/practica2/lista_comandos.txt b/practica2/lista_comandos.txt\n",
      "index 9e2740c..6e1a82d 100644\n",
      "--- a/practica2/lista_comandos.txt\n",
      "+++ b/practica2/lista_comandos.txt\n",
      "@@ -1 +1,3 @@\n",
      " ls\n",
      "+cat\n",
      "+find\n"
     ]
    }
   ],
   "source": [
    "#II.50\n",
    "# Muestra los cambios realizados en el fichero:\n",
    "git diff practica2/lista_comandos.txt"
   ]
  },
  {
   "cell_type": "markdown",
   "id": "359d2ae9-531f-4f11-9972-af563817174d",
   "metadata": {},
   "source": [
    "Ahora, descarta los cambios, para que el contenido del fichero vuelva a ser igual a la última versión que fue confirmada al repositorio."
   ]
  },
  {
   "cell_type": "code",
   "execution_count": 71,
   "id": "fe17d266-ef24-4f4a-88c5-5788bbb87379",
   "metadata": {},
   "outputs": [],
   "source": [
    "#II.51\n",
    "# Descartar cambios y volver a la última versión del repositorio\n",
    "git restore practica2/lista_comandos.txt"
   ]
  },
  {
   "cell_type": "markdown",
   "id": "caaf2ce7-ddbc-4502-9609-2571f2096a36",
   "metadata": {},
   "source": [
    "#II.52\n",
    "Comprueba que el fichero con la lista de comandos contiene únicamente el comando \"ls\"."
   ]
  },
  {
   "cell_type": "code",
   "execution_count": 72,
   "id": "57ac4c82-0a9b-4281-9924-29a44d936c6a",
   "metadata": {},
   "outputs": [
    {
     "name": "stdout",
     "output_type": "stream",
     "text": [
      "ls\n"
     ]
    }
   ],
   "source": [
    "# Muestra el contenido del fichero con la lista de comandos del shell\n",
    "cat practica2/lista_comandos.txt"
   ]
  },
  {
   "cell_type": "code",
   "execution_count": 73,
   "id": "06d4c484-1470-4061-8f3b-6a56c7c29564",
   "metadata": {},
   "outputs": [
    {
     "name": "stdout",
     "output_type": "stream",
     "text": [
      "En la rama main\n",
      "Archivos sin seguimiento:\n",
      "  (usa \"git add <archivo>...\" para incluirlo a lo que será confirmado)\n",
      "\tpractica2/AUTHORS\n",
      "\n",
      "no hay nada agregado al commit pero hay archivos sin seguimiento presentes (usa \"git add\" para hacerles seguimiento)\n"
     ]
    }
   ],
   "source": [
    "# Muestra el estado de los ficheros del árbol de trabajo\n",
    "git status"
   ]
  },
  {
   "cell_type": "markdown",
   "id": "0be4ec9b",
   "metadata": {},
   "source": [
    "Ahora cambia el nombre del fichero `lista_comandos.txt` para que pase a llamarse `lista_comandos_bash.txt`, sin cambiarlo de ubicación (debe seguir dentro de `practica2`)"
   ]
  },
  {
   "cell_type": "code",
   "execution_count": 74,
   "id": "6b05a2bb",
   "metadata": {},
   "outputs": [],
   "source": [
    "#II.53\n",
    "# Renombra el fichero en el repositorio\n",
    "git mv practica2/lista_comandos.txt lista_comandos_bash.txt"
   ]
  },
  {
   "cell_type": "code",
   "execution_count": 75,
   "id": "2db7bccc",
   "metadata": {},
   "outputs": [
    {
     "name": "stdout",
     "output_type": "stream",
     "text": [
      "En la rama main\n",
      "Cambios a ser confirmados:\n",
      "  (usa \"git restore --staged <archivo>...\" para sacar del área de stage)\n",
      "\trenombrados:     practica2/lista_comandos.txt -> lista_comandos_bash.txt\n",
      "\n",
      "Archivos sin seguimiento:\n",
      "  (usa \"git add <archivo>...\" para incluirlo a lo que será confirmado)\n",
      "\tpractica2/AUTHORS\n",
      "\n"
     ]
    }
   ],
   "source": [
    "# Muestra el estado de los ficheros del árbol de trabajo\n",
    "git status"
   ]
  },
  {
   "cell_type": "code",
   "execution_count": 76,
   "id": "107e9169",
   "metadata": {},
   "outputs": [
    {
     "name": "stdout",
     "output_type": "stream",
     "text": [
      "[main 7c72b4f] Cambio de nombre\n",
      " 1 file changed, 0 insertions(+), 0 deletions(-)\n",
      " rename practica2/lista_comandos.txt => lista_comandos_bash.txt (100%)\n"
     ]
    }
   ],
   "source": [
    "# Confirma el cambio de nombre en el repositorio\n",
    "git commit -m \"Cambio de nombre\""
   ]
  },
  {
   "cell_type": "markdown",
   "id": "bf89de03-bdfb-44bf-844e-71e50e080cec",
   "metadata": {},
   "source": [
    "Para finalizar, borra el fichero `practica2/lista_comandos_bash.txt` del repositorio:"
   ]
  },
  {
   "cell_type": "code",
   "execution_count": 77,
   "id": "ee8abe2d",
   "metadata": {},
   "outputs": [
    {
     "name": "stdout",
     "output_type": "stream",
     "text": [
      "rm 'lista_comandos_bash.txt'\n"
     ]
    }
   ],
   "source": [
    "# Paso 1: borra\n",
    "git rm lista_comandos_bash.txt"
   ]
  },
  {
   "cell_type": "code",
   "execution_count": 78,
   "id": "311f972a",
   "metadata": {},
   "outputs": [
    {
     "name": "stdout",
     "output_type": "stream",
     "text": [
      "En la rama main\n",
      "Cambios a ser confirmados:\n",
      "  (usa \"git restore --staged <archivo>...\" para sacar del área de stage)\n",
      "\tborrados:        lista_comandos_bash.txt\n",
      "\n",
      "Archivos sin seguimiento:\n",
      "  (usa \"git add <archivo>...\" para incluirlo a lo que será confirmado)\n",
      "\tpractica2/AUTHORS\n",
      "\n"
     ]
    }
   ],
   "source": [
    "#II.54\n",
    "# Paso 2: estado\n",
    "git status"
   ]
  },
  {
   "cell_type": "code",
   "execution_count": 79,
   "id": "4b9383b7-9718-4a06-a64b-1b823fd3681f",
   "metadata": {},
   "outputs": [
    {
     "name": "stdout",
     "output_type": "stream",
     "text": [
      "[main 3757d75] Borrando fichero con lista de comandos\n",
      " 1 file changed, 1 deletion(-)\n",
      " delete mode 100644 lista_comandos_bash.txt\n"
     ]
    }
   ],
   "source": [
    "# Paso 3: Confirma\n",
    "git commit -m \"Borrando fichero con lista de comandos\""
   ]
  },
  {
   "cell_type": "code",
   "execution_count": 80,
   "id": "0d2d1209-06d9-4472-a8d3-74860938b4f2",
   "metadata": {},
   "outputs": [
    {
     "name": "stdout",
     "output_type": "stream",
     "text": [
      ".:\n",
      "AUTHORS  hosts  practica2\n",
      "\n",
      "practica2:\n",
      "AUTHORS  lista_comandos_git.txt\n"
     ]
    }
   ],
   "source": [
    "ls . practica2"
   ]
  },
  {
   "cell_type": "code",
   "execution_count": null,
   "id": "56738443-4fad-4950-8d91-5563c886655e",
   "metadata": {},
   "outputs": [],
   "source": [
    "#II.55\n"
   ]
  },
  {
   "cell_type": "markdown",
   "id": "9f898134-96ec-4c11-92a5-79b8b26b4604",
   "metadata": {},
   "source": [
    "## Flujo de trabajo con un repositorio remoto"
   ]
  },
  {
   "cell_type": "code",
   "execution_count": 81,
   "id": "381bf01a-225d-4f7f-8c1f-bdd4740ad179",
   "metadata": {},
   "outputs": [
    {
     "name": "stdout",
     "output_type": "stream",
     "text": [
      "Inicializado repositorio Git vacío en /home/jupyter-9PXvuHaKCD/tmp/geografia-murciana/.git/\n",
      "[main (commit-raíz) d2f3c0e] Añadiendo algunas sierras de la Región de Murcia\n",
      " 1 file changed, 5 insertions(+)\n",
      " create mode 100644 sierras\n"
     ]
    }
   ],
   "source": [
    "#II.56\n",
    "# Ejecuta esta celda para generar un repositorio que actuará como remoto\n",
    "TMP=$HOME/tmp\n",
    "rm -rf $TMP\n",
    "mkdir -p $TMP\n",
    "\n",
    "rm -rf $TMP/murcia\n",
    "mkdir $TMP/murcia\n",
    "cat <<EOF > $TMP/murcia/sierras\n",
    "Sierra de la Almenara\n",
    "Sierra de Burete\n",
    "Sierra del Carche\n",
    "Sierra de Carrascoy\n",
    "Sierra de Columbares\n",
    "EOF\n",
    "\n",
    "cat <<EOF > $TMP/murcia/rios\n",
    "Río Benamor\n",
    "Río Luchena\n",
    "Río Mula\n",
    "Río Quípar\n",
    "EOF\n",
    "\n",
    "cat <<EOF > $TMP/murcia/municipios\n",
    "LISTA DE MUNICIPIOS DE LA REGIÓN DE MURCIA\n",
    "Abanilla\n",
    "Alcantarilla\n",
    "Alhama de Murcia\n",
    "Archena\n",
    "Blanca\n",
    "Fortuna\n",
    "EOF\n",
    "\n",
    "REMOTE=\"$TMP/geografia-murciana\"\n",
    "\n",
    "rm -rf $REMOTE\n",
    "mkdir $REMOTE && cd $REMOTE \n",
    "git init\n",
    "cp $TMP/murcia/sierras .\n",
    "git add sierras\n",
    "git commit -m \"Añadiendo algunas sierras de la Región de Murcia\""
   ]
  },
  {
   "cell_type": "code",
   "execution_count": 82,
   "id": "8eff94ee-361e-40c1-8e8b-0194c32199af",
   "metadata": {},
   "outputs": [
    {
     "name": "stdout",
     "output_type": "stream",
     "text": [
      "total 12\n",
      "-rw-r--r-- 1 jupyter-9PXvuHaKCD jupyter-9PXvuHaKCD 106 oct  7 09:59 municipios\n",
      "-rw-r--r-- 1 jupyter-9PXvuHaKCD jupyter-9PXvuHaKCD  49 oct  7 09:59 rios\n",
      "-rw-r--r-- 1 jupyter-9PXvuHaKCD jupyter-9PXvuHaKCD  98 oct  7 09:59 sierras\n"
     ]
    }
   ],
   "source": [
    "#II.57\n",
    "ls -l $TMP/murcia"
   ]
  },
  {
   "cell_type": "code",
   "execution_count": 83,
   "id": "0e6cddb0-cbd7-491b-a90e-60e1c8077042",
   "metadata": {},
   "outputs": [],
   "source": [
    "#II.58\n",
    "# Ve a tu directorio personal\n",
    "cd"
   ]
  },
  {
   "cell_type": "code",
   "execution_count": 85,
   "id": "94a78cc6-64ce-4150-9e49-349eeb747f8c",
   "metadata": {},
   "outputs": [],
   "source": [
    "#II.59\n",
    "# Borra recursivamente el directorio \"p2ej\" (en caso de que exista)\n",
    "rm -rf ~/p2-ejercicio"
   ]
  },
  {
   "cell_type": "code",
   "execution_count": 86,
   "id": "9446f6dd-256f-4436-b9d8-7462e905fe13",
   "metadata": {},
   "outputs": [],
   "source": [
    "#II.60\n",
    "# Crea un directorio llamado \"p2-ejercicio\"\n",
    "mkdir p2-ejercicio"
   ]
  },
  {
   "cell_type": "code",
   "execution_count": 87,
   "id": "2c17b607-482d-41ca-aca7-a88a04fe5eb1",
   "metadata": {},
   "outputs": [],
   "source": [
    "#II.61\n",
    "# Accede al directorio que acabas de crear\n",
    "cd p2-ejercicio"
   ]
  },
  {
   "cell_type": "code",
   "execution_count": 88,
   "id": "0f576f39-d1b2-432d-ad4b-bf4b0dfab094",
   "metadata": {},
   "outputs": [
    {
     "name": "stdout",
     "output_type": "stream",
     "text": [
      "/home/jupyter-9PXvuHaKCD/p2-ejercicio\n"
     ]
    }
   ],
   "source": [
    "#II.62\n",
    "pwd"
   ]
  },
  {
   "cell_type": "code",
   "execution_count": 89,
   "id": "c7f9c429-2f5e-4685-8f37-e49220c3d41b",
   "metadata": {},
   "outputs": [
    {
     "name": "stdout",
     "output_type": "stream",
     "text": [
      "Clonando en 'geografia-murciana'...\n",
      "hecho.\n"
     ]
    }
   ],
   "source": [
    "#II.63\n",
    "# Clona el repositorio que hay en ~/tmp/geografia-murciana\n",
    "git clone ~/tmp/geografia-murciana"
   ]
  },
  {
   "cell_type": "code",
   "execution_count": 90,
   "id": "45aed313-c761-406e-9ef3-55c5bcd59aec",
   "metadata": {},
   "outputs": [
    {
     "name": "stdout",
     "output_type": "stream",
     "text": [
      "geografia-murciana\n"
     ]
    }
   ],
   "source": [
    "ls"
   ]
  },
  {
   "cell_type": "code",
   "execution_count": 91,
   "id": "88da6478-5849-4b5d-b4a4-21c8115ec6df",
   "metadata": {},
   "outputs": [
    {
     "name": "stdout",
     "output_type": "stream",
     "text": [
      "Cambiado a rama 'alicante'\n",
      "/home/jupyter-9PXvuHaKCD/p2-ejercicio\n"
     ]
    }
   ],
   "source": [
    "# Ejecuta la siguiente celda antes de continuar con el resto del ejercicio\n",
    "# NOTA: el manejo de ramas en Git está fuera del ámbito de FC\n",
    "cd $REMOTE \n",
    "git branch alicante\n",
    "git switch alicante\n",
    "cd -"
   ]
  },
  {
   "cell_type": "code",
   "execution_count": 92,
   "id": "f1c980f5-03d3-4b66-b917-13852e8c8336",
   "metadata": {},
   "outputs": [],
   "source": [
    "#II.64\n",
    "# Accede al directorio de la copia local del repositorio que acabas de crear\n",
    "cd geografia-murciana"
   ]
  },
  {
   "cell_type": "code",
   "execution_count": 94,
   "id": "b61b5b13-740e-4023-9980-6b018c604d44",
   "metadata": {},
   "outputs": [
    {
     "name": "stdout",
     "output_type": "stream",
     "text": [
      "total 16\n",
      "drwxr-xr-x 3 jupyter-9PXvuHaKCD jupyter-9PXvuHaKCD 4096 oct  7 09:59 .\n",
      "drwxr-xr-x 3 jupyter-9PXvuHaKCD jupyter-9PXvuHaKCD 4096 oct  7 09:59 ..\n",
      "drwxr-xr-x 8 jupyter-9PXvuHaKCD jupyter-9PXvuHaKCD 4096 oct  7 09:59 .git\n",
      "-rw-r--r-- 1 jupyter-9PXvuHaKCD jupyter-9PXvuHaKCD   98 oct  7 09:59 sierras\n"
     ]
    }
   ],
   "source": [
    "# Haz un listado largo del contenido del directorio, incluyendo ficheros ocultos\n",
    "ls -la"
   ]
  },
  {
   "cell_type": "code",
   "execution_count": 95,
   "id": "5d32a3ab-da26-431e-863d-825a9f07b151",
   "metadata": {},
   "outputs": [
    {
     "name": "stdout",
     "output_type": "stream",
     "text": [
      "d2f3c0e (HEAD -> main, origin/main, origin/HEAD) Añadiendo algunas sierras de la Región de Murcia\n"
     ]
    }
   ],
   "source": [
    "# Muestra el registro de commits en una sola línea\n",
    "git log --oneline"
   ]
  },
  {
   "cell_type": "code",
   "execution_count": null,
   "id": "3161eda0-6056-49df-a8bf-b0ac39a922eb",
   "metadata": {},
   "outputs": [],
   "source": [
    "#II.65\n"
   ]
  },
  {
   "cell_type": "code",
   "execution_count": 96,
   "id": "f1a421f2-e989-4416-829c-b0b2bb19ceba",
   "metadata": {},
   "outputs": [],
   "source": [
    "#II.66\n",
    "# Añade al repositorio el contenido íntegro del directorio $TMP/murcia\n",
    "# Para ello, necesitas hacerlo en varios pasos. El resultado debe ser que\n",
    "# haya un nuevo directorio \"murcia\" en el repositorio, con los tres ficheros\n",
    "# PASO 1\n",
    "cp -r $HOME/tmp/murcia ./murcia"
   ]
  },
  {
   "cell_type": "code",
   "execution_count": 97,
   "id": "bced3974-bf46-489b-859b-ba6f883a3bce",
   "metadata": {},
   "outputs": [
    {
     "name": "stdout",
     "output_type": "stream",
     "text": [
      "murcia  sierras\n"
     ]
    }
   ],
   "source": [
    "ls"
   ]
  },
  {
   "cell_type": "code",
   "execution_count": 98,
   "id": "c4ffafdf-8c4d-4298-963f-828e70367fbe",
   "metadata": {},
   "outputs": [],
   "source": [
    "# PASO 2\n",
    "git add murcia"
   ]
  },
  {
   "cell_type": "code",
   "execution_count": 99,
   "id": "fdccaaf6-3df9-4233-a33a-1aebfae94cba",
   "metadata": {},
   "outputs": [
    {
     "name": "stdout",
     "output_type": "stream",
     "text": [
      "En la rama main\n",
      "Tu rama está actualizada con 'origin/main'.\n",
      "\n",
      "Cambios a ser confirmados:\n",
      "  (usa \"git restore --staged <archivo>...\" para sacar del área de stage)\n",
      "\tnuevos archivos: murcia/municipios\n",
      "\tnuevos archivos: murcia/rios\n",
      "\tnuevos archivos: murcia/sierras\n",
      "\n"
     ]
    }
   ],
   "source": [
    "#II.67\n",
    "# PASO 3 (estado)\n",
    "git status"
   ]
  },
  {
   "cell_type": "code",
   "execution_count": 100,
   "id": "d94668b8-ca2a-4c9d-bdbd-bc18da1fdf90",
   "metadata": {},
   "outputs": [
    {
     "name": "stdout",
     "output_type": "stream",
     "text": [
      "diff --git a/murcia/municipios b/murcia/municipios\n",
      "new file mode 100644\n",
      "index 0000000..19abbd5\n",
      "--- /dev/null\n",
      "+++ b/murcia/municipios\n",
      "@@ -0,0 +1,7 @@\n",
      "+LISTA DE MUNICIPIOS DE LA REGIÓN DE MURCIA\n",
      "+Abanilla\n",
      "+Alcantarilla\n",
      "+Alhama de Murcia\n",
      "+Archena\n",
      "+Blanca\n",
      "+Fortuna\n",
      "diff --git a/murcia/rios b/murcia/rios\n",
      "new file mode 100644\n",
      "index 0000000..b8d48de\n",
      "--- /dev/null\n",
      "+++ b/murcia/rios\n",
      "@@ -0,0 +1,4 @@\n",
      "+Río Benamor\n",
      "+Río Luchena\n",
      "+Río Mula\n",
      "+Río Quípar\n",
      "diff --git a/murcia/sierras b/murcia/sierras\n",
      "new file mode 100644\n",
      "index 0000000..0df1613\n",
      "--- /dev/null\n",
      "+++ b/murcia/sierras\n",
      "@@ -0,0 +1,5 @@\n",
      "+Sierra de la Almenara\n",
      "+Sierra de Burete\n",
      "+Sierra del Carche\n",
      "+Sierra de Carrascoy\n",
      "+Sierra de Columbares\n"
     ]
    }
   ],
   "source": [
    "#II.68\n",
    "# Muestra lo que has añadido al índice\n",
    "git diff --staged "
   ]
  },
  {
   "cell_type": "code",
   "execution_count": 102,
   "id": "54ab5e73-d098-44d5-92e3-c1110789824e",
   "metadata": {},
   "outputs": [
    {
     "name": "stdout",
     "output_type": "stream",
     "text": [
      "[main b13592d] Añadiendo municipios, rios y sierras de Murcia\n",
      " 3 files changed, 16 insertions(+)\n",
      " create mode 100644 murcia/municipios\n",
      " create mode 100644 murcia/rios\n",
      " create mode 100644 murcia/sierras\n"
     ]
    }
   ],
   "source": [
    "#II.69\n",
    "# PASO 4 (confirma el cambio al repositorio)\n",
    "git commit -m \"Añadiendo municipios, rios y sierras de Murcia\""
   ]
  },
  {
   "cell_type": "code",
   "execution_count": 103,
   "id": "366c6934-ded4-49f0-adfa-2dcd7c6dad54",
   "metadata": {},
   "outputs": [
    {
     "name": "stdout",
     "output_type": "stream",
     "text": [
      "En la rama main\n",
      "Tu rama está adelantada a 'origin/main' por 1 commit.\n",
      "  (usa \"git push\" para publicar tus commits locales)\n",
      "\n",
      "nada para hacer commit, el árbol de trabajo está limpio\n"
     ]
    }
   ],
   "source": [
    "#II.70\n",
    "# Vuelve a comprobar el estado\n",
    "git status"
   ]
  },
  {
   "cell_type": "markdown",
   "id": "92cd40a8-a103-481e-8fa3-2e7652392a1c",
   "metadata": {},
   "source": [
    "PREGUNTA: ¿Qué información te muestra el comando anterior, acerca del remoto?\n",
    "\n",
    "RESPUESTA: Los repositorios virtaul y local van dispares y nos pide un git push para actualizarlo\n",
    "\n"
   ]
  },
  {
   "cell_type": "code",
   "execution_count": 104,
   "id": "8ae6cee4-3adc-4959-bd95-4fb0acf01a2c",
   "metadata": {},
   "outputs": [
    {
     "name": "stdout",
     "output_type": "stream",
     "text": [
      "commit b13592d0608d3d3f2a57d4362ef714274d0f8052 (HEAD -> main)\n",
      "Date:   Mon Oct 7 10:12:39 2024 +0200\n",
      "\n",
      "    Añadiendo municipios, rios y sierras de Murcia\n",
      "\n",
      "commit d2f3c0e21606c9de2f310ad72e98da88e486b571 (origin/main, origin/HEAD)\n",
      "Date:   Mon Oct 7 09:59:23 2024 +0200\n",
      "\n",
      "    Añadiendo algunas sierras de la Región de Murcia\n"
     ]
    }
   ],
   "source": [
    "#II.71\n",
    "# PASO 5: comprobación (registro)\n",
    "git log"
   ]
  },
  {
   "cell_type": "markdown",
   "id": "ede034cd-ad72-479a-a275-752b7c7d91c9",
   "metadata": {},
   "source": [
    "#II.72\n",
    "PREGUNTA: ¿Cómo puedes saber a partir de la información anterior que el repositorio local y remoto no está en la misma versión?\n",
    "\n",
    "RESPUESTA: Porque los commits son distintos\n",
    "\n"
   ]
  },
  {
   "cell_type": "markdown",
   "id": "7750a771-ab3f-4889-9681-cbd40d99a899",
   "metadata": {},
   "source": [
    "PREGUNTA: ¿Cuántos ficheros tiene ahora mismo el repositorio remoto?\n",
    "\n",
    "RESPUESTA: Ninguno\n",
    "\n"
   ]
  },
  {
   "cell_type": "code",
   "execution_count": 105,
   "id": "be6dc492-e966-4aeb-bd46-5f800b8f7236",
   "metadata": {},
   "outputs": [
    {
     "name": "stdout",
     "output_type": "stream",
     "text": [
      "Enumerando objetos: 6, listo.\n",
      "Contando objetos: 100% (6/6), listo.\n",
      "Compresión delta usando hasta 4 hilos\n",
      "Comprimiendo objetos: 100% (4/4), listo.\n",
      "Escribiendo objetos: 100% (5/5), 575 bytes | 575.00 KiB/s, listo.\n",
      "Total 5 (delta 0), reusados 0 (delta 0), pack-reusados 0\n",
      "To /home/jupyter-9PXvuHaKCD/tmp/geografia-murciana\n",
      "   d2f3c0e..b13592d  main -> main\n"
     ]
    }
   ],
   "source": [
    "#II.73\n",
    "# Envía tus cambios al repositorio remoto\n",
    "git push "
   ]
  },
  {
   "cell_type": "code",
   "execution_count": 106,
   "id": "7596d448-f8f4-4680-885d-61af82e06deb",
   "metadata": {},
   "outputs": [
    {
     "name": "stdout",
     "output_type": "stream",
     "text": [
      "commit b13592d0608d3d3f2a57d4362ef714274d0f8052 (HEAD -> main, origin/main, origin/HEAD)\n",
      "Date:   Mon Oct 7 10:12:39 2024 +0200\n",
      "\n",
      "    Añadiendo municipios, rios y sierras de Murcia\n",
      "\n",
      "commit d2f3c0e21606c9de2f310ad72e98da88e486b571\n",
      "Date:   Mon Oct 7 09:59:23 2024 +0200\n",
      "\n",
      "    Añadiendo algunas sierras de la Región de Murcia\n"
     ]
    }
   ],
   "source": [
    "# Vuelve a mostrar el registro de commits\n",
    "git log"
   ]
  },
  {
   "cell_type": "markdown",
   "id": "bba65392-be4a-4dc6-9011-ecf92aa16c63",
   "metadata": {},
   "source": [
    "#II.74\n",
    "PREGUNTA: ¿En qué ha cambiado la información mostrada por el comando anterior sobre el repositorio remoto?\n",
    "\n",
    "RESPUESTA: Ahora las dos ramas tienen los mismos commits\n",
    "\n"
   ]
  },
  {
   "cell_type": "code",
   "execution_count": 107,
   "id": "cedfdec2-4b9f-43ea-8ebb-eb7e463a0d69",
   "metadata": {},
   "outputs": [],
   "source": [
    "#II.75\n",
    "# Ejecuta la siguiente celda para ver las diferencias entre dos ficheros\n",
    "diff -u sierras murcia/sierras"
   ]
  },
  {
   "cell_type": "code",
   "execution_count": 108,
   "id": "93a592f4-a33c-4331-b3a9-26a72b67c155",
   "metadata": {},
   "outputs": [
    {
     "name": "stdout",
     "output_type": "stream",
     "text": [
      "rm 'sierras'\n"
     ]
    }
   ],
   "source": [
    "# Elimina del repositorio el fichero \"sierras\" que está fuera del directorio \"murcia\"\n",
    "# PASO 1\n",
    "git rm sierras"
   ]
  },
  {
   "cell_type": "code",
   "execution_count": 109,
   "id": "86519e4f-e873-4925-b0dd-3c2c96ef845e",
   "metadata": {},
   "outputs": [
    {
     "name": "stdout",
     "output_type": "stream",
     "text": [
      "En la rama main\n",
      "Tu rama está actualizada con 'origin/main'.\n",
      "\n",
      "Cambios a ser confirmados:\n",
      "  (usa \"git restore --staged <archivo>...\" para sacar del área de stage)\n",
      "\tborrados:        sierras\n",
      "\n"
     ]
    }
   ],
   "source": [
    "#II.76\n",
    "# PASO 2 (estado)\n",
    "git status"
   ]
  },
  {
   "cell_type": "code",
   "execution_count": 110,
   "id": "c0f15cfd-fd2d-41ae-beb7-0efc6647b958",
   "metadata": {},
   "outputs": [
    {
     "name": "stdout",
     "output_type": "stream",
     "text": [
      "[main 3c116f3] Eliminando fichero duplicado\n",
      " 1 file changed, 5 deletions(-)\n",
      " delete mode 100644 sierras\n"
     ]
    }
   ],
   "source": [
    "# PASO 3 (confirma) Mensaje: \"Eliminando fichero duplicado\"\n",
    "git commit -m \"Eliminando fichero duplicado\""
   ]
  },
  {
   "cell_type": "code",
   "execution_count": 112,
   "id": "480c91cd-ccdb-4019-ade3-1210b93e3c07",
   "metadata": {},
   "outputs": [
    {
     "name": "stdout",
     "output_type": "stream",
     "text": [
      "3c116f3 (HEAD -> main) Eliminando fichero duplicado\n",
      "b13592d (origin/main, origin/HEAD) Añadiendo municipios, rios y sierras de Murcia\n",
      "d2f3c0e Añadiendo algunas sierras de la Región de Murcia\n"
     ]
    }
   ],
   "source": [
    "# PASO 4 (comprueba registro en una línea\n",
    "git log --oneline"
   ]
  },
  {
   "cell_type": "code",
   "execution_count": 113,
   "id": "0c8dd3f1-aef6-4e1c-8337-396f49cbdb60",
   "metadata": {},
   "outputs": [
    {
     "name": "stdout",
     "output_type": "stream",
     "text": [
      ".  ..  .git  murcia\n"
     ]
    }
   ],
   "source": [
    "#II.77\n",
    "ls -a"
   ]
  },
  {
   "cell_type": "code",
   "execution_count": 114,
   "id": "2ad035d5-9c19-40b8-875c-b7ccb8001795",
   "metadata": {},
   "outputs": [
    {
     "name": "stdout",
     "output_type": "stream",
     "text": [
      "En la rama main\n",
      "Tu rama está adelantada a 'origin/main' por 1 commit.\n",
      "  (usa \"git push\" para publicar tus commits locales)\n",
      "\n",
      "nada para hacer commit, el árbol de trabajo está limpio\n"
     ]
    }
   ],
   "source": [
    "# Muestra el estado\n",
    "git status"
   ]
  },
  {
   "cell_type": "code",
   "execution_count": 115,
   "id": "78abf7d2-9f72-4a1f-8bae-6a47cba1c4ce",
   "metadata": {},
   "outputs": [
    {
     "name": "stdout",
     "output_type": "stream",
     "text": [
      "Enumerando objetos: 3, listo.\n",
      "Contando objetos: 100% (3/3), listo.\n",
      "Compresión delta usando hasta 4 hilos\n",
      "Comprimiendo objetos: 100% (1/1), listo.\n",
      "Escribiendo objetos: 100% (2/2), 267 bytes | 267.00 KiB/s, listo.\n",
      "Total 2 (delta 0), reusados 0 (delta 0), pack-reusados 0\n",
      "To /home/jupyter-9PXvuHaKCD/tmp/geografia-murciana\n",
      "   b13592d..3c116f3  main -> main\n"
     ]
    }
   ],
   "source": [
    "#II.78\n",
    "# Envía tus cambios al remoto\n",
    "git push"
   ]
  },
  {
   "cell_type": "code",
   "execution_count": 116,
   "id": "64d7146b-e7b9-4108-ba2b-ce07912cc986",
   "metadata": {},
   "outputs": [
    {
     "name": "stdout",
     "output_type": "stream",
     "text": [
      "Cambiado a rama 'main'\n",
      "[main 0f53f10] Añadiendo más municipios con la letra L\n",
      " 1 file changed, 2 insertions(+)\n",
      "Cambiado a rama 'alicante'\n",
      "/home/jupyter-9PXvuHaKCD/p2-ejercicio/geografia-murciana\n"
     ]
    }
   ],
   "source": [
    "#II.79\n",
    "# Ejecuta la siguiente celda antes de continuar con el resto del ejercicio\n",
    "cd $REMOTE \n",
    "git switch main\n",
    "echo \"Librilla\" >> murcia/municipios\n",
    "echo \"Lorca\" >> murcia/municipios\n",
    "git commit . -m \"Añadiendo más municipios con la letra L\"\n",
    "git switch alicante\n",
    "cd -"
   ]
  },
  {
   "cell_type": "code",
   "execution_count": null,
   "id": "31170c27-2d7d-4644-ab0d-590ac60c5986",
   "metadata": {},
   "outputs": [],
   "source": [
    "#II.80\n"
   ]
  },
  {
   "cell_type": "markdown",
   "id": "6a09d553-3310-42c8-8210-d5d9cdd291d2",
   "metadata": {},
   "source": [
    "PREGUNTA: ¿Es posible saber ahora mismo que el repositorio remoto está por delante del actual?\n",
    "\n",
    "RESPUESTA: Usando git status si podríamos\n",
    "\n"
   ]
  },
  {
   "cell_type": "markdown",
   "id": "0b1d8ce2-d16a-4314-8710-292f6996bc91",
   "metadata": {},
   "source": [
    "#II.81\n",
    "PREGUNTA: \n",
    "\n",
    "RESPUESTA:\n",
    "\n"
   ]
  },
  {
   "cell_type": "code",
   "execution_count": 117,
   "id": "221b5e12-d64c-4dba-8688-fd418413b80e",
   "metadata": {},
   "outputs": [
    {
     "name": "stdout",
     "output_type": "stream",
     "text": [
      "remote: Enumerando objetos: 7, listo.        \n",
      "remote: Contando objetos: 100% (7/7), listo.        \n",
      "remote: Comprimiendo objetos: 100% (3/3), listo.        \n",
      "remote: Total 4 (delta 1), reusados 0 (delta 0), pack-reusados 0        \n",
      "Desempaquetando objetos: 100% (4/4), 418 bytes | 418.00 KiB/s, listo.\n",
      "Desde /home/jupyter-9PXvuHaKCD/tmp/geografia-murciana\n",
      "   3c116f3..0f53f10  main       -> origin/main\n",
      " * [nueva rama]      alicante   -> origin/alicante\n",
      "Actualizando 3c116f3..0f53f10\n",
      "Fast-forward\n",
      " murcia/municipios | 2 ++\n",
      " 1 file changed, 2 insertions(+)\n"
     ]
    }
   ],
   "source": [
    "#II.82\n",
    "# Obtén los últimos cambios publicados en el repositorio remoto\n",
    "git pull"
   ]
  },
  {
   "cell_type": "code",
   "execution_count": 120,
   "id": "815b8c14-9394-4ba0-891d-2c75afd9ea16",
   "metadata": {},
   "outputs": [
    {
     "name": "stdout",
     "output_type": "stream",
     "text": [
      "0f53f10 (HEAD -> main, origin/main, origin/HEAD) Añadiendo más municipios con la letra L\n",
      "3c116f3 Eliminando fichero duplicado\n",
      "b13592d Añadiendo municipios, rios y sierras de Murcia\n",
      "d2f3c0e (origin/alicante) Añadiendo algunas sierras de la Región de Murcia\n"
     ]
    }
   ],
   "source": [
    "#II.83\n",
    "git log --oneline"
   ]
  },
  {
   "cell_type": "code",
   "execution_count": 121,
   "id": "5df5e7ec-7a9c-4916-b3dd-7a0b3a179986",
   "metadata": {},
   "outputs": [],
   "source": [
    "echo \"Sierra de Ricote\" >> murcia/sierras\n",
    "echo \"Río Taibilla\" >> murcia/rios"
   ]
  },
  {
   "cell_type": "code",
   "execution_count": 122,
   "id": "2219c956-c24a-4287-ac20-22d2dbead5cd",
   "metadata": {},
   "outputs": [
    {
     "name": "stdout",
     "output_type": "stream",
     "text": [
      "En la rama main\n",
      "Tu rama está actualizada con 'origin/main'.\n",
      "\n",
      "Cambios no rastreados para el commit:\n",
      "  (usa \"git add <archivo>...\" para actualizar lo que será confirmado)\n",
      "  (usa \"git restore <archivo>...\" para descartar los cambios en el directorio de trabajo)\n",
      "\tmodificados:     murcia/rios\n",
      "\tmodificados:     murcia/sierras\n",
      "\n",
      "sin cambios agregados al commit (usa \"git add\" y/o \"git commit -a\")\n"
     ]
    }
   ],
   "source": [
    "#II.84\n",
    "git status"
   ]
  },
  {
   "cell_type": "code",
   "execution_count": 123,
   "id": "910f7432-2e03-4dab-ba64-848776e9b401",
   "metadata": {},
   "outputs": [
    {
     "name": "stdout",
     "output_type": "stream",
     "text": [
      "Cambiado a rama 'main'\n",
      "[main 6de5f3b] Añadiendo más municipios con la letra M\n",
      " 1 file changed, 2 insertions(+)\n",
      "Cambiado a rama 'alicante'\n",
      "/home/jupyter-9PXvuHaKCD/p2-ejercicio/geografia-murciana\n"
     ]
    }
   ],
   "source": [
    "#II.85\n",
    "# Ejecuta la siguiente celda antes de continuar con el resto del ejercicio\n",
    "cd $REMOTE \n",
    "git switch main\n",
    "echo \"Mazarrón\" >> murcia/municipios\n",
    "echo \"Moratalla\" >> murcia/municipios\n",
    "git commit . -m \"Añadiendo más municipios con la letra M\"\n",
    "git switch alicante\n",
    "cd -"
   ]
  },
  {
   "cell_type": "markdown",
   "id": "4d80247f-6d26-41a1-99b6-6a4b5e62077c",
   "metadata": {},
   "source": [
    "#II.86\n",
    "Una manera sencilla de saber si hay cambios en el remoto es ejecutar `git push`, para ver si tu copia local está actualizada:"
   ]
  },
  {
   "cell_type": "code",
   "execution_count": 124,
   "id": "5b5d3346-05c4-4d5f-a596-b09ff838f227",
   "metadata": {},
   "outputs": [
    {
     "name": "stdout",
     "output_type": "stream",
     "text": [
      "To /home/jupyter-9PXvuHaKCD/tmp/geografia-murciana\n",
      " ! [rejected]        main -> main (fetch first)\n",
      "error: falló el empuje de algunas referencias a '/home/jupyter-9PXvuHaKCD/tmp/geografia-murciana'\n",
      "ayuda: Actualizaciones fueron rechazadas porque el remoto contiene trabajo que\n",
      "ayuda: no existe localmente. Esto es causado usualmente por otro repositorio\n",
      "ayuda: empujando a la misma ref. Quizás quieras integrar primero los cambios\n",
      "ayuda: remotos (ej. 'git pull ...') antes de volver a hacer push.\n",
      "ayuda: Mira 'Notes about fast-forwards' en 'git push --help' para detalles.\n"
     ]
    },
    {
     "ename": "",
     "evalue": "1",
     "output_type": "error",
     "traceback": []
    }
   ],
   "source": [
    "#II.87\n",
    "git push"
   ]
  },
  {
   "cell_type": "markdown",
   "id": "f520b017-c228-4082-b476-867e911923e2",
   "metadata": {},
   "source": [
    "PREGUNTA: ¿Por qué falla y qué te indica la salida del comando anterior? \n",
    "\n",
    "RESPUESTA: Falla porque las dos ramas están desincronizadas. La salida nos indica que hacer para volver a sincroniazar las ramas, haciendo primero un git pull para integrar los cambios para posteriormente hacer volver a hacer git push\n",
    "\n"
   ]
  },
  {
   "cell_type": "code",
   "execution_count": 127,
   "id": "a8fc17f4-5577-425a-a982-333197eea9f6",
   "metadata": {},
   "outputs": [
    {
     "name": "stdout",
     "output_type": "stream",
     "text": [
      "LISTA DE MUNICIPIOS DE LA REGIÓN DE MURCIA\n",
      "Abanilla\n",
      "Alcantarilla\n",
      "Alhama de Murcia\n",
      "Archena\n",
      "Blanca\n",
      "Fortuna\n",
      "Librilla\n",
      "Lorca\n"
     ]
    }
   ],
   "source": [
    "# Muestra el contenido del fichero de municipios\n",
    "cat murcia/municipios"
   ]
  },
  {
   "cell_type": "code",
   "execution_count": 128,
   "id": "af0e7017-fd06-4b2f-9e2a-38cc4d5f2f93",
   "metadata": {},
   "outputs": [
    {
     "name": "stdout",
     "output_type": "stream",
     "text": [
      "remote: Enumerando objetos: 7, listo.        \n",
      "remote: Contando objetos: 100% (7/7), listo.        \n",
      "remote: Comprimiendo objetos: 100% (3/3), listo.        \n",
      "remote: Total 4 (delta 1), reusados 0 (delta 0), pack-reusados 0        \n",
      "Desempaquetando objetos: 100% (4/4), 424 bytes | 424.00 KiB/s, listo.\n",
      "Desde /home/jupyter-9PXvuHaKCD/tmp/geografia-murciana\n",
      "   0f53f10..6de5f3b  main       -> origin/main\n",
      "Actualizando 0f53f10..6de5f3b\n",
      "Fast-forward\n",
      " murcia/municipios | 2 ++\n",
      " 1 file changed, 2 insertions(+)\n"
     ]
    }
   ],
   "source": [
    "# Obtén los últimos cambios en el repositorio remoto\n",
    "git pull"
   ]
  },
  {
   "cell_type": "code",
   "execution_count": 129,
   "id": "9a2858db-45dd-492b-abd0-bf1a2d716971",
   "metadata": {},
   "outputs": [
    {
     "name": "stdout",
     "output_type": "stream",
     "text": [
      "En la rama main\n",
      "Tu rama está actualizada con 'origin/main'.\n",
      "\n",
      "Cambios no rastreados para el commit:\n",
      "  (usa \"git add <archivo>...\" para actualizar lo que será confirmado)\n",
      "  (usa \"git restore <archivo>...\" para descartar los cambios en el directorio de trabajo)\n",
      "\tmodificados:     murcia/rios\n",
      "\tmodificados:     murcia/sierras\n",
      "\n",
      "sin cambios agregados al commit (usa \"git add\" y/o \"git commit -a\")\n"
     ]
    }
   ],
   "source": [
    "git status"
   ]
  },
  {
   "cell_type": "markdown",
   "id": "49f88761-efc6-4040-b37f-802140a2c5be",
   "metadata": {},
   "source": [
    "PREGUNTA: ¿Por qué no se han visto afectados por el \"pull\" los ficheros modificados de tu árbol de trabajo?\n",
    "\n",
    "RESPUESTA: Porque los cambios no han sido confirmados\n",
    "\n"
   ]
  },
  {
   "cell_type": "code",
   "execution_count": 130,
   "id": "5b1e558d-5438-4232-aa00-fcbcb35448f6",
   "metadata": {},
   "outputs": [
    {
     "name": "stdout",
     "output_type": "stream",
     "text": [
      "LISTA DE MUNICIPIOS DE LA REGIÓN DE MURCIA\n",
      "Abanilla\n",
      "Alcantarilla\n",
      "Alhama de Murcia\n",
      "Archena\n",
      "Blanca\n",
      "Fortuna\n",
      "Librilla\n",
      "Lorca\n",
      "Mazarrón\n",
      "Moratalla\n"
     ]
    }
   ],
   "source": [
    "# Muestra el contenido del fichero de municipios\n",
    "cat murcia/municipios"
   ]
  },
  {
   "cell_type": "code",
   "execution_count": 131,
   "id": "23eabbfa-567b-49ff-9510-ddea35b57da8",
   "metadata": {},
   "outputs": [
    {
     "name": "stdout",
     "output_type": "stream",
     "text": [
      "diff --git a/murcia/rios b/murcia/rios\n",
      "index b8d48de..8fb1be0 100644\n",
      "--- a/murcia/rios\n",
      "+++ b/murcia/rios\n",
      "@@ -2,3 +2,4 @@ Río Benamor\n",
      " Río Luchena\n",
      " Río Mula\n",
      " Río Quípar\n",
      "+Río Taibilla\n"
     ]
    }
   ],
   "source": [
    "# Muestra las diferencias entre el fichero de ríos en tu árbol de trabajo y el repositorio\n",
    "git diff murcia/rios"
   ]
  },
  {
   "cell_type": "code",
   "execution_count": 132,
   "id": "d661d526-b9a8-4604-8864-95fbd42f5ce7",
   "metadata": {},
   "outputs": [
    {
     "name": "stdout",
     "output_type": "stream",
     "text": [
      "Everything up-to-date\n"
     ]
    }
   ],
   "source": [
    "# Trata de enviar tus cambios en el fichero de ríos al repositorio\n",
    "git push"
   ]
  },
  {
   "cell_type": "markdown",
   "id": "675696c6-2a89-4452-b1aa-5137904af810",
   "metadata": {},
   "source": [
    "PREGUNTA: ¿Se han enviado los cambio que has en el fichero de ríos y sierras al repositorio remoto?\n",
    "\n",
    "RESPUESTA: No porque no se han confirmado y por ende no se han enviado\n",
    "\n"
   ]
  },
  {
   "cell_type": "code",
   "execution_count": 133,
   "id": "dd629cae-272e-451f-baf2-f0cf3a7e9083",
   "metadata": {},
   "outputs": [],
   "source": [
    "# Haz lo necesario para publicar al remoto los cambios que tienes pendiente\n",
    "# PASO 1 (añadir al índice)\n",
    "git add murcia/rios\n",
    "git add murcia/sierras"
   ]
  },
  {
   "cell_type": "code",
   "execution_count": 134,
   "id": "d62c9c36-573c-4026-a165-dfb3e89e6e6c",
   "metadata": {},
   "outputs": [
    {
     "name": "stdout",
     "output_type": "stream",
     "text": [
      "[main 04904a3] Añadiendo algunos ríos y sierras\n",
      " 2 files changed, 2 insertions(+)\n"
     ]
    }
   ],
   "source": [
    "# PASO 2 (confirmar)\n",
    "git commit -m \"Añadiendo algunos ríos y sierras\""
   ]
  },
  {
   "cell_type": "code",
   "execution_count": 135,
   "id": "82241a31-5d6e-48b3-aa00-fb2ab129df75",
   "metadata": {},
   "outputs": [
    {
     "name": "stdout",
     "output_type": "stream",
     "text": [
      "commit 04904a3a40261f67b8fa89224db07dead903834a (HEAD -> main)\n",
      "Date:   Mon Oct 7 10:33:57 2024 +0200\n",
      "\n",
      "    Añadiendo algunos ríos y sierras\n",
      "\n",
      "commit 6de5f3bd1df74627440eb2b5717fd56425c8f527 (origin/main, origin/HEAD)\n",
      "Date:   Mon Oct 7 10:21:55 2024 +0200\n",
      "\n",
      "    Añadiendo más municipios con la letra M\n",
      "\n",
      "commit 0f53f10c2b7e7fe5062794686d5c94c63c87c7b8\n",
      "Date:   Mon Oct 7 10:17:32 2024 +0200\n",
      "\n",
      "    Añadiendo más municipios con la letra L\n",
      "\n",
      "commit 3c116f307d39b2929c589113347c02f6c3d3f26f\n",
      "Date:   Mon Oct 7 10:16:14 2024 +0200\n",
      "\n",
      "    Eliminando fichero duplicado\n",
      "\n",
      "commit b13592d0608d3d3f2a57d4362ef714274d0f8052\n",
      "Date:   Mon Oct 7 10:12:39 2024 +0200\n",
      "\n",
      "    Añadiendo municipios, rios y sierras de Murcia\n",
      "\n",
      "commit d2f3c0e21606c9de2f310ad72e98da88e486b571 (origin/alicante)\n",
      "Date:   Mon Oct 7 09:59:23 2024 +0200\n",
      "\n",
      "    Añadiendo algunas sierras de la Región de Murcia\n"
     ]
    }
   ],
   "source": [
    "# PASO 3 (comprobar)\n",
    "git log"
   ]
  },
  {
   "cell_type": "code",
   "execution_count": 136,
   "id": "c9056d2f-192f-49ad-9c52-9d9c6acb3f36",
   "metadata": {},
   "outputs": [
    {
     "name": "stdout",
     "output_type": "stream",
     "text": [
      "Enumerando objetos: 9, listo.\n",
      "Contando objetos: 100% (9/9), listo.\n",
      "Compresión delta usando hasta 4 hilos\n",
      "Comprimiendo objetos: 100% (4/4), listo.\n",
      "Escribiendo objetos: 100% (5/5), 491 bytes | 491.00 KiB/s, listo.\n",
      "Total 5 (delta 1), reusados 0 (delta 0), pack-reusados 0\n",
      "To /home/jupyter-9PXvuHaKCD/tmp/geografia-murciana\n",
      "   6de5f3b..04904a3  main -> main\n"
     ]
    }
   ],
   "source": [
    "# PASO 4 (publicar)\n",
    "git push"
   ]
  },
  {
   "cell_type": "code",
   "execution_count": 137,
   "id": "b5f73c39-9ad0-4f3f-9381-fba24a55adaf",
   "metadata": {},
   "outputs": [],
   "source": [
    "rm -rf ~/p2ej"
   ]
  },
  {
   "cell_type": "code",
   "execution_count": null,
   "id": "08a501fd-2578-4e4b-827d-46b445f40e6c",
   "metadata": {},
   "outputs": [],
   "source": []
  },
  {
   "cell_type": "code",
   "execution_count": null,
   "id": "264e0b33-19b0-49e6-95f9-66a6d08b2ddc",
   "metadata": {},
   "outputs": [],
   "source": []
  },
  {
   "cell_type": "markdown",
   "id": "0bbf22c8-18b7-4d90-9781-8c46a8b72021",
   "metadata": {},
   "source": [
    "**FIN DEL CUADERNO** (*no borres esta celda*)\n",
    "\n",
    "@@@@ practica2-introgit-ejercicios.ipynb @@@@"
   ]
  }
 ],
 "metadata": {
  "kernelspec": {
   "display_name": "Bash",
   "language": "bash",
   "name": "bash"
  },
  "language_info": {
   "codemirror_mode": "shell",
   "file_extension": ".sh",
   "mimetype": "text/x-sh",
   "name": "bash"
  }
 },
 "nbformat": 4,
 "nbformat_minor": 5
}
