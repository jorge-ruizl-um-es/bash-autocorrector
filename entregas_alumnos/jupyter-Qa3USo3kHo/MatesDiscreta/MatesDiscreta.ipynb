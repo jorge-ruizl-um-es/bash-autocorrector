{
 "cells": [
  {
   "cell_type": "code",
   "execution_count": 1,
   "id": "d7c81f75-c474-4301-b025-9a884fa0747c",
   "metadata": {},
   "outputs": [],
   "source": [
    "def NO(p):\n",
    "    if p==0:\n",
    "        return 1\n",
    "    return 0"
   ]
  },
  {
   "cell_type": "code",
   "execution_count": 4,
   "id": "c8fb15a3-d1c7-4549-bddb-297a75d8f2eb",
   "metadata": {},
   "outputs": [],
   "source": [
    "def AND(p,q):\n",
    "    if p==q and p==1:\n",
    "        return 1\n",
    "    return 0"
   ]
  },
  {
   "cell_type": "code",
   "execution_count": 5,
   "id": "b6685f42-a50a-4339-b5b5-a220b7add51d",
   "metadata": {},
   "outputs": [],
   "source": [
    "def OR(p,q):\n",
    "    if p+q>=1:\n",
    "        return 1\n",
    "    return 0"
   ]
  },
  {
   "cell_type": "code",
   "execution_count": 30,
   "id": "68b78209-c919-454d-85c7-a74eb6f257e6",
   "metadata": {},
   "outputs": [],
   "source": [
    "def THEN(p,q):\n",
    "    if p==1 and q==0:\n",
    "        return 0\n",
    "    return 1"
   ]
  },
  {
   "cell_type": "code",
   "execution_count": 9,
   "id": "33e34625-3248-4cf4-93f1-a57aa88b37f3",
   "metadata": {},
   "outputs": [],
   "source": [
    "def IFF(p,q):\n",
    "    if p==q:\n",
    "        return 1\n",
    "    return 0"
   ]
  },
  {
   "cell_type": "code",
   "execution_count": 10,
   "id": "be025d2f-e863-417c-90c5-920e3fa2baba",
   "metadata": {},
   "outputs": [],
   "source": [
    "def P1(p,q):\n",
    "    return OR(NO(q), THEN(p,q))"
   ]
  },
  {
   "cell_type": "code",
   "execution_count": 12,
   "id": "1ee1601e-e071-4117-b604-7449372f79b9",
   "metadata": {},
   "outputs": [
    {
     "data": {
      "text/plain": [
       "1"
      ]
     },
     "execution_count": 12,
     "metadata": {},
     "output_type": "execute_result"
    }
   ],
   "source": [
    "P1(0,1)"
   ]
  },
  {
   "cell_type": "code",
   "execution_count": 31,
   "id": "6a384a3c-1a9a-4491-ace4-ea2c11404b2b",
   "metadata": {},
   "outputs": [],
   "source": [
    "#Caso concreto de P(p,q)\n",
    "def TAUTO(P):\n",
    "    for i in [0,1]:\n",
    "        for j in  [0,1]:\n",
    "            if P(i,j)==0:\n",
    "                return print('No es una tautologia,  ya que P(',i,',',j,')=0')\n",
    "    return print('P es una tautología')"
   ]
  },
  {
   "cell_type": "code",
   "execution_count": 32,
   "id": "1584127d-2779-4c91-b039-5d7548d46075",
   "metadata": {},
   "outputs": [
    {
     "name": "stdout",
     "output_type": "stream",
     "text": [
      "P es una tautología\n"
     ]
    }
   ],
   "source": [
    "TAUTO(P1)"
   ]
  },
  {
   "cell_type": "code",
   "execution_count": 33,
   "id": "55bf911d-d155-4baf-ab37-2cb44225bdf5",
   "metadata": {},
   "outputs": [],
   "source": [
    "def P2(p,q):\n",
    "    return THEN(p,OR(p,q))"
   ]
  },
  {
   "cell_type": "code",
   "execution_count": 34,
   "id": "a03a944e-be2c-4925-8a0d-f966bc8da534",
   "metadata": {},
   "outputs": [],
   "source": [
    "def P3(p,q):\n",
    "    return THEN(p,AND(p,q))"
   ]
  },
  {
   "cell_type": "code",
   "execution_count": 35,
   "id": "79430c04-7a0d-45e3-8827-48c23cbd6084",
   "metadata": {},
   "outputs": [
    {
     "name": "stdout",
     "output_type": "stream",
     "text": [
      "No es una tautologia,  ya que P( 1 , 0 )=0\n"
     ]
    }
   ],
   "source": [
    "TAUTO(P3)"
   ]
  },
  {
   "cell_type": "code",
   "execution_count": 39,
   "id": "4bfbe6a1-29ed-4aef-9955-44566ee2b017",
   "metadata": {},
   "outputs": [],
   "source": [
    "def DESC(n,i): #n numero de variables proposicionales e i la cifra que quiero descomponer\n",
    "    v=[]\n",
    "    while i>0:\n",
    "        if i%2==0:\n",
    "            v.append(0)\n",
    "            i=i/2\n",
    "        else:\n",
    "            v.append(1)\n",
    "            i=(i-1)/2\n",
    "    while len(v)<n:\n",
    "        v.append(0)\n",
    "    return v"
   ]
  },
  {
   "cell_type": "code",
   "execution_count": 42,
   "id": "f3e10191-7daf-484f-a1e9-43fe24606973",
   "metadata": {},
   "outputs": [
    {
     "data": {
      "text/plain": [
       "[1, 1]"
      ]
     },
     "execution_count": 42,
     "metadata": {},
     "output_type": "execute_result"
    }
   ],
   "source": [
    "DESC(2,3)"
   ]
  },
  {
   "cell_type": "code",
   "execution_count": 46,
   "id": "2e90a909-d155-49bf-a799-d32c3546b0b4",
   "metadata": {},
   "outputs": [
    {
     "data": {
      "text/plain": [
       "[1, 0]"
      ]
     },
     "execution_count": 46,
     "metadata": {},
     "output_type": "execute_result"
    }
   ],
   "source": [
    "DESC(2,1)"
   ]
  },
  {
   "cell_type": "code",
   "execution_count": 48,
   "id": "5b364a74-e3cd-4056-8d2d-94ecd63321fa",
   "metadata": {},
   "outputs": [
    {
     "data": {
      "text/plain": [
       "[0, 1, 0]"
      ]
     },
     "execution_count": 48,
     "metadata": {},
     "output_type": "execute_result"
    }
   ],
   "source": [
    "DESC(3,2)"
   ]
  },
  {
   "cell_type": "code",
   "execution_count": 53,
   "id": "c3ed30b7-7c49-448b-8826-1d818d2902be",
   "metadata": {},
   "outputs": [],
   "source": [
    "def P4(V):#V va a ser un array con 3 elementos\n",
    "    return THEN(AND(V[2],AND(THEN(V[2],V[1]),THEN(V[1],V[0]))),V[0])"
   ]
  },
  {
   "cell_type": "code",
   "execution_count": 60,
   "id": "62009992-1014-4fa1-b478-52296fe1266d",
   "metadata": {},
   "outputs": [],
   "source": [
    "def TAUTO2(P,n):\n",
    "    for i in [0,2^(n)-1]:\n",
    "        if P(DESC(n,i))==0:\n",
    "            return print('No es una tautologia,  ya que P(',i,',',j,')=0')\n",
    "        return print('P es una tautologia')"
   ]
  },
  {
   "cell_type": "code",
   "execution_count": 62,
   "id": "741c04ef-b0ee-4658-b781-dfc60455b2d4",
   "metadata": {},
   "outputs": [
    {
     "name": "stdout",
     "output_type": "stream",
     "text": [
      "P es una tautologia\n"
     ]
    }
   ],
   "source": [
    "TAUTO2(P4,3)"
   ]
  },
  {
   "cell_type": "code",
   "execution_count": 64,
   "id": "358d2859-fe05-4fa1-8563-1b7cd21653c7",
   "metadata": {},
   "outputs": [],
   "source": [
    "def P5(V):#V va a ser un array con 3 elementos\n",
    "    return THEN(AND(V[2],AND(THEN(V[2],V[1]),THEN(V[1],V[0]))),NO(V[0]))"
   ]
  },
  {
   "cell_type": "code",
   "execution_count": 66,
   "id": "8de25a65-7dda-4297-95b4-2626e24b401c",
   "metadata": {},
   "outputs": [
    {
     "name": "stdout",
     "output_type": "stream",
     "text": [
      "P es una tautologia\n"
     ]
    }
   ],
   "source": [
    "TAUTO2(P5,3)"
   ]
  },
  {
   "cell_type": "code",
   "execution_count": null,
   "id": "daaf489c-c60f-4902-b0ce-ba163208666c",
   "metadata": {},
   "outputs": [],
   "source": [
    "def TAUTO3(P)"
   ]
  }
 ],
 "metadata": {
  "kernelspec": {
   "display_name": "Python 3 (ipykernel)",
   "language": "python",
   "name": "python3"
  },
  "language_info": {
   "codemirror_mode": {
    "name": "ipython",
    "version": 3
   },
   "file_extension": ".py",
   "mimetype": "text/x-python",
   "name": "python",
   "nbconvert_exporter": "python",
   "pygments_lexer": "ipython3",
   "version": "3.10.10"
  }
 },
 "nbformat": 4,
 "nbformat_minor": 5
}
