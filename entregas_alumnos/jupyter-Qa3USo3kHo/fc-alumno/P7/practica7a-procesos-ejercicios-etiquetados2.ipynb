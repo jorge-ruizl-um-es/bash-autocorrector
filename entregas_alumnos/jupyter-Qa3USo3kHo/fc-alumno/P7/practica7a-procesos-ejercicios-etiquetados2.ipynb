{
 "cells": [
  {
   "cell_type": "markdown",
   "id": "8e983960",
   "metadata": {},
   "source": [
    "# Ejercicios - Práctica 7a: Procesos en el *shell* de Linux."
   ]
  },
  {
   "cell_type": "markdown",
   "id": "5f67155f",
   "metadata": {},
   "source": [
    "<br>\n",
    "<font size=\"5\">  \n",
    "    <span style=\"color: red;\"><b>ATENCIÓN:</b><br>Se recomienda realizar los ejercicios propuestos de este boletín en un terminal independiente, ya que la mayoría de ellos <b>no pueden llevarse a cabo en Jupyter</b> debido a que es necesario interactuar con el programa lanzado mediante el teclado durante su ejecución. \n",
    "    </span>\n",
    "    <br><br>\n",
    "    Utiliza el <i>notebook</i> únicamente para responder a las preguntas o introducir el comando requerido en las celdas de código.\n",
    "</font>  \n"
   ]
  },
  {
   "cell_type": "markdown",
   "id": "c61e6f57",
   "metadata": {},
   "source": [
    "### Control de procesos en primer y segundo plano"
   ]
  },
  {
   "cell_type": "markdown",
   "id": "043a0cc4-5e30-43d1-ac07-a2ea82d73652",
   "metadata": {},
   "source": [
    "- Lanza el programa `gnome-text-editor` desde un terminal, y luego pulsa `Ctrl-C` para enviar al proceso una señal de terminación. ¿Puedes terminar su ejecución de esta forma? ¿Por qué? ¿A qué proceso le llega la señal `SIGINT` enviada al pulsar `Ctrl-C`?\n",
    "\n",
    "RESPUESTA: No, no puedo terminar su ejecución, porque el proceso está en primer plano, pero el programa se ejecuta en segundo plano. Le llega al proceso del primer plano.\n"
   ]
  },
  {
   "cell_type": "markdown",
   "id": "038ef6a8",
   "metadata": {},
   "source": [
    "Vuelve a lanzar el mismo programa, esta vez en segundo plano, y tras hacerlo, pulsa de nuevo `Ctrl-C`. ¿Puedes terminar su ejecución así? ¿Por qué? ¿A qué proceso le llega esta vez la señal `SIGINT`?\n",
    "\n",
    "RESPUESTA: Seguirá afectando al proceso que está en primer plano en el terminal, porque el programa se sigue ejecutando en un proceso hijo y ocurre lo mismo que antes. Llega al proceso del terminal que está en primer plano"
   ]
  },
  {
   "cell_type": "code",
   "execution_count": 6,
   "id": "d2eea050",
   "metadata": {},
   "outputs": [
    {
     "name": "stdout",
     "output_type": "stream",
     "text": [
      "[1] 290430\n"
     ]
    }
   ],
   "source": [
    "#VII.38\n",
    "#VII.34\n",
    "#VII.29\n",
    "#VII.28\n",
    "#VII.27\n",
    "#VII.26\n",
    "#VII.9\n",
    "# Comando para lanzar gnome-text-editor en segundo plano\n",
    "gnome-text-editor &"
   ]
  },
  {
   "cell_type": "markdown",
   "id": "34002cc0",
   "metadata": {},
   "source": [
    "- ¿Qué comando utilizarías para poder terminar el comando lanzado anteriormente sabiendo su PID?"
   ]
  },
  {
   "cell_type": "code",
   "execution_count": 7,
   "id": "91497829",
   "metadata": {},
   "outputs": [
    {
     "name": "stdout",
     "output_type": "stream",
     "text": [
      "No se ha encontrado la orden «gnome-text-editor», pero se puede instalar con:\n",
      "snap install gnome-text-editor  # version 45.1, or\n",
      "apt  install gedit              # version 41.0-3\n",
      "apt  install gnome-text-editor  # version 42.2-0ubuntu1\n",
      "Consulte «snap info gnome-text-editor» para ver más versiones.\n",
      "[1]+  Salida 127              gnome-text-editor\n",
      "bash: kill: [1]: los argumentos deben ser IDs de procesos o trabajos\n",
      "bash: kill: (290430) - No existe el proceso\n"
     ]
    },
    {
     "ename": "",
     "evalue": "1",
     "output_type": "error",
     "traceback": []
    }
   ],
   "source": [
    "#VII.2\n",
    "# Comando para terminar la ejecución del proceso lanzado a partir del nombre del programa\n",
    "kill [1] 290430"
   ]
  },
  {
   "cell_type": "markdown",
   "id": "71867479-8914-42fb-8ba8-ba12ad70dd14",
   "metadata": {},
   "source": [
    "PREGUNTA: Una vez terminada la ejecución del comando anterior, sin teclear ningún comando, presiona repetidamente `Ctrl-C`. ¿Qué ocurre cada vez que lo haces? ¿Es posible terminar la ejecución del shell de esa forma?\n"
   ]
  },
  {
   "cell_type": "markdown",
   "id": "37aad816-3363-4f07-80c1-26eed85d0adb",
   "metadata": {},
   "source": [
    "RESPUESTA: La señal de interrupción hace que termine la ejecución del proceso en primer plano. No, se interrumpe la ejecución del comando en primer plano, pero no mata al shell."
   ]
  },
  {
   "cell_type": "markdown",
   "id": "07b435d3-cc1f-4f5c-b34e-b3e1ef843226",
   "metadata": {},
   "source": [
    "- Lanza los programas `okteta` y `gnome-text-editor` desde el terminal, ambos en primer plano, como una secuencia de comandos consecutivos, en la misma línea de la siguiente celda:"
   ]
  },
  {
   "cell_type": "code",
   "execution_count": 8,
   "id": "8bb9c999-744b-48b8-b30d-2d06cd04baec",
   "metadata": {},
   "outputs": [
    {
     "name": "stdout",
     "output_type": "stream",
     "text": [
      "No se ha encontrado la orden «okteta», pero se puede instalar con:\n",
      "snap install okteta  # version 0.26.13, or\n",
      "apt  install okteta  # version 5:0.26.7-1\n",
      "Consulte «snap info okteta» para ver más versiones.\n",
      "No se ha encontrado la orden «gnome-text-editor», pero se puede instalar con:\n",
      "snap install gnome-text-editor  # version 45.1, or\n",
      "apt  install gedit              # version 41.0-3\n",
      "apt  install gnome-text-editor  # version 42.2-0ubuntu1\n",
      "Consulte «snap info gnome-text-editor» para ver más versiones.\n"
     ]
    },
    {
     "ename": "",
     "evalue": "127",
     "output_type": "error",
     "traceback": []
    }
   ],
   "source": [
    "# Lanzar okteta y después gnome-text-editor, ambos en primer plano\n",
    "okteta; gnome-text-editor"
   ]
  },
  {
   "cell_type": "markdown",
   "id": "6ebc93a7",
   "metadata": {},
   "source": [
    "PREGUNTA: ¿Qué ha de ocurrir para que comience a ejecutarse el editor `gnome-text-editor`? ¿Cuándo se completa la ejecución de la celda del notebook?"
   ]
  },
  {
   "cell_type": "markdown",
   "id": "0a6506e5-d6e3-4ae3-ad20-56f2f3f60ac7",
   "metadata": {},
   "source": [
    "RESPUESTA: Que el programa anterior finalice y se completa la ejecución cuando se ejecuten ambos programas.\n",
    "\n"
   ]
  },
  {
   "cell_type": "markdown",
   "id": "6f7a601c-0136-4e19-b8f5-ee8b05a7ce0c",
   "metadata": {},
   "source": [
    "- Vuelve a lanzar los dos programas en una misma línea de comandos, pero esta vez en segundo plano."
   ]
  },
  {
   "cell_type": "code",
   "execution_count": 9,
   "id": "552cf1f7-6670-413d-ae47-9d5fc1ba9a25",
   "metadata": {},
   "outputs": [
    {
     "name": "stdout",
     "output_type": "stream",
     "text": [
      "[1] 290879\n",
      "[2] 290880\n"
     ]
    }
   ],
   "source": [
    "# Lanzar okteta y después gnome-text-editor, ambos en segundo plano\n",
    "okteta & gnome-text-editor &"
   ]
  },
  {
   "cell_type": "markdown",
   "id": "b4948205-22c4-44fb-9532-47b40855f089",
   "metadata": {},
   "source": [
    "- Escribe el comando adecuado para pasar a primer plano el último proceso que se lanzó (el editor `gnome-text-editor`).\n",
    "\n",
    "RESPUESTA: fg %1"
   ]
  },
  {
   "cell_type": "markdown",
   "id": "f4576b30",
   "metadata": {},
   "source": [
    "PREGUNTA: Desde el terminal, termina el proceso que acabas de pasar a primer plano. ¿Qué teclas o comando has utilizado?\n",
    "\n",
    "RESPUESTA: He utilizado ctrl+C."
   ]
  },
  {
   "cell_type": "markdown",
   "id": "2a2a49f9-1684-4f43-b518-f646fa9af5b2",
   "metadata": {},
   "source": [
    "PREGUNTA: Repite el comando `fg` para hacer lo propio con el comando anterior (`okteta`), pero esta vez, en lugar de terminarlo, páralo. ¿Qué teclas o comando has utilizado?\n",
    "\n",
    "RESPUESTA: fg %2 para pasarlo a primer plano, y he utilizado ctrl+Z\n"
   ]
  },
  {
   "cell_type": "markdown",
   "id": "0f4215bc",
   "metadata": {},
   "source": [
    "PREGUNTA: Trata de interactuar con el proceso `okteta`, ¿por que no responde al ratón ni al teclado?\n",
    "\n",
    "RESPUESTA: Porque lo he detenido, pero puedo volver a activarlo más adelante.\n"
   ]
  },
  {
   "cell_type": "markdown",
   "id": "e509880d",
   "metadata": {},
   "source": [
    "PREGUNTA: Vuelve a despertar el proceso `okteta` pero esta vez en segundo plano. ¿Qué comando has de utilizar?\n",
    "\n",
    "RESPUESTA: bg %2\n",
    "\n"
   ]
  },
  {
   "cell_type": "markdown",
   "id": "c582f37f",
   "metadata": {},
   "source": [
    "- Usa la orden adecuada para listar los procesos lanzados desde el terminal donde estás ejecutando los comandos anteriores."
   ]
  },
  {
   "cell_type": "code",
   "execution_count": 16,
   "id": "c989208a",
   "metadata": {},
   "outputs": [
    {
     "name": "stdout",
     "output_type": "stream",
     "text": [
      "    PID TTY          TIME CMD\n",
      " 287689 pts/16   00:00:00 bash\n",
      " 291995 pts/16   00:00:00 ps\n"
     ]
    }
   ],
   "source": [
    "#VII.5\n",
    "# Comando para monitorizar los procesos activos lanzados en este terminal\n",
    "ps "
   ]
  },
  {
   "cell_type": "markdown",
   "id": "559c6d51-fb7e-4aa8-8bbc-a7066eadf691",
   "metadata": {},
   "source": [
    "```\n",
    "    PID TTY          TIME CMD\n",
    "  19422 pts/5    00:00:00 bash\n",
    "  27254 pts/5    00:00:01 okteta\n",
    "  28051 pts/5    00:00:00 ps\n",
    "```"
   ]
  },
  {
   "cell_type": "markdown",
   "id": "80a20a8a-14a2-4f48-8517-f464f2a6122b",
   "metadata": {},
   "source": [
    "- Finalmente, termina el proceso `okteta` desde el terminal esta vez usando el PID (identificador del proceso) que nos indicó el terminal al lanzar el proceso inicialmente."
   ]
  },
  {
   "cell_type": "code",
   "execution_count": 18,
   "id": "9f86707c",
   "metadata": {},
   "outputs": [
    {
     "name": "stdout",
     "output_type": "stream",
     "text": [
      "bash: kill: (290879) - No existe el proceso\n"
     ]
    },
    {
     "ename": "",
     "evalue": "1",
     "output_type": "error",
     "traceback": []
    }
   ],
   "source": [
    "#VII.6\n",
    "# Comando para terminar el proceso lanzado en segundo plano\n",
    "kill 290879"
   ]
  },
  {
   "cell_type": "markdown",
   "id": "e7cee5ac-bcec-4e17-baf4-c53759766a8a",
   "metadata": {},
   "source": [
    "PREGUNTA: Lanza de nuevo los programas `okteta` y `gnome-text-editor`, en dicho orden, pero esta vez únicamente con `okteta` en segundo plano. ¿Qué ocurre si ahora pulsas `Ctrl-C` en el terminal?\n",
    "\n",
    "RESPUESTA: Si lo pulsas, solo afectará a gnome-text-editor, porque es el proceso en primer plano."
   ]
  },
  {
   "cell_type": "markdown",
   "id": "00c51ed8",
   "metadata": {},
   "source": [
    "- Usando el comando adecuado, averigua el PID del proceso que está ejecutando `okteta` a partir de su nombre."
   ]
  },
  {
   "cell_type": "code",
   "execution_count": 20,
   "id": "9f9f5985",
   "metadata": {},
   "outputs": [
    {
     "ename": "",
     "evalue": "1",
     "output_type": "error",
     "traceback": []
    }
   ],
   "source": [
    "#VII.7\n",
    "# Comando para averiguar el PID del un proceso por el nombre del comando ejecutado\n",
    "pgrep okteta"
   ]
  },
  {
   "cell_type": "markdown",
   "id": "4a8907ca-3ed5-4e68-8b42-1372181296e8",
   "metadata": {},
   "source": [
    "- Termina el programa `okteta` sin necesidad de introducir su PID"
   ]
  },
  {
   "cell_type": "code",
   "execution_count": 21,
   "id": "57ccec94-bb9e-4744-a562-6ee857476af2",
   "metadata": {},
   "outputs": [
    {
     "ename": "",
     "evalue": "1",
     "output_type": "error",
     "traceback": []
    }
   ],
   "source": [
    "#VII.8\n",
    "pkill okteta"
   ]
  },
  {
   "cell_type": "markdown",
   "id": "f715191f-fce5-40c7-a9f0-049d7de99b3b",
   "metadata": {},
   "source": [
    "PREGUNTA: Descarga el programa ejecutable `uninterruptible`, el cual tienes disponible a través del AV, y cámbiale los permisos para poder ejecutarlo. Ejecútalo en primer plano y prueba a terminar su ejecución con `CTRL-C`. ¿Puedes? Explica qué semejanzas crees que tiene este programa con el programa *shell* en cuanto al tratamiento de la señal `SIGINT`.\n",
    "\n",
    "RESPUESTA: No se puede porque la señal es ignorada. La semejanza es que el programa trata ctrl+C al igual que el shell para programas en segundo plano."
   ]
  },
  {
   "cell_type": "markdown",
   "id": "3a223cf7-f83c-4a9b-8ea4-2002b8f5ea08",
   "metadata": {},
   "source": [
    "PREGUNTA: Detén la ejecución del programa lanzado anteriormente, sin terminarlo. Después lista los procesos lanzados en el terminal, ¿cuánto tiempo ha usado la CPU el programa `uninterruptible` antes de ser detenido? Si vuelves a listar los procesos, ¿ha variado el tiempo de CPU?\n",
    "\n",
    "RESPUESTA: Tiempo de CPU (00:08:09). No ha variado el tiempo, porque está detenido."
   ]
  },
  {
   "cell_type": "markdown",
   "id": "2959ee8e-3cd7-4eec-8478-0cfe7dc0ef4d",
   "metadata": {},
   "source": [
    "PREGUNTA: Reanuda en segundo plano la ejecución del programa detenido anteriormente, y usa el comando adecuado para observar periódicamente el tiempo de CPU que lleva consumido. ¿Qué porcentaje de la CPU usa cuando está en ejecución? ¿En qué medida crece el tiempo de uso de la CPU con respecto al tiempo \"del reloj de pared\" (medido por una persona)?\n",
    "\n",
    "RESPUESTA: Usa el 100% de la CPU, 14:29.32\n"
   ]
  },
  {
   "cell_type": "markdown",
   "id": "12e5101a-68ef-42e0-a9c2-e5a82f5261d5",
   "metadata": {},
   "source": [
    "PREGUNTA: Termina el programa `uninterruptible`, ya sea por su nombre o PID, enviando la señal `SIGTERM`. ¿Puedes terminar el proceso? Indica el comando que has utilizado.\n",
    "\n",
    "RESPUESTA: kill -15 5616. Np se puede acabar el proceso, porque el programa ignora esta señal."
   ]
  },
  {
   "cell_type": "markdown",
   "id": "50a497c3",
   "metadata": {},
   "source": [
    "PREGUNTA: A la vista de la salida del programa `uninterruptible` terminado en el paso anterior, ¿crees que el programa termina súbitamente al recibir la señal, o lo hace por sus propios medios?\n",
    "\n",
    "RESPUESTA: Lo hace por sus propios medios porque la señal la ignoró."
   ]
  },
  {
   "cell_type": "markdown",
   "id": "5cbaf5da-0fb9-4a71-abef-dfd0b6283cb4",
   "metadata": {},
   "source": [
    "PREGUNTA: Descarga el programa `stubborn` del AV y cámbiale los permisos para poder ejecutarlo. Después, ejecútalo en primer plano y prueba a terminar su ejecución con `CTRL-C`. ¿Qué ocurre? De nuevo, observa los procesos en ejecución con el comando adecuado, ¿cuál es su uso de CPU?\n",
    "\n",
    "RESPUESTA: El programa ignora la señal y su uso de la CPU es del 99%."
   ]
  },
  {
   "cell_type": "markdown",
   "id": "8e8df847-5afc-4622-b5f9-3955cabf9832",
   "metadata": {},
   "source": [
    "PREGUNTA: Detén la ejecución del programa lanzado anteriormente, sin terminarlo, y luego reanuda en segundo plano su ejecución. Después, trata de terminar el programa `stubborn`, ya sea por su nombre o PID, enviando la señal `SIGTERM` al igual que has hecho anteriormente. ¿Puedes terminar el proceso de esta forma?\n",
    "\n",
    "RESPUESTA: Con la señal SIGTERM no se puede, porque el programa ignora esta señal.\n",
    "\n"
   ]
  },
  {
   "cell_type": "markdown",
   "id": "3d3e8e0e",
   "metadata": {},
   "source": [
    "PREGUNTA: A la vista de lo anterior, ¿de qué forma podemos terminar el proceso `stubborn`? Indica el comando.\n",
    "\n",
    "RESPUESTA: La forma con la que sí se puede acabar es con SIGKILL.\n",
    "\n",
    "La única forma de acabar con el proceso es \"matarlo\" con `pkill -9 stubborn`, lo cual hace que se le envíe la señal `SIGKILL`, que ningún proceso puede ignorar. Al hacerlo, vemos este mensaje: \n",
    "```\n",
    "[1]+  Terminado (killed)      ./stubborn\n",
    "```\n"
   ]
  },
  {
   "cell_type": "markdown",
   "id": "b33cb824",
   "metadata": {},
   "source": [
    "### Listado y monitorización de procesos"
   ]
  },
  {
   "cell_type": "markdown",
   "id": "d9456ca4",
   "metadata": {},
   "source": [
    "- Usa el comando adecuado para mostrar **todos** los procesos que se están ejecutando actualmente en el sistema."
   ]
  },
  {
   "cell_type": "code",
   "execution_count": 1,
   "id": "dcbfdbf2",
   "metadata": {},
   "outputs": [
    {
     "name": "stdout",
     "output_type": "stream",
     "text": [
      "UID          PID    PPID  C STIME TTY          TIME CMD\n",
      "root           1       0  0 nov14 ?        00:02:41 /sbin/init\n",
      "root           2       0  0 nov14 ?        00:00:00 [kthreadd]\n",
      "root           3       2  0 nov14 ?        00:00:00 [pool_workqueue_release]\n",
      "root           4       2  0 nov14 ?        00:00:00 [kworker/R-rcu_g]\n",
      "root           5       2  0 nov14 ?        00:00:00 [kworker/R-rcu_p]\n",
      "root           6       2  0 nov14 ?        00:00:00 [kworker/R-slub_]\n",
      "root           7       2  0 nov14 ?        00:00:00 [kworker/R-netns]\n",
      "root          10       2  0 nov14 ?        00:00:00 [kworker/0:0H-events_highpri\n",
      "root          12       2  0 nov14 ?        00:00:00 [kworker/R-mm_pe]\n",
      "root          13       2  0 nov14 ?        00:00:00 [rcu_tasks_rude_kthread]\n",
      "root          14       2  0 nov14 ?        00:00:00 [rcu_tasks_trace_kthread]\n",
      "root          15       2  0 nov14 ?        00:00:01 [ksoftirqd/0]\n",
      "root          16       2  0 nov14 ?        00:00:49 [rcu_sched]\n",
      "root          17       2  0 nov14 ?        00:00:08 [migration/0]\n",
      "root          18       2  0 nov14 ?        00:00:00 [idle_inject/0]\n",
      "root          19       2  0 nov14 ?        00:00:00 [cpuhp/0]\n",
      "root          20       2  0 nov14 ?        00:00:00 [cpuhp/1]\n",
      "root          21       2  0 nov14 ?        00:00:00 [idle_inject/1]\n",
      "root          22       2  0 nov14 ?        00:00:07 [migration/1]\n",
      "root          23       2  0 nov14 ?        00:00:01 [ksoftirqd/1]\n",
      "root          25       2  0 nov14 ?        00:00:00 [kworker/1:0H-events_highpri\n",
      "root          26       2  0 nov14 ?        00:00:00 [cpuhp/2]\n",
      "root          27       2  0 nov14 ?        00:00:00 [idle_inject/2]\n",
      "root          28       2  0 nov14 ?        00:00:06 [migration/2]\n",
      "root          29       2  0 nov14 ?        00:00:01 [ksoftirqd/2]\n",
      "root          31       2  0 nov14 ?        00:00:00 [kworker/2:0H-kblockd]\n",
      "root          32       2  0 nov14 ?        00:00:00 [cpuhp/3]\n",
      "root          33       2  0 nov14 ?        00:00:00 [idle_inject/3]\n",
      "root          34       2  0 nov14 ?        00:00:06 [migration/3]\n",
      "root          35       2  0 nov14 ?        00:00:01 [ksoftirqd/3]\n",
      "root          37       2  0 nov14 ?        00:00:00 [kworker/3:0H-events_highpri\n",
      "root          38       2  0 nov14 ?        00:00:00 [kdevtmpfs]\n",
      "root          39       2  0 nov14 ?        00:00:00 [kworker/R-inet_]\n",
      "root          41       2  0 nov14 ?        00:00:00 [kauditd]\n",
      "root          42       2  0 nov14 ?        00:00:00 [khungtaskd]\n",
      "root          43       2  0 nov14 ?        00:00:00 [oom_reaper]\n",
      "root          45       2  0 nov14 ?        00:00:00 [kworker/R-write]\n",
      "root          46       2  0 nov14 ?        00:01:00 [kcompactd0]\n",
      "root          47       2  0 nov14 ?        00:00:00 [ksmd]\n",
      "root          48       2  0 nov14 ?        00:00:07 [khugepaged]\n",
      "root          49       2  0 nov14 ?        00:00:00 [kworker/R-kinte]\n",
      "root          50       2  0 nov14 ?        00:00:00 [kworker/R-kbloc]\n",
      "root          51       2  0 nov14 ?        00:00:00 [kworker/R-blkcg]\n",
      "root          52       2  0 nov14 ?        00:00:00 [irq/9-acpi]\n",
      "root          56       2  0 nov14 ?        00:00:00 [kworker/R-tpm_d]\n",
      "root          57       2  0 nov14 ?        00:00:00 [kworker/R-ata_s]\n",
      "root          58       2  0 nov14 ?        00:00:00 [kworker/R-md]\n",
      "root          59       2  0 nov14 ?        00:00:00 [kworker/R-md_bi]\n",
      "root          60       2  0 nov14 ?        00:00:00 [kworker/R-edac-]\n",
      "root          61       2  0 nov14 ?        00:00:00 [kworker/R-devfr]\n",
      "root          62       2  0 nov14 ?        00:00:00 [watchdogd]\n",
      "root          63       2  0 nov14 ?        00:00:04 [kworker/1:1H-kblockd]\n",
      "root          64       2  0 nov14 ?        00:00:13 [kswapd0]\n",
      "root          65       2  0 nov14 ?        00:00:00 [ecryptfs-kthread]\n",
      "root          66       2  0 nov14 ?        00:00:00 [kworker/R-kthro]\n",
      "root          67       2  0 nov14 ?        00:00:00 [kworker/R-acpi_]\n",
      "root          68       2  0 nov14 ?        00:00:37 [hwrng]\n",
      "root          69       2  0 nov14 ?        00:00:00 [scsi_eh_0]\n",
      "root          70       2  0 nov14 ?        00:00:00 [kworker/R-scsi_]\n",
      "root          71       2  0 nov14 ?        00:00:00 [kworker/R-nvme-]\n",
      "root          72       2  0 nov14 ?        00:00:00 [kworker/R-nvme-]\n",
      "root          73       2  0 nov14 ?        00:00:00 [kworker/R-nvme-]\n",
      "root          74       2  0 nov14 ?        00:00:00 [kworker/R-nvme-]\n",
      "root          75       2  0 nov14 ?        00:00:04 [kworker/0:1H-kblockd]\n",
      "root          76       2  0 nov14 ?        00:00:04 [kworker/2:1H-kblockd]\n",
      "root          77       2  0 nov14 ?        00:00:11 [kworker/3:1H-kblockd]\n",
      "root          78       2  0 nov14 ?        00:00:00 [kworker/R-mld]\n",
      "root          79       2  0 nov14 ?        00:00:00 [kworker/R-ipv6_]\n",
      "root          86       2  0 nov14 ?        00:00:00 [kworker/R-kstrp]\n",
      "root          89       2  0 nov14 ?        00:00:00 [kworker/u9:0]\n",
      "root         102       2  0 nov14 ?        00:00:00 [kworker/R-charg]\n",
      "root         103       2  0 nov14 ?        00:00:49 [jbd2/sda1-8]\n",
      "root         104       2  0 nov14 ?        00:00:00 [kworker/R-ext4-]\n",
      "root         145       1  0 nov14 ?        00:15:00 /lib/systemd/systemd-journal\n",
      "root         178       2  0 nov14 ?        00:00:00 [kworker/R-kalua]\n",
      "root         180       2  0 nov14 ?        00:00:00 [kworker/R-kmpat]\n",
      "root         182       2  0 nov14 ?        00:00:00 [kworker/R-kmpat]\n",
      "root         183       2  0 nov14 ?        00:00:00 [kworker/R-kmpat]\n",
      "root         185       1  0 nov14 ?        00:02:31 /sbin/multipathd -d -s\n",
      "root         195       1  0 nov14 ?        00:00:02 /lib/systemd/systemd-udevd\n",
      "root         224       2  0 nov14 ?        00:00:00 [kworker/R-crypt]\n",
      "systemd+     401       1  0 nov14 ?        00:00:08 /lib/systemd/systemd-network\n",
      "systemd+     403       1  0 nov14 ?        00:00:04 /lib/systemd/systemd-resolve\n",
      "root         436       1  0 nov14 ?        00:02:10 /usr/libexec/accounts-daemon\n",
      "message+     438       1  0 nov14 ?        00:00:06 @dbus-daemon --system --addr\n",
      "root         442       1  0 nov14 ?        00:03:15 /usr/bin/google_osconfig_age\n",
      "root         446       1  0 nov14 ?        00:00:01 /usr/bin/python3 /usr/bin/ne\n",
      "syslog       449       1  0 nov14 ?        00:03:50 /usr/sbin/rsyslogd -n -iNONE\n",
      "root         472       1  0 nov14 ?        00:29:30 /opt/tljh/hub/bin/traefik -c\n",
      "_chrony      475       1  0 nov14 ?        00:00:00 /usr/sbin/chronyd -F 1\n",
      "root         476       1  0 nov14 ?        00:23:32 /opt/tljh/hub/bin/python3 -m\n",
      "_chrony      478     475  0 nov14 ?        00:00:00 /usr/sbin/chronyd -F 1\n",
      "root         614       1  0 nov14 ?        00:02:48 /usr/bin/google_guest_agent\n",
      "root         623       1  0 nov14 ?        00:00:00 /usr/libexec/polkitd --no-de\n",
      "root         688       1  0 nov14 ?        00:00:00 /usr/bin/python3 /usr/share/\n",
      "root         752       1  0 nov14 ttyS0    00:00:00 /sbin/agetty -o -p -- \\u --k\n",
      "root         754       1  0 nov14 tty1     00:00:00 /sbin/agetty -o -p -- \\u --n\n",
      "root         755       1  0 nov14 ?        00:00:00 sshd: /usr/sbin/sshd -D [lis\n",
      "root         767       1  0 nov14 ?        00:00:04 /lib/systemd/systemd-logind\n",
      "root         786       1  0 nov14 ?        00:00:02 /usr/sbin/cron -f -P\n",
      "root         819     476  0 nov14 ?        00:02:12 /opt/tljh/hub/bin/python3 -m\n",
      "root         823       2  0 nov14 ?        00:00:00 [kworker/R-tls-s]\n",
      "root        1223       1  0 nov14 ?        00:00:09 /usr/libexec/packagekitd\n",
      "root      224712       2  0 nov26 ?        00:00:13 [kworker/1:2-mm_percpu_wq]\n",
      "root      225535       2  0 nov26 ?        00:00:14 [kworker/3:1-mm_percpu_wq]\n",
      "root      228728       1  0 nov26 ?        00:00:23 /usr/lib/snapd/snapd\n",
      "root      298827       2  0 nov30 ?        00:00:03 [kworker/0:2-events]\n",
      "root      306234       2  0 00:56 ?        00:00:09 [kworker/2:1-pm]\n",
      "jupyter+  311652       1  1 16:31 ?        00:02:21 /opt/tljh/user/bin/python /o\n",
      "jupyter+  311663  311652  0 16:31 pts/2    00:00:00 /bin/bash -l\n",
      "jupyter+  311684  311652  0 16:31 ?        00:00:01 /opt/tljh/user/bin/python3 -\n",
      "jupyter+  311687  311652  0 16:31 ?        00:00:01 /opt/tljh/user/bin/python3 -\n",
      "jupyter+  311700  311684  0 16:31 pts/3    00:00:00 /usr/bin/bash --rcfile /opt/\n",
      "jupyter+  311719  311687  0 16:31 pts/4    00:00:00 /usr/bin/bash --rcfile /opt/\n",
      "jupyter+  311753  311652  0 16:32 ?        00:00:02 /opt/tljh/user/bin/python3 -\n",
      "jupyter+  311766  311753  0 16:32 pts/5    00:00:00 /usr/bin/bash --rcfile /opt/\n",
      "jupyter+  311962  311652  0 16:44 ?        00:00:01 /opt/tljh/user/bin/python3 -\n",
      "jupyter+  311975  311962  0 16:44 pts/0    00:00:00 /usr/bin/bash --rcfile /opt/\n",
      "jupyter+  311989  311652  0 16:44 ?        00:00:01 /opt/tljh/user/bin/python3 -\n",
      "jupyter+  312002  311989  0 16:44 pts/1    00:00:00 /usr/bin/bash --rcfile /opt/\n",
      "root      312649       2  0 17:40 ?        00:00:00 [kworker/u8:2-flush-8:0]\n",
      "root      312991       2  0 17:55 ?        00:00:00 [kworker/u8:0-events_unbound\n",
      "root      313534       2  0 18:27 ?        00:00:00 [kworker/1:1-cgroup_destroy]\n",
      "jupyter+  314306  311652  0 18:40 ?        00:00:00 /opt/tljh/user/bin/python3 -\n",
      "jupyter+  314319  314306  0 18:40 pts/15   00:00:00 /usr/bin/bash --rcfile /opt/\n",
      "jupyter+  314348  311652  0 18:40 ?        00:00:00 /opt/tljh/user/bin/python3 -\n",
      "jupyter+  314361  314348  0 18:40 pts/16   00:00:00 /usr/bin/bash --rcfile /opt/\n",
      "root      314598       2  0 18:47 ?        00:00:00 [kworker/2:2]\n",
      "root      314629       2  0 18:48 ?        00:00:00 [kworker/0:1]\n",
      "root      314816       2  0 18:58 ?        00:00:00 [kworker/3:2-cgroup_destroy]\n",
      "jupyter+  314902       1  1 19:02 ?        00:00:06 /opt/tljh/user/bin/python /o\n",
      "root      314912       2  0 19:02 ?        00:00:00 [kworker/u8:3-events_power_e\n",
      "root      314917       2  0 19:02 ?        00:00:00 [kworker/u8:4-events_power_e\n",
      "jupyter+  314927  314902  0 19:02 ?        00:00:00 /opt/tljh/user/bin/python3 -\n",
      "jupyter+  314943  314927  0 19:02 pts/6    00:00:00 /usr/bin/bash --rcfile /opt/\n",
      "jupyter+  314958  314902  0 19:02 ?        00:00:00 /opt/tljh/user/bin/python3 -\n",
      "jupyter+  314971  314958  0 19:02 pts/7    00:00:00 /usr/bin/bash --rcfile /opt/\n",
      "jupyter+  315043       1  2 19:03 ?        00:00:07 /opt/tljh/user/bin/python /o\n",
      "jupyter+  315064  315043  0 19:04 ?        00:00:00 /opt/tljh/user/bin/python -m\n",
      "jupyter+  315067  315043  0 19:04 ?        00:00:00 /opt/tljh/user/bin/python -m\n",
      "jupyter+  315108       1  2 19:04 ?        00:00:06 /opt/tljh/user/bin/python /o\n",
      "jupyter+  315136  315108  0 19:04 ?        00:00:00 /opt/tljh/user/bin/python3 -\n",
      "jupyter+  315151  315136  0 19:04 pts/8    00:00:00 /usr/bin/bash --rcfile /opt/\n",
      "jupyter+  315163  315108  0 19:04 ?        00:00:00 /opt/tljh/user/bin/python3 -\n",
      "jupyter+  315176  315163  0 19:04 pts/9    00:00:00 /usr/bin/bash --rcfile /opt/\n",
      "jupyter+  315378  315176  0 19:08 pts/9    00:00:00 ps -Af\n"
     ]
    }
   ],
   "source": [
    "ps -Af"
   ]
  },
  {
   "cell_type": "markdown",
   "id": "4f9ed984",
   "metadata": {},
   "source": [
    "- Localiza tres procesos cuyo propietario sea nuestro usuario, y otros tres cuyo propietario sea el superusuario (root). Pega la línea completa mostrada para cada proceso.\n",
    "\n",
    "RESPUESTA:\n",
    "Tres procesos de nuestro usuario:\n",
    "jupyter+  311652       1  1 16:31 ?        00:02:21 /opt/tljh/user/bin/python /opt/tljh/user/bin/jupyterhub-singleuser\n",
    "jupyter+  311663  311652  0 16:31 pts/2    00:00:00 /bin/bash -l\n",
    "jupyter+  311684  311652  0 16:31 ?        00:00:01 /opt/tljh/user/bin/python3 -\n",
    "Tres procesos de root:\n",
    "root          60       2  0 nov14 ?        00:00:00 [kworker/R-edac-]\n",
    "root          48       2  0 nov14 ?        00:00:07 [khugepaged]\n",
    "root          62       2  0 nov14 ?        00:00:00 [watchdogd]"
   ]
  },
  {
   "cell_type": "markdown",
   "id": "50897f10",
   "metadata": {},
   "source": [
    "- Localiza el proceso que ha consumido más tiempo de CPU. Pega la línea completa mostrada.\n",
    "\n",
    "RESPUESTA:\n",
    "root         472       1  0 nov14 ?        00:29:30 /opt/tljh/hub/bin/traefik -c"
   ]
  },
  {
   "cell_type": "markdown",
   "id": "52e16c59",
   "metadata": {},
   "source": [
    "- Localiza también el último que se lanzó, mirando las horas de inicio. Pega la línea completa mostrada.\n",
    "\n",
    "RESPUESTA: jupyter+  315378  315176  0 19:08 pts/9    00:00:00 ps -Af\n"
   ]
  },
  {
   "cell_type": "markdown",
   "id": "78d785a5",
   "metadata": {},
   "source": [
    "- Lanza desde la interfaz de usuario el navegador firefox, y navega hasta la página `www.google.es`, mientras observas mediante `top` la evolución dinámica del consumo de memoria y CPU de los procesos involucrados.  Puedes dividir la pantalla entre ambas ventanas, terminal y navegador, para observar la salida de top mientras navegas. Luego, prueba a navegar a la página `www.youtube.com`. ¿En cuál de las dos páginas se hace más uso de la CPU?\n",
    "\n",
    "RESPUESTA: Youtube usa más la CPU porque está cargando constantemente nuevos vídeos."
   ]
  },
  {
   "cell_type": "markdown",
   "id": "03a93d11",
   "metadata": {},
   "source": [
    "### Redireccionamiento de la entrada/salida de un proceso"
   ]
  },
  {
   "cell_type": "code",
   "execution_count": 2,
   "id": "493203c3-ee8c-47fb-ac18-6446131d97e3",
   "metadata": {},
   "outputs": [
    {
     "name": "stdout",
     "output_type": "stream",
     "text": [
      "/usr/bin/ld  /usr/bin/ln  /usr/bin/ls\n"
     ]
    }
   ],
   "source": [
    "#VII.10\n",
    "# Lista todos los ficheros en `/usr/bin/` cuyo nombre empiece por 'l'\n",
    "# y tenga exactamente dos caracteres\n",
    "ls /usr/bin/l?"
   ]
  },
  {
   "cell_type": "code",
   "execution_count": 3,
   "id": "703757b1-f7ea-451e-9683-a4613d702c3c",
   "metadata": {},
   "outputs": [],
   "source": [
    "#VII.11\n",
    "# Repite el comando anterior, redireccionando la salida a un fichero llamado progs-l.txt\n",
    "ls /usr/bin/l? > progs-l.txt"
   ]
  },
  {
   "cell_type": "code",
   "execution_count": 4,
   "id": "9c8b8a14-e560-4fa0-8824-3fc172cd2b1e",
   "metadata": {},
   "outputs": [
    {
     "name": "stdout",
     "output_type": "stream",
     "text": [
      "/usr/bin/ld\n",
      "/usr/bin/ln\n",
      "/usr/bin/ls\n"
     ]
    }
   ],
   "source": [
    "#VII.12\n",
    "# Muestra el contenido del fichero progs-l.txt\n",
    "cat progs-l.txt"
   ]
  },
  {
   "cell_type": "code",
   "execution_count": 5,
   "id": "6ed0e4e5-80f7-40eb-80b8-bcc2be9e5f92",
   "metadata": {},
   "outputs": [],
   "source": [
    "#VII.13\n",
    "# Añade al final de dicho fichero un mensaje que diga \"FIN DEL LISTADO\", usando `echo` y la redirección\n",
    "echo \"FIN DEL LISTADO\" >> progs-l.txt"
   ]
  },
  {
   "cell_type": "code",
   "execution_count": 6,
   "id": "a0a027d5-64d8-46e9-a0f5-31770ab674c0",
   "metadata": {},
   "outputs": [
    {
     "name": "stdout",
     "output_type": "stream",
     "text": [
      "/usr/bin/ld\n",
      "/usr/bin/ln\n",
      "/usr/bin/ls\n",
      "FIN DEL LISTADO\n"
     ]
    }
   ],
   "source": [
    "#VII.14\n",
    "# Muestra de nuevo el contenido del fichero\n",
    "cat progs-l.txt"
   ]
  },
  {
   "cell_type": "code",
   "execution_count": 7,
   "id": "40297afb-a388-492e-a377-bb69951a011a",
   "metadata": {},
   "outputs": [
    {
     "name": "stdout",
     "output_type": "stream",
     "text": [
      "-rw-r--r-- 1 root root       3028 ago 29 17:22 /etc/adduser.conf\n",
      "-rw-r--r-- 1 root root       2319 ene  6  2022 /etc/bash.bashrc\n",
      "-rw-r--r-- 1 root root         45 nov 11  2021 /etc/bash_completion\n",
      "-rw-r--r-- 1 root root        367 dic 16  2020 /etc/bindresvport.blacklist\n",
      "-rw-r--r-- 1 root root        111 sep  3 02:03 /etc/boto.cfg\n",
      "-rw-r--r-- 1 root root       6890 sep 27 06:16 /etc/ca-certificates.conf\n",
      "-rw-r--r-- 1 root root       6253 ago 29 17:23 /etc/ca-certificates.conf.dpkg-old\n",
      "-rw-r--r-- 1 root root       1136 mar 23  2022 /etc/crontab\n",
      "-rw-r--r-- 1 root root         54 ago 29 17:23 /etc/crypttab\n",
      "-rw-r--r-- 1 root root       2969 feb 20  2022 /etc/debconf.conf\n",
      "-rw-r--r-- 1 root root         13 ago 22  2021 /etc/debian_version\n",
      "-rw-r--r-- 1 root root        604 sep 16  2018 /etc/deluser.conf\n",
      "-rw-r--r-- 1 root root        685 ene  8  2022 /etc/e2scrub.conf\n",
      "-rw-r--r-- 1 root root         37 ago 29 17:24 /etc/ec2_version\n",
      "-rw-r--r-- 1 root root        106 ago 29 17:22 /etc/environment\n",
      "-rw-r--r-- 1 root root       1816 dic 27  2019 /etc/ethertypes\n",
      "-rw-r--r-- 1 root root        119 nov 14 10:18 /etc/fstab\n",
      "-rw-r--r-- 1 root root        694 mar 23  2022 /etc/fuse.conf\n",
      "-rw-r--r-- 1 root root       2584 feb  3  2022 /etc/gai.conf\n",
      "-rw-r--r-- 1 root root         20 sep  3 02:03 /etc/google_instance_id\n",
      "-rw-r--r-- 1 root root       4254 nov  4 20:13 /etc/group\n",
      "-rw-r--r-- 1 root root       4228 nov  4 20:13 /etc/group-\n",
      "-rw-r----- 1 root shadow     3907 nov  4 20:13 /etc/gshadow\n",
      "-rw-r----- 1 root shadow     3881 nov  4 20:13 /etc/gshadow-\n",
      "-rw-r--r-- 1 root root       4436 dic 15  2020 /etc/hdparm.conf\n",
      "-rw-r--r-- 1 root root         92 oct 15  2021 /etc/host.conf\n",
      "-rw-r--r-- 1 root root         20 sep  3 02:03 /etc/hostname\n",
      "-rw-r--r-- 1 root root        271 ago 29 17:28 /etc/hosts\n",
      "-rw-r--r-- 1 root root        411 ago 29 17:24 /etc/hosts.allow\n",
      "-rw-r--r-- 1 root root        711 ago 29 17:24 /etc/hosts.deny\n",
      "-rw-r--r-- 1 root root       1748 ene  6  2022 /etc/inputrc\n",
      "-rw-r--r-- 1 root root         26 feb 14  2024 /etc/issue\n",
      "-rw-r--r-- 1 root root         19 feb 14  2024 /etc/issue.net\n",
      "-rw-r--r-- 1 root root        110 ago 29 17:23 /etc/kernel-img.conf\n",
      "-rw-r--r-- 1 root root      26723 nov 21 06:42 /etc/ld.so.cache\n",
      "-rw-r--r-- 1 root root         34 dic 16  2020 /etc/ld.so.conf\n",
      "-rw-r--r-- 1 root root        267 oct 15  2021 /etc/legal\n",
      "-rw-r--r-- 1 root root        191 mar 17  2022 /etc/libaudit.conf\n",
      "-rw-r--r-- 1 root root       2996 mar  4  2022 /etc/locale.alias\n",
      "-rw-r--r-- 1 root root       9454 sep  5 21:45 /etc/locale.gen\n",
      "lrwxrwxrwx 1 root root         33 sep 24 21:21 /etc/localtime -> /usr/share/zoneinfo/Europe/Madrid\n",
      "-rw-r--r-- 1 root root      10734 nov 11  2021 /etc/login.defs\n",
      "-rw-r--r-- 1 root root        592 ene 24  2022 /etc/logrotate.conf\n",
      "-rw-r--r-- 1 root root        104 feb 14  2024 /etc/lsb-release\n",
      "-r--r--r-- 1 root root         33 sep  3 02:03 /etc/machine-id\n",
      "-rw-r--r-- 1 root root        111 sep 11  2023 /etc/magic\n",
      "-rw-r--r-- 1 root root        111 sep 11  2023 /etc/magic.mime\n",
      "-rw-r--r-- 1 root root       5217 mar 17  2022 /etc/manpath.config\n",
      "-rw-r--r-- 1 root root      72029 mar 21  2022 /etc/mime.types\n",
      "-rw-r--r-- 1 root root        744 ene  8  2022 /etc/mke2fs.conf\n",
      "-rw-r--r-- 1 root root        195 ago 29 17:22 /etc/modules\n",
      "lrwxrwxrwx 1 root root         19 ago 29 17:22 /etc/mtab -> ../proc/self/mounts\n",
      "-rw-r--r-- 1 root root         41 oct 31  2023 /etc/multipath.conf\n",
      "-rw-r--r-- 1 root root      11204 feb  9  2022 /etc/nanorc\n",
      "-rw-r--r-- 1 root root        767 mar 24  2022 /etc/netconfig\n",
      "-rw-r--r-- 1 root root         91 oct 15  2021 /etc/networks\n",
      "-rwxr-xr-x 1 root root        228 mar 23  2022 /etc/nftables.conf\n",
      "-rw-r--r-- 1 root root        554 sep  3 02:03 /etc/nsswitch.conf\n",
      "-rw-r--r-- 1 root root       1238 dic  1 16:46 /etc/oslogin_passwd.cache\n",
      "lrwxrwxrwx 1 root root         21 feb 14  2024 /etc/os-release -> ../usr/lib/os-release\n",
      "-rw-r--r-- 1 root root       6920 ago 17  2020 /etc/overlayroot.conf\n",
      "-rw-r--r-- 1 root root        112 ago 29 17:24 /etc/overlayroot.local.conf\n",
      "-rw-r--r-- 1 root root        552 ago 12  2020 /etc/pam.conf\n",
      "-rw-r--r-- 1 root root       6129 nov 14 10:27 /etc/passwd\n",
      "-rw-r--r-- 1 root root       6113 nov 14 10:27 /etc/passwd-\n",
      "-rw-r--r-- 1 root root        582 oct 15  2021 /etc/profile\n",
      "-rw-r--r-- 1 root root       2932 abr  1  2013 /etc/protocols\n",
      "-rw-r--r-- 1 root root        220 mar 25  2022 /etc/quotagrpadmins\n",
      "-rw-r--r-- 1 root root        526 feb  9  2021 /etc/quotatab\n",
      "lrwxrwxrwx 1 root root         39 ago 29 17:22 /etc/resolv.conf -> ../run/systemd/resolve/stub-resolv.conf\n",
      "lrwxrwxrwx 1 root root         13 dic  5  2023 /etc/rmt -> /usr/sbin/rmt\n",
      "-rw-r--r-- 1 root root        887 abr  1  2013 /etc/rpc\n",
      "-rw-r--r-- 1 root root       1382 dic 24  2021 /etc/rsyslog.conf\n",
      "-rw-r--r-- 1 root root       3663 jun 20  2016 /etc/screenrc\n",
      "-rw-r--r-- 1 root root      10593 mar 31  2022 /etc/sensors3.conf\n",
      "-rw-r--r-- 1 root root      12813 mar 27  2021 /etc/services\n",
      "-rw-r----- 1 root shadow     3461 nov 14 10:27 /etc/shadow\n",
      "-rw-r----- 1 root shadow     3461 nov 14 10:27 /etc/shadow-\n",
      "-rw-r--r-- 1 root root        158 ago 29 17:24 /etc/shells\n",
      "-rw-r--r-- 1 root root       2145 nov  4 20:13 /etc/subgid\n",
      "-rw-r--r-- 1 root root       2105 oct 24 12:27 /etc/subgid-\n",
      "-rw-r--r-- 1 root root       2145 nov  4 20:13 /etc/subuid\n",
      "-rw-r--r-- 1 root root       2105 oct 24 12:27 /etc/subuid-\n",
      "-rw-r--r-- 1 root root       4573 feb 14  2022 /etc/sudo.conf\n",
      "-r--r----- 1 root root       1671 feb  8  2022 /etc/sudoers\n",
      "-rw-r--r-- 1 root root       9390 feb 14  2022 /etc/sudo_logsrvd.conf\n",
      "-rw-r--r-- 1 root root       2355 feb 25  2022 /etc/sysctl.conf\n",
      "-rw-r--r-- 1 root root         14 sep 24 21:21 /etc/timezone\n",
      "-rw-r--r-- 1 root root       1260 jun 16  2020 /etc/ucf.conf\n",
      "-rw-r--r-- 1 root root       1523 mar 25  2022 /etc/usb_modeswitch.conf\n",
      "lrwxrwxrwx 1 root root         23 ago 29 17:23 /etc/vtrgb -> /etc/alternatives/vtrgb\n",
      "-rw-r--r-- 1 root root        314 feb  9  2021 /etc/warnquota.conf\n",
      "-rw-r--r-- 1 root root       4942 jun 19 14:15 /etc/wgetrc\n",
      "-rw-r--r-- 1 root root        681 mar 23  2022 /etc/xattr.conf\n",
      "-rw-r--r-- 1 root root        460 dic  8  2021 /etc/zsh_command_not_found\n"
     ]
    }
   ],
   "source": [
    "#VII.15\n",
    "# Utilizando el comando ls con la opción adecuada y la redirección de la salida estándar/de error,\n",
    "# averigua sobre qué subdirectorios de /etc no tienes permisos de acceso. PISTA: usa /dev/null\n",
    "# para descartar la salida que no te interese.\n",
    "ls -ld /etc/* 2>/dev/null | grep -v '^d' "
   ]
  },
  {
   "cell_type": "code",
   "execution_count": 8,
   "id": "ff133717-ed86-48c9-9f50-b0ba0f50c4e6",
   "metadata": {},
   "outputs": [],
   "source": [
    "#VII.16\n",
    "# Crea dos directorios, llamados dir1 y dir2\n",
    "mkdir dir1 dir2"
   ]
  },
  {
   "cell_type": "code",
   "execution_count": 36,
   "id": "1d30d81f",
   "metadata": {},
   "outputs": [],
   "source": [
    "#VII.17\n",
    "# Copia el fichero stubborn a dir2\n",
    "cp stubborn dir2/"
   ]
  },
  {
   "cell_type": "code",
   "execution_count": 37,
   "id": "32c7c204",
   "metadata": {},
   "outputs": [
    {
     "name": "stdout",
     "output_type": "stream",
     "text": [
      "dir1:\n",
      "\n",
      "dir2:\n",
      "stubborn\n"
     ]
    }
   ],
   "source": [
    "#VII.19\n",
    "# Listar el contenido de dir1 y dir2 en un mismo comando\n",
    "ls dir1 dir2"
   ]
  },
  {
   "cell_type": "code",
   "execution_count": 38,
   "id": "7a95b75c",
   "metadata": {},
   "outputs": [],
   "source": [
    "#VII.20\n",
    "# Cambia los permisos a dir2 para que nadie tenga acceso\n",
    "chmod 000 dir2"
   ]
  },
  {
   "cell_type": "code",
   "execution_count": 39,
   "id": "0f4b1d2c-f73b-4a04-804e-4ccd0c406fad",
   "metadata": {},
   "outputs": [
    {
     "name": "stdout",
     "output_type": "stream",
     "text": [
      "dir1:\n",
      "ls: no se puede abrir el directorio 'dir2': Permiso denegado\n"
     ]
    },
    {
     "ename": "",
     "evalue": "2",
     "output_type": "error",
     "traceback": []
    }
   ],
   "source": [
    "#VII.21\n",
    "# Listar el contenido de dir1 y dir2 en un mismo comando\n",
    "ls dir1 dir2"
   ]
  },
  {
   "cell_type": "code",
   "execution_count": 41,
   "id": "5e379716-ef05-4bcd-a1a9-1f0bcc1d0e54",
   "metadata": {},
   "outputs": [
    {
     "ename": "",
     "evalue": "2",
     "output_type": "error",
     "traceback": []
    }
   ],
   "source": [
    "#VII.22\n",
    "# Utilizando la redirección de la salida estándar/de error, lista\n",
    "# los directorios dir1 y dir2, de forma que los mensajes de error\n",
    "# vayan al fichero \"errores_ls\" y el resto al fichero \"salida_ls\"\n",
    "ls dir1 dir2 > salida_ls 2> errores_ls"
   ]
  },
  {
   "cell_type": "code",
   "execution_count": 42,
   "id": "16589667",
   "metadata": {},
   "outputs": [
    {
     "name": "stdout",
     "output_type": "stream",
     "text": [
      "ls: no se puede abrir el directorio 'dir2': Permiso denegado\n"
     ]
    }
   ],
   "source": [
    "#VII.23\n",
    "# Muestra el contenido del fichero errores_ls\n",
    "cat errores_ls"
   ]
  },
  {
   "cell_type": "code",
   "execution_count": 43,
   "id": "261081b3",
   "metadata": {},
   "outputs": [
    {
     "name": "stdout",
     "output_type": "stream",
     "text": [
      "dir1:\n"
     ]
    }
   ],
   "source": [
    "#VII.24\n",
    "# Muestra el contenido del fichero salida_ls\n",
    "cat salida_ls"
   ]
  },
  {
   "cell_type": "markdown",
   "id": "c1efbfd5",
   "metadata": {},
   "source": [
    "### Variables de entorno. Concepto de PATH"
   ]
  },
  {
   "cell_type": "markdown",
   "id": "72304564-f2f3-4c4e-a666-4a403d74bf79",
   "metadata": {},
   "source": [
    "- La variable de entorno `LANG` define, junto con otras, la configuración regional y el idioma del shell. Empieza mostrando su valor actual con `echo`."
   ]
  },
  {
   "cell_type": "code",
   "execution_count": 44,
   "id": "67952124-9f6c-41ea-be99-6ee6381d51d4",
   "metadata": {},
   "outputs": [
    {
     "name": "stdout",
     "output_type": "stream",
     "text": [
      "es_ES.UTF-8\n"
     ]
    }
   ],
   "source": [
    "#VII.25\n",
    "echo $LANG"
   ]
  },
  {
   "cell_type": "markdown",
   "id": "c2dff926",
   "metadata": {},
   "source": [
    " - Ejecuta el comando `ls` pasándole una ruta inexistente para generar un mensaje de error (coméntalo tras generarlo)."
   ]
  },
  {
   "cell_type": "code",
   "execution_count": 48,
   "id": "daacce0d",
   "metadata": {},
   "outputs": [
    {
     "name": "stdout",
     "output_type": "stream",
     "text": [
      "ls: cannot access '/noexiste': No such file or directory\n"
     ]
    },
    {
     "ename": "",
     "evalue": "2",
     "output_type": "error",
     "traceback": []
    }
   ],
   "source": [
    "ls /noexiste\n",
    "#La ruta no existe, se muestra un mensaje de error indicando que no se puede acceder a ella"
   ]
  },
  {
   "cell_type": "markdown",
   "id": "151420ba-8ec3-40c0-819b-1e6f261a250b",
   "metadata": {},
   "source": [
    "-  Ahora, cambia el valor de la variable `LANG` por \"xyz\" (da igual el valor)  y seguidamente muestra su valor con `echo`."
   ]
  },
  {
   "cell_type": "code",
   "execution_count": 47,
   "id": "c31de968-48c9-4eea-9043-e8fb32016766",
   "metadata": {},
   "outputs": [
    {
     "name": "stdout",
     "output_type": "stream",
     "text": [
      "xyz\n"
     ]
    }
   ],
   "source": [
    "export LANG=xyz\n",
    "echo $LANG\n"
   ]
  },
  {
   "cell_type": "markdown",
   "id": "304824c2",
   "metadata": {},
   "source": [
    " - Vuelve a ejecutar el comando `ls` pasándole una ruta inexistente para generar un mensaje de error (coméntalo # de nuevo)."
   ]
  },
  {
   "cell_type": "code",
   "execution_count": 50,
   "id": "2f9e48ce",
   "metadata": {},
   "outputs": [
    {
     "name": "stdout",
     "output_type": "stream",
     "text": [
      "ls: cannot access '/noexiste': No such file or directory\n"
     ]
    },
    {
     "ename": "",
     "evalue": "2",
     "output_type": "error",
     "traceback": []
    }
   ],
   "source": [
    "ls /noexiste\n",
    "#Me pasa lo mismo de antes, solo que la variable LANG del anterior comando me ha cambiado el idioma."
   ]
  },
  {
   "cell_type": "markdown",
   "id": "6451158c-38ca-4525-9957-2275b6216482",
   "metadata": {},
   "source": [
    "PREGUNTA:  ¿En qué se diferencia el resultado de ejecutar el comando con un valor u otro de `$LANG`? ¿Cuál es el idioma por defecto del shell cuando $LANG no tiene un valor?\n",
    "\n",
    "RESPUESTA: Que cambia el idioma y por defecto es inglés."
   ]
  },
  {
   "cell_type": "markdown",
   "id": "18eaeb06",
   "metadata": {},
   "source": [
    "- Vuelve a establecer el valor de `LANG` a su valor original (\"es_ES.UTF-8\") y seguidamente muestra su valor con `echo` (en una misma línea)."
   ]
  },
  {
   "cell_type": "code",
   "execution_count": 51,
   "id": "6843238f",
   "metadata": {},
   "outputs": [
    {
     "name": "stdout",
     "output_type": "stream",
     "text": [
      "es_ES.UTF-8\n"
     ]
    }
   ],
   "source": [
    "LANG=\"es_ES.UTF-8\" && echo $LANG"
   ]
  },
  {
   "cell_type": "code",
   "execution_count": 52,
   "id": "9f45e0a9-3640-4c69-8ffd-e269406dd52d",
   "metadata": {},
   "outputs": [],
   "source": [
    "#VII.30\n",
    "# Crea un subdirectorio llamado bin en tu directorio de inicio de usuario (si no existe ya)\n",
    "mkdir -p ~/bin"
   ]
  },
  {
   "cell_type": "code",
   "execution_count": 53,
   "id": "a2e67231-cd7c-493b-8de8-ecdfedda284c",
   "metadata": {},
   "outputs": [],
   "source": [
    "#VII.31\n",
    "# Copia al directorio creado anteriormente el fichero /usr/bin/ls, con el nombre myls\n",
    "cp /usr/bin/ls ~/bin/myls"
   ]
  },
  {
   "cell_type": "code",
   "execution_count": 54,
   "id": "aac39f6c-58ba-42d7-955b-8093c05655a9",
   "metadata": {},
   "outputs": [
    {
     "name": "stdout",
     "output_type": "stream",
     "text": [
      "total 1444\n",
      "drwxr-xr-x 2 jupyter-2uZiteupav jupyter-2uZiteupav   4096 dic  1 19:18 dir1\n",
      "d--------- 2 jupyter-2uZiteupav jupyter-2uZiteupav   4096 dic  1 19:25 dir2\n",
      "-rw-r--r-- 1 jupyter-2uZiteupav jupyter-2uZiteupav     61 dic  1 19:27 errores_ls\n",
      "-rw-r--r-- 1 jupyter-2uZiteupav jupyter-2uZiteupav 119270 nov 30 19:43 practica7a-procesos-boletin.ipynb\n",
      "-rw-r--r-- 1 jupyter-2uZiteupav jupyter-2uZiteupav  52880 dic  1 19:35 practica7a-procesos-ejercicios.ipynb\n",
      "-rw-r--r-- 1 jupyter-2uZiteupav jupyter-2uZiteupav 466008 nov 28 13:37 practica7b-tuberias-boletin.ipynb\n",
      "-rw-r--r-- 1 jupyter-2uZiteupav jupyter-2uZiteupav  28117 nov 28 12:32 practica7b-tuberias-ejercicios.ipynb\n",
      "-rw-r--r-- 1 jupyter-2uZiteupav jupyter-2uZiteupav     52 dic  1 19:17 progs-l.txt\n",
      "-rw-r--r-- 1 jupyter-2uZiteupav jupyter-2uZiteupav      6 dic  1 19:27 salida_ls\n",
      "-rw-r--r-- 1 jupyter-2uZiteupav jupyter-2uZiteupav 785552 dic  1 19:24 stubborn\n"
     ]
    }
   ],
   "source": [
    "#VII.32\n",
    "# Sin cambiarte de directorio, ejecuta mediante una ruta absoluta el programa `myls` con la opción '-l':\n",
    "~/bin/myls -l"
   ]
  },
  {
   "cell_type": "code",
   "execution_count": 55,
   "id": "aa3f01d3-c67f-428d-b9d2-83fb7d23815f",
   "metadata": {},
   "outputs": [],
   "source": [
    "#VII.33\n",
    "# Modifica el valor de `PATH` para añadir el subdirectorio \"bin\" creado anteriormente:\n",
    "export PATH=~/bin:$PATH"
   ]
  },
  {
   "cell_type": "markdown",
   "id": "f982e2e0",
   "metadata": {},
   "source": [
    "Finalmente, prueba a ejecutar `myls` sin necesidad de indicar su ruta exacta."
   ]
  },
  {
   "cell_type": "code",
   "execution_count": 56,
   "id": "24cdea31-6b40-4da3-8d86-4d524c1c5b3a",
   "metadata": {},
   "outputs": [
    {
     "name": "stdout",
     "output_type": "stream",
     "text": [
      "total 1444\n",
      "drwxr-xr-x 2 jupyter-2uZiteupav jupyter-2uZiteupav   4096 dic  1 19:18 dir1\n",
      "d--------- 2 jupyter-2uZiteupav jupyter-2uZiteupav   4096 dic  1 19:25 dir2\n",
      "-rw-r--r-- 1 jupyter-2uZiteupav jupyter-2uZiteupav     61 dic  1 19:27 errores_ls\n",
      "-rw-r--r-- 1 jupyter-2uZiteupav jupyter-2uZiteupav 119270 nov 30 19:43 practica7a-procesos-boletin.ipynb\n",
      "-rw-r--r-- 1 jupyter-2uZiteupav jupyter-2uZiteupav  52880 dic  1 19:35 practica7a-procesos-ejercicios.ipynb\n",
      "-rw-r--r-- 1 jupyter-2uZiteupav jupyter-2uZiteupav 466008 nov 28 13:37 practica7b-tuberias-boletin.ipynb\n",
      "-rw-r--r-- 1 jupyter-2uZiteupav jupyter-2uZiteupav  28117 nov 28 12:32 practica7b-tuberias-ejercicios.ipynb\n",
      "-rw-r--r-- 1 jupyter-2uZiteupav jupyter-2uZiteupav     52 dic  1 19:17 progs-l.txt\n",
      "-rw-r--r-- 1 jupyter-2uZiteupav jupyter-2uZiteupav      6 dic  1 19:27 salida_ls\n",
      "-rw-r--r-- 1 jupyter-2uZiteupav jupyter-2uZiteupav 785552 dic  1 19:24 stubborn\n"
     ]
    }
   ],
   "source": [
    "myls -l"
   ]
  },
  {
   "cell_type": "markdown",
   "id": "680d517a",
   "metadata": {},
   "source": [
    "### Variables del shell actual y variables de entorno"
   ]
  },
  {
   "cell_type": "markdown",
   "id": "2002571b",
   "metadata": {},
   "source": [
    "- Muestra el valor de la variable de entorno `USER`"
   ]
  },
  {
   "cell_type": "code",
   "execution_count": 57,
   "id": "5a68a861",
   "metadata": {},
   "outputs": [
    {
     "name": "stdout",
     "output_type": "stream",
     "text": [
      "jupyter-2uZiteupav\n"
     ]
    }
   ],
   "source": [
    "#VII.35\n",
    "echo $USER"
   ]
  },
  {
   "cell_type": "code",
   "execution_count": 58,
   "id": "35e6c833",
   "metadata": {},
   "outputs": [],
   "source": [
    "#VII.36\n",
    "# Define una nueva variable llamada \"PRUEBA\" con valor \"hola\"\n",
    "export PRUEBA=\"hola\""
   ]
  },
  {
   "cell_type": "code",
   "execution_count": 59,
   "id": "1f6ebcd4",
   "metadata": {},
   "outputs": [
    {
     "name": "stdout",
     "output_type": "stream",
     "text": [
      "hola\n"
     ]
    }
   ],
   "source": [
    "#VII.37\n",
    "# Muestra el valor de la variable PRUEBA en el shell actual\n",
    "echo $PRUEBA"
   ]
  },
  {
   "cell_type": "code",
   "execution_count": 60,
   "id": "26cdfe26",
   "metadata": {},
   "outputs": [],
   "source": [
    "# Ejecuta esta celda para crear un shell script llamado \"variables.sh\"\n",
    "echo '#!/bin/bash' > variables.sh\n",
    "echo 'echo \"**Inicio del script**\"' >> variables.sh\n",
    "echo 'echo \"La variable PRUEBA vale $PRUEBA\"' >> variables.sh\n",
    "echo 'MYVAR=\"hello world!\"' >> variables.sh\n",
    "echo 'echo \"La variable MYVAR vale $MYVAR\"' >> variables.sh\n",
    "echo 'echo \"La variable USER vale $USER\"' >> variables.sh\n",
    "echo 'echo \"La variable ANOTHERVAR vale $ANOTHERVAR \"' >> variables.sh\n",
    "echo 'echo \"**Fin del script**\"' >> variables.sh"
   ]
  },
  {
   "cell_type": "code",
   "execution_count": 61,
   "id": "3a052d3f",
   "metadata": {},
   "outputs": [
    {
     "name": "stdout",
     "output_type": "stream",
     "text": [
      "#!/bin/bash\n",
      "echo \"**Inicio del script**\"\n",
      "echo \"La variable PRUEBA vale $PRUEBA\"\n",
      "MYVAR=\"hello world!\"\n",
      "echo \"La variable MYVAR vale $MYVAR\"\n",
      "echo \"La variable USER vale $USER\"\n",
      "echo \"La variable ANOTHERVAR vale $ANOTHERVAR \"\n",
      "echo \"**Fin del script**\"\n"
     ]
    }
   ],
   "source": [
    "# Muestra el contenido del script \"variables.sh\"\n",
    "cat variables.sh"
   ]
  },
  {
   "cell_type": "code",
   "execution_count": 62,
   "id": "f997ea2b",
   "metadata": {},
   "outputs": [],
   "source": [
    "#VII.39\n",
    "# Establece permisos de ejecución para el fichero creado\n",
    "chmod 777 variables.sh"
   ]
  },
  {
   "cell_type": "code",
   "execution_count": 63,
   "id": "b9661d9e",
   "metadata": {},
   "outputs": [
    {
     "name": "stdout",
     "output_type": "stream",
     "text": [
      "**Inicio del script**\n",
      "La variable PRUEBA vale hola\n",
      "La variable MYVAR vale hello world!\n",
      "La variable USER vale jupyter-2uZiteupav\n",
      "La variable ANOTHERVAR vale  \n",
      "**Fin del script**\n"
     ]
    }
   ],
   "source": [
    "#VII.40\n",
    "# Ejecuta el script \"variables.sh\"\n",
    "./variables.sh"
   ]
  },
  {
   "cell_type": "markdown",
   "id": "2a227bcb",
   "metadata": {},
   "source": [
    "PREGUNTA: ¿Se produce algún error en el shell cuando tratas de mostrar el valor de una variable a la que no has asignado valor previamente (ANOTHERVAR)?\n",
    "\n",
    "RESPUESTA: No hay errores, pero al ejecutarlo no aparece nada porque no tiene nada."
   ]
  },
  {
   "cell_type": "markdown",
   "id": "0065e35b",
   "metadata": {},
   "source": [
    "PREGUNTA: ¿Por qué no se imprime el valor de `PRUEBA`?\n",
    "\n",
    "RESPUESTA: Porque no tiene"
   ]
  },
  {
   "cell_type": "code",
   "execution_count": 64,
   "id": "d6341193",
   "metadata": {},
   "outputs": [
    {
     "name": "stdout",
     "output_type": "stream",
     "text": [
      "\n"
     ]
    }
   ],
   "source": [
    "#VII.41\n",
    "# Imprime el valor de la variable MYVAR en el shell actual\n",
    "echo $MYVAR"
   ]
  },
  {
   "cell_type": "markdown",
   "id": "128626f8",
   "metadata": {},
   "source": [
    "PREGUNTA: ¿Por qué no aparece \"hello world\" como valor de \"MYVAR\" en el shell actual, tras ejecutar `variables.sh`?\n",
    "\n",
    "RESPUESTA: Porque esa variable está dentro del script \"variables.sh\", pero no en el shell\n"
   ]
  },
  {
   "cell_type": "markdown",
   "id": "831e6e0e",
   "metadata": {},
   "source": [
    "PREGUNTA: ¿Qué valor tiene la variable \"USER\" en el proceso creado para ejecutar el script `variables.sh`?\n",
    "\n",
    "RESPUESTA: La variable USER vale jupyter-2uZiteupav"
   ]
  },
  {
   "cell_type": "markdown",
   "id": "0bbf22c8-18b7-4d90-9781-8c46a8b72021",
   "metadata": {},
   "source": [
    "**FIN DEL CUADERNO** (*no borres esta celda*)\n",
    "\n",
    "@@@@ practica7a-procesos-ejercicios.ipynb @@@@"
   ]
  }
 ],
 "metadata": {
  "kernelspec": {
   "display_name": "Bash",
   "language": "bash",
   "name": "bash"
  },
  "language_info": {
   "codemirror_mode": "shell",
   "file_extension": ".sh",
   "mimetype": "text/x-sh",
   "name": "bash"
  }
 },
 "nbformat": 4,
 "nbformat_minor": 5
}
