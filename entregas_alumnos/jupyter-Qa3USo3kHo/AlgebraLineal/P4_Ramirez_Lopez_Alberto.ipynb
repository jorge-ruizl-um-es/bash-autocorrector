{
 "cells": [
  {
   "cell_type": "markdown",
   "metadata": {},
   "source": [
    "# Práctica 4: Ejercicio para entregar. \n"
   ]
  },
  {
   "cell_type": "markdown",
   "metadata": {},
   "source": [
    "\n",
    "## Pon aquí tu NOMBRE:  Alberto Ramírez López\n"
   ]
  },
  {
   "cell_type": "markdown",
   "metadata": {},
   "source": [
    "## Matrices sparse"
   ]
  },
  {
   "cell_type": "markdown",
   "metadata": {},
   "source": [
    "Introduce dos matrices aleatorias sparse $A$ y $B$. La matriz $A$ debe tener $10$ filas, $5$ columnas y  \n",
    "una sparsity de $0.8$ y la matriz $B$ debe tener $5$ filas, $10$ columnas y una sparsity de $0.7$.\n",
    "\n",
    "\n",
    "Imprímelas por pantalla\n"
   ]
  },
  {
   "cell_type": "code",
   "execution_count": 5,
   "metadata": {},
   "outputs": [
    {
     "name": "stdout",
     "output_type": "stream",
     "text": [
      "Matriz A:\n",
      "  (6, 2)\t0.9415671805769136\n",
      "  (1, 1)\t0.10551207817192809\n",
      "  (9, 0)\t0.0045652424381863455\n",
      "  (3, 0)\t0.24407006328518932\n",
      "  (6, 1)\t0.45244975660974607\n",
      "  (9, 3)\t0.5461633370328647\n",
      "  (0, 3)\t0.9262297582289822\n",
      "  (0, 0)\t0.08794466804730183\n",
      "  (5, 4)\t0.6053716683188151\n",
      "  (8, 2)\t0.3252825125988086\n",
      "Matriz B:\n",
      "  (1, 8)\t0.5033104568658728\n",
      "  (3, 4)\t0.2203926047611401\n",
      "  (1, 9)\t0.12436340426814563\n",
      "  (2, 4)\t0.0023993697025370686\n",
      "  (3, 6)\t0.10013958656131905\n",
      "  (1, 6)\t0.6277046471402639\n",
      "  (4, 5)\t0.3791969776363352\n",
      "  (2, 6)\t0.6938836641339917\n",
      "  (1, 2)\t0.6634259771086599\n",
      "  (4, 9)\t0.3439803425470571\n",
      "  (3, 0)\t0.7534915667556635\n",
      "  (2, 2)\t0.3692987926321799\n",
      "  (2, 1)\t0.6993545432665624\n",
      "  (3, 8)\t0.6657693280980727\n",
      "  (1, 5)\t0.1250971620436101\n"
     ]
    }
   ],
   "source": [
    "# Completar aquí (1,5 puntos)\n",
    "from scipy import sparse\n",
    "\n",
    "A = sparse.random(10, 5, density=0.2)\n",
    "B = sparse.random(5, 10, density=0.3)  \n",
    "\n",
    "print(f\"Matriz A:\\n{A}\")\n",
    "print(f\"Matriz B:\\n{B}\")\n",
    "\n",
    "\n",
    "# Fin Completar aquí "
   ]
  },
  {
   "cell_type": "markdown",
   "metadata": {},
   "source": [
    "Calcula $C=AB$ (producto matricial usual). Transforma la matriz $C$ de formato sparse a dense  \n",
    "y llama $D$ a la nueva matriz. Calcula la sparsity de la matriz $D$."
   ]
  },
  {
   "cell_type": "code",
   "execution_count": 6,
   "metadata": {},
   "outputs": [
    {
     "name": "stdout",
     "output_type": "stream",
     "text": [
      "Matriz C: \n",
      "[[6.97906312e-01 0.00000000e+00 0.00000000e+00 0.00000000e+00\n",
      "  2.04134189e-01 0.00000000e+00 9.27522650e-02 0.00000000e+00\n",
      "  6.16655364e-01 0.00000000e+00]\n",
      " [0.00000000e+00 0.00000000e+00 6.99994536e-02 0.00000000e+00\n",
      "  0.00000000e+00 1.31992615e-02 6.62304218e-02 0.00000000e+00\n",
      "  5.31053323e-02 1.31218412e-02]\n",
      " [0.00000000e+00 0.00000000e+00 0.00000000e+00 0.00000000e+00\n",
      "  0.00000000e+00 0.00000000e+00 0.00000000e+00 0.00000000e+00\n",
      "  0.00000000e+00 0.00000000e+00]\n",
      " [0.00000000e+00 0.00000000e+00 0.00000000e+00 0.00000000e+00\n",
      "  0.00000000e+00 0.00000000e+00 0.00000000e+00 0.00000000e+00\n",
      "  0.00000000e+00 0.00000000e+00]\n",
      " [0.00000000e+00 0.00000000e+00 0.00000000e+00 0.00000000e+00\n",
      "  0.00000000e+00 0.00000000e+00 0.00000000e+00 0.00000000e+00\n",
      "  0.00000000e+00 0.00000000e+00]\n",
      " [0.00000000e+00 0.00000000e+00 0.00000000e+00 0.00000000e+00\n",
      "  0.00000000e+00 2.29555107e-01 0.00000000e+00 0.00000000e+00\n",
      "  0.00000000e+00 2.08235954e-01]\n",
      " [0.00000000e+00 6.58489286e-01 6.47886545e-01 0.00000000e+00\n",
      "  2.25916777e-03 5.66001805e-02 9.37342900e-01 0.00000000e+00\n",
      "  2.27722694e-01 5.62681920e-02]\n",
      " [0.00000000e+00 0.00000000e+00 0.00000000e+00 0.00000000e+00\n",
      "  0.00000000e+00 0.00000000e+00 0.00000000e+00 0.00000000e+00\n",
      "  0.00000000e+00 0.00000000e+00]\n",
      " [0.00000000e+00 2.27487803e-01 1.20126439e-01 0.00000000e+00\n",
      "  7.80473005e-04 0.00000000e+00 2.25708222e-01 0.00000000e+00\n",
      "  0.00000000e+00 0.00000000e+00]\n",
      " [4.11529469e-01 0.00000000e+00 0.00000000e+00 0.00000000e+00\n",
      "  1.20370360e-01 0.00000000e+00 5.46925708e-02 0.00000000e+00\n",
      "  3.63618798e-01 0.00000000e+00]]\n",
      "Sparsity de la matriz D: 0.74\n"
     ]
    }
   ],
   "source": [
    "# Completar aquí (1,5 puntos)\n",
    "import numpy as np\n",
    "\n",
    "C_sparse = A @ B\n",
    "D = C_sparse.todense()\n",
    "sparsity_D = 1.0 - np.count_nonzero(D) / D.size\n",
    "\n",
    "print(f\"Matriz C: \\n{D}\")\n",
    "print(f\"Sparsity de la matriz D: {sparsity_D}\")\n",
    "# Fin Completar aquí "
   ]
  },
  {
   "cell_type": "markdown",
   "metadata": {},
   "source": [
    "## Tensores"
   ]
  },
  {
   "cell_type": "markdown",
   "metadata": {},
   "source": [
    "El fichero la_manga.jpg contiene dos fotos de La Manga del Mar Menor, una de los años 60 y otra actual. \n",
    "\n",
    "![imagen de La Manga del Mar Menor en los años 60 y en la actualidad](la_manga.jpg)"
   ]
  },
  {
   "cell_type": "markdown",
   "metadata": {},
   "source": [
    "Carga dicho fichero y convierte la imagen en un tensor. A continuación,  \n",
    "imprime por pantalla el tensor asociado a la imagen."
   ]
  },
  {
   "cell_type": "code",
   "execution_count": 10,
   "metadata": {},
   "outputs": [
    {
     "name": "stdout",
     "output_type": "stream",
     "text": [
      "Tensor de la imagen:\n",
      "[[[192 192 192]\n",
      "  [190 190 190]\n",
      "  [189 189 189]\n",
      "  ...\n",
      "  [149 176 195]\n",
      "  [149 176 195]\n",
      "  [149 176 195]]\n",
      "\n",
      " [[193 193 193]\n",
      "  [191 191 191]\n",
      "  [189 189 189]\n",
      "  ...\n",
      "  [148 175 194]\n",
      "  [148 175 194]\n",
      "  [148 175 194]]\n",
      "\n",
      " [[194 194 194]\n",
      "  [192 192 192]\n",
      "  [190 190 190]\n",
      "  ...\n",
      "  [146 173 192]\n",
      "  [146 173 192]\n",
      "  [146 173 192]]\n",
      "\n",
      " ...\n",
      "\n",
      " [[184 184 184]\n",
      "  [143 143 143]\n",
      "  [121 121 121]\n",
      "  ...\n",
      "  [ 59  89  81]\n",
      "  [ 61  91  83]\n",
      "  [ 61  91  83]]\n",
      "\n",
      " [[174 174 174]\n",
      "  [133 133 133]\n",
      "  [119 119 119]\n",
      "  ...\n",
      "  [ 63  94  86]\n",
      "  [ 65  96  88]\n",
      "  [ 66  97  89]]\n",
      "\n",
      " [[160 160 160]\n",
      "  [123 123 123]\n",
      "  [117 117 117]\n",
      "  ...\n",
      "  [ 67  98  90]\n",
      "  [ 70 101  93]\n",
      "  [ 69 102  93]]]\n"
     ]
    }
   ],
   "source": [
    "# Completar aquí (1 punto)\n",
    "from PIL import Image\n",
    "\n",
    "manga = Image.open('la_manga.jpg')\n",
    "tensor_m = np.array(manga)\n",
    "\n",
    "print(f\"Tensor de la imagen:\\n{tensor_m}\")\n",
    "# Fin Completar aquí "
   ]
  },
  {
   "cell_type": "markdown",
   "metadata": {},
   "source": [
    "Calcula la forma y dimensión del tensor generado. "
   ]
  },
  {
   "cell_type": "code",
   "execution_count": 16,
   "metadata": {},
   "outputs": [
    {
     "name": "stdout",
     "output_type": "stream",
     "text": [
      "Forma del tensor: (720, 960, 3)\n",
      "Dimensión del tensor: 3\n"
     ]
    }
   ],
   "source": [
    "# Completar aquí (1 punto)\n",
    "tensor_forma = tensor_m.shape\n",
    "tensor_dim = tensor_m.ndim\n",
    "\n",
    "print(f\"Forma del tensor: {tensor_forma}\")\n",
    "print(f\"Dimensión del tensor: {tensor_dim}\")\n",
    "\n",
    "\n",
    "# Fin Completar aquí "
   ]
  },
  {
   "cell_type": "markdown",
   "metadata": {},
   "source": [
    "Utiliza la técnica de **slicing** que vimos en la práctica 3 para generar dos vectores de  \n",
    "longitud 3. Uno de ellos, denotado **v1**, se ha de corresponder con la primera fila del  \n",
    "tensor que ves por pantalla; el segundo vector, **v2**, está formado por la segunda fila  \n",
    "que ves por pantalla.  "
   ]
  },
  {
   "cell_type": "code",
   "execution_count": 17,
   "metadata": {},
   "outputs": [
    {
     "name": "stdout",
     "output_type": "stream",
     "text": [
      "v1:\n",
      "[192 192 192]\n",
      "v2:\n",
      "[190 190 190]\n"
     ]
    }
   ],
   "source": [
    "# Completar aquí (1,5 puntos)\n",
    "v1 = tensor_m[0, 0, :]\n",
    "v2 = tensor_m[0, 1, :]  \n",
    "\n",
    "print(f\"v1:\\n{v1}\")\n",
    "print(f\"v2:\\n{v2}\")\n",
    "# Fin Completar aquí"
   ]
  },
  {
   "cell_type": "markdown",
   "metadata": {},
   "source": [
    "Calcula:\n",
    "\n",
    "1) el producto tensorial de **v1** y **v2**\n",
    "\n",
    "2) el producto de Hadamard de **v1** y **v2**\n",
    "\n",
    "3) el producto escalar de **v1** y **v2**"
   ]
  },
  {
   "cell_type": "code",
   "execution_count": null,
   "metadata": {},
   "outputs": [
    {
     "name": "stdout",
     "output_type": "stream",
     "text": [
      "Producto tensorial de v1 y v2:\n",
      "[[128 128 128]\n",
      " [128 128 128]\n",
      " [128 128 128]]\n",
      "Producto de Hadamard de v1 y v2:\n",
      "[128 128 128]\n",
      "Producto escalar de v1 y v2: 128\n"
     ]
    }
   ],
   "source": [
    "# Completar aquí (1 punto)\n",
    "#Producto tensorial\n",
    "producto_tensorial = np.tensordot(v1, v2, axes=0)\n",
    "#Producto de Hadamard\n",
    "producto_hadamard = v1 * v2\n",
    "#Producto escalar\n",
    "producto_escalar = v1 @ v2\n",
    "\n",
    "print(f\"Producto tensorial de v1 y v2:\\n{producto_tensorial}\")\n",
    "print(f\"Producto de Hadamard de v1 y v2:\\n{producto_hadamard}\")\n",
    "print(f\"Producto escalar de v1 y v2: {producto_escalar}\")\n",
    "# Fin Completar aquí"
   ]
  },
  {
   "cell_type": "markdown",
   "metadata": {},
   "source": [
    "Introduce manualmente, usando **np.array()**, los vectores **v1** y **v2** anteriores  \n",
    "y denótalos por **z1** y **z2**, respectivamente.\n",
    "\n",
    "A continuación realiza los mismos cálculos (producto tensorial, producto de Hadamard y  \n",
    "producto escalar) con los vectores **z1** y **z2**."
   ]
  },
  {
   "cell_type": "code",
   "execution_count": 20,
   "metadata": {
    "scrolled": true
   },
   "outputs": [
    {
     "name": "stdout",
     "output_type": "stream",
     "text": [
      "Producto tensorial de z1 y z2:\n",
      "[[36480 36480 36480]\n",
      " [36480 36480 36480]\n",
      " [36480 36480 36480]]\n",
      "Producto de Hadamard de z1 y z2:\n",
      "[36480 36480 36480]\n",
      "Producto escalar de z1 y z2: 109440\n"
     ]
    }
   ],
   "source": [
    "# Completar aquí (1 punto)\n",
    "z1 = np.array([192, 192, 192])\n",
    "z2 = np.array([190, 190, 190])\n",
    "#Producto tensorial\n",
    "producto_tensorial = np.tensordot(z1, z2, axes=0)\n",
    "#Producto de Hadamard\n",
    "producto_hadamard = z1 * z2\n",
    "#Producto escalar\n",
    "producto_escalar = z1 @ z2  \n",
    "\n",
    "print(f\"Producto tensorial de z1 y z2:\\n{producto_tensorial}\")\n",
    "print(f\"Producto de Hadamard de z1 y z2:\\n{producto_hadamard}\")\n",
    "print(f\"Producto escalar de z1 y z2: {producto_escalar}\")\n",
    "# Fin Completar aquí"
   ]
  },
  {
   "cell_type": "markdown",
   "metadata": {},
   "source": [
    "Como puedes ver, obtienes resultados distintos. \n",
    "\n",
    "Busca una explicación para esta discrepancia de resultados mirando los atributos  \n",
    "**shape**, **type** y **dtype** de los vectores **v1**, **v2**, **z1** y **z2**.\n"
   ]
  },
  {
   "cell_type": "code",
   "execution_count": 22,
   "metadata": {},
   "outputs": [
    {
     "name": "stdout",
     "output_type": "stream",
     "text": [
      "Atributos de v1:\n",
      "shape: (3,), type: <class 'numpy.ndarray'>, dtype: uint8\n",
      "\n",
      "Atributos de v2:\n",
      "shape: (3,), type: <class 'numpy.ndarray'>, dtype: uint8\n",
      "\n",
      "Atributos de z1:\n",
      "shape: (3,), type: <class 'numpy.ndarray'>, dtype: int32\n",
      "\n",
      "Atributos de z2:\n",
      "shape: (3,), type: <class 'numpy.ndarray'>, dtype: int32\n"
     ]
    }
   ],
   "source": [
    "# Completar aquí (1,5 puntos)\n",
    "print(\"Atributos de v1:\")\n",
    "print(f\"shape: {v1.shape}, type: {type(v1)}, dtype: {v1.dtype}\")\n",
    "\n",
    "print(\"\\nAtributos de v2:\")\n",
    "print(f\"shape: {v2.shape}, type: {type(v2)}, dtype: {v2.dtype}\")\n",
    "\n",
    "print(\"\\nAtributos de z1:\")\n",
    "print(f\"shape: {z1.shape}, type: {type(z1)}, dtype: {z1.dtype}\")\n",
    "\n",
    "print(\"\\nAtributos de z2:\")\n",
    "print(f\"shape: {z2.shape}, type: {type(z2)}, dtype: {z2.dtype}\")\n",
    "\n",
    "#Se diferencian en que los vectores v1 y v2 tienen dtype: uint8, mientras que los z1 y z2 tienen dtype: int32\n",
    "# Fin Completar aquí"
   ]
  }
 ],
 "metadata": {
  "kernelspec": {
   "display_name": "Python 3 (ipykernel)",
   "language": "python",
   "name": "python3"
  },
  "language_info": {
   "codemirror_mode": {
    "name": "ipython",
    "version": 3
   },
   "file_extension": ".py",
   "mimetype": "text/x-python",
   "name": "python",
   "nbconvert_exporter": "python",
   "pygments_lexer": "ipython3",
   "version": "3.10.10"
  }
 },
 "nbformat": 4,
 "nbformat_minor": 4
}
