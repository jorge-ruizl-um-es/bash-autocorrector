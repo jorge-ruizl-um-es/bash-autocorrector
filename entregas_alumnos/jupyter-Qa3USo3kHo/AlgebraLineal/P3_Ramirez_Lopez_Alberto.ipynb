{
 "cells": [
  {
   "cell_type": "markdown",
   "metadata": {},
   "source": [
    "# Práctica 3: Ejercicio para entregar. \n",
    "## Vectores y Matrices: aritmética y normas.\n",
    "\n"
   ]
  },
  {
   "cell_type": "markdown",
   "metadata": {},
   "source": [
    "\n",
    "## Pon aquí tu NOMBRE: Alberto Ramírez López\n"
   ]
  },
  {
   "cell_type": "markdown",
   "metadata": {},
   "source": [
    "Los vectores y matrices de números complejos aparecen frecuentemente en Machine Learning. En concreto, en sistemas de reconocimiento del hablante (speech recognition) y más específicamente en la primera fase, donde se hace uso de una técnica de tratamiento de señales llamada **transformada discreta de Fourier**. En este ejercicio prácticaremos un poco con el tipo de vectores que aparecen en este campo."
   ]
  },
  {
   "cell_type": "markdown",
   "metadata": {},
   "source": [
    "Consideremos la llamada **matriz de la transformada discreta de Fourier** en dimensión 5:\n",
    "\n",
    "$$\n",
    "DFT = \\left[\\begin{array}{ccccc}\n",
    "1 & 1 & 1 & 1\\\\\n",
    "1 & e^{\\frac{2\\pi j}{5}} & e^{\\frac{4\\pi j}{5}} & e^{\\frac{6\\pi j}{5}} & e^{\\frac{8\\pi j}{5}}\\\\\n",
    "1 & e^{\\frac{4\\pi j}{5}} & e^{\\frac{8\\pi j}{5}} & e^{\\frac{12\\pi j}{5}} & e^{\\frac{16\\pi j}{5}}\\\\\n",
    "1 & e^{\\frac{6\\pi j}{5}} & e^{\\frac{12\\pi j}{5}} & e^{\\frac{18\\pi j}{5}} & e^{\\frac{24\\pi j}{5}}\\\\\n",
    "1 & e^{\\frac{8\\pi j}{5}} & e^{\\frac{16\\pi j}{5}} & e^{\\frac{24\\pi j}{5}} & e^{\\frac{32\\pi j}{5}}\n",
    "\\end{array}\n",
    "\\right]\n",
    "$$\n",
    "\n",
    "Observa que las entradas de esta matriz tienen la forma $e^{\\frac{2kn\\pi j}{N}}$, con  $n=[0,1,2,3,4]$, $k = n^T$ y  $N=5$.\n",
    "\n",
    "Introduce esta matriz siguiendo los siguiente pasos:\n",
    "\n",
    "1) Introduce el escalar $N = 5$\n",
    "\n",
    "2) Genera el vector $n = [0, 1, 2, 3, 4]$ usando el método **arange**\n",
    "\n",
    "3) Genera el vector $k = n^T$ usando el método **reshape**\n",
    "\n",
    "4) Genera la matriz $k*n$ (equivalente, en este caso, a k @ n)\n",
    "\n",
    "5) Genera la matriz con entradas $\\mbox{exp}\\,((2j*\\pi*k*n) / N)$\n",
    "\n"
   ]
  },
  {
   "cell_type": "code",
   "execution_count": 2,
   "metadata": {},
   "outputs": [
    {
     "data": {
      "text/plain": [
       "array([[ 1.        +0.j        ,  1.        +0.j        ,\n",
       "         1.        +0.j        ,  1.        +0.j        ,\n",
       "         1.        +0.j        ],\n",
       "       [ 1.        +0.j        ,  0.30901699+0.95105652j,\n",
       "        -0.80901699+0.58778525j, -0.80901699-0.58778525j,\n",
       "         0.30901699-0.95105652j],\n",
       "       [ 1.        +0.j        , -0.80901699+0.58778525j,\n",
       "         0.30901699-0.95105652j,  0.30901699+0.95105652j,\n",
       "        -0.80901699-0.58778525j],\n",
       "       [ 1.        +0.j        , -0.80901699-0.58778525j,\n",
       "         0.30901699+0.95105652j,  0.30901699-0.95105652j,\n",
       "        -0.80901699+0.58778525j],\n",
       "       [ 1.        +0.j        ,  0.30901699-0.95105652j,\n",
       "        -0.80901699-0.58778525j, -0.80901699+0.58778525j,\n",
       "         0.30901699+0.95105652j]])"
      ]
     },
     "execution_count": 2,
     "metadata": {},
     "output_type": "execute_result"
    }
   ],
   "source": [
    "# Completar aquí (1 punto)\n",
    "import numpy as np\n",
    "from numpy.linalg import norm\n",
    "import numpy.linalg as LA\n",
    "\n",
    "N = 5\n",
    "n = np.arange(N)\n",
    "k = n.reshape((N, 1))\n",
    "kn_matriz = k * n\n",
    "\n",
    "DFT_matriz = np.exp((2j * np.pi * kn_matriz) / N)\n",
    "DFT_matriz\n",
    "\n",
    "\n",
    "\n",
    "# Fin Completar aquí ------------------------------------"
   ]
  },
  {
   "cell_type": "markdown",
   "metadata": {},
   "source": [
    "Utiliza la técnica de **slicing** estudiada en la práctica anterior para extraer la primer fila (que guardaremos en un vector denotado $v_1$) y la tercera columna de la matriz $DFT$ (guardada en $v_2$)\n"
   ]
  },
  {
   "cell_type": "code",
   "execution_count": 3,
   "metadata": {},
   "outputs": [
    {
     "data": {
      "text/plain": [
       "array([[ 1.        +0.j        ,  0.30901699+0.95105652j,\n",
       "        -0.80901699-0.58778525j,  0.30901699-0.95105652j],\n",
       "       [ 1.        +0.j        , -0.80901699+0.58778525j,\n",
       "         0.30901699+0.95105652j, -0.80901699-0.58778525j],\n",
       "       [ 1.        +0.j        , -0.80901699-0.58778525j,\n",
       "         0.30901699-0.95105652j, -0.80901699+0.58778525j],\n",
       "       [ 1.        +0.j        ,  0.30901699-0.95105652j,\n",
       "        -0.80901699+0.58778525j,  0.30901699+0.95105652j]])"
      ]
     },
     "execution_count": 3,
     "metadata": {},
     "output_type": "execute_result"
    }
   ],
   "source": [
    "# Completar aquí (0.5 puntos)\n",
    "DFT_reducida = DFT_matriz[1:, :][:, [0, 1, 3, 4]]\n",
    "\n",
    "v1 = DFT_matriz[0, :]\n",
    "v2 = DFT_matriz[:, 2]\n",
    "\n",
    "DFT_reducida\n",
    "\n",
    "\n",
    "# Fin Completar aquí ------------------------------------"
   ]
  },
  {
   "cell_type": "markdown",
   "metadata": {},
   "source": [
    " Calcula:\n",
    "\n",
    " 1) $v_1 + v_2$\n",
    "\n",
    " 2) $v_1*v_2$, componente a componente\n",
    "\n",
    " 3) $v_1 / v_2$, componente a componente\n",
    "\n",
    " 4) Si $u$ es el vector formado por la parte real de $v_1$ y $w$ es el vector formado por la parte real de $v_2$,  \n",
    " ¿son ortogonales los vectores $u$ y $w$?"
   ]
  },
  {
   "cell_type": "code",
   "execution_count": 4,
   "metadata": {},
   "outputs": [
    {
     "data": {
      "text/plain": [
       "(array([2.        +0.j        , 0.19098301+0.58778525j,\n",
       "        1.30901699-0.95105652j, 1.30901699+0.95105652j,\n",
       "        0.19098301-0.58778525j]),\n",
       " array([ 1.        +0.j        , -0.80901699+0.58778525j,\n",
       "         0.30901699-0.95105652j,  0.30901699+0.95105652j,\n",
       "        -0.80901699-0.58778525j]),\n",
       " array([ 1.        +0.j        , -0.80901699-0.58778525j,\n",
       "         0.30901699+0.95105652j,  0.30901699-0.95105652j,\n",
       "        -0.80901699+0.58778525j]),\n",
       " False)"
      ]
     },
     "execution_count": 4,
     "metadata": {},
     "output_type": "execute_result"
    }
   ],
   "source": [
    "# Completar aquí (1 punto)\n",
    "Suma = v1 + v2\n",
    "Producto = v1 * v2\n",
    "Division = v1 / v2\n",
    "u = v1.real\n",
    "w = v2.real\n",
    "Parte_real = np.dot(u, w)\n",
    "Ortogonal = Parte_real == 0\n",
    "\n",
    "Suma, Producto, Division, Ortogonal\n",
    "\n",
    "# Fin Completar aquí ------------------------------------"
   ]
  },
  {
   "cell_type": "markdown",
   "metadata": {},
   "source": [
    "Calcula las normas $2$, $1$ e $\\infty$ de $w$"
   ]
  },
  {
   "cell_type": "code",
   "execution_count": 5,
   "metadata": {},
   "outputs": [
    {
     "name": "stdout",
     "output_type": "stream",
     "text": [
      "norma 1 de w = 3.2360679774997907\n",
      "norma 2 de w = 1.5811388300841898\n",
      "norma Infinito de w = 1.0\n"
     ]
    }
   ],
   "source": [
    "# Completar aquí (0.5 puntos)\n",
    "from numpy.linalg import norm\n",
    "import numpy.linalg as LA\n",
    "\n",
    "Norma_1 = LA.norm(w, 1)\n",
    "Norma_2 = LA.norm(w)\n",
    "Norma_Inf = LA.norm(w, np.inf)\n",
    "print(f\"norma 1 de w = {Norma_1}\")\n",
    "print(f\"norma 2 de w = {Norma_2}\")\n",
    "print(f\"norma Infinito de w = {Norma_Inf}\")\n",
    "\n",
    "# Fin Completar aquí ------------------------------------"
   ]
  },
  {
   "cell_type": "markdown",
   "metadata": {},
   "source": [
    "Introduce una matriz $A$ de 8 filas y 4 columnas con números enteros positivos aleatorios  \n",
    "menores o iguales que 10 y calcula la matriz $S = A^{\\top}A$.  \n",
    "Imprime por pantalla las matrices $A$ y $S$."
   ]
  },
  {
   "cell_type": "code",
   "execution_count": 6,
   "metadata": {},
   "outputs": [
    {
     "name": "stdout",
     "output_type": "stream",
     "text": [
      "Matriz A:\n",
      "[[ 8  9  5  5]\n",
      " [ 8  3  7 10]\n",
      " [ 6  9  5  5]\n",
      " [ 1  7  5  5]\n",
      " [ 1  2  3  4]\n",
      " [ 7 10  7  2]\n",
      " [ 6  7  1  1]\n",
      " [ 1  5  7  4]]\n",
      "\n",
      "Matriz S:\n",
      "[[252 276 196 183]\n",
      " [276 398 264 210]\n",
      " [196 264 232 200]\n",
      " [183 210 200 212]]\n"
     ]
    }
   ],
   "source": [
    "# Completar aquí (0.5 puntos)\n",
    "A = np.random.randint(1, 11, size=(8, 4))\n",
    "S = A.T @ A\n",
    "\n",
    "print(\"Matriz A:\")\n",
    "print(A)\n",
    "print(\"\\nMatriz S:\")\n",
    "print(S)\n",
    "\n",
    "\n",
    "\n",
    "# Fin Completar aquí ------------------------------------"
   ]
  },
  {
   "cell_type": "markdown",
   "metadata": {},
   "source": [
    "Introduce un vector $b$ no nulo de dimensión 4, el que quieras, y calcula el producto $Sb$  \n",
    "(matriz por columna) y el productop $bS$ (fila por matriz) ¿Por qué sale el mismo resultado? "
   ]
  },
  {
   "cell_type": "code",
   "execution_count": 7,
   "metadata": {},
   "outputs": [
    {
     "name": "stdout",
     "output_type": "stream",
     "text": [
      "Matriz Sb:\n",
      " [2124 2704 2220 2051]\n",
      "Matriz bS:\n",
      " [2124 2704 2220 2051]\n",
      "Esta es la matriz S:\n",
      " [[252 276 196 183]\n",
      " [276 398 264 210]\n",
      " [196 264 232 200]\n",
      " [183 210 200 212]]\n"
     ]
    }
   ],
   "source": [
    "# Completar aquí (1 punto)\n",
    "b = np.array([1, 2, 3, 4])\n",
    "S = A.T @ A\n",
    "Sb = S @ b\n",
    "bS = b @ S\n",
    "\n",
    "print(\"Matriz Sb:\\n\", Sb)\n",
    "print(\"Matriz bS:\\n\", bS)\n",
    "print(\"Esta es la matriz S:\\n\", S)\n",
    "#Sale el mismo resultado, porque S es una matriz simétrica y estas tienen la propiedad de que el orden de multiplicación no cambia el resultado.    \n",
    "\n",
    "# Fin Completar aquí ------------------------------------"
   ]
  },
  {
   "cell_type": "markdown",
   "metadata": {},
   "source": [
    "Calcula las partes triangular inferior y superior de $S$."
   ]
  },
  {
   "cell_type": "code",
   "execution_count": 8,
   "metadata": {
    "scrolled": true
   },
   "outputs": [
    {
     "name": "stdout",
     "output_type": "stream",
     "text": [
      "Triangular inferior de S:\n",
      "[[252   0   0   0]\n",
      " [276 398   0   0]\n",
      " [196 264 232   0]\n",
      " [183 210 200 212]]\n",
      "\n",
      "Triangular superior de S:\n",
      "[[252 276 196 183]\n",
      " [  0 398 264 210]\n",
      " [  0   0 232 200]\n",
      " [  0   0   0 212]]\n"
     ]
    }
   ],
   "source": [
    "# Completar aquí (0.5 puntos)\n",
    "Triangular_inf = np.tril(S)\n",
    "Triangular_sup = np.triu(S)\n",
    "\n",
    "print(\"Triangular inferior de S:\")\n",
    "print(Triangular_inf)\n",
    "\n",
    "print(\"\\nTriangular superior de S:\")\n",
    "print(Triangular_sup)\n",
    "\n",
    "\n",
    "# Fin Completar aquí ------------------------------------"
   ]
  },
  {
   "cell_type": "markdown",
   "metadata": {},
   "source": [
    "Si $d$ es la superdiagonal de $S$ (diagonal justo encima de la diagonal principal)  \n",
    "construye una matriz diagonal cuya diagonal principal sea $d$. "
   ]
  },
  {
   "cell_type": "code",
   "execution_count": 9,
   "metadata": {},
   "outputs": [
    {
     "name": "stdout",
     "output_type": "stream",
     "text": [
      "\n",
      "La matriz diagonal cuya diagonal principal es d:\n",
      " [[252   0   0   0]\n",
      " [  0 398   0   0]\n",
      " [  0   0 232   0]\n",
      " [  0   0   0 212]]\n"
     ]
    }
   ],
   "source": [
    "# Completar aquí (1 punto)\n",
    "\n",
    "Super_diag = np.diag(S)\n",
    "d = np.diag(Super_diag)\n",
    "\n",
    "print(f\"\\nLa matriz diagonal cuya diagonal principal es d:\\n {d}\")\n",
    "\n",
    "# Fin Completar aquí ------------------------------------"
   ]
  },
  {
   "cell_type": "markdown",
   "metadata": {},
   "source": [
    "Calcula la inversa de S, su traza, su determinante, su rango\n",
    "su norma de Frobenius y su número de condición."
   ]
  },
  {
   "cell_type": "code",
   "execution_count": 10,
   "metadata": {},
   "outputs": [
    {
     "name": "stdout",
     "output_type": "stream",
     "text": [
      "inversa de S: \n",
      " [[ 0.02358546 -0.01555322  0.01093774 -0.01527127]\n",
      " [-0.01555322  0.02139557 -0.02415438  0.01501908]\n",
      " [ 0.01093774 -0.02415438  0.05392255 -0.03638536]\n",
      " [-0.01527127  0.01501908 -0.03638536  0.03734768]]\n",
      "traza de S = 1094\n",
      "determinante de S = 34957136.000000015\n",
      "rango de S = 4\n",
      "norma de Frobenius de S = 961.472828529231\n",
      "número de condición de S = 99.78881500474495\n"
     ]
    }
   ],
   "source": [
    "# Completar aquí (1 punto)\n",
    "S_inv = LA.inv(S)                                           #Inversa\n",
    "print(f\"inversa de S: \\n {S_inv}\")\n",
    "print(f\"traza de S = {np.trace(S)}\")                        #Traza\n",
    "print(f\"determinante de S = {LA.det(S)}\")                   #Determinante\n",
    "print(f\"rango de S = {LA.matrix_rank(S)}\")                  #Rango\n",
    "\n",
    "fro_S = LA.norm(S, \"fro\")                                   #Norma de Frobenius\n",
    "print(f\"norma de Frobenius de S = {fro_S}\")\n",
    "print(f\"número de condición de S = {LA.cond(S, 'fro')}\")    #Número de condición\n",
    "\n",
    "# Fin Completar aquí ------------------------------------"
   ]
  },
  {
   "cell_type": "markdown",
   "metadata": {},
   "source": [
    " Sean $u,v$ dos vectores no nulos vistos como matrices columna $n\\times 1$. Observa que $1+v^{\\top}u$ es un escalar, que suponemos no nulo. Prueba que la matriz $A = I+uv^{\\top}$ es no singular y su inversa es\n",
    "$$A^{-1}=I-\\dfrac{uv^{\\top}}{1+v^{\\top}u}$$\n"
   ]
  },
  {
   "cell_type": "code",
   "execution_count": 11,
   "metadata": {},
   "outputs": [],
   "source": [
    "# Completar aquí (2 puntos)\n",
    "\n",
    "\n",
    "# EJERCICIO PARA HACER CON \"LÁPIZ Y PAPEL\" \n",
    "\n",
    "\n",
    "# Fin Completar aquí ------------------------------------"
   ]
  },
  {
   "cell_type": "markdown",
   "metadata": {},
   "source": [
    "\n",
    "Comprueba con los vectores $u= [1, 2, -2, -1]$ y $v=[4, 5, -5, -4]$ de $\\mathbb{R}^4$ que se cumple la identidad anterior"
   ]
  },
  {
   "cell_type": "code",
   "execution_count": 4,
   "metadata": {},
   "outputs": [
    {
     "name": "stdout",
     "output_type": "stream",
     "text": [
      "La comprobación es: True\n"
     ]
    }
   ],
   "source": [
    "# Completar aquí (1 punto)\n",
    "u = np.array([[1], [2], [-2], [-1]])\n",
    "v = np.array([[4], [5], [-5], [-4]])\n",
    "\n",
    "A_inv = np.identity(4) - ((u @ v.T)/(1 + v.T @ u))\n",
    "Matriz_A = np.identity(4) + (u * v.T)\n",
    "\n",
    "resultado = np.allclose(A_inv, LA.inv(Matriz_A))\n",
    "print(\"La comprobación es:\", resultado)\n",
    "\n",
    "# Fin Completar aquí ------------------------------------"
   ]
  }
 ],
 "metadata": {
  "kernelspec": {
   "display_name": "Python 3 (ipykernel)",
   "language": "python",
   "name": "python3"
  },
  "language_info": {
   "codemirror_mode": {
    "name": "ipython",
    "version": 3
   },
   "file_extension": ".py",
   "mimetype": "text/x-python",
   "name": "python",
   "nbconvert_exporter": "python",
   "pygments_lexer": "ipython3",
   "version": "3.10.10"
  }
 },
 "nbformat": 4,
 "nbformat_minor": 4
}
