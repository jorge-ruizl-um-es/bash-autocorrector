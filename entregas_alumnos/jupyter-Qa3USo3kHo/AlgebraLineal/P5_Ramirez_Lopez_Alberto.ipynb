{
 "cells": [
  {
   "cell_type": "markdown",
   "metadata": {},
   "source": [
    "# Práctica 5: Ejercicio para entregar. \n",
    "  \n",
    "  "
   ]
  },
  {
   "cell_type": "markdown",
   "metadata": {},
   "source": [
    "## Pon aquí tu NOMBRE: Alberto Ramírez López"
   ]
  },
  {
   "cell_type": "markdown",
   "metadata": {},
   "source": [
    "La matriz de Toeplitz de dimensión $n$ se define como:\n",
    "$$\n",
    "K_n = \\left[\n",
    "    \\begin{array}{rrrrrrr}\n",
    "    2 & -1 & 0 & 0 & 0 & \\cdots & 0 \\\\ \n",
    "    -1 & 2 & -1 & 0 & 0 &\\cdots & 0 \\\\\n",
    "    0 & -1 & 2 & -1 & 0 &\\cdots & 0 \\\\\n",
    "    \\vdots & \\vdots & \\vdots & \\vdots & \\vdots & \\vdots & \\vdots \\\\\n",
    "    0 & 0 & 0 & \\cdots & -1 & 2 & -1\\\\\n",
    "    0 & 0 & 0 & \\cdots & 0 & -1 & 2\\\\\n",
    "    \\end{array}\n",
    "    \\right]\n",
    "$$"
   ]
  },
  {
   "cell_type": "markdown",
   "metadata": {},
   "source": [
    "Mirando la documentación de la función  \n",
    "[scipy.linalg.toeplitz](https://docs.scipy.org/doc/scipy/reference/generated/scipy.linalg.toeplitz.html)  \n",
    "define una función llamada toep que dado un número $n$ proporcione la matriz de Toeplitz $K_n$"
   ]
  },
  {
   "cell_type": "code",
   "execution_count": 2,
   "metadata": {},
   "outputs": [
    {
     "name": "stdout",
     "output_type": "stream",
     "text": [
      "[[ 2. -1.  0.  0.  0.]\n",
      " [-1.  2. -1.  0.  0.]\n",
      " [ 0. -1.  2. -1.  0.]\n",
      " [ 0.  0. -1.  2. -1.]\n",
      " [ 0.  0.  0. -1.  2.]]\n"
     ]
    }
   ],
   "source": [
    "# Completar aquí\n",
    "import numpy as np\n",
    "from scipy.linalg import toeplitz\n",
    "\n",
    "def toep (n):\n",
    "    columna_1 = np.zeros(n)\n",
    "    columna_1[:2] = [2, -1]\n",
    "\n",
    "    K_n = toeplitz(columna_1)\n",
    "    return K_n\n",
    "\n",
    "print(toep(5))\n",
    "# Fin Completar aquí "
   ]
  },
  {
   "cell_type": "markdown",
   "metadata": {},
   "source": [
    "Para la matriz $K_5$ comprueba que es simétrica y no singular.  \n",
    "Calcula su número de condición."
   ]
  },
  {
   "cell_type": "code",
   "execution_count": 3,
   "metadata": {},
   "outputs": [
    {
     "name": "stdout",
     "output_type": "stream",
     "text": [
      "[2.5 4.  4.5 4.  2.5]\n",
      "El número de condición es: 13.92820323027552\n"
     ]
    }
   ],
   "source": [
    "# Completar aquí\n",
    "import numpy as np\n",
    "from scipy.linalg import solve\n",
    "\n",
    "K_5 = toep(5)\n",
    "b = np.ones(5)\n",
    "\n",
    "simetrica = solve(K_5, b, assume_a='sym')\n",
    "print(simetrica)\n",
    "num_cond = np.linalg.cond(K_5)\n",
    "print(\"El número de condición es:\", num_cond)\n",
    "\n",
    "# Fin Completar aquí "
   ]
  },
  {
   "cell_type": "markdown",
   "metadata": {},
   "source": [
    "Calcula la factiorización $PLU$ de $K_5$ y comprueba el resultado haciendo uso de  \n",
    "un operador booleano. "
   ]
  },
  {
   "cell_type": "code",
   "execution_count": 4,
   "metadata": {
    "scrolled": true
   },
   "outputs": [
    {
     "name": "stdout",
     "output_type": "stream",
     "text": [
      "Comprobación del resultado de la factorización: True\n"
     ]
    }
   ],
   "source": [
    "# Completar aquí\n",
    "from scipy.linalg import lu\n",
    "import numpy as np\n",
    "\n",
    "K_5 = toep(5)\n",
    "P, L, U = lu(K_5)\n",
    "\n",
    "#P es la matriz Permutación\n",
    "#L es la matriz Triangular_inferior\n",
    "#U es la matriz Triangular_superior sin la diagonal\n",
    "\n",
    "resultado = np.allclose(P @ L @ U, K_5)\n",
    "print(\"Comprobación del resultado de la factorización:\", resultado)\n",
    "# Fin Completar aquí "
   ]
  },
  {
   "cell_type": "markdown",
   "metadata": {},
   "source": [
    "Calcula la factorización de Choleski de $K_5$ en la forma $K_5=LL^{\\top}$ "
   ]
  },
  {
   "cell_type": "code",
   "execution_count": 5,
   "metadata": {},
   "outputs": [
    {
     "name": "stdout",
     "output_type": "stream",
     "text": [
      "LL^t = \n",
      "  [[ 2. -1.  0.  0.  0.]\n",
      " [-1.  2. -1.  0.  0.]\n",
      " [ 0. -1.  2. -1.  0.]\n",
      " [ 0.  0. -1.  2. -1.]\n",
      " [ 0.  0.  0. -1.  2.]]\n"
     ]
    }
   ],
   "source": [
    "# Completar aquí\n",
    "from scipy.linalg import cholesky\n",
    "\n",
    "K_5 = toep(5)\n",
    "L = cholesky(K_5, lower= True)\n",
    "\n",
    "print(f\"LL^t = \\n  {L @ L.T}\")\n",
    "# Fin Completar aquí "
   ]
  },
  {
   "cell_type": "markdown",
   "metadata": {},
   "source": [
    "Genera un fichero con extensión .py con nombre gs.py  \n",
    "que contenga la función gauss_seidel de la práctica 5 y guárdalo en el directorio de trabajo\n",
    "\n",
    "(si usas un notebook en Jupyter, puedes copiar la función en una celda y hacer  \n",
    "Download as > Python(.py))"
   ]
  },
  {
   "cell_type": "markdown",
   "metadata": {},
   "source": [
    "Importa la función mediante **from gs import gauss_seidel**.   \n",
    "Sea $n$ el número dado por las dos últimas cifras de tu DNI  \n",
    "(siempre que $n\\geq 10$, en caso contrario invéntatelo) Genera un 1d-array (vector)  \n",
    "de dimensión $n$ con todas sus componentes iguales a 1. Denótalo por $b$.\n"
   ]
  },
  {
   "cell_type": "code",
   "execution_count": 6,
   "metadata": {},
   "outputs": [
    {
     "name": "stdout",
     "output_type": "stream",
     "text": [
      "El vector b es: [1. 1. 1. 1. 1. 1. 1. 1. 1. 1. 1. 1. 1. 1. 1. 1. 1. 1. 1. 1. 1. 1. 1. 1.\n",
      " 1. 1. 1. 1. 1. 1. 1.]\n"
     ]
    }
   ],
   "source": [
    "# Completar aquí\n",
    "from gs import gauss_seidel\n",
    "import numpy as np\n",
    "\n",
    "n = 31\n",
    "b = np.ones(n)\n",
    "print(\"El vector b es:\", b)\n",
    "# Fin Completar aquí "
   ]
  },
  {
   "cell_type": "markdown",
   "metadata": {},
   "source": [
    "Para el valor de $n$ que has tomado anteriormente, resuelve el sistema $K_n x = b$  \n",
    "mediante el método de Gauss-Seidel.\n",
    "\n"
   ]
  },
  {
   "cell_type": "code",
   "execution_count": 12,
   "metadata": {},
   "outputs": [
    {
     "name": "stdout",
     "output_type": "stream",
     "text": [
      "Solución es: \n",
      "[ 15.49999986  29.99999973  43.49999959  55.99999947  67.49999935\n",
      "  77.99999923  87.49999913  95.99999903 103.49999895 109.99999888\n",
      " 115.49999881 119.99999876 123.49999872 125.9999987  127.49999869\n",
      " 127.99999869 127.4999987  125.99999872 123.49999876 119.99999881\n",
      " 115.49999887 109.99999894 103.49999902  95.99999911  87.4999992\n",
      "  77.9999993   67.49999941  55.99999953  43.49999964  29.99999976\n",
      "  15.49999988]\n",
      "\n",
      "Iteraciones: 1908\n",
      "\n",
      "Error: 9.956879867327e-11\n",
      "\n"
     ]
    }
   ],
   "source": [
    "# Completar aquí\n",
    "from gs import gauss_seidel\n",
    "import numpy as np\n",
    "\n",
    "n = 31\n",
    "K_n = toep(n)\n",
    "b = np.ones(n)\n",
    "x, iteraciones, error = gauss_seidel(K_n, b)\n",
    "\n",
    "print(f\"Solución es: \\n{x}\\n\")\n",
    "print(f\"Iteraciones: {iteraciones}\\n\")\n",
    "print(f\"Error: {error}\\n\")\n",
    "# Fin Completar aquí "
   ]
  }
 ],
 "metadata": {
  "kernelspec": {
   "display_name": "Python 3 (ipykernel)",
   "language": "python",
   "name": "python3"
  },
  "language_info": {
   "codemirror_mode": {
    "name": "ipython",
    "version": 3
   },
   "file_extension": ".py",
   "mimetype": "text/x-python",
   "name": "python",
   "nbconvert_exporter": "python",
   "pygments_lexer": "ipython3",
   "version": "3.10.10"
  }
 },
 "nbformat": 4,
 "nbformat_minor": 4
}
