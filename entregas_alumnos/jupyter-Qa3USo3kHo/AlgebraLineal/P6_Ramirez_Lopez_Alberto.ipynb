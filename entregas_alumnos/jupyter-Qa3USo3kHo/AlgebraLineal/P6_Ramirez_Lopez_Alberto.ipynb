{
 "cells": [
  {
   "cell_type": "markdown",
   "metadata": {},
   "source": [
    "# Práctica 6: Ejercicio para entregar. \n",
    "## Diagonalización y factorización SVD\n"
   ]
  },
  {
   "cell_type": "markdown",
   "metadata": {},
   "source": [
    "# Pon tu NOMBRE aquí: Alberto Ramírez López"
   ]
  },
  {
   "cell_type": "markdown",
   "metadata": {},
   "source": [
    "Determina si la matriz\n",
    "$$A=\\frac{1}{5}\\left[\\begin{array}{rrrrr}\n",
    "-9&-2&8&2&-2\\\\\n",
    "0&5&0&0&0\\\\\n",
    "-8&-4&11&4&-4\\\\\n",
    "2&6&-4&-1&6\\\\\n",
    "-2&-6&4&6&-1\n",
    "\\end{array}\\right]$$\n",
    "es diagonalizable. En caso afirmativo, calcula una matriz invertible $P$  \n",
    "tal que $A=PDP^{-1}$ con $D$ una matriz diagonal."
   ]
  },
  {
   "cell_type": "code",
   "execution_count": null,
   "metadata": {},
   "outputs": [
    {
     "name": "stdout",
     "output_type": "stream",
     "text": [
      "La matriz es diagonalizable.\n",
      "Verificación de la diagonalización A = PDP^-1:\n",
      "[[-1.8 -0.4  1.6  0.4 -0.4]\n",
      " [ 0.   1.   0.   0.   0. ]\n",
      " [-1.6 -0.8  2.2  0.8 -0.8]\n",
      " [ 0.4  1.2 -0.8 -0.2  1.2]\n",
      " [-0.4 -1.2  0.8  1.2 -0.2]]\n"
     ]
    }
   ],
   "source": [
    "# Completar aquí\n",
    "import numpy as np\n",
    "from numpy.linalg import eig, norm, inv, det\n",
    "\n",
    "# Matriz A\n",
    "A = (1 / 5) * np.array([\n",
    "    [-9, -2, 8, 2, -2],\n",
    "    [0, 5, 0, 0, 0],\n",
    "    [-8, -4, 11, 4, -4],\n",
    "    [2, 6, -4, -1, 6],\n",
    "    [-2, -6, 4, 6, -1]\n",
    "])\n",
    "\n",
    "# Calculamos de autovalores y autovectores\n",
    "autovalores, autovectores = eig(A)\n",
    "# Verificamos si la matriz de autovectores es invertible, es decir, el rango es = al numero de autovectores linealmente independientes\n",
    "\n",
    "if np.linalg.matrix_rank(autovectores) == A.shape[0]:\n",
    "    print(\"La matriz es diagonalizable.\")\n",
    "    \n",
    "    # Matriz de autovectores\n",
    "    P = autovectores\n",
    "    # Matriz diagonal de autovalores\n",
    "    D = np.diag(autovalores)\n",
    "    # Calculamos la inversa de P\n",
    "    inv_P = inv(P)\n",
    "    \n",
    "    # Verificamos la diagonalización A = PDP^-1\n",
    "    diagonalizacion = P @ D @ inv_P\n",
    "    print(\"Verificación de la diagonalización A = PDP^-1:\")\n",
    "    print(diagonalizacion)\n",
    "else:\n",
    "    print(\"La matriz no es diagonalizable ya que no tiene suficientes autovectores linealmente independientes.\")\n",
    "\n",
    "# Fin Completar aquí "
   ]
  },
  {
   "cell_type": "markdown",
   "metadata": {},
   "source": [
    "Introduce una matriz **B** de tamaño $12\\times 7$ con entradas aleatorias\n",
    "\n"
   ]
  },
  {
   "cell_type": "code",
   "execution_count": 79,
   "metadata": {},
   "outputs": [
    {
     "name": "stdout",
     "output_type": "stream",
     "text": [
      "Matriz B:\n",
      "[[0.02164052 0.97896729 0.50807025 0.35660791 0.07906588 0.56840442\n",
      "  0.05151747]\n",
      " [0.43658399 0.50090599 0.62413975 0.06579575 0.46803452 0.7988262\n",
      "  0.45976354]\n",
      " [0.69740392 0.32793965 0.40296217 0.62367828 0.02734348 0.37336973\n",
      "  0.45745635]\n",
      " [0.75379382 0.54188605 0.75461541 0.29737352 0.62439514 0.43689012\n",
      "  0.78817248]\n",
      " [0.28402621 0.8136689  0.24549316 0.97432945 0.69590172 0.35926573\n",
      "  0.46110436]\n",
      " [0.54176902 0.40888024 0.31984329 0.69518837 0.94508218 0.13922115\n",
      "  0.53685124]\n",
      " [0.06920293 0.22962441 0.35986526 0.3370943  0.74832224 0.20480014\n",
      "  0.50115499]\n",
      " [0.03067451 0.3597978  0.11074986 0.12089759 0.91118331 0.66169108\n",
      "  0.66472707]\n",
      " [0.22819393 0.28851674 0.98585855 0.23997154 0.27529786 0.6012132\n",
      "  0.90666448]\n",
      " [0.01797332 0.66225916 0.28178363 0.95678309 0.88372217 0.4537903\n",
      "  0.63613254]\n",
      " [0.94168504 0.70023642 0.61735862 0.78469699 0.18526417 0.38662157\n",
      "  0.51857659]\n",
      " [0.30904292 0.75469513 0.12294559 0.78839524 0.82733522 0.08444815\n",
      "  0.38696597]]\n"
     ]
    }
   ],
   "source": [
    "# Completar aquí\n",
    "\n",
    "# Comando para formar la matriz B (12 x 7), de forma aleatoria\n",
    "B = np.random.rand(12, 7)\n",
    "\n",
    "# Matriz B\n",
    "print(\"Matriz B:\")\n",
    "print(B)\n",
    "\n",
    "# Fin Completar aquí "
   ]
  },
  {
   "cell_type": "markdown",
   "metadata": {},
   "source": [
    "Calcula la factorización **SVD** de la matriz $B$ anterior.\n",
    "A partir de los valores singulares, construye la matriz $\\Sigma$  \n",
    "de la descomposición **SVD** y comprueba que $B=U\\Sigma V^{\\top}$\n"
   ]
  },
  {
   "cell_type": "code",
   "execution_count": 80,
   "metadata": {},
   "outputs": [
    {
     "name": "stdout",
     "output_type": "stream",
     "text": [
      "Sigma = \n",
      " [[4.53270958 0.         0.         0.         0.         0.\n",
      "  0.        ]\n",
      " [0.         1.46744929 0.         0.         0.         0.\n",
      "  0.        ]\n",
      " [0.         0.         1.24488101 0.         0.         0.\n",
      "  0.        ]\n",
      " [0.         0.         0.         1.00544961 0.         0.\n",
      "  0.        ]\n",
      " [0.         0.         0.         0.         0.6048987  0.\n",
      "  0.        ]\n",
      " [0.         0.         0.         0.         0.         0.4426208\n",
      "  0.        ]\n",
      " [0.         0.         0.         0.         0.         0.\n",
      "  0.20161665]\n",
      " [0.         0.         0.         0.         0.         0.\n",
      "  0.        ]\n",
      " [0.         0.         0.         0.         0.         0.\n",
      "  0.        ]\n",
      " [0.         0.         0.         0.         0.         0.\n",
      "  0.        ]\n",
      " [0.         0.         0.         0.         0.         0.\n",
      "  0.        ]\n",
      " [0.         0.         0.         0.         0.         0.\n",
      "  0.        ]]\n",
      "Comprobación de B: True\n"
     ]
    }
   ],
   "source": [
    "# Completar aquí\n",
    "from scipy.linalg import svd\n",
    "\n",
    "# Calculamos la descomposición de B\n",
    "U, s, Vt = svd(B)   # s es un vector que contiene los valores singulares\n",
    "\n",
    "# Matriz Sigma:\n",
    "n = len(s)\n",
    "Sigma = np.zeros_like(B, dtype=float)\n",
    "Sigma[:n, :n] = np.diag(s)\n",
    "print(f\"Sigma = \\n {Sigma}\")\n",
    "\n",
    "# Comprobamos que B = USV^T\n",
    "print(\"Comprobación de B:\", np.allclose(B, U @ Sigma @ Vt))\n",
    "\n",
    "# Fin Completar aquí "
   ]
  },
  {
   "cell_type": "markdown",
   "metadata": {},
   "source": [
    "Utilizando los 4 primeros valores singulares, calcula una aproximación  \n",
    "$B_4$ de rango 4 de $B$ y calcula el rango de $B$ y de $B_4$. Calcula también  \n",
    "$||B-B_4||_2$"
   ]
  },
  {
   "cell_type": "code",
   "execution_count": 81,
   "metadata": {},
   "outputs": [
    {
     "name": "stdout",
     "output_type": "stream",
     "text": [
      "Rango de B: 7\n",
      "Rango de B: 4\n",
      "Norma de B-B4: 0.7761861097094169\n"
     ]
    }
   ],
   "source": [
    "# Completar aquí\n",
    "\n",
    "U,s,Vt = svd(B)\n",
    "Long_s = len(s)\n",
    "\n",
    "K = 4   # Número de valores singulares\n",
    "Trunc_s=s[:K]  # Truncamos los valores singulares a los primeros K\n",
    "\n",
    "# Creamos la matriz diagonal de los valores truncados    \n",
    "Z = np.zeros_like(B, dtype=np.float64)\n",
    "Z[:K, :K] = np.diag(Trunc_s)\n",
    "\n",
    "# Aproximación de B usando los primeros K valores\n",
    "B_aprox = U @ Z @ Vt\n",
    "\n",
    "print(\"Rango de B:\", np.linalg.matrix_rank(B))\n",
    "print(\"Rango de B:\", np.linalg.matrix_rank(B_aprox))\n",
    "print (\"Norma de B-B4:\", np.linalg.norm(B-B_aprox))\n",
    "\n",
    "# Fin Completar aquí "
   ]
  }
 ],
 "metadata": {
  "kernelspec": {
   "display_name": "Python 3 (ipykernel)",
   "language": "python",
   "name": "python3"
  },
  "language_info": {
   "codemirror_mode": {
    "name": "ipython",
    "version": 3
   },
   "file_extension": ".py",
   "mimetype": "text/x-python",
   "name": "python",
   "nbconvert_exporter": "python",
   "pygments_lexer": "ipython3",
   "version": "3.10.10"
  }
 },
 "nbformat": 4,
 "nbformat_minor": 4
}
