{
 "cells": [
  {
   "cell_type": "markdown",
   "id": "8e983960",
   "metadata": {},
   "source": [
    "# Ejercicios - Práctica 7a: Procesos en el *shell* de Linux."
   ]
  },
  {
   "cell_type": "markdown",
   "id": "5f67155f",
   "metadata": {},
   "source": [
    "<br>\n",
    "<font size=\"5\">  \n",
    "    <span style=\"color: red;\"><b>ATENCIÓN:</b><br>Se recomienda realizar los ejercicios propuestos de este boletín en un terminal independiente, ya que la mayoría de ellos <b>no pueden llevarse a cabo en Jupyter</b> debido a que es necesario interactuar con el programa lanzado mediante el teclado durante su ejecución. \n",
    "    </span>\n",
    "    <br><br>\n",
    "    Utiliza el <i>notebook</i> únicamente para responder a las preguntas o introducir el comando requerido en las celdas de código.\n",
    "</font>  \n"
   ]
  },
  {
   "cell_type": "markdown",
   "id": "c61e6f57",
   "metadata": {},
   "source": [
    "### Control de procesos en primer y segundo plano"
   ]
  },
  {
   "cell_type": "markdown",
   "id": "043a0cc4-5e30-43d1-ac07-a2ea82d73652",
   "metadata": {},
   "source": [
    "- Lanza el programa `gnome-text-editor` desde un terminal, y luego pulsa `Ctrl-C` para enviar al proceso una señal de terminación. ¿Puedes terminar su ejecución de esta forma? ¿Por qué? ¿A qué proceso le llega la señal `SIGINT` enviada al pulsar `Ctrl-C`?\n",
    "\n"
   ]
  },
  {
   "cell_type": "markdown",
   "id": "038ef6a8",
   "metadata": {},
   "source": [
    "Vuelve a lanzar el mismo programa, esta vez en segundo plano, y tras hacerlo, pulsa de nuevo `Ctrl-C`. ¿Puedes terminar su ejecución así? ¿Por qué? ¿A qué proceso le llega esta vez la señal `SIGINT`?\n",
    "\n"
   ]
  },
  {
   "cell_type": "code",
   "execution_count": 1,
   "id": "d2eea050",
   "metadata": {},
   "outputs": [
    {
     "name": "stdout",
     "output_type": "stream",
     "text": [
      "[1] 441591\n"
     ]
    }
   ],
   "source": [
    "# Comando para lanzar gnome-text-editor en segundo plano\n",
    "gnome-text-editor &"
   ]
  },
  {
   "cell_type": "markdown",
   "id": "34002cc0",
   "metadata": {},
   "source": [
    "- ¿Qué comando utilizarías para poder terminar el comando lanzado anteriormente sabiendo su PID?"
   ]
  },
  {
   "cell_type": "code",
   "execution_count": 2,
   "id": "91497829",
   "metadata": {},
   "outputs": [
    {
     "name": "stdout",
     "output_type": "stream",
     "text": [
      "No se ha encontrado la orden «gnome-text-editor», pero se puede instalar con:\n",
      "snap install gnome-text-editor  # version 45.1, or\n",
      "apt  install gedit              # version 41.0-3\n",
      "apt  install gnome-text-editor  # version 42.2-0ubuntu1\n",
      "Consulte «snap info gnome-text-editor» para ver más versiones.\n",
      "[1]+  Salida 127              gnome-text-editor\n",
      "bash: kill: (239959) - No existe el proceso\n"
     ]
    },
    {
     "ename": "",
     "evalue": "1",
     "output_type": "error",
     "traceback": []
    }
   ],
   "source": [
    "# Comando para terminar la ejecución del proceso lanzado a partir del nombre del programa\n",
    "kill 239959"
   ]
  },
  {
   "cell_type": "markdown",
   "id": "71867479-8914-42fb-8ba8-ba12ad70dd14",
   "metadata": {},
   "source": [
    "PREGUNTA: Una vez terminada la ejecución del comando anterior, sin teclear ningún comando, presiona repetidamente `Ctrl-C`. ¿Qué ocurre cada vez que lo haces? ¿Es posible terminar la ejecución del shell de esa forma?\n"
   ]
  },
  {
   "cell_type": "markdown",
   "id": "37aad816-3363-4f07-80c1-26eed85d0adb",
   "metadata": {},
   "source": [
    "RESPUESTA: no occure nada solamente se marca en el terminal \"^C\" , y eso no va a terminar la ejecución del shell\"\n",
    "\n"
   ]
  },
  {
   "cell_type": "markdown",
   "id": "07b435d3-cc1f-4f5c-b34e-b3e1ef843226",
   "metadata": {},
   "source": [
    "- Lanza los programas `okteta` y `gnome-text-editor` desde el terminal, ambos en primer plano, como una secuencia de comandos consecutivos, en la misma línea de la siguiente celda:"
   ]
  },
  {
   "cell_type": "code",
   "execution_count": 3,
   "id": "8bb9c999-744b-48b8-b30d-2d06cd04baec",
   "metadata": {},
   "outputs": [
    {
     "name": "stdout",
     "output_type": "stream",
     "text": [
      "No se ha encontrado la orden «okteta», pero se puede instalar con:\n",
      "snap install okteta  # version 0.26.13, or\n",
      "apt  install okteta  # version 5:0.26.7-1\n",
      "Consulte «snap info okteta» para ver más versiones.\n",
      "No se ha encontrado la orden «gnome-text-editor», pero se puede instalar con:\n",
      "snap install gnome-text-editor  # version 45.1, or\n",
      "apt  install gedit              # version 41.0-3\n",
      "apt  install gnome-text-editor  # version 42.2-0ubuntu1\n",
      "Consulte «snap info gnome-text-editor» para ver más versiones.\n"
     ]
    },
    {
     "ename": "",
     "evalue": "127",
     "output_type": "error",
     "traceback": []
    }
   ],
   "source": [
    "# Lanzar okteta y después gnome-text-editor, ambos en primer plano\n",
    "okteta ; gnome-text-editor"
   ]
  },
  {
   "cell_type": "markdown",
   "id": "6ebc93a7",
   "metadata": {},
   "source": [
    "PREGUNTA: ¿Qué ha de ocurrir para que comience a ejecutarse el editor `gnome-text-editor`? ¿Cuándo se completa la ejecución de la celda del notebook?"
   ]
  },
  {
   "cell_type": "markdown",
   "id": "0a6506e5-d6e3-4ae3-ad20-56f2f3f60ac7",
   "metadata": {},
   "source": [
    "RESPUESTA: \n",
    "se ejecuta secuencialmente trás okteta, la ejecución de la celda del notebook se hará cuando se caba el proceso de okteta \n"
   ]
  },
  {
   "cell_type": "markdown",
   "id": "6f7a601c-0136-4e19-b8f5-ee8b05a7ce0c",
   "metadata": {},
   "source": [
    "- Vuelve a lanzar los dos programas en una misma línea de comandos, pero esta vez en segundo plano."
   ]
  },
  {
   "cell_type": "code",
   "execution_count": 4,
   "id": "552cf1f7-6670-413d-ae47-9d5fc1ba9a25",
   "metadata": {},
   "outputs": [
    {
     "name": "stdout",
     "output_type": "stream",
     "text": [
      "[1] 441632\n",
      "[2] 441633\n"
     ]
    }
   ],
   "source": [
    "# Lanzar okteta y después gnome-text-editor, ambos en segundo plano\n",
    "okteta & gnome-text-editor &"
   ]
  },
  {
   "cell_type": "markdown",
   "id": "b4948205-22c4-44fb-9532-47b40855f089",
   "metadata": {},
   "source": [
    "- Escribe el comando adecuado para pasar a primer plano el último proceso que se lanzó (el editor `gnome-text-editor`).\n",
    "\n",
    "RESPUESTA: fg\n",
    "\n"
   ]
  },
  {
   "cell_type": "markdown",
   "id": "f4576b30",
   "metadata": {},
   "source": [
    "PREGUNTA: Desde el terminal, termina el proceso que acabas de pasar a primer plano. ¿Qué teclas o comando has utilizado?\n",
    "\n",
    "RESPUESTA: ctrl+C\n",
    "\n"
   ]
  },
  {
   "cell_type": "markdown",
   "id": "2a2a49f9-1684-4f43-b518-f646fa9af5b2",
   "metadata": {},
   "source": [
    "PREGUNTA: Repite el comando `fg` para hacer lo propio con el comando anterior (`okteta`), pero esta vez, en lugar de terminarlo, páralo. ¿Qué teclas o comando has utilizado?\n",
    "\n",
    "RESPUESTA: ctrl+Z\n",
    "\n"
   ]
  },
  {
   "cell_type": "markdown",
   "id": "0f4215bc",
   "metadata": {},
   "source": [
    "PREGUNTA: Trata de interactuar con el proceso `okteta`, ¿por que no responde al ratón ni al teclado?\n",
    "\n",
    "RESPUESTA: no interectua el proceso okteta porque es fijado\n",
    "\n"
   ]
  },
  {
   "cell_type": "markdown",
   "id": "e509880d",
   "metadata": {},
   "source": [
    "PREGUNTA: Vuelve a despertar el proceso `okteta` pero esta vez en segundo plano. ¿Qué comando has de utilizar?\n",
    "\n",
    "RESPUESTA: bg %1\n",
    "\n",
    "\n"
   ]
  },
  {
   "cell_type": "markdown",
   "id": "c582f37f",
   "metadata": {},
   "source": [
    "- Usa la orden adecuada para listar los procesos lanzados desde el terminal donde estás ejecutando los comandos anteriores."
   ]
  },
  {
   "cell_type": "code",
   "execution_count": 5,
   "id": "c989208a",
   "metadata": {},
   "outputs": [
    {
     "name": "stdout",
     "output_type": "stream",
     "text": [
      "No se ha encontrado la orden «okteta», pero se puede instalar con:\n",
      "snap install okteta  # version 0.26.13, or\n",
      "apt  install okteta  # version 5:0.26.7-1\n",
      "Consulte «snap info okteta» para ver más versiones.\n",
      "No se ha encontrado la orden «gnome-text-editor», pero se puede instalar con:\n",
      "snap install gnome-text-editor  # version 45.1, or\n",
      "apt  install gedit              # version 41.0-3\n",
      "apt  install gnome-text-editor  # version 42.2-0ubuntu1\n",
      "Consulte «snap info gnome-text-editor» para ver más versiones.\n",
      "[1]-  Salida 127              okteta\n",
      "[2]+  Salida 127              gnome-text-editor\n",
      "UID          PID    PPID  C STIME TTY          TIME CMD\n",
      "root           1       0  0 nov14 ?        00:03:33 /sbin/init\n",
      "root           2       0  0 nov14 ?        00:00:00 [kthreadd]\n",
      "root           3       2  0 nov14 ?        00:00:00 [pool_workqueue_release]\n",
      "root           4       2  0 nov14 ?        00:00:00 [kworker/R-rcu_g]\n",
      "root           5       2  0 nov14 ?        00:00:00 [kworker/R-rcu_p]\n",
      "root           6       2  0 nov14 ?        00:00:00 [kworker/R-slub_]\n",
      "root           7       2  0 nov14 ?        00:00:00 [kworker/R-netns]\n",
      "root          10       2  0 nov14 ?        00:00:00 [kworker/0:0H-events_highpri\n",
      "root          12       2  0 nov14 ?        00:00:00 [kworker/R-mm_pe]\n",
      "root          13       2  0 nov14 ?        00:00:00 [rcu_tasks_rude_kthread]\n",
      "root          14       2  0 nov14 ?        00:00:00 [rcu_tasks_trace_kthread]\n",
      "root          15       2  0 nov14 ?        00:00:02 [ksoftirqd/0]\n",
      "root          16       2  0 nov14 ?        00:01:08 [rcu_sched]\n",
      "root          17       2  0 nov14 ?        00:00:09 [migration/0]\n",
      "root          18       2  0 nov14 ?        00:00:00 [idle_inject/0]\n",
      "root          19       2  0 nov14 ?        00:00:00 [cpuhp/0]\n",
      "root          20       2  0 nov14 ?        00:00:00 [cpuhp/1]\n",
      "root          21       2  0 nov14 ?        00:00:00 [idle_inject/1]\n",
      "root          22       2  0 nov14 ?        00:00:08 [migration/1]\n",
      "root          23       2  0 nov14 ?        00:00:02 [ksoftirqd/1]\n",
      "root          25       2  0 nov14 ?        00:00:00 [kworker/1:0H-events_highpri\n",
      "root          26       2  0 nov14 ?        00:00:00 [cpuhp/2]\n",
      "root          27       2  0 nov14 ?        00:00:00 [idle_inject/2]\n",
      "root          28       2  0 nov14 ?        00:00:07 [migration/2]\n",
      "root          29       2  0 nov14 ?        00:00:01 [ksoftirqd/2]\n",
      "root          31       2  0 nov14 ?        00:00:00 [kworker/2:0H-kblockd]\n",
      "root          32       2  0 nov14 ?        00:00:00 [cpuhp/3]\n",
      "root          33       2  0 nov14 ?        00:00:00 [idle_inject/3]\n",
      "root          34       2  0 nov14 ?        00:00:07 [migration/3]\n",
      "root          35       2  0 nov14 ?        00:00:01 [ksoftirqd/3]\n",
      "root          37       2  0 nov14 ?        00:00:00 [kworker/3:0H-events_highpri\n",
      "root          38       2  0 nov14 ?        00:00:00 [kdevtmpfs]\n",
      "root          39       2  0 nov14 ?        00:00:00 [kworker/R-inet_]\n",
      "root          41       2  0 nov14 ?        00:00:00 [kauditd]\n",
      "root          42       2  0 nov14 ?        00:00:01 [khungtaskd]\n",
      "root          43       2  0 nov14 ?        00:00:00 [oom_reaper]\n",
      "root          45       2  0 nov14 ?        00:00:00 [kworker/R-write]\n",
      "root          46       2  0 nov14 ?        00:01:10 [kcompactd0]\n",
      "root          47       2  0 nov14 ?        00:00:00 [ksmd]\n",
      "root          48       2  0 nov14 ?        00:00:08 [khugepaged]\n",
      "root          49       2  0 nov14 ?        00:00:00 [kworker/R-kinte]\n",
      "root          50       2  0 nov14 ?        00:00:00 [kworker/R-kbloc]\n",
      "root          51       2  0 nov14 ?        00:00:00 [kworker/R-blkcg]\n",
      "root          52       2  0 nov14 ?        00:00:00 [irq/9-acpi]\n",
      "root          56       2  0 nov14 ?        00:00:00 [kworker/R-tpm_d]\n",
      "root          57       2  0 nov14 ?        00:00:00 [kworker/R-ata_s]\n",
      "root          58       2  0 nov14 ?        00:00:00 [kworker/R-md]\n",
      "root          59       2  0 nov14 ?        00:00:00 [kworker/R-md_bi]\n",
      "root          60       2  0 nov14 ?        00:00:00 [kworker/R-edac-]\n",
      "root          61       2  0 nov14 ?        00:00:00 [kworker/R-devfr]\n",
      "root          62       2  0 nov14 ?        00:00:00 [watchdogd]\n",
      "root          63       2  0 nov14 ?        00:00:05 [kworker/1:1H-kblockd]\n",
      "root          64       2  0 nov14 ?        00:00:20 [kswapd0]\n",
      "root          65       2  0 nov14 ?        00:00:00 [ecryptfs-kthread]\n",
      "root          66       2  0 nov14 ?        00:00:00 [kworker/R-kthro]\n",
      "root          67       2  0 nov14 ?        00:00:00 [kworker/R-acpi_]\n",
      "root          68       2  0 nov14 ?        00:00:41 [hwrng]\n",
      "root          69       2  0 nov14 ?        00:00:00 [scsi_eh_0]\n",
      "root          70       2  0 nov14 ?        00:00:00 [kworker/R-scsi_]\n",
      "root          71       2  0 nov14 ?        00:00:00 [kworker/R-nvme-]\n",
      "root          72       2  0 nov14 ?        00:00:00 [kworker/R-nvme-]\n",
      "root          73       2  0 nov14 ?        00:00:00 [kworker/R-nvme-]\n",
      "root          74       2  0 nov14 ?        00:00:00 [kworker/R-nvme-]\n",
      "root          75       2  0 nov14 ?        00:00:05 [kworker/0:1H-kblockd]\n",
      "root          76       2  0 nov14 ?        00:00:05 [kworker/2:1H-kblockd]\n",
      "root          77       2  0 nov14 ?        00:00:14 [kworker/3:1H-kblockd]\n",
      "root          78       2  0 nov14 ?        00:00:00 [kworker/R-mld]\n",
      "root          79       2  0 nov14 ?        00:00:00 [kworker/R-ipv6_]\n",
      "root          86       2  0 nov14 ?        00:00:00 [kworker/R-kstrp]\n",
      "root          89       2  0 nov14 ?        00:00:00 [kworker/u9:0]\n",
      "root         102       2  0 nov14 ?        00:00:00 [kworker/R-charg]\n",
      "root         103       2  0 nov14 ?        00:01:00 [jbd2/sda1-8]\n",
      "root         104       2  0 nov14 ?        00:00:00 [kworker/R-ext4-]\n",
      "root         145       1  0 nov14 ?        00:19:48 /lib/systemd/systemd-journal\n",
      "root         178       2  0 nov14 ?        00:00:00 [kworker/R-kalua]\n",
      "root         180       2  0 nov14 ?        00:00:00 [kworker/R-kmpat]\n",
      "root         182       2  0 nov14 ?        00:00:00 [kworker/R-kmpat]\n",
      "root         183       2  0 nov14 ?        00:00:00 [kworker/R-kmpat]\n",
      "root         185       1  0 nov14 ?        00:02:55 /sbin/multipathd -d -s\n",
      "root         195       1  0 nov14 ?        00:00:03 /lib/systemd/systemd-udevd\n",
      "root         224       2  0 nov14 ?        00:00:00 [kworker/R-crypt]\n",
      "systemd+     401       1  0 nov14 ?        00:00:09 /lib/systemd/systemd-network\n",
      "systemd+     403       1  0 nov14 ?        00:00:05 /lib/systemd/systemd-resolve\n",
      "root         436       1  0 nov14 ?        00:02:52 /usr/libexec/accounts-daemon\n",
      "message+     438       1  0 nov14 ?        00:00:07 @dbus-daemon --system --addr\n",
      "root         442       1  0 nov14 ?        00:03:46 /usr/bin/google_osconfig_age\n",
      "root         446       1  0 nov14 ?        00:00:01 /usr/bin/python3 /usr/bin/ne\n",
      "syslog       449       1  0 nov14 ?        00:05:12 /usr/sbin/rsyslogd -n -iNONE\n",
      "root         472       1  0 nov14 ?        00:39:59 /opt/tljh/hub/bin/traefik -c\n",
      "_chrony      475       1  0 nov14 ?        00:00:00 /usr/sbin/chronyd -F 1\n",
      "root         476       1  0 nov14 ?        00:28:14 /opt/tljh/hub/bin/python3 -m\n",
      "_chrony      478     475  0 nov14 ?        00:00:00 /usr/sbin/chronyd -F 1\n",
      "root         614       1  0 nov14 ?        00:03:15 /usr/bin/google_guest_agent\n",
      "root         623       1  0 nov14 ?        00:00:00 /usr/libexec/polkitd --no-de\n",
      "root         688       1  0 nov14 ?        00:00:00 /usr/bin/python3 /usr/share/\n",
      "root         752       1  0 nov14 ttyS0    00:00:00 /sbin/agetty -o -p -- \\u --k\n",
      "root         754       1  0 nov14 tty1     00:00:00 /sbin/agetty -o -p -- \\u --n\n",
      "root         755       1  0 nov14 ?        00:00:00 sshd: /usr/sbin/sshd -D [lis\n",
      "root         767       1  0 nov14 ?        00:00:05 /lib/systemd/systemd-logind\n",
      "root         786       1  0 nov14 ?        00:00:03 /usr/sbin/cron -f -P\n",
      "root         819     476  0 nov14 ?        00:02:35 /opt/tljh/hub/bin/python3 -m\n",
      "root         823       2  0 nov14 ?        00:00:00 [kworker/R-tls-s]\n",
      "root        1223       1  0 nov14 ?        00:00:11 /usr/libexec/packagekitd\n",
      "root      228728       1  0 nov26 ?        00:00:36 /usr/lib/snapd/snapd\n",
      "root      336431       2  0 dic02 ?        00:00:06 [kworker/1:3-pm]\n",
      "root      405058       2  0 dic03 ?        00:00:40 [kworker/2:2-mm_percpu_wq]\n",
      "root      414632       2  0 dic03 ?        00:00:01 [kworker/3:0-mm_percpu_wq]\n",
      "root      428628       2  0 10:49 ?        00:00:00 [kworker/0:3-events]\n",
      "root      435715       2  0 12:30 ?        00:00:00 [kworker/u8:3-events_power_e\n",
      "root      436532       2  0 12:41 ?        00:00:00 [kworker/u8:0-events_unbound\n",
      "jupyter+  436943       1  1 12:46 ?        00:00:54 /opt/tljh/user/bin/python /o\n",
      "jupyter+  436971  436943  0 12:47 ?        00:00:00 /opt/tljh/user/bin/python3 -\n",
      "jupyter+  436974  436943  0 12:47 ?        00:00:00 /opt/tljh/user/bin/python3 -\n",
      "jupyter+  436985  436974  0 12:47 pts/0    00:00:00 /usr/bin/bash --rcfile /opt/\n",
      "jupyter+  437003  436971  0 12:47 pts/7    00:00:00 /usr/bin/bash --rcfile /opt/\n",
      "jupyter+  437125  436943  0 12:48 ?        00:00:01 /opt/tljh/user/bin/python3 -\n",
      "jupyter+  437138  437125  0 12:48 pts/1    00:00:00 /usr/bin/bash --rcfile /opt/\n",
      "jupyter+  437148  436943  0 12:48 ?        00:00:01 /opt/tljh/user/bin/python3 -\n",
      "jupyter+  437161  437148  0 12:48 pts/2    00:00:00 /usr/bin/bash --rcfile /opt/\n",
      "jupyter+  437175  436943  0 12:48 ?        00:00:00 /opt/tljh/user/bin/python3 -\n",
      "jupyter+  437188  437175  0 12:48 pts/24   00:00:00 /usr/bin/bash --rcfile /opt/\n",
      "jupyter+  437198  436943  0 12:48 ?        00:00:00 /opt/tljh/user/bin/python3 -\n",
      "jupyter+  437213  437198  0 12:48 pts/25   00:00:00 /usr/bin/bash --rcfile /opt/\n",
      "jupyter+  437296  436943  0 12:49 pts/26   00:00:00 /bin/bash -l\n",
      "root      437495       2  0 12:51 ?        00:00:00 [kworker/u8:1-events_power_e\n",
      "root      439253       2  0 13:11 ?        00:00:00 [kworker/1:0]\n",
      "jupyter+  440014       1  1 13:19 ?        00:00:23 /opt/tljh/user/bin/python /o\n",
      "jupyter+  440040  440014  0 13:19 ?        00:00:01 /opt/tljh/user/bin/python3 -\n",
      "jupyter+  440043  440014  0 13:19 ?        00:00:00 /opt/tljh/user/bin/python3 -\n",
      "jupyter+  440060  440040  0 13:19 pts/28   00:00:00 /usr/bin/bash --rcfile /opt/\n",
      "jupyter+  440078  440043  0 13:19 pts/29   00:00:00 /usr/bin/bash --rcfile /opt/\n",
      "root      440977       2  0 13:31 ?        00:00:00 [kworker/0:1-events]\n",
      "jupyter+  441073       1  1 13:34 ?        00:00:06 /opt/tljh/user/bin/python /o\n",
      "root      441082       2  0 13:34 ?        00:00:00 [kworker/2:0-cgroup_destroy]\n",
      "jupyter+  441094  441073  0 13:34 pts/13   00:00:00 /bin/bash -l\n",
      "jupyter+  441119  441073  0 13:34 ?        00:00:00 /opt/tljh/user/bin/python3 -\n",
      "jupyter+  441122  441073  0 13:34 ?        00:00:00 /opt/tljh/user/bin/python3 -\n",
      "jupyter+  441129  441073  0 13:34 ?        00:00:00 /opt/tljh/user/bin/python3 -\n",
      "jupyter+  441150  441122  0 13:34 pts/14   00:00:00 /usr/bin/bash --rcfile /opt/\n",
      "jupyter+  441151  441119  0 13:34 pts/15   00:00:00 /usr/bin/bash --rcfile /opt/\n",
      "jupyter+  441176  441129  0 13:34 pts/17   00:00:00 /usr/bin/bash --rcfile /opt/\n",
      "root      441231       2  0 13:35 ?        00:00:00 [kworker/u8:2-events_unbound\n",
      "root      441232       2  0 13:35 ?        00:00:00 [kworker/3:2]\n",
      "jupyter+  441239       1  1 13:35 ?        00:00:05 /opt/tljh/user/bin/python /o\n",
      "jupyter+  441268  441239  0 13:35 ?        00:00:00 /opt/tljh/user/bin/python3 -\n",
      "jupyter+  441271  441239  0 13:35 ?        00:00:00 /opt/tljh/user/bin/python3 -\n",
      "jupyter+  441272  441239  0 13:35 ?        00:00:00 /opt/tljh/user/bin/python3 -\n",
      "jupyter+  441273  441239  0 13:35 ?        00:00:00 /opt/tljh/user/bin/python3 -\n",
      "jupyter+  441286  441268  0 13:35 pts/3    00:00:00 /usr/bin/bash --rcfile /opt/\n",
      "jupyter+  441304  441271  0 13:35 pts/4    00:00:00 /usr/bin/bash --rcfile /opt/\n",
      "jupyter+  441325  441272  0 13:35 pts/5    00:00:00 /usr/bin/bash --rcfile /opt/\n",
      "jupyter+  441333  441273  0 13:35 pts/6    00:00:00 /usr/bin/bash --rcfile /opt/\n",
      "jupyter+  441392       1  2 13:36 ?        00:00:06 /opt/tljh/user/bin/python /o\n",
      "jupyter+  441422  441392  0 13:36 ?        00:00:00 /opt/tljh/user/bin/python3 -\n",
      "jupyter+  441437  441422  0 13:36 pts/8    00:00:00 /usr/bin/bash --rcfile /opt/\n",
      "jupyter+  441662  441437  0 13:41 pts/8    00:00:00 ps -Af\n"
     ]
    }
   ],
   "source": [
    "# Comando para monitorizar los procesos activos lanzados en este terminal\n",
    "ps -Af"
   ]
  },
  {
   "cell_type": "markdown",
   "id": "559c6d51-fb7e-4aa8-8bbc-a7066eadf691",
   "metadata": {},
   "source": [
    "```\n",
    "    PID TTY          TIME CMD\n",
    "  19422 pts/5    00:00:00 bash\n",
    "  27254 pts/5    00:00:01 okteta\n",
    "  28051 pts/5    00:00:00 ps\n",
    "```"
   ]
  },
  {
   "cell_type": "markdown",
   "id": "80a20a8a-14a2-4f48-8517-f464f2a6122b",
   "metadata": {},
   "source": [
    "- Finalmente, termina el proceso `okteta` desde el terminal esta vez usando el PID (identificador del proceso) que nos indicó el terminal al lanzar el proceso inicialmente."
   ]
  },
  {
   "cell_type": "code",
   "execution_count": 6,
   "id": "9f86707c",
   "metadata": {},
   "outputs": [
    {
     "name": "stdout",
     "output_type": "stream",
     "text": [
      "bash: kill: (240772) - No existe el proceso\n"
     ]
    },
    {
     "ename": "",
     "evalue": "1",
     "output_type": "error",
     "traceback": []
    }
   ],
   "source": [
    "# Comando para terminar el proceso lanzado en segundo plano\n",
    "kill 240772"
   ]
  },
  {
   "cell_type": "markdown",
   "id": "e7cee5ac-bcec-4e17-baf4-c53759766a8a",
   "metadata": {},
   "source": [
    "PREGUNTA: Lanza de nuevo los programas `okteta` y `gnome-text-editor`, en dicho orden, pero esta vez únicamente con `okteta` en segundo plano. ¿Qué ocurre si ahora pulsas `Ctrl-C` en el terminal?\n",
    "\n",
    "RESPUESTA: okteta & gnome-text-editor\n",
    "\n"
   ]
  },
  {
   "cell_type": "markdown",
   "id": "00c51ed8",
   "metadata": {},
   "source": [
    "- Usando el comando adecuado, averigua el PID del proceso que está ejecutando `okteta` a partir de su nombre."
   ]
  },
  {
   "cell_type": "code",
   "execution_count": 7,
   "id": "9f9f5985",
   "metadata": {},
   "outputs": [
    {
     "ename": "",
     "evalue": "1",
     "output_type": "error",
     "traceback": []
    }
   ],
   "source": [
    "# Comando para averiguar el PID del un proceso por el nombre del comando ejecutado\n",
    "pgrep okteta"
   ]
  },
  {
   "cell_type": "markdown",
   "id": "4a8907ca-3ed5-4e68-8b42-1372181296e8",
   "metadata": {},
   "source": [
    "- Termina el programa `okteta` sin necesidad de introducir su PID"
   ]
  },
  {
   "cell_type": "code",
   "execution_count": 8,
   "id": "57ccec94-bb9e-4744-a562-6ee857476af2",
   "metadata": {},
   "outputs": [
    {
     "ename": "",
     "evalue": "1",
     "output_type": "error",
     "traceback": []
    }
   ],
   "source": [
    "pkill okteta"
   ]
  },
  {
   "cell_type": "markdown",
   "id": "f715191f-fce5-40c7-a9f0-049d7de99b3b",
   "metadata": {},
   "source": [
    "PREGUNTA: Descarga el programa ejecutable `uninterruptible`, el cual tienes disponible a través del AV, y cámbiale los permisos para poder ejecutarlo. Ejecútalo en primer plano y prueba a terminar su ejecución con `CTRL-C`. ¿Puedes? Explica qué semejanzas crees que tiene este programa con el programa *shell* en cuanto al tratamiento de la señal `SIGINT`.\n",
    "\n",
    "RESPUESTA: no se puede parar el programa con el CTRL+C , este programa al mismo que el shell si no encuentra un proceso en ejecución en primer plano el \"SIGINT\" será ignotrado y continuará a mostrar el prompt de nuevo \n",
    "\n"
   ]
  },
  {
   "cell_type": "markdown",
   "id": "3a223cf7-f83c-4a9b-8ea4-2002b8f5ea08",
   "metadata": {},
   "source": [
    "PREGUNTA: Detén la ejecución del programa lanzado anteriormente, sin terminarlo. Después lista los procesos lanzados en el terminal, ¿cuánto tiempo ha usado la CPU el programa `uninterruptible` antes de ser detenido? Si vuelves a listar los procesos, ¿ha variado el tiempo de CPU?\n",
    "\n",
    "RESPUESTA: al detener la ejecución del programa usando el comando (CTRL+Z),se ve tras el comando ps -Af que la CPU ha usado 4segundos  el programa uninterruprtible antes de ser detenido , si volvemos a listar los procesos , el tiempo de la CPU sigue aumentando\n",
    "\n"
   ]
  },
  {
   "cell_type": "markdown",
   "id": "2959ee8e-3cd7-4eec-8478-0cfe7dc0ef4d",
   "metadata": {},
   "source": [
    "PREGUNTA: Reanuda en segundo plano la ejecución del programa detenido anteriormente, y usa el comando adecuado para observar periódicamente el tiempo de CPU que lleva consumido. ¿Qué porcentaje de la CPU usa cuando está en ejecución? ¿En qué medida crece el tiempo de uso de la CPU con respecto al tiempo \"del reloj de pared\" (medido por una persona)?\n",
    "\n",
    "RESPUESTA: cuando el programa uninterruptible es en ejecución ,la CPU se usa a 100% es decir todo 1 núcleo,el tiempo de uso de la CPU crece proporcionalmente al tiempo del reloj de pared por el número de CPU  en uso \n",
    "\n"
   ]
  },
  {
   "cell_type": "markdown",
   "id": "12e5101a-68ef-42e0-a9c2-e5a82f5261d5",
   "metadata": {},
   "source": [
    "PREGUNTA: Termina el programa `uninterruptible`, ya sea por su nombre o PID, enviando la señal `SIGTERM`. ¿Puedes terminar el proceso? Indica el comando que has utilizado.\n",
    "\n",
    "RESPUESTA: el proceso se puede terminar usando el comando kill PID  en esta caso kill 6339\n",
    "\n"
   ]
  },
  {
   "cell_type": "markdown",
   "id": "50a497c3",
   "metadata": {},
   "source": [
    "PREGUNTA: A la vista de la salida del programa `uninterruptible` terminado en el paso anterior, ¿crees que el programa termina súbitamente al recibir la señal, o lo hace por sus propios medios?\n",
    "\n",
    "RESPUESTA: el programa no termina subitamente al recibir la señal , pero no le recibe y trás limpiarse lo hace por sus propios medios\n",
    "\n"
   ]
  },
  {
   "cell_type": "markdown",
   "id": "5cbaf5da-0fb9-4a71-abef-dfd0b6283cb4",
   "metadata": {},
   "source": [
    "PREGUNTA: Descarga el programa `stubborn` del AV y cámbiale los permisos para poder ejecutarlo. Después, ejecútalo en primer plano y prueba a terminar su ejecución con `CTRL-C`. ¿Qué ocurre? De nuevo, observa los procesos en ejecución con el comando adecuado, ¿cuál es su uso de CPU?\n",
    "\n",
    "RESPUESTA: \n",
    "\n"
   ]
  },
  {
   "cell_type": "markdown",
   "id": "8e8df847-5afc-4622-b5f9-3955cabf9832",
   "metadata": {},
   "source": [
    "PREGUNTA: Detén la ejecución del programa lanzado anteriormente, sin terminarlo, y luego reanuda en segundo plano su ejecución. Después, trata de terminar el programa `stubborn`, ya sea por su nombre o PID, enviando la señal `SIGTERM` al igual que has hecho anteriormente. ¿Puedes terminar el proceso de esta forma?\n",
    "\n",
    "RESPUESTA: Para reanudar al 2 plano usamos el comando bg %1 , el proceso no puede terminar de esta forma , porque la señal SIGTERM recibida por el proceso es ignorada\n",
    "\n"
   ]
  },
  {
   "cell_type": "markdown",
   "id": "3d3e8e0e",
   "metadata": {},
   "source": [
    "PREGUNTA: A la vista de lo anterior, ¿de qué forma podemos terminar el proceso `stubborn`? Indica el comando.\n",
    "\n",
    "RESPUESTA: \n",
    "\n",
    "La única forma de acabar con el proceso es \"matarlo\" con `pkill -9 stubborn`, lo cual hace que se le envíe la señal `SIGKILL`, que ningún proceso puede ignorar. Al hacerlo, vemos este mensaje: \n",
    "```\n",
    "[1]+  Terminado (killed)      ./stubborn\n",
    "```\n"
   ]
  },
  {
   "cell_type": "markdown",
   "id": "b33cb824",
   "metadata": {},
   "source": [
    "### Listado y monitorización de procesos"
   ]
  },
  {
   "cell_type": "markdown",
   "id": "d9456ca4",
   "metadata": {},
   "source": [
    "- Usa el comando adecuado para mostrar **todos** los procesos que se están ejecutando actualmente en el sistema."
   ]
  },
  {
   "cell_type": "code",
   "execution_count": 9,
   "id": "dcbfdbf2",
   "metadata": {},
   "outputs": [
    {
     "name": "stdout",
     "output_type": "stream",
     "text": [
      "UID          PID    PPID  C STIME TTY          TIME CMD\n",
      "root           1       0  0 nov14 ?        00:03:33 /sbin/init\n",
      "root           2       0  0 nov14 ?        00:00:00 [kthreadd]\n",
      "root           3       2  0 nov14 ?        00:00:00 [pool_workqueue_release]\n",
      "root           4       2  0 nov14 ?        00:00:00 [kworker/R-rcu_g]\n",
      "root           5       2  0 nov14 ?        00:00:00 [kworker/R-rcu_p]\n",
      "root           6       2  0 nov14 ?        00:00:00 [kworker/R-slub_]\n",
      "root           7       2  0 nov14 ?        00:00:00 [kworker/R-netns]\n",
      "root          10       2  0 nov14 ?        00:00:00 [kworker/0:0H-events_highpri\n",
      "root          12       2  0 nov14 ?        00:00:00 [kworker/R-mm_pe]\n",
      "root          13       2  0 nov14 ?        00:00:00 [rcu_tasks_rude_kthread]\n",
      "root          14       2  0 nov14 ?        00:00:00 [rcu_tasks_trace_kthread]\n",
      "root          15       2  0 nov14 ?        00:00:02 [ksoftirqd/0]\n",
      "root          16       2  0 nov14 ?        00:01:08 [rcu_sched]\n",
      "root          17       2  0 nov14 ?        00:00:09 [migration/0]\n",
      "root          18       2  0 nov14 ?        00:00:00 [idle_inject/0]\n",
      "root          19       2  0 nov14 ?        00:00:00 [cpuhp/0]\n",
      "root          20       2  0 nov14 ?        00:00:00 [cpuhp/1]\n",
      "root          21       2  0 nov14 ?        00:00:00 [idle_inject/1]\n",
      "root          22       2  0 nov14 ?        00:00:08 [migration/1]\n",
      "root          23       2  0 nov14 ?        00:00:02 [ksoftirqd/1]\n",
      "root          25       2  0 nov14 ?        00:00:00 [kworker/1:0H-events_highpri\n",
      "root          26       2  0 nov14 ?        00:00:00 [cpuhp/2]\n",
      "root          27       2  0 nov14 ?        00:00:00 [idle_inject/2]\n",
      "root          28       2  0 nov14 ?        00:00:07 [migration/2]\n",
      "root          29       2  0 nov14 ?        00:00:01 [ksoftirqd/2]\n",
      "root          31       2  0 nov14 ?        00:00:00 [kworker/2:0H-kblockd]\n",
      "root          32       2  0 nov14 ?        00:00:00 [cpuhp/3]\n",
      "root          33       2  0 nov14 ?        00:00:00 [idle_inject/3]\n",
      "root          34       2  0 nov14 ?        00:00:07 [migration/3]\n",
      "root          35       2  0 nov14 ?        00:00:01 [ksoftirqd/3]\n",
      "root          37       2  0 nov14 ?        00:00:00 [kworker/3:0H-events_highpri\n",
      "root          38       2  0 nov14 ?        00:00:00 [kdevtmpfs]\n",
      "root          39       2  0 nov14 ?        00:00:00 [kworker/R-inet_]\n",
      "root          41       2  0 nov14 ?        00:00:00 [kauditd]\n",
      "root          42       2  0 nov14 ?        00:00:01 [khungtaskd]\n",
      "root          43       2  0 nov14 ?        00:00:00 [oom_reaper]\n",
      "root          45       2  0 nov14 ?        00:00:00 [kworker/R-write]\n",
      "root          46       2  0 nov14 ?        00:01:10 [kcompactd0]\n",
      "root          47       2  0 nov14 ?        00:00:00 [ksmd]\n",
      "root          48       2  0 nov14 ?        00:00:08 [khugepaged]\n",
      "root          49       2  0 nov14 ?        00:00:00 [kworker/R-kinte]\n",
      "root          50       2  0 nov14 ?        00:00:00 [kworker/R-kbloc]\n",
      "root          51       2  0 nov14 ?        00:00:00 [kworker/R-blkcg]\n",
      "root          52       2  0 nov14 ?        00:00:00 [irq/9-acpi]\n",
      "root          56       2  0 nov14 ?        00:00:00 [kworker/R-tpm_d]\n",
      "root          57       2  0 nov14 ?        00:00:00 [kworker/R-ata_s]\n",
      "root          58       2  0 nov14 ?        00:00:00 [kworker/R-md]\n",
      "root          59       2  0 nov14 ?        00:00:00 [kworker/R-md_bi]\n",
      "root          60       2  0 nov14 ?        00:00:00 [kworker/R-edac-]\n",
      "root          61       2  0 nov14 ?        00:00:00 [kworker/R-devfr]\n",
      "root          62       2  0 nov14 ?        00:00:00 [watchdogd]\n",
      "root          63       2  0 nov14 ?        00:00:05 [kworker/1:1H-kblockd]\n",
      "root          64       2  0 nov14 ?        00:00:20 [kswapd0]\n",
      "root          65       2  0 nov14 ?        00:00:00 [ecryptfs-kthread]\n",
      "root          66       2  0 nov14 ?        00:00:00 [kworker/R-kthro]\n",
      "root          67       2  0 nov14 ?        00:00:00 [kworker/R-acpi_]\n",
      "root          68       2  0 nov14 ?        00:00:41 [hwrng]\n",
      "root          69       2  0 nov14 ?        00:00:00 [scsi_eh_0]\n",
      "root          70       2  0 nov14 ?        00:00:00 [kworker/R-scsi_]\n",
      "root          71       2  0 nov14 ?        00:00:00 [kworker/R-nvme-]\n",
      "root          72       2  0 nov14 ?        00:00:00 [kworker/R-nvme-]\n",
      "root          73       2  0 nov14 ?        00:00:00 [kworker/R-nvme-]\n",
      "root          74       2  0 nov14 ?        00:00:00 [kworker/R-nvme-]\n",
      "root          75       2  0 nov14 ?        00:00:05 [kworker/0:1H-kblockd]\n",
      "root          76       2  0 nov14 ?        00:00:05 [kworker/2:1H-kblockd]\n",
      "root          77       2  0 nov14 ?        00:00:14 [kworker/3:1H-kblockd]\n",
      "root          78       2  0 nov14 ?        00:00:00 [kworker/R-mld]\n",
      "root          79       2  0 nov14 ?        00:00:00 [kworker/R-ipv6_]\n",
      "root          86       2  0 nov14 ?        00:00:00 [kworker/R-kstrp]\n",
      "root          89       2  0 nov14 ?        00:00:00 [kworker/u9:0]\n",
      "root         102       2  0 nov14 ?        00:00:00 [kworker/R-charg]\n",
      "root         103       2  0 nov14 ?        00:01:00 [jbd2/sda1-8]\n",
      "root         104       2  0 nov14 ?        00:00:00 [kworker/R-ext4-]\n",
      "root         145       1  0 nov14 ?        00:19:49 /lib/systemd/systemd-journal\n",
      "root         178       2  0 nov14 ?        00:00:00 [kworker/R-kalua]\n",
      "root         180       2  0 nov14 ?        00:00:00 [kworker/R-kmpat]\n",
      "root         182       2  0 nov14 ?        00:00:00 [kworker/R-kmpat]\n",
      "root         183       2  0 nov14 ?        00:00:00 [kworker/R-kmpat]\n",
      "root         185       1  0 nov14 ?        00:02:55 /sbin/multipathd -d -s\n",
      "root         195       1  0 nov14 ?        00:00:03 /lib/systemd/systemd-udevd\n",
      "root         224       2  0 nov14 ?        00:00:00 [kworker/R-crypt]\n",
      "systemd+     401       1  0 nov14 ?        00:00:09 /lib/systemd/systemd-network\n",
      "systemd+     403       1  0 nov14 ?        00:00:05 /lib/systemd/systemd-resolve\n",
      "root         436       1  0 nov14 ?        00:02:52 /usr/libexec/accounts-daemon\n",
      "message+     438       1  0 nov14 ?        00:00:07 @dbus-daemon --system --addr\n",
      "root         442       1  0 nov14 ?        00:03:46 /usr/bin/google_osconfig_age\n",
      "root         446       1  0 nov14 ?        00:00:01 /usr/bin/python3 /usr/bin/ne\n",
      "syslog       449       1  0 nov14 ?        00:05:12 /usr/sbin/rsyslogd -n -iNONE\n",
      "root         472       1  0 nov14 ?        00:39:59 /opt/tljh/hub/bin/traefik -c\n",
      "_chrony      475       1  0 nov14 ?        00:00:00 /usr/sbin/chronyd -F 1\n",
      "root         476       1  0 nov14 ?        00:28:14 /opt/tljh/hub/bin/python3 -m\n",
      "_chrony      478     475  0 nov14 ?        00:00:00 /usr/sbin/chronyd -F 1\n",
      "root         614       1  0 nov14 ?        00:03:15 /usr/bin/google_guest_agent\n",
      "root         623       1  0 nov14 ?        00:00:00 /usr/libexec/polkitd --no-de\n",
      "root         688       1  0 nov14 ?        00:00:00 /usr/bin/python3 /usr/share/\n",
      "root         752       1  0 nov14 ttyS0    00:00:00 /sbin/agetty -o -p -- \\u --k\n",
      "root         754       1  0 nov14 tty1     00:00:00 /sbin/agetty -o -p -- \\u --n\n",
      "root         755       1  0 nov14 ?        00:00:00 sshd: /usr/sbin/sshd -D [lis\n",
      "root         767       1  0 nov14 ?        00:00:05 /lib/systemd/systemd-logind\n",
      "root         786       1  0 nov14 ?        00:00:03 /usr/sbin/cron -f -P\n",
      "root         819     476  0 nov14 ?        00:02:35 /opt/tljh/hub/bin/python3 -m\n",
      "root         823       2  0 nov14 ?        00:00:00 [kworker/R-tls-s]\n",
      "root        1223       1  0 nov14 ?        00:00:11 /usr/libexec/packagekitd\n",
      "root      228728       1  0 nov26 ?        00:00:36 /usr/lib/snapd/snapd\n",
      "root      336431       2  0 dic02 ?        00:00:06 [kworker/1:3-pm]\n",
      "root      405058       2  0 dic03 ?        00:00:40 [kworker/2:2-events_freezabl\n",
      "root      414632       2  0 dic03 ?        00:00:01 [kworker/3:0-events]\n",
      "root      428628       2  0 10:49 ?        00:00:00 [kworker/0:3-events]\n",
      "root      435715       2  0 12:30 ?        00:00:00 [kworker/u8:3-events_power_e\n",
      "root      436532       2  0 12:41 ?        00:00:00 [kworker/u8:0-events_unbound\n",
      "jupyter+  436943       1  1 12:46 ?        00:00:54 /opt/tljh/user/bin/python /o\n",
      "jupyter+  436971  436943  0 12:47 ?        00:00:00 /opt/tljh/user/bin/python3 -\n",
      "jupyter+  436974  436943  0 12:47 ?        00:00:00 /opt/tljh/user/bin/python3 -\n",
      "jupyter+  436985  436974  0 12:47 pts/0    00:00:00 /usr/bin/bash --rcfile /opt/\n",
      "jupyter+  437003  436971  0 12:47 pts/7    00:00:00 /usr/bin/bash --rcfile /opt/\n",
      "jupyter+  437125  436943  0 12:48 ?        00:00:01 /opt/tljh/user/bin/python3 -\n",
      "jupyter+  437138  437125  0 12:48 pts/1    00:00:00 /usr/bin/bash --rcfile /opt/\n",
      "jupyter+  437148  436943  0 12:48 ?        00:00:01 /opt/tljh/user/bin/python3 -\n",
      "jupyter+  437161  437148  0 12:48 pts/2    00:00:00 /usr/bin/bash --rcfile /opt/\n",
      "jupyter+  437175  436943  0 12:48 ?        00:00:00 /opt/tljh/user/bin/python3 -\n",
      "jupyter+  437188  437175  0 12:48 pts/24   00:00:00 /usr/bin/bash --rcfile /opt/\n",
      "jupyter+  437198  436943  0 12:48 ?        00:00:00 /opt/tljh/user/bin/python3 -\n",
      "jupyter+  437213  437198  0 12:48 pts/25   00:00:00 /usr/bin/bash --rcfile /opt/\n",
      "jupyter+  437296  436943  0 12:49 pts/26   00:00:00 /bin/bash -l\n",
      "root      437495       2  0 12:51 ?        00:00:00 [kworker/u8:1-events_power_e\n",
      "root      439253       2  0 13:11 ?        00:00:00 [kworker/1:0]\n",
      "jupyter+  440014       1  1 13:19 ?        00:00:23 /opt/tljh/user/bin/python /o\n",
      "jupyter+  440040  440014  0 13:19 ?        00:00:01 /opt/tljh/user/bin/python3 -\n",
      "jupyter+  440043  440014  0 13:19 ?        00:00:00 /opt/tljh/user/bin/python3 -\n",
      "jupyter+  440060  440040  0 13:19 pts/28   00:00:00 /usr/bin/bash --rcfile /opt/\n",
      "jupyter+  440078  440043  0 13:19 pts/29   00:00:00 /usr/bin/bash --rcfile /opt/\n",
      "root      440977       2  0 13:31 ?        00:00:00 [kworker/0:1-events]\n",
      "jupyter+  441073       1  1 13:34 ?        00:00:06 /opt/tljh/user/bin/python /o\n",
      "root      441082       2  0 13:34 ?        00:00:00 [kworker/2:0-cgroup_destroy]\n",
      "jupyter+  441094  441073  0 13:34 pts/13   00:00:00 /bin/bash -l\n",
      "jupyter+  441119  441073  0 13:34 ?        00:00:00 /opt/tljh/user/bin/python3 -\n",
      "jupyter+  441122  441073  0 13:34 ?        00:00:00 /opt/tljh/user/bin/python3 -\n",
      "jupyter+  441129  441073  0 13:34 ?        00:00:00 /opt/tljh/user/bin/python3 -\n",
      "jupyter+  441150  441122  0 13:34 pts/14   00:00:00 /usr/bin/bash --rcfile /opt/\n",
      "jupyter+  441151  441119  0 13:34 pts/15   00:00:00 /usr/bin/bash --rcfile /opt/\n",
      "jupyter+  441176  441129  0 13:34 pts/17   00:00:00 /usr/bin/bash --rcfile /opt/\n",
      "root      441231       2  0 13:35 ?        00:00:00 [kworker/u8:2-events_unbound\n",
      "root      441232       2  0 13:35 ?        00:00:00 [kworker/3:2]\n",
      "jupyter+  441239       1  1 13:35 ?        00:00:05 /opt/tljh/user/bin/python /o\n",
      "jupyter+  441268  441239  0 13:35 ?        00:00:00 /opt/tljh/user/bin/python3 -\n",
      "jupyter+  441271  441239  0 13:35 ?        00:00:00 /opt/tljh/user/bin/python3 -\n",
      "jupyter+  441272  441239  0 13:35 ?        00:00:00 /opt/tljh/user/bin/python3 -\n",
      "jupyter+  441273  441239  0 13:35 ?        00:00:00 /opt/tljh/user/bin/python3 -\n",
      "jupyter+  441286  441268  0 13:35 pts/3    00:00:00 /usr/bin/bash --rcfile /opt/\n",
      "jupyter+  441304  441271  0 13:35 pts/4    00:00:00 /usr/bin/bash --rcfile /opt/\n",
      "jupyter+  441325  441272  0 13:35 pts/5    00:00:00 /usr/bin/bash --rcfile /opt/\n",
      "jupyter+  441333  441273  0 13:35 pts/6    00:00:00 /usr/bin/bash --rcfile /opt/\n",
      "jupyter+  441392       1  2 13:36 ?        00:00:06 /opt/tljh/user/bin/python /o\n",
      "jupyter+  441422  441392  0 13:36 ?        00:00:00 /opt/tljh/user/bin/python3 -\n",
      "jupyter+  441437  441422  0 13:36 pts/8    00:00:00 /usr/bin/bash --rcfile /opt/\n",
      "jupyter+  441668  441437  0 13:41 pts/8    00:00:00 ps -Af\n"
     ]
    }
   ],
   "source": [
    "ps -Af"
   ]
  },
  {
   "attachments": {},
   "cell_type": "markdown",
   "id": "4f9ed984",
   "metadata": {},
   "source": [
    "- Localiza tres procesos cuyo propietario sea nuestro usuario, y otros tres cuyo propietario sea el superusuario (root). Pega la línea completa mostrada para cada proceso.\n",
    "\n",
    "RESPUESTA:\n",
    "**jupyter+  420848  420802  0 00:58 pts/2    00:00:00 /usr/bin/bash --rcfile /opt/**\n"
   ]
  },
  {
   "cell_type": "markdown",
   "id": "215cf22a-def2-4211-b64c-1dfe4a5c470a",
   "metadata": {},
   "source": [
    "**jupyter+  420873  420797  0 00:58 pts/3    00:00:00 /usr/bin/bash --rcfile /opt/**\n",
    "\n"
   ]
  },
  {
   "cell_type": "markdown",
   "id": "a0bb6475-f974-4653-b37f-38c8c92298fc",
   "metadata": {},
   "source": [
    "**jupyter+  420891  420803  0 00:58 pts/4    00:00:00 /usr/bin/bash --rcfile /opt/**"
   ]
  },
  {
   "cell_type": "markdown",
   "id": "50897f10",
   "metadata": {},
   "source": [
    "- Localiza el proceso que ha consumido más tiempo de CPU. Pega la línea completa mostrada.\n",
    "\n",
    "RESPUESTA: **root           1       0  0 nov14 ?        00:03:25 /sbin/init**\n",
    "\n"
   ]
  },
  {
   "cell_type": "markdown",
   "id": "52e16c59",
   "metadata": {},
   "source": [
    "- Localiza también el último que se lanzó, mirando las horas de inicio. Pega la línea completa mostrada.\n",
    "\n",
    "RESPUESTA: **jupyter+  421151  420848  0 01:24 pts/2    00:00:00 ps -Af**\n",
    "\n"
   ]
  },
  {
   "cell_type": "markdown",
   "id": "78d785a5",
   "metadata": {},
   "source": [
    "- Lanza desde la interfaz de usuario el navegador firefox, y navega hasta la página `www.google.es`, mientras observas mediante `top` la evolución dinámica del consumo de memoria y CPU de los procesos involucrados.  Puedes dividir la pantalla entre ambas ventanas, terminal y navegador, para observar la salida de top mientras navegas. Luego, prueba a navegar a la página `www.youtube.com`. ¿En cuál de las dos páginas se hace más uso de la CPU?\n",
    "\n",
    "RESPUESTA: el consumo de la memoria y de la CPU aumentan navegar en las paginas involucradas , la página que se hace más uso de la CPU  es la de youtube.com que usa 70 % de la CPU , la de Google.es uso solamente 30%\n",
    "\n"
   ]
  },
  {
   "cell_type": "markdown",
   "id": "03a93d11",
   "metadata": {},
   "source": [
    "### Redireccionamiento de la entrada/salida de un proceso"
   ]
  },
  {
   "cell_type": "code",
   "execution_count": 10,
   "id": "493203c3-ee8c-47fb-ac18-6446131d97e3",
   "metadata": {},
   "outputs": [
    {
     "name": "stdout",
     "output_type": "stream",
     "text": [
      "/usr/bin/ld  /usr/bin/ln  /usr/bin/ls\n"
     ]
    }
   ],
   "source": [
    "# Lista todos los ficheros en `/usr/bin/` cuyo nombre empiece por 'l'\n",
    "# y tenga exactamente dos caracteres\n",
    "ls /usr/bin/l?"
   ]
  },
  {
   "cell_type": "code",
   "execution_count": 11,
   "id": "703757b1-f7ea-451e-9683-a4613d702c3c",
   "metadata": {},
   "outputs": [
    {
     "name": "stdout",
     "output_type": "stream",
     "text": [
      "ls: no se puede acceder a 'progs-l.txt': No existe el archivo o el directorio\n"
     ]
    },
    {
     "ename": "",
     "evalue": "2",
     "output_type": "error",
     "traceback": []
    }
   ],
   "source": [
    "# Repite el comando anterior, redireccionando la salida a un fichero llamado progs-l.txt\n",
    "ls /usr/bin/l? > llamado progs-l.txt"
   ]
  },
  {
   "cell_type": "code",
   "execution_count": 12,
   "id": "9c8b8a14-e560-4fa0-8824-3fc172cd2b1e",
   "metadata": {},
   "outputs": [
    {
     "name": "stdout",
     "output_type": "stream",
     "text": [
      "/usr/bin/ld\n",
      "/usr/bin/ln\n",
      "/usr/bin/ls\n",
      "cat: progs-l.txt: No existe el archivo o el directorio\n"
     ]
    },
    {
     "ename": "",
     "evalue": "1",
     "output_type": "error",
     "traceback": []
    }
   ],
   "source": [
    "# Muestra el contenido del fichero progs-l.txt\n",
    "cat llamado progs-l.txt"
   ]
  },
  {
   "cell_type": "code",
   "execution_count": 13,
   "id": "6ed0e4e5-80f7-40eb-80b8-bcc2be9e5f92",
   "metadata": {},
   "outputs": [],
   "source": [
    "# Añade al final de dicho fichero un mensaje que diga \"FIN DEL LISTADO\", usando `echo` y la redirección\n",
    "echo \"FIN DEL LISTADO\" >> llamado progs-l.txt #para añadir sin reemplazar"
   ]
  },
  {
   "cell_type": "code",
   "execution_count": 14,
   "id": "a0a027d5-64d8-46e9-a0f5-31770ab674c0",
   "metadata": {},
   "outputs": [
    {
     "name": "stdout",
     "output_type": "stream",
     "text": [
      "/usr/bin/ld\n",
      "/usr/bin/ln\n",
      "/usr/bin/ls\n",
      "FIN DEL LISTADO progs-l.txt\n",
      "cat: progs-l.txt: No existe el archivo o el directorio\n"
     ]
    },
    {
     "ename": "",
     "evalue": "1",
     "output_type": "error",
     "traceback": []
    }
   ],
   "source": [
    "# Muestra de nuevo el contenido del fichero\n",
    "cat llamado progs-l.txt"
   ]
  },
  {
   "cell_type": "code",
   "execution_count": 15,
   "id": "40297afb-a388-492e-a377-bb69951a011a",
   "metadata": {},
   "outputs": [
    {
     "name": "stdout",
     "output_type": "stream",
     "text": [
      "adduser.conf                   iproute2                protocols\n",
      "alternatives                   iscsi                   python3\n",
      "apache2                        issue                   python3.10\n",
      "apparmor                       issue.net               quotagrpadmins\n",
      "apparmor.d                     kernel                  quotatab\n",
      "apport                         kernel-img.conf         rc0.d\n",
      "apt                            landscape               rc1.d\n",
      "bash.bashrc                    ldap                    rc2.d\n",
      "bash_completion                ld.so.cache             rc3.d\n",
      "bash_completion.d              ld.so.conf              rc4.d\n",
      "bindresvport.blacklist         ld.so.conf.d            rc5.d\n",
      "binfmt.d                       legal                   rc6.d\n",
      "boto.cfg                       libaudit.conf           rcS.d\n",
      "byobu                          libblockdev             resolv.conf\n",
      "ca-certificates                libnl-3                 rmt\n",
      "ca-certificates.conf           lighttpd                rpc\n",
      "ca-certificates.conf.dpkg-old  locale.alias            rsyslog.conf\n",
      "chrony                         locale.gen              rsyslog.d\n",
      "cloud                          localtime               screenrc\n",
      "console-setup                  logcheck                security\n",
      "cron.d                         login.defs              selinux\n",
      "cron.daily                     logrotate.conf          sensors3.conf\n",
      "cron.hourly                    logrotate.d             sensors.d\n",
      "cron.monthly                   lsb-release             services\n",
      "crontab                        lvm                     shadow\n",
      "cron.weekly                    machine-id              shadow-\n",
      "cryptsetup-initramfs           magic                   shells\n",
      "crypttab                       magic.mime              skel\n",
      "dbus-1                         manpath.config          sos\n",
      "dconf                          mdadm                   ssh\n",
      "debconf.conf                   mime.types              ssl\n",
      "debian_version                 mke2fs.conf             subgid\n",
      "default                        modprobe.d              subgid-\n",
      "deluser.conf                   modules                 subuid\n",
      "depmod.d                       modules-load.d          subuid-\n",
      "dhcp                           mtab                    sudo.conf\n",
      "dictionaries-common            multipath               sudoers\n",
      "dpkg                           multipath.conf          sudoers.d\n",
      "e2scrub.conf                   nanorc                  sudo_logsrvd.conf\n",
      "ec2_version                    needrestart             sysctl.conf\n",
      "emacs                          netconfig               sysctl.d\n",
      "environment                    netplan                 systemd\n",
      "environment.d                  network                 terminfo\n",
      "ethertypes                     networkd-dispatcher     thermald\n",
      "fonts                          networks                timezone\n",
      "fstab                          newt                    tmpfiles.d\n",
      "fuse.conf                      nftables.conf           ubuntu-advantage\n",
      "gai.conf                       nsswitch.conf           ucf.conf\n",
      "google_instance_id             nvme                    udev\n",
      "groff                          opt                     ufw\n",
      "group                          oslogin_passwd.cache    update-manager\n",
      "group-                         os-release              update-motd.d\n",
      "grub.d                         overlayroot.conf        update-notifier\n",
      "gshadow                        overlayroot.local.conf  UPower\n",
      "gshadow-                       PackageKit              usb_modeswitch.conf\n",
      "gss                            pam.conf                usb_modeswitch.d\n",
      "gtk-3.0                        pam.d                   vim\n",
      "hdparm.conf                    passwd                  vmware-tools\n",
      "host.conf                      passwd-                 vtrgb\n",
      "hostname                       perl                    warnquota.conf\n",
      "hosts                          pm                      wgetrc\n",
      "hosts.allow                    polkit-1                X11\n",
      "hosts.deny                     pollinate               xattr.conf\n",
      "init.d                         ppp                     xdg\n",
      "initramfs-tools                profile                 zsh_command_not_found\n",
      "inputrc                        profile.d\n"
     ]
    }
   ],
   "source": [
    "# Utilizando el comando ls con la opción adecuada y la redirección de la salida estándar/de error,\n",
    "# averigua sobre qué subdirectorios de /etc no tienes permisos de acceso. PISTA: usa /dev/null\n",
    "# para descartar la salida que no te interese.\n",
    "ls /etc"
   ]
  },
  {
   "cell_type": "code",
   "execution_count": 16,
   "id": "ff133717-ed86-48c9-9f50-b0ba0f50c4e6",
   "metadata": {},
   "outputs": [
    {
     "name": "stdout",
     "output_type": "stream",
     "text": [
      "[1] 441677\n",
      "mkdir: no se puede crear el directorio «dir2»mkdir: no se puede crear el directorio «dir1»: El archivo ya existe\n",
      ": El archivo ya existe\n",
      "[1]+  Salida 1                mkdir dir1\n"
     ]
    },
    {
     "ename": "",
     "evalue": "1",
     "output_type": "error",
     "traceback": []
    }
   ],
   "source": [
    "# Crea dos directorios, llamados dir1 y dir2\n",
    "mkdir dir1 & mkdir dir2"
   ]
  },
  {
   "cell_type": "code",
   "execution_count": 2,
   "id": "f6a3bf71-93ad-4b5c-8dde-5042844e4349",
   "metadata": {},
   "outputs": [
    {
     "name": "stdout",
     "output_type": "stream",
     "text": [
      "total 1764\n",
      "drwxr-xr-x 2 jupyter-62hIMkkIBu jupyter-62hIMkkIBu   4096 dic  4 13:41 bin\n",
      "drwxr-xr-x 3 jupyter-62hIMkkIBu jupyter-62hIMkkIBu   4096 dic  4 02:46 dir1\n",
      "d--------- 2 jupyter-62hIMkkIBu jupyter-62hIMkkIBu   4096 dic  4 02:17 dir2\n",
      "-rw-r--r-- 1 jupyter-62hIMkkIBu jupyter-62hIMkkIBu     61 dic  4 13:41 errores_ls\n",
      "-rw-r--r-- 1 jupyter-62hIMkkIBu jupyter-62hIMkkIBu   5087 nov 28 13:46 fiche\n",
      "-rw-r--r-- 1 jupyter-62hIMkkIBu jupyter-62hIMkkIBu    103 nov 28 13:16 frutas\n",
      "-rw-r--r-- 1 jupyter-62hIMkkIBu jupyter-62hIMkkIBu     64 dic  4 13:41 llamado\n",
      "drwxr-xr-x 9 jupyter-62hIMkkIBu jupyter-62hIMkkIBu   4096 nov 28 12:59 nano\n",
      "-rw-r--r-- 1 jupyter-62hIMkkIBu jupyter-62hIMkkIBu  94438 nov 27 22:37 practica7a-procesos-boletin.ipynb\n",
      "-rw-r--r-- 1 jupyter-62hIMkkIBu jupyter-62hIMkkIBu  73514 dic  4 14:13 practica7a-procesos-ejercicios.ipynb\n",
      "-rw-r--r-- 1 jupyter-62hIMkkIBu jupyter-62hIMkkIBu 538862 nov 28 13:50 practica7b-tuberias-boletin.ipynb\n",
      "-rw-r--r-- 1 jupyter-62hIMkkIBu jupyter-62hIMkkIBu 133990 dic  5 13:44 practica7b-tuberias-ejercicios.ipynb\n",
      "-rw-r--r-- 1 jupyter-62hIMkkIBu jupyter-62hIMkkIBu     10 dic  4 13:41 salida_ls\n",
      "-rw-r--r-- 1 jupyter-62hIMkkIBu jupyter-62hIMkkIBu      0 dic  4 20:30 source_code.csv\n",
      "-rw-r--r-- 1 jupyter-62hIMkkIBu jupyter-62hIMkkIBu      0 dic  4 22:58 source_code_developers.csv\n",
      "-rw-r--r-- 1 jupyter-62hIMkkIBu jupyter-62hIMkkIBu 785552 nov 28 13:38 stubborn\n",
      "-rw-r--r-- 1 jupyter-62hIMkkIBu jupyter-62hIMkkIBu  61548 nov 28 13:48 train_age30.csv\n",
      "-rw-r--r-- 1 jupyter-62hIMkkIBu jupyter-62hIMkkIBu  61194 nov 28 13:38 train.csv\n",
      "-rwxr-xr-x 1 jupyter-62hIMkkIBu jupyter-62hIMkkIBu    247 dic  4 13:41 variables.sh\n"
     ]
    }
   ],
   "source": [
    "ls -l"
   ]
  },
  {
   "cell_type": "code",
   "execution_count": 17,
   "id": "1d30d81f",
   "metadata": {},
   "outputs": [
    {
     "name": "stdout",
     "output_type": "stream",
     "text": [
      "cp: no se puede efectuar `stat' sobre 'dir2/stubborn': Permiso denegado\n"
     ]
    },
    {
     "ename": "",
     "evalue": "1",
     "output_type": "error",
     "traceback": []
    }
   ],
   "source": [
    "# Copia el fichero stubborn a dir2\n",
    "cp stubborn dir2"
   ]
  },
  {
   "cell_type": "code",
   "execution_count": 18,
   "id": "a5bd6473",
   "metadata": {},
   "outputs": [],
   "source": [
    "# Copia el fichero stubborn a dir2\n"
   ]
  },
  {
   "cell_type": "code",
   "execution_count": 19,
   "id": "32c7c204",
   "metadata": {},
   "outputs": [
    {
     "name": "stdout",
     "output_type": "stream",
     "text": [
      "dir1:\n",
      "bin\n",
      "ls: no se puede abrir el directorio 'dir2': Permiso denegado\n"
     ]
    },
    {
     "ename": "",
     "evalue": "2",
     "output_type": "error",
     "traceback": []
    }
   ],
   "source": [
    "# Listar el contenido de dir1 y dir2 en un mismo comando\n",
    "ls dir1  dir2"
   ]
  },
  {
   "cell_type": "code",
   "execution_count": 20,
   "id": "7a95b75c",
   "metadata": {},
   "outputs": [],
   "source": [
    "# Cambia los permisos a dir2 para que nadie tenga acceso\n",
    "chmod 000 dir2"
   ]
  },
  {
   "cell_type": "code",
   "execution_count": 21,
   "id": "0f4b1d2c-f73b-4a04-804e-4ccd0c406fad",
   "metadata": {},
   "outputs": [
    {
     "name": "stdout",
     "output_type": "stream",
     "text": [
      "dir1:\n",
      "bin\n",
      "ls: no se puede abrir el directorio 'dir2': Permiso denegado\n"
     ]
    },
    {
     "ename": "",
     "evalue": "2",
     "output_type": "error",
     "traceback": []
    }
   ],
   "source": [
    "# Listar el contenido de dir1 y dir2 en un mismo comando\n",
    "ls dir1  dir2"
   ]
  },
  {
   "cell_type": "code",
   "execution_count": 22,
   "id": "5e379716-ef05-4bcd-a1a9-1f0bcc1d0e54",
   "metadata": {},
   "outputs": [
    {
     "name": "stdout",
     "output_type": "stream",
     "text": [
      "dir1:\n",
      "bin\n",
      "ls: no se puede abrir el directorio 'dir2': Permiso denegado\n"
     ]
    },
    {
     "ename": "",
     "evalue": "2",
     "output_type": "error",
     "traceback": []
    }
   ],
   "source": [
    "# Utilizando la redirección de la salida estándar/de error, lista\n",
    "# los directorios dir1 y dir2, de forma que los mensajes de error\n",
    "# vayan al fichero \"errores_ls\" y el resto al fichero \"salida_ls\"\n",
    "ls dir1  dir2 2> errores_ls\n",
    "ls dir1 dir2 >salida_ls"
   ]
  },
  {
   "cell_type": "code",
   "execution_count": null,
   "id": "16589667",
   "metadata": {},
   "outputs": [],
   "source": [
    "# Muestra el contenido del fichero errores_ls\n",
    "cat errores_ls"
   ]
  },
  {
   "cell_type": "code",
   "execution_count": 23,
   "id": "261081b3",
   "metadata": {},
   "outputs": [
    {
     "name": "stdout",
     "output_type": "stream",
     "text": [
      "dir1:\n",
      "bin\n"
     ]
    }
   ],
   "source": [
    "# Muestra el contenido del fichero salida_ls\n",
    "cat salida_ls"
   ]
  },
  {
   "cell_type": "markdown",
   "id": "c1efbfd5",
   "metadata": {},
   "source": [
    "### Variables de entorno. Concepto de PATH"
   ]
  },
  {
   "cell_type": "markdown",
   "id": "72304564-f2f3-4c4e-a666-4a403d74bf79",
   "metadata": {},
   "source": [
    "- La variable de entorno `LANG` define, junto con otras, la configuración regional y el idioma del shell. Empieza mostrando su valor actual con `echo`."
   ]
  },
  {
   "cell_type": "code",
   "execution_count": 24,
   "id": "67952124-9f6c-41ea-be99-6ee6381d51d4",
   "metadata": {},
   "outputs": [
    {
     "name": "stdout",
     "output_type": "stream",
     "text": [
      "es_ES.UTF-8\n"
     ]
    }
   ],
   "source": [
    "echo $LANG"
   ]
  },
  {
   "cell_type": "markdown",
   "id": "c2dff926",
   "metadata": {},
   "source": [
    " - Ejecuta el comando `ls` pasándole una ruta inexistente para generar un mensaje de error (coméntalo tras generarlo)."
   ]
  },
  {
   "cell_type": "code",
   "execution_count": 25,
   "id": "daacce0d",
   "metadata": {},
   "outputs": [
    {
     "name": "stdout",
     "output_type": "stream",
     "text": [
      "ls: no se puede acceder a 'com': No existe el archivo o el directorio\n"
     ]
    },
    {
     "ename": "",
     "evalue": "2",
     "output_type": "error",
     "traceback": []
    }
   ],
   "source": [
    "ls com"
   ]
  },
  {
   "cell_type": "markdown",
   "id": "151420ba-8ec3-40c0-819b-1e6f261a250b",
   "metadata": {},
   "source": [
    "-  Ahora, cambia el valor de la variable `LANG` por \"xyz\" (da igual el valor)  y seguidamente muestra su valor con `echo`."
   ]
  },
  {
   "cell_type": "code",
   "execution_count": 26,
   "id": "c31de968-48c9-4eea-9043-e8fb32016766",
   "metadata": {},
   "outputs": [
    {
     "name": "stdout",
     "output_type": "stream",
     "text": [
      "xyz\n"
     ]
    }
   ],
   "source": [
    " LANG=\"xyz\"\n",
    "echo $LANG"
   ]
  },
  {
   "cell_type": "markdown",
   "id": "304824c2",
   "metadata": {},
   "source": [
    " - Vuelve a ejecutar el comando `ls` pasándole una ruta inexistente para generar un mensaje de error (coméntalo # de nuevo)."
   ]
  },
  {
   "cell_type": "code",
   "execution_count": 27,
   "id": "2f9e48ce",
   "metadata": {},
   "outputs": [
    {
     "name": "stdout",
     "output_type": "stream",
     "text": [
      "ls: cannot access 'comp': No such file or directory\n"
     ]
    },
    {
     "ename": "",
     "evalue": "2",
     "output_type": "error",
     "traceback": []
    }
   ],
   "source": [
    "ls comp"
   ]
  },
  {
   "cell_type": "markdown",
   "id": "6451158c-38ca-4525-9957-2275b6216482",
   "metadata": {},
   "source": [
    "PREGUNTA:  ¿En qué se diferencia el resultado de ejecutar el comando con un valor u otro de `$LANG`? ¿Cuál es el idioma por defecto del shell cuando $LANG no tiene un valor?\n",
    "\n",
    "RESPUESTA: al ejecutar el comando con diferentes valores de `$LANG` , se resuelta el mismo mensaje pero con idiomas diferentes, cuando el `LANG` no tiene yn valor el idioma por defecto es el inglés \n",
    "\n"
   ]
  },
  {
   "cell_type": "markdown",
   "id": "18eaeb06",
   "metadata": {},
   "source": [
    "- Vuelve a establecer el valor de `LANG` a su valor original (\"es_ES.UTF-8\") y seguidamente muestra su valor con `echo` (en una misma línea)."
   ]
  },
  {
   "cell_type": "code",
   "execution_count": 28,
   "id": "6843238f",
   "metadata": {},
   "outputs": [
    {
     "name": "stdout",
     "output_type": "stream",
     "text": [
      "xyz\n"
     ]
    }
   ],
   "source": [
    "export LANG=\"es_ES.UTF-8\" | echo $LANG\n",
    "  "
   ]
  },
  {
   "cell_type": "code",
   "execution_count": 29,
   "id": "9f45e0a9-3640-4c69-8ffd-e269406dd52d",
   "metadata": {},
   "outputs": [
    {
     "name": "stdout",
     "output_type": "stream",
     "text": [
      "[1] 441701\n",
      "mkdir: cannot create directory 'bin': File exists\n",
      "[1]+  Hecho                   cd ~\n"
     ]
    },
    {
     "ename": "",
     "evalue": "1",
     "output_type": "error",
     "traceback": []
    }
   ],
   "source": [
    "# Crea un subdirectorio llamado bin en tu directorio de inicio de usuario (si no existe ya)\n",
    "cd ~ & mkdir bin"
   ]
  },
  {
   "cell_type": "code",
   "execution_count": 30,
   "id": "a2e67231-cd7c-493b-8de8-ecdfedda284c",
   "metadata": {},
   "outputs": [],
   "source": [
    "# Copia al directorio creado anteriormente el fichero /usr/bin/ls, con el nombre myls\n",
    "cp /usr/bin/ls bin/myls"
   ]
  },
  {
   "cell_type": "code",
   "execution_count": 31,
   "id": "aac39f6c-58ba-42d7-955b-8093c05655a9",
   "metadata": {},
   "outputs": [
    {
     "name": "stdout",
     "output_type": "stream",
     "text": [
      "total 1656\n",
      "drwxr-xr-x 2 jupyter-62hIMkkIBu jupyter-62hIMkkIBu   4096 Dec  4 13:41 bin\n",
      "drwxr-xr-x 3 jupyter-62hIMkkIBu jupyter-62hIMkkIBu   4096 Dec  4 02:46 dir1\n",
      "d--------- 2 jupyter-62hIMkkIBu jupyter-62hIMkkIBu   4096 Dec  4 02:17 dir2\n",
      "-rw-r--r-- 1 jupyter-62hIMkkIBu jupyter-62hIMkkIBu     61 Dec  4 13:41 errores_ls\n",
      "-rw-r--r-- 1 jupyter-62hIMkkIBu jupyter-62hIMkkIBu   5087 Nov 28 13:46 fiche\n",
      "-rw-r--r-- 1 jupyter-62hIMkkIBu jupyter-62hIMkkIBu    103 Nov 28 13:16 frutas\n",
      "-rw-r--r-- 1 jupyter-62hIMkkIBu jupyter-62hIMkkIBu     64 Dec  4 13:41 llamado\n",
      "drwxr-xr-x 9 jupyter-62hIMkkIBu jupyter-62hIMkkIBu   4096 Nov 28 12:59 nano\n",
      "-rw-r--r-- 1 jupyter-62hIMkkIBu jupyter-62hIMkkIBu  94438 Nov 27 22:37 practica7a-procesos-boletin.ipynb\n",
      "-rw-r--r-- 1 jupyter-62hIMkkIBu jupyter-62hIMkkIBu  68132 Dec  4 13:38 practica7a-procesos-ejercicios.ipynb\n",
      "-rw-r--r-- 1 jupyter-62hIMkkIBu jupyter-62hIMkkIBu 538862 Nov 28 13:50 practica7b-tuberias-boletin.ipynb\n",
      "-rw-r--r-- 1 jupyter-62hIMkkIBu jupyter-62hIMkkIBu  28295 Nov 28 12:48 practica7b-tuberias-ejercicios.ipynb\n",
      "-rw-r--r-- 1 jupyter-62hIMkkIBu jupyter-62hIMkkIBu     10 Dec  4 13:41 salida_ls\n",
      "-rw-r--r-- 1 jupyter-62hIMkkIBu jupyter-62hIMkkIBu 785552 Nov 28 13:38 stubborn\n",
      "-rw-r--r-- 1 jupyter-62hIMkkIBu jupyter-62hIMkkIBu  61194 Nov 28 13:38 train.csv\n",
      "-rw-r--r-- 1 jupyter-62hIMkkIBu jupyter-62hIMkkIBu  61548 Nov 28 13:48 train_age30.csv\n",
      "-rwxr-xr-x 1 jupyter-62hIMkkIBu jupyter-62hIMkkIBu     80 Dec  4 13:22 variables.sh\n"
     ]
    }
   ],
   "source": [
    "# Sin cambiarte de directorio, ejecuta mediante una ruta absoluta el programa `myls` con la opción '-l':\n",
    "~/bin/myls -l"
   ]
  },
  {
   "cell_type": "code",
   "execution_count": 32,
   "id": "aa3f01d3-c67f-428d-b9d2-83fb7d23815f",
   "metadata": {},
   "outputs": [
    {
     "name": "stdout",
     "output_type": "stream",
     "text": [
      "/home/jupyter-62hIMkkIBu/bin/:/opt/tljh/user/bin:/opt/tljh/hub/bin:/usr/local/bin:/usr/sbin:/usr/bin:/sbin:/bin\n"
     ]
    }
   ],
   "source": [
    "# Modifica el valor de `PATH` para añadir el subdirectorio \"bin\" creado anteriormente:\n",
    "\n",
    "export PATH=\"$HOME/bin/:$PATH\"\n",
    "echo $PATH"
   ]
  },
  {
   "cell_type": "markdown",
   "id": "f982e2e0",
   "metadata": {},
   "source": [
    "Finalmente, prueba a ejecutar `myls` sin necesidad de indicar su ruta exacta."
   ]
  },
  {
   "cell_type": "code",
   "execution_count": 33,
   "id": "24cdea31-6b40-4da3-8d86-4d524c1c5b3a",
   "metadata": {},
   "outputs": [
    {
     "name": "stdout",
     "output_type": "stream",
     "text": [
      "bin\t    llamado\t\t\t\t  salida_ls\n",
      "dir1\t    nano\t\t\t\t  stubborn\n",
      "dir2\t    practica7a-procesos-boletin.ipynb\t  train.csv\n",
      "errores_ls  practica7a-procesos-ejercicios.ipynb  train_age30.csv\n",
      "fiche\t    practica7b-tuberias-boletin.ipynb\t  variables.sh\n",
      "frutas\t    practica7b-tuberias-ejercicios.ipynb\n"
     ]
    }
   ],
   "source": [
    "myls "
   ]
  },
  {
   "cell_type": "markdown",
   "id": "680d517a",
   "metadata": {},
   "source": [
    "### Variables del shell actual y variables de entorno"
   ]
  },
  {
   "cell_type": "markdown",
   "id": "2002571b",
   "metadata": {},
   "source": [
    "- Muestra el valor de la variable de entorno `USER`"
   ]
  },
  {
   "cell_type": "code",
   "execution_count": 34,
   "id": "5a68a861",
   "metadata": {},
   "outputs": [
    {
     "name": "stdout",
     "output_type": "stream",
     "text": [
      "jupyter-62hIMkkIBu\n"
     ]
    }
   ],
   "source": [
    "echo $USER"
   ]
  },
  {
   "cell_type": "code",
   "execution_count": 35,
   "id": "35e6c833",
   "metadata": {},
   "outputs": [],
   "source": [
    "# Define una nueva variable llamada \"PRUEBA\" con valor \"hola\"\n",
    "PRUEBA=\"hola\""
   ]
  },
  {
   "cell_type": "code",
   "execution_count": 36,
   "id": "1f6ebcd4",
   "metadata": {},
   "outputs": [
    {
     "name": "stdout",
     "output_type": "stream",
     "text": [
      "hola\n"
     ]
    }
   ],
   "source": [
    "# Muestra el valor de la variable PRUEBA en el shell actual\n",
    "echo $PRUEBA"
   ]
  },
  {
   "cell_type": "code",
   "execution_count": 37,
   "id": "26cdfe26",
   "metadata": {},
   "outputs": [],
   "source": [
    "# Ejecuta esta celda para crear un shell script llamado \"variables.sh\"\n",
    "echo '#!/bin/bash' > variables.sh\n",
    "echo 'echo \"**Inicio del script**\"' >> variables.sh\n",
    "echo 'echo \"La variable PRUEBA vale $PRUEBA\"' >> variables.sh\n",
    "echo 'MYVAR=\"hello world!\"' >> variables.sh\n",
    "echo 'echo \"La variable MYVAR vale $MYVAR\"' >> variables.sh\n",
    "echo 'echo \"La variable USER vale $USER\"' >> variables.sh\n",
    "echo 'echo \"La variable ANOTHERVAR vale $ANOTHERVAR \"' >> variables.sh\n",
    "echo 'echo \"**Fin del script**\"' >> variables.sh"
   ]
  },
  {
   "cell_type": "code",
   "execution_count": 38,
   "id": "3a052d3f",
   "metadata": {},
   "outputs": [
    {
     "name": "stdout",
     "output_type": "stream",
     "text": [
      "#!/bin/bash\n",
      "echo \"**Inicio del script**\"\n",
      "echo \"La variable PRUEBA vale $PRUEBA\"\n",
      "MYVAR=\"hello world!\"\n",
      "echo \"La variable MYVAR vale $MYVAR\"\n",
      "echo \"La variable USER vale $USER\"\n",
      "echo \"La variable ANOTHERVAR vale $ANOTHERVAR \"\n",
      "echo \"**Fin del script**\"\n"
     ]
    }
   ],
   "source": [
    "# Muestra el contenido del script \"variables.sh\"\n",
    "cat variables.sh"
   ]
  },
  {
   "cell_type": "code",
   "execution_count": 39,
   "id": "f997ea2b",
   "metadata": {},
   "outputs": [],
   "source": [
    "# Establece permisos de ejecución para el fichero creado\n",
    "chmod +x variables.sh\n"
   ]
  },
  {
   "cell_type": "code",
   "execution_count": 43,
   "id": "b9661d9e",
   "metadata": {},
   "outputs": [
    {
     "name": "stdout",
     "output_type": "stream",
     "text": [
      "**Inicio del script**\n",
      "La variable PRUEBA vale \n",
      "La variable MYVAR vale hello world!\n",
      "La variable USER vale jupyter-62hIMkkIBu\n",
      "La variable ANOTHERVAR vale  \n",
      "**Fin del script**\n"
     ]
    }
   ],
   "source": [
    "# Ejecuta el script \"variables.sh\"\n",
    "./variables.sh\n"
   ]
  },
  {
   "cell_type": "code",
   "execution_count": 41,
   "id": "880b144a-0cb7-42b7-834f-353cf5415397",
   "metadata": {},
   "outputs": [
    {
     "name": "stdout",
     "output_type": "stream",
     "text": [
      "\n"
     ]
    }
   ],
   "source": [
    "echo $ANOTHERVAR"
   ]
  },
  {
   "cell_type": "markdown",
   "id": "2a227bcb",
   "metadata": {},
   "source": [
    "PREGUNTA: ¿Se produce algún error en el shell cuando tratas de mostrar el valor de una variable a la que no has asignado valor previamente (ANOTHERVAR)?\n",
    "\n",
    "RESPUESTA: No se produce un error sino que imprime nada porque el valor no es asignado\n",
    "\n"
   ]
  },
  {
   "cell_type": "markdown",
   "id": "0065e35b",
   "metadata": {},
   "source": [
    "PREGUNTA: ¿Por qué no se imprime el valor de `PRUEBA`?\n",
    "\n",
    "RESPUESTA: en esa linea ('echo La variable PRUEBA vale `$ PRUEBA\"' >> variables.sh` se incrementa el script de \"variables.sh\" una cadena de texto echo 'echo \"La variable PRUEBA vale $PRUEBA\"' >> variables.sh`\n",
    "por lo tanto no se imprimira el valor de PRUEBA sin indicar la fuente variables.sh donde se ubica su valor\n",
    "\n",
    "\n"
   ]
  },
  {
   "cell_type": "code",
   "execution_count": 55,
   "id": "d6341193",
   "metadata": {},
   "outputs": [
    {
     "name": "stdout",
     "output_type": "stream",
     "text": [
      "\n"
     ]
    }
   ],
   "source": [
    "# Imprime el valor de la variable MYVAR en el shell actual\n",
    "echo $MYVAR"
   ]
  },
  {
   "cell_type": "markdown",
   "id": "128626f8",
   "metadata": {},
   "source": [
    "PREGUNTA: ¿Por qué no aparece \"hello world\" como valor de \"MYVAR\" en el shell actual, tras ejecutar `variables.sh`?\n",
    "\n",
    "RESPUESTA: no se imprimira el valor de MYVAR sin indicar la fuente variables.sh donde se ubica su valor ,porque el shell actual no existe un valor para la variable MYVAR\n",
    "\n",
    "\n"
   ]
  },
  {
   "cell_type": "code",
   "execution_count": 58,
   "id": "17e728cd-b4b6-44c1-8f3d-47e4150f9d42",
   "metadata": {},
   "outputs": [
    {
     "name": "stdout",
     "output_type": "stream",
     "text": [
      "**Inicio del script**\n",
      "La variable PRUEBA vale \n",
      "La variable MYVAR vale hello world!\n",
      "La variable USER vale jupyter-62hIMkkIBu\n",
      "La variable ANOTHERVAR vale  \n",
      "**Fin del script**\n",
      "jupyter-62hIMkkIBu\n"
     ]
    }
   ],
   "source": [
    "source variables.sh\n",
    "echo $USER"
   ]
  },
  {
   "cell_type": "markdown",
   "id": "831e6e0e",
   "metadata": {},
   "source": [
    "PREGUNTA: ¿Qué valor tiene la variable \"USER\" en el proceso creado para ejecutar el script `variables.sh`?\n",
    "\n",
    "RESPUESTA: en el proceso creado para ejecutar el script variables.sh la variable USER tiene como valor jupyter-62hIMkkIBu\n",
    "\n"
   ]
  },
  {
   "cell_type": "markdown",
   "id": "0bbf22c8-18b7-4d90-9781-8c46a8b72021",
   "metadata": {},
   "source": [
    "**FIN DEL CUADERNO** (*no borres esta celda*)\n",
    "\n",
    "@@@@ practica7a-procesos-ejercicios.ipynb @@@@"
   ]
  },
  {
   "cell_type": "code",
   "execution_count": null,
   "id": "0fab187f-abd3-4e7a-9b35-591e3ec258b1",
   "metadata": {},
   "outputs": [],
   "source": []
  }
 ],
 "metadata": {
  "kernelspec": {
   "display_name": "Bash",
   "language": "bash",
   "name": "bash"
  },
  "language_info": {
   "codemirror_mode": "shell",
   "file_extension": ".sh",
   "mimetype": "text/x-sh",
   "name": "bash"
  }
 },
 "nbformat": 4,
 "nbformat_minor": 5
}
