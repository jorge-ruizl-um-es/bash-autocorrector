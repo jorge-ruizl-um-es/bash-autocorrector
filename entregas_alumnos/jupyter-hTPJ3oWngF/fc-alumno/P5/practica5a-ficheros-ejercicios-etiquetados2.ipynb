{
 "cells": [
  {
   "cell_type": "markdown",
   "id": "8e983960",
   "metadata": {},
   "source": [
    "# Ejercicios - Práctica 5a: Manejo del sistema de ficheros en el *shell* de Linux."
   ]
  },
  {
   "cell_type": "markdown",
   "id": "055d9927",
   "metadata": {},
   "source": [
    "### Manipulación del sistema de ficheros.\n",
    "\n",
    "Vamos a hacer uso de los ficheros de ejemplo. Descarga el fichero `ficheros_ejemplo.zip` ejecutando la siguiente celda:"
   ]
  },
  {
   "cell_type": "code",
   "execution_count": 260,
   "id": "43a1c885-b8fa-46ad-921a-a5f3503c8865",
   "metadata": {},
   "outputs": [
    {
     "name": "stdout",
     "output_type": "stream",
     "text": [
      "El archivo ficheros_ejemplo.zip ya existe.\n",
      "Archivo descomprimido.\n"
     ]
    }
   ],
   "source": [
    "# Definir la URL del archivo a descargar y el nombre del archivo\n",
    "FICHERO=\"ficheros_ejemplo.zip\"\n",
    "URL=\"https://ditec.um.es/~rtitos/docencia/fc-gcid/24-25/$FICHERO\"\n",
    "\n",
    "cd\n",
    "\n",
    "# Comprobar si el archivo ya existe\n",
    "if [ -f \"$FICHERO\" ]; then\n",
    "    echo \"El archivo $FICHERO ya existe.\"\n",
    "    rm -rf \"ficheros_ejemplo\"\n",
    "    unzip -q $FICHERO\n",
    "    echo \"Archivo descomprimido.\"\n",
    "else\n",
    "    echo \"El archivo $FICHERO no existe. Descargando...\"\n",
    "    # Descargar el archivo\n",
    "    curl -O $URL\n",
    "    \n",
    "    # Comprobar si la descarga fue exitosa\n",
    "    if [ $? -eq 0 ]; then\n",
    "        echo \"Descarga completada. Descomprimiendo el archivo ...\"\n",
    "        # Descomprimir el archivo ZIP de forma silenciosa\n",
    "        unzip -q $FICHERO\n",
    "        echo \"Archivo descomprimido.\"\n",
    "    else\n",
    "        echo \"Error en la descarga.\"\n",
    "    fi\n",
    "fi\n"
   ]
  },
  {
   "cell_type": "markdown",
   "id": "35f81d92-1343-4046-bd0e-246b95bea1c0",
   "metadata": {},
   "source": [
    " El árbol de directorios en que se organizan los ficheros de ejemplo se puede observar a continuación:"
   ]
  },
  {
   "cell_type": "code",
   "execution_count": 261,
   "id": "c1680092-1e00-4a05-b2f9-aaa02a855b45",
   "metadata": {},
   "outputs": [
    {
     "name": "stdout",
     "output_type": "stream",
     "text": [
      "ficheros_ejemplo\n",
      "├── nano\n",
      "│   ├── doc\n",
      "│   ├── m4\n",
      "│   ├── po\n",
      "│   ├── src\n",
      "│   └── syntax\n",
      "│       └── extra\n",
      "└── sample_files\n",
      "    ├── audio\n",
      "    │   ├── mp3\n",
      "    │   ├── ogg\n",
      "    │   ├── wav\n",
      "    │   └── wma\n",
      "    ├── document\n",
      "    │   ├── doc\n",
      "    │   ├── docx\n",
      "    │   ├── pdf\n",
      "    │   ├── rtf\n",
      "    │   ├── txt\n",
      "    │   ├── xls\n",
      "    │   └── xlsx\n",
      "    ├── image\n",
      "    │   ├── bmp\n",
      "    │   │   └── cc\n",
      "    │   ├── gif\n",
      "    │   ├── jpg\n",
      "    │   ├── png\n",
      "    │   └── tiff\n",
      "    └── video\n",
      "        ├── flv\n",
      "        ├── mkv\n",
      "        ├── mov\n",
      "        └── mp4\n",
      "\n",
      "33 directories\n"
     ]
    }
   ],
   "source": [
    "tree -d ficheros_ejemplo"
   ]
  },
  {
   "cell_type": "markdown",
   "id": "b089eec7",
   "metadata": {},
   "source": [
    "```\n",
    "ficheros_ejemplo\n",
    "├── nano\n",
    "│   ├── docu\n",
    "│   ├── m4\n",
    "│   ├── po\n",
    "│   ├── src\n",
    "│   └── syntax\n",
    "│       └── extra\n",
    "└── sample_files\n",
    "    ├── audio\n",
    "    │   ├── mp3\n",
    "    │   ├── ogg\n",
    "    │   ├── wav\n",
    "    │   └── wma\n",
    "    ├── docu\n",
    "    │   ├── docu\n",
    "    │   ├── docux\n",
    "    │   ├── pdf\n",
    "    │   ├── rtf\n",
    "    │   ├── txt\n",
    "    │   ├── xls\n",
    "    │   └── xlsx\n",
    "    ├── image\n",
    "    │   ├── bmp\n",
    "    │   ├── gif\n",
    "    │   ├── jpg\n",
    "    │   ├── png\n",
    "    │   └── tiff\n",
    "    └── video\n",
    "        ├── flv\n",
    "        ├── mkv\n",
    "        ├── mov\n",
    "        └── mp4\n",
    "\n",
    "```"
   ]
  },
  {
   "cell_type": "markdown",
   "id": "080049b0",
   "metadata": {},
   "source": [
    "Una vez lo tengas preparado, empezando desde tu directorio personal, realiza los siguientes ejercicios, utilizando en todo caso **RUTAS RELATIVAS**. "
   ]
  },
  {
   "cell_type": "code",
   "execution_count": 262,
   "id": "f9385319",
   "metadata": {},
   "outputs": [],
   "source": [
    "# Ejecuta esta celda para restaurar el estado de los ficheros\n",
    "# Para ello, necesitas colocar el 'ficheros_ejemplo.zip' en tu directorio personal\n",
    "cd\n",
    "rm -rf ficheros_ejemplo\n",
    "unzip -q ficheros_ejemplo.zip"
   ]
  },
  {
   "cell_type": "code",
   "execution_count": 263,
   "id": "0b27924e-503c-45bc-95df-6fccb77703c3",
   "metadata": {},
   "outputs": [],
   "source": [
    "cd ~/ficheros_ejemplo/sample_files"
   ]
  },
  {
   "cell_type": "code",
   "execution_count": 264,
   "id": "ad64fbf9-0045-434a-ba9d-9075f559ef77",
   "metadata": {},
   "outputs": [
    {
     "name": "stdout",
     "output_type": "stream",
     "text": [
      "audio  document  image  LICENSE  README.md  video\n"
     ]
    }
   ],
   "source": [
    "ls"
   ]
  },
  {
   "cell_type": "code",
   "execution_count": 265,
   "id": "f457d447",
   "metadata": {},
   "outputs": [],
   "source": [
    "#V.1\n",
    "# Cámbiate al directorio \"image\"\n",
    "cd image"
   ]
  },
  {
   "cell_type": "code",
   "execution_count": 266,
   "id": "75144a2b",
   "metadata": {},
   "outputs": [
    {
     "name": "stdout",
     "output_type": "stream",
     "text": [
      "bmp  gif  jpg  png  tiff\n"
     ]
    }
   ],
   "source": [
    "# Lista el contenido del directorio\n",
    "ls"
   ]
  },
  {
   "cell_type": "code",
   "execution_count": 267,
   "id": "0e047617",
   "metadata": {},
   "outputs": [
    {
     "name": "stdout",
     "output_type": "stream",
     "text": [
      " assorted_colour_laser_light.jpg   lilac_calla_lilies.jpg\n",
      " assorted_pebble_rocks.jpg         ocean_waves.jpg\n",
      " birds_eye_beach.jpg               orange_juice_glass.jpg\n",
      " bitcoin.jpg                       shanghai_black_and_white.jpg\n",
      " cocktail_on_the_beach.jpg         stacked_ice_cubes.jpg\n",
      " eagle_closeup.jpg                'tiger_lying_on _the_ground.jpg'\n",
      " egg_pattern.jpg                   tulip_field.jpg\n",
      " elephants.jpg                     waterfall_long_exposure_2.jpg\n",
      " hexagon_building_facade.jpg       waterfall_long_exposure.jpg\n",
      " lemon_patern_wallpaper.jpg        yorkshire_terrier_dog.jpg\n"
     ]
    }
   ],
   "source": [
    "#V.2\n",
    "# Lista el contenido del directorio jpg\n",
    "ls  jpg"
   ]
  },
  {
   "cell_type": "code",
   "execution_count": 268,
   "id": "63abaeab",
   "metadata": {},
   "outputs": [
    {
     "name": "stdout",
     "output_type": "stream",
     "text": [
      "-rw-rw-r-- 1 jupyter-mTZJgOM8J8 jupyter-mTZJgOM8J8 413939 sep  7  2023 jpg/bitcoin.jpg\n"
     ]
    }
   ],
   "source": [
    "#V.3\n",
    "# Lista todos los ficheros situados en \"jpg\"\n",
    "# cuyo nombre tenga exactamente 7 caracteres\n",
    "# seguidos de \".jpg\"\n",
    "ls -l jpg/???????.jpg\n"
   ]
  },
  {
   "cell_type": "markdown",
   "id": "a8fceec0",
   "metadata": {},
   "source": [
    "\n",
    "SALIDA: \n",
    "```bash\n",
    "jpg/bitcoin.jpg\n",
    "```"
   ]
  },
  {
   "cell_type": "code",
   "execution_count": 269,
   "id": "ffc02819",
   "metadata": {},
   "outputs": [
    {
     "name": "stdout",
     "output_type": "stream",
     "text": [
      "-rw-rw-r-- 1 jupyter-mTZJgOM8J8 jupyter-mTZJgOM8J8 3826501 sep  7  2023 jpg/assorted_pebble_rocks.jpg\n",
      "-rw-rw-r-- 1 jupyter-mTZJgOM8J8 jupyter-mTZJgOM8J8  559103 sep  7  2023 jpg/eagle_closeup.jpg\n",
      "-rw-rw-r-- 1 jupyter-mTZJgOM8J8 jupyter-mTZJgOM8J8  671780 sep  7  2023 jpg/elephants.jpg\n",
      "-rw-rw-r-- 1 jupyter-mTZJgOM8J8 jupyter-mTZJgOM8J8  112194 sep  7  2023 jpg/lemon_patern_wallpaper.jpg\n"
     ]
    }
   ],
   "source": [
    "#V.4\n",
    "# Lista todos los ficheros situados en \"jpg\"\n",
    "# cuyo nombre contenga la cadena \"le\"\n",
    "ls -l jpg/*le*.jpg"
   ]
  },
  {
   "cell_type": "markdown",
   "id": "19ff3d07",
   "metadata": {},
   "source": [
    "SALIDA: \n",
    "```bash\n",
    "jpg/assorted_pebble_rocks.jpg  jpg/elephants.jpg\n",
    "jpg/eagle_closeup.jpg          jpg/lemon_patern_wallpaper.jpg\n",
    "```"
   ]
  },
  {
   "cell_type": "code",
   "execution_count": 270,
   "id": "04d88742",
   "metadata": {},
   "outputs": [
    {
     "name": "stdout",
     "output_type": "stream",
     "text": [
      "ls: no se puede acceder a 'jpg/*le*f*': No existe el archivo o el directorio\n",
      " jpg/assorted_pebble_rocks.jpg    jpg/waterfall_long_exposure_2.jpg\n",
      " jpg/eagle_closeup.jpg            jpg/waterfall_long_exposure_2.jpg\n",
      " jpg/egg_pattern.jpg              jpg/waterfall_long_exposure.jpg\n",
      " jpg/elephants.jpg                jpg/waterfall_long_exposure.jpg\n",
      " jpg/lemon_patern_wallpaper.jpg   jpg/yorkshire_terrier_dog.jpg\n",
      " jpg/lemon_patern_wallpaper.jpg\n"
     ]
    },
    {
     "ename": "",
     "evalue": "2",
     "output_type": "error",
     "traceback": []
    }
   ],
   "source": [
    "#V.5\n",
    "# Lista todos los ficheros situados en \"jpg\"\n",
    "# cuyo nombre contenga las cadenas \"le\" o \"ter\"\n",
    "# seguidas de la letra 'p' o 'f'\n",
    "ls jpg/*{le,ter}*{p,f}*\n"
   ]
  },
  {
   "cell_type": "markdown",
   "id": "a0a04734",
   "metadata": {},
   "source": [
    "SALIDA: \n",
    "```bash\n",
    "jpg/elephants.jpg                  jpg/waterfall_long_exposure.jpg\n",
    "jpg/waterfall_long_exposure_2.jpg\n",
    "```"
   ]
  },
  {
   "cell_type": "code",
   "execution_count": 271,
   "id": "e537a0e2",
   "metadata": {},
   "outputs": [
    {
     "name": "stdout",
     "output_type": "stream",
     "text": [
      "jpg/assorted_colour_laser_light.jpg  jpg/assorted_pebble_rocks.jpg\n"
     ]
    }
   ],
   "source": [
    "#V.6\n",
    "# Lista todos los ficheros situados en \"jpg\"\n",
    "# cuyo nombre comience con dos caracteres cualquiera\n",
    "# seguidos de la cadena \"sort\"\n",
    "ls jpg/**sort*"
   ]
  },
  {
   "cell_type": "markdown",
   "id": "e571a9aa",
   "metadata": {},
   "source": [
    "SALIDA: \n",
    "```bash\n",
    "jpg/assorted_colour_laser_light.jpg  jpg/assorted_pebble_rocks.jpg\n",
    "```"
   ]
  },
  {
   "cell_type": "code",
   "execution_count": 272,
   "id": "020d8068",
   "metadata": {},
   "outputs": [
    {
     "name": "stdout",
     "output_type": "stream",
     "text": [
      "jpg/assorted_colour_laser_light.jpg  jpg/waterfall_long_exposure.jpg\n",
      "jpg/assorted_pebble_rocks.jpg        jpg/yorkshire_terrier_dog.jpg\n",
      "jpg/waterfall_long_exposure_2.jpg\n"
     ]
    }
   ],
   "source": [
    "#V.7\n",
    "# Lista todos los ficheros situados en \"jpg\"\n",
    "# cuyo nombre NO comienze por los caracteres\n",
    "# de la 'b' a la 't'\n",
    "ls jpg/[!b-t]*"
   ]
  },
  {
   "cell_type": "markdown",
   "id": "4dc1f60a",
   "metadata": {},
   "source": [
    "SALIDA: \n",
    "```bash\n",
    "jpg/assorted_colour_laser_light.jpg  jpg/waterfall_long_exposure.jpg\n",
    "jpg/assorted_pebble_rocks.jpg        jpg/yorkshire_terrier_dog.jpg\n",
    "jpg/waterfall_long_exposure_2.jpg\n",
    "```"
   ]
  },
  {
   "cell_type": "code",
   "execution_count": 273,
   "id": "a3487fab-99a0-4cad-85e4-af2aafd0e0f8",
   "metadata": {},
   "outputs": [
    {
     "name": "stdout",
     "output_type": "stream",
     "text": [
      "/home/jupyter-mTZJgOM8J8/ficheros_ejemplo/sample_files/image\n"
     ]
    }
   ],
   "source": [
    "pwd"
   ]
  },
  {
   "cell_type": "code",
   "execution_count": 274,
   "id": "548fabb4",
   "metadata": {},
   "outputs": [
    {
     "name": "stdout",
     "output_type": "stream",
     "text": [
      "jpg/waterfall_long_exposure_2.jpg\n"
     ]
    }
   ],
   "source": [
    "#V.8\n",
    "# Lista todos los ficheros situados en cualquier subdirectorio\n",
    "# inmediato de \"image\" (bmp, gif, etc.) cuyo nombre contenga al menos un carácter numérico\n",
    "ls */*[0-9]*"
   ]
  },
  {
   "cell_type": "markdown",
   "id": "c4192ad2",
   "metadata": {},
   "source": [
    "SALIDA: \n",
    "```bash\n",
    "jpg/waterfall_long_exposure_2.jpg\n",
    "```"
   ]
  },
  {
   "cell_type": "code",
   "execution_count": 275,
   "id": "eaa21792-f0d1-4c84-b40f-aa4f549960d9",
   "metadata": {},
   "outputs": [
    {
     "name": "stdout",
     "output_type": "stream",
     "text": [
      "/home/jupyter-mTZJgOM8J8/ficheros_ejemplo/sample_files/image\n"
     ]
    }
   ],
   "source": [
    "pwd"
   ]
  },
  {
   "cell_type": "code",
   "execution_count": 276,
   "id": "3b93668f",
   "metadata": {},
   "outputs": [
    {
     "name": "stdout",
     "output_type": "stream",
     "text": [
      "ls: no se puede acceder a '*/*fall*f': No existe el archivo o el directorio\n",
      "ls: no se puede acceder a '*/*bri*g': No existe el archivo o el directorio\n",
      " jpg/waterfall_long_exposure_2.jpg   tiff/london_bridge.tiff\n",
      " jpg/waterfall_long_exposure.jpg     tiff/rolled_fabric_stack.tiff\n"
     ]
    },
    {
     "ename": "",
     "evalue": "2",
     "output_type": "error",
     "traceback": []
    }
   ],
   "source": [
    "#V.9\n",
    "# Lista todos los ficheros situados en cualquier subdirectorio\n",
    "# inmediato de \"image\" (bmp, gif, etc.) cuyo nombre contenga \n",
    "# las cadenas \"fall\" o \"bri\", y acaben con la letra 'g' o 'f'\n",
    "ls */*{fall,bri}*{g,f}"
   ]
  },
  {
   "cell_type": "markdown",
   "id": "1298f7f0",
   "metadata": {},
   "source": [
    "SALIDA: \n",
    "```bash\n",
    "jpg/waterfall_long_exposure_2.jpg  tiff/london_bridge.tiff\n",
    "jpg/waterfall_long_exposure.jpg    tiff/rolled_fabric_stack.tiff\n",
    "```"
   ]
  },
  {
   "cell_type": "code",
   "execution_count": 277,
   "id": "095b0a98",
   "metadata": {},
   "outputs": [],
   "source": [
    "#V.10\n",
    "# Cámbiate al directorio padre\n",
    "cd .."
   ]
  },
  {
   "cell_type": "code",
   "execution_count": 278,
   "id": "afae6aee",
   "metadata": {},
   "outputs": [
    {
     "name": "stdout",
     "output_type": "stream",
     "text": [
      "audio  document  image  LICENSE  README.md  video\n"
     ]
    }
   ],
   "source": [
    "# Lista su contenido\n",
    "ls"
   ]
  },
  {
   "cell_type": "markdown",
   "id": "9a7ad13e",
   "metadata": {},
   "source": [
    "SALIDA: \n",
    "```bash\n",
    "audio  document  image  LICENSE  README.md  video\n",
    "```"
   ]
  },
  {
   "cell_type": "code",
   "execution_count": 279,
   "id": "bdd37b93-5b2a-454b-9b5a-c2819c4dc677",
   "metadata": {},
   "outputs": [],
   "source": [
    "#V.11\n",
    "# Crea una copia íntegra del directorio \"document\" llamada \"docu\" (Pista: opción -r)\n",
    "cp -r document docu"
   ]
  },
  {
   "cell_type": "code",
   "execution_count": 280,
   "id": "1169c3d4",
   "metadata": {},
   "outputs": [
    {
     "name": "stdout",
     "output_type": "stream",
     "text": [
      "docu/rtf:\n",
      "file-sample_100kB.rtf  file-sample_300kB.rtf\n",
      "file-sample_1MB.rtf    file-sample_500kB.rtf\n",
      "\n",
      "docu/txt:\n",
      "sample1.txt  sample2.txt  sample3.txt\n",
      "\n",
      "docu/xls:\n",
      "file_example_XLS_1000.xls  file_example_XLS_5000.xls  sample2.xls\n",
      "file_example_XLS_100.xls   file_example_XLS_50.xls    sample3.xls\n",
      "file_example_XLS_10.xls    sample1.xls\n"
     ]
    }
   ],
   "source": [
    "#V.12\n",
    "# Lista el contenido de los directorios \"txt\", \"rtf\" y \"xls\" (situados dentro de \"docu\")\n",
    "ls {docu/txt,docu/rtf,docu/xls}"
   ]
  },
  {
   "cell_type": "markdown",
   "id": "10754ebb",
   "metadata": {},
   "source": [
    "SALIDA: \n",
    "```bash\n",
    "docu/rtf:\n",
    "file-sample_100kB.rtf  file-sample_300kB.rtf\n",
    "file-sample_1MB.rtf    file-sample_500kB.rtf\n",
    "\n",
    "docu/txt:\n",
    "sample1.txt  sample2.txt  sample3.txt\n",
    "\n",
    "docu/xls:\n",
    "file_example_XLS_1000.xls  file_example_XLS_5000.xls  sample2.xls\n",
    "file_example_XLS_100.xls   file_example_XLS_50.xls    sample3.xls\n",
    "file_example_XLS_10.xls    sample1.xls\n",
    "```"
   ]
  },
  {
   "cell_type": "code",
   "execution_count": 281,
   "id": "c5e70b8f",
   "metadata": {},
   "outputs": [
    {
     "name": "stdout",
     "output_type": "stream",
     "text": [
      "/home/jupyter-mTZJgOM8J8/ficheros_ejemplo/sample_files\n"
     ]
    }
   ],
   "source": [
    "# Muestra cuál es el directorio actual\n",
    "pwd"
   ]
  },
  {
   "cell_type": "code",
   "execution_count": 282,
   "id": "7afb2190-f4f6-4d6f-8012-b08ebd3ba2f2",
   "metadata": {},
   "outputs": [],
   "source": [
    "#V.13\n",
    "# Crea cuatro directorios llamados samples1 samples2 samples3 samples4\n",
    "mkdir {samples1,samples2,samples3,samples4}"
   ]
  },
  {
   "cell_type": "code",
   "execution_count": 283,
   "id": "5fc4385d-2d79-4752-b912-18ba519ecb22",
   "metadata": {},
   "outputs": [],
   "source": [
    "#V.14\n",
    "# Copia el fichero \"sample1.txt\" (situado en \"docu/txt\")\n",
    "# al directorio \"samples1\"\n",
    "cp docu/txt/sample1.txt samples1"
   ]
  },
  {
   "cell_type": "code",
   "execution_count": 284,
   "id": "752cbc4a-fd2d-43e4-97b0-8008c23c6891",
   "metadata": {},
   "outputs": [],
   "source": [
    "#V.15\n",
    "# Copia el fichero \"sample2.txt\" (situado en \"docu/txt\")\n",
    "# al directorio \"samples1\", de forma que la nueva copia se llame \"ejemplo2.txt\"\n",
    "cp docu/txt/sample2.txt samples1/ejemplo2.txt"
   ]
  },
  {
   "cell_type": "code",
   "execution_count": 285,
   "id": "d519c0ba-9344-497b-b68a-cd3c29f41076",
   "metadata": {},
   "outputs": [],
   "source": [
    "#V.16\n",
    "# Mueve el fichero \"sample3.txt\" (situado en \"docu/txt\")\n",
    "# al directorio \"samples1\", de forma que ahora se llame \"ejemplo3.txt\"\n",
    "mv docu/txt/sample3.txt samples1/ejemplo3.txt"
   ]
  },
  {
   "cell_type": "code",
   "execution_count": 286,
   "id": "fd733415-d046-4698-8a60-c3304e6edd14",
   "metadata": {},
   "outputs": [],
   "source": [
    "# Mueve los ficheros cuyo nombre contenga la cadena \"sample\" (situados en \"docu/rft\")\n",
    "# al directorio \"samples1\"\n",
    "mv docu/rtf/*sample* samples1"
   ]
  },
  {
   "cell_type": "code",
   "execution_count": 287,
   "id": "d48afcb2-9ac8-4aca-b8b2-f9ad7e27c54b",
   "metadata": {},
   "outputs": [
    {
     "name": "stdout",
     "output_type": "stream",
     "text": [
      "ejemplo2.txt  file-sample_100kB.rtf  file-sample_300kB.rtf  sample1.txt\n",
      "ejemplo3.txt  file-sample_1MB.rtf    file-sample_500kB.rtf\n"
     ]
    }
   ],
   "source": [
    "#V.18\n",
    "ls samples1"
   ]
  },
  {
   "cell_type": "code",
   "execution_count": 288,
   "id": "48b3a277-b121-4aa2-b0cb-8c780f2b4f23",
   "metadata": {},
   "outputs": [
    {
     "name": "stdout",
     "output_type": "stream",
     "text": [
      "/home/jupyter-mTZJgOM8J8/ficheros_ejemplo/sample_files\n"
     ]
    }
   ],
   "source": [
    "pwd"
   ]
  },
  {
   "cell_type": "markdown",
   "id": "b78cf141",
   "metadata": {},
   "source": [
    "SALIDA: \n",
    "```bash\n",
    "ejemplo2.txt  file-sample_100kB.rtf  file-sample_300kB.rtf  sample1.txt\n",
    "ejemplo3.txt  file-sample_1MB.rtf    file-sample_500kB.rtf\n",
    "```"
   ]
  },
  {
   "cell_type": "code",
   "execution_count": 289,
   "id": "f689cbcc-97fd-4da4-8848-682c180c68ee",
   "metadata": {},
   "outputs": [],
   "source": [
    "#V.19\n",
    "# Borra los ficheros del directorio \"sample1\" cuyo nombre contenga dos caracteres numéricos consecutivos\n",
    "rm samples1/*[0-9]*[0-9]*"
   ]
  },
  {
   "cell_type": "code",
   "execution_count": 290,
   "id": "e2567a5b-191f-44c8-b0fd-b7aa0604fb96",
   "metadata": {},
   "outputs": [
    {
     "name": "stdout",
     "output_type": "stream",
     "text": [
      "ejemplo2.txt  ejemplo3.txt  file-sample_1MB.rtf  sample1.txt\n"
     ]
    }
   ],
   "source": [
    "ls samples1"
   ]
  },
  {
   "cell_type": "markdown",
   "id": "883c589b",
   "metadata": {},
   "source": [
    "SALIDA: \n",
    "```bash\n",
    "ejemplo2.txt  ejemplo3.txt  file-sample_1MB.rtf  sample1.txt\n",
    "```"
   ]
  },
  {
   "cell_type": "code",
   "execution_count": 291,
   "id": "a3fed0a3-f1ec-461b-a226-d0002ccf4cb3",
   "metadata": {},
   "outputs": [
    {
     "name": "stdout",
     "output_type": "stream",
     "text": [
      "Utilitatis causa amicitia est quaesita.\n",
      "Lorem ipsum dolor sit amet, consectetur adipiscing elit. Collatio igitur ista te nihil iuvat. Honesta oratio, Socratica, Platonis etiam. Primum in nostrane potestate est, quid meminerimus? Duo Reges: constructio interrete. Quid, si etiam iucunda memoria est praeteritorum malorum? Si quidem, inquit, tollerem, sed relinquo. An nisi populari fama?\n",
      "\n",
      "Quamquam id quidem licebit iis existimare, qui legerint. Summum a vobis bonum voluptas dicitur. At hoc in eo M. Refert tamen, quo modo. Quid sequatur, quid repugnet, vident. Iam id ipsum absurdum, maximum malum neglegi.\n",
      "\n"
     ]
    }
   ],
   "source": [
    "#V.20\n",
    "# Muestra el contenido del fichero sample1.txt situado en \"samples1\"\n",
    "cat samples1/sample1.txt"
   ]
  },
  {
   "cell_type": "markdown",
   "id": "178406c5",
   "metadata": {},
   "source": [
    "SALIDA: \n",
    "```bash\n",
    "Utilitatis causa amicitia est quaesita.\n",
    "Lorem ipsum dolor sit amet, consectetur adipiscing elit. Collatio igitur ista te nihil iuvat. Honesta oratio, Socratica, Platonis etiam. Primum in nostrane potestate est, quid meminerimus? Duo Reges: constructio interrete. Quid, si etiam iucunda memoria est praeteritorum malorum? Si quidem, inquit, tollerem, sed relinquo. An nisi populari fama?\n",
    "\n",
    "Quamquam id quidem licebit iis existimare, qui legerint. Summum a vobis bonum voluptas dicitur. At hoc in eo M. Refert tamen, quo modo. Quid sequatur, quid repugnet, vident. Iam id ipsum absurdum, maximum malum neglegi.\n",
    "```"
   ]
  },
  {
   "cell_type": "code",
   "execution_count": 292,
   "id": "311b2e1b-5aa9-4c8f-859a-791bf47e14c0",
   "metadata": {},
   "outputs": [],
   "source": [
    "#V.21\n",
    "# Copia los ficheros que empiecen por f y acaben por .xls (situados en \"docu/xls\")\n",
    "# al directorio \"samples2\"\n",
    "cp docu/xls/f*.xls samples2"
   ]
  },
  {
   "cell_type": "code",
   "execution_count": 293,
   "id": "9d7e89ec",
   "metadata": {},
   "outputs": [
    {
     "name": "stdout",
     "output_type": "stream",
     "text": [
      "file_example_XLS_1000.xls  file_example_XLS_10.xls    file_example_XLS_50.xls\n",
      "file_example_XLS_100.xls   file_example_XLS_5000.xls\n"
     ]
    }
   ],
   "source": [
    "ls samples2"
   ]
  },
  {
   "cell_type": "markdown",
   "id": "4fd1dbe8",
   "metadata": {},
   "source": [
    "SALIDA: \n",
    "```bash\n",
    "file_example_XLS_1000.xls  file_example_XLS_10.xls    file_example_XLS_50.xls\n",
    "file_example_XLS_100.xls   file_example_XLS_5000.xls\n",
    "```"
   ]
  },
  {
   "cell_type": "code",
   "execution_count": 294,
   "id": "bb58f341-0ddc-45c7-aab4-1cab124a2b05",
   "metadata": {},
   "outputs": [],
   "source": [
    "#V.22\n",
    "# Copia todos los ficheros situados en \"samples1\"\n",
    "# al directorio \"samples2\"\n",
    "cp samples1/* samples2"
   ]
  },
  {
   "cell_type": "code",
   "execution_count": 295,
   "id": "a9da4312-0dc2-4c5b-bc49-01d21563f8d5",
   "metadata": {},
   "outputs": [
    {
     "name": "stdout",
     "output_type": "stream",
     "text": [
      "ejemplo2.txt               file_example_XLS_100.xls   file_example_XLS_50.xls\n",
      "ejemplo3.txt               file_example_XLS_10.xls    file-sample_1MB.rtf\n",
      "file_example_XLS_1000.xls  file_example_XLS_5000.xls  sample1.txt\n"
     ]
    }
   ],
   "source": [
    "ls samples2"
   ]
  },
  {
   "cell_type": "markdown",
   "id": "e4df0cee",
   "metadata": {},
   "source": [
    "SALIDA: \n",
    "```bash\n",
    "ejemplo2.txt               file_example_XLS_100.xls   file_example_XLS_50.xls\n",
    "ejemplo3.txt               file_example_XLS_10.xls    file-sample_1MB.rtf\n",
    "file_example_XLS_1000.xls  file_example_XLS_5000.xls  sample1.txt\n",
    "```"
   ]
  },
  {
   "cell_type": "code",
   "execution_count": 296,
   "id": "0c7e705a-7cc4-4de8-ac01-00c47e17c4d0",
   "metadata": {},
   "outputs": [],
   "source": [
    "#V.23\n",
    "# Renombra el fichero \"file_example_XLS_100.xls\" en la carpeta \"samples2\"\n",
    "# para que pase a llamarse \"ejemplo_100.xls\"\n",
    "mv samples2/file_example_XLS_100.xls samples2/ejemplo_100.xls"
   ]
  },
  {
   "cell_type": "code",
   "execution_count": 297,
   "id": "73f6dad7-63ce-49ff-897d-17c568882075",
   "metadata": {},
   "outputs": [],
   "source": [
    "#V.24\n",
    "# Borra los ficheros cuyo nombre contenga las cadena \"sample\" o \"example\", situados en \n",
    "# el directorio \"samples2\"\n",
    "rm samples2/*{sample,example}*\n"
   ]
  },
  {
   "cell_type": "code",
   "execution_count": 298,
   "id": "8068f6dc-4144-425d-b815-0ee63f1fb862",
   "metadata": {},
   "outputs": [
    {
     "name": "stdout",
     "output_type": "stream",
     "text": [
      "ejemplo_100.xls  ejemplo2.txt  ejemplo3.txt\n"
     ]
    }
   ],
   "source": [
    "ls samples2"
   ]
  },
  {
   "cell_type": "markdown",
   "id": "95174a49",
   "metadata": {},
   "source": [
    "SALIDA: \n",
    "```bash\n",
    "ejemplo_100.xls  ejemplo2.txt  ejemplo3.txt\n",
    "```"
   ]
  },
  {
   "cell_type": "code",
   "execution_count": 299,
   "id": "3490441b-113e-4eab-8eba-07ef1add549d",
   "metadata": {},
   "outputs": [],
   "source": [
    "#V.25\n",
    "# Copia los ficheros cuyo nombre comience por \"sample\" que estén\n",
    "# situados en cualquier subdirectorio inmediato de \"docu\" (p.ej. docu/txt, docu/pdf, ...).\n",
    "# al directorio \"samples3\"\n",
    "cp docu/*/sample* samples3"
   ]
  },
  {
   "cell_type": "code",
   "execution_count": 300,
   "id": "2b942712-e887-41ff-bfd9-cf07a55a5d78",
   "metadata": {},
   "outputs": [
    {
     "name": "stdout",
     "output_type": "stream",
     "text": [
      "sample1.doc   sample1.xls   sample2.pdf   sample3.docx  sample4.docx\n",
      "sample1.docx  sample1.xlsx  sample2.txt   sample3.pdf\n",
      "sample1.pdf   sample2.doc   sample2.xls   sample3.xls\n",
      "sample1.txt   sample2.docx  sample2.xlsx  sample3.xlsx\n"
     ]
    }
   ],
   "source": [
    "ls samples3"
   ]
  },
  {
   "cell_type": "markdown",
   "id": "d81f4854",
   "metadata": {},
   "source": [
    "SALIDA: \n",
    "```bash\n",
    "sample1.doc   sample1.xls   sample2.pdf   sample3.docx  sample4.docx\n",
    "sample1.docx  sample1.xlsx  sample2.txt   sample3.pdf\n",
    "sample1.pdf   sample2.doc   sample2.xls   sample3.xls\n",
    "sample1.txt   sample2.docx  sample2.xlsx  sample3.xlsx\n",
    "```"
   ]
  },
  {
   "cell_type": "code",
   "execution_count": 301,
   "id": "f725a604-3b33-4583-b67d-b45999d084ae",
   "metadata": {},
   "outputs": [],
   "source": [
    "#V.26\n",
    "# Borra los ficheros de \"samples3\" cuyo nombre contenga el carácter x o el carácter f\n",
    "rm -rf samples3/*{x,f}*"
   ]
  },
  {
   "cell_type": "code",
   "execution_count": 302,
   "id": "b30dbd32-2c20-4ce0-bccf-e72c4453be4e",
   "metadata": {},
   "outputs": [
    {
     "name": "stdout",
     "output_type": "stream",
     "text": [
      "sample1.doc  sample2.doc\n"
     ]
    }
   ],
   "source": [
    "ls samples3"
   ]
  },
  {
   "cell_type": "markdown",
   "id": "1d6cf517",
   "metadata": {},
   "source": [
    "SALIDA: \n",
    "```bash\n",
    "sample1.doc  sample2.doc\n",
    "```"
   ]
  },
  {
   "cell_type": "code",
   "execution_count": 303,
   "id": "4e48928a-8d59-4506-894a-7c2620a2e6ab",
   "metadata": {},
   "outputs": [],
   "source": [
    "#V.27\n",
    "# Copia los ficheros cuyo nombre termine por \"pdf\" o \"doc\",\n",
    "# situados en cualquier subdirectorio inmediato de \"docu\", al directorio samples4\n",
    "cp docu/*/*{pdf,doc} samples4"
   ]
  },
  {
   "cell_type": "code",
   "execution_count": 304,
   "id": "4c8a20a8-5843-467a-b87a-773ac0763843",
   "metadata": {},
   "outputs": [
    {
     "name": "stdout",
     "output_type": "stream",
     "text": [
      "file-example_PDF_1MB.pdf     file-sample_150kB.pdf  sample1.doc  sample2.pdf\n",
      "file-example_PDF_500_kB.pdf  file-sample_1MB.doc    sample1.pdf  sample3.pdf\n",
      "file-sample_100kB.doc        file-sample_500kB.doc  sample2.doc\n"
     ]
    }
   ],
   "source": [
    "ls samples4"
   ]
  },
  {
   "cell_type": "markdown",
   "id": "0812c9d1",
   "metadata": {},
   "source": [
    "SALIDA: \n",
    "```bash\n",
    "file-example_PDF_1MB.pdf     file-sample_150kB.pdf  sample1.doc  sample2.pdf\n",
    "file-example_PDF_500_kB.pdf  file-sample_1MB.doc    sample1.pdf  sample3.pdf\n",
    "file-sample_100kB.doc        file-sample_500kB.doc  sample2.doc\n",
    "```"
   ]
  },
  {
   "cell_type": "code",
   "execution_count": 305,
   "id": "a70e4ea2-3253-4dfb-928f-2a0e7880ff50",
   "metadata": {},
   "outputs": [],
   "source": [
    "#V.28\n",
    "# Copia los ficheros cuyo nombre empiece por \"sample\",\n",
    "# situados en los directorios \"docx\" o \"xlsx\" al directorio \"samples4\"\n",
    "cp docu/{docx,xlsx}/sample* samples4"
   ]
  },
  {
   "cell_type": "code",
   "execution_count": 306,
   "id": "a19663a4-0a58-4a64-875a-a4ff3b117620",
   "metadata": {},
   "outputs": [
    {
     "name": "stdout",
     "output_type": "stream",
     "text": [
      "file-example_PDF_1MB.pdf     file-sample_500kB.doc  sample2.doc   sample3.pdf\n",
      "file-example_PDF_500_kB.pdf  sample1.doc            sample2.docx  sample3.xlsx\n",
      "file-sample_100kB.doc        sample1.docx           sample2.pdf   sample4.docx\n",
      "file-sample_150kB.pdf        sample1.pdf            sample2.xlsx\n",
      "file-sample_1MB.doc          sample1.xlsx           sample3.docx\n"
     ]
    }
   ],
   "source": [
    "ls samples4"
   ]
  },
  {
   "cell_type": "markdown",
   "id": "8eed122c",
   "metadata": {},
   "source": [
    "SALIDA: \n",
    "```bash\n",
    "file-example_PDF_1MB.pdf     file-sample_500kB.doc  sample2.doc   sample3.pdf\n",
    "file-example_PDF_500_kB.pdf  sample1.doc            sample2.docx  sample3.xlsx\n",
    "file-sample_100kB.doc        sample1.docx           sample2.pdf   sample4.docx\n",
    "file-sample_150kB.pdf        sample1.pdf            sample2.xlsx\n",
    "file-sample_1MB.doc          sample1.xlsx           sample3.docx\n",
    "```"
   ]
  },
  {
   "cell_type": "code",
   "execution_count": 307,
   "id": "9fa194e2-c4ff-4b87-85ca-57e2a9072136",
   "metadata": {},
   "outputs": [],
   "source": [
    "#V.29\n",
    "# Borra los ficheros de \"samples4\" que terminen en \"docx\" y contengan un carácter numérico menor que 4\n",
    "rm samples4/*[0-3]*docx"
   ]
  },
  {
   "cell_type": "code",
   "execution_count": 308,
   "id": "cb2bfb30-9681-4a5a-b46b-824e8db960a8",
   "metadata": {},
   "outputs": [
    {
     "name": "stdout",
     "output_type": "stream",
     "text": [
      "samples4/sample4.docx\n"
     ]
    }
   ],
   "source": [
    "#V.30\n",
    "# Lista los ficheros de \"samples4\" que acaben en \".docx\"\n",
    "ls samples4/*.docx"
   ]
  },
  {
   "cell_type": "markdown",
   "id": "ae8499da",
   "metadata": {},
   "source": [
    "SALIDA: \n",
    "```bash\n",
    "samples4/sample4.docx\n",
    "```"
   ]
  },
  {
   "cell_type": "code",
   "execution_count": 309,
   "id": "3849c12e",
   "metadata": {},
   "outputs": [
    {
     "name": "stdout",
     "output_type": "stream",
     "text": [
      "mv: no se puede efectuar `stat' sobre 'samples4/file-example_PDF_1MB.pdf': No existe el archivo o el directorio\n",
      "mv: no se puede efectuar `stat' sobre 'samples4/file-example_PDF_500_kB.pdf': No existe el archivo o el directorio\n",
      "mv: no se puede efectuar `stat' sobre 'samples4/file-sample_100kB.doc': No existe el archivo o el directorio\n",
      "mv: no se puede efectuar `stat' sobre 'samples4/file-sample_150kB.pdf': No existe el archivo o el directorio\n",
      "mv: no se puede efectuar `stat' sobre 'samples4/file-sample_1MB.doc': No existe el archivo o el directorio\n",
      "mv: no se puede efectuar `stat' sobre 'samples4/file-sample_500kB.doc': No existe el archivo o el directorio\n"
     ]
    },
    {
     "ename": "",
     "evalue": "1",
     "output_type": "error",
     "traceback": []
    }
   ],
   "source": [
    "#V.31\n",
    "# Mueve al directorio padre los ficheros de \"samples4\" cuyo nombre\n",
    "# contenga un carácter numérico seguido de una letra mayúscula o minúscula\n",
    "mv samples4/*[0-9]*{[a-z],[A-Z]}* ../"
   ]
  },
  {
   "cell_type": "code",
   "execution_count": 310,
   "id": "7a7ba20b-33f3-4fb5-8bc4-cfcf960d710f",
   "metadata": {},
   "outputs": [
    {
     "name": "stdout",
     "output_type": "stream",
     "text": [
      "/home/jupyter-mTZJgOM8J8/ficheros_ejemplo/sample_files\n"
     ]
    }
   ],
   "source": [
    "pwd"
   ]
  },
  {
   "cell_type": "code",
   "execution_count": 311,
   "id": "cfbe52e9",
   "metadata": {},
   "outputs": [
    {
     "name": "stdout",
     "output_type": "stream",
     "text": [
      "../../file-example_PDF_1MB.pdf     ../../file-sample_150kB.pdf\n",
      "../../file-example_PDF_500_kB.pdf  ../../file-sample_1MB.doc\n",
      "../../file-sample_100kB.doc        ../../file-sample_500kB.doc\n"
     ]
    }
   ],
   "source": [
    "#V.32\n",
    "# Lista los ficheros del directorio padre que empiecen por \"file\"\n",
    "ls ../../file*"
   ]
  },
  {
   "cell_type": "markdown",
   "id": "08c5f710",
   "metadata": {},
   "source": [
    "SALIDA: \n",
    "```bash\n",
    "../file-example_PDF_1MB.pdf  ../file-sample_150kB.pdf  ../file-sample_500kB.doc\n",
    "../file-sample_100kB.doc     ../file-sample_1MB.doc\n",
    "```"
   ]
  },
  {
   "cell_type": "code",
   "execution_count": 320,
   "id": "dfc2cc65",
   "metadata": {},
   "outputs": [
    {
     "name": "stdout",
     "output_type": "stream",
     "text": [
      "browser.c  definitions.h  history.c    prompt.c      text.c\n",
      "chars.c    files.c        Makefile.am  prototypes.h  utils.c\n",
      "color.c    global.c       move.c       rcfile.c      winio.c\n",
      "cut.c      help.c         nano.c       search.c\n"
     ]
    }
   ],
   "source": [
    "#V.33\n",
    "# Lista el contenido del directorio \"src\" que hay dentro de \"nano\"\n",
    "# (Mira el árbol de directorios al principio del notebook para\n",
    "# averiguar la ruta relativa a \"nano\" desde \"sample_files\")\n",
    "ls ~/ficheros_ejemplo/nano/src"
   ]
  },
  {
   "cell_type": "markdown",
   "id": "ffdec7a1",
   "metadata": {},
   "source": [
    "SALIDA: \n",
    "```bash\n",
    "browser.c  definitions.h  history.c    prompt.c      text.c\n",
    "chars.c    files.c        Makefile.am  prototypes.h  utils.c\n",
    "color.c    global.c       move.c       rcfile.c      winio.c\n",
    "cut.c      help.c         nano.c       search.c\n",
    "```"
   ]
  },
  {
   "cell_type": "code",
   "execution_count": 321,
   "id": "81ea1b94",
   "metadata": {},
   "outputs": [],
   "source": [
    "#V.34\n",
    "# Crea un directorio llamado \"source\"\n",
    "mkdir source"
   ]
  },
  {
   "cell_type": "code",
   "execution_count": 324,
   "id": "bad4588c",
   "metadata": {},
   "outputs": [],
   "source": [
    "#V.35\n",
    "# Copia al directorio \"source\" los ficheros del directorio \"src\" que hay en \"nano\" \n",
    "# cuyo nombre acaba en \".h\"\n",
    "cp ~/ficheros_ejemplo/nano/src/*.h source"
   ]
  },
  {
   "cell_type": "code",
   "execution_count": 325,
   "id": "e6dc3ec4",
   "metadata": {},
   "outputs": [
    {
     "name": "stdout",
     "output_type": "stream",
     "text": [
      "definitions.h  prototypes.h\n"
     ]
    }
   ],
   "source": [
    "ls source"
   ]
  },
  {
   "cell_type": "markdown",
   "id": "52e9a754",
   "metadata": {},
   "source": [
    "SALIDA: \n",
    "```bash\n",
    "definitions.h  prototypes.h\n",
    "```"
   ]
  },
  {
   "cell_type": "code",
   "execution_count": 327,
   "id": "b8f0c8d8",
   "metadata": {},
   "outputs": [],
   "source": [
    "#V.36\n",
    "# Copia al directorio \"source\" los ficheros del directorio \"src\" que hay en \"nano\" \n",
    "# cuyo nombre empieza por \"c\" seguido de una vocal\n",
    "cp ~/ficheros_ejemplo/nano/src/c*[a,e,o,u,i]*  source"
   ]
  },
  {
   "cell_type": "code",
   "execution_count": 328,
   "id": "63137629",
   "metadata": {},
   "outputs": [
    {
     "name": "stdout",
     "output_type": "stream",
     "text": [
      "chars.c  color.c  cut.c  definitions.h  prototypes.h\n"
     ]
    }
   ],
   "source": [
    "ls source"
   ]
  },
  {
   "cell_type": "markdown",
   "id": "dff234d1",
   "metadata": {},
   "source": [
    "SALIDA: \n",
    "```bash\n",
    "color.c  cut.c  definitions.h  prototypes.h\n",
    "```"
   ]
  },
  {
   "cell_type": "code",
   "execution_count": 329,
   "id": "7fa986f9",
   "metadata": {},
   "outputs": [],
   "source": [
    "#V.37\n",
    "# Copia al directorio \"source\" los ficheros del directorio \"src\" que hay en \"nano\" \n",
    "# cuyo nombre contiene la cadena \"to\" o la cadena \"pro\", y acaben por \".c\"\n",
    "cp ~/ficheros_ejemplo/nano/src/*{to,pro}*.c  source"
   ]
  },
  {
   "cell_type": "code",
   "execution_count": 330,
   "id": "1ade3b86",
   "metadata": {},
   "outputs": [
    {
     "name": "stdout",
     "output_type": "stream",
     "text": [
      "chars.c  color.c  cut.c  definitions.h  history.c  prompt.c  prototypes.h\n"
     ]
    }
   ],
   "source": [
    "ls source"
   ]
  },
  {
   "cell_type": "markdown",
   "id": "2dd2401f",
   "metadata": {},
   "source": [
    "SALIDA: \n",
    "```bash\n",
    "color.c  cut.c  definitions.h  history.c  prompt.c  prototypes.h\n",
    "```"
   ]
  },
  {
   "cell_type": "markdown",
   "id": "0bbf22c8-18b7-4d90-9781-8c46a8b72021",
   "metadata": {},
   "source": [
    "**FIN DEL CUADERNO** (*no borres esta celda*)\n",
    "\n",
    "@@@@ practica5a-ficheros-ejercicios.ipynb @@@@"
   ]
  }
 ],
 "metadata": {
  "kernelspec": {
   "display_name": "Bash",
   "language": "bash",
   "name": "bash"
  },
  "language_info": {
   "codemirror_mode": "shell",
   "file_extension": ".sh",
   "mimetype": "text/x-sh",
   "name": "bash"
  }
 },
 "nbformat": 4,
 "nbformat_minor": 5
}
