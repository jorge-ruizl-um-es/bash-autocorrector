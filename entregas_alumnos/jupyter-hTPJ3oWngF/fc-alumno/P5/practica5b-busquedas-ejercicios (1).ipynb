{
 "cells": [
  {
   "cell_type": "markdown",
   "id": "c5e0d6b2-ef9c-429e-82b1-9630148b5726",
   "metadata": {},
   "source": [
    "# Ejercicios - Práctica 5a: Herramientas de gestión del sistema de ficheros. Búsquedas."
   ]
  },
  {
   "cell_type": "markdown",
   "id": "055d9927",
   "metadata": {},
   "source": [
    "### Gestión y búsquedas de ficheros.\n",
    "\n",
    "Vamos a hacer uso de los mismos ficheros de ejemplo que utilizamos anteriormente. Para obtenerlos, ejecutar la siguiente celda:"
   ]
  },
  {
   "cell_type": "code",
   "execution_count": 1,
   "id": "474c9a3f-c138-45b1-880d-2a4fd36d0b73",
   "metadata": {},
   "outputs": [
    {
     "name": "stdout",
     "output_type": "stream",
     "text": [
      "El archivo ficheros_ejemplo.zip ya existe.\n",
      "Archivo descomprimido.\n"
     ]
    }
   ],
   "source": [
    "# Definir la URL del archivo a descargar y el nombre del archivo\n",
    "FICHERO=\"ficheros_ejemplo.zip\"\n",
    "URL=\"https://ditec.um.es/~rtitos/docencia/fc-gcid/24-25/$FICHERO\"\n",
    "\n",
    "cd\n",
    "\n",
    "# Comprobar si el archivo ya existe\n",
    "if [ -f \"$FICHERO\" ]; then\n",
    "    echo \"El archivo $FICHERO ya existe.\"\n",
    "    rm -rf \"ficheros_ejemplo\"\n",
    "    unzip -q $FICHERO\n",
    "    echo \"Archivo descomprimido.\"\n",
    "else\n",
    "    echo \"El archivo $FICHERO no existe. Descargando...\"\n",
    "    # Descargar el archivo\n",
    "    curl -O $URL\n",
    "    \n",
    "    # Comprobar si la descarga fue exitosa\n",
    "    if [ $? -eq 0 ]; then\n",
    "        echo \"Descarga completada. Descomprimiendo el archivo ...\"\n",
    "        # Descomprimir el archivo ZIP de forma silenciosa\n",
    "        unzip -q $FICHERO\n",
    "        echo \"Archivo descomprimido.\"\n",
    "    else\n",
    "        echo \"Error en la descarga.\"\n",
    "    fi\n",
    "fi"
   ]
  },
  {
   "cell_type": "markdown",
   "id": "b089eec7",
   "metadata": {},
   "source": [
    "```\n",
    "ficheros_ejemplo\n",
    "├── nano\n",
    "│   ├── docu\n",
    "│   ├── m4\n",
    "│   ├── po\n",
    "│   ├── src\n",
    "│   └── syntax\n",
    "│       └── extra\n",
    "└── sample_files\n",
    "    ├── audio\n",
    "    │   ├── mp3\n",
    "    │   ├── ogg\n",
    "    │   ├── wav\n",
    "    │   └── wma\n",
    "    ├── docu\n",
    "    │   ├── docu\n",
    "    │   ├── docux\n",
    "    │   ├── pdf\n",
    "    │   ├── rtf\n",
    "    │   ├── txt\n",
    "    │   ├── xls\n",
    "    │   └── xlsx\n",
    "    ├── image\n",
    "    │   ├── bmp\n",
    "    │   ├── gif\n",
    "    │   ├── jpg\n",
    "    │   ├── png\n",
    "    │   └── tiff\n",
    "    └── video\n",
    "        ├── flv\n",
    "        ├── mkv\n",
    "        ├── mov\n",
    "        └── mp4\n",
    "\n",
    "```"
   ]
  },
  {
   "cell_type": "markdown",
   "id": "080049b0",
   "metadata": {},
   "source": [
    "Una vez lo tengas preparado, empezando desde tu directorio personal, realiza los siguientes ejercicios, utilizando en todo caso **RUTAS RELATIVAS**. \n",
    "\n",
    "<span style=\"color: red;\">Recuerda que en el directorio `outputs` tienes el cuaderno con las salidas de los comandos que se piden</span>, para poder comprobar si tu respuesta a cada ejercicio es la correcta."
   ]
  },
  {
   "cell_type": "markdown",
   "id": "ebf79c79",
   "metadata": {},
   "source": [
    "\n",
    "### Búsquedas en el sistema de ficheros. Comodines"
   ]
  },
  {
   "cell_type": "markdown",
   "id": "1b5856f1",
   "metadata": {},
   "source": [
    "Usando convenientemente los comodines y las opciones de `find`, mostrar lo siguiente:"
   ]
  },
  {
   "cell_type": "code",
   "execution_count": 2,
   "id": "b2b404c8",
   "metadata": {},
   "outputs": [],
   "source": [
    "# Ejecuta esta celda para restaurar el estado de los ficheros\n",
    "# Para ello, necesitas colocar el 'ficheros_ejemplo.zip' en tu directorio personal\n",
    "cd\n",
    "chmod -Rf 700 ficheros_ejemplo\n",
    "rm -rf ficheros_ejemplo\n",
    "unzip -q ficheros_ejemplo.zip\n",
    "cd ~/ficheros_ejemplo/sample_files\n",
    "touch video/mkv/*as*"
   ]
  },
  {
   "cell_type": "code",
   "execution_count": 3,
   "id": "aa8dbe02",
   "metadata": {},
   "outputs": [
    {
     "name": "stdout",
     "output_type": "stream",
     "text": [
      "./document/rtf\n"
     ]
    },
    {
     "name": "stdout",
     "output_type": "stream",
     "text": [
      "./document/pdf\n"
     ]
    },
    {
     "name": "stdout",
     "output_type": "stream",
     "text": [
      "./document/doc\n"
     ]
    },
    {
     "name": "stdout",
     "output_type": "stream",
     "text": [
      "./document/txt\n"
     ]
    },
    {
     "name": "stdout",
     "output_type": "stream",
     "text": [
      "./document/xls\n"
     ]
    },
    {
     "name": "stdout",
     "output_type": "stream",
     "text": [
      "./document/xlsx\n"
     ]
    },
    {
     "name": "stdout",
     "output_type": "stream",
     "text": [
      "./document/docx\n"
     ]
    },
    {
     "name": "stdout",
     "output_type": "stream",
     "text": [
      "./audio\n"
     ]
    },
    {
     "name": "stdout",
     "output_type": "stream",
     "text": [
      "./audio/wav\n"
     ]
    },
    {
     "name": "stdout",
     "output_type": "stream",
     "text": [
      "./audio/mp3\n"
     ]
    },
    {
     "name": "stdout",
     "output_type": "stream",
     "text": [
      "./audio/wma\n"
     ]
    },
    {
     "name": "stdout",
     "output_type": "stream",
     "text": [
      "./audio/ogg\n"
     ]
    },
    {
     "name": "stdout",
     "output_type": "stream",
     "text": [
      "./video\n"
     ]
    },
    {
     "name": "stdout",
     "output_type": "stream",
     "text": [
      "./video/mkv\n"
     ]
    },
    {
     "name": "stdout",
     "output_type": "stream",
     "text": [
      "./video/mov\n"
     ]
    },
    {
     "name": "stdout",
     "output_type": "stream",
     "text": [
      "./video/flv\n"
     ]
    },
    {
     "name": "stdout",
     "output_type": "stream",
     "text": [
      "./video/mp4\n"
     ]
    },
    {
     "name": "stdout",
     "output_type": "stream",
     "text": [
      "./image\n"
     ]
    },
    {
     "name": "stdout",
     "output_type": "stream",
     "text": [
      "./image/tiff\n"
     ]
    },
    {
     "name": "stdout",
     "output_type": "stream",
     "text": [
      "./image/jpg\n"
     ]
    },
    {
     "name": "stdout",
     "output_type": "stream",
     "text": [
      "./image/bmp\n"
     ]
    },
    {
     "name": "stdout",
     "output_type": "stream",
     "text": [
      "./image/bmp/cc\n"
     ]
    },
    {
     "name": "stdout",
     "output_type": "stream",
     "text": [
      "./image/gif\n"
     ]
    },
    {
     "name": "stdout",
     "output_type": "stream",
     "text": [
      "./image/png\n"
     ]
    }
   ],
   "source": [
    "# todos los directorios que cuelgan del directorio actual\n"
   ]
  },
  {
   "cell_type": "code",
   "execution_count": 4,
   "id": "5a009a04",
   "metadata": {
    "code_folding": [],
    "execution": {
     "iopub.execute_input": "2024-11-05T08:42:12.652951Z",
     "iopub.status.busy": "2024-11-05T08:42:12.652808Z",
     "iopub.status.idle": "2024-11-05T08:42:12.866049Z",
     "shell.execute_reply": "2024-11-05T08:42:12.863630Z"
    }
   },
   "outputs": [
    {
     "name": "stdout",
     "output_type": "stream",
     "text": [
      "./audio/wav\n"
     ]
    },
    {
     "name": "stdout",
     "output_type": "stream",
     "text": [
      "./video/mkv\n"
     ]
    },
    {
     "name": "stdout",
     "output_type": "stream",
     "text": [
      "./video/mov\n"
     ]
    },
    {
     "name": "stdout",
     "output_type": "stream",
     "text": [
      "./video/flv\n"
     ]
    }
   ],
   "source": [
    "# todos los directorios que cuelgan del directorio actual\n",
    "# cuyo nombre acabe en 'v'\n"
   ]
  },
  {
   "cell_type": "code",
   "execution_count": 5,
   "id": "94a50855",
   "metadata": {
    "code_folding": [],
    "execution": {
     "iopub.execute_input": "2024-11-05T08:42:12.876202Z",
     "iopub.status.busy": "2024-11-05T08:42:12.875428Z",
     "iopub.status.idle": "2024-11-05T08:42:13.092159Z",
     "shell.execute_reply": "2024-11-05T08:42:13.089970Z"
    }
   },
   "outputs": [
    {
     "name": "stdout",
     "output_type": "stream",
     "text": [
      "image/jpg/eagle_closeup.jpg\n"
     ]
    },
    {
     "name": "stdout",
     "output_type": "stream",
     "text": [
      "image/jpg/birds_eye_beach.jpg\n"
     ]
    },
    {
     "name": "stdout",
     "output_type": "stream",
     "text": [
      "image/jpg/elephants.jpg\n"
     ]
    },
    {
     "name": "stdout",
     "output_type": "stream",
     "text": [
      "image/jpg/egg_pattern.jpg\n"
     ]
    },
    {
     "name": "stdout",
     "output_type": "stream",
     "text": [
      "image/jpg/cocktail_on_the_beach.jpg\n"
     ]
    },
    {
     "name": "stdout",
     "output_type": "stream",
     "text": [
      "image/jpg/bitcoin.jpg\n"
     ]
    }
   ],
   "source": [
    "# todos los ficheros en \"image\", cuyo nombre empiece con \n",
    "# una letra entre la b y la f, con extensión .jpg y \n"
   ]
  },
  {
   "cell_type": "code",
   "execution_count": 6,
   "id": "c6f59109",
   "metadata": {
    "execution": {
     "iopub.execute_input": "2024-11-05T08:42:13.102206Z",
     "iopub.status.busy": "2024-11-05T08:42:13.101400Z",
     "iopub.status.idle": "2024-11-05T08:42:13.321205Z",
     "shell.execute_reply": "2024-11-05T08:42:13.318823Z"
    }
   },
   "outputs": [
    {
     "name": "stdout",
     "output_type": "stream",
     "text": [
      "image/bmp/cc\n"
     ]
    }
   ],
   "source": [
    "# todos los directorios en \"image\", cuyo nombre contenga la\n",
    "# letra 'c' en segundo lugar\n"
   ]
  },
  {
   "cell_type": "code",
   "execution_count": 7,
   "id": "6ecaf693",
   "metadata": {
    "execution": {
     "iopub.execute_input": "2024-11-05T08:42:13.330971Z",
     "iopub.status.busy": "2024-11-05T08:42:13.330209Z",
     "iopub.status.idle": "2024-11-05T08:42:13.549491Z",
     "shell.execute_reply": "2024-11-05T08:42:13.546898Z"
    }
   },
   "outputs": [
    {
     "name": "stdout",
     "output_type": "stream",
     "text": [
      "./audio/wav/break_free.wav\n"
     ]
    },
    {
     "name": "stdout",
     "output_type": "stream",
     "text": [
      "./audio/wav/dub_techno_loop_.wav\n"
     ]
    },
    {
     "name": "stdout",
     "output_type": "stream",
     "text": [
      "./audio/wav/background_loop_straight_02.wav\n"
     ]
    },
    {
     "name": "stdout",
     "output_type": "stream",
     "text": [
      "./audio/wav/background_loop_funky_03.wav\n"
     ]
    },
    {
     "name": "stdout",
     "output_type": "stream",
     "text": [
      "./audio/wav/background_loop_chill_techno_04.wav\n"
     ]
    }
   ],
   "source": [
    "# todos los ficheros en \"audio\", cuyo nombre contenga las letras 'b', w' y 'v', \n",
    "# en ese orden (no necesariamente consecutivas)\n"
   ]
  },
  {
   "cell_type": "code",
   "execution_count": 8,
   "id": "5dd1be51",
   "metadata": {
    "execution": {
     "iopub.execute_input": "2024-11-05T08:42:13.559301Z",
     "iopub.status.busy": "2024-11-05T08:42:13.558562Z",
     "iopub.status.idle": "2024-11-05T08:42:13.778961Z",
     "shell.execute_reply": "2024-11-05T08:42:13.777876Z"
    }
   },
   "outputs": [
    {
     "name": "stdout",
     "output_type": "stream",
     "text": [
      "./audio/wav/background_loop_chill_techno_04.wav\n"
     ]
    },
    {
     "name": "stdout",
     "output_type": "stream",
     "text": [
      "./audio/wma/background_loop_straight_04.wma\n"
     ]
    },
    {
     "name": "stdout",
     "output_type": "stream",
     "text": [
      "./audio/ogg/background_loop_chill_techno_05.ogg\n"
     ]
    }
   ],
   "source": [
    "# todos los ficheros en \"audio\", cuyo nombre contenga un subrayado (_) seguido de\n",
    "# dos caracteres numéricos de los cuales el primero debe ser 0 y el segundo entre 4 y 6\n"
   ]
  },
  {
   "cell_type": "code",
   "execution_count": 9,
   "id": "56eae084",
   "metadata": {
    "execution": {
     "iopub.execute_input": "2024-11-05T08:42:13.782278Z",
     "iopub.status.busy": "2024-11-05T08:42:13.781971Z",
     "iopub.status.idle": "2024-11-05T08:42:13.988473Z",
     "shell.execute_reply": "2024-11-05T08:42:13.987936Z"
    }
   },
   "outputs": [
    {
     "name": "stdout",
     "output_type": "stream",
     "text": [
      "video/flv/fireworks_over_water.flv\n"
     ]
    }
   ],
   "source": [
    "# todos los ficheros en \"video\", cuyo nombre contenga las letras 'r', w' y 'v', \n",
    "# en ese orden (no necesariamente consecutivas), y acabe con \".\" seguido de tres caracteres cualquiera\n"
   ]
  },
  {
   "cell_type": "code",
   "execution_count": 10,
   "id": "d7661aa3",
   "metadata": {
    "execution": {
     "iopub.execute_input": "2024-11-05T08:42:13.991279Z",
     "iopub.status.busy": "2024-11-05T08:42:13.991124Z",
     "iopub.status.idle": "2024-11-05T08:42:14.198111Z",
     "shell.execute_reply": "2024-11-05T08:42:14.197253Z"
    }
   },
   "outputs": [
    {
     "name": "stdout",
     "output_type": "stream",
     "text": [
      "./video/flv/frozen_ice_droplets.flv\n"
     ]
    }
   ],
   "source": [
    "# todos los ficheros a partir del directorio actual \n",
    "# cuyo nombre contenga la letra z pero no la letra h\n"
   ]
  },
  {
   "cell_type": "code",
   "execution_count": 11,
   "id": "2bda0f98",
   "metadata": {
    "execution": {
     "iopub.execute_input": "2024-11-05T08:42:14.200762Z",
     "iopub.status.busy": "2024-11-05T08:42:14.200557Z",
     "iopub.status.idle": "2024-11-05T08:42:14.409079Z",
     "shell.execute_reply": "2024-11-05T08:42:14.408404Z"
    }
   },
   "outputs": [
    {
     "name": "stdout",
     "output_type": "stream",
     "text": [
      "./video/mkv/lit_incese_stick.mkv\n"
     ]
    },
    {
     "name": "stdout",
     "output_type": "stream",
     "text": [
      "./video/mkv/waves_crashing_on_rocks.mkv\n"
     ]
    },
    {
     "name": "stdout",
     "output_type": "stream",
     "text": [
      "./video/mkv/time_lapse_of_milky_way_galaxy.mkv\n"
     ]
    },
    {
     "name": "stdout",
     "output_type": "stream",
     "text": [
      "./video/mkv/person_piping_icing.mkv\n"
     ]
    }
   ],
   "source": [
    "# todos los ficheros a partir del directorio actual \n",
    "# cuyo nombre acabe en \"mkv\" y tengan tamaño superior a 1MiB\n"
   ]
  },
  {
   "cell_type": "code",
   "execution_count": 12,
   "id": "41609c70",
   "metadata": {
    "execution": {
     "iopub.execute_input": "2024-11-05T08:42:14.411396Z",
     "iopub.status.busy": "2024-11-05T08:42:14.411189Z",
     "iopub.status.idle": "2024-11-05T08:42:14.631444Z",
     "shell.execute_reply": "2024-11-05T08:42:14.629958Z"
    }
   },
   "outputs": [
    {
     "name": "stdout",
     "output_type": "stream",
     "text": [
      "./audio/wma/background_loop_sad_story.wma\n"
     ]
    },
    {
     "name": "stdout",
     "output_type": "stream",
     "text": [
      "./video/mp4/city_forest_rainbow.mp4\n"
     ]
    },
    {
     "name": "stdout",
     "output_type": "stream",
     "text": [
      "./image/bmp/coast_side_highway.bmp\n"
     ]
    },
    {
     "name": "stdout",
     "output_type": "stream",
     "text": [
      "./image/png/oil_towers.png\n"
     ]
    }
   ],
   "source": [
    "# todos los ficheros a partir del directorio actual \n",
    "# que tengan tamaño entre 200KiB y 250KiB\n"
   ]
  },
  {
   "cell_type": "code",
   "execution_count": 13,
   "id": "21027b7a",
   "metadata": {
    "execution": {
     "iopub.execute_input": "2024-11-05T08:42:14.636495Z",
     "iopub.status.busy": "2024-11-05T08:42:14.636079Z",
     "iopub.status.idle": "2024-11-05T08:42:14.843097Z",
     "shell.execute_reply": "2024-11-05T08:42:14.842455Z"
    }
   },
   "outputs": [
    {
     "name": "stdout",
     "output_type": "stream",
     "text": [
      "./video/mkv/astronaut_walking_fantasy.mkv\n"
     ]
    },
    {
     "name": "stdout",
     "output_type": "stream",
     "text": [
      "./video/mkv/waves_crashing_on_rocks.mkv\n"
     ]
    }
   ],
   "source": [
    "# todos los ficheros a partir del directorio actual \n",
    "# que tengan fecha de modificación inferior a 1 día\n"
   ]
  },
  {
   "cell_type": "code",
   "execution_count": 14,
   "id": "1e2f6bed",
   "metadata": {
    "execution": {
     "iopub.execute_input": "2024-11-05T08:42:14.845501Z",
     "iopub.status.busy": "2024-11-05T08:42:14.845268Z",
     "iopub.status.idle": "2024-11-05T08:42:15.108245Z",
     "shell.execute_reply": "2024-11-05T08:42:15.105550Z"
    }
   },
   "outputs": [
    {
     "name": "stdout",
     "output_type": "stream",
     "text": [
      "./video/flv/lemon_slice_falling.flv\n"
     ]
    },
    {
     "name": "stdout",
     "output_type": "stream",
     "text": [
      "./video/flv/frozen_ice_droplets.flv\n"
     ]
    },
    {
     "name": "stdout",
     "output_type": "stream",
     "text": [
      "./image/jpg/orange_juice_glass.jpg\n"
     ]
    },
    {
     "name": "stdout",
     "output_type": "stream",
     "text": [
      "./image/jpg/stacked_ice_cubes.jpg\n"
     ]
    }
   ],
   "source": [
    "# todos los ficheros a partir del directorio actual \n",
    "# que tengan fecha de modificación superior a 30 días\n",
    "# cuyo nombre contenga la cadena \"ice\"\n"
   ]
  },
  {
   "cell_type": "markdown",
   "id": "f2e148c3",
   "metadata": {},
   "source": [
    "### Búsqueda de patrones en ficheros"
   ]
  },
  {
   "cell_type": "code",
   "execution_count": 15,
   "id": "8a9fb693",
   "metadata": {
    "execution": {
     "iopub.execute_input": "2024-11-05T08:42:15.118300Z",
     "iopub.status.busy": "2024-11-05T08:42:15.117457Z",
     "iopub.status.idle": "2024-11-05T08:42:50.216609Z",
     "shell.execute_reply": "2024-11-05T08:42:50.214215Z"
    }
   },
   "outputs": [
    {
     "name": "stdout",
     "output_type": "stream",
     "text": [
      "Clonando en 'zsh'...\n"
     ]
    },
    {
     "name": "stdout",
     "output_type": "stream",
     "text": [
      "remote: Enumerating objects: 103040, done.\u001b[K\n"
     ]
    },
    {
     "name": "stdout",
     "output_type": "stream",
     "text": [
      "remote: Counting objects:   0% (1/3635)\u001b[K\r"
     ]
    },
    {
     "name": "stdout",
     "output_type": "stream",
     "text": [
      "remote: Counting objects:   1% (37/3635)\u001b[K\r"
     ]
    },
    {
     "name": "stdout",
     "output_type": "stream",
     "text": [
      "remote: Counting objects:   2% (73/3635)\u001b[K\r"
     ]
    },
    {
     "name": "stdout",
     "output_type": "stream",
     "text": [
      "remote: Counting objects:   3% (110/3635)\u001b[K\r"
     ]
    },
    {
     "name": "stdout",
     "output_type": "stream",
     "text": [
      "remote: Counting objects:   4% (146/3635)\u001b[K\r"
     ]
    },
    {
     "name": "stdout",
     "output_type": "stream",
     "text": [
      "remote: Counting objects:   5% (182/3635)\u001b[K\r"
     ]
    },
    {
     "name": "stdout",
     "output_type": "stream",
     "text": [
      "remote: Counting objects:   6% (219/3635)\u001b[K\r"
     ]
    },
    {
     "name": "stdout",
     "output_type": "stream",
     "text": [
      "remote: Counting objects:   7% (255/3635)\u001b[K\r"
     ]
    },
    {
     "name": "stdout",
     "output_type": "stream",
     "text": [
      "remote: Counting objects:   8% (291/3635)\u001b[K\r"
     ]
    },
    {
     "name": "stdout",
     "output_type": "stream",
     "text": [
      "remote: Counting objects:   9% (328/3635)\u001b[K\r"
     ]
    },
    {
     "name": "stdout",
     "output_type": "stream",
     "text": [
      "remote: Counting objects:  10% (364/3635)\u001b[K\r"
     ]
    },
    {
     "name": "stdout",
     "output_type": "stream",
     "text": [
      "remote: Counting objects:  11% (400/3635)\u001b[K\r"
     ]
    },
    {
     "name": "stdout",
     "output_type": "stream",
     "text": [
      "remote: Counting objects:  12% (437/3635)\u001b[K\r"
     ]
    },
    {
     "name": "stdout",
     "output_type": "stream",
     "text": [
      "remote: Counting objects:  13% (473/3635)\u001b[K\r"
     ]
    },
    {
     "name": "stdout",
     "output_type": "stream",
     "text": [
      "remote: Counting objects:  14% (509/3635)\u001b[K\r"
     ]
    },
    {
     "name": "stdout",
     "output_type": "stream",
     "text": [
      "remote: Counting objects:  15% (546/3635)\u001b[K\r"
     ]
    },
    {
     "name": "stdout",
     "output_type": "stream",
     "text": [
      "remote: Counting objects:  16% (582/3635)\u001b[K\r"
     ]
    },
    {
     "name": "stdout",
     "output_type": "stream",
     "text": [
      "remote: Counting objects:  17% (618/3635)\u001b[K\r"
     ]
    },
    {
     "name": "stdout",
     "output_type": "stream",
     "text": [
      "remote: Counting objects:  18% (655/3635)\u001b[K\r"
     ]
    },
    {
     "name": "stdout",
     "output_type": "stream",
     "text": [
      "remote: Counting objects:  19% (691/3635)\u001b[K\r"
     ]
    },
    {
     "name": "stdout",
     "output_type": "stream",
     "text": [
      "remote: Counting objects:  20% (727/3635)\u001b[K\r"
     ]
    },
    {
     "name": "stdout",
     "output_type": "stream",
     "text": [
      "remote: Counting objects:  21% (764/3635)\u001b[K\r"
     ]
    },
    {
     "name": "stdout",
     "output_type": "stream",
     "text": [
      "remote: Counting objects:  22% (800/3635)\u001b[K\r"
     ]
    },
    {
     "name": "stdout",
     "output_type": "stream",
     "text": [
      "remote: Counting objects:  23% (837/3635)\u001b[K\r"
     ]
    },
    {
     "name": "stdout",
     "output_type": "stream",
     "text": [
      "remote: Counting objects:  24% (873/3635)\u001b[K\r"
     ]
    },
    {
     "name": "stdout",
     "output_type": "stream",
     "text": [
      "remote: Counting objects:  25% (909/3635)\u001b[K\r"
     ]
    },
    {
     "name": "stdout",
     "output_type": "stream",
     "text": [
      "remote: Counting objects:  26% (946/3635)\u001b[K\r"
     ]
    },
    {
     "name": "stdout",
     "output_type": "stream",
     "text": [
      "remote: Counting objects:  27% (982/3635)\u001b[K\r"
     ]
    },
    {
     "name": "stdout",
     "output_type": "stream",
     "text": [
      "remote: Counting objects:  28% (1018/3635)\u001b[K\r"
     ]
    },
    {
     "name": "stdout",
     "output_type": "stream",
     "text": [
      "remote: Counting objects:  29% (1055/3635)\u001b[K\r"
     ]
    },
    {
     "name": "stdout",
     "output_type": "stream",
     "text": [
      "remote: Counting objects:  30% (1091/3635)\u001b[K\r"
     ]
    },
    {
     "name": "stdout",
     "output_type": "stream",
     "text": [
      "remote: Counting objects:  31% (1127/3635)\u001b[K\r"
     ]
    },
    {
     "name": "stdout",
     "output_type": "stream",
     "text": [
      "remote: Counting objects:  32% (1164/3635)\u001b[K\r"
     ]
    },
    {
     "name": "stdout",
     "output_type": "stream",
     "text": [
      "remote: Counting objects:  33% (1200/3635)\u001b[K\r"
     ]
    },
    {
     "name": "stdout",
     "output_type": "stream",
     "text": [
      "remote: Counting objects:  34% (1236/3635)\u001b[K\r"
     ]
    },
    {
     "name": "stdout",
     "output_type": "stream",
     "text": [
      "remote: Counting objects:  35% (1273/3635)\u001b[K\r"
     ]
    },
    {
     "name": "stdout",
     "output_type": "stream",
     "text": [
      "remote: Counting objects:  36% (1309/3635)\u001b[K\r"
     ]
    },
    {
     "name": "stdout",
     "output_type": "stream",
     "text": [
      "remote: Counting objects:  37% (1345/3635)\u001b[K\r"
     ]
    },
    {
     "name": "stdout",
     "output_type": "stream",
     "text": [
      "remote: Counting objects:  38% (1382/3635)\u001b[K\r"
     ]
    },
    {
     "name": "stdout",
     "output_type": "stream",
     "text": [
      "remote: Counting objects:  39% (1418/3635)\u001b[K\r"
     ]
    },
    {
     "name": "stdout",
     "output_type": "stream",
     "text": [
      "remote: Counting objects:  40% (1454/3635)\u001b[K\r"
     ]
    },
    {
     "name": "stdout",
     "output_type": "stream",
     "text": [
      "remote: Counting objects:  41% (1491/3635)\u001b[K\r"
     ]
    },
    {
     "name": "stdout",
     "output_type": "stream",
     "text": [
      "remote: Counting objects:  42% (1527/3635)\u001b[K\r"
     ]
    },
    {
     "name": "stdout",
     "output_type": "stream",
     "text": [
      "remote: Counting objects:  43% (1564/3635)\u001b[K\r"
     ]
    },
    {
     "name": "stdout",
     "output_type": "stream",
     "text": [
      "remote: Counting objects:  44% (1600/3635)\u001b[K\r"
     ]
    },
    {
     "name": "stdout",
     "output_type": "stream",
     "text": [
      "remote: Counting objects:  45% (1636/3635)\u001b[K\r"
     ]
    },
    {
     "name": "stdout",
     "output_type": "stream",
     "text": [
      "remote: Counting objects:  46% (1673/3635)\u001b[K\r"
     ]
    },
    {
     "name": "stdout",
     "output_type": "stream",
     "text": [
      "remote: Counting objects:  47% (1709/3635)\u001b[K\r"
     ]
    },
    {
     "name": "stdout",
     "output_type": "stream",
     "text": [
      "remote: Counting objects:  48% (1745/3635)\u001b[K\r"
     ]
    },
    {
     "name": "stdout",
     "output_type": "stream",
     "text": [
      "remote: Counting objects:  49% (1782/3635)\u001b[K\r"
     ]
    },
    {
     "name": "stdout",
     "output_type": "stream",
     "text": [
      "remote: Counting objects:  50% (1818/3635)\u001b[K\r"
     ]
    },
    {
     "name": "stdout",
     "output_type": "stream",
     "text": [
      "remote: Counting objects:  51% (1854/3635)\u001b[K\r"
     ]
    },
    {
     "name": "stdout",
     "output_type": "stream",
     "text": [
      "remote: Counting objects:  52% (1891/3635)\u001b[K\r"
     ]
    },
    {
     "name": "stdout",
     "output_type": "stream",
     "text": [
      "remote: Counting objects:  53% (1927/3635)\u001b[K\r"
     ]
    },
    {
     "name": "stdout",
     "output_type": "stream",
     "text": [
      "remote: Counting objects:  54% (1963/3635)\u001b[K\r"
     ]
    },
    {
     "name": "stdout",
     "output_type": "stream",
     "text": [
      "remote: Counting objects:  55% (2000/3635)\u001b[K\r"
     ]
    },
    {
     "name": "stdout",
     "output_type": "stream",
     "text": [
      "remote: Counting objects:  56% (2036/3635)\u001b[K\r"
     ]
    },
    {
     "name": "stdout",
     "output_type": "stream",
     "text": [
      "remote: Counting objects:  57% (2072/3635)\u001b[K\r"
     ]
    },
    {
     "name": "stdout",
     "output_type": "stream",
     "text": [
      "remote: Counting objects:  58% (2109/3635)\u001b[K\r"
     ]
    },
    {
     "name": "stdout",
     "output_type": "stream",
     "text": [
      "remote: Counting objects:  59% (2145/3635)\u001b[K\r"
     ]
    },
    {
     "name": "stdout",
     "output_type": "stream",
     "text": [
      "remote: Counting objects:  60% (2181/3635)\u001b[K\r"
     ]
    },
    {
     "name": "stdout",
     "output_type": "stream",
     "text": [
      "remote: Counting objects:  61% (2218/3635)\u001b[K\r"
     ]
    },
    {
     "name": "stdout",
     "output_type": "stream",
     "text": [
      "remote: Counting objects:  62% (2254/3635)\u001b[K\r"
     ]
    },
    {
     "name": "stdout",
     "output_type": "stream",
     "text": [
      "remote: Counting objects:  63% (2291/3635)\u001b[K\r"
     ]
    },
    {
     "name": "stdout",
     "output_type": "stream",
     "text": [
      "remote: Counting objects:  64% (2327/3635)\u001b[K\r"
     ]
    },
    {
     "name": "stdout",
     "output_type": "stream",
     "text": [
      "remote: Counting objects:  65% (2363/3635)\u001b[K\r"
     ]
    },
    {
     "name": "stdout",
     "output_type": "stream",
     "text": [
      "remote: Counting objects:  66% (2400/3635)\u001b[K\r"
     ]
    },
    {
     "name": "stdout",
     "output_type": "stream",
     "text": [
      "remote: Counting objects:  67% (2436/3635)\u001b[K\r"
     ]
    },
    {
     "name": "stdout",
     "output_type": "stream",
     "text": [
      "remote: Counting objects:  68% (2472/3635)\u001b[K\r"
     ]
    },
    {
     "name": "stdout",
     "output_type": "stream",
     "text": [
      "remote: Counting objects:  69% (2509/3635)\u001b[K\r"
     ]
    },
    {
     "name": "stdout",
     "output_type": "stream",
     "text": [
      "remote: Counting objects:  70% (2545/3635)\u001b[K\r"
     ]
    },
    {
     "name": "stdout",
     "output_type": "stream",
     "text": [
      "remote: Counting objects:  71% (2581/3635)\u001b[K\r"
     ]
    },
    {
     "name": "stdout",
     "output_type": "stream",
     "text": [
      "remote: Counting objects:  72% (2618/3635)\u001b[K\r"
     ]
    },
    {
     "name": "stdout",
     "output_type": "stream",
     "text": [
      "remote: Counting objects:  73% (2654/3635)\u001b[K\r"
     ]
    },
    {
     "name": "stdout",
     "output_type": "stream",
     "text": [
      "remote: Counting objects:  74% (2690/3635)\u001b[K\r"
     ]
    },
    {
     "name": "stdout",
     "output_type": "stream",
     "text": [
      "remote: Counting objects:  75% (2727/3635)\u001b[K\r"
     ]
    },
    {
     "name": "stdout",
     "output_type": "stream",
     "text": [
      "remote: Counting objects:  76% (2763/3635)\u001b[K\r"
     ]
    },
    {
     "name": "stdout",
     "output_type": "stream",
     "text": [
      "remote: Counting objects:  77% (2799/3635)\u001b[K\r"
     ]
    },
    {
     "name": "stdout",
     "output_type": "stream",
     "text": [
      "remote: Counting objects:  78% (2836/3635)\u001b[K\r"
     ]
    },
    {
     "name": "stdout",
     "output_type": "stream",
     "text": [
      "remote: Counting objects:  79% (2872/3635)\u001b[K\r"
     ]
    },
    {
     "name": "stdout",
     "output_type": "stream",
     "text": [
      "remote: Counting objects:  80% (2908/3635)\u001b[K\r"
     ]
    },
    {
     "name": "stdout",
     "output_type": "stream",
     "text": [
      "remote: Counting objects:  81% (2945/3635)\u001b[K\r"
     ]
    },
    {
     "name": "stdout",
     "output_type": "stream",
     "text": [
      "remote: Counting objects:  82% (2981/3635)\u001b[K\r"
     ]
    },
    {
     "name": "stdout",
     "output_type": "stream",
     "text": [
      "remote: Counting objects:  83% (3018/3635)\u001b[K\r"
     ]
    },
    {
     "name": "stdout",
     "output_type": "stream",
     "text": [
      "remote: Counting objects:  84% (3054/3635)\u001b[K\r"
     ]
    },
    {
     "name": "stdout",
     "output_type": "stream",
     "text": [
      "remote: Counting objects:  85% (3090/3635)\u001b[K\r"
     ]
    },
    {
     "name": "stdout",
     "output_type": "stream",
     "text": [
      "remote: Counting objects:  86% (3127/3635)\u001b[K\r"
     ]
    },
    {
     "name": "stdout",
     "output_type": "stream",
     "text": [
      "remote: Counting objects:  87% (3163/3635)\u001b[K\r"
     ]
    },
    {
     "name": "stdout",
     "output_type": "stream",
     "text": [
      "remote: Counting objects:  88% (3199/3635)\u001b[K\r"
     ]
    },
    {
     "name": "stdout",
     "output_type": "stream",
     "text": [
      "remote: Counting objects:  89% (3236/3635)\u001b[K\r"
     ]
    },
    {
     "name": "stdout",
     "output_type": "stream",
     "text": [
      "remote: Counting objects:  90% (3272/3635)\u001b[K\r"
     ]
    },
    {
     "name": "stdout",
     "output_type": "stream",
     "text": [
      "remote: Counting objects:  91% (3308/3635)\u001b[K\r"
     ]
    },
    {
     "name": "stdout",
     "output_type": "stream",
     "text": [
      "remote: Counting objects:  92% (3345/3635)\u001b[K\r"
     ]
    },
    {
     "name": "stdout",
     "output_type": "stream",
     "text": [
      "remote: Counting objects:  93% (3381/3635)\u001b[K\r"
     ]
    },
    {
     "name": "stdout",
     "output_type": "stream",
     "text": [
      "remote: Counting objects:  94% (3417/3635)\u001b[K\r"
     ]
    },
    {
     "name": "stdout",
     "output_type": "stream",
     "text": [
      "remote: Counting objects:  95% (3454/3635)\u001b[K\r"
     ]
    },
    {
     "name": "stdout",
     "output_type": "stream",
     "text": [
      "remote: Counting objects:  96% (3490/3635)\u001b[K\r"
     ]
    },
    {
     "name": "stdout",
     "output_type": "stream",
     "text": [
      "remote: Counting objects:  97% (3526/3635)\u001b[K\r"
     ]
    },
    {
     "name": "stdout",
     "output_type": "stream",
     "text": [
      "remote: Counting objects:  98% (3563/3635)\u001b[K\r"
     ]
    },
    {
     "name": "stdout",
     "output_type": "stream",
     "text": [
      "remote: Counting objects:  99% (3599/3635)\u001b[K\r"
     ]
    },
    {
     "name": "stdout",
     "output_type": "stream",
     "text": [
      "remote: Counting objects: 100% (3635/3635)\u001b[K\r"
     ]
    },
    {
     "name": "stdout",
     "output_type": "stream",
     "text": [
      "remote: Counting objects: 100% (3635/3635), done.\u001b[K\n"
     ]
    },
    {
     "name": "stdout",
     "output_type": "stream",
     "text": [
      "remote: Compressing objects:   0% (1/1196)\u001b[K\r"
     ]
    },
    {
     "name": "stdout",
     "output_type": "stream",
     "text": [
      "remote: Compressing objects:   1% (12/1196)\u001b[K\r"
     ]
    },
    {
     "name": "stdout",
     "output_type": "stream",
     "text": [
      "remote: Compressing objects:   2% (24/1196)\u001b[K\r"
     ]
    },
    {
     "name": "stdout",
     "output_type": "stream",
     "text": [
      "remote: Compressing objects:   3% (36/1196)\u001b[K\r"
     ]
    },
    {
     "name": "stdout",
     "output_type": "stream",
     "text": [
      "remote: Compressing objects:   4% (48/1196)\u001b[K\r"
     ]
    },
    {
     "name": "stdout",
     "output_type": "stream",
     "text": [
      "remote: Compressing objects:   5% (60/1196)\u001b[K\r"
     ]
    },
    {
     "name": "stdout",
     "output_type": "stream",
     "text": [
      "remote: Compressing objects:   6% (72/1196)\u001b[K\r"
     ]
    },
    {
     "name": "stdout",
     "output_type": "stream",
     "text": [
      "remote: Compressing objects:   7% (84/1196)\u001b[K\r"
     ]
    },
    {
     "name": "stdout",
     "output_type": "stream",
     "text": [
      "remote: Compressing objects:   8% (96/1196)\u001b[K\r"
     ]
    },
    {
     "name": "stdout",
     "output_type": "stream",
     "text": [
      "remote: Compressing objects:   9% (108/1196)\u001b[K\r"
     ]
    },
    {
     "name": "stdout",
     "output_type": "stream",
     "text": [
      "remote: Compressing objects:  10% (120/1196)\u001b[K\r"
     ]
    },
    {
     "name": "stdout",
     "output_type": "stream",
     "text": [
      "remote: Compressing objects:  11% (132/1196)\u001b[K\r"
     ]
    },
    {
     "name": "stdout",
     "output_type": "stream",
     "text": [
      "remote: Compressing objects:  12% (144/1196)\u001b[K\r"
     ]
    },
    {
     "name": "stdout",
     "output_type": "stream",
     "text": [
      "remote: Compressing objects:  13% (156/1196)\u001b[K\r"
     ]
    },
    {
     "name": "stdout",
     "output_type": "stream",
     "text": [
      "remote: Compressing objects:  14% (168/1196)\u001b[K\r"
     ]
    },
    {
     "name": "stdout",
     "output_type": "stream",
     "text": [
      "remote: Compressing objects:  15% (180/1196)\u001b[K\r"
     ]
    },
    {
     "name": "stdout",
     "output_type": "stream",
     "text": [
      "remote: Compressing objects:  16% (192/1196)\u001b[K\r"
     ]
    },
    {
     "name": "stdout",
     "output_type": "stream",
     "text": [
      "remote: Compressing objects:  17% (204/1196)\u001b[K\r"
     ]
    },
    {
     "name": "stdout",
     "output_type": "stream",
     "text": [
      "remote: Compressing objects:  18% (216/1196)\u001b[K\r"
     ]
    },
    {
     "name": "stdout",
     "output_type": "stream",
     "text": [
      "remote: Compressing objects:  19% (228/1196)\u001b[K\r"
     ]
    },
    {
     "name": "stdout",
     "output_type": "stream",
     "text": [
      "remote: Compressing objects:  20% (240/1196)\u001b[K\r"
     ]
    },
    {
     "name": "stdout",
     "output_type": "stream",
     "text": [
      "remote: Compressing objects:  21% (252/1196)\u001b[K\r"
     ]
    },
    {
     "name": "stdout",
     "output_type": "stream",
     "text": [
      "remote: Compressing objects:  22% (264/1196)\u001b[K\r"
     ]
    },
    {
     "name": "stdout",
     "output_type": "stream",
     "text": [
      "remote: Compressing objects:  23% (276/1196)\u001b[K\r"
     ]
    },
    {
     "name": "stdout",
     "output_type": "stream",
     "text": [
      "remote: Compressing objects:  24% (288/1196)\u001b[K\r"
     ]
    },
    {
     "name": "stdout",
     "output_type": "stream",
     "text": [
      "remote: Compressing objects:  25% (299/1196)\u001b[K\r"
     ]
    },
    {
     "name": "stdout",
     "output_type": "stream",
     "text": [
      "remote: Compressing objects:  26% (311/1196)\u001b[K\r"
     ]
    },
    {
     "name": "stdout",
     "output_type": "stream",
     "text": [
      "remote: Compressing objects:  27% (323/1196)\u001b[K\r"
     ]
    },
    {
     "name": "stdout",
     "output_type": "stream",
     "text": [
      "remote: Compressing objects:  28% (335/1196)\u001b[K\r"
     ]
    },
    {
     "name": "stdout",
     "output_type": "stream",
     "text": [
      "remote: Compressing objects:  29% (347/1196)\u001b[K\r"
     ]
    },
    {
     "name": "stdout",
     "output_type": "stream",
     "text": [
      "remote: Compressing objects:  30% (359/1196)\u001b[K\r"
     ]
    },
    {
     "name": "stdout",
     "output_type": "stream",
     "text": [
      "remote: Compressing objects:  31% (371/1196)\u001b[K\r"
     ]
    },
    {
     "name": "stdout",
     "output_type": "stream",
     "text": [
      "remote: Compressing objects:  32% (383/1196)\u001b[K\r"
     ]
    },
    {
     "name": "stdout",
     "output_type": "stream",
     "text": [
      "remote: Compressing objects:  33% (395/1196)\u001b[K\r"
     ]
    },
    {
     "name": "stdout",
     "output_type": "stream",
     "text": [
      "remote: Compressing objects:  34% (407/1196)\u001b[K\r"
     ]
    },
    {
     "name": "stdout",
     "output_type": "stream",
     "text": [
      "remote: Compressing objects:  35% (419/1196)\u001b[K\r"
     ]
    },
    {
     "name": "stdout",
     "output_type": "stream",
     "text": [
      "remote: Compressing objects:  36% (431/1196)\u001b[K\r"
     ]
    },
    {
     "name": "stdout",
     "output_type": "stream",
     "text": [
      "remote: Compressing objects:  37% (443/1196)\u001b[K\r"
     ]
    },
    {
     "name": "stdout",
     "output_type": "stream",
     "text": [
      "remote: Compressing objects:  38% (455/1196)\u001b[K\r"
     ]
    },
    {
     "name": "stdout",
     "output_type": "stream",
     "text": [
      "remote: Compressing objects:  39% (467/1196)\u001b[K\r"
     ]
    },
    {
     "name": "stdout",
     "output_type": "stream",
     "text": [
      "remote: Compressing objects:  40% (479/1196)\u001b[K\r"
     ]
    },
    {
     "name": "stdout",
     "output_type": "stream",
     "text": [
      "remote: Compressing objects:  41% (491/1196)\u001b[K\r"
     ]
    },
    {
     "name": "stdout",
     "output_type": "stream",
     "text": [
      "remote: Compressing objects:  42% (503/1196)\u001b[K\r"
     ]
    },
    {
     "name": "stdout",
     "output_type": "stream",
     "text": [
      "remote: Compressing objects:  43% (515/1196)\u001b[K\r"
     ]
    },
    {
     "name": "stdout",
     "output_type": "stream",
     "text": [
      "remote: Compressing objects:  44% (527/1196)\u001b[K\r"
     ]
    },
    {
     "name": "stdout",
     "output_type": "stream",
     "text": [
      "remote: Compressing objects:  45% (539/1196)\u001b[K\r"
     ]
    },
    {
     "name": "stdout",
     "output_type": "stream",
     "text": [
      "remote: Compressing objects:  46% (551/1196)\u001b[K\r"
     ]
    },
    {
     "name": "stdout",
     "output_type": "stream",
     "text": [
      "remote: Compressing objects:  47% (563/1196)\u001b[K\r"
     ]
    },
    {
     "name": "stdout",
     "output_type": "stream",
     "text": [
      "remote: Compressing objects:  48% (575/1196)\u001b[K\r"
     ]
    },
    {
     "name": "stdout",
     "output_type": "stream",
     "text": [
      "remote: Compressing objects:  49% (587/1196)\u001b[K\r"
     ]
    },
    {
     "name": "stdout",
     "output_type": "stream",
     "text": [
      "remote: Compressing objects:  50% (598/1196)\u001b[K\r"
     ]
    },
    {
     "name": "stdout",
     "output_type": "stream",
     "text": [
      "remote: Compressing objects:  51% (610/1196)\u001b[K\r"
     ]
    },
    {
     "name": "stdout",
     "output_type": "stream",
     "text": [
      "remote: Compressing objects:  52% (622/1196)\u001b[K\r"
     ]
    },
    {
     "name": "stdout",
     "output_type": "stream",
     "text": [
      "remote: Compressing objects:  53% (634/1196)\u001b[K\r"
     ]
    },
    {
     "name": "stdout",
     "output_type": "stream",
     "text": [
      "remote: Compressing objects:  54% (646/1196)\u001b[K\r"
     ]
    },
    {
     "name": "stdout",
     "output_type": "stream",
     "text": [
      "remote: Compressing objects:  55% (658/1196)\u001b[K\r"
     ]
    },
    {
     "name": "stdout",
     "output_type": "stream",
     "text": [
      "remote: Compressing objects:  56% (670/1196)\u001b[K\r"
     ]
    },
    {
     "name": "stdout",
     "output_type": "stream",
     "text": [
      "remote: Compressing objects:  57% (682/1196)\u001b[K\r"
     ]
    },
    {
     "name": "stdout",
     "output_type": "stream",
     "text": [
      "remote: Compressing objects:  58% (694/1196)\u001b[K\r"
     ]
    },
    {
     "name": "stdout",
     "output_type": "stream",
     "text": [
      "remote: Compressing objects:  59% (706/1196)\u001b[K\r"
     ]
    },
    {
     "name": "stdout",
     "output_type": "stream",
     "text": [
      "remote: Compressing objects:  60% (718/1196)\u001b[K\r"
     ]
    },
    {
     "name": "stdout",
     "output_type": "stream",
     "text": [
      "remote: Compressing objects:  61% (730/1196)\u001b[K\r"
     ]
    },
    {
     "name": "stdout",
     "output_type": "stream",
     "text": [
      "remote: Compressing objects:  62% (742/1196)\u001b[K\r"
     ]
    },
    {
     "name": "stdout",
     "output_type": "stream",
     "text": [
      "remote: Compressing objects:  63% (754/1196)\u001b[K\r"
     ]
    },
    {
     "name": "stdout",
     "output_type": "stream",
     "text": [
      "remote: Compressing objects:  64% (766/1196)\u001b[K\r"
     ]
    },
    {
     "name": "stdout",
     "output_type": "stream",
     "text": [
      "remote: Compressing objects:  65% (778/1196)\u001b[K\r"
     ]
    },
    {
     "name": "stdout",
     "output_type": "stream",
     "text": [
      "remote: Compressing objects:  66% (790/1196)\u001b[K\r"
     ]
    },
    {
     "name": "stdout",
     "output_type": "stream",
     "text": [
      "remote: Compressing objects:  67% (802/1196)\u001b[K\r"
     ]
    },
    {
     "name": "stdout",
     "output_type": "stream",
     "text": [
      "remote: Compressing objects:  68% (814/1196)\u001b[K\r"
     ]
    },
    {
     "name": "stdout",
     "output_type": "stream",
     "text": [
      "remote: Compressing objects:  69% (826/1196)\u001b[K\r"
     ]
    },
    {
     "name": "stdout",
     "output_type": "stream",
     "text": [
      "remote: Compressing objects:  70% (838/1196)\u001b[K\r"
     ]
    },
    {
     "name": "stdout",
     "output_type": "stream",
     "text": [
      "remote: Compressing objects:  71% (850/1196)\u001b[K\r"
     ]
    },
    {
     "name": "stdout",
     "output_type": "stream",
     "text": [
      "remote: Compressing objects:  72% (862/1196)\u001b[K\r"
     ]
    },
    {
     "name": "stdout",
     "output_type": "stream",
     "text": [
      "remote: Compressing objects:  73% (874/1196)\u001b[K\r"
     ]
    },
    {
     "name": "stdout",
     "output_type": "stream",
     "text": [
      "remote: Compressing objects:  74% (886/1196)\u001b[K\r"
     ]
    },
    {
     "name": "stdout",
     "output_type": "stream",
     "text": [
      "remote: Compressing objects:  75% (897/1196)\u001b[K\r"
     ]
    },
    {
     "name": "stdout",
     "output_type": "stream",
     "text": [
      "remote: Compressing objects:  76% (909/1196)\u001b[K\r"
     ]
    },
    {
     "name": "stdout",
     "output_type": "stream",
     "text": [
      "remote: Compressing objects:  77% (921/1196)\u001b[K\r"
     ]
    },
    {
     "name": "stdout",
     "output_type": "stream",
     "text": [
      "remote: Compressing objects:  78% (933/1196)\u001b[K\r"
     ]
    },
    {
     "name": "stdout",
     "output_type": "stream",
     "text": [
      "remote: Compressing objects:  79% (945/1196)\u001b[K\r"
     ]
    },
    {
     "name": "stdout",
     "output_type": "stream",
     "text": [
      "remote: Compressing objects:  80% (957/1196)\u001b[K\r"
     ]
    },
    {
     "name": "stdout",
     "output_type": "stream",
     "text": [
      "remote: Compressing objects:  81% (969/1196)\u001b[K\r"
     ]
    },
    {
     "name": "stdout",
     "output_type": "stream",
     "text": [
      "remote: Compressing objects:  82% (981/1196)\u001b[K\r"
     ]
    },
    {
     "name": "stdout",
     "output_type": "stream",
     "text": [
      "remote: Compressing objects:  83% (993/1196)\u001b[K\r"
     ]
    },
    {
     "name": "stdout",
     "output_type": "stream",
     "text": [
      "remote: Compressing objects:  84% (1005/1196)\u001b[K\r"
     ]
    },
    {
     "name": "stdout",
     "output_type": "stream",
     "text": [
      "remote: Compressing objects:  85% (1017/1196)\u001b[K\r"
     ]
    },
    {
     "name": "stdout",
     "output_type": "stream",
     "text": [
      "remote: Compressing objects:  86% (1029/1196)\u001b[K\r"
     ]
    },
    {
     "name": "stdout",
     "output_type": "stream",
     "text": [
      "remote: Compressing objects:  87% (1041/1196)\u001b[K\r"
     ]
    },
    {
     "name": "stdout",
     "output_type": "stream",
     "text": [
      "remote: Compressing objects:  88% (1053/1196)\u001b[K\r"
     ]
    },
    {
     "name": "stdout",
     "output_type": "stream",
     "text": [
      "remote: Compressing objects:  89% (1065/1196)\u001b[K\r"
     ]
    },
    {
     "name": "stdout",
     "output_type": "stream",
     "text": [
      "remote: Compressing objects:  90% (1077/1196)\u001b[K\r"
     ]
    },
    {
     "name": "stdout",
     "output_type": "stream",
     "text": [
      "remote: Compressing objects:  91% (1089/1196)\u001b[K\r"
     ]
    },
    {
     "name": "stdout",
     "output_type": "stream",
     "text": [
      "remote: Compressing objects:  92% (1101/1196)\u001b[K\r"
     ]
    },
    {
     "name": "stdout",
     "output_type": "stream",
     "text": [
      "remote: Compressing objects:  93% (1113/1196)\u001b[K\r"
     ]
    },
    {
     "name": "stdout",
     "output_type": "stream",
     "text": [
      "remote: Compressing objects:  94% (1125/1196)\u001b[K\r"
     ]
    },
    {
     "name": "stdout",
     "output_type": "stream",
     "text": [
      "remote: Compressing objects:  95% (1137/1196)\u001b[K\r"
     ]
    },
    {
     "name": "stdout",
     "output_type": "stream",
     "text": [
      "remote: Compressing objects:  96% (1149/1196)\u001b[K\r"
     ]
    },
    {
     "name": "stdout",
     "output_type": "stream",
     "text": [
      "remote: Compressing objects:  97% (1161/1196)\u001b[K\r"
     ]
    },
    {
     "name": "stdout",
     "output_type": "stream",
     "text": [
      "remote: Compressing objects:  98% (1173/1196)\u001b[K\r"
     ]
    },
    {
     "name": "stdout",
     "output_type": "stream",
     "text": [
      "remote: Compressing objects:  99% (1185/1196)\u001b[K\r"
     ]
    },
    {
     "name": "stdout",
     "output_type": "stream",
     "text": [
      "remote: Compressing objects: 100% (1196/1196)\u001b[K\r"
     ]
    },
    {
     "name": "stdout",
     "output_type": "stream",
     "text": [
      "remote: Compressing objects: 100% (1196/1196), done.\u001b[K\n"
     ]
    },
    {
     "name": "stdout",
     "output_type": "stream",
     "text": [
      "Recibiendo objetos:   0% (1/103040)\r"
     ]
    },
    {
     "name": "stdout",
     "output_type": "stream",
     "text": [
      "Recibiendo objetos:   1% (1031/103040)\r"
     ]
    },
    {
     "name": "stdout",
     "output_type": "stream",
     "text": [
      "Recibiendo objetos:   2% (2061/103040)\r"
     ]
    },
    {
     "name": "stdout",
     "output_type": "stream",
     "text": [
      "Recibiendo objetos:   3% (3092/103040)\r"
     ]
    },
    {
     "name": "stdout",
     "output_type": "stream",
     "text": [
      "Recibiendo objetos:   4% (4122/103040)\r"
     ]
    },
    {
     "name": "stdout",
     "output_type": "stream",
     "text": [
      "Recibiendo objetos:   5% (5152/103040)\r"
     ]
    },
    {
     "name": "stdout",
     "output_type": "stream",
     "text": [
      "Recibiendo objetos:   6% (6183/103040)\r"
     ]
    },
    {
     "name": "stdout",
     "output_type": "stream",
     "text": [
      "Recibiendo objetos:   7% (7213/103040)\r"
     ]
    },
    {
     "name": "stdout",
     "output_type": "stream",
     "text": [
      "Recibiendo objetos:   8% (8244/103040)\r"
     ]
    },
    {
     "name": "stdout",
     "output_type": "stream",
     "text": [
      "Recibiendo objetos:   9% (9274/103040)\r"
     ]
    },
    {
     "name": "stdout",
     "output_type": "stream",
     "text": [
      "Recibiendo objetos:  10% (10304/103040)\r"
     ]
    },
    {
     "name": "stdout",
     "output_type": "stream",
     "text": [
      "Recibiendo objetos:  11% (11335/103040)\r"
     ]
    },
    {
     "name": "stdout",
     "output_type": "stream",
     "text": [
      "Recibiendo objetos:  12% (12365/103040)\r"
     ]
    },
    {
     "name": "stdout",
     "output_type": "stream",
     "text": [
      "Recibiendo objetos:  13% (13396/103040)\r"
     ]
    },
    {
     "name": "stdout",
     "output_type": "stream",
     "text": [
      "Recibiendo objetos:  14% (14426/103040)\r"
     ]
    },
    {
     "name": "stdout",
     "output_type": "stream",
     "text": [
      "Recibiendo objetos:  15% (15456/103040), 2.95 MiB | 5.56 MiB/s\r"
     ]
    },
    {
     "name": "stdout",
     "output_type": "stream",
     "text": [
      "Recibiendo objetos:  15% (16162/103040), 2.95 MiB | 5.56 MiB/s\r"
     ]
    },
    {
     "name": "stdout",
     "output_type": "stream",
     "text": [
      "Recibiendo objetos:  16% (16487/103040), 5.69 MiB | 5.52 MiB/s\r"
     ]
    },
    {
     "name": "stdout",
     "output_type": "stream",
     "text": [
      "Recibiendo objetos:  17% (17517/103040), 7.33 MiB | 4.79 MiB/s\r"
     ]
    },
    {
     "name": "stdout",
     "output_type": "stream",
     "text": [
      "Recibiendo objetos:  17% (17774/103040), 7.33 MiB | 4.79 MiB/s\r"
     ]
    },
    {
     "name": "stdout",
     "output_type": "stream",
     "text": [
      "Recibiendo objetos:  18% (18548/103040), 8.93 MiB | 3.50 MiB/s\r"
     ]
    },
    {
     "name": "stdout",
     "output_type": "stream",
     "text": [
      "Recibiendo objetos:  18% (19522/103040), 8.93 MiB | 3.50 MiB/s\r"
     ]
    },
    {
     "name": "stdout",
     "output_type": "stream",
     "text": [
      "Recibiendo objetos:  19% (19578/103040), 8.93 MiB | 3.50 MiB/s\r"
     ]
    },
    {
     "name": "stdout",
     "output_type": "stream",
     "text": [
      "Recibiendo objetos:  20% (20608/103040), 9.79 MiB | 3.18 MiB/s\r"
     ]
    },
    {
     "name": "stdout",
     "output_type": "stream",
     "text": [
      "Recibiendo objetos:  21% (21639/103040), 10.68 MiB | 2.96 MiB/s\r"
     ]
    },
    {
     "name": "stdout",
     "output_type": "stream",
     "text": [
      "Recibiendo objetos:  21% (22173/103040), 10.68 MiB | 2.96 MiB/s\r"
     ]
    },
    {
     "name": "stdout",
     "output_type": "stream",
     "text": [
      "Recibiendo objetos:  22% (22669/103040), 11.59 MiB | 2.82 MiB/s\r"
     ]
    },
    {
     "name": "stdout",
     "output_type": "stream",
     "text": [
      "Recibiendo objetos:  23% (23700/103040), 12.46 MiB | 2.69 MiB/s\r"
     ]
    },
    {
     "name": "stdout",
     "output_type": "stream",
     "text": [
      "Recibiendo objetos:  23% (23882/103040), 12.46 MiB | 2.69 MiB/s\r"
     ]
    },
    {
     "name": "stdout",
     "output_type": "stream",
     "text": [
      "Recibiendo objetos:  24% (24730/103040), 13.60 MiB | 1.70 MiB/s\r"
     ]
    },
    {
     "name": "stdout",
     "output_type": "stream",
     "text": [
      "Recibiendo objetos:  24% (24932/103040), 13.60 MiB | 1.70 MiB/s\r"
     ]
    },
    {
     "name": "stdout",
     "output_type": "stream",
     "text": [
      "Recibiendo objetos:  24% (25658/103040), 14.71 MiB | 1.41 MiB/s\r"
     ]
    },
    {
     "name": "stdout",
     "output_type": "stream",
     "text": [
      "Recibiendo objetos:  25% (25760/103040), 14.71 MiB | 1.41 MiB/s\r"
     ]
    },
    {
     "name": "stdout",
     "output_type": "stream",
     "text": [
      "Recibiendo objetos:  26% (26791/103040), 15.59 MiB | 1.24 MiB/s\r"
     ]
    },
    {
     "name": "stdout",
     "output_type": "stream",
     "text": [
      "Recibiendo objetos:  26% (26846/103040), 15.59 MiB | 1.24 MiB/s\r"
     ]
    },
    {
     "name": "stdout",
     "output_type": "stream",
     "text": [
      "Recibiendo objetos:  27% (27821/103040), 16.07 MiB | 1.15 MiB/s\r"
     ]
    },
    {
     "name": "stdout",
     "output_type": "stream",
     "text": [
      "Recibiendo objetos:  28% (28852/103040), 16.61 MiB | 1.07 MiB/s\r"
     ]
    },
    {
     "name": "stdout",
     "output_type": "stream",
     "text": [
      "Recibiendo objetos:  28% (28894/103040), 16.61 MiB | 1.07 MiB/s\r"
     ]
    },
    {
     "name": "stdout",
     "output_type": "stream",
     "text": [
      "Recibiendo objetos:  29% (29882/103040), 17.18 MiB | 1.00 MiB/s\r"
     ]
    },
    {
     "name": "stdout",
     "output_type": "stream",
     "text": [
      "Recibiendo objetos:  30% (30912/103040), 17.18 MiB | 1.00 MiB/s\r"
     ]
    },
    {
     "name": "stdout",
     "output_type": "stream",
     "text": [
      "Recibiendo objetos:  31% (31943/103040), 17.71 MiB | 1014.00 KiB/s\r"
     ]
    },
    {
     "name": "stdout",
     "output_type": "stream",
     "text": [
      "Recibiendo objetos:  31% (32256/103040), 17.71 MiB | 1014.00 KiB/s\r"
     ]
    },
    {
     "name": "stdout",
     "output_type": "stream",
     "text": [
      "Recibiendo objetos:  32% (32973/103040), 17.71 MiB | 1014.00 KiB/s\r"
     ]
    },
    {
     "name": "stdout",
     "output_type": "stream",
     "text": [
      "Recibiendo objetos:  33% (34004/103040), 18.25 MiB | 1013.00 KiB/s\r"
     ]
    },
    {
     "name": "stdout",
     "output_type": "stream",
     "text": [
      "Recibiendo objetos:  34% (35034/103040), 18.25 MiB | 1013.00 KiB/s\r"
     ]
    },
    {
     "name": "stdout",
     "output_type": "stream",
     "text": [
      "Recibiendo objetos:  35% (36064/103040), 18.25 MiB | 1013.00 KiB/s\r"
     ]
    },
    {
     "name": "stdout",
     "output_type": "stream",
     "text": [
      "Recibiendo objetos:  36% (37095/103040), 18.25 MiB | 1013.00 KiB/s\r"
     ]
    },
    {
     "name": "stdout",
     "output_type": "stream",
     "text": [
      "Recibiendo objetos:  37% (38125/103040), 18.84 MiB | 999.00 KiB/s \r"
     ]
    },
    {
     "name": "stdout",
     "output_type": "stream",
     "text": [
      "Recibiendo objetos:  37% (39092/103040), 18.84 MiB | 999.00 KiB/s\r"
     ]
    },
    {
     "name": "stdout",
     "output_type": "stream",
     "text": [
      "Recibiendo objetos:  38% (39156/103040), 18.84 MiB | 999.00 KiB/s\r"
     ]
    },
    {
     "name": "stdout",
     "output_type": "stream",
     "text": [
      "Recibiendo objetos:  39% (40186/103040), 18.84 MiB | 999.00 KiB/s\r"
     ]
    },
    {
     "name": "stdout",
     "output_type": "stream",
     "text": [
      "Recibiendo objetos:  40% (41216/103040), 18.84 MiB | 999.00 KiB/s\r"
     ]
    },
    {
     "name": "stdout",
     "output_type": "stream",
     "text": [
      "Recibiendo objetos:  41% (42247/103040), 18.84 MiB | 999.00 KiB/s\r"
     ]
    },
    {
     "name": "stdout",
     "output_type": "stream",
     "text": [
      "Recibiendo objetos:  42% (43277/103040), 19.46 MiB | 1.01 MiB/s  \r"
     ]
    },
    {
     "name": "stdout",
     "output_type": "stream",
     "text": [
      "Recibiendo objetos:  43% (44308/103040), 19.46 MiB | 1.01 MiB/s\r"
     ]
    },
    {
     "name": "stdout",
     "output_type": "stream",
     "text": [
      "Recibiendo objetos:  44% (45338/103040), 19.46 MiB | 1.01 MiB/s\r"
     ]
    },
    {
     "name": "stdout",
     "output_type": "stream",
     "text": [
      "Recibiendo objetos:  44% (45904/103040), 20.14 MiB | 1.06 MiB/s\r"
     ]
    },
    {
     "name": "stdout",
     "output_type": "stream",
     "text": [
      "Recibiendo objetos:  45% (46368/103040), 20.14 MiB | 1.06 MiB/s\r"
     ]
    },
    {
     "name": "stdout",
     "output_type": "stream",
     "text": [
      "Recibiendo objetos:  46% (47399/103040), 20.14 MiB | 1.06 MiB/s\r"
     ]
    },
    {
     "name": "stdout",
     "output_type": "stream",
     "text": [
      "Recibiendo objetos:  47% (48429/103040), 20.14 MiB | 1.06 MiB/s\r"
     ]
    },
    {
     "name": "stdout",
     "output_type": "stream",
     "text": [
      "Recibiendo objetos:  48% (49460/103040), 20.86 MiB | 1.11 MiB/s\r"
     ]
    },
    {
     "name": "stdout",
     "output_type": "stream",
     "text": [
      "Recibiendo objetos:  48% (49586/103040), 21.38 MiB | 1.12 MiB/s\r"
     ]
    },
    {
     "name": "stdout",
     "output_type": "stream",
     "text": [
      "Recibiendo objetos:  48% (50414/103040), 21.88 MiB | 1.11 MiB/s\r"
     ]
    },
    {
     "name": "stdout",
     "output_type": "stream",
     "text": [
      "Recibiendo objetos:  49% (50490/103040), 22.37 MiB | 1.10 MiB/s\r"
     ]
    },
    {
     "name": "stdout",
     "output_type": "stream",
     "text": [
      "Recibiendo objetos:  50% (51520/103040), 22.77 MiB | 1.07 MiB/s\r"
     ]
    },
    {
     "name": "stdout",
     "output_type": "stream",
     "text": [
      "Recibiendo objetos:  50% (51801/103040), 22.77 MiB | 1.07 MiB/s\r"
     ]
    },
    {
     "name": "stdout",
     "output_type": "stream",
     "text": [
      "Recibiendo objetos:  51% (52551/103040), 23.14 MiB | 1.03 MiB/s\r"
     ]
    },
    {
     "name": "stdout",
     "output_type": "stream",
     "text": [
      "Recibiendo objetos:  51% (53240/103040), 23.49 MiB | 1005.00 KiB/s\r"
     ]
    },
    {
     "name": "stdout",
     "output_type": "stream",
     "text": [
      "Recibiendo objetos:  52% (53581/103040), 23.49 MiB | 1005.00 KiB/s\r"
     ]
    },
    {
     "name": "stdout",
     "output_type": "stream",
     "text": [
      "Recibiendo objetos:  52% (54112/103040), 24.16 MiB | 868.00 KiB/s \r"
     ]
    },
    {
     "name": "stdout",
     "output_type": "stream",
     "text": [
      "Recibiendo objetos:  53% (54612/103040), 24.53 MiB | 794.00 KiB/s\r"
     ]
    },
    {
     "name": "stdout",
     "output_type": "stream",
     "text": [
      "Recibiendo objetos:  53% (55101/103040), 24.95 MiB | 772.00 KiB/s\r"
     ]
    },
    {
     "name": "stdout",
     "output_type": "stream",
     "text": [
      "Recibiendo objetos:  54% (55642/103040), 25.79 MiB | 738.00 KiB/s\r"
     ]
    },
    {
     "name": "stdout",
     "output_type": "stream",
     "text": [
      "Recibiendo objetos:  54% (55807/103040), 25.79 MiB | 738.00 KiB/s\r"
     ]
    },
    {
     "name": "stdout",
     "output_type": "stream",
     "text": [
      "Recibiendo objetos:  55% (56672/103040), 26.24 MiB | 750.00 KiB/s\r"
     ]
    },
    {
     "name": "stdout",
     "output_type": "stream",
     "text": [
      "Recibiendo objetos:  55% (56847/103040), 26.61 MiB | 750.00 KiB/s\r"
     ]
    },
    {
     "name": "stdout",
     "output_type": "stream",
     "text": [
      "Recibiendo objetos:  56% (57703/103040), 27.00 MiB | 759.00 KiB/s\r"
     ]
    },
    {
     "name": "stdout",
     "output_type": "stream",
     "text": [
      "Recibiendo objetos:  56% (57830/103040), 27.44 MiB | 787.00 KiB/s\r"
     ]
    },
    {
     "name": "stdout",
     "output_type": "stream",
     "text": [
      "Recibiendo objetos:  57% (58733/103040), 27.93 MiB | 816.00 KiB/s\r"
     ]
    },
    {
     "name": "stdout",
     "output_type": "stream",
     "text": [
      "Recibiendo objetos:  58% (59764/103040), 27.93 MiB | 816.00 KiB/s\r"
     ]
    },
    {
     "name": "stdout",
     "output_type": "stream",
     "text": [
      "Recibiendo objetos:  58% (60419/103040), 28.49 MiB | 857.00 KiB/s\r"
     ]
    },
    {
     "name": "stdout",
     "output_type": "stream",
     "text": [
      "Recibiendo objetos:  59% (60794/103040), 28.49 MiB | 857.00 KiB/s\r"
     ]
    },
    {
     "name": "stdout",
     "output_type": "stream",
     "text": [
      "Recibiendo objetos:  60% (61824/103040), 28.49 MiB | 857.00 KiB/s\r"
     ]
    },
    {
     "name": "stdout",
     "output_type": "stream",
     "text": [
      "Recibiendo objetos:  61% (62855/103040), 29.11 MiB | 899.00 KiB/s\r"
     ]
    },
    {
     "name": "stdout",
     "output_type": "stream",
     "text": [
      "Recibiendo objetos:  61% (62899/103040), 29.77 MiB | 947.00 KiB/s\r"
     ]
    },
    {
     "name": "stdout",
     "output_type": "stream",
     "text": [
      "Recibiendo objetos:  62% (63885/103040), 29.77 MiB | 947.00 KiB/s\r"
     ]
    },
    {
     "name": "stdout",
     "output_type": "stream",
     "text": [
      "Recibiendo objetos:  63% (64916/103040), 29.77 MiB | 947.00 KiB/s\r"
     ]
    },
    {
     "name": "stdout",
     "output_type": "stream",
     "text": [
      "Recibiendo objetos:  64% (65946/103040), 29.77 MiB | 947.00 KiB/s\r"
     ]
    },
    {
     "name": "stdout",
     "output_type": "stream",
     "text": [
      "Recibiendo objetos:  65% (66976/103040), 29.77 MiB | 947.00 KiB/s\r"
     ]
    },
    {
     "name": "stdout",
     "output_type": "stream",
     "text": [
      "Recibiendo objetos:  66% (68007/103040), 29.77 MiB | 947.00 KiB/s\r"
     ]
    },
    {
     "name": "stdout",
     "output_type": "stream",
     "text": [
      "Recibiendo objetos:  67% (69037/103040), 30.33 MiB | 984.00 KiB/s\r"
     ]
    },
    {
     "name": "stdout",
     "output_type": "stream",
     "text": [
      "Recibiendo objetos:  68% (70068/103040), 30.33 MiB | 984.00 KiB/s\r"
     ]
    },
    {
     "name": "stdout",
     "output_type": "stream",
     "text": [
      "Recibiendo objetos:  69% (71098/103040), 30.33 MiB | 984.00 KiB/s\r"
     ]
    },
    {
     "name": "stdout",
     "output_type": "stream",
     "text": [
      "Recibiendo objetos:  69% (71169/103040), 30.33 MiB | 984.00 KiB/s\r"
     ]
    },
    {
     "name": "stdout",
     "output_type": "stream",
     "text": [
      "Recibiendo objetos:  70% (72128/103040), 30.93 MiB | 1016.00 KiB/s\r"
     ]
    },
    {
     "name": "stdout",
     "output_type": "stream",
     "text": [
      "Recibiendo objetos:  71% (73159/103040), 30.93 MiB | 1016.00 KiB/s\r"
     ]
    },
    {
     "name": "stdout",
     "output_type": "stream",
     "text": [
      "Recibiendo objetos:  72% (74189/103040), 30.93 MiB | 1016.00 KiB/s\r"
     ]
    },
    {
     "name": "stdout",
     "output_type": "stream",
     "text": [
      "Recibiendo objetos:  73% (75220/103040), 31.59 MiB | 1.05 MiB/s   \r"
     ]
    },
    {
     "name": "stdout",
     "output_type": "stream",
     "text": [
      "Recibiendo objetos:  74% (76250/103040), 31.59 MiB | 1.05 MiB/s\r"
     ]
    },
    {
     "name": "stdout",
     "output_type": "stream",
     "text": [
      "Recibiendo objetos:  75% (77280/103040), 31.59 MiB | 1.05 MiB/s\r"
     ]
    },
    {
     "name": "stdout",
     "output_type": "stream",
     "text": [
      "Recibiendo objetos:  76% (78311/103040), 31.59 MiB | 1.05 MiB/s\r"
     ]
    },
    {
     "name": "stdout",
     "output_type": "stream",
     "text": [
      "Recibiendo objetos:  77% (79341/103040), 31.59 MiB | 1.05 MiB/s\r"
     ]
    },
    {
     "name": "stdout",
     "output_type": "stream",
     "text": [
      "Recibiendo objetos:  78% (80372/103040), 31.59 MiB | 1.05 MiB/s\r"
     ]
    },
    {
     "name": "stdout",
     "output_type": "stream",
     "text": [
      "Recibiendo objetos:  79% (81402/103040), 31.59 MiB | 1.05 MiB/s\r"
     ]
    },
    {
     "name": "stdout",
     "output_type": "stream",
     "text": [
      "Recibiendo objetos:  79% (82030/103040), 31.59 MiB | 1.05 MiB/s\r"
     ]
    },
    {
     "name": "stdout",
     "output_type": "stream",
     "text": [
      "Recibiendo objetos:  80% (82432/103040), 31.59 MiB | 1.05 MiB/s\r"
     ]
    },
    {
     "name": "stdout",
     "output_type": "stream",
     "text": [
      "Recibiendo objetos:  81% (83463/103040), 31.59 MiB | 1.05 MiB/s\r"
     ]
    },
    {
     "name": "stdout",
     "output_type": "stream",
     "text": [
      "Recibiendo objetos:  82% (84493/103040), 32.18 MiB | 1.09 MiB/s\r"
     ]
    },
    {
     "name": "stdout",
     "output_type": "stream",
     "text": [
      "Recibiendo objetos:  83% (85524/103040), 32.18 MiB | 1.09 MiB/s\r"
     ]
    },
    {
     "name": "stdout",
     "output_type": "stream",
     "text": [
      "Recibiendo objetos:  84% (86554/103040), 32.18 MiB | 1.09 MiB/s\r"
     ]
    },
    {
     "name": "stdout",
     "output_type": "stream",
     "text": [
      "Recibiendo objetos:  85% (87584/103040), 32.18 MiB | 1.09 MiB/s\r"
     ]
    },
    {
     "name": "stdout",
     "output_type": "stream",
     "text": [
      "Recibiendo objetos:  86% (88615/103040), 32.18 MiB | 1.09 MiB/s\r"
     ]
    },
    {
     "name": "stdout",
     "output_type": "stream",
     "text": [
      "Recibiendo objetos:  87% (89645/103040), 32.18 MiB | 1.09 MiB/s\r"
     ]
    },
    {
     "name": "stdout",
     "output_type": "stream",
     "text": [
      "Recibiendo objetos:  88% (90676/103040), 32.64 MiB | 1.10 MiB/s\r"
     ]
    },
    {
     "name": "stdout",
     "output_type": "stream",
     "text": [
      "Recibiendo objetos:  89% (91706/103040), 32.64 MiB | 1.10 MiB/s\r"
     ]
    },
    {
     "name": "stdout",
     "output_type": "stream",
     "text": [
      "Recibiendo objetos:  90% (92736/103040), 32.64 MiB | 1.10 MiB/s\r"
     ]
    },
    {
     "name": "stdout",
     "output_type": "stream",
     "text": [
      "Recibiendo objetos:  90% (93157/103040), 32.64 MiB | 1.10 MiB/s\r"
     ]
    },
    {
     "name": "stdout",
     "output_type": "stream",
     "text": [
      "Recibiendo objetos:  91% (93767/103040), 32.64 MiB | 1.10 MiB/s\r"
     ]
    },
    {
     "name": "stdout",
     "output_type": "stream",
     "text": [
      "Recibiendo objetos:  92% (94797/103040), 32.89 MiB | 1.05 MiB/s\r"
     ]
    },
    {
     "name": "stdout",
     "output_type": "stream",
     "text": [
      "Recibiendo objetos:  93% (95828/103040), 32.89 MiB | 1.05 MiB/s\r"
     ]
    },
    {
     "name": "stdout",
     "output_type": "stream",
     "text": [
      "Recibiendo objetos:  94% (96858/103040), 32.89 MiB | 1.05 MiB/s\r"
     ]
    },
    {
     "name": "stdout",
     "output_type": "stream",
     "text": [
      "Recibiendo objetos:  95% (97888/103040), 32.89 MiB | 1.05 MiB/s\r"
     ]
    },
    {
     "name": "stdout",
     "output_type": "stream",
     "text": [
      "Recibiendo objetos:  96% (98919/103040), 33.11 MiB | 1000.00 KiB/s\r"
     ]
    },
    {
     "name": "stdout",
     "output_type": "stream",
     "text": [
      "Recibiendo objetos:  96% (99919/103040), 33.11 MiB | 1000.00 KiB/s\r"
     ]
    },
    {
     "name": "stdout",
     "output_type": "stream",
     "text": [
      "Recibiendo objetos:  97% (99949/103040), 33.11 MiB | 1000.00 KiB/s\r"
     ]
    },
    {
     "name": "stdout",
     "output_type": "stream",
     "text": [
      "Recibiendo objetos:  98% (100980/103040), 33.39 MiB | 928.00 KiB/s\r"
     ]
    },
    {
     "name": "stdout",
     "output_type": "stream",
     "text": [
      "Recibiendo objetos:  99% (102010/103040), 33.39 MiB | 928.00 KiB/s\r"
     ]
    },
    {
     "name": "stdout",
     "output_type": "stream",
     "text": [
      "Recibiendo objetos:  99% (102132/103040), 33.72 MiB | 855.00 KiB/s\r"
     ]
    },
    {
     "name": "stdout",
     "output_type": "stream",
     "text": [
      "Recibiendo objetos:  99% (102382/103040), 34.46 MiB | 764.00 KiB/s\r"
     ]
    },
    {
     "name": "stdout",
     "output_type": "stream",
     "text": [
      "Recibiendo objetos:  99% (102697/103040), 35.25 MiB | 666.00 KiB/s\r"
     ]
    },
    {
     "name": "stdout",
     "output_type": "stream",
     "text": [
      "remote: Total 103040 (delta 2579), reused 3202 (delta 2436), pack-reused 99405 (from 1)\u001b[K\n"
     ]
    },
    {
     "name": "stdout",
     "output_type": "stream",
     "text": [
      "Recibiendo objetos: 100% (103040/103040), 35.71 MiB | 666.00 KiB/s\r"
     ]
    },
    {
     "name": "stdout",
     "output_type": "stream",
     "text": [
      "Recibiendo objetos: 100% (103040/103040), 36.06 MiB | 1.17 MiB/s, listo.\n"
     ]
    },
    {
     "name": "stdout",
     "output_type": "stream",
     "text": [
      "Resolviendo deltas:   0% (0/79363)\r"
     ]
    },
    {
     "name": "stdout",
     "output_type": "stream",
     "text": [
      "Resolviendo deltas:   1% (794/79363)\r"
     ]
    },
    {
     "name": "stdout",
     "output_type": "stream",
     "text": [
      "Resolviendo deltas:   2% (1588/79363)\r"
     ]
    },
    {
     "name": "stdout",
     "output_type": "stream",
     "text": [
      "Resolviendo deltas:   3% (2381/79363)\r"
     ]
    },
    {
     "name": "stdout",
     "output_type": "stream",
     "text": [
      "Resolviendo deltas:   4% (3178/79363)\r"
     ]
    },
    {
     "name": "stdout",
     "output_type": "stream",
     "text": [
      "Resolviendo deltas:   5% (3972/79363)\r"
     ]
    },
    {
     "name": "stdout",
     "output_type": "stream",
     "text": [
      "Resolviendo deltas:   6% (4762/79363)\r"
     ]
    },
    {
     "name": "stdout",
     "output_type": "stream",
     "text": [
      "Resolviendo deltas:   7% (5557/79363)\r"
     ]
    },
    {
     "name": "stdout",
     "output_type": "stream",
     "text": [
      "Resolviendo deltas:   8% (6350/79363)\r"
     ]
    },
    {
     "name": "stdout",
     "output_type": "stream",
     "text": [
      "Resolviendo deltas:   9% (7143/79363)\r"
     ]
    },
    {
     "name": "stdout",
     "output_type": "stream",
     "text": [
      "Resolviendo deltas:  10% (7937/79363)\r"
     ]
    },
    {
     "name": "stdout",
     "output_type": "stream",
     "text": [
      "Resolviendo deltas:  11% (8730/79363)\r"
     ]
    },
    {
     "name": "stdout",
     "output_type": "stream",
     "text": [
      "Resolviendo deltas:  12% (9524/79363)\r"
     ]
    },
    {
     "name": "stdout",
     "output_type": "stream",
     "text": [
      "Resolviendo deltas:  13% (10318/79363)\r"
     ]
    },
    {
     "name": "stdout",
     "output_type": "stream",
     "text": [
      "Resolviendo deltas:  14% (11111/79363)\r"
     ]
    },
    {
     "name": "stdout",
     "output_type": "stream",
     "text": [
      "Resolviendo deltas:  15% (11905/79363)\r"
     ]
    },
    {
     "name": "stdout",
     "output_type": "stream",
     "text": [
      "Resolviendo deltas:  16% (12700/79363)\r"
     ]
    },
    {
     "name": "stdout",
     "output_type": "stream",
     "text": [
      "Resolviendo deltas:  17% (13492/79363)\r"
     ]
    },
    {
     "name": "stdout",
     "output_type": "stream",
     "text": [
      "Resolviendo deltas:  18% (14286/79363)\r"
     ]
    },
    {
     "name": "stdout",
     "output_type": "stream",
     "text": [
      "Resolviendo deltas:  19% (15079/79363)\r"
     ]
    },
    {
     "name": "stdout",
     "output_type": "stream",
     "text": [
      "Resolviendo deltas:  20% (15873/79363)\r"
     ]
    },
    {
     "name": "stdout",
     "output_type": "stream",
     "text": [
      "Resolviendo deltas:  21% (16667/79363)\r"
     ]
    },
    {
     "name": "stdout",
     "output_type": "stream",
     "text": [
      "Resolviendo deltas:  22% (17460/79363)\r"
     ]
    },
    {
     "name": "stdout",
     "output_type": "stream",
     "text": [
      "Resolviendo deltas:  23% (18255/79363)\r"
     ]
    },
    {
     "name": "stdout",
     "output_type": "stream",
     "text": [
      "Resolviendo deltas:  24% (19048/79363)\r"
     ]
    },
    {
     "name": "stdout",
     "output_type": "stream",
     "text": [
      "Resolviendo deltas:  25% (19841/79363)\r"
     ]
    },
    {
     "name": "stdout",
     "output_type": "stream",
     "text": [
      "Resolviendo deltas:  26% (20635/79363)\r"
     ]
    },
    {
     "name": "stdout",
     "output_type": "stream",
     "text": [
      "Resolviendo deltas:  27% (21429/79363)\r"
     ]
    },
    {
     "name": "stdout",
     "output_type": "stream",
     "text": [
      "Resolviendo deltas:  28% (22222/79363)\r"
     ]
    },
    {
     "name": "stdout",
     "output_type": "stream",
     "text": [
      "Resolviendo deltas:  29% (23016/79363)\r"
     ]
    },
    {
     "name": "stdout",
     "output_type": "stream",
     "text": [
      "Resolviendo deltas:  30% (23811/79363)\r"
     ]
    },
    {
     "name": "stdout",
     "output_type": "stream",
     "text": [
      "Resolviendo deltas:  30% (24374/79363)\r"
     ]
    },
    {
     "name": "stdout",
     "output_type": "stream",
     "text": [
      "Resolviendo deltas:  31% (24603/79363)\r"
     ]
    },
    {
     "name": "stdout",
     "output_type": "stream",
     "text": [
      "Resolviendo deltas:  32% (25397/79363)\r"
     ]
    },
    {
     "name": "stdout",
     "output_type": "stream",
     "text": [
      "Resolviendo deltas:  33% (26190/79363)\r"
     ]
    },
    {
     "name": "stdout",
     "output_type": "stream",
     "text": [
      "Resolviendo deltas:  34% (26984/79363)\r"
     ]
    },
    {
     "name": "stdout",
     "output_type": "stream",
     "text": [
      "Resolviendo deltas:  35% (27778/79363)\r"
     ]
    },
    {
     "name": "stdout",
     "output_type": "stream",
     "text": [
      "Resolviendo deltas:  36% (28571/79363)\r"
     ]
    },
    {
     "name": "stdout",
     "output_type": "stream",
     "text": [
      "Resolviendo deltas:  37% (29365/79363)\r"
     ]
    },
    {
     "name": "stdout",
     "output_type": "stream",
     "text": [
      "Resolviendo deltas:  38% (30158/79363)\r"
     ]
    },
    {
     "name": "stdout",
     "output_type": "stream",
     "text": [
      "Resolviendo deltas:  39% (30952/79363)\r"
     ]
    },
    {
     "name": "stdout",
     "output_type": "stream",
     "text": [
      "Resolviendo deltas:  40% (31746/79363)\r"
     ]
    },
    {
     "name": "stdout",
     "output_type": "stream",
     "text": [
      "Resolviendo deltas:  41% (32539/79363)\r"
     ]
    },
    {
     "name": "stdout",
     "output_type": "stream",
     "text": [
      "Resolviendo deltas:  42% (33333/79363)\r"
     ]
    },
    {
     "name": "stdout",
     "output_type": "stream",
     "text": [
      "Resolviendo deltas:  43% (34127/79363)\r"
     ]
    },
    {
     "name": "stdout",
     "output_type": "stream",
     "text": [
      "Resolviendo deltas:  44% (34921/79363)\r"
     ]
    },
    {
     "name": "stdout",
     "output_type": "stream",
     "text": [
      "Resolviendo deltas:  45% (35714/79363)\r"
     ]
    },
    {
     "name": "stdout",
     "output_type": "stream",
     "text": [
      "Resolviendo deltas:  46% (36507/79363)\r"
     ]
    },
    {
     "name": "stdout",
     "output_type": "stream",
     "text": [
      "Resolviendo deltas:  47% (37301/79363)\r"
     ]
    },
    {
     "name": "stdout",
     "output_type": "stream",
     "text": [
      "Resolviendo deltas:  48% (38095/79363)\r"
     ]
    },
    {
     "name": "stdout",
     "output_type": "stream",
     "text": [
      "Resolviendo deltas:  49% (38888/79363)\r"
     ]
    },
    {
     "name": "stdout",
     "output_type": "stream",
     "text": [
      "Resolviendo deltas:  50% (39682/79363)\r"
     ]
    },
    {
     "name": "stdout",
     "output_type": "stream",
     "text": [
      "Resolviendo deltas:  51% (40476/79363)\r"
     ]
    },
    {
     "name": "stdout",
     "output_type": "stream",
     "text": [
      "Resolviendo deltas:  52% (41270/79363)\r"
     ]
    },
    {
     "name": "stdout",
     "output_type": "stream",
     "text": [
      "Resolviendo deltas:  53% (42063/79363)\r"
     ]
    },
    {
     "name": "stdout",
     "output_type": "stream",
     "text": [
      "Resolviendo deltas:  54% (42857/79363)\r"
     ]
    },
    {
     "name": "stdout",
     "output_type": "stream",
     "text": [
      "Resolviendo deltas:  55% (43650/79363)\r"
     ]
    },
    {
     "name": "stdout",
     "output_type": "stream",
     "text": [
      "Resolviendo deltas:  56% (44444/79363)\r"
     ]
    },
    {
     "name": "stdout",
     "output_type": "stream",
     "text": [
      "Resolviendo deltas:  57% (45237/79363)\r"
     ]
    },
    {
     "name": "stdout",
     "output_type": "stream",
     "text": [
      "Resolviendo deltas:  58% (46034/79363)\r"
     ]
    },
    {
     "name": "stdout",
     "output_type": "stream",
     "text": [
      "Resolviendo deltas:  59% (46825/79363)\r"
     ]
    },
    {
     "name": "stdout",
     "output_type": "stream",
     "text": [
      "Resolviendo deltas:  60% (47618/79363)\r"
     ]
    },
    {
     "name": "stdout",
     "output_type": "stream",
     "text": [
      "Resolviendo deltas:  61% (48412/79363)\r"
     ]
    },
    {
     "name": "stdout",
     "output_type": "stream",
     "text": [
      "Resolviendo deltas:  62% (49206/79363)\r"
     ]
    },
    {
     "name": "stdout",
     "output_type": "stream",
     "text": [
      "Resolviendo deltas:  63% (49999/79363)\r"
     ]
    },
    {
     "name": "stdout",
     "output_type": "stream",
     "text": [
      "Resolviendo deltas:  64% (50793/79363)\r"
     ]
    },
    {
     "name": "stdout",
     "output_type": "stream",
     "text": [
      "Resolviendo deltas:  65% (51586/79363)\r"
     ]
    },
    {
     "name": "stdout",
     "output_type": "stream",
     "text": [
      "Resolviendo deltas:  66% (52380/79363)\r"
     ]
    },
    {
     "name": "stdout",
     "output_type": "stream",
     "text": [
      "Resolviendo deltas:  67% (53174/79363)\r"
     ]
    },
    {
     "name": "stdout",
     "output_type": "stream",
     "text": [
      "Resolviendo deltas:  68% (53967/79363)\r"
     ]
    },
    {
     "name": "stdout",
     "output_type": "stream",
     "text": [
      "Resolviendo deltas:  69% (54761/79363)\r"
     ]
    },
    {
     "name": "stdout",
     "output_type": "stream",
     "text": [
      "Resolviendo deltas:  70% (55555/79363)\r"
     ]
    },
    {
     "name": "stdout",
     "output_type": "stream",
     "text": [
      "Resolviendo deltas:  71% (56348/79363)\r"
     ]
    },
    {
     "name": "stdout",
     "output_type": "stream",
     "text": [
      "Resolviendo deltas:  72% (57144/79363)\r"
     ]
    },
    {
     "name": "stdout",
     "output_type": "stream",
     "text": [
      "Resolviendo deltas:  73% (57937/79363)\r"
     ]
    },
    {
     "name": "stdout",
     "output_type": "stream",
     "text": [
      "Resolviendo deltas:  74% (58729/79363)\r"
     ]
    },
    {
     "name": "stdout",
     "output_type": "stream",
     "text": [
      "Resolviendo deltas:  75% (59523/79363)\r"
     ]
    },
    {
     "name": "stdout",
     "output_type": "stream",
     "text": [
      "Resolviendo deltas:  76% (60316/79363)\r"
     ]
    },
    {
     "name": "stdout",
     "output_type": "stream",
     "text": [
      "Resolviendo deltas:  77% (61110/79363)\r"
     ]
    },
    {
     "name": "stdout",
     "output_type": "stream",
     "text": [
      "Resolviendo deltas:  78% (61904/79363)\r"
     ]
    },
    {
     "name": "stdout",
     "output_type": "stream",
     "text": [
      "Resolviendo deltas:  79% (62697/79363)\r"
     ]
    },
    {
     "name": "stdout",
     "output_type": "stream",
     "text": [
      "Resolviendo deltas:  80% (63491/79363)\r"
     ]
    },
    {
     "name": "stdout",
     "output_type": "stream",
     "text": [
      "Resolviendo deltas:  81% (64285/79363)\r"
     ]
    },
    {
     "name": "stdout",
     "output_type": "stream",
     "text": [
      "Resolviendo deltas:  82% (65078/79363)\r"
     ]
    },
    {
     "name": "stdout",
     "output_type": "stream",
     "text": [
      "Resolviendo deltas:  83% (65872/79363)\r"
     ]
    },
    {
     "name": "stdout",
     "output_type": "stream",
     "text": [
      "Resolviendo deltas:  84% (66665/79363)\r"
     ]
    },
    {
     "name": "stdout",
     "output_type": "stream",
     "text": [
      "Resolviendo deltas:  84% (67196/79363)\r"
     ]
    },
    {
     "name": "stdout",
     "output_type": "stream",
     "text": [
      "Resolviendo deltas:  85% (67459/79363)\r"
     ]
    },
    {
     "name": "stdout",
     "output_type": "stream",
     "text": [
      "Resolviendo deltas:  86% (68253/79363)\r"
     ]
    },
    {
     "name": "stdout",
     "output_type": "stream",
     "text": [
      "Resolviendo deltas:  87% (69046/79363)\r"
     ]
    },
    {
     "name": "stdout",
     "output_type": "stream",
     "text": [
      "Resolviendo deltas:  88% (69840/79363)\r"
     ]
    },
    {
     "name": "stdout",
     "output_type": "stream",
     "text": [
      "Resolviendo deltas:  89% (70634/79363)\r"
     ]
    },
    {
     "name": "stdout",
     "output_type": "stream",
     "text": [
      "Resolviendo deltas:  90% (71427/79363)\r"
     ]
    },
    {
     "name": "stdout",
     "output_type": "stream",
     "text": [
      "Resolviendo deltas:  91% (72221/79363)\r"
     ]
    },
    {
     "name": "stdout",
     "output_type": "stream",
     "text": [
      "Resolviendo deltas:  92% (73014/79363)\r"
     ]
    },
    {
     "name": "stdout",
     "output_type": "stream",
     "text": [
      "Resolviendo deltas:  93% (73808/79363)\r"
     ]
    },
    {
     "name": "stdout",
     "output_type": "stream",
     "text": [
      "Resolviendo deltas:  94% (74603/79363)\r"
     ]
    },
    {
     "name": "stdout",
     "output_type": "stream",
     "text": [
      "Resolviendo deltas:  95% (75395/79363)\r"
     ]
    },
    {
     "name": "stdout",
     "output_type": "stream",
     "text": [
      "Resolviendo deltas:  96% (76189/79363)\r"
     ]
    },
    {
     "name": "stdout",
     "output_type": "stream",
     "text": [
      "Resolviendo deltas:  97% (76983/79363)\r"
     ]
    },
    {
     "name": "stdout",
     "output_type": "stream",
     "text": [
      "Resolviendo deltas:  98% (77776/79363)\r"
     ]
    },
    {
     "name": "stdout",
     "output_type": "stream",
     "text": [
      "Resolviendo deltas:  99% (78570/79363)\r"
     ]
    },
    {
     "name": "stdout",
     "output_type": "stream",
     "text": [
      "Resolviendo deltas: 100% (79363/79363)\r"
     ]
    },
    {
     "name": "stdout",
     "output_type": "stream",
     "text": [
      "Resolviendo deltas: 100% (79363/79363), listo.\n"
     ]
    }
   ],
   "source": [
    "# Ejecuta esta celda para generar ficheros de prueba. En particular, vamos a\n",
    "# clonar el repositorio con el código de zsh (otro programa shell, alternativo a bash)\n",
    "mkdir -p ~/p4b-ejercicios\n",
    "cd ~/p4b-ejercicios\n",
    "rm -rf zsh\n",
    "cd zsh && git branch fc-tests 20739b5458d19b81afafb8b7ed96476562f69f0f"
   ]
  },
  {
   "cell_type": "code",
   "execution_count": 16,
   "id": "d6816403",
   "metadata": {
    "execution": {
     "iopub.execute_input": "2024-11-05T08:42:50.225866Z",
     "iopub.status.busy": "2024-11-05T08:42:50.225111Z",
     "iopub.status.idle": "2024-11-05T08:42:50.335082Z",
     "shell.execute_reply": "2024-11-05T08:42:50.332701Z"
    }
   },
   "outputs": [
    {
     "name": "stdout",
     "output_type": "stream",
     "text": [
      "/home/rtitos/p4b-ejercicios/zsh\n"
     ]
    }
   ],
   "source": [
    "pwd"
   ]
  },
  {
   "cell_type": "code",
   "execution_count": 17,
   "id": "dbf4cd2d",
   "metadata": {
    "execution": {
     "iopub.execute_input": "2024-11-05T08:42:50.344323Z",
     "iopub.status.busy": "2024-11-05T08:42:50.343596Z",
     "iopub.status.idle": "2024-11-05T08:42:50.561991Z",
     "shell.execute_reply": "2024-11-05T08:42:50.559977Z"
    }
   },
   "outputs": [
    {
     "name": "stdout",
     "output_type": "stream",
     "text": [
      " * This file is part of zsh, the Z \u001b[01;31m\u001b[Kshell\u001b[m\u001b[K.\n"
     ]
    }
   ],
   "source": [
    "# Busca en el contenido del fichero Src/main.c aquellas líneas\n",
    "# que contengan la cadena \"shell\" \n"
   ]
  },
  {
   "cell_type": "code",
   "execution_count": 18,
   "id": "d789aa3f",
   "metadata": {
    "execution": {
     "iopub.execute_input": "2024-11-05T08:42:50.571597Z",
     "iopub.status.busy": "2024-11-05T08:42:50.570857Z",
     "iopub.status.idle": "2024-11-05T08:42:50.786282Z",
     "shell.execute_reply": "2024-11-05T08:42:50.785710Z"
    }
   },
   "outputs": [
    {
     "name": "stdout",
     "output_type": "stream",
     "text": [
      "\u001b[35m\u001b[KSrc/options.c\u001b[m\u001b[K\u001b[36m\u001b[K:\u001b[m\u001b[K{{NULL, \"bashautolist\",\t      0},                        \u001b[01;31m\u001b[KBASH\u001b[m\u001b[KAUTOLIST},\n"
     ]
    },
    {
     "name": "stdout",
     "output_type": "stream",
     "text": [
      "\u001b[35m\u001b[KSrc/options.c\u001b[m\u001b[K\u001b[36m\u001b[K:\u001b[m\u001b[K{{NULL, \"bashrematch\",\t      0},\t\t\t \u001b[01;31m\u001b[KBASH\u001b[m\u001b[KREMATCH},\n"
     ]
    }
   ],
   "source": [
    "# Busca en el contenido de los ficheros de Src cuyo nombre acabe en .c\n",
    "# aquellas líneas que contengan la cadena \"BASH\" (en mayúsculas)\n"
   ]
  },
  {
   "cell_type": "code",
   "execution_count": 19,
   "id": "97c9931f",
   "metadata": {
    "execution": {
     "iopub.execute_input": "2024-11-05T08:42:50.788588Z",
     "iopub.status.busy": "2024-11-05T08:42:50.788411Z",
     "iopub.status.idle": "2024-11-05T08:42:51.081462Z",
     "shell.execute_reply": "2024-11-05T08:42:51.078784Z"
    }
   },
   "outputs": [
    {
     "name": "stdout",
     "output_type": "stream",
     "text": [
      "\u001b[35m\u001b[KSrc/builtin.c\u001b[m\u001b[K\u001b[36m\u001b[K:\u001b[m\u001b[K\t\t     * possible escape characters recognized by \u001b[01;31m\u001b[KANSI\u001b[m\u001b[K.\n"
     ]
    },
    {
     "name": "stdout",
     "output_type": "stream",
     "text": [
      "\u001b[35m\u001b[KSrc/prompt.c\u001b[m\u001b[K\u001b[36m\u001b[K:\u001b[m\u001b[K/* Defines standard \u001b[01;31m\u001b[KANSI\u001b[m\u001b[K colour names in index order */\n"
     ]
    },
    {
     "name": "stdout",
     "output_type": "stream",
     "text": [
      "\u001b[35m\u001b[KSrc/prompt.c\u001b[m\u001b[K\u001b[36m\u001b[K:\u001b[m\u001b[K * Return index of \u001b[01;31m\u001b[KANSI\u001b[m\u001b[K colour for which *teststrp is an abbreviation.\n"
     ]
    },
    {
     "name": "stdout",
     "output_type": "stream",
     "text": [
      "\u001b[35m\u001b[KSrc/prompt.c\u001b[m\u001b[K\u001b[36m\u001b[K:\u001b[m\u001b[K    /* Out of range of termcap colours and basic \u001b[01;31m\u001b[KANSI\u001b[m\u001b[K set. */\n"
     ]
    },
    {
     "name": "stdout",
     "output_type": "stream",
     "text": [
      "\u001b[35m\u001b[KSrc/prompt.c\u001b[m\u001b[K\u001b[36m\u001b[K:\u001b[m\u001b[K\t * If 0 to 7, assume standard \u001b[01;31m\u001b[KANSI\u001b[m\u001b[K works, if 8 to 255, assume\n"
     ]
    },
    {
     "name": "stdout",
     "output_type": "stream",
     "text": [
      "\u001b[35m\u001b[KSrc/utils.c\u001b[m\u001b[K\u001b[36m\u001b[K:\u001b[m\u001b[K * is contained in the \u001b[01;31m\u001b[KANSI\u001b[m\u001b[K standard C library, but a lot of them seem *\n"
     ]
    }
   ],
   "source": [
    "# Busca en el contenido de los ficheros de Src cuyo nombre acabe en .c\n",
    "# aquellas líneas que contengan la palabra \"ansi\" (no como fragmento\n",
    "# de otra function más larga), sin atender al uso de mayúsculas\n"
   ]
  },
  {
   "cell_type": "code",
   "execution_count": 20,
   "id": "9505057a",
   "metadata": {
    "execution": {
     "iopub.execute_input": "2024-11-05T08:42:51.091313Z",
     "iopub.status.busy": "2024-11-05T08:42:51.090592Z",
     "iopub.status.idle": "2024-11-05T08:42:51.335258Z",
     "shell.execute_reply": "2024-11-05T08:42:51.334490Z"
    }
   },
   "outputs": [
    {
     "name": "stdout",
     "output_type": "stream",
     "text": [
      "\u001b[35m\u001b[K./Src/utils.c\u001b[m\u001b[K\u001b[36m\u001b[K:\u001b[m\u001b[K * is contained in the ANSI \u001b[01;31m\u001b[Kstandard C\u001b[m\u001b[K library, but a lot of them seem *\n"
     ]
    },
    {
     "name": "stdout",
     "output_type": "stream",
     "text": [
      "\u001b[35m\u001b[K./Completion/Unix/Command/_gcc\u001b[m\u001b[K\u001b[36m\u001b[K:\u001b[m\u001b[K  '-ffreestanding[do not assume that \u001b[01;31m\u001b[Kstandard C\u001b[m\u001b[K libraries and main exist]'\n"
     ]
    },
    {
     "name": "stdout",
     "output_type": "stream",
     "text": [
      "\u001b[35m\u001b[K./Functions/Misc/zcalc\u001b[m\u001b[K\u001b[36m\u001b[K:\u001b[m\u001b[K# and the \u001b[01;31m\u001b[Kstandard C\u001b[m\u001b[K-like notation with a leading 0x for hexadecimal is\n"
     ]
    },
    {
     "name": "stdout",
     "output_type": "stream",
     "text": [
      "\u001b[35m\u001b[K./Doc/Zsh/arith.yo\u001b[m\u001b[K\u001b[36m\u001b[K:\u001b[m\u001b[KIf the tt(C_BASES) option is set, hexadecimal numbers are output in the \u001b[01;31m\u001b[Kstandard C\u001b[m\u001b[K\n"
     ]
    },
    {
     "name": "stdout",
     "output_type": "stream",
     "text": [
      "\u001b[35m\u001b[K./Doc/Zsh/options.yo\u001b[m\u001b[K\u001b[36m\u001b[K:\u001b[m\u001b[KOutput hexadecimal numbers in the \u001b[01;31m\u001b[Kstandard C\u001b[m\u001b[K format, for example `tt(0xFF)'\n"
     ]
    }
   ],
   "source": [
    "# Busca recursivamente en el directorio actual ficheros que contengan\n",
    "# la cadena \"standard C\" (usa las comillas para quitar el significado especial al carácter espacio)\n"
   ]
  },
  {
   "cell_type": "code",
   "execution_count": 21,
   "id": "82286da6",
   "metadata": {
    "execution": {
     "iopub.execute_input": "2024-11-05T08:42:51.338658Z",
     "iopub.status.busy": "2024-11-05T08:42:51.338388Z",
     "iopub.status.idle": "2024-11-05T08:42:51.559553Z",
     "shell.execute_reply": "2024-11-05T08:42:51.557200Z"
    }
   },
   "outputs": [
    {
     "name": "stdout",
     "output_type": "stream",
     "text": [
      "\u001b[35m\u001b[KDoc/Zsh/arith.yo\u001b[m\u001b[K\u001b[36m\u001b[K:\u001b[m\u001b[Kexample, by giving the command `tt(print - $(( 123\u001b[01;31m\u001b[K4567\u001b[m\u001b[K8901 )))'; if the\n"
     ]
    }
   ],
   "source": [
    "# Busca recursivamente en el directorio \"Doc\" ficheros que contengan\n",
    "# una cadena numérica que empiece por cualquier número seguido de \"567\"\n"
   ]
  },
  {
   "cell_type": "code",
   "execution_count": 22,
   "id": "350864a8",
   "metadata": {
    "execution": {
     "iopub.execute_input": "2024-11-05T08:42:51.569069Z",
     "iopub.status.busy": "2024-11-05T08:42:51.568316Z",
     "iopub.status.idle": "2024-11-05T08:42:51.793484Z",
     "shell.execute_reply": "2024-11-05T08:42:51.790940Z"
    }
   },
   "outputs": [
    {
     "name": "stdout",
     "output_type": "stream",
     "text": [
      "\u001b[35m\u001b[KDoc/Zsh/params.yo\u001b[m\u001b[K\u001b[36m\u001b[K:\u001b[m\u001b[K\u001b[01;31m\u001b[K7-\u001b[m\u001b[Kbit subset (ASCII) is used.  For example, if the character set\n"
     ]
    }
   ],
   "source": [
    "# Busca recursivamente en el directorio \"Doc\" ficheros que contengan\n",
    "# líneas que comiencen por un número seguido de un guión (-)\n"
   ]
  },
  {
   "cell_type": "code",
   "execution_count": 23,
   "id": "ceb1d47e",
   "metadata": {
    "execution": {
     "iopub.execute_input": "2024-11-05T08:42:51.804015Z",
     "iopub.status.busy": "2024-11-05T08:42:51.803056Z",
     "iopub.status.idle": "2024-11-05T08:42:51.973834Z",
     "shell.execute_reply": "2024-11-05T08:42:51.971230Z"
    }
   },
   "outputs": [
    {
     "name": "stdout",
     "output_type": "stream",
     "text": [
      "\u001b[35m\u001b[KNEWS\u001b[m\u001b[K\u001b[36m\u001b[K:\u001b[m\u001b[K- builtin interface to pcre lib\u001b[01;31m\u001b[Krary\u001b[m\u001b[K\n"
     ]
    },
    {
     "name": "stdout",
     "output_type": "stream",
     "text": [
      "\u001b[35m\u001b[KINSTALL\u001b[m\u001b[K\u001b[36m\u001b[K:\u001b[m\u001b[Kzsh tries to make features from curses available and if the curses lib\u001b[01;31m\u001b[Krary\u001b[m\u001b[K\n"
     ]
    },
    {
     "name": "stdout",
     "output_type": "stream",
     "text": [
      "\u001b[35m\u001b[KINSTALL\u001b[m\u001b[K\u001b[36m\u001b[K:\u001b[m\u001b[KThe --enable-additional-fpath option may be used to add arbit\u001b[01;31m\u001b[Krary\u001b[m\u001b[K\n"
     ]
    },
    {
     "name": "stdout",
     "output_type": "stream",
     "text": [
      "\u001b[35m\u001b[KINSTALL\u001b[m\u001b[K\u001b[36m\u001b[K:\u001b[m\u001b[KThis searches for POSIX capabilities; if found, the `cap' lib\u001b[01;31m\u001b[Krary\u001b[m\u001b[K\n"
     ]
    }
   ],
   "source": [
    "# Busca en los ficheros \"NEWS\" e \"INSTALL\" líneas que acaben por \"rary\"\n"
   ]
  },
  {
   "cell_type": "markdown",
   "id": "969ee442",
   "metadata": {},
   "source": [
    "### Compresión y descompresión"
   ]
  },
  {
   "cell_type": "markdown",
   "id": "31a2732a-bcb4-4fdf-98e2-6a5f6898faf1",
   "metadata": {},
   "source": [
    "Este ejercicio presupone que has generado los ficheros necesarios para el ejercicio anterior y estás situado en el directorio `zsh`.\n",
    "\n",
    "En caso necesario, re-ejecuta el cuaderno desde la primera celda del ejercicio anterior."
   ]
  },
  {
   "cell_type": "code",
   "execution_count": 24,
   "id": "9bb2837a",
   "metadata": {
    "execution": {
     "iopub.execute_input": "2024-11-05T08:42:51.985413Z",
     "iopub.status.busy": "2024-11-05T08:42:51.983289Z",
     "iopub.status.idle": "2024-11-05T08:42:52.095132Z",
     "shell.execute_reply": "2024-11-05T08:42:52.092711Z"
    }
   },
   "outputs": [
    {
     "name": "stdout",
     "output_type": "stream",
     "text": [
      "/home/rtitos/p4b-ejercicios/zsh\n"
     ]
    }
   ],
   "source": [
    "pwd"
   ]
  },
  {
   "cell_type": "code",
   "execution_count": 25,
   "id": "8b05328f",
   "metadata": {
    "execution": {
     "iopub.execute_input": "2024-11-05T08:42:52.105471Z",
     "iopub.status.busy": "2024-11-05T08:42:52.104473Z",
     "iopub.status.idle": "2024-11-05T08:42:52.222048Z",
     "shell.execute_reply": "2024-11-05T08:42:52.219634Z"
    }
   },
   "outputs": [
    {
     "name": "stdout",
     "output_type": "stream",
     "text": [
      "aclocal.m4  \u001b[0m\u001b[01;32mconfig.guess\u001b[0m  FEATURES    MACHINES       README        \u001b[01;34mUtil\u001b[0m\n"
     ]
    },
    {
     "name": "stdout",
     "output_type": "stream",
     "text": [
      "aczsh.m4    \u001b[01;32mconfig.sub\u001b[0m    \u001b[01;34mFunctions\u001b[0m   Makefile.in    \u001b[01;34mScripts\u001b[0m\n"
     ]
    },
    {
     "name": "stdout",
     "output_type": "stream",
     "text": [
      "ChangeLog   configure.ac  INSTALL     \u001b[01;34mMisc\u001b[0m           \u001b[01;34mSrc\u001b[0m\n"
     ]
    },
    {
     "name": "stdout",
     "output_type": "stream",
     "text": [
      "\u001b[01;34mCompletion\u001b[0m  \u001b[01;34mDoc\u001b[0m           \u001b[01;32minstall-sh\u001b[0m  \u001b[01;32mmkinstalldirs\u001b[0m  \u001b[01;34mStartupFiles\u001b[0m\n"
     ]
    },
    {
     "name": "stdout",
     "output_type": "stream",
     "text": [
      "\u001b[01;34mConfig\u001b[0m      \u001b[01;34mEtc\u001b[0m           LICENCE     NEWS           \u001b[01;34mTest\u001b[0m\n"
     ]
    }
   ],
   "source": [
    "ls"
   ]
  },
  {
   "cell_type": "code",
   "execution_count": 26,
   "id": "7fdd97fb",
   "metadata": {
    "execution": {
     "iopub.execute_input": "2024-11-05T08:42:52.232042Z",
     "iopub.status.busy": "2024-11-05T08:42:52.231256Z",
     "iopub.status.idle": "2024-11-05T08:42:52.605008Z",
     "shell.execute_reply": "2024-11-05T08:42:52.604373Z"
    }
   },
   "outputs": [],
   "source": [
    "# Crea un fichero empaquetado con tar comprimido con gzip, llamado\n",
    "# \"zsh-doc.tar.gz\" que contenga el directorio \"Doc\" al completo, sin\n",
    "# mostrar por pantalla los ficheros que se van empaquetando\n"
   ]
  },
  {
   "cell_type": "code",
   "execution_count": 27,
   "id": "c1705d23",
   "metadata": {
    "execution": {
     "iopub.execute_input": "2024-11-05T08:42:52.607600Z",
     "iopub.status.busy": "2024-11-05T08:42:52.607397Z",
     "iopub.status.idle": "2024-11-05T08:42:52.932997Z",
     "shell.execute_reply": "2024-11-05T08:42:52.930397Z"
    }
   },
   "outputs": [
    {
     "name": "stdout",
     "output_type": "stream",
     "text": [
      "Util/check_exports\n"
     ]
    },
    {
     "name": "stdout",
     "output_type": "stream",
     "text": [
      "Misc/compctl-examples\n"
     ]
    },
    {
     "name": "stdout",
     "output_type": "stream",
     "text": [
      "Misc/vcs_info-examples\n"
     ]
    }
   ],
   "source": [
    "# Crea un fichero empaquetado con tar comprimido con gzip, llamado\n",
    "# \"zsh-util-misc.tar.gz\" que contenga los ficheros ubicados en los \n",
    "# directorios \"Util\" y \"Misc\" cuyo nombre contiene la cadena \"ex\",\n",
    "# mostrando por pantalla los ficheros que se van empaquetando\n"
   ]
  },
  {
   "cell_type": "code",
   "execution_count": 28,
   "id": "6e1e7602",
   "metadata": {
    "execution": {
     "iopub.execute_input": "2024-11-05T08:42:52.940135Z",
     "iopub.status.busy": "2024-11-05T08:42:52.939987Z",
     "iopub.status.idle": "2024-11-05T08:42:53.165988Z",
     "shell.execute_reply": "2024-11-05T08:42:53.163932Z"
    }
   },
   "outputs": [
    {
     "name": "stdout",
     "output_type": "stream",
     "text": [
      "-rwxrwxr-x rtitos/rtitos  1701 2024-11-05 09:42 Util/check_exports\n"
     ]
    },
    {
     "name": "stdout",
     "output_type": "stream",
     "text": [
      "-rw-rw-r-- rtitos/rtitos 29632 2024-11-05 09:42 Misc/compctl-examples\n"
     ]
    },
    {
     "name": "stdout",
     "output_type": "stream",
     "text": [
      "-rw-rw-r-- rtitos/rtitos 25691 2024-11-05 09:42 Misc/vcs_info-examples\n"
     ]
    }
   ],
   "source": [
    "# Muestra los ficheros que hay dentro del empaquetado \"zsh-util-misc.tar.gz\"\n",
    "# sin extraer su contenido\n"
   ]
  },
  {
   "cell_type": "code",
   "execution_count": 29,
   "id": "acfa06db",
   "metadata": {
    "execution": {
     "iopub.execute_input": "2024-11-05T08:42:53.175157Z",
     "iopub.status.busy": "2024-11-05T08:42:53.174398Z",
     "iopub.status.idle": "2024-11-05T08:42:53.392177Z",
     "shell.execute_reply": "2024-11-05T08:42:53.389694Z"
    }
   },
   "outputs": [],
   "source": [
    "# Borra los ficheros ubicados en los directorios \n",
    "# \"Util\" y \"Misc\" cuyo nombre contiene la cadena \"ex\",\n"
   ]
  },
  {
   "cell_type": "code",
   "execution_count": 30,
   "id": "60c3020b",
   "metadata": {
    "execution": {
     "iopub.execute_input": "2024-11-05T08:42:53.402109Z",
     "iopub.status.busy": "2024-11-05T08:42:53.401351Z",
     "iopub.status.idle": "2024-11-05T08:42:53.658188Z",
     "shell.execute_reply": "2024-11-05T08:42:53.657507Z"
    }
   },
   "outputs": [
    {
     "name": "stdout",
     "output_type": "stream",
     "text": [
      "En la rama master\n"
     ]
    },
    {
     "name": "stdout",
     "output_type": "stream",
     "text": [
      "Tu rama está actualizada con 'origin/master'.\n"
     ]
    },
    {
     "name": "stdout",
     "output_type": "stream",
     "text": [
      "\n"
     ]
    },
    {
     "name": "stdout",
     "output_type": "stream",
     "text": [
      "Cambios no rastreados para el commit:\n"
     ]
    },
    {
     "name": "stdout",
     "output_type": "stream",
     "text": [
      "  (usa \"git add/rm <archivo>...\" para actualizar a lo que se le va a hacer commit)\n"
     ]
    },
    {
     "name": "stdout",
     "output_type": "stream",
     "text": [
      "  (usa \"git restore <archivo>...\" para descartar los cambios en el directorio de trabajo)\n"
     ]
    },
    {
     "name": "stdout",
     "output_type": "stream",
     "text": [
      "\t\u001b[31mborrados:        Misc/compctl-examples\u001b[m\n"
     ]
    },
    {
     "name": "stdout",
     "output_type": "stream",
     "text": [
      "\t\u001b[31mborrados:        Misc/vcs_info-examples\u001b[m\n"
     ]
    },
    {
     "name": "stdout",
     "output_type": "stream",
     "text": [
      "\t\u001b[31mborrados:        Util/check_exports\u001b[m\n"
     ]
    },
    {
     "name": "stdout",
     "output_type": "stream",
     "text": [
      "\n"
     ]
    },
    {
     "name": "stdout",
     "output_type": "stream",
     "text": [
      "Archivos sin seguimiento:\n"
     ]
    },
    {
     "name": "stdout",
     "output_type": "stream",
     "text": [
      "  (usa \"git add <archivo>...\" para incluirlo a lo que será confirmado)\n"
     ]
    },
    {
     "name": "stdout",
     "output_type": "stream",
     "text": [
      "\t\u001b[31mzsh-doc.tar.gz\u001b[m\n"
     ]
    },
    {
     "name": "stdout",
     "output_type": "stream",
     "text": [
      "\t\u001b[31mzsh-util-misc.tar.gz\u001b[m\n"
     ]
    },
    {
     "name": "stdout",
     "output_type": "stream",
     "text": [
      "\n"
     ]
    },
    {
     "name": "stdout",
     "output_type": "stream",
     "text": [
      "sin cambios agregados al commit (usa \"git add\" y/o \"git commit -a\")\n"
     ]
    }
   ],
   "source": [
    "# Muestra el estado del árbol de trabajo (copia del repositorio Git de \"zsh\")\n"
   ]
  },
  {
   "cell_type": "code",
   "execution_count": 31,
   "id": "96ee2e7d",
   "metadata": {
    "execution": {
     "iopub.execute_input": "2024-11-05T08:42:53.660825Z",
     "iopub.status.busy": "2024-11-05T08:42:53.660612Z",
     "iopub.status.idle": "2024-11-05T08:42:53.888356Z",
     "shell.execute_reply": "2024-11-05T08:42:53.885824Z"
    }
   },
   "outputs": [
    {
     "name": "stdout",
     "output_type": "stream",
     "text": [
      "Util/check_exports\n"
     ]
    },
    {
     "name": "stdout",
     "output_type": "stream",
     "text": [
      "Misc/compctl-examples\n"
     ]
    },
    {
     "name": "stdout",
     "output_type": "stream",
     "text": [
      "Misc/vcs_info-examples\n"
     ]
    }
   ],
   "source": [
    "# Desempaqueta el fichero \"zsh-util-misc.tar.gz\", mostrando\n",
    "# los ficheros que se van generando al descomprimir\n"
   ]
  },
  {
   "cell_type": "code",
   "execution_count": 32,
   "id": "38aaf2c8",
   "metadata": {
    "execution": {
     "iopub.execute_input": "2024-11-05T08:42:53.898092Z",
     "iopub.status.busy": "2024-11-05T08:42:53.897267Z",
     "iopub.status.idle": "2024-11-05T08:42:54.063616Z",
     "shell.execute_reply": "2024-11-05T08:42:54.061496Z"
    }
   },
   "outputs": [],
   "source": [
    "# Borra todos los ficheros del directorio actual que acaben en \"tar.gz\"\n"
   ]
  },
  {
   "cell_type": "code",
   "execution_count": 33,
   "id": "22fdf85c",
   "metadata": {
    "execution": {
     "iopub.execute_input": "2024-11-05T08:42:54.073381Z",
     "iopub.status.busy": "2024-11-05T08:42:54.072631Z",
     "iopub.status.idle": "2024-11-05T08:42:54.264863Z",
     "shell.execute_reply": "2024-11-05T08:42:54.262708Z"
    }
   },
   "outputs": [
    {
     "name": "stdout",
     "output_type": "stream",
     "text": [
      "En la rama master\n"
     ]
    },
    {
     "name": "stdout",
     "output_type": "stream",
     "text": [
      "Tu rama está actualizada con 'origin/master'.\n"
     ]
    },
    {
     "name": "stdout",
     "output_type": "stream",
     "text": [
      "\n"
     ]
    },
    {
     "name": "stdout",
     "output_type": "stream",
     "text": [
      "nada para hacer commit, el árbol de trabajo está limpio\n"
     ]
    }
   ],
   "source": [
    "# Muestra el estado del árbol de trabajo (copia del repositorio Git de \"zsh\")\n"
   ]
  },
  {
   "cell_type": "markdown",
   "id": "dffca928-c855-441b-aa6c-c9cb26fcab63",
   "metadata": {},
   "source": [
    "PREGUNTA: ¿Por qué ya no aparecen ficheros en estado *borrado*?"
   ]
  },
  {
   "cell_type": "markdown",
   "id": "abfa5406-f60d-4f3e-8e68-266a177ec098",
   "metadata": {},
   "source": [
    "RESPUESTA:\n",
    "\n"
   ]
  },
  {
   "cell_type": "markdown",
   "id": "0bbf22c8-18b7-4d90-9781-8c46a8b72021",
   "metadata": {},
   "source": [
    "**FIN DEL CUADERNO** (*no borres esta celda*)\n",
    "\n",
    "@@@@ practica5b-busquedas-ejercicios.ipynb @@@@"
   ]
  }
 ],
 "metadata": {
  "kernelspec": {
   "display_name": "Bash",
   "language": "bash",
   "name": "bash"
  },
  "language_info": {
   "codemirror_mode": "shell",
   "file_extension": ".sh",
   "mimetype": "text/x-sh",
   "name": "bash"
  },
  "toc": {
   "base_numbering": 1,
   "nav_menu": {},
   "number_sections": true,
   "sideBar": true,
   "skip_h1_title": true,
   "title_cell": "Table of Contents",
   "title_sidebar": "Contents",
   "toc_cell": false,
   "toc_position": {
    "height": "calc(100% - 180px)",
    "left": "10px",
    "top": "150px",
    "width": "296px"
   },
   "toc_section_display": true,
   "toc_window_display": false
  }
 },
 "nbformat": 4,
 "nbformat_minor": 5
}
