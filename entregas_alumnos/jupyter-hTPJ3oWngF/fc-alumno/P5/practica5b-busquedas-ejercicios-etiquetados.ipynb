{
 "cells": [
  {
   "cell_type": "markdown",
   "id": "c5e0d6b2-ef9c-429e-82b1-9630148b5726",
   "metadata": {},
   "source": [
    "# Ejercicios - Práctica 5a: Herramientas de gestión del sistema de ficheros. Búsquedas."
   ]
  },
  {
   "cell_type": "markdown",
   "id": "055d9927",
   "metadata": {},
   "source": [
    "### Gestión y búsquedas de ficheros.\n",
    "\n",
    "Vamos a hacer uso de los mismos ficheros de ejemplo que utilizamos anteriormente. Para obtenerlos, ejecutar la siguiente celda:"
   ]
  },
  {
   "cell_type": "code",
   "execution_count": 3,
   "id": "474c9a3f-c138-45b1-880d-2a4fd36d0b73",
   "metadata": {},
   "outputs": [
    {
     "name": "stdout",
     "output_type": "stream",
     "text": [
      "El archivo ficheros_ejemplo.zip ya existe.\n",
      "Archivo descomprimido.\n"
     ]
    }
   ],
   "source": [
    "# Definir la URL del archivo a descargar y el nombre del archivo\n",
    "FICHERO=\"ficheros_ejemplo.zip\"\n",
    "URL=\"https://ditec.um.es/~rtitos/docencia/fc-gcid/24-25/$FICHERO\"\n",
    "\n",
    "cd\n",
    "\n",
    "# Comprobar si el archivo ya existe\n",
    "if [ -f \"$FICHERO\" ]; then\n",
    "    echo \"El archivo $FICHERO ya existe.\"\n",
    "    rm -rf \"ficheros_ejemplo\"\n",
    "    unzip -q $FICHERO\n",
    "    echo \"Archivo descomprimido.\"\n",
    "else\n",
    "    echo \"El archivo $FICHERO no existe. Descargando...\"\n",
    "    # Descargar el archivo\n",
    "    curl -O $URL\n",
    "    \n",
    "    # Comprobar si la descarga fue exitosa\n",
    "    if [ $? -eq 0 ]; then\n",
    "        echo \"Descarga completada. Descomprimiendo el archivo ...\"\n",
    "        # Descomprimir el archivo ZIP de forma silenciosa\n",
    "        unzip -q $FICHERO\n",
    "        echo \"Archivo descomprimido.\"\n",
    "    else\n",
    "        echo \"Error en la descarga.\"\n",
    "    fi\n",
    "fi"
   ]
  },
  {
   "cell_type": "markdown",
   "id": "b089eec7",
   "metadata": {},
   "source": [
    "```\n",
    "ficheros_ejemplo\n",
    "├── nano\n",
    "│   ├── docu\n",
    "│   ├── m4\n",
    "│   ├── po\n",
    "│   ├── src\n",
    "│   └── syntax\n",
    "│       └── extra\n",
    "└── sample_files\n",
    "    ├── audio\n",
    "    │   ├── mp3\n",
    "    │   ├── ogg\n",
    "    │   ├── wav\n",
    "    │   └── wma\n",
    "    ├── docu\n",
    "    │   ├── docu\n",
    "    │   ├── docux\n",
    "    │   ├── pdf\n",
    "    │   ├── rtf\n",
    "    │   ├── txt\n",
    "    │   ├── xls\n",
    "    │   └── xlsx\n",
    "    ├── image\n",
    "    │   ├── bmp\n",
    "    │   ├── gif\n",
    "    │   ├── jpg\n",
    "    │   ├── png\n",
    "    │   └── tiff\n",
    "    └── video\n",
    "        ├── flv\n",
    "        ├── mkv\n",
    "        ├── mov\n",
    "        └── mp4\n",
    "\n",
    "```"
   ]
  },
  {
   "cell_type": "markdown",
   "id": "080049b0",
   "metadata": {},
   "source": [
    "Una vez lo tengas preparado, empezando desde tu directorio personal, realiza los siguientes ejercicios, utilizando en todo caso **RUTAS RELATIVAS**. \n",
    "\n",
    "<span style=\"color: red;\">Recuerda que en el directorio `outputs` tienes el cuaderno con las salidas de los comandos que se piden</span>, para poder comprobar si tu respuesta a cada ejercicio es la correcta."
   ]
  },
  {
   "cell_type": "markdown",
   "id": "ebf79c79",
   "metadata": {},
   "source": [
    "\n",
    "### Búsquedas en el sistema de ficheros. Comodines"
   ]
  },
  {
   "cell_type": "markdown",
   "id": "1b5856f1",
   "metadata": {},
   "source": [
    "Usando convenientemente los comodines y las opciones de `find`, mostrar lo siguiente:"
   ]
  },
  {
   "cell_type": "code",
   "execution_count": 4,
   "id": "b2b404c8",
   "metadata": {},
   "outputs": [],
   "source": [
    "# Ejecuta esta celda para restaurar el estado de los ficheros\n",
    "# Para ello, necesitas colocar el 'ficheros_ejemplo.zip' en tu directorio personal\n",
    "cd\n",
    "chmod -Rf 700 ficheros_ejemplo\n",
    "rm -rf ficheros_ejemplo\n",
    "unzip -q ficheros_ejemplo.zip\n",
    "cd ~/ficheros_ejemplo/sample_files\n",
    "touch video/mkv/*as*"
   ]
  },
  {
   "cell_type": "code",
   "execution_count": 5,
   "id": "aa8dbe02",
   "metadata": {},
   "outputs": [
    {
     "name": "stdout",
     "output_type": "stream",
     "text": [
      ".\n",
      "./audio\n",
      "./audio/mp3\n",
      "./audio/wma\n",
      "./audio/wav\n",
      "./audio/ogg\n",
      "./image\n",
      "./image/jpg\n",
      "./image/tiff\n",
      "./image/gif\n",
      "./image/png\n",
      "./image/bmp\n",
      "./image/bmp/cc\n",
      "./document\n",
      "./document/xls\n",
      "./document/docx\n",
      "./document/doc\n",
      "./document/txt\n",
      "./document/pdf\n",
      "./document/xlsx\n",
      "./document/rtf\n",
      "./video\n",
      "./video/mkv\n",
      "./video/mp4\n",
      "./video/flv\n",
      "./video/mov\n"
     ]
    }
   ],
   "source": [
    "#V.1\n",
    "# todos los directorios que cuelgan del directorio actual\n",
    "find  -type d "
   ]
  },
  {
   "cell_type": "code",
   "execution_count": 6,
   "id": "75b7cf01-4681-4fac-a6d5-e0d39a67e7f3",
   "metadata": {},
   "outputs": [
    {
     "name": "stdout",
     "output_type": "stream",
     "text": [
      "/home/jupyter-91q0xzovat/ficheros_ejemplo/sample_files\n"
     ]
    }
   ],
   "source": [
    "#V.2\n",
    "pwd"
   ]
  },
  {
   "cell_type": "code",
   "execution_count": 7,
   "id": "5a009a04",
   "metadata": {},
   "outputs": [
    {
     "name": "stdout",
     "output_type": "stream",
     "text": [
      "./audio/wav\n",
      "./video/mkv\n",
      "./video/flv\n",
      "./video/mov\n"
     ]
    }
   ],
   "source": [
    "#V.3\n",
    "# todos los directorios que cuelgan del directorio actual\n",
    "# cuyo nombre acabe en 'v'\n",
    "find -type d -iname \"*v\""
   ]
  },
  {
   "cell_type": "code",
   "execution_count": 8,
   "id": "94a50855",
   "metadata": {},
   "outputs": [
    {
     "name": "stdout",
     "output_type": "stream",
     "text": [
      "image/jpg/eagle_closeup.jpg\n",
      "image/jpg/cocktail_on_the_beach.jpg\n",
      "image/jpg/egg_pattern.jpg\n",
      "image/jpg/elephants.jpg\n",
      "image/jpg/birds_eye_beach.jpg\n",
      "image/jpg/bitcoin.jpg\n"
     ]
    }
   ],
   "source": [
    "#V.4\n",
    "# todos los ficheros en \"image\", cuyo nombre empiece con \n",
    "# una letra entre la b y la f, con extensión .jpg y \n",
    "find image -type f -iname \"[b-f]*.jpg\""
   ]
  },
  {
   "cell_type": "code",
   "execution_count": 9,
   "id": "c6f59109",
   "metadata": {},
   "outputs": [
    {
     "name": "stdout",
     "output_type": "stream",
     "text": [
      "image/bmp/cc\n"
     ]
    }
   ],
   "source": [
    "#V.5\n",
    "# todos los directorios en \"image\", cuyo nombre contenga la\n",
    "# letra 'c' en segundo lugar\n",
    "find image -type d -iname \"?c*\""
   ]
  },
  {
   "cell_type": "code",
   "execution_count": 10,
   "id": "6ecaf693",
   "metadata": {},
   "outputs": [
    {
     "name": "stdout",
     "output_type": "stream",
     "text": [
      "audio/wav/background_loop_straight_02.wav\n",
      "audio/wav/dub_techno_loop_.wav\n",
      "audio/wav/background_loop_funky_03.wav\n",
      "audio/wav/background_loop_chill_techno_04.wav\n",
      "audio/wav/break_free.wav\n"
     ]
    }
   ],
   "source": [
    "#V.6\n",
    "# todos los ficheros en \"audio\", cuyo nombre contenga las letras 'b', w' y 'v', \n",
    "# en ese orden (no necesariamente consecutivas)\n",
    "find audio -type f -iname \"*b*w*v*\""
   ]
  },
  {
   "cell_type": "code",
   "execution_count": 11,
   "id": "5dd1be51",
   "metadata": {},
   "outputs": [
    {
     "name": "stdout",
     "output_type": "stream",
     "text": [
      "audio/wma/background_loop_straight_04.wma\n",
      "audio/wav/background_loop_chill_techno_04.wav\n",
      "audio/ogg/background_loop_chill_techno_05.ogg\n"
     ]
    }
   ],
   "source": [
    "#V.7\n",
    "# todos los ficheros en \"audio\", cuyo nombre contenga un subrayado (_) seguido de\n",
    "# dos caracteres numéricos de los cuales el primero debe ser 0 y el segundo entre 4 y 6\n",
    "find audio -type f -iname \"*_0[4-6]*\""
   ]
  },
  {
   "cell_type": "code",
   "execution_count": 12,
   "id": "56eae084",
   "metadata": {},
   "outputs": [
    {
     "name": "stdout",
     "output_type": "stream",
     "text": [
      "video/flv/fireworks_over_water.flv\n"
     ]
    }
   ],
   "source": [
    "#V.8\n",
    "# todos los ficheros en \"video\", cuyo nombre contenga las letras 'r', w' y 'v', \n",
    "# en ese orden (no necesariamente consecutivas), y acabe con \".\" seguido de tres caracteres cualquiera\n",
    "find video -type f -iname \"*r*w*v*.???\""
   ]
  },
  {
   "cell_type": "code",
   "execution_count": 13,
   "id": "d7661aa3",
   "metadata": {},
   "outputs": [
    {
     "name": "stdout",
     "output_type": "stream",
     "text": [
      "./video/flv/frozen_ice_droplets.flv\n"
     ]
    }
   ],
   "source": [
    "#V.9\n",
    "# todos los ficheros a partir del directorio actual \n",
    "# cuyo nombre contenga la letra z pero no la letra h\n",
    "find -type f -iname \"*z*\"  ! -iname  \"*h*\""
   ]
  },
  {
   "cell_type": "code",
   "execution_count": 14,
   "id": "2bda0f98",
   "metadata": {},
   "outputs": [
    {
     "name": "stdout",
     "output_type": "stream",
     "text": [
      "./video/mkv/person_piping_icing.mkv\n",
      "./video/mkv/waves_crashing_on_rocks.mkv\n",
      "./video/mkv/time_lapse_of_milky_way_galaxy.mkv\n",
      "./video/mkv/lit_incese_stick.mkv\n"
     ]
    }
   ],
   "source": [
    "#V.10\n",
    "# todos los ficheros a partir del directorio actual \n",
    "# cuyo nombre acabe en \"mkv\" y tengan tamaño superior a 1MiB\n",
    "find -type f -iname \"*mkv\" -size +1M"
   ]
  },
  {
   "cell_type": "code",
   "execution_count": 15,
   "id": "41609c70",
   "metadata": {},
   "outputs": [
    {
     "name": "stdout",
     "output_type": "stream",
     "text": [
      "./audio/wma/background_loop_sad_story.wma\n",
      "./image/png/oil_towers.png\n",
      "./image/bmp/coast_side_highway.bmp\n",
      "./video/mp4/city_forest_rainbow.mp4\n"
     ]
    }
   ],
   "source": [
    "#V.11\n",
    "# todos los ficheros a partir del directorio actual \n",
    "# que tengan tamaño entre 200KiB y 250KiB\n",
    "find -type f  -size +200k -size -250k"
   ]
  },
  {
   "cell_type": "code",
   "execution_count": 16,
   "id": "21027b7a",
   "metadata": {},
   "outputs": [
    {
     "name": "stdout",
     "output_type": "stream",
     "text": [
      "./video/mkv/waves_crashing_on_rocks.mkv\n",
      "./video/mkv/astronaut_walking_fantasy.mkv\n"
     ]
    }
   ],
   "source": [
    "#V.12\n",
    "# todos los ficheros a partir del directorio actual \n",
    "# que tengan fecha de modificación inferior a 1 día\n",
    "find -type f  -mtime -1"
   ]
  },
  {
   "cell_type": "code",
   "execution_count": 17,
   "id": "1e2f6bed",
   "metadata": {},
   "outputs": [
    {
     "name": "stdout",
     "output_type": "stream",
     "text": [
      "./LICENSE\n",
      "./image/jpg/stacked_ice_cubes.jpg\n",
      "./image/jpg/orange_juice_glass.jpg\n",
      "./video/flv/frozen_ice_droplets.flv\n",
      "./video/flv/lemon_slice_falling.flv\n"
     ]
    }
   ],
   "source": [
    "# todos los ficheros a partir del directorio actual \n",
    "# que tengan fecha de modificación superior a 30 días\n",
    "# cuyo nombre contenga la cadena \"ice\"\n",
    "find -type f  -mtime +30 -iname \"*ice*\""
   ]
  },
  {
   "cell_type": "markdown",
   "id": "f2e148c3",
   "metadata": {},
   "source": [
    "### Búsqueda de patrones en ficheros"
   ]
  },
  {
   "cell_type": "code",
   "execution_count": 18,
   "id": "8a9fb693",
   "metadata": {},
   "outputs": [
    {
     "name": "stdout",
     "output_type": "stream",
     "text": [
      "Clonando en 'zsh'...\n",
      "remote: Enumerating objects: 103047, done.        \n",
      "remote: Counting objects: 100% (3642/3642), done.        \n",
      "remote: Compressing objects: 100% (1204/1204), done.        \n",
      "remote: Total 103047 (delta 2585), reused 3199 (delta 2435), pack-reused 99405 (from 1)        \n",
      "Recibiendo objetos: 100% (103047/103047), 35.95 MiB | 18.10 MiB/s, listo.\n",
      "Resolviendo deltas: 100% (79373/79373), listo.\n"
     ]
    }
   ],
   "source": [
    "# Ejecuta esta celda para generar ficheros de prueba. En particular, vamos a\n",
    "# clonar el repositorio con el código de zsh (otro programa shell, alternativo a bash)\n",
    "mkdir -p ~/p4b-ejercicios\n",
    "cd ~/p4b-ejercicios\n",
    "rm -rf zsh\n",
    "cd zsh && git branch fc-tests 20739b5458d19b81afafb8b7ed96476562f69f0f"
   ]
  },
  {
   "cell_type": "code",
   "execution_count": 19,
   "id": "d6816403",
   "metadata": {},
   "outputs": [
    {
     "name": "stdout",
     "output_type": "stream",
     "text": [
      "/home/jupyter-91q0xzovat/p4b-ejercicios/zsh\n"
     ]
    }
   ],
   "source": [
    "#V.13\n",
    "pwd"
   ]
  },
  {
   "cell_type": "code",
   "execution_count": 20,
   "id": "dbf4cd2d",
   "metadata": {},
   "outputs": [
    {
     "name": "stdout",
     "output_type": "stream",
     "text": [
      " * This file is part of zsh, the Z shell.\n"
     ]
    }
   ],
   "source": [
    "#V.14\n",
    "# Busca en el contenido del fichero Src/main.c aquellas líneas\n",
    "# que contengan la cadena \"shell\" \n",
    "grep shell Src/main.c"
   ]
  },
  {
   "cell_type": "code",
   "execution_count": 21,
   "id": "d789aa3f",
   "metadata": {},
   "outputs": [
    {
     "name": "stdout",
     "output_type": "stream",
     "text": [
      "Src/options.c:{{NULL, \"bashautolist\",\t      0},                        BASHAUTOLIST},\n",
      "Src/options.c:{{NULL, \"bashrematch\",\t      0},\t\t\t BASHREMATCH},\n"
     ]
    }
   ],
   "source": [
    "#V.15\n",
    "# Busca en el contenido de los ficheros de Src cuyo nombre acabe en .c\n",
    "# aquellas líneas que contengan la cadena \"BASH\" (en mayúsculas)\n",
    "grep \"BASH\" Src/*.c"
   ]
  },
  {
   "cell_type": "code",
   "execution_count": 22,
   "id": "97c9931f",
   "metadata": {},
   "outputs": [
    {
     "name": "stdout",
     "output_type": "stream",
     "text": [
      "Src/builtin.c:\t\t     * possible escape characters recognized by ANSI.\n",
      "Src/prompt.c:/* Defines standard ANSI colour names in index order */\n",
      "Src/prompt.c: * Return index of ANSI colour for which *teststrp is an abbreviation.\n",
      "Src/prompt.c:    /* Out of range of termcap colours and basic ANSI set. */\n",
      "Src/prompt.c:\t * If 0 to 7, assume standard ANSI works, if 8 to 255, assume\n",
      "Src/utils.c: * is contained in the ANSI standard C library, but a lot of them seem *\n"
     ]
    }
   ],
   "source": [
    "#V.16\n",
    "# Busca en el contenido de los ficheros de Src cuyo nombre acabe en .c\n",
    "# aquellas líneas que contengan la palabra \"ansi\" (no como fragmento\n",
    "# de otra function más larga), sin atender al uso de mayúsculas\n",
    "grep -w -i \"ansi\" Src/*.c"
   ]
  },
  {
   "cell_type": "code",
   "execution_count": 23,
   "id": "9505057a",
   "metadata": {},
   "outputs": [
    {
     "name": "stdout",
     "output_type": "stream",
     "text": [
      "Functions/Misc/zcalc:# and the standard C-like notation with a leading 0x for hexadecimal is\n",
      "Doc/Zsh/options.yo:Output hexadecimal numbers in the standard C format, for example `tt(0xFF)'\n",
      "Doc/Zsh/arith.yo:If the tt(C_BASES) option is set, hexadecimal numbers are output in the standard C\n",
      "Completion/Unix/Command/_gcc:  '-ffreestanding[do not assume that standard C libraries and main exist]'\n",
      "Src/utils.c: * is contained in the ANSI standard C library, but a lot of them seem *\n"
     ]
    }
   ],
   "source": [
    "#V.17\n",
    "# Busca recursivamente en el directorio actual ficheros que contengan\n",
    "# la cadena \"standard C\" (usa las comillas para quitar el significado especial al carácter espacio)\n",
    "grep -r \"standard C\""
   ]
  },
  {
   "cell_type": "code",
   "execution_count": 24,
   "id": "82286da6",
   "metadata": {},
   "outputs": [
    {
     "name": "stdout",
     "output_type": "stream",
     "text": [
      "Doc/Zsh/arith.yo:example, by giving the command `tt(print - $(( 12345678901 )))'; if the\n"
     ]
    }
   ],
   "source": [
    "#V.18\n",
    "# Busca recursivamente en el directorio \"Doc\" ficheros que contengan\n",
    "# una cadena numérica que empiece por cualquier número seguido de \"567\"\n",
    "grep -r  \"[0-9]567\" Doc"
   ]
  },
  {
   "cell_type": "code",
   "execution_count": 25,
   "id": "350864a8",
   "metadata": {},
   "outputs": [
    {
     "name": "stdout",
     "output_type": "stream",
     "text": [
      "Doc/Zsh/params.yo:7-bit subset (ASCII) is used.  For example, if the character set\n"
     ]
    }
   ],
   "source": [
    "#V.19\n",
    "# Busca recursivamente en el directorio \"Doc\" ficheros que contengan\n",
    "# líneas que comiencen por un número seguido de un guión (-)\n",
    "grep -r \"^[0-9]-\" Doc"
   ]
  },
  {
   "cell_type": "code",
   "execution_count": 26,
   "id": "ceb1d47e",
   "metadata": {},
   "outputs": [
    {
     "name": "stdout",
     "output_type": "stream",
     "text": [
      "NEWS:- builtin interface to pcre library\n",
      "INSTALL:zsh tries to make features from curses available and if the curses library\n",
      "INSTALL:The --enable-additional-fpath option may be used to add arbitrary\n",
      "INSTALL:This searches for POSIX capabilities; if found, the `cap' library\n"
     ]
    }
   ],
   "source": [
    "# Busca en los ficheros \"NEWS\" e \"INSTALL\" líneas que acaben por \"rary\"\n",
    "grep \"rary$\" NEWS INSTALL"
   ]
  },
  {
   "cell_type": "markdown",
   "id": "969ee442",
   "metadata": {},
   "source": [
    "### Compresión y descompresión"
   ]
  },
  {
   "cell_type": "markdown",
   "id": "31a2732a-bcb4-4fdf-98e2-6a5f6898faf1",
   "metadata": {},
   "source": [
    "Este ejercicio presupone que has generado los ficheros necesarios para el ejercicio anterior y estás situado en el directorio `zsh`.\n",
    "\n",
    "En caso necesario, re-ejecuta el cuaderno desde la primera celda del ejercicio anterior."
   ]
  },
  {
   "cell_type": "code",
   "execution_count": 27,
   "id": "9bb2837a",
   "metadata": {},
   "outputs": [
    {
     "name": "stdout",
     "output_type": "stream",
     "text": [
      "/home/jupyter-91q0xzovat/p4b-ejercicios/zsh\n"
     ]
    }
   ],
   "source": [
    "pwd"
   ]
  },
  {
   "cell_type": "code",
   "execution_count": 28,
   "id": "8b05328f",
   "metadata": {},
   "outputs": [
    {
     "name": "stdout",
     "output_type": "stream",
     "text": [
      "aclocal.m4  config.guess  FEATURES    MACHINES       README        Util\n",
      "aczsh.m4    config.sub    Functions   Makefile.in    Scripts\n",
      "ChangeLog   configure.ac  INSTALL     Misc           Src\n",
      "Completion  Doc           install-sh  mkinstalldirs  StartupFiles\n",
      "Config      Etc           LICENCE     NEWS           Test\n"
     ]
    }
   ],
   "source": [
    "#V.20\n",
    "ls"
   ]
  },
  {
   "cell_type": "code",
   "execution_count": 29,
   "id": "7fdd97fb",
   "metadata": {},
   "outputs": [],
   "source": [
    "#V.21\n",
    "# Crea un fichero empaquetado con tar comprimido con gzip, llamado\n",
    "# \"zsh-doc.tar.gz\" que contenga el directorio \"Doc\" al completo, sin\n",
    "# mostrar por pantalla los ficheros que se van empaquetando\n",
    "tar czf zsh-doc.tar.gz Doc"
   ]
  },
  {
   "cell_type": "code",
   "execution_count": 30,
   "id": "c1705d23",
   "metadata": {},
   "outputs": [
    {
     "name": "stdout",
     "output_type": "stream",
     "text": [
      "Util/check_exports\n",
      "Misc/compctl-examples\n",
      "Misc/vcs_info-examples\n"
     ]
    }
   ],
   "source": [
    "#V.22\n",
    "# Crea un fichero empaquetado con tar comprimido con gzip, llamado\n",
    "# \"zsh-util-misc.tar.gz\" que contenga los ficheros ubicados en los \n",
    "# directorios \"Util\" y \"Misc\" cuyo nombre contiene la cadena \"ex\",\n",
    "# mostrando por pantalla los ficheros que se van empaquetando\n",
    "tar zcvf zsh-util-misc.tar.gz Util/*ex* Misc/*ex* "
   ]
  },
  {
   "cell_type": "code",
   "execution_count": 31,
   "id": "7cd1e1f5-1586-4cc8-ad92-f9dd1f1f92ea",
   "metadata": {},
   "outputs": [
    {
     "name": "stdout",
     "output_type": "stream",
     "text": [
      "aclocal.m4    config.sub    INSTALL      mkinstalldirs  Test\n",
      "aczsh.m4      configure.ac  install-sh   NEWS           Util\n",
      "ChangeLog     Doc           LICENCE      README         zsh-doc.tar.gz\n",
      "Completion    Etc           MACHINES     Scripts        zsh-util-misc.tar.gz\n",
      "Config        FEATURES      Makefile.in  Src\n",
      "config.guess  Functions     Misc         StartupFiles\n"
     ]
    }
   ],
   "source": [
    "#V.23\n",
    "ls"
   ]
  },
  {
   "cell_type": "code",
   "execution_count": 32,
   "id": "6e1e7602",
   "metadata": {},
   "outputs": [
    {
     "name": "stdout",
     "output_type": "stream",
     "text": [
      "-rwxr-xr-x jupyter-91q0xzovat/jupyter-91q0xzovat 1701 2024-11-08 13:57 Util/check_exports\n",
      "-rw-r--r-- jupyter-91q0xzovat/jupyter-91q0xzovat 29632 2024-11-08 13:57 Misc/compctl-examples\n",
      "-rw-r--r-- jupyter-91q0xzovat/jupyter-91q0xzovat 25691 2024-11-08 13:57 Misc/vcs_info-examples\n"
     ]
    }
   ],
   "source": [
    "#V.24\n",
    "# Muestra los ficheros que hay dentro del empaquetado \"zsh-util-misc.tar.gz\"\n",
    "# sin extraer su contenido\n",
    "\n",
    "tar tzfv zsh-util-misc.tar.gz"
   ]
  },
  {
   "cell_type": "code",
   "execution_count": 132,
   "id": "acfa06db",
   "metadata": {},
   "outputs": [],
   "source": [
    "#V.25\n",
    "# Borra los ficheros ubicados en los directorios \n",
    "# \"Util\" y \"Misc\" cuyo nombre contiene la cadena \"ex\",\n",
    "rm Util/*ex* Misc/*ex*"
   ]
  },
  {
   "cell_type": "code",
   "execution_count": 133,
   "id": "60c3020b",
   "metadata": {},
   "outputs": [
    {
     "name": "stdout",
     "output_type": "stream",
     "text": [
      "En la rama master\n",
      "Tu rama está actualizada con 'origin/master'.\n",
      "\n",
      "Cambios no rastreados para el commit:\n",
      "  (usa \"git add/rm <archivo>...\" para actualizar a lo que se le va a hacer commit)\n",
      "  (usa \"git restore <archivo>...\" para descartar los cambios en el directorio de trabajo)\n",
      "\tborrados:        Misc/compctl-examples\n",
      "\tborrados:        Misc/vcs_info-examples\n",
      "\tborrados:        Util/check_exports\n",
      "\n",
      "Archivos sin seguimiento:\n",
      "  (usa \"git add <archivo>...\" para incluirlo a lo que será confirmado)\n",
      "\tzsh-doc.tar.gz\n",
      "\tzsh-util-misc.tar.gz\n",
      "\n",
      "sin cambios agregados al commit (usa \"git add\" y/o \"git commit -a\")\n"
     ]
    }
   ],
   "source": [
    "#V.26\n",
    "# Muestra el estado del árbol de trabajo (copia del repositorio Git de \"zsh\")\n",
    "git status"
   ]
  },
  {
   "cell_type": "code",
   "execution_count": 134,
   "id": "96ee2e7d",
   "metadata": {},
   "outputs": [
    {
     "name": "stdout",
     "output_type": "stream",
     "text": [
      "Util/check_exports\n",
      "Misc/compctl-examples\n",
      "Misc/vcs_info-examples\n"
     ]
    }
   ],
   "source": [
    "#V.27\n",
    "# Desempaqueta el fichero \"zsh-util-misc.tar.gz\", mostrando\n",
    "# los ficheros que se van generando al descomprimir\n",
    "tar xvf zsh-util-misc.tar.gz"
   ]
  },
  {
   "cell_type": "code",
   "execution_count": 135,
   "id": "38aaf2c8",
   "metadata": {},
   "outputs": [],
   "source": [
    "# Borra todos los ficheros del directorio actual que acaben en \"tar.gz\"\n",
    "rm *tar.gz"
   ]
  },
  {
   "cell_type": "code",
   "execution_count": 136,
   "id": "22fdf85c",
   "metadata": {},
   "outputs": [
    {
     "name": "stdout",
     "output_type": "stream",
     "text": [
      "En la rama master\n",
      "Tu rama está actualizada con 'origin/master'.\n",
      "\n",
      "nada para hacer commit, el árbol de trabajo está limpio\n"
     ]
    }
   ],
   "source": [
    "# Muestra el estado del árbol de trabajo (copia del repositorio Git de \"zsh\")\n",
    "git status"
   ]
  },
  {
   "cell_type": "markdown",
   "id": "dffca928-c855-441b-aa6c-c9cb26fcab63",
   "metadata": {},
   "source": [
    "PREGUNTA: ¿Por qué ya no aparecen ficheros en estado *borrado*?"
   ]
  },
  {
   "cell_type": "markdown",
   "id": "abfa5406-f60d-4f3e-8e68-266a177ec098",
   "metadata": {},
   "source": [
    "RESPUESTA: Los ficheros no aparecen en estado borrado porque, al desempacar el archivo .tar, los ficheros contenidos no fueron rastreados por Git. Por lo tanto, al eliminarlos, no aparecen como borrados en el estado de Git.\n",
    "\n"
   ]
  },
  {
   "cell_type": "markdown",
   "id": "0bbf22c8-18b7-4d90-9781-8c46a8b72021",
   "metadata": {},
   "source": [
    "**FIN DEL CUADERNO** (*no borres esta celda*)\n",
    "\n",
    "@@@@ practica5b-busquedas-ejercicios.ipynb @@@@"
   ]
  }
 ],
 "metadata": {
  "kernelspec": {
   "display_name": "Bash",
   "language": "bash",
   "name": "bash"
  },
  "language_info": {
   "codemirror_mode": "shell",
   "file_extension": ".sh",
   "mimetype": "text/x-sh",
   "name": "bash"
  }
 },
 "nbformat": 4,
 "nbformat_minor": 5
}
