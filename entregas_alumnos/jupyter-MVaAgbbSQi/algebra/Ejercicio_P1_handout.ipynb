{
 "cells": [
  {
   "cell_type": "markdown",
   "metadata": {},
   "source": [
    "# Práctica 1: Ejercicio para entregar. \n",
    "\n",
    "## Números reales y complejos en Python\n"
   ]
  },
  {
   "cell_type": "markdown",
   "metadata": {},
   "source": [
    "## Pon aquí tu NOMBRE:\n",
    "Dario Navarro\n",
    "\n"
   ]
  },
  {
   "cell_type": "markdown",
   "metadata": {},
   "source": [
    "Partimos de tu número de DNI, que debe contener 9 dígitos.\n",
    "DNI = abcdefgh  . Por ejemplo, DNI = 23982606\n",
    "\n",
    "Calcula la distancia de tu DNI al número más próximo. \n",
    "También la distancia del inverso (1/DNI) al número más próximo"
   ]
  },
  {
   "cell_type": "code",
   "execution_count": 4,
   "metadata": {},
   "outputs": [
    {
     "ename": "ModuleNotFoundError",
     "evalue": "No module named 'numpy'",
     "output_type": "error",
     "traceback": [
      "\u001b[0;31m---------------------------------------------------------------------------\u001b[0m",
      "\u001b[0;31mModuleNotFoundError\u001b[0m                       Traceback (most recent call last)",
      "Cell \u001b[0;32mIn[4], line 2\u001b[0m\n\u001b[1;32m      1\u001b[0m \u001b[38;5;66;03m# Completar aquí (1 punto)\u001b[39;00m\n\u001b[0;32m----> 2\u001b[0m \u001b[38;5;28;01mimport\u001b[39;00m \u001b[38;5;21;01mnumpy\u001b[39;00m \u001b[38;5;28;01mas\u001b[39;00m \u001b[38;5;21;01mnp\u001b[39;00m\n\u001b[1;32m      3\u001b[0m np\u001b[38;5;241m.\u001b[39mspacing(\u001b[38;5;241m17469612\u001b[39m)\n\u001b[1;32m      7\u001b[0m \u001b[38;5;66;03m# Fin Completar aquí ------------------------------------\u001b[39;00m\n",
      "\u001b[0;31mModuleNotFoundError\u001b[0m: No module named 'numpy'"
     ]
    }
   ],
   "source": [
    "# Completar aquí (1 punto)\n",
    "import numpy as np\n",
    "np.spacing(17469612)\n",
    "\n",
    "\n",
    "\n",
    "# Fin Completar aquí ------------------------------------"
   ]
  },
  {
   "cell_type": "markdown",
   "metadata": {},
   "source": [
    "Define una función que primero multiplique $100$ veces tu número de DNI por el \n",
    "número $1/10$ y después divida $100$ veces el número obtenido por $1/10$. \n",
    "Imprime en pantalla el valor resultante y ejecuta un operador booleano para \n",
    "averiguar si el valor obtenido coincide con tu DNI.\n",
    "\n",
    "¿Obtienes tu DNI? ¿Por qué?"
   ]
  },
  {
   "cell_type": "code",
   "execution_count": null,
   "metadata": {},
   "outputs": [],
   "source": [
    "# Completar aquí  (1 punto)\n",
    "\n",
    "\n",
    "\n",
    "# Fin Completar aquí ------------------------------------"
   ]
  },
  {
   "cell_type": "markdown",
   "metadata": {},
   "source": [
    "Considera los números complejos $z_1 = a + bj$ y $z_2 = g + hj$ (recuerda que DNI = abcdefgh)  \n",
    "Calcula la forma polar de ambos números dando el módulo y el argumento. Expresa la fase (argumento) en grados"
   ]
  },
  {
   "cell_type": "code",
   "execution_count": null,
   "metadata": {},
   "outputs": [],
   "source": [
    "# Completar aquí  (1 punto)\n",
    "\n",
    "\n",
    "\n",
    "# Fin Completar aquí ------------------------------------"
   ]
  },
  {
   "cell_type": "markdown",
   "metadata": {},
   "source": [
    "Realiza las siguientes operaciones:\n",
    "\n",
    "$z_1 + z_2$, $z_1 - z_2$, $z_1 * z_2$, $z_1 / z_2$, $z_2^3$  y \n",
    "conjugado de $z_1$"
   ]
  },
  {
   "cell_type": "code",
   "execution_count": null,
   "metadata": {},
   "outputs": [],
   "source": [
    "# Completar aquí  (1 punto)\n",
    "\n",
    "\n",
    "\n",
    "# Fin Completar aquí ------------------------------------"
   ]
  },
  {
   "cell_type": "markdown",
   "metadata": {},
   "source": [
    "Introduce el número complejo $z = e^{2\\pi j/ 6}$ y calcula\n",
    "$z^k$ para $1\\leq k\\leq 7$\n",
    "\n",
    "¿Es $z = z^7$ ? ¿Por qué?"
   ]
  },
  {
   "cell_type": "code",
   "execution_count": null,
   "metadata": {},
   "outputs": [],
   "source": [
    "# Completar aquí  (1 punto)\n",
    "\n",
    "\n",
    "\n",
    "# Fin Completar aquí ------------------------------------"
   ]
  },
  {
   "cell_type": "markdown",
   "metadata": {},
   "source": [
    "Consideremos la función \n",
    "$$f(t) = j \\frac{1}{1 + t}e^{ j (t + \\frac{\\pi}{2})}, \\quad 0\\leq t\\leq 4\\pi$$\n",
    "\n",
    "**Resuelve las dos siguientes cuestiones con LÁPIZ Y PAPEL**\n",
    "\n",
    "1. Calcula el módulo y la fase (o argumento principal) de $f(t)$.\n",
    "2. Calcula la forma binómica de $f(t)$ y $\\frac{1}{f(t)}$. "
   ]
  },
  {
   "cell_type": "code",
   "execution_count": null,
   "metadata": {},
   "outputs": [],
   "source": [
    "# Completar aquí  (2 puntos)\n",
    "\n",
    "#ENTREGA APARTE EN UN PDF (o rellena aquí si tienen conocimientos de LaTeX)\n",
    "\n",
    "# Fin Completar aquí ------------------------------------"
   ]
  },
  {
   "cell_type": "markdown",
   "metadata": {},
   "source": [
    "Calcula (python) el módulo y la fase (o argumento principal) de $f(1)$ y el valor de $1/f(1)$ "
   ]
  },
  {
   "cell_type": "code",
   "execution_count": null,
   "metadata": {},
   "outputs": [],
   "source": [
    "# Completar aquí  (1 punto)\n",
    "\n",
    "\n",
    "\n",
    "# Fin Completar aquí ------------------------------------"
   ]
  },
  {
   "cell_type": "markdown",
   "metadata": {},
   "source": [
    " Haz un gráfico $f$, es decir, representa en el eje $x$ la parte real de $f$ y en el eje $y$ la parte imaginaria. "
   ]
  },
  {
   "cell_type": "code",
   "execution_count": null,
   "metadata": {},
   "outputs": [],
   "source": [
    "# Completar aquí  (1 punto)\n",
    "\n",
    "\n",
    "\n",
    "# Fin Completar aquí ------------------------------------"
   ]
  },
  {
   "cell_type": "markdown",
   "metadata": {},
   "source": [
    "Haz un gráfico de $\\text{Re}f(t)$ e $\\text{Im}f(t)$."
   ]
  },
  {
   "cell_type": "code",
   "execution_count": null,
   "metadata": {},
   "outputs": [],
   "source": [
    "# Completar aquí  (1 punto)\n",
    "\n",
    "\n",
    "\n",
    "# Fin Completar aquí ------------------------------------"
   ]
  }
 ],
 "metadata": {
  "interpreter": {
   "hash": "c9e6f42c9bf154cf9b9e87541e517fa2c69e39349a7d6df0c90be082366bd360"
  },
  "kernelspec": {
   "display_name": "Python 3 (ipykernel)",
   "language": "python",
   "name": "python3"
  },
  "language_info": {
   "codemirror_mode": {
    "name": "ipython",
    "version": 3
   },
   "file_extension": ".py",
   "mimetype": "text/x-python",
   "name": "python",
   "nbconvert_exporter": "python",
   "pygments_lexer": "ipython3",
   "version": "3.10.10"
  }
 },
 "nbformat": 4,
 "nbformat_minor": 4
}
