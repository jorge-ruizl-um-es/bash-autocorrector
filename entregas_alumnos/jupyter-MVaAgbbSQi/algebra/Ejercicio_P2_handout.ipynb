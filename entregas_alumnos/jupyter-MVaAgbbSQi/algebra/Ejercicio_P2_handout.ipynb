{
 "cells": [
  {
   "cell_type": "markdown",
   "metadata": {},
   "source": [
    "# Práctica 2: Ejercicio para entregar. \n",
    "\n",
    "## Manipulación de ndarrays\n"
   ]
  },
  {
   "cell_type": "markdown",
   "metadata": {},
   "source": [
    "Invéntate un número N de ocho dígitos todos distintos de cero, N = abcdefgh  \n",
    "Por ejemplo, N = 23982637 \n",
    "\n",
    "Introduce N en forma de 1d-array e imprímelo junto con sus atributos forma,  \n",
    "tamaño y tipo de datos"
   ]
  },
  {
   "cell_type": "code",
   "execution_count": null,
   "metadata": {
    "scrolled": true
   },
   "outputs": [],
   "source": [
    "# completar aquí\n",
    "\n",
    "\n",
    "\n",
    "# fin completar aquí"
   ]
  },
  {
   "cell_type": "markdown",
   "metadata": {},
   "source": [
    "Define e imprime los siguientes arrays:\n",
    "\n",
    "1. Un vector cuyo primer elemento sea el dígito más pequeño de N, cuyo último elemento  \n",
    "sea el dígito más grande, y que contenga 6 elementos equiespaciados.\n",
    "2. Un vector cuyo primer elemento sea el dígito más pequeño de N, cuyo último elemento  \n",
    "sea el dígito más grande, y donde cada elemento esté separado del siguiente en una unidad."
   ]
  },
  {
   "cell_type": "code",
   "execution_count": null,
   "metadata": {},
   "outputs": [],
   "source": [
    "# completar aquí\n",
    "\n",
    "\n",
    "\n",
    "# fin completar aquí"
   ]
  },
  {
   "cell_type": "markdown",
   "metadata": {},
   "source": [
    "Apila de manera horizontal los vectores del apartado anterior  \n",
    "Imprime el tamaño y el array resultante\n",
    "\n",
    "Utiliza **vstack** para generar una matriz con dos filas, donde cada una de las cuales  \n",
    "es el vector generado en el apartado 1 anterior"
   ]
  },
  {
   "cell_type": "code",
   "execution_count": null,
   "metadata": {},
   "outputs": [],
   "source": [
    "# completar aquí\n",
    "\n",
    "\n",
    "\n",
    "# fin completar aquí"
   ]
  },
  {
   "cell_type": "markdown",
   "metadata": {},
   "source": [
    "Coge el número $n$ dado por las dos últimas cifras de N y sea $A$ la matriz $10\\times 10$  \n",
    "que contiene los números $n, n+2, n+4,\\dots$. Por ejemplo, si $n = 37$ la matriz es\n",
    "\n",
    "$$A=\\left[\\begin{array}{cccc}37&39&\\cdots&55\\\\57&59&\\cdots&75\\\\\\vdots&\\vdots& &\\vdots\\\\217&219&\\cdots&235\\end{array}\\right]$$"
   ]
  },
  {
   "cell_type": "markdown",
   "metadata": {},
   "source": [
    "Escribe $A$ como un 2d-array usado **una sola instrucción** (sin escribir todos los números) e    \n",
    "imprime la matriz"
   ]
  },
  {
   "cell_type": "code",
   "execution_count": null,
   "metadata": {
    "scrolled": true
   },
   "outputs": [],
   "source": [
    "# completar aquí\n",
    "\n",
    "\n",
    "\n",
    "# fin completar aquí"
   ]
  },
  {
   "cell_type": "markdown",
   "metadata": {},
   "source": [
    "Imaginemos que el array $A$ anterior contiene las \"features\" $X$ y las \"labels\" $y$ de un modelo de  \n",
    "\"machine learning\". En concreto, $X$ almacena todos los datos execpto la última columna, mientras  \n",
    "que $y$ contiene los datos de la última columna.\n",
    "\n",
    "Genera $X$ e $y$"
   ]
  },
  {
   "cell_type": "code",
   "execution_count": null,
   "metadata": {},
   "outputs": [],
   "source": [
    "# completar aquí\n",
    "\n",
    "\n",
    "\n",
    "# fin completar aquí"
   ]
  },
  {
   "cell_type": "markdown",
   "metadata": {},
   "source": [
    "Separa los datos del array $A$ en dos subconjuntos, un \"training dataset\" y un \"test dataset\".  \n",
    "El primero estará formado por las primeras 7 filas y el segundo por las filas restantes"
   ]
  },
  {
   "cell_type": "code",
   "execution_count": null,
   "metadata": {},
   "outputs": [],
   "source": [
    "# completar aquí\n",
    "\n",
    "\n",
    "\n",
    "# fin completar aquí"
   ]
  }
 ],
 "metadata": {
  "interpreter": {
   "hash": "c9e6f42c9bf154cf9b9e87541e517fa2c69e39349a7d6df0c90be082366bd360"
  },
  "kernelspec": {
   "display_name": "Python 3 (ipykernel)",
   "language": "python",
   "name": "python3"
  },
  "language_info": {
   "codemirror_mode": {
    "name": "ipython",
    "version": 3
   },
   "file_extension": ".py",
   "mimetype": "text/x-python",
   "name": "python",
   "nbconvert_exporter": "python",
   "pygments_lexer": "ipython3",
   "version": "3.10.10"
  }
 },
 "nbformat": 4,
 "nbformat_minor": 4
}
