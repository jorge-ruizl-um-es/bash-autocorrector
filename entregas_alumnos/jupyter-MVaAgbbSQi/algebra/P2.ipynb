{
 "cells": [
  {
   "cell_type": "markdown",
   "metadata": {},
   "source": [
    "# Práctica 2: N-dimensional arrays en Python "
   ]
  },
  {
   "cell_type": "markdown",
   "metadata": {},
   "source": [
    "[The N-dimensional array](https://docs.scipy.org/doc/numpy-1.13.0/reference/arrays.ndarray.html)"
   ]
  },
  {
   "cell_type": "markdown",
   "metadata": {},
   "source": [
    "**ndarray** (N-dimensional array) es la forma más usual para almacenar datos y trabajar con ellos\n",
    " en el módulo Numpy de Python.\n",
    "\n",
    " Para fijar ideas, podemos imaginar que un **1d-ndarray** es un vector \n",
    " y un **2d-array** es una matriz.\n",
    "\n",
    " Veamos cómo se crea un **ndarray**"
   ]
  },
  {
   "cell_type": "code",
   "execution_count": 4,
   "metadata": {},
   "outputs": [
    {
     "ename": "ModuleNotFoundError",
     "evalue": "No module named 'numpy'",
     "output_type": "error",
     "traceback": [
      "\u001b[0;31m---------------------------------------------------------------------------\u001b[0m",
      "\u001b[0;31mModuleNotFoundError\u001b[0m                       Traceback (most recent call last)",
      "Cell \u001b[0;32mIn[4], line 3\u001b[0m\n\u001b[1;32m      1\u001b[0m \u001b[38;5;66;03m# importamos el módulo Numpy the Python\u001b[39;00m\n\u001b[0;32m----> 3\u001b[0m \u001b[38;5;28;01mimport\u001b[39;00m \u001b[38;5;21;01mnumpy\u001b[39;00m \u001b[38;5;28;01mas\u001b[39;00m \u001b[38;5;21;01mnp\u001b[39;00m\n",
      "\u001b[0;31mModuleNotFoundError\u001b[0m: No module named 'numpy'"
     ]
    }
   ],
   "source": [
    "# importamos el módulo Numpy the Python\n",
    "\n",
    "import numpy as np"
   ]
  },
  {
   "cell_type": "code",
   "execution_count": 5,
   "metadata": {},
   "outputs": [
    {
     "ename": "NameError",
     "evalue": "name 'np' is not defined",
     "output_type": "error",
     "traceback": [
      "\u001b[0;31m---------------------------------------------------------------------------\u001b[0m",
      "\u001b[0;31mNameError\u001b[0m                                 Traceback (most recent call last)",
      "Cell \u001b[0;32mIn[5], line 2\u001b[0m\n\u001b[1;32m      1\u001b[0m \u001b[38;5;66;03m# definimos un vector de 3 componentes (1d-array)\u001b[39;00m\n\u001b[0;32m----> 2\u001b[0m x \u001b[38;5;241m=\u001b[39m \u001b[43mnp\u001b[49m\u001b[38;5;241m.\u001b[39marray([\u001b[38;5;241m1\u001b[39m, \u001b[38;5;241m4\u001b[39m, \u001b[38;5;241m3\u001b[39m])\n\u001b[1;32m      3\u001b[0m \u001b[38;5;28mprint\u001b[39m(x)\n\u001b[1;32m      4\u001b[0m \u001b[38;5;28mprint\u001b[39m(\u001b[38;5;28mtype\u001b[39m(x)) \u001b[38;5;66;03m# tipo de dato\u001b[39;00m\n",
      "\u001b[0;31mNameError\u001b[0m: name 'np' is not defined"
     ]
    }
   ],
   "source": [
    "# definimos un vector de 3 componentes (1d-array)\n",
    "x = np.array([1, 4, 3])\n",
    "print(x)\n",
    "print(type(x)) # tipo de dato\n",
    "\n",
    "# veamos algunos atributos (características) del array\n",
    "print(x.shape) # forma o dimensión del array\n",
    "print(x.size)  # tamaño del array\n",
    "print(x.dtype) # tipo de datos que contiene, que deben ser homogéneos\n",
    "\n",
    "#IMPORTANTE: el shape del array 1d anterior es (3,)\n",
    "# quiere decir que lo considerará como fila (1,3) o\n",
    "# columna (3,1) según le convenga. "
   ]
  },
  {
   "cell_type": "code",
   "execution_count": 3,
   "metadata": {},
   "outputs": [
    {
     "name": "stdout",
     "output_type": "stream",
     "text": [
      "[[1 4 3]\n",
      " [9 2 7]]\n",
      "<class 'numpy.ndarray'>\n",
      "(2, 3)\n",
      "6\n",
      "int32\n"
     ]
    }
   ],
   "source": [
    "# definimos una matriz (2d-array)\n",
    "y = np.array([[1, 4, 3], [9, 2, 7]])\n",
    "print(y)\n",
    "print(type(y)) # tipo de dato\n",
    "\n",
    "# veamos algunos atributos (características) del array\n",
    "print(y.shape) # forma o dimensión del array\n",
    "print(y.size)  # tamaño del array\n",
    "print(y.dtype) # tipo de datos que contiene\n"
   ]
  },
  {
   "cell_type": "markdown",
   "metadata": {},
   "source": [
    "Algunas funciones usuales para crear un ndarray son:"
   ]
  },
  {
   "cell_type": "code",
   "execution_count": 4,
   "metadata": {},
   "outputs": [
    {
     "name": "stdout",
     "output_type": "stream",
     "text": [
      "[[0. 0. 0.]\n",
      " [0. 0. 0.]\n",
      " [0. 0. 0.]]\n"
     ]
    }
   ],
   "source": [
    "# array de ceros de tamaño especificado\n",
    "a = np.zeros([3,3])\n",
    "print(a)"
   ]
  },
  {
   "cell_type": "code",
   "execution_count": 5,
   "metadata": {},
   "outputs": [
    {
     "name": "stdout",
     "output_type": "stream",
     "text": [
      "[1. 1. 1. 1. 1.]\n"
     ]
    }
   ],
   "source": [
    "# array de unos de tamaño especificado\n",
    "b = np.ones([5])\n",
    "print(b)"
   ]
  },
  {
   "cell_type": "code",
   "execution_count": 6,
   "metadata": {},
   "outputs": [
    {
     "name": "stdout",
     "output_type": "stream",
     "text": [
      "float64\n",
      "[0.+0.j 0.+0.j 0.+0.j 0.+0.j 0.+0.j]\n"
     ]
    }
   ],
   "source": [
    "# si queremos que el array contenga números complejos hay que especificarlo\n",
    "\n",
    "d = np.zeros(5)\n",
    "print(d.dtype)\n",
    "d = np.zeros(5, dtype=complex)\n",
    "print(d)"
   ]
  },
  {
   "cell_type": "code",
   "execution_count": 7,
   "metadata": {},
   "outputs": [
    {
     "name": "stdout",
     "output_type": "stream",
     "text": [
      "[1.  1.5 2.  2.5 3.  3.5 4.  4.5]\n"
     ]
    }
   ],
   "source": [
    "# array 1d donde se especifica el inicio, el final (no incluido) y el paso\n",
    "c = np.arange(1, 5, 0.5)\n",
    "print(c)"
   ]
  },
  {
   "cell_type": "code",
   "execution_count": 8,
   "metadata": {},
   "outputs": [
    {
     "name": "stdout",
     "output_type": "stream",
     "text": [
      "[0.         0.11111111 0.22222222 0.33333333 0.44444444 0.55555556\n",
      " 0.66666667 0.77777778 0.88888889 1.        ]\n"
     ]
    }
   ],
   "source": [
    "# array donde se especifica el inicio, final (incluido) y el número de \n",
    "# elementos equiespaciados\n",
    "d = np.linspace(0, 1, 10)\n",
    "print(d)"
   ]
  },
  {
   "cell_type": "markdown",
   "metadata": {},
   "source": [
    "Combinando ndarrays: apilamiento (**stack**) horizontal y vertical.\n",
    "\n",
    "En muchas ocasiones es necesario apilar datos de forma horizontal o vertical."
   ]
  },
  {
   "cell_type": "code",
   "execution_count": 9,
   "metadata": {},
   "outputs": [
    {
     "name": "stdout",
     "output_type": "stream",
     "text": [
      "[1 2 3]\n",
      "[4 5 6]\n",
      "[[1 2 3]\n",
      " [4 5 6]]\n",
      "(2, 3)\n"
     ]
    }
   ],
   "source": [
    "# creamos un primer array\n",
    "a1 = np.array([1, 2, 3])\n",
    "print(a1) \n",
    "\n",
    "# creamos un segundo array\n",
    "a2 = np.array([4, 5, 6])\n",
    "print(a2)\n",
    "\n",
    "# vertical stack (apilamiento vertical)\n",
    "a3 = np.vstack((a1, a2))\n",
    "print(a3)\n",
    "print(a3.shape)"
   ]
  },
  {
   "cell_type": "code",
   "execution_count": 10,
   "metadata": {},
   "outputs": [
    {
     "name": "stdout",
     "output_type": "stream",
     "text": [
      "[1 2 3 4 5 6]\n",
      "(6,)\n"
     ]
    }
   ],
   "source": [
    "# horizontal stack (apilamiento horizontal)\n",
    "a4 = np.hstack((a1, a2))\n",
    "print(a4)\n",
    "print(a4.shape)"
   ]
  },
  {
   "cell_type": "markdown",
   "metadata": {},
   "source": [
    "En ocasiones, los datos a estudiar aparecen en otra estructura de datos, por  \n",
    "ejemplo en el tipo **lista** . Las listas son colecciones indexadas de datos.  \n",
    "Se escriben entre corchetes con sus elementos separados por comas. \n",
    "\n",
    "Para **transformar una lista en un ndarray** :"
   ]
  },
  {
   "cell_type": "code",
   "execution_count": 11,
   "metadata": {},
   "outputs": [
    {
     "name": "stdout",
     "output_type": "stream",
     "text": [
      "[1, 1, 3]\n",
      "<class 'list'>\n",
      "[1 1 3]\n",
      "<class 'numpy.ndarray'>\n"
     ]
    }
   ],
   "source": [
    "lista = [1, 1, 3]  # esto es una lista en Python\n",
    "print(lista)\n",
    "print(type(lista))\n",
    "\n",
    "vector = np.array(lista) # convertimos la lista en un 1d-array (vector)\n",
    "print(vector)\n",
    "print(type(vector))"
   ]
  },
  {
   "cell_type": "code",
   "execution_count": 12,
   "metadata": {},
   "outputs": [
    {
     "name": "stdout",
     "output_type": "stream",
     "text": [
      "[[11, 22], [33, 44], [55, 66]]\n",
      "<class 'list'>\n",
      "[[11 22]\n",
      " [33 44]\n",
      " [55 66]]\n",
      "<class 'numpy.ndarray'>\n",
      "(3, 2)\n"
     ]
    }
   ],
   "source": [
    "# Otra lista (de listas) de datos\n",
    "data = [[11, 22],\n",
    "[33, 44],\n",
    "[55, 66]]\n",
    "print(data)\n",
    "print(type(data))\n",
    "\n",
    "# convertimos la lista en un 2d-array (matriz)\n",
    "data = np.array(data)\n",
    "print(data)\n",
    "print(type(data))\n",
    "print(data.shape)"
   ]
  },
  {
   "cell_type": "markdown",
   "metadata": {},
   "source": [
    "Otro tipo de datos son las **tuplas**. Muy similares a las listas, pero una vez  \n",
    "creada una tupla, sus elementos no se pueden cambiar. Las tuplas son inmutables.  \n",
    "Se escriben entre paréntesis con sus elementos separados por comas \n",
    "\n",
    "Para **transformar tuplas en ndarrays** : "
   ]
  },
  {
   "cell_type": "code",
   "execution_count": 13,
   "metadata": {},
   "outputs": [
    {
     "name": "stdout",
     "output_type": "stream",
     "text": [
      "(1, 2, 3)\n",
      "<class 'tuple'>\n",
      "[1 2 3]\n",
      "<class 'numpy.ndarray'>\n"
     ]
    }
   ],
   "source": [
    "tupla = (1, 2, 3) # esto es una tupla en Python\n",
    "print(tupla)\n",
    "print(type(tupla))\n",
    "\n",
    "vector = np.array(tupla) # convertimos la tupla en un 1d-array (vector)\n",
    "print(vector)\n",
    "print(type(vector))"
   ]
  },
  {
   "cell_type": "markdown",
   "metadata": {},
   "source": [
    " ### [Array Indexing y slicing](https://docs.scipy.org/doc/numpy-1.13.0/user/basics.indexing.html)"
   ]
  },
  {
   "cell_type": "code",
   "execution_count": 14,
   "metadata": {},
   "outputs": [
    {
     "name": "stdout",
     "output_type": "stream",
     "text": [
      "11\n",
      "55\n",
      "55\n",
      "11\n"
     ]
    }
   ],
   "source": [
    "# 1d-arrays\n",
    "data = np.array([11, 22, 33, 44, 55])\n",
    "# Las componentes del array se numeran empezando desde **cero** \n",
    "# accedemos a los elementos con corchetes sobre el array\n",
    "print(data[0])\n",
    "print(data[4])\n",
    "\n",
    "# print(data[5]) ## error pues no tenemos ningún elemento\n",
    "\n",
    "# también podemos usar índices negativos:\n",
    "# -1 es el último elemento del arrary, -2 el penúltimo, etc.\n",
    "print(data[-1])\n",
    "print(data[-5])\n"
   ]
  },
  {
   "cell_type": "code",
   "execution_count": 15,
   "metadata": {},
   "outputs": [
    {
     "name": "stdout",
     "output_type": "stream",
     "text": [
      "[ 3 22 33 44 55]\n",
      "\n",
      "[1000   22   33   44   55]\n",
      "\n",
      "[1000   22   33   44   55]\n",
      "[200  22  33  44  55]\n"
     ]
    }
   ],
   "source": [
    "# Los elementos de un array se pueden modificar\n",
    "data[0] = 3\n",
    "print(data)\n",
    "print()\n",
    "\n",
    "# **Importante**: si asignamos un array a otro, la modificación de uno de ellos  \n",
    "# modifica también el otro:\n",
    "\n",
    "data1 = data  # se dice que data1 es una \"vista\" (view) de data,  \n",
    "# no es una \"copia\" (copy)\n",
    "\n",
    "data1[0] = 1000\n",
    "print(data)\n",
    "print()\n",
    "\n",
    "# tenemos que usar np.copy\n",
    "data2 = np.copy(data)\n",
    "data2[0] = 200\n",
    "print(data)\n",
    "print(data2)\n"
   ]
  },
  {
   "cell_type": "code",
   "execution_count": 16,
   "metadata": {},
   "outputs": [
    {
     "name": "stdout",
     "output_type": "stream",
     "text": [
      "[11 22 33 44 55]\n",
      "[22 33 44]\n",
      "[33 44]\n",
      "[11 22 33 44 55]\n",
      "[11 33 55]\n",
      "[22 44]\n",
      "[44 55]\n",
      "\n",
      "<class 'numpy.ndarray'>\n",
      "\n",
      "[ 0 22  0 44  0]\n"
     ]
    }
   ],
   "source": [
    "# slicing con   inicio:fin:paso (fin no incluído)\n",
    "\n",
    "data = np.array([11, 22, 33, 44, 55])\n",
    "print(data)\n",
    "print(data[1:4])    # elementos posiciones 1,2,3\n",
    "print(data[2:-1])   # elementos posiciones 2,3 \n",
    "print(data[:])      # todos\n",
    "print(data[::2])    # elementos posiciones 0,2,4\n",
    "print(data[1:-1:2]) # elementos posiciones 1,3\n",
    "print(data[-2: ])   # elementos posiciones 3,4\n",
    "print()\n",
    "# observemos que los cortes anteriores son arrays 1-dimensionales\n",
    "corte = data[::2]\n",
    "print(type(corte))\n",
    "print()\n",
    "\n",
    "#también podemos asignar nuevos valores a posiciones determinadas\n",
    "\n",
    "data[::2]=0\n",
    "print(data)"
   ]
  },
  {
   "cell_type": "code",
   "execution_count": 17,
   "metadata": {},
   "outputs": [
    {
     "name": "stdout",
     "output_type": "stream",
     "text": [
      "[[ 1  2  3  4  5  6]\n",
      " [ 7  8  9 10 11 12]\n",
      " [13 14 15 16 17 18]]\n",
      "1\n",
      "[1 2 3 4 5 6]\n",
      "\n",
      "[ 2  8 14]\n",
      "\n",
      "[[ 2  4  6]\n",
      " [14 16 18]]\n",
      "<class 'numpy.ndarray'>\n"
     ]
    }
   ],
   "source": [
    "# 2d-arrays\n",
    "data = np.array([\n",
    "    [1, 2, 3, 4, 5, 6],\n",
    "    [7, 8, 9, 10, 11, 12],\n",
    "    [13, 14, 15, 16, 17, 18]]\n",
    "    )\n",
    "print(data)\n",
    "\n",
    "# usamos el criterio usual de filas, columnas, pero empezando en cero\n",
    "print(data[0, 0])  # dato en posisión [0, 0]\n",
    "print(data[0, :])  # fila 0, todas las columnas\n",
    "print()\n",
    "print(data[:, 1])  # todos los datos de la columna 1\n",
    "print()\n",
    "subdata = data[::2, 1::2]  \n",
    "print(subdata)\n",
    "print(type(subdata)) "
   ]
  },
  {
   "cell_type": "markdown",
   "metadata": {},
   "source": [
    "En Machine Learning es habitual separar todos  los datos en las llamadas **features**  \n",
    "(características, X) y **labels** (etiquetas, y). Por ejemplo, tenemos  \n",
    "un training dataset formado por imágenes de coches para   \n",
    "entrenar una AI para que reconozca si una foto es de un coche o no. Supongamos  \n",
    "que son imágenes de $500\\times 500$ pixels en blanco y negro. Entonces cada  \n",
    "imagen es una lista de 250000 números entre 0 y 255 (0 = negro, 255 = blanco)  \n",
    "que podemos poner como una fila de un array. Finalmente, añadimos una columna  \n",
    "con las labels, por ejemplo, un uno si es un coche y un cero si no lo es."
   ]
  },
  {
   "cell_type": "code",
   "execution_count": 18,
   "metadata": {},
   "outputs": [
    {
     "name": "stdout",
     "output_type": "stream",
     "text": [
      "[[2 8 1 7 6 2]\n",
      " [0 9 2 4 9 4]\n",
      " [2 4 0 3 0 8]\n",
      " [7 5 9 3 1 1]\n",
      " [6 0 5 6 9 8]\n",
      " [0 2 3 5 8 8]\n",
      " [4 2 4 0 3 7]\n",
      " [7 5 4 0 4 7]]\n",
      "X =\n",
      " [[2 8 1 7 6]\n",
      " [0 9 2 4 9]\n",
      " [2 4 0 3 0]\n",
      " [7 5 9 3 1]\n",
      " [6 0 5 6 9]\n",
      " [0 2 3 5 8]\n",
      " [4 2 4 0 3]\n",
      " [7 5 4 0 4]]\n",
      "y =\n",
      " [2 4 8 1 8 8 7 7]\n"
     ]
    }
   ],
   "source": [
    "# La siguiente instrucción genera una matriz 8x6 con números enteros\n",
    "# aleatorios positivos y menores que 10\n",
    "datos = np.random.randint(10, size=(8,6))\n",
    "\n",
    "print(datos)\n",
    "\n",
    "# las features serán todas las filas menos el elemento de la última columna\n",
    "# las labels serán los elementos de la última columna\n",
    "\n",
    "X, y = datos[:, :-1], datos[:, -1]\n",
    "print(f\"X =\\n {X}\")\n",
    "print(f\"y =\\n {y}\")\n"
   ]
  },
  {
   "cell_type": "markdown",
   "metadata": {},
   "source": [
    "Veamos otro ejemplo de slicing"
   ]
  },
  {
   "cell_type": "code",
   "execution_count": 19,
   "metadata": {},
   "outputs": [
    {
     "name": "stdout",
     "output_type": "stream",
     "text": [
      "[[2 8 1 7 6 2]\n",
      " [0 9 2 4 9 4]\n",
      " [2 4 0 3 0 8]\n",
      " [7 5 9 3 1 1]\n",
      " [6 0 5 6 9 8]\n",
      " [0 2 3 5 8 8]\n",
      " [4 2 4 0 3 7]\n",
      " [7 5 4 0 4 7]]\n",
      "train =\n",
      " [[2 8 1 7 6 2]\n",
      " [0 9 2 4 9 4]\n",
      " [2 4 0 3 0 8]\n",
      " [7 5 9 3 1 1]\n",
      " [6 0 5 6 9 8]]\n",
      "test =\n",
      " [[0 2 3 5 8 8]\n",
      " [4 2 4 0 3 7]\n",
      " [7 5 4 0 4 7]]\n"
     ]
    }
   ],
   "source": [
    "print(datos) #recordemos nuestros datos\n",
    "\n",
    "# cogemos todas las filas desde el principio hasta split y, por otra parte,\n",
    "# tomamos todas las filas empezado desde split y hasta el final\n",
    "split = 5\n",
    "train, test = datos[:split, :], datos[split:, :]\n",
    "print(f\"train =\\n {train}\")\n",
    "print(f\"test =\\n {test}\")"
   ]
  },
  {
   "cell_type": "code",
   "execution_count": 20,
   "metadata": {},
   "outputs": [
    {
     "name": "stdout",
     "output_type": "stream",
     "text": [
      "[[ 1  2  3  4  5  6]\n",
      " [ 7  8  9 10 11 12]\n",
      " [13 14 15 16 17 18]]\n",
      "\n",
      "[[ 8  9 12]\n",
      " [14 15 18]]\n",
      "\n",
      "[2 3 8 9]\n"
     ]
    }
   ],
   "source": [
    "# slicing usando listas\n",
    "print(data)\n",
    "print()\n",
    "lista = [1,2,5]\n",
    "b = data[1:3, lista]\n",
    "print(b)\n",
    "print()\n",
    "\n",
    "#observa qué pasa al coger dos listas\n",
    "lista1 = [0,0,1,1]\n",
    "lista2 = [1,2,1,2]\n",
    "c = data[lista1, lista2]\n",
    "print(c)"
   ]
  },
  {
   "cell_type": "markdown",
   "metadata": {},
   "source": [
    "### [Array Reshape](https://docs.scipy.org/doc/numpy/reference/generated/numpy.reshape.html)"
   ]
  },
  {
   "cell_type": "markdown",
   "metadata": {},
   "source": [
    "Después de cortar (slice) los datos es habitual tener que cambiar la forma de  \n",
    "dichos datos para que se adapten a los requerimientos de algunas librerías de  \n",
    "tratamiento de datos de Python (scikit-learn, keras, etc.). Por ejemplo, estructurar  \n",
    "los datos de un 1d-array como un 2d-array.  \n",
    "Veamos algunos ejemplos."
   ]
  },
  {
   "cell_type": "code",
   "execution_count": 21,
   "metadata": {},
   "outputs": [
    {
     "name": "stdout",
     "output_type": "stream",
     "text": [
      "[11 22 33 44 55]\n",
      "(5,)\n",
      "[[11 22]\n",
      " [33 44]\n",
      " [55 66]]\n",
      "(3, 2)\n",
      "número de las filas = 3\n",
      "número de columnas = 2\n"
     ]
    }
   ],
   "source": [
    "# Empezemos viendo algunos \"data shape\" (formas de datos)\n",
    "\n",
    "data = np.array([11, 22, 33, 44, 55])\n",
    "print(data)\n",
    "print(data.shape) # devuelve una tupla con el número de elmentos del 1d-array\n",
    "\n",
    "# introducimos una lista\n",
    "data = [\n",
    "    [11, 22], \n",
    "    [33, 44],\n",
    "    [55, 66]\n",
    "    ]\n",
    "# convertimos la lista en un 2d-array\n",
    "data = np.array(data)\n",
    "print(data)\n",
    "print(data.shape) # nos devuelve una tupla con el número de filas y de columnas\n",
    "\n",
    "print(f\"número de las filas = {data.shape[0]}\")\n",
    "print(f\"número de columnas = {data.shape[1]}\")\n",
    "\n",
    "# fila = dimensión 0, columna = dimensión 1"
   ]
  },
  {
   "cell_type": "code",
   "execution_count": 22,
   "metadata": {},
   "outputs": [
    {
     "name": "stdout",
     "output_type": "stream",
     "text": [
      "[11 22 33 44 55 66 77 88]\n",
      "(8,)\n",
      "\n",
      "[[11 22 33 44]\n",
      " [55 66 77 88]]\n",
      "(2, 4)\n",
      "[[11 22]\n",
      " [33 44]\n",
      " [55 66]\n",
      " [77 88]]\n",
      "(4, 2)\n",
      "\n",
      "[[11 22 33 44]\n",
      " [55 66 77 88]]\n",
      "(2, 4)\n"
     ]
    }
   ],
   "source": [
    "# convertimos un 1d-array (vector) en un 2d-array (matriz)\n",
    "data = np.array([11, 22, 33, 44, 55, 66, 77, 88])\n",
    "print(data)\n",
    "print(data.shape)\n",
    "print()\n",
    "\n",
    "# reshape\n",
    "data = data.reshape(2,4)\n",
    "print(data)\n",
    "print(data.shape)\n",
    "\n",
    "# o también\n",
    "data = data.reshape(4,2)\n",
    "print(data)\n",
    "print(data.shape)\n",
    "print()\n",
    "\n",
    "# también podemos dejar una dimensión sin especificar (poniendo un -1) \n",
    "# y dejar que python la calcule\n",
    "data = data.reshape(2,-1)\n",
    "print(data)\n",
    "print(data.shape)"
   ]
  },
  {
   "cell_type": "markdown",
   "metadata": {},
   "source": [
    "### [Array Broadcasting](https://docs.scipy.org/doc/numpy-1.13.0/user/basics.broadcasting.html)"
   ]
  },
  {
   "cell_type": "markdown",
   "metadata": {},
   "source": [
    "Los arrays de diferentes dimensiones se pueden combinar en una misma expresión.  \n",
    "Los pequeños son \"broadcasted\" para encajar en los grandes.  \n",
    "Veamos solo dos casos sencillos."
   ]
  },
  {
   "cell_type": "code",
   "execution_count": 23,
   "metadata": {},
   "outputs": [
    {
     "name": "stdout",
     "output_type": "stream",
     "text": [
      "[1 2 3]\n",
      "2\n",
      "[3 4 5]\n"
     ]
    }
   ],
   "source": [
    "# broadcast escalar en un 1d-array\n",
    "a = np.array([1, 2, 3])\n",
    "print(a)\n",
    "b = 2\n",
    "print(b)\n",
    "# broadcast\n",
    "c = a + b\n",
    "print(c)  # hemos sumado b a cada elemento de a"
   ]
  },
  {
   "cell_type": "code",
   "execution_count": 24,
   "metadata": {},
   "outputs": [
    {
     "name": "stdout",
     "output_type": "stream",
     "text": [
      "[[1 2 3]\n",
      " [1 1 1]]\n",
      "2\n",
      "[[3 4 5]\n",
      " [3 3 3]]\n"
     ]
    }
   ],
   "source": [
    "# igual pero en un 2d-array\n",
    "A = np.array([\n",
    "    [1, 2, 3],\n",
    "    [1, 1, 1]]\n",
    "    )\n",
    "print(A)\n",
    "\n",
    "b = 2\n",
    "print(b)\n",
    "# broadcast\n",
    "C = A + b\n",
    "print(C)  "
   ]
  },
  {
   "cell_type": "code",
   "execution_count": 25,
   "metadata": {},
   "outputs": [
    {
     "name": "stdout",
     "output_type": "stream",
     "text": [
      "[[1 2 3]\n",
      " [1 1 1]]\n",
      "\n",
      "[1 2 3]\n",
      "\n",
      "[[2 4 6]\n",
      " [2 3 4]]\n"
     ]
    }
   ],
   "source": [
    "# broadcast 1d array en 2d-array\n",
    "A = np.array([ \n",
    "    [1, 2, 3], \n",
    "    [1, 1, 1]]\n",
    "    )\n",
    "print(A)\n",
    "print()\n",
    "\n",
    "b = np.array([1, 2, 3])\n",
    "print(b)\n",
    "print()\n",
    "\n",
    "# broadcast\n",
    "C = A + b\n",
    "print(C)  # hemos sumado el vector b a cada fila de A"
   ]
  },
  {
   "cell_type": "markdown",
   "metadata": {},
   "source": [
    "**Un ejemplo de aplicación de la potencia del brodcasting**"
   ]
  },
  {
   "cell_type": "code",
   "execution_count": 28,
   "metadata": {},
   "outputs": [
    {
     "name": "stdout",
     "output_type": "stream",
     "text": [
      "(3,)\n",
      "(1, 3)\n",
      "\n",
      "(3, 1)\n",
      "\n",
      "(3, 3)\n",
      "[[2 3 4]\n",
      " [3 4 5]\n",
      " [4 5 6]]\n"
     ]
    }
   ],
   "source": [
    "u = np.array([1, 2, 3]) \n",
    "print(u.shape)\n",
    "U = u.reshape(1,3)\n",
    "print(U.shape)\n",
    "print()\n",
    "\n",
    "v = np.array([1, 2, 3])\n",
    "V = v.reshape(3,1)\n",
    "print(V.shape)\n",
    "print()\n",
    "\n",
    "Z = U + V  #broadcasting\n",
    "print(Z.shape)\n",
    "print(Z)"
   ]
  },
  {
   "cell_type": "code",
   "execution_count": 31,
   "metadata": {},
   "outputs": [
    {
     "name": "stdout",
     "output_type": "stream",
     "text": [
      "\n"
     ]
    },
    {
     "data": {
      "image/png": "[encoded data removed]",
      "text/plain": [
       "<Figure size 640x480 with 2 Axes>"
      ]
     },
     "metadata": {},
     "output_type": "display_data"
    }
   ],
   "source": [
    "import matplotlib.pyplot as plt\n",
    "\n",
    "valores = np.linspace(-0.5, 0.5, 100)\n",
    "\n",
    "a = valores.reshape(1,100)\n",
    "b = valores.reshape(100,1)\n",
    "\n",
    "dist2 = a**2 + b**2    # broadcasting\n",
    "dist = np.sqrt(dist2)\n",
    "\n",
    "plt.imshow(dist)\n",
    "plt.colorbar()\n",
    "print()"
   ]
  },
  {
   "cell_type": "code",
   "execution_count": null,
   "metadata": {},
   "outputs": [],
   "source": []
  }
 ],
 "metadata": {
  "interpreter": {
   "hash": "c9e6f42c9bf154cf9b9e87541e517fa2c69e39349a7d6df0c90be082366bd360"
  },
  "kernelspec": {
   "display_name": "Python 3 (ipykernel)",
   "language": "python",
   "name": "python3"
  },
  "language_info": {
   "codemirror_mode": {
    "name": "ipython",
    "version": 3
   },
   "file_extension": ".py",
   "mimetype": "text/x-python",
   "name": "python",
   "nbconvert_exporter": "python",
   "pygments_lexer": "ipython3",
   "version": "3.10.10"
  }
 },
 "nbformat": 4,
 "nbformat_minor": 4
}
