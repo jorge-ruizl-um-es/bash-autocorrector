{
 "cells": [
  {
   "cell_type": "markdown",
   "id": "8e983960",
   "metadata": {},
   "source": [
    "# Ejercicios - Práctica 7b: Tuberías y filtros. Subshells."
   ]
  },
  {
   "cell_type": "code",
   "execution_count": 1,
   "id": "588f38c9",
   "metadata": {},
   "outputs": [],
   "source": [
    "rm -rf ~/p7b-ejercicios\n",
    "mkdir -p ~/p7b-ejercicios\n",
    "cd ~/p7b-ejercicios"
   ]
  },
  {
   "cell_type": "code",
   "execution_count": 2,
   "id": "aee29c15",
   "metadata": {},
   "outputs": [
    {
     "name": "stdout",
     "output_type": "stream",
     "text": [
      "Clonando en 'zsh'...\n",
      "remote: Enumerating objects: 103125, done.        \n",
      "remote: Counting objects: 100% (3720/3720), done.        \n",
      "remote: Compressing objects: 100% (1217/1217), done.        \n",
      "remote: Total 103125 (delta 2641), reused 3272 (delta 2500), pack-reused 99405 (from 1)        \n",
      "Recibiendo objetos: 100% (103125/103125), 36.15 MiB | 21.58 MiB/s, listo.\n",
      "Resolviendo deltas: 100% (79425/79425), listo.\n"
     ]
    }
   ],
   "source": []
  },
  {
   "cell_type": "code",
   "execution_count": 72,
   "id": "6a069839",
   "metadata": {},
   "outputs": [
    {
     "name": "stdout",
     "output_type": "stream",
     "text": [
      "HEAD está ahora en d8a3bff4f 52280: update git completion for new options in git through to version 2.42.0\n"
     ]
    }
   ],
   "source": [
    "cd zsh && git checkout d8a3bff && cd .. "
   ]
  },
  {
   "cell_type": "markdown",
   "id": "1affc11a",
   "metadata": {},
   "source": [
    "<br>\n",
    "<font size=\"4\">  \n",
    "    <span style=\"color: blue;\"><b>EJERCICIO 1 </b><br> \n",
    "    </span>\n",
    "</font>  "
   ]
  },
  {
   "cell_type": "markdown",
   "id": "53829eff",
   "metadata": {},
   "source": [
    "- Haz un listado recursivo que muestre todos los ficheros y directorios (sin mostrar los que están ocultos) que hay dentro del directorio `zsh`, a cualquier profundidad, redirigiendo la salida al fichero `allfiles_zsh`."
   ]
  },
  {
   "cell_type": "code",
   "execution_count": 73,
   "id": "a873499e",
   "metadata": {},
   "outputs": [],
   "source": [
    "#VII.1\n",
    "ls -R zsh > allfiles_zsh"
   ]
  },
  {
   "cell_type": "markdown",
   "id": "c79686e3",
   "metadata": {},
   "source": [
    "- Muestra las primeras 10 líneas del fichero `allfiles_zsh`."
   ]
  },
  {
   "cell_type": "code",
   "execution_count": 74,
   "id": "b20b9744",
   "metadata": {},
   "outputs": [
    {
     "name": "stdout",
     "output_type": "stream",
     "text": [
      "zsh:\n",
      "aclocal.m4\n",
      "aczsh.m4\n",
      "ChangeLog\n",
      "Completion\n",
      "Config\n",
      "config.guess\n",
      "config.sub\n",
      "configure.ac\n",
      "Doc\n"
     ]
    }
   ],
   "source": [
    "#VII.2\n",
    "head allfiles_zsh"
   ]
  },
  {
   "cell_type": "markdown",
   "id": "84d999c9",
   "metadata": {},
   "source": [
    "- Muestra las últimas 30 líneas del fichero `allfiles_zsh`."
   ]
  },
  {
   "cell_type": "code",
   "execution_count": 75,
   "id": "6dbfdc63",
   "metadata": {},
   "outputs": [
    {
     "name": "stdout",
     "output_type": "stream",
     "text": [
      "zsh:\n",
      "aclocal.m4\n",
      "aczsh.m4\n",
      "ChangeLog\n",
      "Completion\n",
      "Config\n",
      "config.guess\n",
      "config.sub\n",
      "configure.ac\n",
      "Doc\n",
      "Etc\n",
      "FEATURES\n",
      "Functions\n",
      "INSTALL\n",
      "install-sh\n",
      "LICENCE\n",
      "MACHINES\n",
      "Makefile.in\n",
      "Misc\n",
      "mkinstalldirs\n",
      "NEWS\n",
      "README\n",
      "Scripts\n",
      "Src\n",
      "StartupFiles\n",
      "Test\n",
      "Util\n",
      "\n",
      "zsh/Completion:\n",
      "AIX\n"
     ]
    }
   ],
   "source": [
    "#VII.3\n",
    "head -n30 allfiles_zsh"
   ]
  },
  {
   "cell_type": "markdown",
   "id": "dcc13ff5",
   "metadata": {},
   "source": [
    "- Verás que para cada subdirectorio cuyo contenido aparece listado, se muestra el nombre del directorio acabado por el carácter `:`. Vuelve a hacer el listado recursivo de `zsh` del ejercicio inicial, pero esta vez combínalo con el comando `grep` mediante una tubería para mostrar únicamente los nombres de los directorios (acabados en `:`)."
   ]
  },
  {
   "cell_type": "code",
   "execution_count": 78,
   "id": "70c65787",
   "metadata": {},
   "outputs": [
    {
     "name": "stdout",
     "output_type": "stream",
     "text": [
      "zsh:\n",
      "zsh/Completion:\n",
      "zsh/Completion/AIX:\n",
      "zsh/Completion/AIX/Command:\n",
      "zsh/Completion/AIX/Type:\n",
      "zsh/Completion/Base:\n",
      "zsh/Completion/Base/Completer:\n",
      "zsh/Completion/Base/Core:\n",
      "zsh/Completion/Base/Utility:\n",
      "zsh/Completion/Base/Widget:\n",
      "zsh/Completion/BSD:\n",
      "zsh/Completion/BSD/Command:\n",
      "zsh/Completion/BSD/Type:\n",
      "zsh/Completion/Cygwin:\n",
      "zsh/Completion/Cygwin/Command:\n",
      "zsh/Completion/Darwin:\n",
      "zsh/Completion/Darwin/Command:\n",
      "zsh/Completion/Darwin/Type:\n",
      "zsh/Completion/Debian:\n",
      "zsh/Completion/Debian/Command:\n",
      "zsh/Completion/Debian/Type:\n",
      "zsh/Completion/Linux:\n",
      "zsh/Completion/Linux/Command:\n",
      "zsh/Completion/Linux/Type:\n",
      "zsh/Completion/Mandriva:\n",
      "zsh/Completion/Mandriva/Command:\n",
      "zsh/Completion/openSUSE:\n",
      "zsh/Completion/openSUSE/Command:\n",
      "zsh/Completion/Redhat:\n",
      "zsh/Completion/Redhat/Command:\n",
      "zsh/Completion/Solaris:\n",
      "zsh/Completion/Solaris/Command:\n",
      "zsh/Completion/Solaris/Type:\n",
      "zsh/Completion/Unix:\n",
      "zsh/Completion/Unix/Command:\n",
      "zsh/Completion/Unix/Type:\n",
      "zsh/Completion/X:\n",
      "zsh/Completion/X/Command:\n",
      "zsh/Completion/X/Type:\n",
      "zsh/Completion/X/Utility:\n",
      "zsh/Completion/Zsh:\n",
      "zsh/Completion/Zsh/Command:\n",
      "zsh/Completion/Zsh/Context:\n",
      "zsh/Completion/Zsh/Function:\n",
      "zsh/Completion/Zsh/Type:\n",
      "zsh/Config:\n",
      "zsh/Doc:\n",
      "zsh/Doc/help:\n",
      "zsh/Doc/Zsh:\n",
      "zsh/Etc:\n",
      "zsh/Functions:\n",
      "zsh/Functions/Calendar:\n",
      "zsh/Functions/Chpwd:\n",
      "zsh/Functions/Compctl:\n",
      "zsh/Functions/Example:\n",
      "zsh/Functions/Exceptions:\n",
      "zsh/Functions/Math:\n",
      "zsh/Functions/MIME:\n",
      "zsh/Functions/Misc:\n",
      "zsh/Functions/Newuser:\n",
      "zsh/Functions/Prompts:\n",
      "zsh/Functions/TCP:\n",
      "zsh/Functions/VCS_Info:\n",
      "zsh/Functions/VCS_Info/Backends:\n",
      "zsh/Functions/Zftp:\n",
      "zsh/Functions/Zle:\n",
      "zsh/Misc:\n",
      "zsh/Scripts:\n",
      "zsh/Src:\n",
      "zsh/Src/Builtins:\n",
      "zsh/Src/Modules:\n",
      "zsh/Src/Zle:\n",
      "zsh/StartupFiles:\n",
      "zsh/Test:\n",
      "zsh/Util:\n"
     ]
    }
   ],
   "source": [
    "#VII.4\n",
    "cat allfiles_zsh  | grep \":$\""
   ]
  },
  {
   "cell_type": "markdown",
   "id": "ac1fea8d",
   "metadata": {},
   "source": [
    "- Extiende el comando anterior con una nueva tubería para quedarte con los nombres de los directorios sin el `:` final (*PISTA: puedes usar `tr` con la opción adecuada para eliminar un carácter o bien `cut`*). "
   ]
  },
  {
   "cell_type": "code",
   "execution_count": 79,
   "id": "38c556a3",
   "metadata": {},
   "outputs": [
    {
     "name": "stdout",
     "output_type": "stream",
     "text": [
      "zsh\n",
      "zsh/Completion\n",
      "zsh/Completion/AIX\n",
      "zsh/Completion/AIX/Command\n",
      "zsh/Completion/AIX/Type\n",
      "zsh/Completion/Base\n",
      "zsh/Completion/Base/Completer\n",
      "zsh/Completion/Base/Core\n",
      "zsh/Completion/Base/Utility\n",
      "zsh/Completion/Base/Widget\n",
      "zsh/Completion/BSD\n",
      "zsh/Completion/BSD/Command\n",
      "zsh/Completion/BSD/Type\n",
      "zsh/Completion/Cygwin\n",
      "zsh/Completion/Cygwin/Command\n",
      "zsh/Completion/Darwin\n",
      "zsh/Completion/Darwin/Command\n",
      "zsh/Completion/Darwin/Type\n",
      "zsh/Completion/Debian\n",
      "zsh/Completion/Debian/Command\n",
      "zsh/Completion/Debian/Type\n",
      "zsh/Completion/Linux\n",
      "zsh/Completion/Linux/Command\n",
      "zsh/Completion/Linux/Type\n",
      "zsh/Completion/Mandriva\n",
      "zsh/Completion/Mandriva/Command\n",
      "zsh/Completion/openSUSE\n",
      "zsh/Completion/openSUSE/Command\n",
      "zsh/Completion/Redhat\n",
      "zsh/Completion/Redhat/Command\n",
      "zsh/Completion/Solaris\n",
      "zsh/Completion/Solaris/Command\n",
      "zsh/Completion/Solaris/Type\n",
      "zsh/Completion/Unix\n",
      "zsh/Completion/Unix/Command\n",
      "zsh/Completion/Unix/Type\n",
      "zsh/Completion/X\n",
      "zsh/Completion/X/Command\n",
      "zsh/Completion/X/Type\n",
      "zsh/Completion/X/Utility\n",
      "zsh/Completion/Zsh\n",
      "zsh/Completion/Zsh/Command\n",
      "zsh/Completion/Zsh/Context\n",
      "zsh/Completion/Zsh/Function\n",
      "zsh/Completion/Zsh/Type\n",
      "zsh/Config\n",
      "zsh/Doc\n",
      "zsh/Doc/help\n",
      "zsh/Doc/Zsh\n",
      "zsh/Etc\n",
      "zsh/Functions\n",
      "zsh/Functions/Calendar\n",
      "zsh/Functions/Chpwd\n",
      "zsh/Functions/Compctl\n",
      "zsh/Functions/Example\n",
      "zsh/Functions/Exceptions\n",
      "zsh/Functions/Math\n",
      "zsh/Functions/MIME\n",
      "zsh/Functions/Misc\n",
      "zsh/Functions/Newuser\n",
      "zsh/Functions/Prompts\n",
      "zsh/Functions/TCP\n",
      "zsh/Functions/VCS_Info\n",
      "zsh/Functions/VCS_Info/Backends\n",
      "zsh/Functions/Zftp\n",
      "zsh/Functions/Zle\n",
      "zsh/Misc\n",
      "zsh/Scripts\n",
      "zsh/Src\n",
      "zsh/Src/Builtins\n",
      "zsh/Src/Modules\n",
      "zsh/Src/Zle\n",
      "zsh/StartupFiles\n",
      "zsh/Test\n",
      "zsh/Util\n"
     ]
    }
   ],
   "source": [
    "#VII.5\n",
    "ls -R zsh  | grep \":$\" | tr -d \":\""
   ]
  },
  {
   "cell_type": "markdown",
   "id": "cc6368c2",
   "metadata": {},
   "source": [
    "- Extiende el comando anterior con una nueva tubería para contar cuántos directorios hay dentro de `zsh`. El resultado debería ser 75."
   ]
  },
  {
   "cell_type": "code",
   "execution_count": 65,
   "id": "d9c0d4a0",
   "metadata": {},
   "outputs": [
    {
     "name": "stdout",
     "output_type": "stream",
     "text": [
      "     1\tzsh\n",
      "     2\tzsh/Completion\n",
      "     3\tzsh/Completion/AIX\n",
      "     4\tzsh/Completion/AIX/Command\n",
      "     5\tzsh/Completion/AIX/Type\n",
      "     6\tzsh/Completion/Base\n",
      "     7\tzsh/Completion/Base/Completer\n",
      "     8\tzsh/Completion/Base/Core\n",
      "     9\tzsh/Completion/Base/Utility\n",
      "    10\tzsh/Completion/Base/Widget\n",
      "    11\tzsh/Completion/BSD\n",
      "    12\tzsh/Completion/BSD/Command\n",
      "    13\tzsh/Completion/BSD/Type\n",
      "    14\tzsh/Completion/Cygwin\n",
      "    15\tzsh/Completion/Cygwin/Command\n",
      "    16\tzsh/Completion/Darwin\n",
      "    17\tzsh/Completion/Darwin/Command\n",
      "    18\tzsh/Completion/Darwin/Type\n",
      "    19\tzsh/Completion/Debian\n",
      "    20\tzsh/Completion/Debian/Command\n",
      "    21\tzsh/Completion/Debian/Type\n",
      "    22\tzsh/Completion/Linux\n",
      "    23\tzsh/Completion/Linux/Command\n",
      "    24\tzsh/Completion/Linux/Type\n",
      "    25\tzsh/Completion/Mandriva\n",
      "    26\tzsh/Completion/Mandriva/Command\n",
      "    27\tzsh/Completion/openSUSE\n",
      "    28\tzsh/Completion/openSUSE/Command\n",
      "    29\tzsh/Completion/Redhat\n",
      "    30\tzsh/Completion/Redhat/Command\n",
      "    31\tzsh/Completion/Solaris\n",
      "    32\tzsh/Completion/Solaris/Command\n",
      "    33\tzsh/Completion/Solaris/Type\n",
      "    34\tzsh/Completion/Unix\n",
      "    35\tzsh/Completion/Unix/Command\n",
      "    36\tzsh/Completion/Unix/Type\n",
      "    37\tzsh/Completion/X\n",
      "    38\tzsh/Completion/X/Command\n",
      "    39\tzsh/Completion/X/Type\n",
      "    40\tzsh/Completion/X/Utility\n",
      "    41\tzsh/Completion/Zsh\n",
      "    42\tzsh/Completion/Zsh/Command\n",
      "    43\tzsh/Completion/Zsh/Context\n",
      "    44\tzsh/Completion/Zsh/Function\n",
      "    45\tzsh/Completion/Zsh/Type\n",
      "    46\tzsh/Config\n",
      "    47\tzsh/Doc\n",
      "    48\tzsh/Doc/help\n",
      "    49\tzsh/Doc/Zsh\n",
      "    50\tzsh/Etc\n",
      "    51\tzsh/Functions\n",
      "    52\tzsh/Functions/Calendar\n",
      "    53\tzsh/Functions/Chpwd\n",
      "    54\tzsh/Functions/Compctl\n",
      "    55\tzsh/Functions/Example\n",
      "    56\tzsh/Functions/Exceptions\n",
      "    57\tzsh/Functions/Math\n",
      "    58\tzsh/Functions/MIME\n",
      "    59\tzsh/Functions/Misc\n",
      "    60\tzsh/Functions/Newuser\n",
      "    61\tzsh/Functions/Prompts\n",
      "    62\tzsh/Functions/TCP\n",
      "    63\tzsh/Functions/VCS_Info\n",
      "    64\tzsh/Functions/VCS_Info/Backends\n",
      "    65\tzsh/Functions/Zftp\n",
      "    66\tzsh/Functions/Zle\n",
      "    67\tzsh/Misc\n",
      "    68\tzsh/Scripts\n",
      "    69\tzsh/Src\n",
      "    70\tzsh/Src/Builtins\n",
      "    71\tzsh/Src/Modules\n",
      "    72\tzsh/Src/Zle\n",
      "    73\tzsh/StartupFiles\n",
      "    74\tzsh/Test\n",
      "    75\tzsh/Util\n"
     ]
    }
   ],
   "source": [
    "#VII.6\n",
    "ls -R zsh  | grep \":$\" | tr -d \":\" | nl "
   ]
  },
  {
   "cell_type": "markdown",
   "id": "6e546f24",
   "metadata": {},
   "source": [
    "- En realidad hay 74 directorios dentro de `zsh` ya que se incluye al propio directorio \"base\" `zsh`. Modifica el comando anterior para mostrar la primera línea y confirmar que se trata de `zsh`."
   ]
  },
  {
   "cell_type": "code",
   "execution_count": 66,
   "id": "4d838355",
   "metadata": {},
   "outputs": [
    {
     "name": "stdout",
     "output_type": "stream",
     "text": [
      "zsh\n"
     ]
    }
   ],
   "source": [
    "#VII.7\n",
    "ls -R zsh | grep \":$\" | tr -d \":\" | head -n1 "
   ]
  },
  {
   "cell_type": "markdown",
   "id": "ff7d891c",
   "metadata": {},
   "source": [
    "- Modifica el comando anterior para usar `grep` y mostrar las líneas **NO** contengan (opción `-v`) únicamente la cadena `zsh`. *PISTA: Recuerda que `^` y `$` representan el inicio y final de una línea en el patrón pasado a `grep`.*"
   ]
  },
  {
   "cell_type": "code",
   "execution_count": 91,
   "id": "13bf3035",
   "metadata": {},
   "outputs": [
    {
     "name": "stdout",
     "output_type": "stream",
     "text": [
      "zsh\n",
      "zsh/Completion\n",
      "zsh/Completion/AIX\n",
      "zsh/Completion/AIX/Command\n",
      "zsh/Completion/AIX/Type\n",
      "zsh/Completion/Base\n",
      "zsh/Completion/Base/Completer\n",
      "zsh/Completion/Base/Core\n",
      "zsh/Completion/Base/Utility\n",
      "zsh/Completion/Base/Widget\n",
      "zsh/Completion/BSD\n",
      "zsh/Completion/BSD/Command\n",
      "zsh/Completion/BSD/Type\n",
      "zsh/Completion/Cygwin\n",
      "zsh/Completion/Cygwin/Command\n",
      "zsh/Completion/Darwin\n",
      "zsh/Completion/Darwin/Command\n",
      "zsh/Completion/Darwin/Type\n",
      "zsh/Completion/Debian\n",
      "zsh/Completion/Debian/Command\n",
      "zsh/Completion/Debian/Type\n",
      "zsh/Completion/Linux\n",
      "zsh/Completion/Linux/Command\n",
      "zsh/Completion/Linux/Type\n",
      "zsh/Completion/Mandriva\n",
      "zsh/Completion/Mandriva/Command\n",
      "zsh/Completion/openSUSE\n",
      "zsh/Completion/openSUSE/Command\n",
      "zsh/Completion/Redhat\n",
      "zsh/Completion/Redhat/Command\n",
      "zsh/Completion/Solaris\n",
      "zsh/Completion/Solaris/Command\n",
      "zsh/Completion/Solaris/Type\n",
      "zsh/Completion/Unix\n",
      "zsh/Completion/Unix/Command\n",
      "zsh/Completion/Unix/Type\n",
      "zsh/Completion/X\n",
      "zsh/Completion/X/Command\n",
      "zsh/Completion/X/Type\n",
      "zsh/Completion/X/Utility\n",
      "zsh/Completion/Zsh\n",
      "zsh/Completion/Zsh/Command\n",
      "zsh/Completion/Zsh/Context\n",
      "zsh/Completion/Zsh/Function\n",
      "zsh/Completion/Zsh/Type\n",
      "zsh/Config\n",
      "zsh/Doc\n",
      "zsh/Doc/help\n",
      "zsh/Doc/Zsh\n",
      "zsh/Etc\n",
      "zsh/Functions\n",
      "zsh/Functions/Calendar\n",
      "zsh/Functions/Chpwd\n",
      "zsh/Functions/Compctl\n",
      "zsh/Functions/Example\n",
      "zsh/Functions/Exceptions\n",
      "zsh/Functions/Math\n",
      "zsh/Functions/MIME\n",
      "zsh/Functions/Misc\n",
      "zsh/Functions/Newuser\n",
      "zsh/Functions/Prompts\n",
      "zsh/Functions/TCP\n",
      "zsh/Functions/VCS_Info\n",
      "zsh/Functions/VCS_Info/Backends\n",
      "zsh/Functions/Zftp\n",
      "zsh/Functions/Zle\n",
      "zsh/Misc\n",
      "zsh/Scripts\n",
      "zsh/Src\n",
      "zsh/Src/Builtins\n",
      "zsh/Src/Modules\n",
      "zsh/Src/Zle\n",
      "zsh/StartupFiles\n",
      "zsh/Test\n",
      "zsh/Util\n"
     ]
    }
   ],
   "source": [
    "#VII.8\n",
    "ls -R zsh  | grep \":$\" | grep -v \"^zsh$\" | tr -d \":\" "
   ]
  },
  {
   "cell_type": "markdown",
   "id": "e551f0b1",
   "metadata": {},
   "source": [
    "- Finalmente, extiende el comando anterior para contar el número de líneas resultante mediante `wc`."
   ]
  },
  {
   "cell_type": "code",
   "execution_count": 88,
   "id": "4cf41a6b",
   "metadata": {},
   "outputs": [
    {
     "name": "stdout",
     "output_type": "stream",
     "text": [
      "75\n"
     ]
    }
   ],
   "source": [
    "#VII.9\n",
    "ls -R zsh  | grep -v \"^zsh$\" | grep \":$\" | tr -d \":\" |  wc -l"
   ]
  },
  {
   "cell_type": "markdown",
   "id": "7c114cf3",
   "metadata": {},
   "source": [
    "El resultado es que *aparentemente* hay 74 directorios en `zsh`."
   ]
  },
  {
   "cell_type": "markdown",
   "id": "8f220a7d",
   "metadata": {},
   "source": [
    "- Ahora vamos a utilizar el comando `find`, combinado con `wc` mediante una tubería, para comprobar que el número de directorios que obtenemos de esta otra forma coincide con el que hemos calculado antes mediante un `ls` recursivo."
   ]
  },
  {
   "cell_type": "code",
   "execution_count": null,
   "id": "959335eb",
   "metadata": {},
   "outputs": [],
   "source": [
    "#VII.10\n"
   ]
  },
  {
   "cell_type": "markdown",
   "id": "b5fbba71",
   "metadata": {},
   "source": [
    "- Verás que, si cuentas directamente los directorios encontrados por `find`, el número resultante (92) no coincide con el esperado (74). Ejecuta `find` de nuevo sin conectar su salida a ninguna tubería para averiguar qué directorios está encontrando que no se listaban en el listado recursivo que hicimos con `ls`."
   ]
  },
  {
   "cell_type": "code",
   "execution_count": null,
   "id": "8e51c5f2",
   "metadata": {},
   "outputs": [],
   "source": [
    "#VII.11\n"
   ]
  },
  {
   "cell_type": "markdown",
   "id": "1f102e40",
   "metadata": {},
   "source": [
    "- Encuentra con `find` los directorios ocultos que hay en `zsh`. Verás que el único directorio oculto es `.git`."
   ]
  },
  {
   "cell_type": "code",
   "execution_count": null,
   "id": "b0f89923",
   "metadata": {},
   "outputs": [],
   "source": [
    "#VII.12\n"
   ]
  },
  {
   "cell_type": "markdown",
   "id": "d0e88061",
   "metadata": {},
   "source": [
    "- Utiliza de nuevo `find` pero a su salida usa `grep` para quedarte que con las líneas que no contengan la cadena `.git` ni tampoco únicamente la cadena `zsh`, antes de contarlas con `wc`. **OJO**: En el patrón que pasamos a `grep`, el carácter punto `.` tiene un significado especial (equivale a un carácter cualquiera) por lo que debes anteponer la contrabarra `\\` para quitarle su significado especial: `\"\\.git\"`"
   ]
  },
  {
   "cell_type": "code",
   "execution_count": null,
   "id": "39bc2e2f",
   "metadata": {},
   "outputs": [],
   "source": [
    "#VII.13\n"
   ]
  },
  {
   "cell_type": "markdown",
   "id": "c766a286",
   "metadata": {},
   "source": [
    "El resultado del comando anterior filtrando la salida de `find` debería ser 74, al igual que obtuvimos antes con `ls`. Es decir, los directorios que hay en `zsh`, excluyendo los que son ocultos o cuelgan de directorios ocultos."
   ]
  },
  {
   "cell_type": "markdown",
   "id": "51e16cb1",
   "metadata": {},
   "source": [
    "- Ahora vamos a confirmar que el número de directorios que hemos contado coincide con lo que obtenemos haciendo un listado largo (`-l`) y recursivo (`-R`) de `zsh`. Sabiendo cómo se distinguen los directorios de los ficheros regulares en un listado largo (carácter que indica el tipo de fichero al comienzo de la línea), filtra la salida para quedarte únicamente con las que corresponden a directorios, y cuéntalas. (*Recuerda: `^` representa el inicio de línea en el patrón pasado a `grep`*)"
   ]
  },
  {
   "cell_type": "code",
   "execution_count": null,
   "id": "2a0d0be8",
   "metadata": {},
   "outputs": [],
   "source": [
    "#VII.14\n"
   ]
  },
  {
   "cell_type": "markdown",
   "id": "9d77a2da",
   "metadata": {},
   "source": [
    "El resultado del comando anterior debería ser 74, ya que en el listado largo no se incluye al propio directorio *base* `zsh` (que sí se incluía tanto en la salida de `find` como en la del `ls` recursivo *corto* anterior)."
   ]
  },
  {
   "cell_type": "markdown",
   "id": "c2072c65",
   "metadata": {},
   "source": [
    "- Cuenta los ficheros regulares que hay en `zsh`, que no sean ocultos ni cuelguen en directorios ocultos. Para ello, combina `find` para buscar, `grep` para descartar las líneas que correspondan a rutas de ficheros/directorios ocultos (o sea, rutas que contengan una barra `/` seguida de un punto, patrón  `\"/\\.\"`) y luego `wc` para contarlas. El resultado del comando debería ser 1618. "
   ]
  },
  {
   "cell_type": "code",
   "execution_count": null,
   "id": "8e2217bc",
   "metadata": {},
   "outputs": [],
   "source": [
    "#VII.15\n"
   ]
  },
  {
   "cell_type": "markdown",
   "id": "54a97090",
   "metadata": {},
   "source": [
    "<br>\n",
    "<font size=\"4\">  \n",
    "    <span style=\"color: blue;\"><b>EJERCICIO 2 </b><br> \n",
    "    </span>\n",
    "</font>  "
   ]
  },
  {
   "cell_type": "markdown",
   "id": "585b7c3d",
   "metadata": {},
   "source": [
    "- Con la opción `-printf \"%s;%p;%M;%u;%g\\n\"`, utiliza `find` para generar un fichero llamado `source_code.csv` que contenga, para todos los ficheros regulares del directorio `zsh/Src` cuyo tamaño sea mayor que 50KiB, su tamaño, nombre, permisos, usuario y grupo, separados por punto y coma."
   ]
  },
  {
   "cell_type": "code",
   "execution_count": null,
   "id": "1c7ffdb1",
   "metadata": {},
   "outputs": [],
   "source": [
    "#VII.16\n"
   ]
  },
  {
   "cell_type": "markdown",
   "id": "92a2a619",
   "metadata": {},
   "source": [
    "- Muestra el contenido del fichero generado anteriormente."
   ]
  },
  {
   "cell_type": "code",
   "execution_count": null,
   "id": "4d2ee52d",
   "metadata": {},
   "outputs": [],
   "source": [
    "#VII.17\n"
   ]
  },
  {
   "cell_type": "markdown",
   "id": "eaf6e325",
   "metadata": {},
   "source": [
    "- Extiende el comando anterior con una tubería y `sed` para sustituir la subcadena con el nombre del grupo que aparece al final (`$`) de cada línea, de forma que pase a a ser `developers` en vez de tu usuario. *PISTA: Se puede acceder a una variable de entorno en el comando `sed` con ${VARIABLE}*."
   ]
  },
  {
   "cell_type": "code",
   "execution_count": null,
   "id": "3c427175",
   "metadata": {},
   "outputs": [],
   "source": [
    "#VII.18\n"
   ]
  },
  {
   "cell_type": "markdown",
   "id": "ce24d404",
   "metadata": {},
   "source": [
    "- Extiende el comando anterior con otra tubería para sustituir la subcadena con el nombre del propietario (tu usuario) que aparece encerrado entre puntos y coma, de forma que pase a ser `steve` en vez del usuario correspondiente. "
   ]
  },
  {
   "cell_type": "code",
   "execution_count": null,
   "id": "e38d7e9c",
   "metadata": {},
   "outputs": [],
   "source": [
    "#VII.19\n"
   ]
  },
  {
   "cell_type": "markdown",
   "id": "235f659b",
   "metadata": {},
   "source": [
    "- Extiende el comando anterior con una tubería para filtrar y mostrar únicamente las líneas que contienen las letras `b`, `g` o `k`. Redirige la salida del comando entubado a un fichero llamado `files_steve.csv`."
   ]
  },
  {
   "cell_type": "code",
   "execution_count": null,
   "id": "a484ca34",
   "metadata": {},
   "outputs": [],
   "source": [
    "#VII.20\n"
   ]
  },
  {
   "cell_type": "markdown",
   "id": "843c2d5a",
   "metadata": {},
   "source": [
    "- Muestra el contenido del fichero `files_steve.csv`."
   ]
  },
  {
   "cell_type": "code",
   "execution_count": null,
   "id": "c40b4556",
   "metadata": {},
   "outputs": [],
   "source": [
    "#VII.21\n"
   ]
  },
  {
   "cell_type": "markdown",
   "id": "acb4e895",
   "metadata": {},
   "source": [
    "SALIDA:\n",
    "```\n",
    "76620;zsh/Src/jobs.c;-rw-r--r--;steve;developers\n",
    "98758;zsh/Src/glob.c;-rw-r--r--;steve;developers\n",
    "76656;zsh/Src/Zle/zle_tricky.c;-rw-r--r--;steve;developers\n",
    "202144;zsh/Src/builtin.c;-rw-r--r--;steve;developers\n",
    "125467;zsh/Src/subst.c;-rw-r--r--;steve;developers\n",
    "```"
   ]
  },
  {
   "cell_type": "markdown",
   "id": "df1d5cd7",
   "metadata": {},
   "source": [
    "- Modifica el comando anterior para crear otro fichero llamado `files_tom.csv` que contenga una lista de los ficheros de `source_code.csv` donde el propietario sea `tom` en vez de tu usuario, y cuyo nombre **NO** contiene las letras `b`, `g` ni `k`."
   ]
  },
  {
   "cell_type": "code",
   "execution_count": null,
   "id": "6c5ffb2c",
   "metadata": {},
   "outputs": [],
   "source": [
    "#VII.22\n"
   ]
  },
  {
   "cell_type": "markdown",
   "id": "515d6056",
   "metadata": {},
   "source": [
    "- Muestra el fichero `files_tom.csv` ordenado numéricamente de forma creciente. Consulta `man sort` para buscar la opción adecuada."
   ]
  },
  {
   "cell_type": "code",
   "execution_count": null,
   "id": "cb89d769",
   "metadata": {},
   "outputs": [],
   "source": [
    "#VII.23\n"
   ]
  },
  {
   "cell_type": "markdown",
   "id": "7fe581f9",
   "metadata": {},
   "source": [
    "SALIDA:\n",
    "```\n",
    "55131;zsh/Src/prompt.c;-rw-rw-r--;tom;developers\n",
    "55980;zsh/Src/Modules/parameter.c;-rw-rw-r--;tom;developers\n",
    "56459;zsh/Src/Zle/zle_main.c;-rw-rw-r--;tom;developers\n",
    "59194;zsh/Src/Zle/compresult.c;-rw-rw-r--;tom;developers\n",
    "69631;zsh/Src/Zle/zle_refresh.c;-rw-rw-r--;tom;developers\n",
    "74074;zsh/Src/Zle/compmatch.c;-rw-rw-r--;tom;developers\n",
    "83594;zsh/Src/module.c;-rw-rw-r--;tom;developers\n",
    "83826;zsh/Src/Modules/zftp.c;-rw-rw-r--;tom;developers\n",
    "86449;zsh/Src/Zle/complist.c;-rw-rw-r--;tom;developers\n",
    "90174;zsh/Src/parse.c;-rw-rw-r--;tom;developers\n",
    "90406;zsh/Src/Zle/compcore.c;-rw-rw-r--;tom;developers\n",
    "90506;zsh/Src/hist.c;-rw-rw-r--;tom;developers\n",
    "99091;zsh/Src/Zle/compctl.c;-rw-rw-r--;tom;developers\n",
    "102320;zsh/Src/zsh.h;-rw-rw-r--;tom;developers\n",
    "119853;zsh/Src/pattern.c;-rw-rw-r--;tom;developers\n",
    "131362;zsh/Src/Zle/computil.c;-rw-rw-r--;tom;developers\n",
    "156661;zsh/Src/params.c;-rw-rw-r--;tom;developers\n",
    "171675;zsh/Src/exec.c;-rw-rw-r--;tom;developers\n",
    "176388;zsh/Src/utils.c;-rw-rw-r--;tom;developers\n",
    "```"
   ]
  },
  {
   "cell_type": "markdown",
   "id": "35ababa5",
   "metadata": {},
   "source": [
    "- Concatena (`cat`) el contenido de los ficheros `csv` del directorio actual cuyo nombre contenga la cadena `tom` o `steve`, y genera un nuevo fichero llamado `source_code_developers.csv`."
   ]
  },
  {
   "cell_type": "code",
   "execution_count": null,
   "id": "e9772570",
   "metadata": {},
   "outputs": [],
   "source": [
    "#VII.24\n"
   ]
  },
  {
   "cell_type": "markdown",
   "id": "0c651ebe",
   "metadata": {},
   "source": [
    "- Cuenta las líneas de los ficheros `csv` en el directorio actual, cuyo nombre empiece por la cadena `source`. Comprueba que ambos ficheros, original y transformado, tienen 24 líneas."
   ]
  },
  {
   "cell_type": "code",
   "execution_count": null,
   "id": "3f05ba05",
   "metadata": {},
   "outputs": [],
   "source": [
    "#VII.25\n"
   ]
  },
  {
   "cell_type": "markdown",
   "id": "5bb8cd3f",
   "metadata": {},
   "source": [
    "- Escribe un comando entubado que usando los datos de `source_code_developers.csv`, muestre el propietario del fichero de tamaño más pequeño. (*PISTA: Usa `cut` con su opción `-d` indica delimitador a usar, y con `-f` puedes indicar los campos a seleccionar; haz  `man cut` para más detalles. El punto y coma tiene un significado especial para el shell y por tanto debes entrecomillarlo*)."
   ]
  },
  {
   "cell_type": "code",
   "execution_count": null,
   "id": "2cc669a0",
   "metadata": {},
   "outputs": [],
   "source": [
    "#VII.26\n"
   ]
  },
  {
   "cell_type": "markdown",
   "id": "22520487",
   "metadata": {},
   "source": [
    "SALIDA:\n",
    "```\n",
    "tom\n",
    "```"
   ]
  },
  {
   "cell_type": "markdown",
   "id": "d3a03fb5",
   "metadata": {},
   "source": [
    "- Escribe un comando entubado que usando los datos de `source_code_developers.csv`, muestre el nombre y el propietario de los dos ficheros de tamaño mayor (*PISTA: a `cut` le puedes pasar un rango `n-m` o una lista `n,m` de campos a seleccionar*)."
   ]
  },
  {
   "cell_type": "code",
   "execution_count": null,
   "id": "999a286f",
   "metadata": {},
   "outputs": [],
   "source": [
    "#VII.27\n"
   ]
  },
  {
   "cell_type": "markdown",
   "id": "154b3275",
   "metadata": {},
   "source": [
    "SALIDA:\n",
    "```\n",
    "zsh/Src/utils.c;tom\n",
    "zsh/Src/builtin.c;steve\n",
    "```"
   ]
  },
  {
   "cell_type": "markdown",
   "id": "71273f55",
   "metadata": {},
   "source": [
    "- Modifica el comando anterior para mostrar el nombre y tamaño de los dos ficheros de mayor tamaño cuyo propietario sea `steve`."
   ]
  },
  {
   "cell_type": "code",
   "execution_count": null,
   "id": "d3cc928b",
   "metadata": {},
   "outputs": [],
   "source": [
    "#VII.28\n"
   ]
  },
  {
   "cell_type": "markdown",
   "id": "d50b9b97",
   "metadata": {},
   "source": [
    "SALIDA:\n",
    "```\n",
    "125467;zsh/Src/subst.c\n",
    "202144;zsh/Src/builtin.c\n",
    "```"
   ]
  },
  {
   "cell_type": "markdown",
   "id": "492a0c2c",
   "metadata": {},
   "source": [
    "<br>\n",
    "<font size=\"4\">  \n",
    "    <span style=\"color: blue;\"><b>EJERCICIO 3 </b><br> \n",
    "    </span>\n",
    "</font> "
   ]
  },
  {
   "cell_type": "markdown",
   "id": "52599bb7",
   "metadata": {},
   "source": [
    "- Utilizando los datos del fichero `source_code.csv` como entrada, utiliza `cut` para seleccionar únicamente el campo correspondiente al tamaño y luego ordena numéricamente el resultado en orden decreciente."
   ]
  },
  {
   "cell_type": "code",
   "execution_count": null,
   "id": "f6596486",
   "metadata": {},
   "outputs": [],
   "source": [
    "#VII.29\n"
   ]
  },
  {
   "cell_type": "markdown",
   "id": "25390698",
   "metadata": {},
   "source": [
    "- Extiende el comando anterior para mostrar únicamente el valor máximo del tamaño. El resultado debería ser 202144"
   ]
  },
  {
   "cell_type": "code",
   "execution_count": null,
   "id": "c1aaa839",
   "metadata": {},
   "outputs": [],
   "source": [
    "#VII.30\n"
   ]
  },
  {
   "cell_type": "markdown",
   "id": "0647a107",
   "metadata": {},
   "source": [
    "- Modifica el comando anterior para quedarte con el nombre de los tres ficheros de mayor tamaño. El resultado debería ser:\n",
    "```\n",
    "zsh/Src/exec.c\n",
    "zsh/Src/utils.c\n",
    "zsh/Src/builtin.c\n",
    "```"
   ]
  },
  {
   "cell_type": "code",
   "execution_count": null,
   "id": "e083b19b",
   "metadata": {},
   "outputs": [],
   "source": [
    "#VII.31\n"
   ]
  },
  {
   "cell_type": "markdown",
   "id": "a0af8fdd",
   "metadata": {},
   "source": [
    "- Combina mediante un *subshell* el comando anterior con `wc`, para mostrar el número de líneas, palabras y caracteres que contienen los tres ficheros de mayor tamaño de lo que aparecen en `source_code.csv`. El resultado debería ser:\n",
    "```\n",
    "  6451  23861 171675 zsh/Src/exec.c\n",
    "  7721  27570 176388 zsh/Src/utils.c\n",
    "  7583  28197 202144 zsh/Src/builtin.c\n",
    " 21755  79628 550207 total\n",
    "```"
   ]
  },
  {
   "cell_type": "code",
   "execution_count": null,
   "id": "4a72995a",
   "metadata": {},
   "outputs": [],
   "source": [
    "#VII.32\n"
   ]
  },
  {
   "cell_type": "markdown",
   "id": "ab5c86fa",
   "metadata": {},
   "source": [
    "- Extiende el comando anterior para quedarte con el número de palabras que contiene cada uno de los tres ficheros (sin el total). *PISTA: Debes agrupar caracteres idénticos consecutivos con `tr -s` (*squeeze*) antes de separar por campos con `cut`.*"
   ]
  },
  {
   "cell_type": "code",
   "execution_count": null,
   "id": "d4465c2a",
   "metadata": {},
   "outputs": [],
   "source": [
    "#VII.33\n"
   ]
  },
  {
   "cell_type": "markdown",
   "id": "674e76d8",
   "metadata": {},
   "source": [
    "SALIDA:\n",
    "```\n",
    "23861\n",
    "27570\n",
    "28197\n",
    "```"
   ]
  },
  {
   "cell_type": "markdown",
   "id": "ac3d0c13",
   "metadata": {},
   "source": [
    "- Extiende el comando anterior con `paste` y `bc` para calcular la suma del número de palabras contenidas en los tres fichero de mayor tamaño. El resultado debería ser 79628 (el correspondiente al total en el comando anterior)."
   ]
  },
  {
   "cell_type": "code",
   "execution_count": null,
   "id": "c213f68d",
   "metadata": {},
   "outputs": [],
   "source": [
    "#VII.34\n"
   ]
  },
  {
   "cell_type": "markdown",
   "id": "6ab9ef8c",
   "metadata": {},
   "source": [
    "<br>\n",
    "<font size=\"4\">  \n",
    "    <span style=\"color: blue;\"><b>EJERCICIO 4 - Filtrado y subshells </b><br> \n",
    "    </span>\n",
    "</font>  "
   ]
  },
  {
   "cell_type": "markdown",
   "id": "54f0c81a",
   "metadata": {},
   "source": [
    "- Busca en los ficheros regulares del directorio `zsh`, que no cuelguen del directorio `.git`, y muestra aquellas líneas contengan un *shebang* (cadena `#!/bin/sh`)."
   ]
  },
  {
   "cell_type": "code",
   "execution_count": null,
   "id": "82315a90",
   "metadata": {},
   "outputs": [],
   "source": [
    "#VII.35\n"
   ]
  },
  {
   "cell_type": "markdown",
   "id": "644b2639",
   "metadata": {},
   "source": [
    "SALIDA:\n",
    "```\n",
    "zsh/Src/mkmakemod.sh:#!/bin/sh\n",
    "zsh/Etc/FAQ.yo:    #!/bin/sh\n",
    "zsh/Test/E01options.ztst:  print \"#!/bin/sh\\necho File in upper dir\" >pathtestdir/findme\n",
    "zsh/Test/E01options.ztst:  print \"#!/bin/sh\\necho File in lower dir\" >pdt_topdir/pathtestdir/findme\n",
    "zsh/Test/list-XFails:#!/bin/sh\n",
    "zsh/Test/A01grammar.ztst:  print \"#!/bin/sh\\necho Found the script.\" >test_path_script/myscript\n",
    "zsh/Functions/Misc/harden:#!/bin/sh\n",
    "zsh/install-sh:#!/bin/sh\n",
    "zsh/Config/installfns.sh:#!/bin/sh\n",
    "zsh/Config/uninstallfns.sh:#!/bin/sh\n",
    "```"
   ]
  },
  {
   "cell_type": "markdown",
   "id": "866b6ecd",
   "metadata": {},
   "source": [
    "- Extiende el comando anterior con un filtro adicional para mostrar únicamente las ocurrencias de dicha cadena en la primera línea de cada fichero. *PISTA: Debes pasarle a `grep` la opción adecuada para que muestre el número de cada línea concordante, y luego filtrar por la cadena adecuada.*"
   ]
  },
  {
   "cell_type": "code",
   "execution_count": null,
   "id": "864bda00",
   "metadata": {},
   "outputs": [],
   "source": [
    "#VII.36\n"
   ]
  },
  {
   "cell_type": "markdown",
   "id": "8bcc7155",
   "metadata": {},
   "source": [
    "SALIDA:\n",
    "```\n",
    "zsh/Src/mkmakemod.sh:1:#!/bin/sh\n",
    "zsh/Test/list-XFails:1:#!/bin/sh\n",
    "zsh/Functions/Misc/harden:1:#!/bin/sh\n",
    "zsh/install-sh:1:#!/bin/sh\n",
    "zsh/Config/installfns.sh:1:#!/bin/sh\n",
    "zsh/Config/uninstallfns.sh:1:#!/bin/sh\n",
    "```"
   ]
  },
  {
   "cell_type": "markdown",
   "id": "f652ca86",
   "metadata": {},
   "source": [
    "- Extiende el comando anterior con un filtro adicional para quedarte únicamente con el nombre de los ficheros que contienen un *shebang* en la primera línea:"
   ]
  },
  {
   "cell_type": "code",
   "execution_count": null,
   "id": "467979b9",
   "metadata": {},
   "outputs": [],
   "source": [
    "#VII.37\n"
   ]
  },
  {
   "cell_type": "markdown",
   "id": "442790b2",
   "metadata": {},
   "source": [
    "SALIDA:\n",
    "```\n",
    "zsh/Src/mkmakemod.sh\n",
    "zsh/Test/list-XFails\n",
    "zsh/Functions/Misc/harden\n",
    "zsh/install-sh\n",
    "zsh/Config/installfns.sh\n",
    "zsh/Config/uninstallfns.sh\n",
    "```"
   ]
  },
  {
   "cell_type": "markdown",
   "id": "a6cdd921",
   "metadata": {},
   "source": [
    "- Extiende el comando anterior con un *subshell* para hacer un listado largo de dichos ficheros (que muestre los detalles de los ficheros regulares que no cuelguen de `.git` y que contienen un *shebang* en la primera línea):"
   ]
  },
  {
   "cell_type": "code",
   "execution_count": null,
   "id": "02a9d2be",
   "metadata": {},
   "outputs": [],
   "source": [
    "#VII.38\n"
   ]
  },
  {
   "cell_type": "markdown",
   "id": "1f443b1d",
   "metadata": {},
   "source": [
    "SALIDA:\n",
    "```\n",
    "-rwxrwxr-x 1 jupyter-omh2ObvcJU jupyter-omh2ObvcJU  1754 nov 13 08:40 zsh/Config/installfns.sh\n",
    "-rwxrwxr-x 1 jupyter-omh2ObvcJU jupyter-omh2ObvcJU  1445 nov 13 08:40 zsh/Config/uninstallfns.sh\n",
    "-rw-rw-r-- 1 jupyter-omh2ObvcJU jupyter-omh2ObvcJU    96 nov 13 08:40 zsh/Functions/Misc/harden\n",
    "-rwxrwxr-x 1 jupyter-omh2ObvcJU jupyter-omh2ObvcJU 13184 nov 13 08:40 zsh/install-sh\n",
    "-rw-rw-r-- 1 jupyter-omh2ObvcJU jupyter-omh2ObvcJU 15446 nov 13 08:40 zsh/Src/mkmakemod.sh\n",
    "-rwxrwxr-x 1 jupyter-omh2ObvcJU jupyter-omh2ObvcJU   209 nov 13 08:40 zsh/Test/list-XFails\n",
    "```"
   ]
  },
  {
   "cell_type": "markdown",
   "id": "22b6f830",
   "metadata": {},
   "source": [
    "- Extiende el comando anterior para evitar mostrar los ficheros que no son ejecutables por cualquier usuario de la máquina."
   ]
  },
  {
   "cell_type": "code",
   "execution_count": null,
   "id": "b58dc289",
   "metadata": {},
   "outputs": [],
   "source": [
    "#VII.39\n"
   ]
  },
  {
   "cell_type": "markdown",
   "id": "c8faa0cc",
   "metadata": {},
   "source": [
    "SALIDA:\n",
    "```\n",
    "-rwxrwxr-x 1 jupyter-omh2ObvcJU jupyter-omh2ObvcJU  1754 nov 10 07:37 zsh/Config/installfns.sh\n",
    "-rwxrwxr-x 1 jupyter-omh2ObvcJU jupyter-omh2ObvcJU  1445 nov 10 07:37 zsh/Config/uninstallfns.sh\n",
    "-rwxrwxr-x 1 jupyter-omh2ObvcJU jupyter-omh2ObvcJU 13184 nov 10 07:37 zsh/install-sh\n",
    "-rwxrwxr-x 1 jupyter-omh2ObvcJU jupyter-omh2ObvcJU   209 nov 10 07:37 zsh/Test/list-XFails\n",
    "```"
   ]
  },
  {
   "cell_type": "markdown",
   "id": "4032c074",
   "metadata": {},
   "source": [
    "- Extiende el comando anterior para quedarte con el último campo del listado largo (nombres de los ficheros regulares ejecutables que no cuelgan de `.git` y que contienen un *shebang* `#!/bin/sh` en la primera línea):"
   ]
  },
  {
   "cell_type": "code",
   "execution_count": null,
   "id": "1b73be44",
   "metadata": {},
   "outputs": [],
   "source": [
    "#VII.40\n"
   ]
  },
  {
   "cell_type": "markdown",
   "id": "33f5f581",
   "metadata": {},
   "source": [
    "SALIDA:\n",
    "```\n",
    "zsh/Config/installfns.sh\n",
    "zsh/Config/uninstallfns.sh\n",
    "zsh/install-sh\n",
    "zsh/Test/list-XFails\n",
    "```"
   ]
  },
  {
   "cell_type": "markdown",
   "id": "2e483c6f",
   "metadata": {},
   "source": [
    "- Extiende el comando anterior con un nuevo *subshell* para mostrar las dos primeras líneas de dichos ficheros (ficheros regulares ejecutables que no cuelgan de .git y que contienen un shebang en la primera línea)."
   ]
  },
  {
   "cell_type": "code",
   "execution_count": null,
   "id": "c9d52e10",
   "metadata": {},
   "outputs": [],
   "source": [
    "#VII.41\n"
   ]
  },
  {
   "cell_type": "markdown",
   "id": "3eb618e1",
   "metadata": {},
   "source": [
    "SALIDA:\n",
    "```\n",
    "==> zsh/Config/installfns.sh <==\n",
    "#!/bin/sh\n",
    "\n",
    "fndir=$DESTDIR$fndir\n",
    "\n",
    "==> zsh/Config/uninstallfns.sh <==\n",
    "#!/bin/sh\n",
    "\n",
    "fndir=$DESTDIR$fndir\n",
    "\n",
    "==> zsh/install-sh <==\n",
    "#!/bin/sh\n",
    "# install - install a program, script, or datafile\n",
    "\n",
    "\n",
    "==> zsh/Test/list-XFails <==\n",
    "#!/bin/sh\n",
    "# This script lists tests that are currently expected to fail.  (I.e., tests\n",
    "# for bugs that haven't been fixed yet.)\n",
    "```"
   ]
  },
  {
   "cell_type": "markdown",
   "id": "0bbf22c8-18b7-4d90-9781-8c46a8b72021",
   "metadata": {},
   "source": [
    "**FIN DEL CUADERNO** (*no borres esta celda*)\n",
    "\n",
    "@@@@ practica7b-tuberias-ejercicios.ipynb @@@@"
   ]
  }
 ],
 "metadata": {
  "kernelspec": {
   "display_name": "Bash",
   "language": "bash",
   "name": "bash"
  },
  "language_info": {
   "codemirror_mode": "shell",
   "file_extension": ".sh",
   "mimetype": "text/x-sh",
   "name": "bash"
  }
 },
 "nbformat": 4,
 "nbformat_minor": 5
}
