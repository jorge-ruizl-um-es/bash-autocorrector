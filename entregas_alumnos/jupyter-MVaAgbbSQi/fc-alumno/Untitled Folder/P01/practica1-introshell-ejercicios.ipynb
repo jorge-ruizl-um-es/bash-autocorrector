{
 "cells": [
  {
   "cell_type": "markdown",
   "id": "8e983960",
   "metadata": {},
   "source": [
    "# Ejercicios - Práctica 1: Introducción al *shell* de Linux. "
   ]
  },
  {
   "cell_type": "markdown",
   "id": "4159846a-fece-4dd0-b138-20b4078bb60a",
   "metadata": {},
   "source": [
    "## Comandos básicos de manejo de ficheros: Resumen\n",
    "\n",
    "El terminal de Linux nos ofrece muchas posibilidades de listado y manejo de ficheros y directorios de un modo\n",
    "más personalizado que un interfaz gráfico. Por ahora, vamos a aprender los comandos más básicos:\n",
    "* `ls` : Lista el contenido del directorio actual.\n",
    "* `touch FICHERO` : Crea un nuevo fichero vacío en la ruta indicada, en caso de que no exista. En otro caso, le cambia la fecha y hora de modificación a la actual sin modificar su contenido.\n",
    "* `cat FICHERO ...` : Muestra el contenido completo de los ficheros indicados.\n",
    "* `less FICHERO ...` : Muestra el contenido de los ficheros indicados, con la opción de avanzar y retroceder.\n",
    "* `rm FICHERO ...` : Borra los ficheros indicados. También puede utilizarse para borrar directorios, para lo cual se usa la opción `-r`.\n",
    "* `cp FICHERO DIRECTORIO` : Copia el fichero origen indicado al directorio destino, que debe existir previamente.\n",
    "* `mkdir DIRECTORIO` : Crea un directorio vacío en la ruta designada.\n",
    "* `rmdir DIRECTORIO` : Borra el directorio indicado, siempre que esté vacío. Si no, hay que borrar primero\n",
    "todas sus entradas, o bien simplemente usar el comando rm con la opción `-r` (borrado recursivo)."
   ]
  },
  {
   "cell_type": "markdown",
   "id": "b836c37f",
   "metadata": {},
   "source": [
    "Escribe el comando adecuado según lo indicado en cada celda. Puedes abrir un terminal para realizar pruebas y finalmente escribir tu respuesta en la celda correspondiente."
   ]
  },
  {
   "cell_type": "code",
   "execution_count": 1,
   "id": "dfa2b92e-5e48-463d-a6ff-d07a6e0de526",
   "metadata": {},
   "outputs": [],
   "source": [
    "# Ejecuta esta celda para crear algunos directorios, en caso de que no existan\n",
    "cd && mkdir -p downloads desktop && cp -r /etc/h* downloads"
   ]
  },
  {
   "cell_type": "markdown",
   "id": "1dce5750",
   "metadata": {},
   "source": [
    "## Directorio de trabajo actual. \n",
    "\n",
    "Como hemos visto, para cambiar el directorio de trabajo se utiliza el comando `cd`, una abreviatura de “cambiar de directorio”."
   ]
  },
  {
   "cell_type": "code",
   "execution_count": 2,
   "id": "efa790a1",
   "metadata": {},
   "outputs": [],
   "source": [
    "# Cámbiate al directorio raíz. \n",
    "cd /"
   ]
  },
  {
   "cell_type": "code",
   "execution_count": 3,
   "id": "2b9e2e3e",
   "metadata": {},
   "outputs": [
    {
     "name": "stdout",
     "output_type": "stream",
     "text": [
      "/\n"
     ]
    }
   ],
   "source": [
    "# muestra la ruta del directorio actual\n",
    "pwd"
   ]
  },
  {
   "cell_type": "code",
   "execution_count": 4,
   "id": "801de4f4",
   "metadata": {},
   "outputs": [
    {
     "name": "stdout",
     "output_type": "stream",
     "text": [
      "aquota.group  boot  home   lib64       media  proc  sbin  sys  var\n",
      "aquota.user   dev   lib    libx32      mnt    root  snap  tmp\n",
      "bin           etc   lib32  lost+found  opt    run   srv   usr\n"
     ]
    }
   ],
   "source": [
    "# Lista el contenido de /\n",
    "ls"
   ]
  },
  {
   "cell_type": "code",
   "execution_count": 5,
   "id": "373d67e2",
   "metadata": {},
   "outputs": [],
   "source": [
    "# Cámbiate al directorio `home`, que es un subdirectorio inmediato de /\n",
    "cd home"
   ]
  },
  {
   "cell_type": "code",
   "execution_count": 6,
   "id": "a2ffbfa9",
   "metadata": {},
   "outputs": [
    {
     "name": "stdout",
     "output_type": "stream",
     "text": [
      "/home\n"
     ]
    }
   ],
   "source": [
    "# muestra la ruta del directorio actual\n",
    "pwd"
   ]
  },
  {
   "cell_type": "code",
   "execution_count": 7,
   "id": "95c0b92e",
   "metadata": {},
   "outputs": [
    {
     "name": "stdout",
     "output_type": "stream",
     "text": [
      "alumno                            jupyter-bNRwpKEICY\n",
      "jupyter-bNRwpKEICY  jupyter-bNRwpKEICY\n",
      "jupyter-bNRwpKEICY         jupyter-bNRwpKEICY\n",
      "jupyter-bNRwpKEICY  jupyter-bNRwpKEICY\n",
      "jupyter-bNRwpKEICY  jupyter-bNRwpKEICY\n",
      "jupyter-bNRwpKEICY           jupyter-bNRwpKEICY\n",
      "jupyter-bNRwpKEICY         jupyter-bNRwpKEICY\n",
      "jupyter-bNRwpKEICY  jupyter-bNRwpKEICY\n",
      "jupyter-bNRwpKEICY  jupyter-bNRwpKEICY\n",
      "jupyter-bNRwpKEICY  jupyter-bNRwpKEICY\n",
      "jupyter-bNRwpKEICY  jupyter-bNRwpKEICY\n",
      "jupyter-bNRwpKEICY  jupyter-bNRwpKEICY\n",
      "jupyter-bNRwpKEICY  jupyter-bNRwpKEICY\n",
      "jupyter-bNRwpKEICY  jupyter-bNRwpKEICY\n",
      "jupyter-bNRwpKEICY            jupyter-bNRwpKEICY\n",
      "jupyter-bNRwpKEICY  jupyter-bNRwpKEICY\n",
      "jupyter-bNRwpKEICY  jupyter-bNRwpKEICY\n",
      "jupyter-bNRwpKEICY  jupyter-bNRwpKEICY\n",
      "jupyter-bNRwpKEICY  jupyter-bNRwpKEICY\n",
      "jupyter-bNRwpKEICY         jupyter-bNRwpKEICY\n",
      "jupyter-bNRwpKEICY  rtitos_um_es\n",
      "jupyter-bNRwpKEICY  ubuntu\n",
      "jupyter-bNRwpKEICY\n"
     ]
    }
   ],
   "source": [
    "# Lista su contenido del directorio actual\n",
    "ls"
   ]
  },
  {
   "cell_type": "code",
   "execution_count": 8,
   "id": "97356588",
   "metadata": {},
   "outputs": [],
   "source": [
    "# Sube al directorio padre del directorio de trabajo actual\n",
    "# En este caso, irás de vuelta a “/”.\n",
    "cd ."
   ]
  },
  {
   "cell_type": "code",
   "execution_count": 9,
   "id": "0320768e-dbe8-4692-a756-4e66c20e84c9",
   "metadata": {},
   "outputs": [
    {
     "name": "stdout",
     "output_type": "stream",
     "text": [
      "/home\n"
     ]
    }
   ],
   "source": [
    "pwd"
   ]
  },
  {
   "cell_type": "markdown",
   "id": "58013411-08b2-41fc-a571-233534618f28",
   "metadata": {},
   "source": [
    "NOTA: *Nunca olvides el espacio entre “cd” y “..”, respetando siempre la estructura general de un comando (comando + opciones + parámetros, **separados por espacios**)*."
   ]
  },
  {
   "cell_type": "code",
   "execution_count": 10,
   "id": "e2bff392",
   "metadata": {},
   "outputs": [],
   "source": [
    "# Cámbiate a tu directorio de usuario de la forma más rápida posible  \n",
    "cd"
   ]
  },
  {
   "cell_type": "code",
   "execution_count": 11,
   "id": "60c59756",
   "metadata": {},
   "outputs": [
    {
     "name": "stdout",
     "output_type": "stream",
     "text": [
      "/home/jupyter-bNRwpKEICY\n"
     ]
    }
   ],
   "source": [
    "# muestra la ruta del directorio actual\n",
    "pwd"
   ]
  },
  {
   "cell_type": "code",
   "execution_count": 13,
   "id": "577bfbd6",
   "metadata": {},
   "outputs": [
    {
     "name": "stdout",
     "output_type": "stream",
     "text": [
      "adios.txt  desktop    fc-alumno             frutas    nano            test-repo\n",
      "algebra    downloads  ficheros_ejemplo.zip  hola.txt  p2-ejercicio    tmp\n",
      "copiar     ejemplo    ficherovacio          listar    p7b-ejercicios\n"
     ]
    }
   ],
   "source": [
    "# Lista el contenido del directorio actual\n",
    "ls"
   ]
  },
  {
   "cell_type": "markdown",
   "id": "3dfbb378",
   "metadata": {},
   "source": [
    "- Recuerda que puedes usar `..` más de una vez si tienes que subir por varios niveles de directorios padre: La ruta `../..` significa “partiendo del directorio de trabajo actual, ve al directorio padre, y desde esa ahí a su vez a su padre”."
   ]
  },
  {
   "cell_type": "code",
   "execution_count": 14,
   "id": "3d58b5c2",
   "metadata": {},
   "outputs": [],
   "source": [
    "# Cambia directamente desde el directorio actual (directorio \n",
    "# personal) hasta el directorio raíz, usando rutas relativas\n",
    "cd ../.."
   ]
  },
  {
   "cell_type": "code",
   "execution_count": 15,
   "id": "25ce3276",
   "metadata": {},
   "outputs": [
    {
     "name": "stdout",
     "output_type": "stream",
     "text": [
      "/\n"
     ]
    }
   ],
   "source": [
    "pwd"
   ]
  },
  {
   "cell_type": "code",
   "execution_count": 16,
   "id": "c2d130c7",
   "metadata": {},
   "outputs": [
    {
     "name": "stdout",
     "output_type": "stream",
     "text": [
      "/home/jupyter-bNRwpKEICY\n"
     ]
    }
   ],
   "source": [
    "# Regresa *de la forma más rápida posible* al directorio donde\n",
    "# te encontrabas antes de último cambio de directorio:\n",
    "cd -"
   ]
  },
  {
   "cell_type": "code",
   "execution_count": 17,
   "id": "86f55c6a",
   "metadata": {},
   "outputs": [
    {
     "name": "stdout",
     "output_type": "stream",
     "text": [
      "/home/jupyter-bNRwpKEICY\n"
     ]
    }
   ],
   "source": [
    "pwd"
   ]
  },
  {
   "cell_type": "markdown",
   "id": "52527fef",
   "metadata": {},
   "source": [
    "Ahora deberías estar de nuevo en tu directorio personal (`/home/alumno` o similar)"
   ]
  },
  {
   "cell_type": "markdown",
   "id": "8363d7af",
   "metadata": {},
   "source": [
    "## Rutas relativas y absolutas\n",
    "\n",
    "La mayoría de los ejemplos que hemos visto hasta ahora utilizan rutas relativas. Es decir, el lugar en el que terminas depende de tu directorio de trabajo actual.\n"
   ]
  },
  {
   "cell_type": "code",
   "execution_count": 18,
   "id": "8f8325e4",
   "metadata": {},
   "outputs": [],
   "source": [
    "# Cámbiate al directorio raíz\n",
    "cd /"
   ]
  },
  {
   "cell_type": "code",
   "execution_count": 19,
   "id": "157a49c8",
   "metadata": {},
   "outputs": [],
   "source": [
    "# Ahora entra en el subdirectorio `etc` con una ruta relativa\n",
    "cd etc"
   ]
  },
  {
   "cell_type": "code",
   "execution_count": 20,
   "id": "6307c3da",
   "metadata": {},
   "outputs": [
    {
     "name": "stdout",
     "output_type": "stream",
     "text": [
      "/etc\n"
     ]
    }
   ],
   "source": [
    "pwd"
   ]
  },
  {
   "cell_type": "markdown",
   "id": "89df46ae",
   "metadata": {},
   "source": [
    "Deberías estar en `/etc`. Ahora bien, si ejecutas `cd etc` estando tu directorio personal en vez de en el directorio raíz, ¿qué pasa?"
   ]
  },
  {
   "cell_type": "code",
   "execution_count": 21,
   "id": "12858877",
   "metadata": {},
   "outputs": [],
   "source": [
    "cd"
   ]
  },
  {
   "cell_type": "code",
   "execution_count": 22,
   "id": "1c0d9497-97b6-4035-ac83-bc7bc6785180",
   "metadata": {},
   "outputs": [
    {
     "name": "stdout",
     "output_type": "stream",
     "text": [
      "/home/jupyter-bNRwpKEICY\n"
     ]
    }
   ],
   "source": [
    "pwd"
   ]
  },
  {
   "cell_type": "code",
   "execution_count": 23,
   "id": "527f1e04",
   "metadata": {},
   "outputs": [
    {
     "name": "stdout",
     "output_type": "stream",
     "text": [
      "bash: cd: etc: No existe el archivo o el directorio\n"
     ]
    },
    {
     "ename": "",
     "evalue": "1",
     "output_type": "error",
     "traceback": []
    }
   ],
   "source": [
    "cd etc"
   ]
  },
  {
   "cell_type": "markdown",
   "id": "67c96a85-642d-4e17-84cb-9e4cecd789e9",
   "metadata": {},
   "source": [
    "RESPUESTA: \n",
    "\n"
   ]
  },
  {
   "cell_type": "code",
   "execution_count": 25,
   "id": "d34d79b0",
   "metadata": {},
   "outputs": [],
   "source": [
    "# Usa una ruta para cambiar al directorio `etc` que hay en el directorio raíz,\n",
    "# sin importar en qué parte del sistema de ficheros te encuentres en ese momento\n",
    "cd ../../etc"
   ]
  },
  {
   "cell_type": "code",
   "execution_count": 26,
   "id": "2c6dda8d",
   "metadata": {},
   "outputs": [
    {
     "name": "stdout",
     "output_type": "stream",
     "text": [
      "/etc\n"
     ]
    }
   ],
   "source": [
    "pwd"
   ]
  },
  {
   "cell_type": "markdown",
   "id": "f1e3aa5c",
   "metadata": {},
   "source": [
    "- Recuerda que la tilde `~` (teclas `Alt Gr`+`4`) es un abreviatura de la *ruta absoluta* a tu directorio personal (p.ej., `/home/alumno`). "
   ]
  },
  {
   "cell_type": "code",
   "execution_count": 40,
   "id": "8a70ed34",
   "metadata": {},
   "outputs": [],
   "source": [
    "# Usando dicho atajo (~), cámbiate directamente al directorio `desktop` que \n",
    "# hay en tu carpeta personal\n",
    "cd desktop"
   ]
  },
  {
   "cell_type": "code",
   "execution_count": 41,
   "id": "79bcdd62-7833-48d9-aa21-eb525b70d0dc",
   "metadata": {},
   "outputs": [
    {
     "name": "stdout",
     "output_type": "stream",
     "text": [
      "/home/jupyter-bNRwpKEICY/desktop\n"
     ]
    }
   ],
   "source": [
    "pwd"
   ]
  },
  {
   "cell_type": "code",
   "execution_count": 42,
   "id": "204f4d44",
   "metadata": {},
   "outputs": [
    {
     "name": "stdout",
     "output_type": "stream",
     "text": [
      "hdparm.conf  host.conf  hostname  hosts  hosts.allow  hosts.deny\n"
     ]
    }
   ],
   "source": [
    "# Ahora lista el contenido del subdirectorio `downloads` que hay en tu\n",
    "# directorio personal, usando su **ruta absoluta**.\n",
    "ls /home/jupyter-bNRwpKEICY/downloads"
   ]
  },
  {
   "cell_type": "code",
   "execution_count": 43,
   "id": "487848f7",
   "metadata": {},
   "outputs": [
    {
     "name": "stdout",
     "output_type": "stream",
     "text": [
      "total 28\n",
      "-rw-r--r-- 1 jupyter-bNRwpKEICY jupyter-bNRwpKEICY 4436 dic  9 11:27 hdparm.conf\n",
      "-rw-r--r-- 1 jupyter-bNRwpKEICY jupyter-bNRwpKEICY   92 dic  9 11:27 host.conf\n",
      "-rw-r--r-- 1 jupyter-bNRwpKEICY jupyter-bNRwpKEICY   20 dic  9 11:27 hostname\n",
      "-rw-r--r-- 1 jupyter-bNRwpKEICY jupyter-bNRwpKEICY  271 dic  9 11:27 hosts\n",
      "-rw-r--r-- 1 jupyter-bNRwpKEICY jupyter-bNRwpKEICY  411 dic  9 11:27 hosts.allow\n",
      "-rw-r--r-- 1 jupyter-bNRwpKEICY jupyter-bNRwpKEICY  711 dic  9 11:27 hosts.deny\n"
     ]
    }
   ],
   "source": [
    "# Tanto `downloads` como `desktop` son subdirectorios de tu directorio personal.\n",
    "# Haz un *listado largo* del contenido del subdirectorio `downloads` usando la \n",
    "# **ruta relativa** desde tu directorio de trabajo actual (deberías estar en `~/desktop`).\n",
    "ls -l ../downloads"
   ]
  },
  {
   "cell_type": "markdown",
   "id": "cf3c27d5",
   "metadata": {},
   "source": [
    "- En realidad, las rutas relativas funcionan porque todos los directorios del sistema de ficheros siempre contienen dos subdirectorios especiales, llamados  `.` y `..` que hacen referencia, respectivamente, al propio directorio y a su directorio padre. Para listar **todos** los ficheros de un directorio debemos usar la opción `-a` (de *all*)."
   ]
  },
  {
   "cell_type": "code",
   "execution_count": 44,
   "id": "52e92356-1b76-4d6d-b160-9a01d4708f75",
   "metadata": {},
   "outputs": [],
   "source": [
    "# Crea un directorio llamado dirvacio\n",
    "mkdir dirvacio"
   ]
  },
  {
   "cell_type": "code",
   "execution_count": 45,
   "id": "d7c40844-e851-4cc6-aa99-08633169ebf8",
   "metadata": {},
   "outputs": [],
   "source": [
    "# Entra en dirvacio\n",
    "cd dirvacio"
   ]
  },
  {
   "cell_type": "code",
   "execution_count": 46,
   "id": "c6fa3ee1-c600-42a4-b06c-0882af6c4864",
   "metadata": {},
   "outputs": [
    {
     "name": "stdout",
     "output_type": "stream",
     "text": [
      ".  ..\n"
     ]
    }
   ],
   "source": [
    "# Lista su contenido, incluyendo todos los ficheros\n",
    "ls -a "
   ]
  },
  {
   "cell_type": "code",
   "execution_count": 47,
   "id": "a07cfa68-f148-40a9-a691-e7c6abb0054b",
   "metadata": {},
   "outputs": [],
   "source": [
    "# Cámbiate al directorio padre del actual\n",
    "cd .."
   ]
  },
  {
   "cell_type": "code",
   "execution_count": 48,
   "id": "b8cc5d7c-c10b-4593-89d9-754e9881f9db",
   "metadata": {},
   "outputs": [],
   "source": [
    "# Elimina el directorio dirvacio\n",
    "rmdir dirvacio"
   ]
  },
  {
   "cell_type": "code",
   "execution_count": 49,
   "id": "f6e1d794-1a56-42d7-88cd-6286ce2e7d04",
   "metadata": {},
   "outputs": [
    {
     "name": "stdout",
     "output_type": "stream",
     "text": [
      "/home/jupyter-bNRwpKEICY/desktop\n"
     ]
    }
   ],
   "source": [
    "# Deberías estar en `~/desktop`\n",
    "pwd"
   ]
  },
  {
   "cell_type": "code",
   "execution_count": 50,
   "id": "c7b6c629",
   "metadata": {},
   "outputs": [
    {
     "name": "stdout",
     "output_type": "stream",
     "text": [
      ".              .cache     ficheros_ejemplo.zip  .jupyter        .profile\n",
      "..             .config    ficherovacio          .lesshst        test-repo\n",
      "adios.txt      copiar     frutas                listar          tmp\n",
      "algebra        desktop    .gitconfig            .local\n",
      ".bash_history  downloads  hola.txt              nano\n",
      ".bash_logout   ejemplo    .ipynb_checkpoints    p2-ejercicio\n",
      ".bashrc        fc-alumno  .ipython              p7b-ejercicios\n"
     ]
    }
   ],
   "source": [
    "# Sin cambiarte de directorio, haz un listado de tu directorio personal\n",
    "# mostrando **todos** los ficheros, y usando la **ruta relativa**\n",
    "ls -a .."
   ]
  },
  {
   "cell_type": "markdown",
   "id": "eaf6a461",
   "metadata": {},
   "source": [
    "## Movimiento básico por el sistema de ficheros\n",
    "\n",
    "Ahora vamos a hacer uso de unos ficheros de ejemplo (también disponibles en el Aula Virtual). Ejecuta la siguiente celda para descargar el fichero `ficheros_ejemplo.zip`, y descomprimirlo en tu directorio personal. El árbol de directorios en que se organizan los ficheros de ejemplo se puede observar a continuación:"
   ]
  },
  {
   "cell_type": "code",
   "execution_count": 51,
   "id": "af7a6a51-dec3-48ea-b513-add149c79be2",
   "metadata": {},
   "outputs": [
    {
     "name": "stdout",
     "output_type": "stream",
     "text": [
      "Encontrados los ficheros de ejemplo en el directorio personal\n"
     ]
    }
   ],
   "source": [
    "SAMPLE_FILES_LOCAL=/usr/local/share/fc/ficheros_ejemplo.zip\n",
    "SAMPLE_FILES_WEB=https://ditec.um.es/~rtitos/docencia/fc-gcid/24-25/ficheros_ejemplo.zip\n",
    "cd\n",
    "if [ -f $(basename $SAMPLE_FILES_LOCAL) ] ; then\n",
    "    echo \"Encontrados los ficheros de ejemplo en el directorio personal\"\n",
    "else\n",
    "    if [ -f $SAMPLE_FILES_LOCAL ] ; then\n",
    "        echo \"Copiando ficheros de ejemplo desde $SAMPLE_FILES_LOCAL\"\n",
    "        cp $SAMPLE_FILES_LOCAL .\n",
    "    else\n",
    "        echo \"Descargando ficheros de ejemplo desde $SAMPLE_FILES_WEB\"\n",
    "        wget -q $SAMPLE_FILES_WEB\n",
    "    fi\n",
    "    if [ ! -f $(basename $SAMPLE_FILES_LOCAL) ] ; then\n",
    "        echo \"ERROR: No se encuentran los ficheros de ejemplo!\"\n",
    "    fi\n",
    "fi\n",
    "rm -rf ficheros_ejemplo && unzip -q ficheros_ejemplo.zip"
   ]
  },
  {
   "cell_type": "markdown",
   "id": "889579b2-45a1-4a20-bdd0-cbc67e3e5faa",
   "metadata": {},
   "source": [
    "Verás que se ha creado un directorio `ficheros_ejemplo`, que tiene la siguiente estructura:\n",
    "```\n",
    "ficheros_ejemplo\n",
    "├── nano\n",
    "│   ├── AUTHORS\n",
    "│   ├── autogen.sh\n",
    "│   ├── ChangeLog\n",
    "│   ├── ChangeLog.1999-2006\n",
    "│   ├── ChangeLog.2007-2015\n",
    "│   ├── configure.ac\n",
    "│   ├── COPYING\n",
    "│   ├── COPYING.DOC\n",
    "│   ├── doc\n",
    "│   ├── IMPROVEMENTS\n",
    "│   ├── m4\n",
    "│   ├── Makefile.am\n",
    "│   ├── nano-regress\n",
    "│   ├── NEWS\n",
    "│   ├── po\n",
    "│   ├── README\n",
    "│   ├── README.hacking\n",
    "│   ├── roll-a-release.sh\n",
    "│   ├── src\n",
    "│   ├── syntax\n",
    "│   ├── THANKS\n",
    "│   └── TODO\n",
    "└── sample_files\n",
    "    ├── audio\n",
    "    ├── document\n",
    "    ├── image\n",
    "    ├── LICENSE\n",
    "    ├── README.md\n",
    "    └── video\n",
    "```"
   ]
  },
  {
   "cell_type": "markdown",
   "id": "293b8c77",
   "metadata": {},
   "source": [
    "Una vez lo tengas preparado, empezando desde tu directorio personal, realiza los siguientes ejercicios, utilizando **RUTAS RELATIVAS** por defecto. En los ejercicios que se indique ruta absoluta, no se debe usar ninguna ruta relativa. \n",
    "\n",
    "<span style=\"color: red;\">Recuerda utilizar el tabulador </span> para facilitar la navegación por el sistema de ficheros al autocompletar los nombres de ficheros y directorios.\n",
    "\n",
    "\n"
   ]
  },
  {
   "cell_type": "code",
   "execution_count": 53,
   "id": "2f4502e7",
   "metadata": {},
   "outputs": [],
   "source": [
    "# Situate en tu directorio personal utilizando su ruta absoluta\n",
    "cd /home/jupyter-bNRwpKEICY/"
   ]
  },
  {
   "cell_type": "code",
   "execution_count": 57,
   "id": "f15e4b4c-0ec5-4e74-a9dc-394aed098a5f",
   "metadata": {},
   "outputs": [
    {
     "name": "stdout",
     "output_type": "stream",
     "text": [
      "/home/jupyter-bNRwpKEICY\n",
      "adios.txt  downloads         ficheros_ejemplo.zip  listar          test-repo\n",
      "algebra    ejemplo           ficherovacio          nano            tmp\n",
      "copiar     fc-alumno         frutas                p2-ejercicio\n",
      "desktop    ficheros_ejemplo  hola.txt              p7b-ejercicios\n"
     ]
    }
   ],
   "source": [
    "# Muestra tu directorio de trabajo actual\n",
    "pwd \n",
    "ls"
   ]
  },
  {
   "cell_type": "code",
   "execution_count": 61,
   "id": "bf558662",
   "metadata": {},
   "outputs": [],
   "source": [
    "# Cambia al directorio \"nano\" que hay dentro de \"ficheros_ejemplo\"\n",
    "cd ficheros_ejemplo/nano"
   ]
  },
  {
   "cell_type": "code",
   "execution_count": 62,
   "id": "1de6a4da",
   "metadata": {},
   "outputs": [
    {
     "name": "stdout",
     "output_type": "stream",
     "text": [
      ".                    configure.ac  m4              roll-a-release.sh\n",
      "..                   COPYING       Makefile.am     src\n",
      "AUTHORS              COPYING.DOC   nano-regress    syntax\n",
      "autogen.sh           doc           NEWS            THANKS\n",
      "ChangeLog            .github       po              TODO\n",
      "ChangeLog.1999-2006  .gitignore    README\n",
      "ChangeLog.2007-2015  IMPROVEMENTS  README.hacking\n"
     ]
    }
   ],
   "source": [
    "# Haz un listado del directorio actual mostrando los ficheros ocultos\n",
    "ls -a"
   ]
  },
  {
   "cell_type": "code",
   "execution_count": 63,
   "id": "bd9dca76",
   "metadata": {},
   "outputs": [
    {
     "name": "stdout",
     "output_type": "stream",
     "text": [
      "nano  sample_files\n"
     ]
    }
   ],
   "source": [
    "# Haz un listado del directorio padre\n",
    "ls .."
   ]
  },
  {
   "cell_type": "code",
   "execution_count": 64,
   "id": "509ef614",
   "metadata": {},
   "outputs": [],
   "source": [
    "# Cambia al directorio \"src\"\n",
    "cd src"
   ]
  },
  {
   "cell_type": "code",
   "execution_count": 65,
   "id": "8431f293-9378-4d4d-8c05-fb18d87e183f",
   "metadata": {},
   "outputs": [
    {
     "name": "stdout",
     "output_type": "stream",
     "text": [
      "/home/jupyter-bNRwpKEICY/ficheros_ejemplo/nano/src\n"
     ]
    }
   ],
   "source": [
    "# Muestra tu directorio de trabajo actual\n",
    "pwd "
   ]
  },
  {
   "cell_type": "code",
   "execution_count": 67,
   "id": "21a874fb",
   "metadata": {},
   "outputs": [
    {
     "name": "stdout",
     "output_type": "stream",
     "text": [
      "\n",
      "          GNU nano -- a simple editor, inspired by Pico\n",
      "\n",
      "Purpose\n",
      "\n",
      "    Nano is a small and simple text editor for use on the terminal.\n",
      "    It copied the interface and key bindings of the Pico editor but\n",
      "    added several missing features: undo/redo, syntax highlighting,\n",
      "    line numbers, softwrapping, multiple buffers, selecting text by\n",
      "    holding Shift, search-and-replace with regular expressions, and\n",
      "    several other conveniences.\n",
      "\n",
      "Appearance\n",
      "\n",
      "    In rough ASCII graphics, this is what nano's screen looks like:\n",
      "\n",
      "   ____________________________________________________________________\n",
      "  |  GNU nano 7.2                  filename                  Modified  |\n",
      "   --------------------------------------------------------------------\n",
      "  | This is the text window, displaying the contents of a 'buffer',    |\n",
      "  | the contents of the file you are editing.                          |\n",
      "  |                                                                    |\n",
      "  | The top row of the screen is the 'title bar'; it shows nano's      |\n",
      "  | version, the name of the file, and whether you modified it.        |\n",
      "  | The two bottom rows display the most important shortcuts; in       |\n",
      "  | those lines ^ means Ctrl.  The third row from the bottom shows     |\n",
      "  | some feedback message, or gets replaced with a prompt bar when     |\n",
      "  | you tell nano to do something that requires extra input.           |\n",
      "  |                                                                    |\n",
      "   --------------------------------------------------------------------\n",
      "  |                       [ Some status message ]                      |\n",
      "  |^G Help       ^O Write Out  ^W Where Is   ^K Cut        ^T Execute  |\n",
      "  |^X Exit       ^R Read File  ^\\ Replace    ^U Paste      ^J Justify  |\n",
      "   --------------------------------------------------------------------\n",
      "\n",
      "Origin\n",
      "\n",
      "    The nano project was started in 1999 because of a few \"problems\"\n",
      "    with the wonderfully easy-to-use and friendly Pico text editor.\n",
      "\n",
      "    First and foremost was its license: the Pine suite does not use\n",
      "    the GPL, and (before using the Apache License) it had unclear\n",
      "    restrictions on redistribution.  Because of this, Pine and Pico\n",
      "    were not included in many GNU/Linux distributions.  Furthermore,\n",
      "    some features (like go-to-line-number or search-and-replace) were\n",
      "    unavailable for a long time or require a command-line flag.  Yuck.\n",
      "\n",
      "    Nano aimed to solve these problems by: 1) being truly free software\n",
      "    by using the GPL, 2) emulating the functionality of Pico as closely\n",
      "    as is reasonable, and 3) including extra functionality by default.\n",
      "\n",
      "    Nowadays, nano wants to be a generally useful editor with sensible\n",
      "    defaults (linewise scrolling, no automatic line breaking).\n",
      "\n",
      "    The nano editor is an official GNU package.  For more information on\n",
      "    GNU and the Free Software Foundation, please see https://www.gnu.org/.\n",
      "\n",
      "License\n",
      "\n",
      "    Nano's code and documentation are covered by the GPL version 3 or\n",
      "    (at your option) any later version, except for two functions that\n",
      "    were copied from busybox which are under a BSD license.  Nano's\n",
      "    documentation is additionally covered by the GNU Free Documentation\n",
      "    License version 1.2 or (at your option) any later version.  See the\n",
      "    files COPYING and COPYING.DOC for the full text of these licenses.\n",
      "\n",
      "    When in any file of this package a copyright notice mentions a\n",
      "    year range (such as 1999-2011), it is a shorthand for a list of\n",
      "    all the years in that interval.\n",
      "\n",
      "How to compile and install nano\n",
      "\n",
      "    Download the latest nano source tarball, and then:\n",
      "\n",
      "        tar -xvf nano-x.y.tar.gz\n",
      "        cd nano-x.y\n",
      "        ./configure\n",
      "        make\n",
      "        make install\n",
      "\n",
      "    You will need the header files of ncurses installed for ./configure\n",
      "    to succeed -- get them from libncurses-dev (Debian) or ncurses-devel\n",
      "    (Fedora) or a similarly named package.  Use --prefix with ./configure\n",
      "    to override the default installation directory of /usr/local.\n",
      "\n",
      "    After installation you may want to copy the doc/sample.nanorc file\n",
      "    to your home directory, rename it to \".nanorc\", and then edit it\n",
      "    according to your taste.\n",
      "\n",
      "Web Page\n",
      "\n",
      "    https://nano-editor.org/\n",
      "\n",
      "Mailing Lists\n",
      "\n",
      "    There are three nano-related mailing-lists.\n",
      "\n",
      "    * <info-nano@gnu.org> is a very low traffic list used to announce\n",
      "      new nano versions or other important info about the project.\n",
      "\n",
      "    * <help-nano@gnu.org> is for those seeking to get help without\n",
      "      wanting to hear about the technical details of its development.\n",
      "\n",
      "    * <nano-devel@gnu.org> is the list used by the people that make nano\n",
      "      and a general development discussion list, with moderate traffic.\n",
      "\n",
      "    To subscribe, send email to <name>-request@gnu.org with a subject\n",
      "    of \"subscribe\", where <name> is the list you want to subscribe to.\n",
      "\n",
      "    The archives of the development and help mailing lists are here:\n",
      "\n",
      "        https://lists.gnu.org/archive/html/nano-devel/\n",
      "        https://lists.gnu.org/archive/html/help-nano/\n",
      "\n",
      "Bug Reports\n",
      "\n",
      "    If you find a bug, please file a detailed description of the problem\n",
      "    on nano's issue tracker: https://savannah.gnu.org/bugs/?group=nano\n",
      "    (you will need an account to be able to do so), or send an email\n",
      "    to the nano-devel list (no need to subscribe, but mention it if\n",
      "    you want to be CC'ed on an answer).\n",
      "\n"
     ]
    }
   ],
   "source": [
    "# Muestra el contenido del fichero README dentro de \"nano\"\n",
    "cat ../README"
   ]
  },
  {
   "cell_type": "code",
   "execution_count": 68,
   "id": "eda39d97",
   "metadata": {},
   "outputs": [],
   "source": [
    "# Cambia al directorio padre\n",
    "cd .."
   ]
  },
  {
   "cell_type": "code",
   "execution_count": 69,
   "id": "4e375f1d-f24b-4bc4-800a-c03ada068448",
   "metadata": {},
   "outputs": [
    {
     "name": "stdout",
     "output_type": "stream",
     "text": [
      "/home/jupyter-bNRwpKEICY/ficheros_ejemplo/nano\n"
     ]
    }
   ],
   "source": [
    "# Muestra tu directorio de trabajo actual\n",
    "pwd "
   ]
  },
  {
   "cell_type": "code",
   "execution_count": 71,
   "id": "86d534f9",
   "metadata": {},
   "outputs": [
    {
     "name": "stdout",
     "output_type": "stream",
     "text": [
      "total 1184\n",
      "drwxrwxr-x 8 jupyter-bNRwpKEICY jupyter-bNRwpKEICY   4096 sep  7  2023 .\n",
      "drwxrwxr-x 4 jupyter-bNRwpKEICY jupyter-bNRwpKEICY   4096 sep  7  2023 ..\n",
      "-rw-rw-r-- 1 jupyter-bNRwpKEICY jupyter-bNRwpKEICY   2928 sep  7  2023 AUTHORS\n",
      "-rwxrwxr-x 1 jupyter-bNRwpKEICY jupyter-bNRwpKEICY    998 sep  7  2023 autogen.sh\n",
      "-rw-rw-r-- 1 jupyter-bNRwpKEICY jupyter-bNRwpKEICY 325679 sep  7  2023 ChangeLog\n",
      "-rw-rw-r-- 1 jupyter-bNRwpKEICY jupyter-bNRwpKEICY 371696 sep  7  2023 ChangeLog.1999-2006\n",
      "-rw-rw-r-- 1 jupyter-bNRwpKEICY jupyter-bNRwpKEICY 205537 sep  7  2023 ChangeLog.2007-2015\n",
      "-rw-rw-r-- 1 jupyter-bNRwpKEICY jupyter-bNRwpKEICY  18126 sep  7  2023 configure.ac\n",
      "-rw-rw-r-- 1 jupyter-bNRwpKEICY jupyter-bNRwpKEICY  35068 sep  7  2023 COPYING\n",
      "-rw-rw-r-- 1 jupyter-bNRwpKEICY jupyter-bNRwpKEICY  20403 sep  7  2023 COPYING.DOC\n",
      "drwxrwxr-x 2 jupyter-bNRwpKEICY jupyter-bNRwpKEICY   4096 sep  7  2023 doc\n",
      "drwxrwxr-x 3 jupyter-bNRwpKEICY jupyter-bNRwpKEICY   4096 sep  7  2023 .github\n",
      "-rw-rw-r-- 1 jupyter-bNRwpKEICY jupyter-bNRwpKEICY    958 sep  7  2023 .gitignore\n",
      "-rw-rw-r-- 1 jupyter-bNRwpKEICY jupyter-bNRwpKEICY  11587 sep  7  2023 IMPROVEMENTS\n",
      "drwxrwxr-x 2 jupyter-bNRwpKEICY jupyter-bNRwpKEICY   4096 sep  7  2023 m4\n",
      "-rw-rw-r-- 1 jupyter-bNRwpKEICY jupyter-bNRwpKEICY    297 sep  7  2023 Makefile.am\n",
      "-rwxrwxr-x 1 jupyter-bNRwpKEICY jupyter-bNRwpKEICY    828 sep  7  2023 nano-regress\n",
      "-rw-rw-r-- 1 jupyter-bNRwpKEICY jupyter-bNRwpKEICY 127084 sep  7  2023 NEWS\n",
      "drwxrwxr-x 2 jupyter-bNRwpKEICY jupyter-bNRwpKEICY   4096 sep  7  2023 po\n",
      "-rw-rw-r-- 1 jupyter-bNRwpKEICY jupyter-bNRwpKEICY   5332 sep  7  2023 README\n",
      "-rw-rw-r-- 1 jupyter-bNRwpKEICY jupyter-bNRwpKEICY   3647 sep  7  2023 README.hacking\n",
      "-rwxrwxr-x 1 jupyter-bNRwpKEICY jupyter-bNRwpKEICY    934 sep  7  2023 roll-a-release.sh\n",
      "drwxrwxr-x 2 jupyter-bNRwpKEICY jupyter-bNRwpKEICY   4096 sep  7  2023 src\n",
      "drwxrwxr-x 3 jupyter-bNRwpKEICY jupyter-bNRwpKEICY   4096 sep  7  2023 syntax\n",
      "-rw-rw-r-- 1 jupyter-bNRwpKEICY jupyter-bNRwpKEICY   6433 sep  7  2023 THANKS\n",
      "-rw-rw-r-- 1 jupyter-bNRwpKEICY jupyter-bNRwpKEICY     99 sep  7  2023 TODO\n"
     ]
    }
   ],
   "source": [
    "# Muestra el contenido completo del fichero TODO dentro de \"nano\"\n",
    "ls -al"
   ]
  },
  {
   "cell_type": "code",
   "execution_count": null,
   "id": "672c6ede",
   "metadata": {},
   "outputs": [],
   "source": [
    "# Ahora vamos a usar los ficheros de \"sample_files\"\n",
    "# Empieza cambiando al directorio \"sample_files\" desde tu directorio de trabajo actual\n"
   ]
  },
  {
   "cell_type": "code",
   "execution_count": null,
   "id": "afd3cf3e-72cf-4475-ab0d-90fa5ce7b711",
   "metadata": {},
   "outputs": [],
   "source": [
    "# Muestra tu directorio de trabajo actual\n",
    "pwd "
   ]
  },
  {
   "cell_type": "code",
   "execution_count": null,
   "id": "5d058752",
   "metadata": {},
   "outputs": [],
   "source": [
    "# Cambia al subdirectorio \"txt\" , situado en \"document\"\n"
   ]
  },
  {
   "cell_type": "code",
   "execution_count": null,
   "id": "4c5d5063-fa39-409a-b326-1557a1b0d44a",
   "metadata": {},
   "outputs": [],
   "source": [
    "# Muestra tu directorio de trabajo actual\n",
    "pwd "
   ]
  },
  {
   "cell_type": "code",
   "execution_count": null,
   "id": "3fd4a484",
   "metadata": {},
   "outputs": [],
   "source": [
    "# Guarda una copia del fichero \"sample1.txt\" llamada \"copia_sample1.txt\" en el mismo directorio\n"
   ]
  },
  {
   "cell_type": "code",
   "execution_count": null,
   "id": "6b10d959-8581-4e1a-ba0a-bb11f0280270",
   "metadata": {},
   "outputs": [],
   "source": [
    "# Lista el contenido del directorio actual\n",
    "ls"
   ]
  },
  {
   "cell_type": "code",
   "execution_count": null,
   "id": "e82d5543",
   "metadata": {},
   "outputs": [],
   "source": [
    "# Muestra el contenido del directorio \"pdf\"\n"
   ]
  },
  {
   "cell_type": "code",
   "execution_count": null,
   "id": "9267ed44",
   "metadata": {},
   "outputs": [],
   "source": [
    "# Haz un listado largo del directorio \"xls\"\n"
   ]
  },
  {
   "cell_type": "code",
   "execution_count": null,
   "id": "afcfcceb",
   "metadata": {},
   "outputs": [],
   "source": [
    "# Vuelve al último directorio en el que has estado (nota: sin utilizar su ruta relativa o absoluta en el comando)\n"
   ]
  },
  {
   "cell_type": "code",
   "execution_count": null,
   "id": "c7804622-746c-45fb-81e6-f5b398f77df2",
   "metadata": {},
   "outputs": [],
   "source": [
    "# Muestra tu directorio de trabajo actual\n",
    "pwd "
   ]
  },
  {
   "cell_type": "code",
   "execution_count": null,
   "id": "3b453010",
   "metadata": {},
   "outputs": [],
   "source": [
    "# Cámbiate al directorio \"jpg\" situado en \"image\" utilizando su ruta absoluta\n"
   ]
  },
  {
   "cell_type": "code",
   "execution_count": null,
   "id": "914ea4b8-abea-4c77-9dea-180b315fcc92",
   "metadata": {},
   "outputs": [],
   "source": [
    "# Muestra tu directorio de trabajo actual\n",
    "pwd "
   ]
  },
  {
   "cell_type": "code",
   "execution_count": null,
   "id": "fab2c799",
   "metadata": {},
   "outputs": [],
   "source": [
    "# Haz un listado del directorio \"png\"\n"
   ]
  },
  {
   "cell_type": "code",
   "execution_count": null,
   "id": "a493d564",
   "metadata": {},
   "outputs": [],
   "source": [
    "# Haz un listado del directorio \"mp4\" situado dentro de \"videos\"\n"
   ]
  },
  {
   "cell_type": "code",
   "execution_count": null,
   "id": "9d95ab26",
   "metadata": {},
   "outputs": [],
   "source": [
    "# Vuelve al directorio \"ficheros_ejemplo\"\n"
   ]
  },
  {
   "cell_type": "code",
   "execution_count": null,
   "id": "0a79c20a",
   "metadata": {},
   "outputs": [],
   "source": [
    "# Muestra tu directorio de trabajo actual\n",
    "pwd "
   ]
  },
  {
   "cell_type": "markdown",
   "id": "22d49998-dc38-4986-ae7b-0656a0dadb8e",
   "metadata": {},
   "source": [
    "## Creación, copia y borrado de ficheros y directorios"
   ]
  },
  {
   "cell_type": "code",
   "execution_count": 72,
   "id": "f045bd0f-c832-428e-b442-95737561ae63",
   "metadata": {},
   "outputs": [],
   "source": [
    "cd ~/ficheros_ejemplo"
   ]
  },
  {
   "cell_type": "code",
   "execution_count": 73,
   "id": "e582174f-8d74-4866-8a89-4739ab061de5",
   "metadata": {},
   "outputs": [
    {
     "name": "stdout",
     "output_type": "stream",
     "text": [
      "/home/jupyter-bNRwpKEICY/ficheros_ejemplo\n"
     ]
    }
   ],
   "source": [
    "# Muestra tu directorio de trabajo actual\n",
    "pwd "
   ]
  },
  {
   "cell_type": "code",
   "execution_count": 74,
   "id": "fd70a48b",
   "metadata": {},
   "outputs": [],
   "source": [
    "# Crea un directorio llamado prac1\n",
    "mkdir prac1"
   ]
  },
  {
   "cell_type": "code",
   "execution_count": 75,
   "id": "d4fa40f9-c235-484d-b31e-6f128504364d",
   "metadata": {},
   "outputs": [
    {
     "name": "stdout",
     "output_type": "stream",
     "text": [
      "nano  prac1  sample_files\n"
     ]
    }
   ],
   "source": [
    "# Lista el contenido del directorio actual\n",
    "ls"
   ]
  },
  {
   "cell_type": "code",
   "execution_count": 76,
   "id": "7f3d6aee",
   "metadata": {},
   "outputs": [],
   "source": [
    "# Cámbiate al directorio que acabas de crear\n",
    "cd prac1"
   ]
  },
  {
   "cell_type": "code",
   "execution_count": 77,
   "id": "58df9af2-2ab5-40a1-b980-bfacd9f9b6ec",
   "metadata": {},
   "outputs": [
    {
     "name": "stdout",
     "output_type": "stream",
     "text": [
      "/home/jupyter-bNRwpKEICY/ficheros_ejemplo/prac1\n"
     ]
    }
   ],
   "source": [
    "# Muestra tu directorio de trabajo actual\n",
    "pwd    "
   ]
  },
  {
   "cell_type": "code",
   "execution_count": 78,
   "id": "1f06438b",
   "metadata": {},
   "outputs": [],
   "source": [
    "# Crea en el directorio actual un fichero vacío que se llame \"fichero.txt\"\n",
    "touch fichero.txt"
   ]
  },
  {
   "cell_type": "code",
   "execution_count": 79,
   "id": "6c6f22a9",
   "metadata": {},
   "outputs": [
    {
     "name": "stdout",
     "output_type": "stream",
     "text": [
      "-rw-r--r-- 1 jupyter-bNRwpKEICY jupyter-bNRwpKEICY 0 dic  9 11:49 fichero.txt\n"
     ]
    }
   ],
   "source": [
    "# lista de forma detallada este fichero\n",
    "ls -l fichero.txt"
   ]
  },
  {
   "cell_type": "code",
   "execution_count": 80,
   "id": "218a2322",
   "metadata": {},
   "outputs": [],
   "source": [
    "# Vuelve a tu directorio personal con una ruta relativa.\n",
    "cd ../../"
   ]
  },
  {
   "cell_type": "code",
   "execution_count": 116,
   "id": "5c547dcb-9607-4b72-b335-20052420f159",
   "metadata": {},
   "outputs": [
    {
     "name": "stdout",
     "output_type": "stream",
     "text": [
      "/home/jupyter-bNRwpKEICY\n",
      "adios.txt  ejemplo               frutas                   p2-ejercicio\n",
      "algebra    fc-alumno             hola.txt                 p7b-ejercicios\n",
      "copiar     ficheros_ejemplo      jupyter-bNRwpKEICY  test-repo\n",
      "desktop    ficheros_ejemplo.zip  listar                   tmp\n",
      "downloads  ficherovacio          nano\n"
     ]
    }
   ],
   "source": [
    "# Muestra tu directorio de trabajo actual\n",
    "pwd \n",
    "ls"
   ]
  },
  {
   "cell_type": "code",
   "execution_count": 95,
   "id": "8c27d28f",
   "metadata": {},
   "outputs": [],
   "source": [
    "# Copia el fichero \"fichero.txt\" del directorio prac1 que acabas de crear en tu directorio actual\n",
    "cp -r /home/jupyter-bNRwpKEICY/ficheros_ejemplo/prac1 fichero.txt"
   ]
  },
  {
   "cell_type": "code",
   "execution_count": 96,
   "id": "636bf1f3-6d84-43ef-8c8c-fefee656c201",
   "metadata": {},
   "outputs": [
    {
     "name": "stdout",
     "output_type": "stream",
     "text": [
      "total 0\n",
      "-rw-r--r-- 1 jupyter-bNRwpKEICY jupyter-bNRwpKEICY 0 dic  9 11:53 fichero.txt\n"
     ]
    }
   ],
   "source": [
    "# Haz un listado largo del fichero que acabas de copiar (fichero.txt)\n",
    "# que muestre su nombre, tamaño, fecha de modificación, etc.\n",
    "ls -l fichero.txt"
   ]
  },
  {
   "cell_type": "code",
   "execution_count": 97,
   "id": "4d46828a-5f46-48ed-9634-fd737ae0aa0d",
   "metadata": {},
   "outputs": [],
   "source": [
    "# Mueve el fichero que acabas de copiar al directorio actual\n",
    "# para que pase a estar dentro del directorio \"ficheros_ejemplo\"\n",
    "# y se llame \"vacio\"\n",
    "mv /home/jupyter-bNRwpKEICY/fichero.txt /home/jupyter-bNRwpKEICY/ficheros_ejemplo/vacio"
   ]
  },
  {
   "cell_type": "code",
   "execution_count": 98,
   "id": "374e7722-1b08-48ab-a552-df5d0f987c82",
   "metadata": {},
   "outputs": [
    {
     "name": "stdout",
     "output_type": "stream",
     "text": [
      "nano  prac1  sample_files  vacio\n"
     ]
    }
   ],
   "source": [
    "# Lista el contenido del directorio ficheros_ejemplo\n",
    "ls ficheros_ejemplo"
   ]
  },
  {
   "cell_type": "code",
   "execution_count": 103,
   "id": "4899704c-4fe9-4e7f-9654-e1ceb1a729bf",
   "metadata": {},
   "outputs": [],
   "source": [
    "# Sin cambiar de directorio, cambia el nombre del fichero \"vacio\"\n",
    "# para que pase a llamarse \"empty\", y siga dentro de \"ficheros_ejemplo\"\n",
    "mv ficheros_ejemplo/vacio ficheros_ejemplo/empty"
   ]
  },
  {
   "cell_type": "code",
   "execution_count": 104,
   "id": "3632773f-9932-4b32-8693-ad500ad64d56",
   "metadata": {},
   "outputs": [
    {
     "name": "stdout",
     "output_type": "stream",
     "text": [
      "empty  nano  prac1  sample_files\n"
     ]
    }
   ],
   "source": [
    "# Lista el contenido del directorio ficheros_ejemplo\n",
    "ls ficheros_ejemplo"
   ]
  },
  {
   "cell_type": "code",
   "execution_count": null,
   "id": "377964e8-8be1-4441-a45c-12960190de9a",
   "metadata": {},
   "outputs": [],
   "source": []
  },
  {
   "cell_type": "code",
   "execution_count": 119,
   "id": "91950cd8",
   "metadata": {},
   "outputs": [],
   "source": [
    "# Borra el directorio prac1 \n",
    "rm -r ficheros_ejemplo/prac1"
   ]
  },
  {
   "cell_type": "code",
   "execution_count": 120,
   "id": "1075f811-1ff4-4afa-92ca-6fcea89a71d0",
   "metadata": {},
   "outputs": [
    {
     "name": "stdout",
     "output_type": "stream",
     "text": [
      "empty  nano  sample_files\n"
     ]
    }
   ],
   "source": [
    "# Lista el contenido del directorio ficheros_ejemplo\n",
    "ls ficheros_ejemplo"
   ]
  },
  {
   "cell_type": "code",
   "execution_count": 122,
   "id": "fe58ad45-09e8-40a3-90f0-0beeb08161c0",
   "metadata": {},
   "outputs": [],
   "source": [
    "# Borra el directorio \"ficheros_ejemplo\" de tu directorio personal utilizando su ruta absoluta\n",
    "rm -r /home/jupyter-bNRwpKEICY/ficheros_ejemplo"
   ]
  },
  {
   "cell_type": "code",
   "execution_count": 123,
   "id": "1337e812-c99d-47ab-b589-8666eb563c55",
   "metadata": {},
   "outputs": [],
   "source": [
    "# Limpieza\n",
    "cd && rm -rf downloads desktop "
   ]
  },
  {
   "cell_type": "markdown",
   "id": "0bbf22c8-18b7-4d90-9781-8c46a8b72021",
   "metadata": {},
   "source": [
    "**FIN DEL CUADERNO** (*no borres esta celda*)\n",
    "\n",
    "@@@@ practica1-introshell-ejercicios.ipynb @@@@"
   ]
  }
 ],
 "metadata": {
  "kernelspec": {
   "display_name": "Bash",
   "language": "bash",
   "name": "bash"
  },
  "language_info": {
   "codemirror_mode": "shell",
   "file_extension": ".sh",
   "mimetype": "text/x-sh",
   "name": "bash"
  }
 },
 "nbformat": 4,
 "nbformat_minor": 5
}
