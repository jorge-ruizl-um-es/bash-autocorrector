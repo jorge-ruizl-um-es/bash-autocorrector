{
 "cells": [
  {
   "cell_type": "markdown",
   "id": "8e983960",
   "metadata": {},
   "source": [
    "# Ejercicios - Práctica 7a: Procesos en el *shell* de Linux."
   ]
  },
  {
   "cell_type": "markdown",
   "id": "5f67155f",
   "metadata": {},
   "source": [
    "<br>\n",
    "<font size=\"5\">  \n",
    "    <span style=\"color: red;\"><b>ATENCIÓN:</b><br>Se recomienda realizar los ejercicios propuestos de este boletín en un terminal independiente, ya que la mayoría de ellos <b>no pueden llevarse a cabo en Jupyter</b> debido a que es necesario interactuar con el programa lanzado mediante el teclado durante su ejecución. \n",
    "    </span>\n",
    "    <br><br>\n",
    "    Utiliza el <i>notebook</i> únicamente para responder a las preguntas o introducir el comando requerido en las celdas de código.\n",
    "</font>  \n"
   ]
  },
  {
   "cell_type": "markdown",
   "id": "c61e6f57",
   "metadata": {},
   "source": [
    "### Control de procesos en primer y segundo plano"
   ]
  },
  {
   "cell_type": "markdown",
   "id": "043a0cc4-5e30-43d1-ac07-a2ea82d73652",
   "metadata": {},
   "source": [
    "- Lanza el programa `gnome-text-editor` desde un terminal, y luego pulsa `Ctrl-C` para enviar al proceso una señal de terminación. ¿Puedes terminar su ejecución de esta forma? ¿Por qué? ¿A qué proceso le llega la señal `SIGINT` enviada al pulsar `Ctrl-C`?\n",
    "\n"
   ]
  },
  {
   "cell_type": "markdown",
   "id": "b3889941-a986-4b19-91f4-a7da9ecda35f",
   "metadata": {},
   "source": [
    "Cuando lanzas un programa en primer plano y luego pulsas Ctrl-C la ejecución del programa termina nada más pulsar el intro, ya que la señal SIGINT al proceso de ejecución del programa."
   ]
  },
  {
   "cell_type": "markdown",
   "id": "038ef6a8",
   "metadata": {},
   "source": [
    "Vuelve a lanzar el mismo programa, esta vez en segundo plano, y tras hacerlo, pulsa de nuevo `Ctrl-C`. ¿Puedes terminar su ejecución así? ¿Por qué? ¿A qué proceso le llega esta vez la señal `SIGINT`?\n",
    "\n"
   ]
  },
  {
   "cell_type": "markdown",
   "id": "592103bf-c180-4708-8240-aa4fb86edc87",
   "metadata": {},
   "source": [
    "Cuando lanzas un programa en segundo plano, éste no termina cuando pulsas Ctrl-C, ya que la señal SIGINT el shell la ignora."
   ]
  },
  {
   "cell_type": "code",
   "execution_count": 1,
   "id": "d2eea050",
   "metadata": {},
   "outputs": [
    {
     "name": "stdout",
     "output_type": "stream",
     "text": [
      "[1] 615326\n"
     ]
    }
   ],
   "source": [
    "#VII.38\n",
    "#VII.34\n",
    "#VII.29\n",
    "#VII.28\n",
    "#VII.27\n",
    "#VII.26\n",
    "#VII.9\n",
    "# Comando para lanzar gnome-text-editor en segundo plano\n",
    "gnome-text-editor &"
   ]
  },
  {
   "cell_type": "markdown",
   "id": "34002cc0",
   "metadata": {},
   "source": [
    "- ¿Qué comando utilizarías para poder terminar el comando lanzado anteriormente sabiendo su PID?"
   ]
  },
  {
   "cell_type": "markdown",
   "id": "3f92bf3a-17c0-4c92-b88a-7ca91bd2cecc",
   "metadata": {},
   "source": [
    "Utilizaría el comando kill"
   ]
  },
  {
   "cell_type": "code",
   "execution_count": 3,
   "id": "91497829",
   "metadata": {},
   "outputs": [],
   "source": [
    "#VII.2\n",
    "# Comando para terminar la ejecución del proceso lanzado a partir del nombre del programa\n",
    "kill 61532"
   ]
  },
  {
   "cell_type": "markdown",
   "id": "71867479-8914-42fb-8ba8-ba12ad70dd14",
   "metadata": {},
   "source": [
    "- Una vez terminada la ejecución del comando anterior, sin teclear ningún comando, presiona repetidamente `Ctrl-C`. ¿Qué ocurre cada vez que lo haces? ¿Es posible terminar la ejecución del shell de esa forma?\n",
    "\n"
   ]
  },
  {
   "cell_type": "markdown",
   "id": "8dcc7a3f-0bdf-4b0b-b607-b0cf35063a41",
   "metadata": {},
   "source": [
    "No, ya que el shell ignora esta señal"
   ]
  },
  {
   "cell_type": "markdown",
   "id": "07b435d3-cc1f-4f5c-b34e-b3e1ef843226",
   "metadata": {},
   "source": [
    "- Lanza los programas `okteta` y `gnome-text-editor` desde el terminal, ambos en primer plano, como una secuencia de comandos consecutivos, en la misma línea de la siguiente celda:"
   ]
  },
  {
   "cell_type": "code",
   "execution_count": 4,
   "id": "8bb9c999-744b-48b8-b30d-2d06cd04baec",
   "metadata": {},
   "outputs": [
    {
     "name": "stdout",
     "output_type": "stream",
     "text": [
      "No se ha encontrado la orden «okteta», pero se puede instalar con:\n",
      "snap install okteta  # version 0.26.13, or\n",
      "apt  install okteta  # version 5:0.26.7-1\n",
      "Consulte «snap info okteta» para ver más versiones.\n"
     ]
    },
    {
     "ename": "",
     "evalue": "127",
     "output_type": "error",
     "traceback": []
    }
   ],
   "source": [
    "# Lanzar okteta y después gnome-text-editor, ambos en primer plano\n",
    "okteta && gnome-text-editor"
   ]
  },
  {
   "cell_type": "markdown",
   "id": "6ebc93a7",
   "metadata": {},
   "source": [
    "- ¿Qué ha de ocurrir para que comience a ejecutarse el editor `gnome-text-editor`? ¿Cuándo se completa la ejecución de la celda del notebook?\n",
    "\n"
   ]
  },
  {
   "cell_type": "markdown",
   "id": "09320768-c360-4814-91b8-9a5c5e062fd4",
   "metadata": {},
   "source": [
    "Se lanza primero el programa okteta. Este comando bloquea la terminal, mientras okteta esté abierto, no se ejecutará nada más en la línea. Una vez que cierres el programa okteta, el control regresa a la terminal, y entonces se lanza gnome-text-editor."
   ]
  },
  {
   "cell_type": "markdown",
   "id": "6f7a601c-0136-4e19-b8f5-ee8b05a7ce0c",
   "metadata": {},
   "source": [
    "- Vuelve a lanzar los dos programas en una misma línea de comandos, pero esta vez en segundo plano."
   ]
  },
  {
   "cell_type": "code",
   "execution_count": null,
   "id": "552cf1f7-6670-413d-ae47-9d5fc1ba9a25",
   "metadata": {},
   "outputs": [],
   "source": [
    "# Lanzar okteta y después gnome-text-editor, ambos en segundo plano\n",
    "okteta & gnome-text-editor &"
   ]
  },
  {
   "cell_type": "markdown",
   "id": "b4948205-22c4-44fb-9532-47b40855f089",
   "metadata": {},
   "source": [
    "- Escribe el comando adecuado para pasar a primer plano el último proceso que se lanzó (el editor `gnome-text-editor`).\n",
    "\n"
   ]
  },
  {
   "cell_type": "markdown",
   "id": "eb12d0a8-8e7e-480e-9c91-12c9c407d975",
   "metadata": {},
   "source": [
    "El comando fg pasa a primer plano el último proceso que se lanzó"
   ]
  },
  {
   "cell_type": "markdown",
   "id": "f4576b30",
   "metadata": {},
   "source": [
    "- Desde el terminal, termina el proceso que acabas de pasar a primer plano. ¿Qué teclas o comando has utilizado?\n",
    "\n"
   ]
  },
  {
   "cell_type": "markdown",
   "id": "33b4bab7-0afe-4904-b21b-a91a27ddacd9",
   "metadata": {},
   "source": [
    "Ctrl-C"
   ]
  },
  {
   "cell_type": "markdown",
   "id": "2a2a49f9-1684-4f43-b518-f646fa9af5b2",
   "metadata": {},
   "source": [
    "- Repite el comando `fg` para hacer lo propio con el comando anterior (`okteta`), pero esta vez, en lugar de terminarlo, páralo. ¿Qué teclas o comando has utilizado?\n",
    "\n"
   ]
  },
  {
   "cell_type": "markdown",
   "id": "952c17c9-ccad-4888-8a71-6b84d402dd68",
   "metadata": {},
   "source": [
    "Ctrl-Z se usa para pararlo, pero no hace que termine el proceso."
   ]
  },
  {
   "cell_type": "markdown",
   "id": "0f4215bc",
   "metadata": {},
   "source": [
    "- Trata de interactuar con el proceso `okteta`, ¿por que no responde al ratón ni al teclado?\n",
    "\n"
   ]
  },
  {
   "cell_type": "markdown",
   "id": "0d6325f4-7b54-40fd-b549-80a2ea476bf7",
   "metadata": {},
   "source": [
    "porque está detenido en el sistema operativo"
   ]
  },
  {
   "cell_type": "markdown",
   "id": "e509880d",
   "metadata": {},
   "source": [
    "- Vuelve a despertar el proceso `okteta` pero esta vez en segundo plano. ¿Qué comando has de utilizar?\n",
    "\n"
   ]
  },
  {
   "cell_type": "markdown",
   "id": "5929be0b-6393-4341-bc89-600913fbdad8",
   "metadata": {},
   "source": [
    "Para despertar el programa en segundo plano se utiliza el comando bg."
   ]
  },
  {
   "cell_type": "markdown",
   "id": "c582f37f",
   "metadata": {},
   "source": [
    "- Usa la orden adecuada para listar los procesos lanzados desde el terminal donde estás ejecutando los comandos anteriores."
   ]
  },
  {
   "cell_type": "code",
   "execution_count": null,
   "id": "07cb9361-f23a-40e9-84c9-1a78801dc66c",
   "metadata": {},
   "outputs": [],
   "source": [
    "jobs"
   ]
  },
  {
   "cell_type": "code",
   "execution_count": null,
   "id": "c989208a",
   "metadata": {},
   "outputs": [],
   "source": [
    "#VII.5\n",
    "# Comando para monitorizar los procesos activos lanzados en este terminal\n",
    "ps"
   ]
  },
  {
   "cell_type": "markdown",
   "id": "559c6d51-fb7e-4aa8-8bbc-a7066eadf691",
   "metadata": {},
   "source": [
    "```\n",
    "    PID TTY          TIME CMD\n",
    "  19422 pts/5    00:00:00 bash\n",
    "  27254 pts/5    00:00:01 okteta\n",
    "  28051 pts/5    00:00:00 ps\n",
    "```"
   ]
  },
  {
   "cell_type": "markdown",
   "id": "80a20a8a-14a2-4f48-8517-f464f2a6122b",
   "metadata": {},
   "source": [
    "- Finalmente, termina el proceso `okteta` desde el terminal esta vez usando el PID (identificador del proceso) que nos indicó el terminal al lanzar el proceso inicialmente."
   ]
  },
  {
   "cell_type": "code",
   "execution_count": null,
   "id": "9f86707c",
   "metadata": {},
   "outputs": [],
   "source": [
    "#VII.6\n",
    "# Comando para terminar el proceso lanzado en segundo plano\n",
    "kill 27254"
   ]
  },
  {
   "cell_type": "markdown",
   "id": "e7cee5ac-bcec-4e17-baf4-c53759766a8a",
   "metadata": {},
   "source": [
    "- Lanza de nuevo los programas `okteta` y `gnome-text-editor`, en dicho orden, pero esta vez únicamente con `okteta` en segundo plano. ¿Qué ocurre si ahora pulsas `Ctrl-C` en el terminal?\n",
    "\n"
   ]
  },
  {
   "cell_type": "code",
   "execution_count": null,
   "id": "7214f560-249c-4db6-a072-823246ef860b",
   "metadata": {},
   "outputs": [],
   "source": [
    "okteta & gnome-text-editor"
   ]
  },
  {
   "cell_type": "markdown",
   "id": "0fc51676-9f38-4d06-bda6-cc964dba3527",
   "metadata": {},
   "source": [
    "Ctrl+C envía la señal SIGINT al proceso en primer plano. En este caso, gnome-text-editor es el que está en primer plano, por lo que éste se cerrará de inmediato, pero okteta no se verá afectado."
   ]
  },
  {
   "cell_type": "markdown",
   "id": "00c51ed8",
   "metadata": {},
   "source": [
    "- Usando el comando adecuado, averigua el PID del proceso que está ejecutando `okteta` a partir de su nombre."
   ]
  },
  {
   "cell_type": "code",
   "execution_count": null,
   "id": "9f9f5985",
   "metadata": {},
   "outputs": [],
   "source": [
    "#VII.7\n",
    "# Comando para averiguar el PID del un proceso por el nombre del comando ejecutado\n",
    "pgrep okteta"
   ]
  },
  {
   "cell_type": "markdown",
   "id": "4a8907ca-3ed5-4e68-8b42-1372181296e8",
   "metadata": {},
   "source": [
    "- Termina el programa `okteta` sin necesidad de introducir su PID"
   ]
  },
  {
   "cell_type": "code",
   "execution_count": null,
   "id": "57ccec94-bb9e-4744-a562-6ee857476af2",
   "metadata": {},
   "outputs": [],
   "source": [
    "#VII.8\n",
    "pkill okteta"
   ]
  },
  {
   "cell_type": "markdown",
   "id": "f715191f-fce5-40c7-a9f0-049d7de99b3b",
   "metadata": {},
   "source": [
    "- Descarga el programa ejecutable `uninterruptible`, el cual tienes disponible a través del AV, y cámbiale los permisos para poder ejecutarlo. Ejecútalo en primer plano y prueba a terminar su ejecución con `CTRL-C`. ¿Puedes? Explica qué semejanzas crees que tiene este programa con el programa *shell* en cuanto al tratamiento de la señal `SIGINT`.\n",
    "\n"
   ]
  },
  {
   "cell_type": "code",
   "execution_count": 2,
   "id": "1e0986f7-95f5-4371-a61f-dfa87ea07f90",
   "metadata": {},
   "outputs": [],
   "source": [
    "chmod +x uninterruptible"
   ]
  },
  {
   "cell_type": "markdown",
   "id": "b6647053-7d05-4300-8d48-94b5329e2683",
   "metadata": {},
   "source": [
    "Un programa \"uninterruptible\" está diseñado para ignorar señales como SIGINT."
   ]
  },
  {
   "cell_type": "markdown",
   "id": "3a223cf7-f83c-4a9b-8ea4-2002b8f5ea08",
   "metadata": {},
   "source": [
    "- Detén la ejecución del programa lanzado anteriormente, sin terminarlo. Después lista los procesos lanzados en el terminal, ¿cuánto tiempo ha usado la CPU el programa `uninterruptible` antes de ser detenido? Si vuelves a listar los procesos, ¿ha variado el tiempo de CPU?\n",
    "\n"
   ]
  },
  {
   "cell_type": "markdown",
   "id": "d722d0d1-6015-40b5-bcc3-b1ea9bdff3ed",
   "metadata": {},
   "source": [
    "El tiempo mostrado en la columna TIME es el tiempo acumulado de CPU que ha utilizado el programa hasta el momento de ser detenido, en este caso ha estado 15 segundos. Si vuelves a listar los procesos después de haber detenido el programa, el tiempo de CPU no cambia."
   ]
  },
  {
   "cell_type": "markdown",
   "id": "2959ee8e-3cd7-4eec-8478-0cfe7dc0ef4d",
   "metadata": {},
   "source": [
    "- Reanuda en segundo plano la ejecución del programa detenido anteriormente, y usa el comando adecuado para observar periódicamente el tiempo de CPU que lleva consumido. ¿Qué porcentaje de la CPU usa cuando está en ejecución? ¿En qué medida crece el tiempo de uso de la CPU con respecto al tiempo \"del reloj de pared\" (medido por una persona)?\n",
    "\n"
   ]
  },
  {
   "cell_type": "markdown",
   "id": "7e819199-4e92-465a-9afd-65fb1a2a417e",
   "metadata": {},
   "source": [
    "Despertamos el proceso en segundo plano con el comando bg. Para observar el porcentaje de la CPU que está utilizando el programa uninterruptible, se utiliza el comando top, está usando el 99,7%, casi el 100%. El tiempo de la CPU es el tiempo acumulado mientras el programa está usando la CPU, si el proceso está ejecutándose en segundo plano, este valor aumentará mientras el programa esté activo."
   ]
  },
  {
   "cell_type": "markdown",
   "id": "12e5101a-68ef-42e0-a9c2-e5a82f5261d5",
   "metadata": {},
   "source": [
    "- Termina el programa `uninterruptible`, ya sea por su nombre o PID, enviando la señal `SIGTERM`. ¿Puedes terminar el proceso? Indica el comando que has utilizado.\n",
    "\n"
   ]
  },
  {
   "cell_type": "markdown",
   "id": "9fd17371-7f21-4c15-ad94-ae00d0bf0d6e",
   "metadata": {},
   "source": [
    "Con el comando kill o pkill se puede terminar el proceso"
   ]
  },
  {
   "cell_type": "markdown",
   "id": "50a497c3",
   "metadata": {},
   "source": [
    "- A la vista de la salida del programa `uninterruptible` terminado en el paso anterior, ¿crees que el programa termina súbitamente al recibir la señal, o lo hace por sus propios medios?\n",
    "\n"
   ]
  },
  {
   "cell_type": "markdown",
   "id": "5851b74b-7622-4ca8-8210-57002739cedc",
   "metadata": {},
   "source": [
    "En función de la salida del programa tras recibir SIGTERM, si el programa termina de manera inmediata, entonces ha terminado súbitamente al recibir la señal. Si se observa un retraso, el programa ha gestionado la señal por sus propios medios. En este caso el programa ha terminado por sus propios medios."
   ]
  },
  {
   "cell_type": "markdown",
   "id": "5cbaf5da-0fb9-4a71-abef-dfd0b6283cb4",
   "metadata": {},
   "source": [
    "- Descarga el programa `stubborn` del AV y cámbiale los permisos para poder ejecutarlo. Después, ejecútalo en primer plano y prueba a terminar su ejecución con `CTRL-C`. ¿Qué ocurre? De nuevo, observa los procesos en ejecución con el comando adecuado, ¿cuál es su uso de CPU?\n",
    "\n"
   ]
  },
  {
   "cell_type": "code",
   "execution_count": 1,
   "id": "322231b8-e8ae-491f-938c-1e53d903f219",
   "metadata": {},
   "outputs": [],
   "source": [
    "chmod +x stubborn"
   ]
  },
  {
   "cell_type": "markdown",
   "id": "8e1a1a1b-d18d-42a3-b4ff-da6013e611d2",
   "metadata": {},
   "source": [
    "El programa stubborn recibe la señal SIGINT y la ignora. Si ejecutamos ps-Af podemos ver que la CPU ha usado el programa 8 segundos."
   ]
  },
  {
   "cell_type": "markdown",
   "id": "8e8df847-5afc-4622-b5f9-3955cabf9832",
   "metadata": {},
   "source": [
    "- Detén la ejecución del programa lanzado anteriormente, sin terminarlo, y luego reanuda en segundo plano su ejecución. Después, trata de terminar el programa `stubborn`, ya sea por su nombre o PID, enviando la señal `SIGTERM` al igual que has hecho anteriormente. ¿Puedes terminar el proceso de esta forma?\n",
    "\n"
   ]
  },
  {
   "cell_type": "markdown",
   "id": "9d490780-e132-46f5-a2e8-6e2d39fd2119",
   "metadata": {},
   "source": [
    "No, también ignora la señal SIGTERM en segundo plano."
   ]
  },
  {
   "cell_type": "markdown",
   "id": "3d3e8e0e",
   "metadata": {},
   "source": [
    "- A la vista de lo anterior, ¿de qué forma podemos terminar el proceso `stubborn`? Indica el comando.\n",
    "\n",
    "RESPUESTA: La única forma de acabar con el proceso es \"matarlo\" con `pkill -9 stubborn`, lo cual hace que se le envíe la señal `SIGKILL`, que ningún proceso puede ignorar. Al hacerlo, vemos este mensaje: \n",
    "```\n",
    "[1]+  Terminado (killed)      ./stubborn\n",
    "```\n"
   ]
  },
  {
   "cell_type": "markdown",
   "id": "b33cb824",
   "metadata": {},
   "source": [
    "### Listado y monitorización de procesos"
   ]
  },
  {
   "cell_type": "markdown",
   "id": "d9456ca4",
   "metadata": {},
   "source": [
    "- Usa el comando adecuado para mostrar **todos** los procesos que se están ejecutando actualmente en el sistema."
   ]
  },
  {
   "cell_type": "code",
   "execution_count": 2,
   "id": "dcbfdbf2",
   "metadata": {},
   "outputs": [
    {
     "name": "stdout",
     "output_type": "stream",
     "text": [
      "UID          PID    PPID  C STIME TTY          TIME CMD\n",
      "root           1       0  0 nov14 ?        00:04:25 /sbin/init\n",
      "root           2       0  0 nov14 ?        00:00:00 [kthreadd]\n",
      "root           3       2  0 nov14 ?        00:00:00 [pool_workqueue_release]\n",
      "root           4       2  0 nov14 ?        00:00:00 [kworker/R-rcu_g]\n",
      "root           5       2  0 nov14 ?        00:00:00 [kworker/R-rcu_p]\n",
      "root           6       2  0 nov14 ?        00:00:00 [kworker/R-slub_]\n",
      "root           7       2  0 nov14 ?        00:00:00 [kworker/R-netns]\n",
      "root          10       2  0 nov14 ?        00:00:00 [kworker/0:0H-events_highpri\n",
      "root          12       2  0 nov14 ?        00:00:00 [kworker/R-mm_pe]\n",
      "root          13       2  0 nov14 ?        00:00:00 [rcu_tasks_rude_kthread]\n",
      "root          14       2  0 nov14 ?        00:00:00 [rcu_tasks_trace_kthread]\n",
      "root          15       2  0 nov14 ?        00:00:03 [ksoftirqd/0]\n",
      "root          16       2  0 nov14 ?        00:01:33 [rcu_sched]\n",
      "root          17       2  0 nov14 ?        00:00:11 [migration/0]\n",
      "root          18       2  0 nov14 ?        00:00:00 [idle_inject/0]\n",
      "root          19       2  0 nov14 ?        00:00:00 [cpuhp/0]\n",
      "root          20       2  0 nov14 ?        00:00:00 [cpuhp/1]\n",
      "root          21       2  0 nov14 ?        00:00:00 [idle_inject/1]\n",
      "root          22       2  0 nov14 ?        00:00:10 [migration/1]\n",
      "root          23       2  0 nov14 ?        00:00:02 [ksoftirqd/1]\n",
      "root          25       2  0 nov14 ?        00:00:00 [kworker/1:0H-events_highpri\n",
      "root          26       2  0 nov14 ?        00:00:00 [cpuhp/2]\n",
      "root          27       2  0 nov14 ?        00:00:00 [idle_inject/2]\n",
      "root          28       2  0 nov14 ?        00:00:09 [migration/2]\n",
      "root          29       2  0 nov14 ?        00:00:02 [ksoftirqd/2]\n",
      "root          31       2  0 nov14 ?        00:00:00 [kworker/2:0H-kblockd]\n",
      "root          32       2  0 nov14 ?        00:00:00 [cpuhp/3]\n",
      "root          33       2  0 nov14 ?        00:00:00 [idle_inject/3]\n",
      "root          34       2  0 nov14 ?        00:00:09 [migration/3]\n",
      "root          35       2  0 nov14 ?        00:00:02 [ksoftirqd/3]\n",
      "root          37       2  0 nov14 ?        00:00:00 [kworker/3:0H-events_highpri\n",
      "root          38       2  0 nov14 ?        00:00:00 [kdevtmpfs]\n",
      "root          39       2  0 nov14 ?        00:00:00 [kworker/R-inet_]\n",
      "root          41       2  0 nov14 ?        00:00:00 [kauditd]\n",
      "root          42       2  0 nov14 ?        00:00:01 [khungtaskd]\n",
      "root          43       2  0 nov14 ?        00:00:00 [oom_reaper]\n",
      "root          45       2  0 nov14 ?        00:00:00 [kworker/R-write]\n",
      "root          46       2  0 nov14 ?        00:01:25 [kcompactd0]\n",
      "root          47       2  0 nov14 ?        00:00:00 [ksmd]\n",
      "root          48       2  0 nov14 ?        00:00:10 [khugepaged]\n",
      "root          49       2  0 nov14 ?        00:00:00 [kworker/R-kinte]\n",
      "root          50       2  0 nov14 ?        00:00:00 [kworker/R-kbloc]\n",
      "root          51       2  0 nov14 ?        00:00:00 [kworker/R-blkcg]\n",
      "root          52       2  0 nov14 ?        00:00:00 [irq/9-acpi]\n",
      "root          56       2  0 nov14 ?        00:00:00 [kworker/R-tpm_d]\n",
      "root          57       2  0 nov14 ?        00:00:00 [kworker/R-ata_s]\n",
      "root          58       2  0 nov14 ?        00:00:00 [kworker/R-md]\n",
      "root          59       2  0 nov14 ?        00:00:00 [kworker/R-md_bi]\n",
      "root          60       2  0 nov14 ?        00:00:00 [kworker/R-edac-]\n",
      "root          61       2  0 nov14 ?        00:00:00 [kworker/R-devfr]\n",
      "root          62       2  0 nov14 ?        00:00:00 [watchdogd]\n",
      "root          63       2  0 nov14 ?        00:00:06 [kworker/1:1H-kblockd]\n",
      "root          64       2  0 nov14 ?        00:00:29 [kswapd0]\n",
      "root          65       2  0 nov14 ?        00:00:00 [ecryptfs-kthread]\n",
      "root          66       2  0 nov14 ?        00:00:00 [kworker/R-kthro]\n",
      "root          67       2  0 nov14 ?        00:00:00 [kworker/R-acpi_]\n",
      "root          68       2  0 nov14 ?        00:00:46 [hwrng]\n",
      "root          69       2  0 nov14 ?        00:00:00 [scsi_eh_0]\n",
      "root          70       2  0 nov14 ?        00:00:00 [kworker/R-scsi_]\n",
      "root          71       2  0 nov14 ?        00:00:00 [kworker/R-nvme-]\n",
      "root          72       2  0 nov14 ?        00:00:00 [kworker/R-nvme-]\n",
      "root          73       2  0 nov14 ?        00:00:00 [kworker/R-nvme-]\n",
      "root          74       2  0 nov14 ?        00:00:00 [kworker/R-nvme-]\n",
      "root          75       2  0 nov14 ?        00:00:07 [kworker/0:1H-kblockd]\n",
      "root          76       2  0 nov14 ?        00:00:07 [kworker/2:1H-kblockd]\n",
      "root          77       2  0 nov14 ?        00:00:17 [kworker/3:1H-kblockd]\n",
      "root          78       2  0 nov14 ?        00:00:00 [kworker/R-mld]\n",
      "root          79       2  0 nov14 ?        00:00:00 [kworker/R-ipv6_]\n",
      "root          86       2  0 nov14 ?        00:00:00 [kworker/R-kstrp]\n",
      "root          89       2  0 nov14 ?        00:00:00 [kworker/u9:0]\n",
      "root         102       2  0 nov14 ?        00:00:00 [kworker/R-charg]\n",
      "root         103       2  0 nov14 ?        00:01:15 [jbd2/sda1-8]\n",
      "root         104       2  0 nov14 ?        00:00:00 [kworker/R-ext4-]\n",
      "root         145       1  0 nov14 ?        00:24:39 /lib/systemd/systemd-journal\n",
      "root         178       2  0 nov14 ?        00:00:00 [kworker/R-kalua]\n",
      "root         180       2  0 nov14 ?        00:00:00 [kworker/R-kmpat]\n",
      "root         182       2  0 nov14 ?        00:00:00 [kworker/R-kmpat]\n",
      "root         183       2  0 nov14 ?        00:00:00 [kworker/R-kmpat]\n",
      "root         185       1  0 nov14 ?        00:03:32 /sbin/multipathd -d -s\n",
      "root         195       1  0 nov14 ?        00:00:03 /lib/systemd/systemd-udevd\n",
      "root         224       2  0 nov14 ?        00:00:00 [kworker/R-crypt]\n",
      "systemd+     401       1  0 nov14 ?        00:00:11 /lib/systemd/systemd-network\n",
      "systemd+     403       1  0 nov14 ?        00:00:06 /lib/systemd/systemd-resolve\n",
      "root         436       1  0 nov14 ?        00:03:44 /usr/libexec/accounts-daemon\n",
      "message+     438       1  0 nov14 ?        00:00:08 @dbus-daemon --system --addr\n",
      "root         442       1  0 nov14 ?        00:04:33 /usr/bin/google_osconfig_age\n",
      "root         446       1  0 nov14 ?        00:00:01 /usr/bin/python3 /usr/bin/ne\n",
      "syslog       449       1  0 nov14 ?        00:06:46 /usr/sbin/rsyslogd -n -iNONE\n",
      "root         472       1  0 nov14 ?        00:51:26 /opt/tljh/hub/bin/traefik -c\n",
      "_chrony      475       1  0 nov14 ?        00:00:01 /usr/sbin/chronyd -F 1\n",
      "root         476       1  0 nov14 ?        00:34:56 /opt/tljh/hub/bin/python3 -m\n",
      "_chrony      478     475  0 nov14 ?        00:00:00 /usr/sbin/chronyd -F 1\n",
      "root         614       1  0 nov14 ?        00:03:55 /usr/bin/google_guest_agent\n",
      "root         623       1  0 nov14 ?        00:00:00 /usr/libexec/polkitd --no-de\n",
      "root         688       1  0 nov14 ?        00:00:00 /usr/bin/python3 /usr/share/\n",
      "root         752       1  0 nov14 ttyS0    00:00:00 /sbin/agetty -o -p -- \\u --k\n",
      "root         754       1  0 nov14 tty1     00:00:00 /sbin/agetty -o -p -- \\u --n\n",
      "root         755       1  0 nov14 ?        00:00:00 sshd: /usr/sbin/sshd -D [lis\n",
      "root         767       1  0 nov14 ?        00:00:06 /lib/systemd/systemd-logind\n",
      "root         786       1  0 nov14 ?        00:00:03 /usr/sbin/cron -f -P\n",
      "root         819     476  0 nov14 ?        00:03:07 /opt/tljh/hub/bin/python3 -m\n",
      "root         823       2  0 nov14 ?        00:00:00 [kworker/R-tls-s]\n",
      "root        1223       1  0 nov14 ?        00:00:13 /usr/libexec/packagekitd\n",
      "root      228728       1  0 nov26 ?        00:00:56 /usr/lib/snapd/snapd\n",
      "root      414632       2  0 dic03 ?        00:00:13 [kworker/3:0-events]\n",
      "root      621000       2  0 dic06 ?        00:00:08 [kworker/0:2-events]\n",
      "root      631031       2  0 dic06 ?        00:00:04 [kworker/1:0-pm]\n",
      "root      639899       2  0 dic07 ?        00:00:26 [kworker/2:1-pm]\n",
      "root      666048       2  0 17:06 ?        00:00:00 [kworker/u8:3-events_power_e\n",
      "root      666683       2  0 17:46 ?        00:00:00 [kworker/2:0]\n",
      "jupyter+  666876       1  1 18:01 ?        00:00:35 /opt/tljh/user/bin/python /o\n",
      "jupyter+  666896  666876  0 18:01 ?        00:00:00 /opt/tljh/user/bin/python3 -\n",
      "jupyter+  666899  666876  0 18:01 ?        00:00:00 /opt/tljh/user/bin/python3 -\n",
      "jupyter+  666912  666899  0 18:01 pts/4    00:00:00 /usr/bin/bash --rcfile /opt/\n",
      "jupyter+  666930  666896  0 18:01 pts/5    00:00:00 /usr/bin/bash --rcfile /opt/\n",
      "root      667128       2  0 18:05 ?        00:00:00 [kworker/u8:1-flush-8:0]\n",
      "jupyter+  667385  666876  0 18:09 pts/13   00:00:00 /bin/bash -l\n",
      "jupyter+  667458  666876  0 18:11 ?        00:00:00 /opt/tljh/user/bin/python3 -\n",
      "jupyter+  667471  667458  0 18:11 pts/14   00:00:00 /usr/bin/bash --rcfile /opt/\n",
      "root      667606       2  0 18:15 ?        00:00:00 [kworker/0:1]\n",
      "jupyter+  667618  666876  0 18:15 ?        00:00:01 /opt/tljh/user/bin/python3 -\n",
      "jupyter+  667631  667618  0 18:15 pts/0    00:00:00 /usr/bin/bash --rcfile /opt/\n",
      "root      667887       2  0 18:26 ?        00:00:00 [kworker/u8:0-flush-8:0]\n",
      "root      667918       2  0 18:27 ?        00:00:00 [kworker/3:2]\n",
      "root      667949       2  0 18:29 ?        00:00:00 [kworker/1:2-events]\n",
      "root      667971       2  0 18:32 ?        00:00:00 [kworker/u8:2-events_unbound\n",
      "jupyter+  667986  666876  0 18:32 pts/1    00:00:00 /bin/bash -l\n",
      "jupyter+  668089  667631  0 18:38 pts/0    00:00:00 ps -Af\n"
     ]
    }
   ],
   "source": [
    "ps -Af"
   ]
  },
  {
   "cell_type": "markdown",
   "id": "4f9ed984",
   "metadata": {},
   "source": [
    "- Localiza tres procesos cuyo propietario sea nuestro usuario, y otros tres cuyo propietario sea el superusuario (root). Pega la línea completa mostrada para cada proceso.\n",
    "\n"
   ]
  },
  {
   "cell_type": "markdown",
   "id": "13ee7fdf-2e30-4c96-a715-ea75a60dcbe5",
   "metadata": {},
   "source": [
    "Tres procesos cuyo propietario sea nuestro usuario:\n",
    "\n",
    "jupyter+  666896  666876  0 18:01 ?        00:00:00 /opt/tljh/user/bin/python3 -\n",
    "\n",
    "jupyter+  666899  666876  0 18:01 ?        00:00:00 /opt/tljh/user/bin/python3 -\n",
    "\n",
    "jupyter+  666912  666899  0 18:01 pts/4    00:00:00 /usr/bin/bash --rcfile /opt/\n",
    "\n",
    "Tres cuyo propitario sea el superusuario:\n",
    "\n",
    "root          73       2  0 nov14 ?        00:00:00 [kworker/R-nvme-]\n",
    "\n",
    "root          74       2  0 nov14 ?        00:00:00 [kworker/R-nvme-]\n",
    "\n",
    "root          75       2  0 nov14 ?        00:00:07 [kworker/0:1H-kblockd]"
   ]
  },
  {
   "cell_type": "markdown",
   "id": "50897f10",
   "metadata": {},
   "source": [
    "- Localiza el proceso que ha consumido más tiempo de CPU. Pega la línea completa mostrada.\n",
    "\n"
   ]
  },
  {
   "cell_type": "markdown",
   "id": "2c610f8a-1d71-4781-802d-8a5db60cb1bb",
   "metadata": {},
   "source": [
    "root         472       1  0 nov14 ?        00:51:26 /opt/tljh/hub/bin/traefik -c"
   ]
  },
  {
   "cell_type": "markdown",
   "id": "52e16c59",
   "metadata": {},
   "source": [
    "- Localiza también el último que se lanzó, mirando las horas de inicio. Pega la línea completa mostrada.\n",
    "\n"
   ]
  },
  {
   "cell_type": "markdown",
   "id": "742b19e8-d4f1-470d-9079-aa4e7a5d1bbb",
   "metadata": {},
   "source": [
    "jupyter+  668089  667631  0 18:38 pts/0    00:00:00 ps -Af"
   ]
  },
  {
   "cell_type": "markdown",
   "id": "78d785a5",
   "metadata": {},
   "source": [
    "- Lanza desde la interfaz de usuario el navegador firefox, y navega hasta la página `www.google.es`, mientras observas mediante `top` la evolución dinámica del consumo de memoria y CPU de los procesos involucrados.  Puedes dividir la pantalla entre ambas ventanas, terminal y navegador, para observar la salida de top mientras navegas. Luego, prueba a navegar a la página `www.youtube.com`. ¿En cuál de las dos páginas se hace más uso de la CPU?\n",
    "\n"
   ]
  },
  {
   "cell_type": "markdown",
   "id": "03a93d11",
   "metadata": {},
   "source": [
    "### Redireccionamiento de la entrada/salida de un proceso"
   ]
  },
  {
   "cell_type": "code",
   "execution_count": 3,
   "id": "493203c3-ee8c-47fb-ac18-6446131d97e3",
   "metadata": {},
   "outputs": [
    {
     "name": "stdout",
     "output_type": "stream",
     "text": [
      "/usr/bin/ld  /usr/bin/ln  /usr/bin/ls\n"
     ]
    }
   ],
   "source": [
    "#VII.10\n",
    "# Lista todos los ficheros en `/usr/bin/` cuyo nombre empiece por 'l'\n",
    "# y tenga exactamente dos caracteres\n",
    "ls /usr/bin/l?"
   ]
  },
  {
   "cell_type": "code",
   "execution_count": 4,
   "id": "703757b1-f7ea-451e-9683-a4613d702c3c",
   "metadata": {},
   "outputs": [],
   "source": [
    "#VII.11\n",
    "# Repite el comando anterior, redireccionando la salida a un fichero llamado progs-l.txt\n",
    "ls /usr/bin/l? > progs-l.txt"
   ]
  },
  {
   "cell_type": "code",
   "execution_count": 12,
   "id": "9c8b8a14-e560-4fa0-8824-3fc172cd2b1e",
   "metadata": {},
   "outputs": [
    {
     "name": "stdout",
     "output_type": "stream",
     "text": [
      "/usr/bin/ld\n",
      "/usr/bin/ln\n",
      "/usr/bin/ls\n"
     ]
    }
   ],
   "source": [
    "#VII.12\n",
    "# Muestra el contenido del fichero progs-l.txt\n",
    "cat progs-l.txt"
   ]
  },
  {
   "cell_type": "code",
   "execution_count": 13,
   "id": "6ed0e4e5-80f7-40eb-80b8-bcc2be9e5f92",
   "metadata": {},
   "outputs": [],
   "source": [
    "#VII.13\n",
    "# Añade al final de dicho fichero un mensaje que diga \"FIN DEL LISTADO\", usando `echo` y la redirección\n",
    "echo \"FIN DEL LISTADO\" >> progs-l.txt"
   ]
  },
  {
   "cell_type": "code",
   "execution_count": 14,
   "id": "a0a027d5-64d8-46e9-a0f5-31770ab674c0",
   "metadata": {},
   "outputs": [
    {
     "name": "stdout",
     "output_type": "stream",
     "text": [
      "/usr/bin/ld\n",
      "/usr/bin/ln\n",
      "/usr/bin/ls\n",
      "FIN DEL LISTADO\n"
     ]
    }
   ],
   "source": [
    "#VII.14\n",
    "# Muestra de nuevo el contenido del fichero\n",
    "cat progs-l.txt"
   ]
  },
  {
   "cell_type": "code",
   "execution_count": 15,
   "id": "40297afb-a388-492e-a377-bb69951a011a",
   "metadata": {},
   "outputs": [],
   "source": [
    "#VII.15\n",
    "# Utilizando el comando ls con la opción adecuada y la redirección de la salida estándar/de error,\n",
    "# averigua sobre qué subdirectorios de /etc no tienes permisos de acceso. PISTA: usa /dev/null\n",
    "# para descartar la salida que no te interese.\n",
    "ls -ld /etc/* > /dev/null 2>&1"
   ]
  },
  {
   "cell_type": "code",
   "execution_count": 16,
   "id": "ff133717-ed86-48c9-9f50-b0ba0f50c4e6",
   "metadata": {},
   "outputs": [],
   "source": [
    "#VII.16\n",
    "# Crea dos directorios, llamados dir1 y dir2\n",
    "mkdir dir1 dir2"
   ]
  },
  {
   "cell_type": "code",
   "execution_count": 17,
   "id": "1d30d81f",
   "metadata": {},
   "outputs": [],
   "source": [
    "#VII.17\n",
    "# Copia el fichero stubborn a dir2\n",
    "cp stubborn dir2"
   ]
  },
  {
   "cell_type": "code",
   "execution_count": 18,
   "id": "32c7c204",
   "metadata": {},
   "outputs": [
    {
     "name": "stdout",
     "output_type": "stream",
     "text": [
      "dir1:\n",
      "\n",
      "dir2:\n",
      "stubborn\n"
     ]
    }
   ],
   "source": [
    "#VII.19\n",
    "# Listar el contenido de dir1 y dir2 en un mismo comando\n",
    "ls dir1 dir2"
   ]
  },
  {
   "cell_type": "code",
   "execution_count": 19,
   "id": "7a95b75c",
   "metadata": {},
   "outputs": [],
   "source": [
    "#VII.20\n",
    "# Cambia los permisos a dir2 para que nadie tenga acceso\n",
    "chmod 000 dir2"
   ]
  },
  {
   "cell_type": "code",
   "execution_count": 20,
   "id": "0f4b1d2c-f73b-4a04-804e-4ccd0c406fad",
   "metadata": {},
   "outputs": [
    {
     "name": "stdout",
     "output_type": "stream",
     "text": [
      "dir1:\n",
      "ls: no se puede abrir el directorio 'dir2': Permiso denegado\n"
     ]
    },
    {
     "ename": "",
     "evalue": "2",
     "output_type": "error",
     "traceback": []
    }
   ],
   "source": [
    "#VII.21\n",
    "# Listar el contenido de dir1 y dir2 en un mismo comando\n",
    "ls dir1 dir2"
   ]
  },
  {
   "cell_type": "code",
   "execution_count": 22,
   "id": "5e379716-ef05-4bcd-a1a9-1f0bcc1d0e54",
   "metadata": {},
   "outputs": [],
   "source": [
    "#VII.22\n",
    "# Utilizando la redirección de la salida estándar/de error, lista\n",
    "# los directorios dir1 y dir2, de forma que los mensajes de error\n",
    "# vayan al fichero \"errores_ls\" y el resto al fichero \"salida_ls\"\n",
    "ls -ld dir1 dir2 > salida_ls 2> errores_ls"
   ]
  },
  {
   "cell_type": "code",
   "execution_count": 25,
   "id": "16589667",
   "metadata": {},
   "outputs": [],
   "source": [
    "#VII.23\n",
    "# Muestra el contenido del fichero errores_ls\n",
    "cat errores_ls"
   ]
  },
  {
   "cell_type": "code",
   "execution_count": 26,
   "id": "261081b3",
   "metadata": {},
   "outputs": [
    {
     "name": "stdout",
     "output_type": "stream",
     "text": [
      "drwxr-xr-x 2 jupyter-w4INL1efTM jupyter-w4INL1efTM 4096 dic  8 19:01 dir1\n",
      "d--------- 2 jupyter-w4INL1efTM jupyter-w4INL1efTM 4096 dic  8 19:02 dir2\n"
     ]
    }
   ],
   "source": [
    "#VII.24\n",
    "# Muestra el contenido del fichero salida_ls\n",
    "cat salida_ls"
   ]
  },
  {
   "cell_type": "markdown",
   "id": "c1efbfd5",
   "metadata": {},
   "source": [
    "### Variables de entorno. Concepto de PATH"
   ]
  },
  {
   "cell_type": "markdown",
   "id": "72304564-f2f3-4c4e-a666-4a403d74bf79",
   "metadata": {},
   "source": [
    "- La variable de entorno `LANG` define, junto con otras, la configuración regional y el idioma del shell. Empieza mostrando su valor actual con `echo`."
   ]
  },
  {
   "cell_type": "code",
   "execution_count": 27,
   "id": "67952124-9f6c-41ea-be99-6ee6381d51d4",
   "metadata": {},
   "outputs": [
    {
     "name": "stdout",
     "output_type": "stream",
     "text": [
      "es_ES.UTF-8\n"
     ]
    }
   ],
   "source": [
    "#VII.25\n",
    "echo $LANG"
   ]
  },
  {
   "cell_type": "markdown",
   "id": "c2dff926",
   "metadata": {},
   "source": [
    " - Ejecuta el comando `ls` pasándole una ruta inexistente para generar un mensaje de error (coméntalo tras generarlo)."
   ]
  },
  {
   "cell_type": "code",
   "execution_count": 28,
   "id": "daacce0d",
   "metadata": {},
   "outputs": [
    {
     "name": "stdout",
     "output_type": "stream",
     "text": [
      "ls: no se puede acceder a 'ruta/inexistente': No existe el archivo o el directorio\n"
     ]
    },
    {
     "ename": "",
     "evalue": "2",
     "output_type": "error",
     "traceback": []
    }
   ],
   "source": [
    "ls ruta/inexistente #ls: no se puede acceder a 'ruta/inexistente': No existe el archivo o el directorio"
   ]
  },
  {
   "cell_type": "markdown",
   "id": "151420ba-8ec3-40c0-819b-1e6f261a250b",
   "metadata": {},
   "source": [
    "-  Ahora, cambia el valor de la variable `LANG` por \"xyz\" (da igual el valor)  y seguidamente muestra su valor con `echo`."
   ]
  },
  {
   "cell_type": "code",
   "execution_count": 32,
   "id": "c31de968-48c9-4eea-9043-e8fb32016766",
   "metadata": {},
   "outputs": [],
   "source": [
    "export LANG=xyz"
   ]
  },
  {
   "cell_type": "code",
   "execution_count": 33,
   "id": "b955b7d6-441f-4592-86d4-707d5d875eb2",
   "metadata": {},
   "outputs": [
    {
     "name": "stdout",
     "output_type": "stream",
     "text": [
      "xyz\n"
     ]
    }
   ],
   "source": [
    "echo $LANG"
   ]
  },
  {
   "cell_type": "markdown",
   "id": "304824c2",
   "metadata": {},
   "source": [
    " - Vuelve a ejecutar el comando `ls` pasándole una ruta inexistente para generar un mensaje de error (coméntalo # de nuevo)."
   ]
  },
  {
   "cell_type": "code",
   "execution_count": 34,
   "id": "2f9e48ce",
   "metadata": {},
   "outputs": [
    {
     "name": "stdout",
     "output_type": "stream",
     "text": [
      "ls: cannot access 'ruta/inexistente': No such file or directory\n"
     ]
    },
    {
     "ename": "",
     "evalue": "2",
     "output_type": "error",
     "traceback": []
    }
   ],
   "source": [
    "ls ruta/inexistente #ls: cannot access 'ruta/inexistente': No such file or directory"
   ]
  },
  {
   "cell_type": "markdown",
   "id": "6451158c-38ca-4525-9957-2275b6216482",
   "metadata": {},
   "source": [
    "-  ¿En qué se diferencia el resultado de ejecutar el comando con un valor u otro de `$LANG`? ¿Cuál es el idioma por defecto del shell cuando $LANG no tiene un valor?\n",
    "\n"
   ]
  },
  {
   "cell_type": "markdown",
   "id": "77c18a53-91b1-4c64-9f0f-9493d5f45a11",
   "metadata": {},
   "source": [
    "Cuando LANG tiene un valor válido, los mensajes del sistema se muestran en el idioma correspondiente. Cuando LANG tiene un valor inválido los mensajes de error se muestran en inglés, ya que el sistema no puede interpretar la configuración regional incorrecta."
   ]
  },
  {
   "cell_type": "markdown",
   "id": "18eaeb06",
   "metadata": {},
   "source": [
    "- Vuelve a establecer el valor de `LANG` a su valor original (\"es_ES.UTF-8\") y seguidamente muestra su valor con `echo` (en una misma línea)."
   ]
  },
  {
   "cell_type": "code",
   "execution_count": 37,
   "id": "6843238f",
   "metadata": {},
   "outputs": [
    {
     "name": "stdout",
     "output_type": "stream",
     "text": [
      "es_ES.UTF-8\n"
     ]
    }
   ],
   "source": [
    "export LANG=\"es_ES.UTF-8\"\n",
    "echo $LANG"
   ]
  },
  {
   "cell_type": "code",
   "execution_count": 39,
   "id": "9f45e0a9-3640-4c69-8ffd-e269406dd52d",
   "metadata": {},
   "outputs": [],
   "source": [
    "#VII.30\n",
    "# Crea un subdirectorio llamado bin en tu directorio de inicio de usuario (si no existe ya)\n",
    "mkdir bin"
   ]
  },
  {
   "cell_type": "code",
   "execution_count": 41,
   "id": "a2e67231-cd7c-493b-8de8-ecdfedda284c",
   "metadata": {},
   "outputs": [],
   "source": [
    "#VII.31\n",
    "# Copia al directorio creado anteriormente el fichero /usr/bin/ls, con el nombre myls\n",
    "cp /usr/bin/ls ~/bin/myls"
   ]
  },
  {
   "cell_type": "code",
   "execution_count": 44,
   "id": "aac39f6c-58ba-42d7-955b-8093c05655a9",
   "metadata": {},
   "outputs": [
    {
     "name": "stdout",
     "output_type": "stream",
     "text": [
      "total 8\n",
      "drwxr-xr-x  2 jupyter-w4INL1efTM jupyter-w4INL1efTM 4096 dic  8 19:18 bin\n",
      "drwxr-xr-x 12 jupyter-w4INL1efTM jupyter-w4INL1efTM 4096 nov 26 11:22 fc-alumno\n"
     ]
    }
   ],
   "source": [
    "#VII.32\n",
    "# Sin cambiarte de directorio, ejecuta mediante una ruta absoluta el programa `myls` con la opción '-l':\n",
    "./bin/myls -l"
   ]
  },
  {
   "cell_type": "code",
   "execution_count": 45,
   "id": "aa3f01d3-c67f-428d-b9d2-83fb7d23815f",
   "metadata": {},
   "outputs": [],
   "source": [
    "#VII.33\n",
    "# Modifica el valor de `PATH` para añadir el subdirectorio \"bin\" creado anteriormente:\n",
    "export PATH=$PATH:/~/bin"
   ]
  },
  {
   "cell_type": "markdown",
   "id": "f982e2e0",
   "metadata": {},
   "source": [
    "Finalmente, prueba a ejecutar `myls` sin necesidad de indicar su ruta exacta."
   ]
  },
  {
   "cell_type": "code",
   "execution_count": 47,
   "id": "24cdea31-6b40-4da3-8d86-4d524c1c5b3a",
   "metadata": {},
   "outputs": [
    {
     "name": "stdout",
     "output_type": "stream",
     "text": [
      "Orden «myls» no encontrada. Quizá quiso decir:\n",
      "  la orden «tyls» del paquete deb «terminology (1.12.1-1)»\n",
      "  la orden «mmls» del paquete deb «sleuthkit (4.11.1+dfsg-1)»\n",
      "  la orden «pyls» del paquete deb «python3-pyls (0.36.2-3)»\n",
      "Pruebe con: apt install <nombre del paquete deb>\n"
     ]
    },
    {
     "ename": "",
     "evalue": "127",
     "output_type": "error",
     "traceback": []
    }
   ],
   "source": [
    "myls -l"
   ]
  },
  {
   "cell_type": "markdown",
   "id": "680d517a",
   "metadata": {},
   "source": [
    "### Variables del shell actual y variables de entorno"
   ]
  },
  {
   "cell_type": "markdown",
   "id": "2002571b",
   "metadata": {},
   "source": [
    "- Muestra el valor de la variable de entorno `USER`"
   ]
  },
  {
   "cell_type": "code",
   "execution_count": 49,
   "id": "5a68a861",
   "metadata": {},
   "outputs": [
    {
     "name": "stdout",
     "output_type": "stream",
     "text": [
      "jupyter-w4INL1efTM\n"
     ]
    }
   ],
   "source": [
    "#VII.35\n",
    "echo $USER"
   ]
  },
  {
   "cell_type": "code",
   "execution_count": 50,
   "id": "35e6c833",
   "metadata": {},
   "outputs": [],
   "source": [
    "#VII.36\n",
    "# Define una nueva variable llamada \"PRUEBA\" con valor \"hola\"\n",
    "export PRUEBA=\"hola\""
   ]
  },
  {
   "cell_type": "code",
   "execution_count": 51,
   "id": "1f6ebcd4",
   "metadata": {},
   "outputs": [
    {
     "name": "stdout",
     "output_type": "stream",
     "text": [
      "hola\n"
     ]
    }
   ],
   "source": [
    "#VII.37\n",
    "# Muestra el valor de la variable PRUEBA en el shell actual\n",
    "echo $PRUEBA"
   ]
  },
  {
   "cell_type": "code",
   "execution_count": 52,
   "id": "26cdfe26",
   "metadata": {},
   "outputs": [],
   "source": [
    "# Ejecuta esta celda para crear un shell script llamado \"variables.sh\"\n",
    "echo '#!/bin/bash' > variables.sh\n",
    "echo 'echo \"**Inicio del script**\"' >> variables.sh\n",
    "echo 'echo \"La variable PRUEBA vale $PRUEBA\"' >> variables.sh\n",
    "echo 'MYVAR=\"hello world!\"' >> variables.sh\n",
    "echo 'echo \"La variable MYVAR vale $MYVAR\"' >> variables.sh\n",
    "echo 'echo \"La variable USER vale $USER\"' >> variables.sh\n",
    "echo 'echo \"La variable ANOTHERVAR vale $ANOTHERVAR \"' >> variables.sh\n",
    "echo 'echo \"**Fin del script**\"' >> variables.sh"
   ]
  },
  {
   "cell_type": "code",
   "execution_count": 53,
   "id": "f997ea2b",
   "metadata": {},
   "outputs": [],
   "source": [
    "#VII.39\n",
    "# Establece permisos de ejecución para el fichero creado\n",
    "chmod +x variables.sh"
   ]
  },
  {
   "cell_type": "code",
   "execution_count": 54,
   "id": "b9661d9e",
   "metadata": {},
   "outputs": [
    {
     "name": "stdout",
     "output_type": "stream",
     "text": [
      "**Inicio del script**\n",
      "La variable PRUEBA vale hola\n",
      "La variable MYVAR vale hello world!\n",
      "La variable USER vale jupyter-w4INL1efTM\n",
      "La variable ANOTHERVAR vale  \n",
      "**Fin del script**\n"
     ]
    }
   ],
   "source": [
    "#VII.40\n",
    "# Ejecuta el script\n",
    "./variables.sh"
   ]
  },
  {
   "cell_type": "markdown",
   "id": "2a227bcb",
   "metadata": {},
   "source": [
    "- ¿Se produce algún error en el shell cuando tratas de mostrar el valor de una variable a la que no has asignado valor previamente (ANOTHERVAR)?\n",
    "\n"
   ]
  },
  {
   "cell_type": "code",
   "execution_count": 55,
   "id": "9e99d333-7dd5-4323-99c5-576b913bcff5",
   "metadata": {},
   "outputs": [
    {
     "name": "stdout",
     "output_type": "stream",
     "text": [
      "\n"
     ]
    }
   ],
   "source": [
    "echo $ANOTHERVAR"
   ]
  },
  {
   "cell_type": "markdown",
   "id": "2e8cedcf-c6ed-4b8d-8d3c-87f3f11dc118",
   "metadata": {},
   "source": [
    "No, ya que al ejecutar el script, la variable ANOTHERVAR tiene valor \" \""
   ]
  },
  {
   "cell_type": "markdown",
   "id": "0065e35b",
   "metadata": {},
   "source": [
    "- ¿Por qué no se imprime el valor de `PRUEBA`?\n",
    "\n"
   ]
  },
  {
   "cell_type": "code",
   "execution_count": 56,
   "id": "2ee01c96-cd96-40a5-baf1-72f9b4f78a11",
   "metadata": {},
   "outputs": [
    {
     "name": "stdout",
     "output_type": "stream",
     "text": [
      "hola\n"
     ]
    }
   ],
   "source": [
    "echo $PRUEBA"
   ]
  },
  {
   "cell_type": "code",
   "execution_count": 57,
   "id": "d6341193",
   "metadata": {},
   "outputs": [
    {
     "name": "stdout",
     "output_type": "stream",
     "text": [
      "\n"
     ]
    }
   ],
   "source": [
    "#VII.41\n",
    "# Imprime el valor de la variable MYVAR en el shell actual\n",
    "echo $MYVAR"
   ]
  },
  {
   "cell_type": "markdown",
   "id": "128626f8",
   "metadata": {},
   "source": [
    "- ¿Por qué no aparece \"hello world\" como valor de \"MYVAR\" en el shell actual, tras ejecutar `variables.sh`?\n",
    "\n"
   ]
  },
  {
   "cell_type": "markdown",
   "id": "831e6e0e",
   "metadata": {},
   "source": [
    "- ¿Qué valor tiene la variable \"USER\" en el proceso creado para ejecutar el script `variables.sh`?\n",
    "\n"
   ]
  },
  {
   "cell_type": "markdown",
   "id": "3c79cf7c-4476-4926-a371-4313252715c0",
   "metadata": {},
   "source": [
    "USER tiene valor jupyter-w4INL1efTM"
   ]
  },
  {
   "cell_type": "markdown",
   "id": "0bbf22c8-18b7-4d90-9781-8c46a8b72021",
   "metadata": {},
   "source": [
    "**FIN DEL CUADERNO** (*no borres esta celda*)\n",
    "\n",
    "@@@@ practica7a-procesos-ejercicios.ipynb @@@@"
   ]
  }
 ],
 "metadata": {
  "kernelspec": {
   "display_name": "Bash",
   "language": "bash",
   "name": "bash"
  },
  "language_info": {
   "codemirror_mode": "shell",
   "file_extension": ".sh",
   "mimetype": "text/x-sh",
   "name": "bash"
  }
 },
 "nbformat": 4,
 "nbformat_minor": 5
}
