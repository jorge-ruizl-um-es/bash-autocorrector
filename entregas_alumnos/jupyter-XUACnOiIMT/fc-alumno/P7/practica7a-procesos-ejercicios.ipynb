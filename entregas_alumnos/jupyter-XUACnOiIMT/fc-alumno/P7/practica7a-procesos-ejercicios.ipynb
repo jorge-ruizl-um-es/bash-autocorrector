{
 "cells": [
  {
   "cell_type": "markdown",
   "id": "8e983960",
   "metadata": {},
   "source": [
    "# Ejercicios - Práctica 7a: Procesos en el *shell* de Linux."
   ]
  },
  {
   "cell_type": "markdown",
   "id": "5f67155f",
   "metadata": {},
   "source": [
    "<br>\n",
    "<font size=\"5\">  \n",
    "    <span style=\"color: red;\"><b>ATENCIÓN:</b><br>Se recomienda realizar los ejercicios propuestos de este boletín en un terminal independiente, ya que la mayoría de ellos <b>no pueden llevarse a cabo en Jupyter</b> debido a que es necesario interactuar con el programa lanzado mediante el teclado durante su ejecución. \n",
    "    </span>\n",
    "    <br><br>\n",
    "    Utiliza el <i>notebook</i> únicamente para responder a las preguntas o introducir el comando requerido en las celdas de código.\n",
    "</font>  \n"
   ]
  },
  {
   "cell_type": "markdown",
   "id": "c61e6f57",
   "metadata": {},
   "source": [
    "### Control de procesos en primer y segundo plano"
   ]
  },
  {
   "cell_type": "markdown",
   "id": "043a0cc4-5e30-43d1-ac07-a2ea82d73652",
   "metadata": {},
   "source": [
    "- Lanza el programa `gnome-text-editor` desde un terminal, y luego pulsa `Ctrl-C` para enviar al proceso una señal de terminación. ¿Puedes terminar su ejecución de esta forma? ¿Por qué? ¿A qué proceso le llega la señal `SIGINT` enviada al pulsar `Ctrl-C`?\n",
    "\n"
   ]
  },
  {
   "cell_type": "markdown",
   "id": "038ef6a8",
   "metadata": {},
   "source": [
    "Vuelve a lanzar el mismo programa, esta vez en segundo plano, y tras hacerlo, pulsa de nuevo `Ctrl-C`. ¿Puedes terminar su ejecución así? ¿Por qué? ¿A qué proceso le llega esta vez la señal `SIGINT`?\n",
    "\n"
   ]
  },
  {
   "cell_type": "code",
   "execution_count": null,
   "id": "d2eea050",
   "metadata": {},
   "outputs": [],
   "source": [
    "# Comando para lanzar gnome-text-editor en segundo plano\n",
    "gnome-text-editor &"
   ]
  },
  {
   "cell_type": "markdown",
   "id": "34002cc0",
   "metadata": {},
   "source": [
    "- ¿Qué comando utilizarías para poder terminar el comando lanzado anteriormente sabiendo su PID?"
   ]
  },
  {
   "cell_type": "code",
   "execution_count": null,
   "id": "91497829",
   "metadata": {},
   "outputs": [],
   "source": [
    "# Comando para terminar la ejecución del proceso lanzado a partir del nombre del programa\n",
    "pkill -f "
   ]
  },
  {
   "cell_type": "markdown",
   "id": "71867479-8914-42fb-8ba8-ba12ad70dd14",
   "metadata": {},
   "source": [
    "PREGUNTA: Una vez terminada la ejecución del comando anterior, sin teclear ningún comando, presiona repetidamente `Ctrl-C`. ¿Qué ocurre cada vez que lo haces? ¿Es posible terminar la ejecución del shell de esa forma?\n"
   ]
  },
  {
   "cell_type": "markdown",
   "id": "37aad816-3363-4f07-80c1-26eed85d0adb",
   "metadata": {},
   "source": [
    "RESPUESTA:\n",
    "La primera vez aparece la intrucción como terminada. El resto de veces no ocurre nada porque el proceso ha temrinado ya.\n",
    "\n"
   ]
  },
  {
   "cell_type": "markdown",
   "id": "07b435d3-cc1f-4f5c-b34e-b3e1ef843226",
   "metadata": {},
   "source": [
    "- Lanza los programas `okteta` y `gnome-text-editor` desde el terminal, ambos en primer plano, como una secuencia de comandos consecutivos, en la misma línea de la siguiente celda:"
   ]
  },
  {
   "cell_type": "code",
   "execution_count": 2,
   "id": "8bb9c999-744b-48b8-b30d-2d06cd04baec",
   "metadata": {},
   "outputs": [],
   "source": [
    "# Lanzar okteta y después gnome-text-editor, ambos en primer plano\n",
    "okteta; gnome-text-editor"
   ]
  },
  {
   "cell_type": "markdown",
   "id": "6ebc93a7",
   "metadata": {},
   "source": [
    "PREGUNTA: ¿Qué ha de ocurrir para que comience a ejecutarse el editor `gnome-text-editor`? ¿Cuándo se completa la ejecución de la celda del notebook?"
   ]
  },
  {
   "cell_type": "markdown",
   "id": "0a6506e5-d6e3-4ae3-ad20-56f2f3f60ac7",
   "metadata": {},
   "source": [
    "RESPUESTA:\n",
    "Para que se ejecute, primero tiene que terminar de ejecutarse okteta, ya que hasta que no acaba el shell no lanza el siguiente."
   ]
  },
  {
   "cell_type": "markdown",
   "id": "6f7a601c-0136-4e19-b8f5-ee8b05a7ce0c",
   "metadata": {},
   "source": [
    "- Vuelve a lanzar los dos programas en una misma línea de comandos, pero esta vez en segundo plano."
   ]
  },
  {
   "cell_type": "code",
   "execution_count": 5,
   "id": "552cf1f7-6670-413d-ae47-9d5fc1ba9a25",
   "metadata": {},
   "outputs": [],
   "source": [
    "# Lanzar okteta y después gnome-text-editor, ambos en segundo plano\n",
    "okteta & gnome-text-editor &"
   ]
  },
  {
   "cell_type": "markdown",
   "id": "b4948205-22c4-44fb-9532-47b40855f089",
   "metadata": {},
   "source": [
    "- Escribe el comando adecuado para pasar a primer plano el último proceso que se lanzó (el editor `gnome-text-editor`).\n",
    "\n",
    "RESPUESTA:\n",
    "fg gnome-text-editor\n"
   ]
  },
  {
   "cell_type": "markdown",
   "id": "f4576b30",
   "metadata": {},
   "source": [
    "PREGUNTA: Desde el terminal, termina el proceso que acabas de pasar a primer plano. ¿Qué teclas o comando has utilizado?\n",
    "\n",
    "RESPUESTA: Ctrl-C\n",
    "\n"
   ]
  },
  {
   "cell_type": "markdown",
   "id": "2a2a49f9-1684-4f43-b518-f646fa9af5b2",
   "metadata": {},
   "source": [
    "PREGUNTA: Repite el comando `fg` para hacer lo propio con el comando anterior (`okteta`), pero esta vez, en lugar de terminarlo, páralo. ¿Qué teclas o comando has utilizado?\n",
    "\n",
    "RESPUESTA:\n",
    "Ctrl-Z\n"
   ]
  },
  {
   "cell_type": "markdown",
   "id": "0f4215bc",
   "metadata": {},
   "source": [
    "PREGUNTA: Trata de interactuar con el proceso `okteta`, ¿por que no responde al ratón ni al teclado?\n",
    "\n",
    "RESPUESTA: Porque está detenido\n",
    "\n"
   ]
  },
  {
   "cell_type": "markdown",
   "id": "e509880d",
   "metadata": {},
   "source": [
    "PREGUNTA: Vuelve a despertar el proceso `okteta` pero esta vez en segundo plano. ¿Qué comando has de utilizar?\n",
    "\n",
    "RESPUESTA: bg okteta\n",
    "\n"
   ]
  },
  {
   "cell_type": "markdown",
   "id": "c582f37f",
   "metadata": {},
   "source": [
    "- Usa la orden adecuada para listar los procesos lanzados desde el terminal donde estás ejecutando los comandos anteriores."
   ]
  },
  {
   "cell_type": "code",
   "execution_count": 2,
   "id": "c989208a",
   "metadata": {},
   "outputs": [],
   "source": [
    "# Comando para monitorizar los procesos activos lanzados en este terminal\n",
    "ps"
   ]
  },
  {
   "cell_type": "markdown",
   "id": "559c6d51-fb7e-4aa8-8bbc-a7066eadf691",
   "metadata": {},
   "source": [
    "```\n",
    "    PID TTY          TIME CMD\n",
    "  19422 pts/5    00:00:00 bash\n",
    "  27254 pts/5    00:00:01 okteta\n",
    "  28051 pts/5    00:00:00 ps\n",
    "```"
   ]
  },
  {
   "cell_type": "markdown",
   "id": "80a20a8a-14a2-4f48-8517-f464f2a6122b",
   "metadata": {},
   "source": [
    "- Finalmente, termina el proceso `okteta` desde el terminal esta vez usando el PID (identificador del proceso) que nos indicó el terminal al lanzar el proceso inicialmente."
   ]
  },
  {
   "cell_type": "code",
   "execution_count": null,
   "id": "9f86707c",
   "metadata": {},
   "outputs": [],
   "source": [
    "# Comando para terminar el proceso lanzado en segundo plano\n",
    "kill PID"
   ]
  },
  {
   "cell_type": "markdown",
   "id": "e7cee5ac-bcec-4e17-baf4-c53759766a8a",
   "metadata": {},
   "source": [
    "PREGUNTA: Lanza de nuevo los programas `okteta` y `gnome-text-editor`, en dicho orden, pero esta vez únicamente con `okteta` en segundo plano. ¿Qué ocurre si ahora pulsas `Ctrl-C` en el terminal?\n",
    "\n",
    "RESPUESTA: Termina gnome-text-editor, porque Ctrl-C solo termina los programas en segundo plano.\n",
    "\n"
   ]
  },
  {
   "cell_type": "markdown",
   "id": "00c51ed8",
   "metadata": {},
   "source": [
    "- Usando el comando adecuado, averigua el PID del proceso que está ejecutando `okteta` a partir de su nombre."
   ]
  },
  {
   "cell_type": "code",
   "execution_count": null,
   "id": "9f9f5985",
   "metadata": {},
   "outputs": [],
   "source": [
    "# Comando para averiguar el PID del un proceso por el nombre del comando ejecutado\n",
    "pgrep -a okteta"
   ]
  },
  {
   "cell_type": "markdown",
   "id": "4a8907ca-3ed5-4e68-8b42-1372181296e8",
   "metadata": {},
   "source": [
    "- Termina el programa `okteta` sin necesidad de introducir su PID"
   ]
  },
  {
   "cell_type": "code",
   "execution_count": null,
   "id": "57ccec94-bb9e-4744-a562-6ee857476af2",
   "metadata": {},
   "outputs": [],
   "source": [
    "pkill okteta"
   ]
  },
  {
   "cell_type": "markdown",
   "id": "f715191f-fce5-40c7-a9f0-049d7de99b3b",
   "metadata": {},
   "source": [
    "PREGUNTA: Descarga el programa ejecutable `uninterruptible`, el cual tienes disponible a través del AV, y cámbiale los permisos para poder ejecutarlo. Ejecútalo en primer plano y prueba a terminar su ejecución con `CTRL-C`. ¿Puedes? Explica qué semejanzas crees que tiene este programa con el programa *shell* en cuanto al tratamiento de la señal `SIGINT`.\n",
    "\n",
    "RESPUESTA:\n",
    "No se puede, porque al igual que \"shell\", este programado para ignorar la señal \"SIGINT\".\n"
   ]
  },
  {
   "cell_type": "markdown",
   "id": "3a223cf7-f83c-4a9b-8ea4-2002b8f5ea08",
   "metadata": {},
   "source": [
    "PREGUNTA: Detén la ejecución del programa lanzado anteriormente, sin terminarlo. Después lista los procesos lanzados en el terminal, ¿cuánto tiempo ha usado la CPU el programa `uninterruptible` antes de ser detenido? Si vuelves a listar los procesos, ¿ha variado el tiempo de CPU?\n",
    "\n",
    "RESPUESTA:\n",
    "Lo ha usado 14 segundos. Al volver a listar los procesos no ha variado el tiempo.\n"
   ]
  },
  {
   "cell_type": "markdown",
   "id": "2959ee8e-3cd7-4eec-8478-0cfe7dc0ef4d",
   "metadata": {},
   "source": [
    "PREGUNTA: Reanuda en segundo plano la ejecución del programa detenido anteriormente, y usa el comando adecuado para observar periódicamente el tiempo de CPU que lleva consumido. ¿Qué porcentaje de la CPU usa cuando está en ejecución? ¿En qué medida crece el tiempo de uso de la CPU con respecto al tiempo \"del reloj de pared\" (medido por una persona)?\n",
    "\n",
    "RESPUESTA:\n",
    "Usa aproximadamente el 100% de la CPU. Crece aproximadamente cada 2 segundos.\n",
    "\n"
   ]
  },
  {
   "cell_type": "markdown",
   "id": "12e5101a-68ef-42e0-a9c2-e5a82f5261d5",
   "metadata": {},
   "source": [
    "PREGUNTA: Termina el programa `uninterruptible`, ya sea por su nombre o PID, enviando la señal `SIGTERM`. ¿Puedes terminar el proceso? Indica el comando que has utilizado.\n",
    "\n",
    "RESPUESTA: Si se puede terminar, con el comadno 'pkill uninterruptible'. Al intentar detenerlo, la terminal nos indica que el programa se terminará voluntariamente.\n"
   ]
  },
  {
   "cell_type": "markdown",
   "id": "50a497c3",
   "metadata": {},
   "source": [
    "PREGUNTA: A la vista de la salida del programa `uninterruptible` terminado en el paso anterior, ¿crees que el programa termina súbitamente al recibir la señal, o lo hace por sus propios medios?\n",
    "\n",
    "RESPUESTA: Lo hace por sus propios medios.\n",
    "\n"
   ]
  },
  {
   "cell_type": "markdown",
   "id": "5cbaf5da-0fb9-4a71-abef-dfd0b6283cb4",
   "metadata": {},
   "source": [
    "PREGUNTA: Descarga el programa `stubborn` del AV y cámbiale los permisos para poder ejecutarlo. Después, ejecútalo en primer plano y prueba a terminar su ejecución con `CTRL-C`. ¿Qué ocurre? De nuevo, observa los procesos en ejecución con el comando adecuado, ¿cuál es su uso de CPU?\n",
    "\n",
    "RESPUESTA: No se puede terminar con CTRL-C, porque ignora  la señal Sigterm. \n",
    "\n"
   ]
  },
  {
   "cell_type": "markdown",
   "id": "8e8df847-5afc-4622-b5f9-3955cabf9832",
   "metadata": {},
   "source": [
    "PREGUNTA: Detén la ejecución del programa lanzado anteriormente, sin terminarlo, y luego reanuda en segundo plano su ejecución. Después, trata de terminar el programa `stubborn`, ya sea por su nombre o PID, enviando la señal `SIGTERM` al igual que has hecho anteriormente. ¿Puedes terminar el proceso de esta forma?\n",
    "\n",
    "RESPUESTA:\n",
    "No se puede, sigue ignorando la señal Sigterm.\n"
   ]
  },
  {
   "cell_type": "markdown",
   "id": "3d3e8e0e",
   "metadata": {},
   "source": [
    "PREGUNTA: A la vista de lo anterior, ¿de qué forma podemos terminar el proceso `stubborn`? Indica el comando.\n",
    "\n",
    "RESPUESTA: pkill -9 stubborn\n",
    "\n",
    "La única forma de acabar con el proceso es \"matarlo\" con `pkill -9 stubborn`, lo cual hace que se le envíe la señal `SIGKILL`, que ningún proceso puede ignorar. Al hacerlo, vemos este mensaje: \n",
    "```\n",
    "[1]+  Terminado (killed)      ./stubborn\n",
    "```\n"
   ]
  },
  {
   "cell_type": "markdown",
   "id": "b33cb824",
   "metadata": {},
   "source": [
    "### Listado y monitorización de procesos"
   ]
  },
  {
   "cell_type": "markdown",
   "id": "d9456ca4",
   "metadata": {},
   "source": [
    "- Usa el comando adecuado para mostrar **todos** los procesos que se están ejecutando actualmente en el sistema."
   ]
  },
  {
   "cell_type": "code",
   "execution_count": null,
   "id": "dcbfdbf2",
   "metadata": {},
   "outputs": [],
   "source": [
    "top"
   ]
  },
  {
   "cell_type": "markdown",
   "id": "4f9ed984",
   "metadata": {},
   "source": [
    "- Localiza tres procesos cuyo propietario sea nuestro usuario, y otros tres cuyo propietario sea el superusuario (root). Pega la línea completa mostrada para cada proceso.\n",
    "\n",
    "RESPUESTA:\n",
    "1 root      20   0  101620  12264   8236 S   0,0   0,2   0:01.16 systemd \n",
    "2 root      20   0       0      0      0 S   0,0   0,0   0:00.00 kthreadd        3 root       0 -20       0      0      0 I   0,0   0,0   0:00.00 rcu_gp\n",
    "\n",
    "2813 alumno    20   0   32,5g 239768 176276 S   0,7   4,0   0:31.21 chrome       \n",
    "2859 alumno    20   0   32,3g 102428  87012 S   0,7   1,7   0:05.97 chrome       3371 alumno    20   0   22016   4360   3464 R   0,7   0,1   0:00.63 top  \n",
    "\n"
   ]
  },
  {
   "cell_type": "markdown",
   "id": "50897f10",
   "metadata": {},
   "source": [
    "- Localiza el proceso que ha consumido más tiempo de CPU. Pega la línea completa mostrada.\n",
    "\n",
    "RESPUESTA:\n",
    "2252 alumno    20   0 3727992 337596 157456 S   5,3   5,6   1:24.94 gnome-shell  \n"
   ]
  },
  {
   "cell_type": "markdown",
   "id": "52e16c59",
   "metadata": {},
   "source": [
    "- Localiza también el último que se lanzó, mirando las horas de inicio. Pega la línea completa mostrada.\n",
    "\n",
    "RESPUESTA:\n",
    "alumno      3415    3165  0 19:33 pts/0    00:00:00 ps -Af\n",
    "\n",
    "\n"
   ]
  },
  {
   "cell_type": "markdown",
   "id": "78d785a5",
   "metadata": {},
   "source": [
    "- Lanza desde la interfaz de usuario el navegador firefox, y navega hasta la página `www.google.es`, mientras observas mediante `top` la evolución dinámica del consumo de memoria y CPU de los procesos involucrados.  Puedes dividir la pantalla entre ambas ventanas, terminal y navegador, para observar la salida de top mientras navegas. Luego, prueba a navegar a la página `www.youtube.com`. ¿En cuál de las dos páginas se hace más uso de la CPU?\n",
    "\n",
    "RESPUESTA:\n",
    "Al iniciar Youtube, utiliza más % de CPU\n"
   ]
  },
  {
   "cell_type": "markdown",
   "id": "03a93d11",
   "metadata": {},
   "source": [
    "### Redireccionamiento de la entrada/salida de un proceso"
   ]
  },
  {
   "cell_type": "code",
   "execution_count": 13,
   "id": "6f653699-36c2-4afe-bd95-86ba70e97dd5",
   "metadata": {},
   "outputs": [
    {
     "name": "stdout",
     "output_type": "stream",
     "text": [
      "/usr/bin/ld  /usr/bin/ln  /usr/bin/ls\n"
     ]
    }
   ],
   "source": [
    "# Lista todos los ficheros en `/usr/bin/` cuyo nombre empiece por 'l'\n",
    "# y tenga exactamente dos caracteres\n",
    "ls /usr/bin/l?"
   ]
  },
  {
   "cell_type": "code",
   "execution_count": 11,
   "id": "703757b1-f7ea-451e-9683-a4613d702c3c",
   "metadata": {},
   "outputs": [],
   "source": [
    "# Repite el comando anterior, redireccionando la salida a un fichero llamado progs-l.txt\n",
    "ls /usr/bin/l? > progs-l.txt"
   ]
  },
  {
   "cell_type": "code",
   "execution_count": 12,
   "id": "9c8b8a14-e560-4fa0-8824-3fc172cd2b1e",
   "metadata": {},
   "outputs": [
    {
     "name": "stdout",
     "output_type": "stream",
     "text": [
      "/usr/bin/ld\n",
      "/usr/bin/ln\n",
      "/usr/bin/ls\n"
     ]
    }
   ],
   "source": [
    "# Muestra el contenido del fichero progs-l.txt\n",
    "cat progs-l.txt"
   ]
  },
  {
   "cell_type": "code",
   "execution_count": 14,
   "id": "6ed0e4e5-80f7-40eb-80b8-bcc2be9e5f92",
   "metadata": {},
   "outputs": [],
   "source": [
    "# Añade al final de dicho fichero un mensaje que diga \"FIN DEL LISTADO\", usando `echo` y la redirección\n",
    "echo \"FIN DEL LISTADO\" >> progs-l.txt"
   ]
  },
  {
   "cell_type": "code",
   "execution_count": 15,
   "id": "a0a027d5-64d8-46e9-a0f5-31770ab674c0",
   "metadata": {},
   "outputs": [
    {
     "name": "stdout",
     "output_type": "stream",
     "text": [
      "/usr/bin/ld\n",
      "/usr/bin/ln\n",
      "/usr/bin/ls\n",
      "FIN DEL LISTADO\n"
     ]
    }
   ],
   "source": [
    "# Muestra de nuevo el contenido del fichero\n",
    "cat progs-l.txt"
   ]
  },
  {
   "cell_type": "code",
   "execution_count": null,
   "id": "40297afb-a388-492e-a377-bb69951a011a",
   "metadata": {},
   "outputs": [],
   "source": [
    "# Utilizando el comando ls con la opción adecuada y la redirección de la salida estándar/de error,\n",
    "# averigua sobre qué subdirectorios de /etc no tienes permisos de acceso. PISTA: usa /dev/null\n",
    "# para descartar la salida que no te interese.\n"
   ]
  },
  {
   "cell_type": "code",
   "execution_count": 17,
   "id": "ff133717-ed86-48c9-9f50-b0ba0f50c4e6",
   "metadata": {},
   "outputs": [],
   "source": [
    "# Crea dos directorios, llamados dir1 y dir2\n",
    "mkdir dir1 dir2"
   ]
  },
  {
   "cell_type": "code",
   "execution_count": 41,
   "id": "1d30d81f",
   "metadata": {},
   "outputs": [],
   "source": [
    "touch stubborn"
   ]
  },
  {
   "cell_type": "code",
   "execution_count": 42,
   "id": "a5bd6473",
   "metadata": {},
   "outputs": [],
   "source": [
    "# Copia el fichero stubborn a dir2\n",
    "cp stubborn ~/dir2/"
   ]
  },
  {
   "cell_type": "code",
   "execution_count": 45,
   "id": "32c7c204",
   "metadata": {},
   "outputs": [
    {
     "name": "stdout",
     "output_type": "stream",
     "text": [
      "dir1:\n",
      "\n",
      "dir2:\n",
      "stubborn\n"
     ]
    }
   ],
   "source": [
    "# Listar el contenido de dir1 y dir2 en un mismo comando\n",
    "ls dir1 dir2"
   ]
  },
  {
   "cell_type": "code",
   "execution_count": 46,
   "id": "7a95b75c",
   "metadata": {},
   "outputs": [],
   "source": [
    "# Cambia los permisos a dir2 para que nadie tenga acceso\n",
    "chmod 000 dir2"
   ]
  },
  {
   "cell_type": "code",
   "execution_count": 47,
   "id": "0f4b1d2c-f73b-4a04-804e-4ccd0c406fad",
   "metadata": {},
   "outputs": [
    {
     "name": "stdout",
     "output_type": "stream",
     "text": [
      "dir1:\n",
      "ls: no se puede abrir el directorio 'dir2': Permiso denegado\n"
     ]
    },
    {
     "ename": "",
     "evalue": "2",
     "output_type": "error",
     "traceback": []
    }
   ],
   "source": [
    "# Listar el contenido de dir1 y dir2 en un mismo comando\n",
    "ls dir1 dir2"
   ]
  },
  {
   "cell_type": "code",
   "execution_count": 48,
   "id": "5e379716-ef05-4bcd-a1a9-1f0bcc1d0e54",
   "metadata": {},
   "outputs": [
    {
     "ename": "",
     "evalue": "2",
     "output_type": "error",
     "traceback": []
    }
   ],
   "source": [
    "# Utilizando la redirección de la salida estándar/de error, lista\n",
    "# los directorios dir1 y dir2, de forma que los mensajes de error\n",
    "# vayan al fichero \"errores_ls\" y el resto al fichero \"salida_ls\"\n",
    "ls dir1 dir2 > salida_ls 2> errores_ls"
   ]
  },
  {
   "cell_type": "code",
   "execution_count": 49,
   "id": "16589667",
   "metadata": {},
   "outputs": [
    {
     "name": "stdout",
     "output_type": "stream",
     "text": [
      "ls: no se puede abrir el directorio 'dir2': Permiso denegado\n"
     ]
    }
   ],
   "source": [
    "# Muestra el contenido del fichero errores_ls\n",
    "cat errores_ls"
   ]
  },
  {
   "cell_type": "code",
   "execution_count": 50,
   "id": "261081b3",
   "metadata": {},
   "outputs": [
    {
     "name": "stdout",
     "output_type": "stream",
     "text": [
      "dir1:\n"
     ]
    }
   ],
   "source": [
    "# Muestra el contenido del fichero salida_ls\n",
    "cat salida_ls"
   ]
  },
  {
   "cell_type": "markdown",
   "id": "c1efbfd5",
   "metadata": {},
   "source": [
    "### Variables de entorno. Concepto de PATH"
   ]
  },
  {
   "cell_type": "markdown",
   "id": "72304564-f2f3-4c4e-a666-4a403d74bf79",
   "metadata": {},
   "source": [
    "- La variable de entorno `LANG` define, junto con otras, la configuración regional y el idioma del shell. Empieza mostrando su valor actual con `echo`."
   ]
  },
  {
   "cell_type": "code",
   "execution_count": 52,
   "id": "67952124-9f6c-41ea-be99-6ee6381d51d4",
   "metadata": {},
   "outputs": [
    {
     "name": "stdout",
     "output_type": "stream",
     "text": [
      "es_ES.UTF-8\n"
     ]
    }
   ],
   "source": [
    "echo $LANG"
   ]
  },
  {
   "cell_type": "markdown",
   "id": "c2dff926",
   "metadata": {},
   "source": [
    " - Ejecuta el comando `ls` pasándole una ruta inexistente para generar un mensaje de error (coméntalo tras generarlo)."
   ]
  },
  {
   "cell_type": "code",
   "execution_count": 63,
   "id": "daacce0d",
   "metadata": {},
   "outputs": [
    {
     "name": "stdout",
     "output_type": "stream",
     "text": [
      "ls: no se puede acceder a 'hola/adios': No existe el archivo o el directorio\n"
     ]
    },
    {
     "ename": "",
     "evalue": "2",
     "output_type": "error",
     "traceback": []
    }
   ],
   "source": [
    "ls hola/adios\n",
    "#Como el programa no está ubicado en el PATH, el shell será incapaz de encontrar el programa que queremos ejecutar."
   ]
  },
  {
   "cell_type": "markdown",
   "id": "151420ba-8ec3-40c0-819b-1e6f261a250b",
   "metadata": {},
   "source": [
    "-  Ahora, cambia el valor de la variable `LANG` por \"xyz\" (da igual el valor)  y seguidamente muestra su valor con `echo`."
   ]
  },
  {
   "cell_type": "code",
   "execution_count": 74,
   "id": "c31de968-48c9-4eea-9043-e8fb32016766",
   "metadata": {},
   "outputs": [
    {
     "name": "stdout",
     "output_type": "stream",
     "text": [
      "hola\n"
     ]
    }
   ],
   "source": [
    "LANG=hola\n",
    "echo $LANG"
   ]
  },
  {
   "cell_type": "markdown",
   "id": "304824c2",
   "metadata": {},
   "source": [
    " - Vuelve a ejecutar el comando `ls` pasándole una ruta inexistente para generar un mensaje de error (coméntalo # de nuevo)."
   ]
  },
  {
   "cell_type": "code",
   "execution_count": 69,
   "id": "2f9e48ce",
   "metadata": {},
   "outputs": [
    {
     "name": "stdout",
     "output_type": "stream",
     "text": [
      "ls: no se puede acceder a 'hola/adios': No existe el archivo o el directorio\n"
     ]
    },
    {
     "ename": "",
     "evalue": "2",
     "output_type": "error",
     "traceback": []
    }
   ],
   "source": [
    "ls hola/adios\n",
    "#Como el programa no está ubicado en el PATH, el shell será incapaz de encontrar el programa que queremos ejecutar."
   ]
  },
  {
   "cell_type": "markdown",
   "id": "6451158c-38ca-4525-9957-2275b6216482",
   "metadata": {},
   "source": [
    "PREGUNTA:  ¿En qué se diferencia el resultado de ejecutar el comando con un valor u otro de `$LANG`? ¿Cuál es el idioma por defecto del shell cuando $LANG no tiene un valor?\n",
    "\n",
    "RESPUESTA: \n",
    "Sin asociarle un valor, la variable LANG nos indica el idioma y la región, de la otra forma, nos devuelve el valor aociado. \n",
    "El idioma por defecto es español.\n",
    "\n"
   ]
  },
  {
   "cell_type": "markdown",
   "id": "18eaeb06",
   "metadata": {},
   "source": [
    "- Vuelve a establecer el valor de `LANG` a su valor original (\"es_ES.UTF-8\") y seguidamente muestra su valor con `echo` (en una misma línea)."
   ]
  },
  {
   "cell_type": "code",
   "execution_count": 78,
   "id": "6843238f",
   "metadata": {},
   "outputs": [
    {
     "name": "stdout",
     "output_type": "stream",
     "text": [
      "LANG=es_ES.UTF-8\n"
     ]
    }
   ],
   "source": [
    "echo LANG=es_ES.UTF-8"
   ]
  },
  {
   "cell_type": "code",
   "execution_count": 81,
   "id": "9f45e0a9-3640-4c69-8ffd-e269406dd52d",
   "metadata": {},
   "outputs": [],
   "source": [
    "# Crea un subdirectorio llamado bin en tu directorio de inicio de usuario (si no existe ya)\n",
    "mkdir bin"
   ]
  },
  {
   "cell_type": "code",
   "execution_count": 82,
   "id": "a2e67231-cd7c-493b-8de8-ecdfedda284c",
   "metadata": {},
   "outputs": [],
   "source": [
    "# Copia al directorio creado anteriormente el fichero /usr/bin/ls, con el nombre myls\n",
    "cp /usr/bin/ls bin/myls"
   ]
  },
  {
   "cell_type": "code",
   "execution_count": 84,
   "id": "aac39f6c-58ba-42d7-955b-8093c05655a9",
   "metadata": {},
   "outputs": [
    {
     "name": "stdout",
     "output_type": "stream",
     "text": [
      "total 352\n",
      "-rw-r--r--  1 jupyter-HWrg11DIei jupyter-HWrg11DIei      0 nov 28 12:50 adios.txt\n",
      "drwxr-xr-x  8 jupyter-HWrg11DIei jupyter-HWrg11DIei   4096 nov 17 12:49 bash-búsquedas\n",
      "drwxr-xr-x  6 jupyter-HWrg11DIei jupyter-HWrg11DIei   4096 nov 24 13:52 bash-compresión\n",
      "drwxr-xr-x  4 jupyter-HWrg11DIei jupyter-HWrg11DIei   4096 nov 17 13:18 bash-du\n",
      "drwxr-xr-x  2 jupyter-HWrg11DIei jupyter-HWrg11DIei   4096 dic  2 21:34 bin\n",
      "-rwxr-xr-x  1 jupyter-HWrg11DIei jupyter-HWrg11DIei 141832 nov 28 12:50 copiar\n",
      "drwxr-xr-x  2 jupyter-HWrg11DIei jupyter-HWrg11DIei   4096 dic  2 20:41 dir1\n",
      "d---------  2 jupyter-HWrg11DIei jupyter-HWrg11DIei   4096 dic  2 20:56 dir2\n",
      "-rw-r--r--  1 jupyter-HWrg11DIei jupyter-HWrg11DIei     95 nov 28 13:28 errores_cp\n",
      "-rw-r--r--  1 jupyter-HWrg11DIei jupyter-HWrg11DIei     61 dic  2 21:00 errores_ls\n",
      "drwxr-xr-x 13 jupyter-HWrg11DIei jupyter-HWrg11DIei   4096 nov 24 17:18 fc-alumno\n",
      "drwxrwxr-x  4 jupyter-HWrg11DIei jupyter-HWrg11DIei   4096 sep  7  2023 ficheros_ejemplo\n",
      "-rw-r--r--  1 jupyter-HWrg11DIei jupyter-HWrg11DIei    103 nov 28 13:16 frutas\n",
      "-rw-r--r--  1 jupyter-HWrg11DIei jupyter-HWrg11DIei      0 nov 28 12:50 hola.txt\n",
      "drwxr-xr-x  3 jupyter-HWrg11DIei jupyter-HWrg11DIei   4096 sep 22 23:35 hooks\n",
      "-rwxr-xr-x  1 jupyter-HWrg11DIei jupyter-HWrg11DIei 138216 nov 28 13:28 listar\n",
      "drwxr-xr-x  9 jupyter-HWrg11DIei jupyter-HWrg11DIei   4096 nov 28 12:56 nano\n",
      "drwxr-xr-x  3 jupyter-HWrg11DIei jupyter-HWrg11DIei   4096 nov 17 13:27 p4b-ejercicios\n",
      "-rw-r--r--  1 jupyter-HWrg11DIei jupyter-HWrg11DIei     52 dic  2 20:40 progs-l.txt\n",
      "drwxr-xr-x  4 jupyter-HWrg11DIei jupyter-HWrg11DIei   4096 nov 17 01:22 pruebas-bash\n",
      "-rw-r--r--  1 jupyter-HWrg11DIei jupyter-HWrg11DIei   5332 nov 28 13:28 README\n",
      "-rw-r--r--  1 jupyter-HWrg11DIei jupyter-HWrg11DIei      6 dic  2 21:00 salida_ls\n",
      "-rw-r--r--  1 jupyter-HWrg11DIei jupyter-HWrg11DIei      0 dic  2 20:56 stubborn\n"
     ]
    }
   ],
   "source": [
    "# Sin cambiarte de directorio, ejecuta mediante una ruta absoluta el programa `myls` con la opción '-l':\n",
    "bin/myls -l"
   ]
  },
  {
   "cell_type": "code",
   "execution_count": 111,
   "id": "aa3f01d3-c67f-428d-b9d2-83fb7d23815f",
   "metadata": {},
   "outputs": [],
   "source": [
    "# Modifica el valor de `PATH` para añadir el subdirectorio \"bin\" creado anteriormente:\n",
    "PATH=/opt/tljh/user/bin:/opt/tljh/hub/bin:/usr/local/bin:/usr/sbin:/usr/bin:/sbin:/bin:/usr/bin/myls"
   ]
  },
  {
   "cell_type": "markdown",
   "id": "f982e2e0",
   "metadata": {},
   "source": [
    "Finalmente, prueba a ejecutar `myls` sin necesidad de indicar su ruta exacta."
   ]
  },
  {
   "cell_type": "code",
   "execution_count": 112,
   "id": "24cdea31-6b40-4da3-8d86-4d524c1c5b3a",
   "metadata": {},
   "outputs": [
    {
     "name": "stdout",
     "output_type": "stream",
     "text": [
      "bash: ./myls: No existe el archivo o el directorio\n"
     ]
    },
    {
     "ename": "",
     "evalue": "127",
     "output_type": "error",
     "traceback": []
    }
   ],
   "source": [
    "./myls"
   ]
  },
  {
   "cell_type": "markdown",
   "id": "680d517a",
   "metadata": {},
   "source": [
    "### Variables del shell actual y variables de entorno"
   ]
  },
  {
   "cell_type": "markdown",
   "id": "2002571b",
   "metadata": {},
   "source": [
    "- Muestra el valor de la variable de entorno `USER`"
   ]
  },
  {
   "cell_type": "code",
   "execution_count": 102,
   "id": "5a68a861",
   "metadata": {},
   "outputs": [
    {
     "name": "stdout",
     "output_type": "stream",
     "text": [
      "jupyter-HWrg11DIei\n"
     ]
    }
   ],
   "source": [
    "echo $USER"
   ]
  },
  {
   "cell_type": "code",
   "execution_count": 103,
   "id": "35e6c833",
   "metadata": {},
   "outputs": [],
   "source": [
    "# Define una nueva variable llamada \"PRUEBA\" con valor \"hola\"\n",
    "PRUEBA=\"hola\""
   ]
  },
  {
   "cell_type": "code",
   "execution_count": 104,
   "id": "1f6ebcd4",
   "metadata": {},
   "outputs": [
    {
     "name": "stdout",
     "output_type": "stream",
     "text": [
      "hola\n"
     ]
    }
   ],
   "source": [
    "# Muestra el valor de la variable PRUEBA en el shell actual\n",
    "echo $PRUEBA"
   ]
  },
  {
   "cell_type": "code",
   "execution_count": 105,
   "id": "26cdfe26",
   "metadata": {},
   "outputs": [],
   "source": [
    "# Ejecuta esta celda para crear un shell script llamado \"variables.sh\"\n",
    "echo '#!/bin/bash' > variables.sh\n",
    "echo 'echo \"**Inicio del script**\"' >> variables.sh\n",
    "echo 'echo \"La variable PRUEBA vale $PRUEBA\"' >> variables.sh\n",
    "echo 'MYVAR=\"hello world!\"' >> variables.sh\n",
    "echo 'echo \"La variable MYVAR vale $MYVAR\"' >> variables.sh\n",
    "echo 'echo \"La variable USER vale $USER\"' >> variables.sh\n",
    "echo 'echo \"La variable ANOTHERVAR vale $ANOTHERVAR \"' >> variables.sh\n",
    "echo 'echo \"**Fin del script**\"' >> variables.sh"
   ]
  },
  {
   "cell_type": "code",
   "execution_count": 106,
   "id": "3a052d3f",
   "metadata": {},
   "outputs": [
    {
     "name": "stdout",
     "output_type": "stream",
     "text": [
      "#!/bin/bash\n",
      "echo \"**Inicio del script**\"\n",
      "echo \"La variable PRUEBA vale $PRUEBA\"\n",
      "MYVAR=\"hello world!\"\n",
      "echo \"La variable MYVAR vale $MYVAR\"\n",
      "echo \"La variable USER vale $USER\"\n",
      "echo \"La variable ANOTHERVAR vale $ANOTHERVAR \"\n",
      "echo \"**Fin del script**\"\n"
     ]
    }
   ],
   "source": [
    "# Muestra el contenido del script \"variables.sh\"\n",
    "cat variables.sh"
   ]
  },
  {
   "cell_type": "code",
   "execution_count": 107,
   "id": "f997ea2b",
   "metadata": {},
   "outputs": [],
   "source": [
    "# Establece permisos de ejecución para el fichero creado\n",
    "chmod +x variables.sh"
   ]
  },
  {
   "cell_type": "code",
   "execution_count": 109,
   "id": "b9661d9e",
   "metadata": {},
   "outputs": [
    {
     "name": "stdout",
     "output_type": "stream",
     "text": [
      "**Inicio del script**\n",
      "La variable PRUEBA vale \n",
      "La variable MYVAR vale hello world!\n",
      "La variable USER vale jupyter-HWrg11DIei\n",
      "La variable ANOTHERVAR vale  \n",
      "**Fin del script**\n"
     ]
    }
   ],
   "source": [
    "# Ejecuta el script \"variables.sh\"\n",
    "./variables.sh"
   ]
  },
  {
   "cell_type": "markdown",
   "id": "2a227bcb",
   "metadata": {},
   "source": [
    "PREGUNTA: ¿Se produce algún error en el shell cuando tratas de mostrar el valor de una variable a la que no has asignado valor previamente (ANOTHERVAR)?\n",
    "\n",
    "RESPUESTA:\n",
    "No se produce ningún error.\n"
   ]
  },
  {
   "cell_type": "markdown",
   "id": "0065e35b",
   "metadata": {},
   "source": [
    "PREGUNTA: ¿Por qué no se imprime el valor de `PRUEBA`?\n",
    "\n",
    "RESPUESTA: \n",
    "Porque la variable está definida fuera del script, por lo que no es visible para el shell del script\n"
   ]
  },
  {
   "cell_type": "code",
   "execution_count": 116,
   "id": "d6341193",
   "metadata": {},
   "outputs": [
    {
     "name": "stdout",
     "output_type": "stream",
     "text": [
      "\n"
     ]
    }
   ],
   "source": [
    "# Imprime el valor de la variable MYVAR en el shell actual\n",
    "echo $MYVAR"
   ]
  },
  {
   "cell_type": "markdown",
   "id": "128626f8",
   "metadata": {},
   "source": [
    "PREGUNTA: ¿Por qué no aparece \"hello world\" como valor de \"MYVAR\" en el shell actual, tras ejecutar `variables.sh`?\n",
    "\n",
    "RESPUESTA:\n",
    "Porque está definida en el shell del script, por lo que no es visible para el subshell acutal.\n",
    "\n"
   ]
  },
  {
   "cell_type": "markdown",
   "id": "831e6e0e",
   "metadata": {},
   "source": [
    "PREGUNTA: ¿Qué valor tiene la variable \"USER\" en el proceso creado para ejecutar el script `variables.sh`?\n",
    "\n",
    "RESPUESTA:\n",
    "La variable USER vale jupyter-HWrg11DIei"
   ]
  },
  {
   "cell_type": "markdown",
   "id": "0bbf22c8-18b7-4d90-9781-8c46a8b72021",
   "metadata": {},
   "source": [
    "**FIN DEL CUADERNO** (*no borres esta celda*)\n",
    "\n",
    "@@@@ practica7a-procesos-ejercicios.ipynb @@@@"
   ]
  }
 ],
 "metadata": {
  "kernelspec": {
   "display_name": "Bash",
   "language": "bash",
   "name": "bash"
  },
  "language_info": {
   "codemirror_mode": "shell",
   "file_extension": ".sh",
   "mimetype": "text/x-sh",
   "name": "bash"
  }
 },
 "nbformat": 4,
 "nbformat_minor": 5
}
