{
 "cells": [
  {
   "cell_type": "markdown",
   "id": "8e983960",
   "metadata": {},
   "source": [
    "# Ejercicios - Práctica 7a: Procesos en el *shell* de Linux."
   ]
  },
  {
   "cell_type": "markdown",
   "id": "5f67155f",
   "metadata": {},
   "source": [
    "<br>\n",
    "<font size=\"5\">  \n",
    "    <span style=\"color: red;\"><b>ATENCIÓN:</b><br>Se recomienda realizar los ejercicios propuestos de este boletín en un terminal independiente, ya que la mayoría de ellos <b>no pueden llevarse a cabo en Jupyter</b> debido a que es necesario interactuar con el programa lanzado mediante el teclado durante su ejecución. \n",
    "    </span>\n",
    "    <br><br>\n",
    "    Utiliza el <i>notebook</i> únicamente para responder a las preguntas o introducir el comando requerido en las celdas de código.\n",
    "</font>  \n"
   ]
  },
  {
   "cell_type": "markdown",
   "id": "c61e6f57",
   "metadata": {},
   "source": [
    "### Control de procesos en primer y segundo plano"
   ]
  },
  {
   "cell_type": "markdown",
   "id": "043a0cc4-5e30-43d1-ac07-a2ea82d73652",
   "metadata": {},
   "source": [
    "- Lanza el programa `gnome-text-editor` desde un terminal, y luego pulsa `Ctrl-C` para enviar al proceso una señal de terminación. ¿Puedes terminar su ejecución de esta forma? ¿Por qué? ¿A qué proceso le llega la señal `SIGINT` enviada al pulsar `Ctrl-C`?\n",
    "\n",
    "RESPUESTA (razonada): Sí, porque por defecto el shell lanza los procesos en primer plano. Al proceso gnome-text-editor lanzado. @solution@"
   ]
  },
  {
   "cell_type": "markdown",
   "id": "038ef6a8",
   "metadata": {},
   "source": [
    "Vuelve a lanzar el mismo programa, esta vez en segundo plano, y tras hacerlo, pulsa de nuevo `Ctrl-C`. ¿Puedes terminar su ejecución así? ¿Por qué? ¿A qué proceso le llega esta vez la señal `SIGINT`?\n",
    "\n",
    "RESPUESTA (razonada): No, porque al lanzar gnome-text-editor en segundo plano, la señal de interrupción no le llega a dicho proceso sino a propio shell, que se está ejecutando en primer plano para atender nuestros comandos. @solution@"
   ]
  },
  {
   "cell_type": "code",
   "execution_count": null,
   "id": "d2eea050",
   "metadata": {},
   "outputs": [],
   "source": [
    "# Comando para lanzar gnome-text-editor en segundo plano\n",
    "gnome-text-editor &                             #@solution@"
   ]
  },
  {
   "cell_type": "markdown",
   "id": "34002cc0",
   "metadata": {},
   "source": [
    "- ¿Qué comando utilizarías para poder terminar el comando lanzado anteriormente sabiendo su PID?"
   ]
  },
  {
   "cell_type": "code",
   "execution_count": null,
   "id": "91497829",
   "metadata": {},
   "outputs": [],
   "source": [
    "# Comando para terminar la ejecución del proceso lanzado a partir del nombre del programa\n",
    "kill 89736                        #@solution@"
   ]
  },
  {
   "cell_type": "markdown",
   "id": "71867479-8914-42fb-8ba8-ba12ad70dd14",
   "metadata": {},
   "source": [
    "PREGUNTA: Una vez terminada la ejecución del comando anterior, sin teclear ningún comando, presiona repetidamente `Ctrl-C`. ¿Qué ocurre cada vez que lo haces? ¿Es posible terminar la ejecución del shell de esa forma?\n"
   ]
  },
  {
   "cell_type": "markdown",
   "id": "37aad816-3363-4f07-80c1-26eed85d0adb",
   "metadata": {},
   "source": [
    "RESPUESTA:\n",
    "\n",
    "El shell ignora la señal SIGINT y cada vez que la recibe, simplemente vuelve a mostrar el prompt. No es posible terminar el shell así, sino que la forma habitual de hacerlo es con el comando `exit`. @solution@"
   ]
  },
  {
   "cell_type": "markdown",
   "id": "07b435d3-cc1f-4f5c-b34e-b3e1ef843226",
   "metadata": {},
   "source": [
    "- Lanza los programas `okteta` y `gnome-text-editor` desde el terminal, ambos en primer plano, como una secuencia de comandos consecutivos, en la misma línea de la siguiente celda:"
   ]
  },
  {
   "cell_type": "code",
   "execution_count": null,
   "id": "8bb9c999-744b-48b8-b30d-2d06cd04baec",
   "metadata": {},
   "outputs": [],
   "source": [
    "# Lanzar okteta y después gnome-text-editor, ambos en primer plano\n",
    "okteta; gnome-text-editor;                  #@solution@"
   ]
  },
  {
   "cell_type": "markdown",
   "id": "6ebc93a7",
   "metadata": {},
   "source": [
    "PREGUNTA: ¿Qué ha de ocurrir para que comience a ejecutarse el editor `gnome-text-editor`? ¿Cuándo se completa la ejecución de la celda del notebook?"
   ]
  },
  {
   "cell_type": "markdown",
   "id": "0a6506e5-d6e3-4ae3-ad20-56f2f3f60ac7",
   "metadata": {},
   "source": [
    "RESPUESTA:\n",
    "\n",
    "Hasta que no cerramos la ventana de okteta no se lanza gnome-text-editor. La celda del notebook se queda en ejecución hasta que no cerramos gnome-text-editor. @solution@\n"
   ]
  },
  {
   "cell_type": "markdown",
   "id": "6f7a601c-0136-4e19-b8f5-ee8b05a7ce0c",
   "metadata": {},
   "source": [
    "- Vuelve a lanzar los dos programas en una misma línea de comandos, pero esta vez en segundo plano."
   ]
  },
  {
   "cell_type": "code",
   "execution_count": null,
   "id": "552cf1f7-6670-413d-ae47-9d5fc1ba9a25",
   "metadata": {},
   "outputs": [],
   "source": [
    "# Lanzar okteta y después gnome-text-editor, ambos en segundo plano\n",
    "okteta & gnome-text-editor &                #@solution@"
   ]
  },
  {
   "cell_type": "markdown",
   "id": "b4948205-22c4-44fb-9532-47b40855f089",
   "metadata": {},
   "source": [
    "- Escribe el comando adecuado para pasar a primer plano el último proceso que se lanzó (el editor `gnome-text-editor`).\n",
    "\n",
    "RESPUESTA:\n",
    "\n",
    "`fg`. @solution@"
   ]
  },
  {
   "cell_type": "markdown",
   "id": "f4576b30",
   "metadata": {},
   "source": [
    "PREGUNTA: Desde el terminal, termina el proceso que acabas de pasar a primer plano. ¿Qué teclas o comando has utilizado?\n",
    "\n",
    "RESPUESTA:\n",
    "\n",
    "Podemos terminarlo con CTRL-C puesto que ahora está en primer plano. @solution@"
   ]
  },
  {
   "cell_type": "markdown",
   "id": "2a2a49f9-1684-4f43-b518-f646fa9af5b2",
   "metadata": {},
   "source": [
    "PREGUNTA: Repite el comando `fg` para hacer lo propio con el comando anterior (`okteta`), pero esta vez, en lugar de terminarlo, páralo. ¿Qué teclas o comando has utilizado?\n",
    "\n",
    "RESPUESTA:\n",
    "\n",
    "Podemos detenerlo con CTRL-Z. @solution@"
   ]
  },
  {
   "cell_type": "markdown",
   "id": "0f4215bc",
   "metadata": {},
   "source": [
    "PREGUNTA: Trata de interactuar con el proceso `okteta`, ¿por que no responde al ratón ni al teclado?\n",
    "\n",
    "RESPUESTA:\n",
    "\n",
    "Porque hemos indicado explícitamente al SO que queremos que dicho proceso esté detenido (es decir, que no se ejecute su código), por lo que el proceso no es capaz de responder a ninguna interacción con teclado/ratón. @solution@"
   ]
  },
  {
   "cell_type": "markdown",
   "id": "e509880d",
   "metadata": {},
   "source": [
    "PREGUNTA: Vuelve a despertar el proceso `okteta` pero esta vez en segundo plano. ¿Qué comando has de utilizar?\n",
    "\n",
    "RESPUESTA:\n",
    "\n",
    "`bg`. @solution@"
   ]
  },
  {
   "cell_type": "markdown",
   "id": "c582f37f",
   "metadata": {},
   "source": [
    "- Usa la orden adecuada para listar los procesos lanzados desde el terminal donde estás ejecutando los comandos anteriores."
   ]
  },
  {
   "cell_type": "code",
   "execution_count": null,
   "id": "c989208a",
   "metadata": {},
   "outputs": [],
   "source": [
    "# Comando para monitorizar los procesos activos lanzados en este terminal\n",
    "ps                                          #@solution@"
   ]
  },
  {
   "cell_type": "markdown",
   "id": "559c6d51-fb7e-4aa8-8bbc-a7066eadf691",
   "metadata": {},
   "source": [
    "```\n",
    "    PID TTY          TIME CMD\n",
    "  19422 pts/5    00:00:00 bash\n",
    "  27254 pts/5    00:00:01 okteta\n",
    "  28051 pts/5    00:00:00 ps\n",
    "```"
   ]
  },
  {
   "cell_type": "markdown",
   "id": "80a20a8a-14a2-4f48-8517-f464f2a6122b",
   "metadata": {},
   "source": [
    "- Finalmente, termina el proceso `okteta` desde el terminal esta vez usando el PID (identificador del proceso) que nos indicó el terminal al lanzar el proceso inicialmente."
   ]
  },
  {
   "cell_type": "code",
   "execution_count": null,
   "id": "9f86707c",
   "metadata": {},
   "outputs": [],
   "source": [
    "# Comando para terminar el proceso lanzado en segundo plano\n",
    "kill 27254 # PID de okteta              #@solution@"
   ]
  },
  {
   "cell_type": "markdown",
   "id": "e7cee5ac-bcec-4e17-baf4-c53759766a8a",
   "metadata": {},
   "source": [
    "PREGUNTA: Lanza de nuevo los programas `okteta` y `gnome-text-editor`, en dicho orden, pero esta vez únicamente con `okteta` en segundo plano. ¿Qué ocurre si ahora pulsas `Ctrl-C` en el terminal?\n",
    "\n",
    "RESPUESTA:\n",
    "\n",
    "Que se cierra gnome-text-editor, que es el que está en primer plano, mientras que okteta sigue en ejecución. @solution@"
   ]
  },
  {
   "cell_type": "markdown",
   "id": "00c51ed8",
   "metadata": {},
   "source": [
    "- Usando el comando adecuado, averigua el PID del proceso que está ejecutando `okteta` a partir de su nombre."
   ]
  },
  {
   "cell_type": "code",
   "execution_count": null,
   "id": "9f9f5985",
   "metadata": {},
   "outputs": [],
   "source": [
    "# Comando para averiguar el PID del un proceso por el nombre del comando ejecutado\n",
    "pgrep okteta                        #@solution@"
   ]
  },
  {
   "cell_type": "markdown",
   "id": "4a8907ca-3ed5-4e68-8b42-1372181296e8",
   "metadata": {},
   "source": [
    "- Termina el programa `okteta` sin necesidad de introducir su PID"
   ]
  },
  {
   "cell_type": "code",
   "execution_count": null,
   "id": "57ccec94-bb9e-4744-a562-6ee857476af2",
   "metadata": {},
   "outputs": [],
   "source": [
    "pkill okteta                        #@solution@"
   ]
  },
  {
   "cell_type": "markdown",
   "id": "f715191f-fce5-40c7-a9f0-049d7de99b3b",
   "metadata": {},
   "source": [
    "PREGUNTA: Descarga el programa ejecutable `uninterruptible`, el cual tienes disponible a través del AV, y cámbiale los permisos para poder ejecutarlo. Ejecútalo en primer plano y prueba a terminar su ejecución con `CTRL-C`. ¿Puedes? Explica qué semejanzas crees que tiene este programa con el programa *shell* en cuanto al tratamiento de la señal `SIGINT`.\n",
    "\n",
    "RESPUESTA:\n",
    "\n",
    "Este programa ignora la señal `SIGINT`, al igual que el shell. En su caso, imprime un mensaje indicando que ha recibido la señal y la ignora, mientras que el shell vuelve a imprimir el \"prompt\". @solution@"
   ]
  },
  {
   "cell_type": "markdown",
   "id": "3a223cf7-f83c-4a9b-8ea4-2002b8f5ea08",
   "metadata": {},
   "source": [
    "PREGUNTA: Detén la ejecución del programa lanzado anteriormente, sin terminarlo. Después lista los procesos lanzados en el terminal, ¿cuánto tiempo ha usado la CPU el programa `uninterruptible` antes de ser detenido? Si vuelves a listar los procesos, ¿ha variado el tiempo de CPU?\n",
    "\n",
    "RESPUESTA:\n",
    "\n",
    "Lo detenemos con CTRL-Z y luego vemos con `ps` los procesos lanzados. Vemos que el tiempo de CPU coincide con los segundos que transcurrieron entre que lo lanzamos y lo detuvimos. @solution@"
   ]
  },
  {
   "cell_type": "markdown",
   "id": "2959ee8e-3cd7-4eec-8478-0cfe7dc0ef4d",
   "metadata": {},
   "source": [
    "PREGUNTA: Reanuda en segundo plano la ejecución del programa detenido anteriormente, y usa el comando adecuado para observar periódicamente el tiempo de CPU que lleva consumido. ¿Qué porcentaje de la CPU usa cuando está en ejecución? ¿En qué medida crece el tiempo de uso de la CPU con respecto al tiempo \"del reloj de pared\" (medido por una persona)?\n",
    "\n",
    "RESPUESTA:\n",
    "\n",
    "Reanudamos con `bg`. El programa usa el 100% de CPU cuando está en ejecución, como vemos con `top`, y por tanto el tiempo de CPU usado que vemos con `ps` prácticamente coicide con el tiempo transcurrido desde que se lanzó, descontando los segundos que estuvo detenido (entre el CTRL-Z y el `bg`). @solution@"
   ]
  },
  {
   "cell_type": "markdown",
   "id": "12e5101a-68ef-42e0-a9c2-e5a82f5261d5",
   "metadata": {},
   "source": [
    "PREGUNTA: Termina el programa `uninterruptible`, ya sea por su nombre o PID, enviando la señal `SIGTERM`. ¿Puedes terminar el proceso? Indica el comando que has utilizado.\n",
    "\n",
    "RESPUESTA:\n",
    "\n",
    "Sí, se puede terminar el proceso con el comando `pkill uninterruptible`. @solution@"
   ]
  },
  {
   "cell_type": "markdown",
   "id": "50a497c3",
   "metadata": {},
   "source": [
    "PREGUNTA: A la vista de la salida del programa `uninterruptible` terminado en el paso anterior, ¿crees que el programa termina súbitamente al recibir la señal, o lo hace por sus propios medios?\n",
    "\n",
    "RESPUESTA:\n",
    "\n",
    "El programa recibe la señal, pero no termina como resultado de ello sino que tras ello, imprime un mensaje indicando que va a terminar voluntariamente y luego finaliza. @solution@"
   ]
  },
  {
   "cell_type": "markdown",
   "id": "5cbaf5da-0fb9-4a71-abef-dfd0b6283cb4",
   "metadata": {},
   "source": [
    "PREGUNTA: Descarga el programa `stubborn` del AV y cámbiale los permisos para poder ejecutarlo. Después, ejecútalo en primer plano y prueba a terminar su ejecución con `CTRL-C`. ¿Qué ocurre? De nuevo, observa los procesos en ejecución con el comando adecuado, ¿cuál es su uso de CPU?\n",
    "\n",
    "RESPUESTA:\n",
    "\n",
    "Vemos que el programa imprime un mensaje cada vez que recibe la señal SIGINT, pero la ignora y continúa ejecutándose. Con `top` vemos que sigue usando el 100% del tiempo de CPU. @solution@"
   ]
  },
  {
   "cell_type": "markdown",
   "id": "8e8df847-5afc-4622-b5f9-3955cabf9832",
   "metadata": {},
   "source": [
    "PREGUNTA: Detén la ejecución del programa lanzado anteriormente, sin terminarlo, y luego reanuda en segundo plano su ejecución. Después, trata de terminar el programa `stubborn`, ya sea por su nombre o PID, enviando la señal `SIGTERM` al igual que has hecho anteriormente. ¿Puedes terminar el proceso de esta forma?\n",
    "\n",
    "RESPUESTA:\n",
    "\n",
    "Lo detenemos con `CTRL-Z` y lo pasamos a segundo plano con `bg`. Luego, vemos que con el comando `pkill stubborn` tampoco podemos terminar el proceso ya que también ignora la señal SIGTERM (al igual que ignora SIGINT) y continúa ejecutándose. @solution@"
   ]
  },
  {
   "cell_type": "markdown",
   "id": "3d3e8e0e",
   "metadata": {},
   "source": [
    "PREGUNTA: A la vista de lo anterior, ¿de qué forma podemos terminar el proceso `stubborn`? Indica el comando.\n",
    "\n",
    "RESPUESTA:\n",
    "\n",
    "La única forma de acabar con el proceso es \"matarlo\" con `pkill -9 stubborn`, lo cual hace que se le envíe la señal `SIGKILL`, que ningún proceso puede ignorar. Al hacerlo, vemos este mensaje: \n",
    "```\n",
    "[1]+  Terminado (killed)      ./stubborn\n",
    "```\n",
    "@solution@"
   ]
  },
  {
   "cell_type": "markdown",
   "id": "b33cb824",
   "metadata": {},
   "source": [
    "### Listado y monitorización de procesos"
   ]
  },
  {
   "cell_type": "markdown",
   "id": "d9456ca4",
   "metadata": {},
   "source": [
    "- Usa el comando adecuado para mostrar **todos** los procesos que se están ejecutando actualmente en el sistema."
   ]
  },
  {
   "cell_type": "code",
   "execution_count": null,
   "id": "dcbfdbf2",
   "metadata": {},
   "outputs": [],
   "source": [
    "ps -AF          #@solution@"
   ]
  },
  {
   "cell_type": "markdown",
   "id": "4f9ed984",
   "metadata": {},
   "source": [
    "- Localiza tres procesos cuyo propietario sea nuestro usuario, y otros tres cuyo propietario sea el superusuario (root). Pega la línea completa mostrada para cada proceso.\n",
    "\n",
    "RESPUESTA:\n",
    "\n",
    "(libre). @solution@"
   ]
  },
  {
   "cell_type": "markdown",
   "id": "50897f10",
   "metadata": {},
   "source": [
    "- Localiza el proceso que ha consumido más tiempo de CPU. Pega la línea completa mostrada.\n",
    "\n",
    "RESPUESTA:\n",
    "\n",
    "(libre). @solution@"
   ]
  },
  {
   "cell_type": "markdown",
   "id": "52e16c59",
   "metadata": {},
   "source": [
    "- Localiza también el último que se lanzó, mirando las horas de inicio. Pega la línea completa mostrada.\n",
    "\n",
    "RESPUESTA:\n",
    "\n",
    "(libre). @solution@"
   ]
  },
  {
   "cell_type": "markdown",
   "id": "78d785a5",
   "metadata": {},
   "source": [
    "- Lanza desde la interfaz de usuario el navegador firefox, y navega hasta la página `www.google.es`, mientras observas mediante `top` la evolución dinámica del consumo de memoria y CPU de los procesos involucrados.  Puedes dividir la pantalla entre ambas ventanas, terminal y navegador, para observar la salida de top mientras navegas. Luego, prueba a navegar a la página `www.youtube.com`. ¿En cuál de las dos páginas se hace más uso de la CPU?\n",
    "\n",
    "RESPUESTA:\n",
    "\n",
    "(libre). @solution@"
   ]
  },
  {
   "cell_type": "markdown",
   "id": "03a93d11",
   "metadata": {},
   "source": [
    "### Redireccionamiento de la entrada/salida de un proceso"
   ]
  },
  {
   "cell_type": "code",
   "execution_count": null,
   "id": "493203c3-ee8c-47fb-ac18-6446131d97e3",
   "metadata": {},
   "outputs": [],
   "source": [
    "# Lista todos los ficheros en `/usr/bin/` cuyo nombre empiece por 'l'\n",
    "# y tenga exactamente dos caracteres\n",
    "ls /usr/bin/l?                          #@solution@"
   ]
  },
  {
   "cell_type": "code",
   "execution_count": null,
   "id": "703757b1-f7ea-451e-9683-a4613d702c3c",
   "metadata": {},
   "outputs": [],
   "source": [
    "# Repite el comando anterior, redireccionando la salida a un fichero llamado progs-l.txt\n",
    "ls /usr/bin/l? > progs-l.txt              #@solution@"
   ]
  },
  {
   "cell_type": "code",
   "execution_count": null,
   "id": "9c8b8a14-e560-4fa0-8824-3fc172cd2b1e",
   "metadata": {},
   "outputs": [],
   "source": [
    "# Muestra el contenido del fichero progs-l.txt\n",
    "cat progs-l.txt                             #@solution@"
   ]
  },
  {
   "cell_type": "code",
   "execution_count": null,
   "id": "6ed0e4e5-80f7-40eb-80b8-bcc2be9e5f92",
   "metadata": {},
   "outputs": [],
   "source": [
    "# Añade al final de dicho fichero un mensaje que diga \"FIN DEL LISTADO\", usando `echo` y la redirección\n",
    "echo \"FIN DEL LISTADO\" >> progs-l.txt       #@solution@"
   ]
  },
  {
   "cell_type": "code",
   "execution_count": null,
   "id": "a0a027d5-64d8-46e9-a0f5-31770ab674c0",
   "metadata": {},
   "outputs": [],
   "source": [
    "# Muestra de nuevo el contenido del fichero\n",
    "cat progs-l.txt             #@solution@"
   ]
  },
  {
   "cell_type": "code",
   "execution_count": null,
   "id": "40297afb-a388-492e-a377-bb69951a011a",
   "metadata": {},
   "outputs": [],
   "source": [
    "# Utilizando el comando ls con la opción adecuada y la redirección de la salida estándar/de error,\n",
    "# averigua sobre qué subdirectorios de /etc no tienes permisos de acceso. PISTA: usa /dev/null\n",
    "# para descartar la salida que no te interese.\n",
    "ls -R /etc > /dev/null                      #@solution@"
   ]
  },
  {
   "cell_type": "code",
   "execution_count": null,
   "id": "ff133717-ed86-48c9-9f50-b0ba0f50c4e6",
   "metadata": {},
   "outputs": [],
   "source": [
    "# Crea dos directorios, llamados dir1 y dir2\n",
    "mkdir dir1 dir2                 #@solution@"
   ]
  },
  {
   "cell_type": "code",
   "execution_count": null,
   "id": "1d30d81f",
   "metadata": {},
   "outputs": [],
   "source": [
    "# Copia el fichero stubborn a dir2\n",
    "cp stubborn dir1                #@solution@"
   ]
  },
  {
   "cell_type": "code",
   "execution_count": null,
   "id": "a5bd6473",
   "metadata": {},
   "outputs": [],
   "source": [
    "# Copia el fichero stubborn a dir2\n",
    "cp uninterruptible dir2         #@solution@"
   ]
  },
  {
   "cell_type": "code",
   "execution_count": null,
   "id": "32c7c204",
   "metadata": {},
   "outputs": [],
   "source": [
    "# Listar el contenido de dir1 y dir2 en un mismo comando\n",
    "ls dir1 dir2                    #@solution@"
   ]
  },
  {
   "cell_type": "code",
   "execution_count": null,
   "id": "7a95b75c",
   "metadata": {},
   "outputs": [],
   "source": [
    "# Cambia los permisos a dir2 para que nadie tenga acceso\n",
    "chmod 000 dir2                          #@solution@"
   ]
  },
  {
   "cell_type": "code",
   "execution_count": null,
   "id": "0f4b1d2c-f73b-4a04-804e-4ccd0c406fad",
   "metadata": {},
   "outputs": [],
   "source": [
    "# Listar el contenido de dir1 y dir2 en un mismo comando\n",
    "ls dir1 dir2                            #@solution@"
   ]
  },
  {
   "cell_type": "code",
   "execution_count": null,
   "id": "5e379716-ef05-4bcd-a1a9-1f0bcc1d0e54",
   "metadata": {},
   "outputs": [],
   "source": [
    "# Utilizando la redirección de la salida estándar/de error, lista\n",
    "# los directorios dir1 y dir2, de forma que los mensajes de error\n",
    "# vayan al fichero \"errores_ls\" y el resto al fichero \"salida_ls\"\n",
    "ls dir1 dir2 > salida_ls 2> errores_ls          #@solution@"
   ]
  },
  {
   "cell_type": "code",
   "execution_count": null,
   "id": "16589667",
   "metadata": {},
   "outputs": [],
   "source": [
    "# Muestra el contenido del fichero errores_ls\n",
    "cat errores_ls                      #@solution@"
   ]
  },
  {
   "cell_type": "code",
   "execution_count": null,
   "id": "261081b3",
   "metadata": {},
   "outputs": [],
   "source": [
    "# Muestra el contenido del fichero salida_ls\n",
    "cat salida_ls                       #@solution@"
   ]
  },
  {
   "cell_type": "markdown",
   "id": "c1efbfd5",
   "metadata": {},
   "source": [
    "### Variables de entorno. Concepto de PATH"
   ]
  },
  {
   "cell_type": "markdown",
   "id": "72304564-f2f3-4c4e-a666-4a403d74bf79",
   "metadata": {},
   "source": [
    "- La variable de entorno `LANG` define, junto con otras, la configuración regional y el idioma del shell. Empieza mostrando su valor actual con `echo`."
   ]
  },
  {
   "cell_type": "code",
   "execution_count": null,
   "id": "67952124-9f6c-41ea-be99-6ee6381d51d4",
   "metadata": {},
   "outputs": [],
   "source": [
    "echo $LANG                 #@solution@"
   ]
  },
  {
   "cell_type": "markdown",
   "id": "c2dff926",
   "metadata": {},
   "source": [
    " - Ejecuta el comando `ls` pasándole una ruta inexistente para generar un mensaje de error (coméntalo tras generarlo)."
   ]
  },
  {
   "cell_type": "code",
   "execution_count": null,
   "id": "daacce0d",
   "metadata": {},
   "outputs": [],
   "source": [
    "# ls hola                     #@solution@"
   ]
  },
  {
   "cell_type": "markdown",
   "id": "151420ba-8ec3-40c0-819b-1e6f261a250b",
   "metadata": {},
   "source": [
    "-  Ahora, cambia el valor de la variable `LANG` por \"xyz\" (da igual el valor)  y seguidamente muestra su valor con `echo`."
   ]
  },
  {
   "cell_type": "code",
   "execution_count": null,
   "id": "c31de968-48c9-4eea-9043-e8fb32016766",
   "metadata": {},
   "outputs": [],
   "source": [
    "LANG=xyz; echo $LANG                        #@solution@"
   ]
  },
  {
   "cell_type": "markdown",
   "id": "304824c2",
   "metadata": {},
   "source": [
    " - Vuelve a ejecutar el comando `ls` pasándole una ruta inexistente para generar un mensaje de error (coméntalo # de nuevo)."
   ]
  },
  {
   "cell_type": "code",
   "execution_count": null,
   "id": "2f9e48ce",
   "metadata": {},
   "outputs": [],
   "source": [
    "# ls hola                             #@solution@"
   ]
  },
  {
   "cell_type": "markdown",
   "id": "6451158c-38ca-4525-9957-2275b6216482",
   "metadata": {},
   "source": [
    "PREGUNTA:  ¿En qué se diferencia el resultado de ejecutar el comando con un valor u otro de `$LANG`? ¿Cuál es el idioma por defecto del shell cuando $LANG no tiene un valor?\n",
    "\n",
    "RESPUESTA:\n",
    "\n",
    "Primero obtenemos el mensaje de error en castellano, y luego en inglés. Cuando la variable de entorno `$LANG` tiene un valor no válido, el mensaje de error que se muestra está en inglés. Comprobamos que este es el idioma por defecto. @solution@"
   ]
  },
  {
   "cell_type": "markdown",
   "id": "18eaeb06",
   "metadata": {},
   "source": [
    "- Vuelve a establecer el valor de `LANG` a su valor original (\"es_ES.UTF-8\") y seguidamente muestra su valor con `echo` (en una misma línea)."
   ]
  },
  {
   "cell_type": "code",
   "execution_count": null,
   "id": "6843238f",
   "metadata": {},
   "outputs": [],
   "source": [
    "LANG=es_ES.UTF-8; echo $LANG            #@solution@"
   ]
  },
  {
   "cell_type": "code",
   "execution_count": null,
   "id": "9f45e0a9-3640-4c69-8ffd-e269406dd52d",
   "metadata": {},
   "outputs": [],
   "source": [
    "# Crea un subdirectorio llamado bin en tu directorio de inicio de usuario (si no existe ya)\n",
    "mkdir -p $HOME/bin                  #@solution@"
   ]
  },
  {
   "cell_type": "code",
   "execution_count": null,
   "id": "a2e67231-cd7c-493b-8de8-ecdfedda284c",
   "metadata": {},
   "outputs": [],
   "source": [
    "# Copia al directorio creado anteriormente el fichero /usr/bin/ls, con el nombre myls\n",
    "cp /usr/bin/ls $HOME/bin/myls               #@solution@"
   ]
  },
  {
   "cell_type": "code",
   "execution_count": null,
   "id": "aac39f6c-58ba-42d7-955b-8093c05655a9",
   "metadata": {},
   "outputs": [],
   "source": [
    "# Sin cambiarte de directorio, ejecuta mediante una ruta absoluta el programa `myls` con la opción '-l':\n",
    "~/bin/myls -l                               #@solution@"
   ]
  },
  {
   "cell_type": "code",
   "execution_count": null,
   "id": "aa3f01d3-c67f-428d-b9d2-83fb7d23815f",
   "metadata": {},
   "outputs": [],
   "source": [
    "# Modifica el valor de `PATH` para añadir el subdirectorio \"bin\" creado anteriormente:\n",
    "PATH=$PATH:$HOME/bin                    #@solution@"
   ]
  },
  {
   "cell_type": "markdown",
   "id": "f982e2e0",
   "metadata": {},
   "source": [
    "Finalmente, prueba a ejecutar `myls` sin necesidad de indicar su ruta exacta."
   ]
  },
  {
   "cell_type": "code",
   "execution_count": null,
   "id": "24cdea31-6b40-4da3-8d86-4d524c1c5b3a",
   "metadata": {},
   "outputs": [],
   "source": [
    "myls                        #@solution@"
   ]
  },
  {
   "cell_type": "markdown",
   "id": "680d517a",
   "metadata": {},
   "source": [
    "### Variables del shell actual y variables de entorno"
   ]
  },
  {
   "cell_type": "markdown",
   "id": "2002571b",
   "metadata": {},
   "source": [
    "- Muestra el valor de la variable de entorno `USER`"
   ]
  },
  {
   "cell_type": "code",
   "execution_count": null,
   "id": "5a68a861",
   "metadata": {},
   "outputs": [],
   "source": [
    "echo $USER                      #@solution@"
   ]
  },
  {
   "cell_type": "code",
   "execution_count": null,
   "id": "35e6c833",
   "metadata": {},
   "outputs": [],
   "source": [
    "# Define una nueva variable llamada \"PRUEBA\" con valor \"hola\"\n",
    "PRUEBA=\"hola\"                   #@solution@"
   ]
  },
  {
   "cell_type": "code",
   "execution_count": null,
   "id": "1f6ebcd4",
   "metadata": {},
   "outputs": [],
   "source": [
    "# Muestra el valor de la variable PRUEBA en el shell actual\n",
    "echo $PRUEBA                        #@solution@"
   ]
  },
  {
   "cell_type": "code",
   "execution_count": null,
   "id": "26cdfe26",
   "metadata": {},
   "outputs": [],
   "source": [
    "# Ejecuta esta celda para crear un shell script llamado \"variables.sh\"\n",
    "echo '#!/bin/bash' > variables.sh\n",
    "echo 'echo \"**Inicio del script**\"' >> variables.sh\n",
    "echo 'echo \"La variable PRUEBA vale $PRUEBA\"' >> variables.sh\n",
    "echo 'MYVAR=\"hello world!\"' >> variables.sh\n",
    "echo 'echo \"La variable MYVAR vale $MYVAR\"' >> variables.sh\n",
    "echo 'echo \"La variable USER vale $USER\"' >> variables.sh\n",
    "echo 'echo \"La variable ANOTHERVAR vale $ANOTHERVAR \"' >> variables.sh\n",
    "echo 'echo \"**Fin del script**\"' >> variables.sh"
   ]
  },
  {
   "cell_type": "code",
   "execution_count": null,
   "id": "3a052d3f",
   "metadata": {},
   "outputs": [],
   "source": [
    "# Muestra el contenido del script \"variables.sh\"\n",
    "cat variables.sh            #@solution@"
   ]
  },
  {
   "cell_type": "code",
   "execution_count": null,
   "id": "f997ea2b",
   "metadata": {},
   "outputs": [],
   "source": [
    "# Establece permisos de ejecución para el fichero creado\n",
    "chmod 755 variables.sh              #@solution@"
   ]
  },
  {
   "cell_type": "code",
   "execution_count": null,
   "id": "b9661d9e",
   "metadata": {},
   "outputs": [],
   "source": [
    "# Ejecuta el script \"variables.sh\"\n",
    "./variables.sh                      #@solution@"
   ]
  },
  {
   "cell_type": "markdown",
   "id": "2a227bcb",
   "metadata": {},
   "source": [
    "PREGUNTA: ¿Se produce algún error en el shell cuando tratas de mostrar el valor de una variable a la que no has asignado valor previamente (ANOTHERVAR)?\n",
    "\n",
    "RESPUESTA:\n",
    "\n",
    "No, no se muestra ningún error, simplemente ese nombre de variable se asocia a un valor vacío (en blanco). @solution@"
   ]
  },
  {
   "cell_type": "markdown",
   "id": "0065e35b",
   "metadata": {},
   "source": [
    "PREGUNTA: ¿Por qué no se imprime el valor de `PRUEBA`?\n",
    "\n",
    "RESPUESTA:\n",
    "\n",
    "`PRUEBA` es una variable del proceso padre (el shell que lanzó \"variables.sh\"), pero no es una variable de entorno, por lo que no se hereda a los procesos hijos. Como no ha sido previamente asignada con ningún valor en el proceso actual \"variables.sh\", está en blanco. @solution@"
   ]
  },
  {
   "cell_type": "code",
   "execution_count": null,
   "id": "d6341193",
   "metadata": {},
   "outputs": [],
   "source": [
    "# Imprime el valor de la variable MYVAR en el shell actual\n",
    "echo $MYVAR                     #@solution@"
   ]
  },
  {
   "cell_type": "markdown",
   "id": "128626f8",
   "metadata": {},
   "source": [
    "PREGUNTA: ¿Por qué no aparece \"hello world\" como valor de \"MYVAR\" en el shell actual, tras ejecutar `variables.sh`?\n",
    "\n",
    "RESPUESTA:\n",
    "\n",
    "Porque no es una variable de entorno (global) sino que es una variable a la que se le da valor únicamente en el proceso está ejecutando \"variables.sh\", pero que no existe (no tiene valor) en el shell que lo ha lanzado. @solution@"
   ]
  },
  {
   "cell_type": "markdown",
   "id": "831e6e0e",
   "metadata": {},
   "source": [
    "PREGUNTA: ¿Qué valor tiene la variable \"USER\" en el proceso creado para ejecutar el script `variables.sh`?\n",
    "\n",
    "RESPUESTA:\n",
    "\n",
    "La variable USER tiene el mismo valor que en el proceso bash padre (el que ha lanzado el script variables.sh a ejecución) puesto que se trata de una variable de entorno y por tanto global a todos los procesos hijos, cuyo valor se hereda. @solution@"
   ]
  }
 ],
 "metadata": {
  "kernelspec": {
   "display_name": "Bash",
   "language": "bash",
   "name": "bash"
  },
  "language_info": {
   "codemirror_mode": "shell",
   "file_extension": ".sh",
   "mimetype": "text/x-sh",
   "name": "bash"
  },
  "toc": {
   "base_numbering": 1,
   "nav_menu": {},
   "number_sections": true,
   "sideBar": true,
   "skip_h1_title": true,
   "title_cell": "Table of Contents",
   "title_sidebar": "Contents",
   "toc_cell": false,
   "toc_position": {
    "height": "calc(100% - 180px)",
    "left": "10px",
    "top": "150px",
    "width": "296px"
   },
   "toc_section_display": true,
   "toc_window_display": false
  }
 },
 "nbformat": 4,
 "nbformat_minor": 5
}
