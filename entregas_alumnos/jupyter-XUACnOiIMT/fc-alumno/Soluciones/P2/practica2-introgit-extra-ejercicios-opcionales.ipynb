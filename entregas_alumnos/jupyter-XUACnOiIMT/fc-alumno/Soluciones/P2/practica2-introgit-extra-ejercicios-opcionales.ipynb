{
 "cells": [
  {
   "cell_type": "markdown",
   "id": "7673defa",
   "metadata": {},
   "source": [
    "# Ejercicios - Práctica 2a: Control de versiones con Git"
   ]
  },
  {
   "cell_type": "markdown",
   "id": "e0e61f4f",
   "metadata": {},
   "source": [
    "## Comandos básicos de Git: Flujo de trabajo en un repositorio local"
   ]
  },
  {
   "cell_type": "markdown",
   "id": "1bbae4de",
   "metadata": {},
   "source": [
    "### Ubicación de un repositorio e importancia del directorio `.git`"
   ]
  },
  {
   "cell_type": "code",
   "execution_count": 1,
   "id": "c737c68a-b208-4f3a-871a-e253d0addc09",
   "metadata": {},
   "outputs": [],
   "source": [
    "cd"
   ]
  },
  {
   "cell_type": "code",
   "execution_count": 2,
   "id": "6cc809e4-3631-428a-9d8e-cef197652d74",
   "metadata": {},
   "outputs": [],
   "source": [
    "rm -rf p2a-ejercicio"
   ]
  },
  {
   "cell_type": "code",
   "execution_count": 3,
   "id": "a45cf7e7-c25e-4ca4-94bf-de41cf516f20",
   "metadata": {},
   "outputs": [],
   "source": [
    "mkdir p2a-ejercicio"
   ]
  },
  {
   "cell_type": "code",
   "execution_count": 4,
   "id": "b0ee6ba4-f46a-4d49-a7b1-c74447ece5a4",
   "metadata": {},
   "outputs": [],
   "source": [
    "cd p2a-ejercicio"
   ]
  },
  {
   "cell_type": "code",
   "execution_count": 5,
   "id": "3e5d0a79-8def-473a-a42a-e2e8da173e2e",
   "metadata": {},
   "outputs": [
    {
     "name": "stdout",
     "output_type": "stream",
     "text": [
      "Inicializado repositorio Git vacío en /home/rtitos/p2a-ejercicio/.git/\n"
     ]
    }
   ],
   "source": [
    "git init"
   ]
  },
  {
   "cell_type": "code",
   "execution_count": 6,
   "id": "7c813635-b46b-4753-8767-ff3d846d580a",
   "metadata": {},
   "outputs": [],
   "source": [
    "echo \"git revert\" > git-commands\n",
    "echo \"git diff\" >> git-commands\n",
    "echo \"git log\" >> git-commands"
   ]
  },
  {
   "cell_type": "code",
   "execution_count": 7,
   "id": "d68ca8d2-2ac3-4e42-bbfa-18321116bdcc",
   "metadata": {},
   "outputs": [],
   "source": [
    "git add git-commands"
   ]
  },
  {
   "cell_type": "code",
   "execution_count": 8,
   "id": "b5f8d915-ce47-4aad-8462-355e76d2ab68",
   "metadata": {},
   "outputs": [
    {
     "name": "stdout",
     "output_type": "stream",
     "text": [
      "[main (commit-raíz) b68cb43] Añadiendo fichero de comandos\n",
      " 1 file changed, 3 insertions(+)\n",
      " create mode 100644 git-commands\n"
     ]
    }
   ],
   "source": [
    "git commit -m \"Añadiendo fichero de comandos\""
   ]
  },
  {
   "cell_type": "code",
   "execution_count": 9,
   "id": "5a04b4d8",
   "metadata": {},
   "outputs": [],
   "source": [
    "# Sin moverte de directorio (deberías estar en \"~/p2a-ejercicio\"),\n",
    "# crea un directorio llamado \"otrorepo\"\n",
    "mkdir otrorepo                 #@solution@"
   ]
  },
  {
   "cell_type": "code",
   "execution_count": 10,
   "id": "01c607d1",
   "metadata": {},
   "outputs": [],
   "source": [
    "# Cámbiate al directorio que acabas de crear\n",
    "cd otrorepo                 #@solution@"
   ]
  },
  {
   "cell_type": "code",
   "execution_count": 11,
   "id": "9173cca1",
   "metadata": {},
   "outputs": [
    {
     "name": "stdout",
     "output_type": "stream",
     "text": [
      "Inicializado repositorio Git vacío en /home/rtitos/p2a-ejercicio/otrorepo/.git/\n"
     ]
    }
   ],
   "source": [
    "# Crea un nuevo repositorio vacío\n",
    "git init                 #@solution@"
   ]
  },
  {
   "cell_type": "code",
   "execution_count": 13,
   "id": "e32c8099",
   "metadata": {},
   "outputs": [
    {
     "name": "stdout",
     "output_type": "stream",
     "text": [
      "fatal: tu rama actual 'main' no tiene ningún commit todavía\n"
     ]
    },
    {
     "ename": "",
     "evalue": "128",
     "output_type": "error",
     "traceback": []
    }
   ],
   "source": [
    "# Muestra el historial de commits\n",
    "git log                 #@solution@"
   ]
  },
  {
   "cell_type": "markdown",
   "id": "ad27b6cf",
   "metadata": {},
   "source": [
    "PREGUNTA: \n",
    "- ¿En qué repositorio Git estás operando ahora mismo? ¿Por qué?\n",
    "    * a) En el repositorio donde está el fichero `git-commands`\n",
    "    * b) En el repositorio vacío que acabo de crear en `otrorepo`\n",
    "   \n",
    "RESPUESTA (razonada):\n",
    "\n",
    "En el repositorio vacío que acabo de crear.@solution@"
   ]
  },
  {
   "cell_type": "code",
   "execution_count": 17,
   "id": "a27e9b5a-aefe-4e57-ad46-50c6e2278e24",
   "metadata": {},
   "outputs": [
    {
     "name": "stdout",
     "output_type": "stream",
     "text": [
      "\u001b[0m\u001b[01;34m.\u001b[0m  \u001b[01;34m..\u001b[0m  \u001b[01;34m.git\u001b[0m  git-commands  \u001b[01;34motrorepo\u001b[0m\n"
     ]
    }
   ],
   "source": [
    "ls -a .."
   ]
  },
  {
   "cell_type": "code",
   "execution_count": 16,
   "id": "0ec73b24-f7c6-4a34-8fec-4cfb8a68688f",
   "metadata": {},
   "outputs": [
    {
     "name": "stdout",
     "output_type": "stream",
     "text": [
      "\u001b[0m\u001b[01;34m.\u001b[0m  \u001b[01;34m..\u001b[0m  \u001b[01;34m.git\u001b[0m\n"
     ]
    }
   ],
   "source": [
    "ls -a"
   ]
  },
  {
   "cell_type": "markdown",
   "id": "0afae419",
   "metadata": {},
   "source": [
    "PREGUNTA: ¿Qué habría que hacer para volver a operar sobre el repositorio que contiene el fichero `git-commands`?\n",
    "\n",
    "RESPUESTA:\n",
    "\n",
    "Salir del directorio \"otrorepo\" y volver al directorio padre con `cd ..` .@solution@"
   ]
  },
  {
   "cell_type": "code",
   "execution_count": 18,
   "id": "299a03ba",
   "metadata": {},
   "outputs": [],
   "source": [
    "# Crea un fichero ejecutando esta celda\n",
    "echo \"Hello, world\" > hello                 #@solution@"
   ]
  },
  {
   "cell_type": "code",
   "execution_count": 19,
   "id": "11419c09",
   "metadata": {},
   "outputs": [],
   "source": [
    "# Haz que hello pase a estar en el repositorio que actualmente está vacío\n",
    "# Paso 1\n",
    "git add hello                 #@solution@"
   ]
  },
  {
   "cell_type": "code",
   "execution_count": 20,
   "id": "3ddccc08",
   "metadata": {},
   "outputs": [
    {
     "name": "stdout",
     "output_type": "stream",
     "text": [
      "[main (commit-raíz) ce8ff3f] Añado fichero hello\n",
      " 1 file changed, 1 insertion(+)\n",
      " create mode 100644 hello\n"
     ]
    }
   ],
   "source": [
    "# Paso 2\n",
    "git commit -m \"Añado fichero hello\"                 #@solution@"
   ]
  },
  {
   "cell_type": "code",
   "execution_count": 21,
   "id": "171e5fe2",
   "metadata": {},
   "outputs": [
    {
     "name": "stdout",
     "output_type": "stream",
     "text": [
      "\u001b[33mcommit ce8ff3f5eac608b7e31b53800d08002be11dbe97\u001b[m\u001b[33m (\u001b[m\u001b[1;36mHEAD\u001b[m\u001b[33m -> \u001b[m\u001b[1;32mmain\u001b[m\u001b[33m)\u001b[m\n",
      "Date:   Wed Oct 2 10:49:11 2024 +0200\n",
      "\n",
      "    Añado fichero hello\n"
     ]
    }
   ],
   "source": [
    "# Muestra el historial de commits\n",
    "git log                 #@solution@"
   ]
  },
  {
   "cell_type": "markdown",
   "id": "8d94f119",
   "metadata": {},
   "source": [
    "PREGUNTA: Indica la ruta **ABSOLUTA** (empezando por ~) del directorio `.git` donde está el repositorio que únicamente contiene el fichero `hello`.\n",
    "\n",
    "RESPUESTA:\n",
    "\n",
    "~/p2a-ejercicio/otrorepo/.git                 #@solution@"
   ]
  },
  {
   "cell_type": "code",
   "execution_count": 22,
   "id": "f3a9d6da",
   "metadata": {},
   "outputs": [],
   "source": [
    "# Cambia al directorio padre del actual (padre de \"otrorepo\")\n",
    "cd ..                 #@solution@"
   ]
  },
  {
   "cell_type": "code",
   "execution_count": 23,
   "id": "b5a16eff",
   "metadata": {},
   "outputs": [
    {
     "name": "stdout",
     "output_type": "stream",
     "text": [
      "\u001b[33mcommit b68cb43cd22527a08212ce22af31bd6489d4d04b\u001b[m\u001b[33m (\u001b[m\u001b[1;36mHEAD\u001b[m\u001b[33m -> \u001b[m\u001b[1;32mmain\u001b[m\u001b[33m)\u001b[m\n",
      "Date:   Wed Oct 2 10:48:09 2024 +0200\n",
      "\n",
      "    Añadiendo fichero de comandos\n"
     ]
    }
   ],
   "source": [
    "# Muestra el historial de commits\n",
    "git log                 #@solution@"
   ]
  },
  {
   "cell_type": "markdown",
   "id": "a6a09e3a",
   "metadata": {},
   "source": [
    "PREGUNTA: A la vista de la salida de `git log`, ¿en qué repositorio estás operando ahora? Indica la ruta **ABSOLUTA** a su directorio `.git`.\n",
    "\n",
    "RESPUESTA:\n",
    "\n",
    "En el repositorio que hemos creado al comienzo de este ejercicio. ~/p2a-ejercicio/.git                 #@solution@\n"
   ]
  },
  {
   "cell_type": "markdown",
   "id": "ed327b0b",
   "metadata": {},
   "source": [
    "PREGUNTA: A la vista de todo lo anterior, explica por qué es posible tener varios repositorios Git ubicados dentro del mismo directorio en el sistema de ficheros:\n",
    "\n",
    "RESPUESTA:\n",
    "\n",
    "Porque Git siempre opera con el directorio .git \"más próximo\", empezando a buscar en el directorio actual y en caso de no encontrarlo, buscando en los directorios ancestros (directorio padre, etc.) desde el actual hasta la raíz hasta encontrar el .git).                 #@solution@"
   ]
  },
  {
   "cell_type": "code",
   "execution_count": 24,
   "id": "fc6ba897",
   "metadata": {},
   "outputs": [],
   "source": [
    "# Mueve el directorio \"otrorepo\" a \n",
    "# tu directorio personal ($HOME o ~)\n",
    "mv otrorepo ~                 #@solution@"
   ]
  },
  {
   "cell_type": "code",
   "execution_count": 25,
   "id": "5a7881d4",
   "metadata": {},
   "outputs": [],
   "source": [
    "# Cámbiate al directorio \"otrorepo\"\n",
    "# en su nueva ubicación\n",
    "cd ~/otrorepo                 #@solution@"
   ]
  },
  {
   "cell_type": "code",
   "execution_count": 26,
   "id": "4026d782",
   "metadata": {},
   "outputs": [
    {
     "name": "stdout",
     "output_type": "stream",
     "text": [
      "\u001b[33mcommit ce8ff3f5eac608b7e31b53800d08002be11dbe97\u001b[m\u001b[33m (\u001b[m\u001b[1;36mHEAD\u001b[m\u001b[33m -> \u001b[m\u001b[1;32mmain\u001b[m\u001b[33m)\u001b[m\n",
      "Date:   Wed Oct 2 10:49:11 2024 +0200\n",
      "\n",
      "    Añado fichero hello\n"
     ]
    }
   ],
   "source": [
    "# Muestra el historial de commits\n",
    "git log                 #@solution@"
   ]
  },
  {
   "cell_type": "markdown",
   "id": "f23c34ba",
   "metadata": {},
   "source": [
    "PREGUNTA: A la vista de la salida de `git log`, ¿es posible reubicar un directorio que contenga un repositorio o cambiarle el nombre a dicho directorio?\n",
    "\n",
    "RESPUESTA:\n",
    "\n",
    "Sí, la ubicación o el nombre del directorio donde está el repositorio no influyen en nada.                 #@solution@"
   ]
  },
  {
   "cell_type": "code",
   "execution_count": 27,
   "id": "b00f3152",
   "metadata": {},
   "outputs": [],
   "source": [
    "# Crea un directorio nuevo en \"~/testrepo\"\n",
    "mkdir -p ~/testrepo                 #@solution@"
   ]
  },
  {
   "cell_type": "code",
   "execution_count": 28,
   "id": "3ed7277e",
   "metadata": {},
   "outputs": [],
   "source": [
    "# Cámbiate al directorio que acabas de crear\n",
    "cd ~/testrepo                 #@solution@"
   ]
  },
  {
   "cell_type": "code",
   "execution_count": 29,
   "id": "d529a372",
   "metadata": {},
   "outputs": [
    {
     "name": "stdout",
     "output_type": "stream",
     "text": [
      "fatal: no es un repositorio git (ni ningún padre en el punto de montaje /)\n",
      "Parando a la frontera del sistema de archivos (GIT_DISCOVERY_ACROSS_FILESYSTEM no establecido).\n"
     ]
    },
    {
     "ename": "",
     "evalue": "128",
     "output_type": "error",
     "traceback": []
    }
   ],
   "source": [
    "# Ejecuta el siguiente comando:\n",
    "git status                 #@solution@"
   ]
  },
  {
   "cell_type": "markdown",
   "id": "32af943e",
   "metadata": {},
   "source": [
    "- ¿Hay algún repositorio Git en este directorio (o alguno de sus ancestros)?\n",
    "\n",
    "RESPUESTA:\n",
    "\n",
    "No.                 #@solution@"
   ]
  },
  {
   "cell_type": "code",
   "execution_count": null,
   "id": "ba2aa53d",
   "metadata": {},
   "outputs": [],
   "source": [
    "# Regresa al directorio \"otrorepo\"\n",
    "cd -                 #@solution@"
   ]
  },
  {
   "cell_type": "code",
   "execution_count": null,
   "id": "522a34b5",
   "metadata": {},
   "outputs": [],
   "source": [
    "# Mueve el directorio \".git\" del directorio \"otrorepo\" al directorio \"~/testrepo\"\n",
    "mv .git ~/testrepo/                 #@solution@"
   ]
  },
  {
   "cell_type": "code",
   "execution_count": null,
   "id": "9c48b568-f96e-45e3-b172-9b21da9560e8",
   "metadata": {},
   "outputs": [],
   "source": [
    "pwd"
   ]
  },
  {
   "cell_type": "code",
   "execution_count": null,
   "id": "44ecaaa6",
   "metadata": {},
   "outputs": [],
   "source": [
    "# Sin moverte de directorio, muestra el historial de commits\n",
    "git log                 #@solution@"
   ]
  },
  {
   "cell_type": "markdown",
   "id": "f3abbe40",
   "metadata": {},
   "source": [
    "PREGUNTA: ¿Qué ha ocurrido al mover (eliminar) el directorio `.git` del directorio  `otrorepo`?\n",
    "\n",
    "RESPUESTA:\n",
    "\n",
    "Git ya no es capaz de encontrar la base de datos del repositorio en \"otrorepo\" (directorio .git)                 #@solution@"
   ]
  },
  {
   "cell_type": "code",
   "execution_count": null,
   "id": "5813ab38",
   "metadata": {},
   "outputs": [],
   "source": [
    "# Cámbiate al directorio \"~/testrepo\"\n",
    "cd ~/testrepo                 #@solution@"
   ]
  },
  {
   "cell_type": "code",
   "execution_count": null,
   "id": "156c26cf",
   "metadata": {},
   "outputs": [],
   "source": [
    "# Lista el contenido del directorio actual\n",
    "ls                 #@solution@"
   ]
  },
  {
   "cell_type": "markdown",
   "id": "647c25b3",
   "metadata": {},
   "source": [
    "No debería haber ningún fichero en directorio actual."
   ]
  },
  {
   "cell_type": "code",
   "execution_count": null,
   "id": "c5085038",
   "metadata": {},
   "outputs": [],
   "source": [
    "# Ejecuta el siguiente comando\n",
    "git status                 #@solution@"
   ]
  },
  {
   "cell_type": "markdown",
   "id": "879b95c2-c2fe-4a53-8ab2-4138181a31a8",
   "metadata": {},
   "source": [
    "PREGUNTA: ¿Por qué ahora `git status` sí funciona? \n",
    "\n",
    "RESPUESTA:\n",
    "\n",
    "Porque está encontrando el directorio .git que hemos movido al directorio actual desde ~/otrorepo.@solution@"
   ]
  },
  {
   "cell_type": "code",
   "execution_count": null,
   "id": "b2be8c8d",
   "metadata": {},
   "outputs": [],
   "source": [
    "# Restaura el fichero \"hello\"\n",
    "git restore hello                 #@solution@"
   ]
  },
  {
   "cell_type": "code",
   "execution_count": null,
   "id": "ec7ec849",
   "metadata": {},
   "outputs": [],
   "source": [
    "# Lista el contenido del directorio actual\n",
    "ls                 #@solution@"
   ]
  },
  {
   "cell_type": "markdown",
   "id": "9a8ec5a2",
   "metadata": {},
   "source": [
    "PREGUNTA: ¿Dónde se almacena la información que Git usa para ser capaz de restaurar el fichero \"hello\" de la celda anterior?\n",
    "\n",
    "RESPUESTA:\n",
    "\n",
    "Del directorio .git, donde se almacena cada instantánea (versión) del repositorio, incluyendo una copia íntegra de todos los ficheros que han sido modificados/añadidos en dicha versión.                 #@solution@"
   ]
  },
  {
   "cell_type": "markdown",
   "id": "db4ef628",
   "metadata": {},
   "source": [
    "Finalmente, elimina los directorios de prueba que hemos utilizado en estos ejercicios."
   ]
  },
  {
   "cell_type": "code",
   "execution_count": 1,
   "id": "eff77a64",
   "metadata": {},
   "outputs": [],
   "source": [
    "# Elimina el directorio \"~/p2a-ejercicio\" testrepo y otrorepo\n",
    "cd && rm -rf testrepo otrorepo p2a-ejercicio"
   ]
  }
 ],
 "metadata": {
  "kernelspec": {
   "display_name": "Bash",
   "language": "bash",
   "name": "bash"
  },
  "language_info": {
   "codemirror_mode": "shell",
   "file_extension": ".sh",
   "mimetype": "text/x-sh",
   "name": "bash"
  },
  "toc": {
   "base_numbering": "1",
   "nav_menu": {},
   "number_sections": true,
   "sideBar": true,
   "skip_h1_title": true,
   "title_cell": "Table of Contents",
   "title_sidebar": "Contents",
   "toc_cell": false,
   "toc_position": {
    "height": "calc(100% - 180px)",
    "left": "10px",
    "top": "150px",
    "width": "296px"
   },
   "toc_section_display": true,
   "toc_window_display": true
  }
 },
 "nbformat": 4,
 "nbformat_minor": 5
}
