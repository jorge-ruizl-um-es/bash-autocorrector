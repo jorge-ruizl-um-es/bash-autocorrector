{
 "cells": [
  {
   "cell_type": "markdown",
   "id": "8e983960",
   "metadata": {},
   "source": [
    "# Ejercicios - Práctica 5a: Manejo del sistema de ficheros en el *shell* de Linux."
   ]
  },
  {
   "cell_type": "markdown",
   "id": "055d9927",
   "metadata": {},
   "source": [
    "### Manipulación del sistema de ficheros.\n",
    "\n",
    "Vamos a hacer uso de un conjunto de ficheros de ejemplo (`ficheros_ejemplo.zip`)que puedes obtener ejecutando la siguiente celda."
   ]
  },
  {
   "cell_type": "code",
   "execution_count": null,
   "id": "43a1c885-b8fa-46ad-921a-a5f3503c8865",
   "metadata": {},
   "outputs": [],
   "source": [
    "# Definir la URL del archivo a descargar y el nombre del archivo\n",
    "FICHERO=\"ficheros_ejemplo.zip\"\n",
    "URL=\"https://ditec.um.es/~rtitos/docencia/fc-gcid/24-25/$FICHERO\"\n",
    "\n",
    "cd\n",
    "\n",
    "# Comprobar si el archivo ya existe\n",
    "if [ -f \"$FICHERO\" ]; then\n",
    "    echo \"El archivo $FICHERO ya existe.\"\n",
    "    rm -rf \"ficheros_ejemplo\"\n",
    "    unzip -q $FICHERO\n",
    "    echo \"Archivo descomprimido.\"\n",
    "else\n",
    "    echo \"El archivo $FICHERO no existe. Descargando...\"\n",
    "    # Descargar el archivo\n",
    "    curl -O $URL\n",
    "    \n",
    "    # Comprobar si la descarga fue exitosa\n",
    "    if [ $? -eq 0 ]; then\n",
    "        echo \"Descarga completada. Descomprimiendo el archivo ...\"\n",
    "        # Descomprimir el archivo ZIP de forma silenciosa\n",
    "        unzip -q $FICHERO\n",
    "        echo \"Archivo descomprimido.\"\n",
    "    else\n",
    "        echo \"Error en la descarga.\"\n",
    "    fi\n",
    "fi\n"
   ]
  },
  {
   "cell_type": "markdown",
   "id": "35f81d92-1343-4046-bd0e-246b95bea1c0",
   "metadata": {},
   "source": [
    " El árbol de directorios en que se organizan los ficheros de ejemplo se puede observar a continuación:"
   ]
  },
  {
   "cell_type": "code",
   "execution_count": null,
   "id": "c1680092-1e00-4a05-b2f9-aaa02a855b45",
   "metadata": {},
   "outputs": [],
   "source": [
    "tree -d ficheros_ejemplo"
   ]
  },
  {
   "cell_type": "markdown",
   "id": "b089eec7",
   "metadata": {},
   "source": [
    "```\n",
    "ficheros_ejemplo\n",
    "├── nano\n",
    "│   ├── docu\n",
    "│   ├── m4\n",
    "│   ├── po\n",
    "│   ├── src\n",
    "│   └── syntax\n",
    "│       └── extra\n",
    "└── sample_files\n",
    "    ├── audio\n",
    "    │   ├── mp3\n",
    "    │   ├── ogg\n",
    "    │   ├── wav\n",
    "    │   └── wma\n",
    "    ├── docu\n",
    "    │   ├── docu\n",
    "    │   ├── docux\n",
    "    │   ├── pdf\n",
    "    │   ├── rtf\n",
    "    │   ├── txt\n",
    "    │   ├── xls\n",
    "    │   └── xlsx\n",
    "    ├── image\n",
    "    │   ├── bmp\n",
    "    │   ├── gif\n",
    "    │   ├── jpg\n",
    "    │   ├── png\n",
    "    │   └── tiff\n",
    "    └── video\n",
    "        ├── flv\n",
    "        ├── mkv\n",
    "        ├── mov\n",
    "        └── mp4\n",
    "\n",
    "```"
   ]
  },
  {
   "cell_type": "markdown",
   "id": "080049b0",
   "metadata": {},
   "source": [
    "Una vez lo tengas preparado, empezando desde tu directorio personal, realiza los siguientes ejercicios, utilizando en todo caso **RUTAS RELATIVAS**. "
   ]
  },
  {
   "cell_type": "code",
   "execution_count": null,
   "id": "f9385319",
   "metadata": {},
   "outputs": [],
   "source": [
    "# Ejecuta esta celda para restaurar el estado de los ficheros\n",
    "# Para ello, necesitas colocar el 'ficheros_ejemplo.zip' en tu directorio personal\n",
    "cd\n",
    "chmod -Rf 700 ficheros_ejemplo\n",
    "rm -rf ficheros_ejemplo\n",
    "unzip -q ficheros_ejemplo.zip\n",
    "cd ~/ficheros_ejemplo/sample_files\n"
   ]
  },
  {
   "cell_type": "code",
   "execution_count": null,
   "id": "542d32ba-5b8f-4410-aac8-49b9857ff4ef",
   "metadata": {},
   "outputs": [],
   "source": [
    "pwd"
   ]
  },
  {
   "cell_type": "code",
   "execution_count": null,
   "id": "ad64fbf9-0045-434a-ba9d-9075f559ef77",
   "metadata": {},
   "outputs": [],
   "source": [
    "ls"
   ]
  },
  {
   "cell_type": "code",
   "execution_count": null,
   "id": "f457d447",
   "metadata": {},
   "outputs": [],
   "source": [
    "# Cámbiate al directorio \"image\"\n",
    "cd image                           #@solution@"
   ]
  },
  {
   "cell_type": "code",
   "execution_count": null,
   "id": "75144a2b",
   "metadata": {},
   "outputs": [],
   "source": [
    "# Lista el contenido del directorio\n",
    "ls"
   ]
  },
  {
   "cell_type": "code",
   "execution_count": null,
   "id": "0e047617",
   "metadata": {},
   "outputs": [],
   "source": [
    "# Lista el contenido del directorio jpg\n",
    "ls jpg                           #@solution@"
   ]
  },
  {
   "cell_type": "code",
   "execution_count": null,
   "id": "63abaeab",
   "metadata": {},
   "outputs": [],
   "source": [
    "# Lista todos los ficheros situados en \"jpg\"\n",
    "# cuyo nombre tenga exactamente 7 caracteres\n",
    "# seguidos de \".jpg\"\n",
    "ls jpg/???????.jpg                           #@solution@"
   ]
  },
  {
   "cell_type": "markdown",
   "id": "a8fceec0",
   "metadata": {},
   "source": [
    "SALIDA: \n",
    "```bash\n",
    "jpg/bitcoin.jpg\n",
    "```"
   ]
  },
  {
   "cell_type": "code",
   "execution_count": null,
   "id": "ffc02819",
   "metadata": {},
   "outputs": [],
   "source": [
    "# Lista todos los ficheros situados en \"jpg\"\n",
    "# cuyo nombre contenga la cadena \"le\"\n",
    " ls jpg/*le*                          #@solution@"
   ]
  },
  {
   "cell_type": "markdown",
   "id": "19ff3d07",
   "metadata": {},
   "source": [
    "SALIDA: \n",
    "```bash\n",
    "jpg/assorted_pebble_rocks.jpg  jpg/elephants.jpg\n",
    "jpg/eagle_closeup.jpg          jpg/lemon_patern_wallpaper.jpg\n",
    "```"
   ]
  },
  {
   "cell_type": "code",
   "execution_count": null,
   "id": "04d88742",
   "metadata": {},
   "outputs": [],
   "source": [
    "# Lista todos los ficheros situados en \"jpg\"\n",
    "# cuyo nombre contenga las cadenas \"le\" o \"ter\"\n",
    "# seguidas de la letra 'p' o 'f'\n",
    " ls jpg/*{le,ter}[pf]*                          #@solution@"
   ]
  },
  {
   "cell_type": "markdown",
   "id": "a0a04734",
   "metadata": {},
   "source": [
    "SALIDA: \n",
    "```bash\n",
    "jpg/elephants.jpg                  jpg/waterfall_long_exposure.jpg\n",
    "jpg/waterfall_long_exposure_2.jpg\n",
    "```"
   ]
  },
  {
   "cell_type": "code",
   "execution_count": null,
   "id": "e537a0e2",
   "metadata": {},
   "outputs": [],
   "source": [
    "# Lista todos los ficheros situados en \"jpg\"\n",
    "# cuyo nombre comience con dos caracteres cualquiera\n",
    "# seguidos de la cadena \"sort\"\n",
    " ls jpg/??sort*                           #@solution@"
   ]
  },
  {
   "cell_type": "markdown",
   "id": "e571a9aa",
   "metadata": {},
   "source": [
    "SALIDA: \n",
    "```bash\n",
    "jpg/assorted_colour_laser_light.jpg  jpg/assorted_pebble_rocks.jpg\n",
    "```"
   ]
  },
  {
   "cell_type": "code",
   "execution_count": null,
   "id": "020d8068",
   "metadata": {},
   "outputs": [],
   "source": [
    "# Lista todos los ficheros situados en \"jpg\"\n",
    "# cuyo nombre NO comienze por los caracteres\n",
    "# de la 'b' a la 't'\n",
    "ls jpg/[!b-t]*                           #@solution@"
   ]
  },
  {
   "cell_type": "markdown",
   "id": "4dc1f60a",
   "metadata": {},
   "source": [
    "SALIDA: \n",
    "```bash\n",
    "jpg/assorted_colour_laser_light.jpg  jpg/waterfall_long_exposure.jpg\n",
    "jpg/assorted_pebble_rocks.jpg        jpg/yorkshire_terrier_dog.jpg\n",
    "jpg/waterfall_long_exposure_2.jpg\n",
    "```"
   ]
  },
  {
   "cell_type": "code",
   "execution_count": null,
   "id": "548fabb4",
   "metadata": {},
   "outputs": [],
   "source": [
    "# Lista todos los ficheros situados en cualquier subdirectorio\n",
    "# inmediato de \"image\" (bmp, gif, etc.) cuyo nombre contenga al menos un carácter numérico\n",
    " ls */*[0-9]*                           #@solution@"
   ]
  },
  {
   "cell_type": "markdown",
   "id": "c4192ad2",
   "metadata": {},
   "source": [
    "SALIDA: \n",
    "```bash\n",
    "jpg/waterfall_long_exposure_2.jpg\n",
    "```"
   ]
  },
  {
   "cell_type": "code",
   "execution_count": null,
   "id": "3b93668f",
   "metadata": {},
   "outputs": [],
   "source": [
    "# Lista todos los ficheros situados en cualquier subdirectorio\n",
    "# inmediato de \"image\" (bmp, gif, etc.) cuyo nombre contenga \n",
    "# las cadenas \"fall\" o \"bri\", y acaben con la letra 'g' o 'f'\n",
    " ls */*{fall,bri}*[gf]                           #@solution@"
   ]
  },
  {
   "cell_type": "markdown",
   "id": "1298f7f0",
   "metadata": {},
   "source": [
    "SALIDA: \n",
    "```bash\n",
    "jpg/waterfall_long_exposure_2.jpg  tiff/london_bridge.tiff\n",
    "jpg/waterfall_long_exposure.jpg    tiff/rolled_fabric_stack.tiff\n",
    "```"
   ]
  },
  {
   "cell_type": "code",
   "execution_count": null,
   "id": "095b0a98",
   "metadata": {},
   "outputs": [],
   "source": [
    "# Cámbiate al directorio padre\n",
    "cd ..                           #@solution@"
   ]
  },
  {
   "cell_type": "code",
   "execution_count": null,
   "id": "afae6aee",
   "metadata": {},
   "outputs": [],
   "source": [
    "# Lista su contenido\n",
    "ls"
   ]
  },
  {
   "cell_type": "markdown",
   "id": "9a7ad13e",
   "metadata": {},
   "source": [
    "SALIDA: \n",
    "```bash\n",
    "audio  document  image  LICENSE  README.md  video\n",
    "```"
   ]
  },
  {
   "cell_type": "code",
   "execution_count": null,
   "id": "bdd37b93-5b2a-454b-9b5a-c2819c4dc677",
   "metadata": {},
   "outputs": [],
   "source": [
    "# Crea una copia íntegra del directorio \"document\" llamada \"docu\" (Pista: opción -r)\n",
    "cp -r document docu                           #@solution@"
   ]
  },
  {
   "cell_type": "code",
   "execution_count": null,
   "id": "1169c3d4",
   "metadata": {},
   "outputs": [],
   "source": [
    "# Lista el contenido de los directorios \"txt\", \"rtf\" y \"xls\" (situados dentro de \"docu\")\n",
    "ls docu/txt docu/xls docu/rtf                           #@solution@"
   ]
  },
  {
   "cell_type": "markdown",
   "id": "10754ebb",
   "metadata": {},
   "source": [
    "SALIDA: \n",
    "```bash\n",
    "docu/rtf:\n",
    "file-sample_100kB.rtf  file-sample_300kB.rtf\n",
    "file-sample_1MB.rtf    file-sample_500kB.rtf\n",
    "\n",
    "docu/txt:\n",
    "sample1.txt  sample2.txt  sample3.txt\n",
    "\n",
    "docu/xls:\n",
    "file_example_XLS_1000.xls  file_example_XLS_5000.xls  sample2.xls\n",
    "file_example_XLS_100.xls   file_example_XLS_50.xls    sample3.xls\n",
    "file_example_XLS_10.xls    sample1.xls\n",
    "```"
   ]
  },
  {
   "cell_type": "code",
   "execution_count": null,
   "id": "c5e70b8f",
   "metadata": {},
   "outputs": [],
   "source": [
    "# Muestra cuál es el directorio actual\n",
    "pwd"
   ]
  },
  {
   "cell_type": "code",
   "execution_count": null,
   "id": "7afb2190-f4f6-4d6f-8012-b08ebd3ba2f2",
   "metadata": {},
   "outputs": [],
   "source": [
    "# Crea cuatro directorios llamados samples1 samples2 samples3 samples4\n",
    "mkdir -p samples1 samples2 samples3 samples4                           #@solution@"
   ]
  },
  {
   "cell_type": "code",
   "execution_count": null,
   "id": "5fc4385d-2d79-4752-b912-18ba519ecb22",
   "metadata": {},
   "outputs": [],
   "source": [
    "# Copia el fichero \"sample1.txt\" (situado en \"docu/txt\")\n",
    "# al directorio \"samples1\"\n",
    "cp docu/txt/sample1.txt samples1                           #@solution@"
   ]
  },
  {
   "cell_type": "code",
   "execution_count": null,
   "id": "752cbc4a-fd2d-43e4-97b0-8008c23c6891",
   "metadata": {},
   "outputs": [],
   "source": [
    "# Copia el fichero \"sample2.txt\" (situado en \"docu/txt\")\n",
    "# al directorio \"samples1\", de forma que la nueva copia se llame \"ejemplo2.txt\"\n",
    "cp docu/txt/sample2.txt samples1/ejemplo2.txt                           #@solution@"
   ]
  },
  {
   "cell_type": "code",
   "execution_count": null,
   "id": "d519c0ba-9344-497b-b68a-cd3c29f41076",
   "metadata": {},
   "outputs": [],
   "source": [
    "# Mueve el fichero \"sample3.txt\" (situado en \"docu/txt\")\n",
    "# al directorio \"samples1\", de forma que ahora se llame \"ejemplo3.txt\"\n",
    "mv docu/txt/sample3.txt samples1/ejemplo3.txt                           #@solution@"
   ]
  },
  {
   "cell_type": "code",
   "execution_count": null,
   "id": "fd733415-d046-4698-8a60-c3304e6edd14",
   "metadata": {},
   "outputs": [],
   "source": [
    "# Mueve los ficheros cuyo nombre contenga la cadena \"sample\" (situados en \"docu/rft\")\n",
    "# al directorio \"samples1\"\n",
    "mv docu/rtf/*sample* samples1/                           #@solution@"
   ]
  },
  {
   "cell_type": "code",
   "execution_count": null,
   "id": "10c83c16-d72d-4b4e-9f69-aa63c7a7aa56",
   "metadata": {},
   "outputs": [],
   "source": [
    "ls samples1                           #@solution@"
   ]
  },
  {
   "cell_type": "markdown",
   "id": "b78cf141",
   "metadata": {},
   "source": [
    "SALIDA: \n",
    "```bash\n",
    "ejemplo2.txt  file-sample_100kB.rtf  file-sample_300kB.rtf  sample1.txt\n",
    "ejemplo3.txt  file-sample_1MB.rtf    file-sample_500kB.rtf\n",
    "```"
   ]
  },
  {
   "cell_type": "code",
   "execution_count": null,
   "id": "f689cbcc-97fd-4da4-8848-682c180c68ee",
   "metadata": {},
   "outputs": [],
   "source": [
    "# Borra los ficheros del directorio \"sample1\" cuyo nombre contenga dos caracteres numéricos consecutivos\n",
    "rm samples1/*[0-9][0-9]*                          #@solution@"
   ]
  },
  {
   "cell_type": "code",
   "execution_count": null,
   "id": "e2567a5b-191f-44c8-b0fd-b7aa0604fb96",
   "metadata": {},
   "outputs": [],
   "source": [
    "ls samples1"
   ]
  },
  {
   "cell_type": "markdown",
   "id": "883c589b",
   "metadata": {},
   "source": [
    "SALIDA: \n",
    "```bash\n",
    "ejemplo2.txt  ejemplo3.txt  file-sample_1MB.rtf  sample1.txt\n",
    "```"
   ]
  },
  {
   "cell_type": "code",
   "execution_count": null,
   "id": "a3fed0a3-f1ec-461b-a226-d0002ccf4cb3",
   "metadata": {},
   "outputs": [],
   "source": [
    "# Muestra el contenido del fichero sample1.txt situado en \"samples1\"\n",
    "cat samples1/sample1.txt                          #@solution@"
   ]
  },
  {
   "cell_type": "markdown",
   "id": "178406c5",
   "metadata": {},
   "source": [
    "SALIDA: \n",
    "```bash\n",
    "Utilitatis causa amicitia est quaesita.\n",
    "Lorem ipsum dolor sit amet, consectetur adipiscing elit. Collatio igitur ista te nihil iuvat. Honesta oratio, Socratica, Platonis etiam. Primum in nostrane potestate est, quid meminerimus? Duo Reges: constructio interrete. Quid, si etiam iucunda memoria est praeteritorum malorum? Si quidem, inquit, tollerem, sed relinquo. An nisi populari fama?\n",
    "\n",
    "Quamquam id quidem licebit iis existimare, qui legerint. Summum a vobis bonum voluptas dicitur. At hoc in eo M. Refert tamen, quo modo. Quid sequatur, quid repugnet, vident. Iam id ipsum absurdum, maximum malum neglegi.\n",
    "```"
   ]
  },
  {
   "cell_type": "code",
   "execution_count": null,
   "id": "311b2e1b-5aa9-4c8f-859a-791bf47e14c0",
   "metadata": {},
   "outputs": [],
   "source": [
    "# Copia los ficheros que empiecen por f y acaben por .xls (situados en \"docu/xls\")\n",
    "# al directorio \"samples2\"\n",
    "cp docu/xls/f*.xls samples2                          #@solution@"
   ]
  },
  {
   "cell_type": "code",
   "execution_count": null,
   "id": "9d7e89ec",
   "metadata": {},
   "outputs": [],
   "source": [
    "ls samples2"
   ]
  },
  {
   "cell_type": "markdown",
   "id": "4fd1dbe8",
   "metadata": {},
   "source": [
    "SALIDA: \n",
    "```bash\n",
    "file_example_XLS_1000.xls  file_example_XLS_10.xls    file_example_XLS_50.xls\n",
    "file_example_XLS_100.xls   file_example_XLS_5000.xls\n",
    "```"
   ]
  },
  {
   "cell_type": "code",
   "execution_count": null,
   "id": "bb58f341-0ddc-45c7-aab4-1cab124a2b05",
   "metadata": {},
   "outputs": [],
   "source": [
    "# Copia todos los ficheros situados en \"samples1\"\n",
    "# al directorio \"samples2\"\n",
    "cp samples1/* samples2                          #@solution@"
   ]
  },
  {
   "cell_type": "code",
   "execution_count": null,
   "id": "a9da4312-0dc2-4c5b-bc49-01d21563f8d5",
   "metadata": {},
   "outputs": [],
   "source": [
    "ls samples2"
   ]
  },
  {
   "cell_type": "markdown",
   "id": "e4df0cee",
   "metadata": {},
   "source": [
    "SALIDA: \n",
    "```bash\n",
    "ejemplo2.txt               file_example_XLS_100.xls   file_example_XLS_50.xls\n",
    "ejemplo3.txt               file_example_XLS_10.xls    file-sample_1MB.rtf\n",
    "file_example_XLS_1000.xls  file_example_XLS_5000.xls  sample1.txt\n",
    "```"
   ]
  },
  {
   "cell_type": "code",
   "execution_count": null,
   "id": "0c7e705a-7cc4-4de8-ac01-00c47e17c4d0",
   "metadata": {},
   "outputs": [],
   "source": [
    "# Renombra el fichero \"file_example_XLS_100.xls\" en la carpeta \"samples2\"\n",
    "# para que pase a llamarse \"ejemplo_100.xls\"\n",
    "mv samples2/file_example_XLS_100.xls samples2/ejemplo_100.xls                          #@solution@"
   ]
  },
  {
   "cell_type": "code",
   "execution_count": null,
   "id": "73f6dad7-63ce-49ff-897d-17c568882075",
   "metadata": {},
   "outputs": [],
   "source": [
    "# Borra los ficheros cuyo nombre contenga las cadena \"sample\" o \"example\", situados en \n",
    "# el directorio \"samples2\"\n",
    "rm samples2/*{sample,example}*                          #@solution@"
   ]
  },
  {
   "cell_type": "code",
   "execution_count": null,
   "id": "8068f6dc-4144-425d-b815-0ee63f1fb862",
   "metadata": {},
   "outputs": [],
   "source": [
    "ls samples2"
   ]
  },
  {
   "cell_type": "markdown",
   "id": "95174a49",
   "metadata": {},
   "source": [
    "SALIDA: \n",
    "```bash\n",
    "ejemplo_100.xls  ejemplo2.txt  ejemplo3.txt\n",
    "```"
   ]
  },
  {
   "cell_type": "code",
   "execution_count": null,
   "id": "3490441b-113e-4eab-8eba-07ef1add549d",
   "metadata": {},
   "outputs": [],
   "source": [
    "# Copia los ficheros cuyo nombre comience por \"sample\" que estén\n",
    "# situados en cualquier subdirectorio inmediato de \"docu\" (p.ej. docu/txt, docu/pdf, ...).\n",
    "# al directorio \"samples3\"\n",
    "cp docu/*/sample* samples3                          #@solution@"
   ]
  },
  {
   "cell_type": "code",
   "execution_count": null,
   "id": "2b942712-e887-41ff-bfd9-cf07a55a5d78",
   "metadata": {},
   "outputs": [],
   "source": [
    "ls samples3"
   ]
  },
  {
   "cell_type": "markdown",
   "id": "d81f4854",
   "metadata": {},
   "source": [
    "SALIDA: \n",
    "```bash\n",
    "sample1.doc   sample1.xls   sample2.pdf   sample3.docx  sample4.docx\n",
    "sample1.docx  sample1.xlsx  sample2.txt   sample3.pdf\n",
    "sample1.pdf   sample2.doc   sample2.xls   sample3.xls\n",
    "sample1.txt   sample2.docx  sample2.xlsx  sample3.xlsx\n",
    "```"
   ]
  },
  {
   "cell_type": "code",
   "execution_count": null,
   "id": "f725a604-3b33-4583-b67d-b45999d084ae",
   "metadata": {},
   "outputs": [],
   "source": [
    "# Borra los ficheros de \"samples3\" cuyo nombre contenga el carácter x o el carácter f\n",
    "rm samples3/*[xf]*                          #@solution@"
   ]
  },
  {
   "cell_type": "code",
   "execution_count": null,
   "id": "b30dbd32-2c20-4ce0-bccf-e72c4453be4e",
   "metadata": {},
   "outputs": [],
   "source": [
    "ls samples3"
   ]
  },
  {
   "cell_type": "markdown",
   "id": "1d6cf517",
   "metadata": {},
   "source": [
    "SALIDA: \n",
    "```bash\n",
    "sample1.doc  sample2.doc\n",
    "```"
   ]
  },
  {
   "cell_type": "code",
   "execution_count": null,
   "id": "4e48928a-8d59-4506-894a-7c2620a2e6ab",
   "metadata": {},
   "outputs": [],
   "source": [
    "# Copia los ficheros cuyo nombre termine por \"pdf\" o \"doc\",\n",
    "# situados en cualquier subdirectorio inmediato de \"docu\", al directorio samples4\n",
    "cp docu/*/*.{doc,pdf} samples4                          #@solution@"
   ]
  },
  {
   "cell_type": "code",
   "execution_count": null,
   "id": "4c8a20a8-5843-467a-b87a-773ac0763843",
   "metadata": {},
   "outputs": [],
   "source": [
    "ls samples4"
   ]
  },
  {
   "cell_type": "markdown",
   "id": "0812c9d1",
   "metadata": {},
   "source": [
    "SALIDA: \n",
    "```bash\n",
    "file-example_PDF_1MB.pdf     file-sample_150kB.pdf  sample1.doc  sample2.pdf\n",
    "file-example_PDF_500_kB.pdf  file-sample_1MB.doc    sample1.pdf  sample3.pdf\n",
    "file-sample_100kB.doc        file-sample_500kB.doc  sample2.doc\n",
    "```"
   ]
  },
  {
   "cell_type": "code",
   "execution_count": null,
   "id": "a70e4ea2-3253-4dfb-928f-2a0e7880ff50",
   "metadata": {},
   "outputs": [],
   "source": [
    "# Copia los ficheros cuyo nombre empiece por \"sample\",\n",
    "# situados en los directorios \"docx\" o \"xlsx\" al directorio \"samples4\"\n",
    "cp docu/{docx,xlsx}/sample* samples4                          #@solution@"
   ]
  },
  {
   "cell_type": "code",
   "execution_count": null,
   "id": "a19663a4-0a58-4a64-875a-a4ff3b117620",
   "metadata": {},
   "outputs": [],
   "source": [
    "ls samples4"
   ]
  },
  {
   "cell_type": "markdown",
   "id": "8eed122c",
   "metadata": {},
   "source": [
    "SALIDA: \n",
    "```bash\n",
    "file-example_PDF_1MB.pdf     file-sample_500kB.doc  sample2.doc   sample3.pdf\n",
    "file-example_PDF_500_kB.pdf  sample1.doc            sample2.docx  sample3.xlsx\n",
    "file-sample_100kB.doc        sample1.docx           sample2.pdf   sample4.docx\n",
    "file-sample_150kB.pdf        sample1.pdf            sample2.xlsx\n",
    "file-sample_1MB.doc          sample1.xlsx           sample3.docx\n",
    "```"
   ]
  },
  {
   "cell_type": "code",
   "execution_count": null,
   "id": "9fa194e2-c4ff-4b87-85ca-57e2a9072136",
   "metadata": {},
   "outputs": [],
   "source": [
    "# Borra los ficheros de \"samples4\" que terminen en \"docx\" y contengan un carácter numérico menor que 4\n",
    "rm samples4/*[1-3]*docx                          #@solution@"
   ]
  },
  {
   "cell_type": "code",
   "execution_count": null,
   "id": "cb2bfb30-9681-4a5a-b46b-824e8db960a8",
   "metadata": {},
   "outputs": [],
   "source": [
    "# Lista los ficheros de \"samples4\" que acaben en \".docx\"\n",
    "ls samples4/*.docx                          #@solution@"
   ]
  },
  {
   "cell_type": "markdown",
   "id": "ae8499da",
   "metadata": {},
   "source": [
    "SALIDA: \n",
    "```bash\n",
    "samples4/sample4.docx\n",
    "```"
   ]
  },
  {
   "cell_type": "code",
   "execution_count": null,
   "id": "3849c12e",
   "metadata": {},
   "outputs": [],
   "source": [
    "# Mueve al directorio padre los ficheros de \"samples4\" cuyo nombre\n",
    "# contenga un carácter numérico seguido de una letra mayúscula o minúscula\n",
    "mv samples4/*[0-9][A-Za-z]* ..                          #@solution@"
   ]
  },
  {
   "cell_type": "code",
   "execution_count": null,
   "id": "cfbe52e9",
   "metadata": {},
   "outputs": [],
   "source": [
    "# Lista los ficheros del directorio padre que empiecen por \"file\"\n",
    "ls ../file*                          #@solution@"
   ]
  },
  {
   "cell_type": "markdown",
   "id": "08c5f710",
   "metadata": {},
   "source": [
    "SALIDA: \n",
    "```bash\n",
    "../file-example_PDF_1MB.pdf  ../file-sample_150kB.pdf  ../file-sample_500kB.doc\n",
    "../file-sample_100kB.doc     ../file-sample_1MB.doc\n",
    "```"
   ]
  },
  {
   "cell_type": "code",
   "execution_count": null,
   "id": "dfc2cc65",
   "metadata": {},
   "outputs": [],
   "source": [
    "# Lista el contenido del directorio \"src\" que hay dentro de \"nano\"\n",
    "# (Mira el árbol de directorios al principio del notebook para\n",
    "# averiguar la ruta relativa a \"nano\" desde \"sample_files\")\n",
    "ls ../nano/src                          #@solution@"
   ]
  },
  {
   "cell_type": "markdown",
   "id": "ffdec7a1",
   "metadata": {},
   "source": [
    "SALIDA: \n",
    "```bash\n",
    "browser.c  definitions.h  history.c    prompt.c      text.c\n",
    "chars.c    files.c        Makefile.am  prototypes.h  utils.c\n",
    "color.c    global.c       move.c       rcfile.c      winio.c\n",
    "cut.c      help.c         nano.c       search.c\n",
    "```"
   ]
  },
  {
   "cell_type": "code",
   "execution_count": null,
   "id": "81ea1b94",
   "metadata": {},
   "outputs": [],
   "source": [
    "# Crea un directorio llamado \"source\"\n",
    "mkdir source                          #@solution@"
   ]
  },
  {
   "cell_type": "code",
   "execution_count": null,
   "id": "bad4588c",
   "metadata": {},
   "outputs": [],
   "source": [
    "# Copia al directorio \"source\" los ficheros del directorio \"src\" que hay en \"nano\" \n",
    "# cuyo nombre acaba en \".h\"\n",
    "cp ../nano/src/*.h source                          #@solution@"
   ]
  },
  {
   "cell_type": "code",
   "execution_count": null,
   "id": "e6dc3ec4",
   "metadata": {},
   "outputs": [],
   "source": [
    "ls source"
   ]
  },
  {
   "cell_type": "markdown",
   "id": "52e9a754",
   "metadata": {},
   "source": [
    "SALIDA: \n",
    "```bash\n",
    "definitions.h  prototypes.h\n",
    "```"
   ]
  },
  {
   "cell_type": "code",
   "execution_count": null,
   "id": "b8f0c8d8",
   "metadata": {},
   "outputs": [],
   "source": [
    "# Copia al directorio \"source\" los ficheros del directorio \"src\" que hay en \"nano\" \n",
    "# cuyo nombre empieza por \"c\" seguido de una vocal\n",
    "cp ../nano/src/c[aeiou]* source                          #@solution@"
   ]
  },
  {
   "cell_type": "code",
   "execution_count": null,
   "id": "63137629",
   "metadata": {},
   "outputs": [],
   "source": [
    "ls source"
   ]
  },
  {
   "cell_type": "markdown",
   "id": "dff234d1",
   "metadata": {},
   "source": [
    "SALIDA: \n",
    "```bash\n",
    "color.c  cut.c  definitions.h  prototypes.h\n",
    "```"
   ]
  },
  {
   "cell_type": "code",
   "execution_count": null,
   "id": "7fa986f9",
   "metadata": {},
   "outputs": [],
   "source": [
    "# Copia al directorio \"source\" los ficheros del directorio \"src\" que hay en \"nano\" \n",
    "# cuyo nombre contiene la cadena \"to\" o la cadena \"pro\", y acaben por \".c\"\n",
    "cp ../nano/src/*{to,pro}*.c source                          #@solution@"
   ]
  },
  {
   "cell_type": "code",
   "execution_count": null,
   "id": "1ade3b86",
   "metadata": {},
   "outputs": [],
   "source": [
    "ls source"
   ]
  },
  {
   "cell_type": "markdown",
   "id": "2dd2401f",
   "metadata": {},
   "source": [
    "SALIDA: \n",
    "```bash\n",
    "color.c  cut.c  definitions.h  history.c  prompt.c  prototypes.h\n",
    "```"
   ]
  },
  {
   "cell_type": "markdown",
   "id": "326e17f0-8f7d-4f80-880b-22cbbb025b36",
   "metadata": {},
   "source": [
    "### Permisos sobre directorios"
   ]
  },
  {
   "cell_type": "code",
   "execution_count": null,
   "id": "7f7bb972-aa76-410f-bc41-a94edd47425b",
   "metadata": {},
   "outputs": [],
   "source": [
    "# Ejecuta esta celda para restaurar el estado de los ficheros\n",
    "# Para ello, necesitas colocar el 'ficheros_ejemplo.zip' en tu directorio personal\n",
    "cd\n",
    "chmod -Rf 700 ficheros_ejemplo\n",
    "rm -rf ficheros_ejemplo\n",
    "unzip -q ficheros_ejemplo.zip\n",
    "cd ~/ficheros_ejemplo/sample_files"
   ]
  },
  {
   "cell_type": "code",
   "execution_count": null,
   "id": "0c3e79d2-00b8-4073-99ac-6da6d08d40cd",
   "metadata": {},
   "outputs": [],
   "source": [
    "ls -l"
   ]
  },
  {
   "cell_type": "code",
   "execution_count": null,
   "id": "aca47bcf-3558-4002-b05c-0037678e68fd",
   "metadata": {},
   "outputs": [],
   "source": [
    "# Copia el contenido íntegro del directorio \"video\"  a un\n",
    "# nuevo directorio llamado \"video-backup\" situado en el mismo directorio\n",
    "cp -r video video-backup                          #@solution@"
   ]
  },
  {
   "cell_type": "code",
   "execution_count": null,
   "id": "79b77927-dfb1-4b7d-88ac-cf2cfdf142c6",
   "metadata": {},
   "outputs": [],
   "source": [
    "ls -l"
   ]
  },
  {
   "cell_type": "code",
   "execution_count": null,
   "id": "b0acd4e3-c717-4231-99fe-49e5123cd9f5",
   "metadata": {},
   "outputs": [],
   "source": [
    "# Mueve al directorio \"video\" los ficheros que hay en su subdirectorio \"mp4\" \n",
    "# cuyo nombre comience por 'c' (NOTA: Utiliza comodines)\n",
    "mv video/mp4/c*mp4 video                          #@solution@"
   ]
  },
  {
   "cell_type": "code",
   "execution_count": null,
   "id": "dcd96eae-b9b1-490b-8a44-98463b589a80",
   "metadata": {},
   "outputs": [],
   "source": [
    "# Listado largo de los contenidos del directorio  \"video\".\n",
    "ls -l video/                          #@solution@"
   ]
  },
  {
   "cell_type": "code",
   "execution_count": null,
   "id": "90ed252c-508d-46fd-89fa-f8fda4eccc44",
   "metadata": {},
   "outputs": [],
   "source": [
    "# Cambia los permisos del directorio \"video\" para \n",
    "# que el propietario pueda leer y escribir, y nadie más tenga acceso\n",
    "chmod 600 video                          #@solution@"
   ]
  },
  {
   "cell_type": "code",
   "execution_count": null,
   "id": "ef0c6092-e38e-4849-a0b3-3b56cddf2fcb",
   "metadata": {},
   "outputs": [],
   "source": [
    "ls -ld video"
   ]
  },
  {
   "cell_type": "code",
   "execution_count": null,
   "id": "96ce003f-a792-42cd-b133-85a7534b4f3f",
   "metadata": {},
   "outputs": [],
   "source": [
    "# Intenta cambiarte al directorio  \"video\".\n",
    "cd video                          #@solution@"
   ]
  },
  {
   "cell_type": "markdown",
   "id": "8d9c5632-f6cf-4460-977e-e3650e6b97b3",
   "metadata": {},
   "source": [
    "PREGUNTA: ¿Por qué no puedes cambiarte al directorio?"
   ]
  },
  {
   "cell_type": "markdown",
   "id": "1b74940b-7ee5-495d-8bcb-b1571982a05d",
   "metadata": {},
   "source": [
    "RESPUESTA:\n",
    "\n",
    "Porque el directorio \"video\" no tiene permiso de ejecución, que es el necesario para poder acceder (\"cd\"). @solution@"
   ]
  },
  {
   "cell_type": "code",
   "execution_count": null,
   "id": "64a4d45d-fb1f-4f78-a951-aa818647b8dc",
   "metadata": {},
   "outputs": [],
   "source": [
    "# Vuelve a cambiar los permisos del directorio ahora para\n",
    "# que el propietario pueda leer y ejecutar, y nadie más tenga acceso\n",
    "chmod 500 video                          #@solution@"
   ]
  },
  {
   "cell_type": "code",
   "execution_count": null,
   "id": "79b825ce-900c-4d1b-be74-f54f1dbbd545",
   "metadata": {},
   "outputs": [],
   "source": [
    "# Listado largo de los contenidos del directorio actual\n",
    "ls -l"
   ]
  },
  {
   "cell_type": "code",
   "execution_count": null,
   "id": "5ffbca7e-cdaa-4164-a762-c067e2ab65bd",
   "metadata": {},
   "outputs": [],
   "source": [
    "# Listado largo de los contenidos del directorio  \"video\".\n",
    "ls -l video/                          #@solution@"
   ]
  },
  {
   "cell_type": "code",
   "execution_count": null,
   "id": "0a7e196a-1ee7-4010-af68-95ca073d1cdc",
   "metadata": {},
   "outputs": [],
   "source": [
    "# Elimina los ficheros del directorio \"video\" que contengan la cadena \"in\". ¿Puedes?\n",
    "rm video/*in*                          #@solution@"
   ]
  },
  {
   "cell_type": "markdown",
   "id": "4d6f3011-571a-410c-9289-d0a5c6d6fa7e",
   "metadata": {},
   "source": [
    "PREGUNTA: ¿Puedes borrar los ficheros? ¿Por qué?"
   ]
  },
  {
   "cell_type": "markdown",
   "id": "ee74c35e-faa7-40e2-99a0-1d23abc22435",
   "metadata": {},
   "source": [
    "RESPUESTA:\n",
    "\n",
    "Porque nadie (ni siquiera el propietario) tiene permisos de escritura sobre el directorio \"video\" y por tanto no se pueden eliminar ficheros de dicho directorio. @solution@"
   ]
  },
  {
   "cell_type": "code",
   "execution_count": null,
   "id": "785ff3bb-952a-4f59-a461-a88f531be2bc",
   "metadata": {},
   "outputs": [],
   "source": [
    "# Elimina todos los ficheros del directorio \"videos/mp4\". ¿Puedes?\n",
    "rm video/mp4/*                          #@solution@"
   ]
  },
  {
   "cell_type": "code",
   "execution_count": null,
   "id": "3dafc374-166c-44dd-8ddf-465909d98b83",
   "metadata": {},
   "outputs": [],
   "source": [
    "# Haz un listado del directorio \"video/mp4\".\n",
    "ls video/mp4                          #@solution@"
   ]
  },
  {
   "cell_type": "markdown",
   "id": "d400081e-da2b-4e48-b6bf-0b3127b1281b",
   "metadata": {},
   "source": [
    "PREGUNTA: ¿Es posible borrar dichos ficheros?"
   ]
  },
  {
   "cell_type": "markdown",
   "id": "17dc836d-3429-4b29-ab3d-9e5c35e734ab",
   "metadata": {},
   "source": [
    "RESPUESTA: \n",
    "\n",
    "Sí, porque el usuario actual (propietario) sí tiene permisos de escritura sobre el directorio \"mp4\". @solution@"
   ]
  },
  {
   "cell_type": "code",
   "execution_count": null,
   "id": "34a5009b-bc54-4834-89c5-b4bdd3722f0f",
   "metadata": {},
   "outputs": [],
   "source": [
    "ls -l video"
   ]
  },
  {
   "cell_type": "markdown",
   "id": "6a43509c-00a6-4312-9f24-2fb592dc5518",
   "metadata": {},
   "source": [
    "PREGUNTA: ¿Cuál es el tamaño del fichero `couple_jogging.mp4`? ¿Es posible modificar su contenido?"
   ]
  },
  {
   "cell_type": "markdown",
   "id": "c4fb0c2d-9825-473d-911d-c1a36bc26ca2",
   "metadata": {},
   "source": [
    "RESPUESTA:\n",
    "\n",
    "Ocupa casi 700Kbytes. Sí es posible, porque tiene permiso de escritura. @solution@"
   ]
  },
  {
   "cell_type": "code",
   "execution_count": null,
   "id": "f3e81e44-9e1b-475f-8e83-4bc49ea29d26",
   "metadata": {},
   "outputs": [],
   "source": [
    "# Ejecuta esta celda para tratar de \"truncar\" el fichero y hacer que su tamaño sea 0:\n",
    "echo -n > video/couple_jogging.mp4"
   ]
  },
  {
   "cell_type": "code",
   "execution_count": null,
   "id": "2620e400-ead8-4717-8296-6ede0da866aa",
   "metadata": {},
   "outputs": [],
   "source": [
    "ls -l video/"
   ]
  },
  {
   "cell_type": "markdown",
   "id": "c150cab4-088c-442a-b224-9281bad20463",
   "metadata": {},
   "source": [
    "Observa que el tamaño del fichero `couple_jogging.mp4` ahora es 0. "
   ]
  },
  {
   "cell_type": "code",
   "execution_count": null,
   "id": "3d4980db-2341-4e0d-80a8-f0e8c82f3f6a",
   "metadata": {},
   "outputs": [],
   "source": [
    "# Establece los permisos adecuados para que el siguiente comando no \n",
    "# pueda \"vaciar\" el contenido del fichero \"video/cliff_waterfall.mp4\"\n",
    "# (no se pueda modificar su contenido)\n",
    "chmod 400 video/cliff_waterfall.mp4                          #@solution@"
   ]
  },
  {
   "cell_type": "code",
   "execution_count": null,
   "id": "2412646c-a93b-475a-9040-dcea47bb14dc",
   "metadata": {},
   "outputs": [],
   "source": [
    "# Ejecuta esta celda para comprobar si se puede modificar el fichero\n",
    "# echo -n: Imprime \"nada\". Y redirigie \"nada\" a un fichero. Si los permisos\n",
    "# no son los adecuados, esto hará que su tamaño pase a ser 0 bytes.\n",
    "echo -n > video/cliff_waterfall.mp4"
   ]
  },
  {
   "cell_type": "code",
   "execution_count": null,
   "id": "31bdf1bd-4d17-4297-9dda-e61051ac695e",
   "metadata": {},
   "outputs": [],
   "source": [
    "# Haz un listado largo del fichero anterior (cliff_waterfall.mp4).\n",
    "ls -lh video/cliff_waterfall.mp4                          #@solution@"
   ]
  },
  {
   "cell_type": "markdown",
   "id": "736ce29e-af9a-4387-a7d6-287f667a2b41",
   "metadata": {},
   "source": [
    "¿De qué permisos depende que el contenido del fichero se pueda modificar?\n",
    "\n",
    "RESPUESTA: \n",
    "\n",
    "De los propios permisos del fichero, pero no de los permisos del directorio donde está ubicado el fichero."
   ]
  },
  {
   "cell_type": "code",
   "execution_count": null,
   "id": "8e1220b6-28c5-4976-82ee-00bac3b0397d",
   "metadata": {},
   "outputs": [],
   "source": [
    "ls -l"
   ]
  },
  {
   "cell_type": "markdown",
   "id": "0873446a-e8a0-4eb8-b4db-abb10ec13591",
   "metadata": {},
   "source": [
    "PREGUNTA: Su contenido no se debería poder cambiar, pero ¿es posible eliminar el fichero `cliff_waterfall.mp4`?"
   ]
  },
  {
   "cell_type": "code",
   "execution_count": null,
   "id": "d074baa0-f00e-40fc-b69c-e844158ca442",
   "metadata": {},
   "outputs": [],
   "source": [
    "rm -rf video/cliff_waterfall.mp4"
   ]
  },
  {
   "cell_type": "markdown",
   "id": "9fd3b1b8-dd91-4dc4-9e9e-b9825bfc6943",
   "metadata": {},
   "source": [
    "RESPUESTA (razonada):\n",
    "\n",
    "No se puede, porque el directorio donde está no tiene permiso de escritura para el usuario actual (propietario). @solution@"
   ]
  },
  {
   "cell_type": "code",
   "execution_count": null,
   "id": "7e7cdaf7-ca0b-436b-bf5e-6e2a174cfe7a",
   "metadata": {},
   "outputs": [],
   "source": [
    "# Elimina todos los permisos del directorio  \"video\".\n",
    "chmod 000 video                          #@solution@"
   ]
  },
  {
   "cell_type": "code",
   "execution_count": null,
   "id": "bbcf87f0-88d7-4062-b11f-aa9414511385",
   "metadata": {},
   "outputs": [],
   "source": [
    "# ¿Puedes listarlo? \n",
    "ls video                          #@solution@"
   ]
  },
  {
   "cell_type": "code",
   "execution_count": null,
   "id": "8f6d94eb-bb31-43c7-90ff-76b9ec22989f",
   "metadata": {
    "code_folding": []
   },
   "outputs": [],
   "source": [
    "# Establece todos los permisos para el propietario y el grupo del directorio \"video\",\n",
    "# y permisos de lectura y ejecución para el resto de usuarios\n",
    "chmod 775 video                          #@solution@"
   ]
  },
  {
   "cell_type": "code",
   "execution_count": null,
   "id": "1d8f2da5-ed0a-4c2b-b140-6873037a6f78",
   "metadata": {},
   "outputs": [],
   "source": [
    "ls -l"
   ]
  },
  {
   "cell_type": "code",
   "execution_count": null,
   "id": "0d41a8e9-4194-47de-af98-a201ffcd49ca",
   "metadata": {},
   "outputs": [],
   "source": [
    "# Borra recursivamente todo lo que hay dentro del directorio \"video\" \n",
    "# usando para ello la opción \"rf\" (sin que pida confirmación)\n",
    "rm -rf video                          #@solution@"
   ]
  },
  {
   "cell_type": "code",
   "execution_count": null,
   "id": "10882af5-3bb5-480f-a5d2-86f04bb6d145",
   "metadata": {},
   "outputs": [],
   "source": [
    "# Renombra el directorio \"video-backup\" para que se llame \"video\"\n",
    "mv video-backup video                          #@solution@"
   ]
  },
  {
   "cell_type": "code",
   "execution_count": null,
   "id": "854289b3-9ff5-478d-a35c-19979d431003",
   "metadata": {},
   "outputs": [],
   "source": [
    "ls -l"
   ]
  }
 ],
 "metadata": {
  "kernelspec": {
   "display_name": "Bash",
   "language": "bash",
   "name": "bash"
  },
  "language_info": {
   "codemirror_mode": "shell",
   "file_extension": ".sh",
   "mimetype": "text/x-sh",
   "name": "bash"
  },
  "toc": {
   "base_numbering": 1,
   "nav_menu": {},
   "number_sections": true,
   "sideBar": true,
   "skip_h1_title": true,
   "title_cell": "Table of Contents",
   "title_sidebar": "Contents",
   "toc_cell": false,
   "toc_position": {
    "height": "calc(100% - 180px)",
    "left": "10px",
    "top": "150px",
    "width": "296px"
   },
   "toc_section_display": true,
   "toc_window_display": false
  }
 },
 "nbformat": 4,
 "nbformat_minor": 5
}
