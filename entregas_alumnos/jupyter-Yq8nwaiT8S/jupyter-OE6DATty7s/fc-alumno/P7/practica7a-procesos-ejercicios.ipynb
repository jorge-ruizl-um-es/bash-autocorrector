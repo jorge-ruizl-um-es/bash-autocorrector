{
 "cells": [
  {
   "cell_type": "markdown",
   "id": "8e983960",
   "metadata": {},
   "source": [
    "# Ejercicios - Práctica 7a: Procesos en el *shell* de Linux."
   ]
  },
  {
   "cell_type": "markdown",
   "id": "5f67155f",
   "metadata": {},
   "source": [
    "<br>\n",
    "<font size=\"5\">  \n",
    "    <span style=\"color: red;\"><b>ATENCIÓN:</b><br>Se recomienda realizar los ejercicios propuestos de este boletín en un terminal independiente, ya que la mayoría de ellos <b>no pueden llevarse a cabo en Jupyter</b> debido a que es necesario interactuar con el programa lanzado mediante el teclado durante su ejecución. \n",
    "    </span>\n",
    "    <br><br>\n",
    "    Utiliza el <i>notebook</i> únicamente para responder a las preguntas o introducir el comando requerido en las celdas de código.\n",
    "</font>  \n"
   ]
  },
  {
   "cell_type": "markdown",
   "id": "c61e6f57",
   "metadata": {},
   "source": [
    "### Control de procesos en primer y segundo plano"
   ]
  },
  {
   "cell_type": "markdown",
   "id": "043a0cc4-5e30-43d1-ac07-a2ea82d73652",
   "metadata": {},
   "source": [
    "- Lanza el programa `gnome-text-editor` desde un terminal, y luego pulsa `Ctrl-C` para enviar al proceso una señal de terminación. ¿Puedes terminar su ejecución de esta forma? ¿Por qué? ¿A qué proceso le llega la señal `SIGINT` enviada al pulsar `Ctrl-C`?\n",
    "\n"
   ]
  },
  {
   "cell_type": "code",
   "execution_count": null,
   "id": "ee04f624-089d-471c-ba62-3cc2fe849fc2",
   "metadata": {},
   "outputs": [],
   "source": [
    "RESPUESTA: No, no se puede terminar la ejecución de gnome-text-editor utilizando Ctrl-C desde el terminal. La señal SIGINT enviada al pulsar Ctrl-C llega al proceso en primer plano asociado al terminal"
   ]
  },
  {
   "cell_type": "markdown",
   "id": "038ef6a8",
   "metadata": {},
   "source": [
    "Vuelve a lanzar el mismo programa, esta vez en segundo plano, y tras hacerlo, pulsa de nuevo `Ctrl-C`. ¿Puedes terminar su ejecución así? ¿Por qué? ¿A qué proceso le llega esta vez la señal `SIGINT`?\n",
    "\n"
   ]
  },
  {
   "cell_type": "code",
   "execution_count": null,
   "id": "d2eea050",
   "metadata": {},
   "outputs": [],
   "source": [
    "# Comando para lanzar gnome-text-editor en segundo plano\n",
    "gnome-text-editor &\n"
   ]
  },
  {
   "cell_type": "markdown",
   "id": "34002cc0",
   "metadata": {},
   "source": [
    "- ¿Qué comando utilizarías para poder terminar el comando lanzado anteriormente sabiendo su PID?"
   ]
  },
  {
   "cell_type": "code",
   "execution_count": null,
   "id": "91497829",
   "metadata": {},
   "outputs": [],
   "source": [
    "# Comando para terminar la ejecución del proceso lanzado a partir del nombre del programa\n",
    "kill <PID>\n"
   ]
  },
  {
   "cell_type": "markdown",
   "id": "71867479-8914-42fb-8ba8-ba12ad70dd14",
   "metadata": {},
   "source": [
    "PREGUNTA: Una vez terminada la ejecución del comando anterior, sin teclear ningún comando, presiona repetidamente `Ctrl-C`. ¿Qué ocurre cada vez que lo haces? ¿Es posible terminar la ejecución del shell de esa forma?\n"
   ]
  },
  {
   "cell_type": "markdown",
   "id": "37aad816-3363-4f07-80c1-26eed85d0adb",
   "metadata": {},
   "source": [
    "RESPUESTA: Ctrl-C envía una señal al proceso en ejecución en primer plano. No se puede terminar la ejecución de gnome-text-editor usando Ctrl-C si este está ejecutándose en un entorno gráfico de GNOME o similar.\n",
    "\n"
   ]
  },
  {
   "cell_type": "markdown",
   "id": "07b435d3-cc1f-4f5c-b34e-b3e1ef843226",
   "metadata": {},
   "source": [
    "- Lanza los programas `okteta` y `gnome-text-editor` desde el terminal, ambos en primer plano, como una secuencia de comandos consecutivos, en la misma línea de la siguiente celda:"
   ]
  },
  {
   "cell_type": "code",
   "execution_count": null,
   "id": "8bb9c999-744b-48b8-b30d-2d06cd04baec",
   "metadata": {},
   "outputs": [],
   "source": [
    "# Lanzar okteta y después gnome-text-editor, ambos en primer plano\n",
    "okteta; gnome-text-editor"
   ]
  },
  {
   "cell_type": "markdown",
   "id": "6ebc93a7",
   "metadata": {},
   "source": [
    "PREGUNTA: ¿Qué ha de ocurrir para que comience a ejecutarse el editor `gnome-text-editor`? ¿Cuándo se completa la ejecución de la celda del notebook?"
   ]
  },
  {
   "cell_type": "markdown",
   "id": "0a6506e5-d6e3-4ae3-ad20-56f2f3f60ac7",
   "metadata": {},
   "source": [
    "RESPUESTA: hasta que no he cerrado okteta no se ha ejecutado gnome-text-editor\n",
    "\n"
   ]
  },
  {
   "cell_type": "markdown",
   "id": "6f7a601c-0136-4e19-b8f5-ee8b05a7ce0c",
   "metadata": {},
   "source": [
    "- Vuelve a lanzar los dos programas en una misma línea de comandos, pero esta vez en segundo plano."
   ]
  },
  {
   "cell_type": "code",
   "execution_count": null,
   "id": "552cf1f7-6670-413d-ae47-9d5fc1ba9a25",
   "metadata": {},
   "outputs": [],
   "source": [
    "# Lanzar okteta y después gnome-text-editor, ambos en segundo plano\n",
    "okteta & gnome-text-editor &\n"
   ]
  },
  {
   "cell_type": "markdown",
   "id": "b4948205-22c4-44fb-9532-47b40855f089",
   "metadata": {},
   "source": [
    "- Escribe el comando adecuado para pasar a primer plano el último proceso que se lanzó (el editor `gnome-text-editor`).\n",
    "\n",
    "RESPUESTA: fg\n",
    "\n"
   ]
  },
  {
   "cell_type": "markdown",
   "id": "f4576b30",
   "metadata": {},
   "source": [
    "PREGUNTA: Desde el terminal, termina el proceso que acabas de pasar a primer plano. ¿Qué teclas o comando has utilizado?\n",
    "\n",
    "RESPUESTA: ctrl-c\n",
    "\n"
   ]
  },
  {
   "cell_type": "markdown",
   "id": "2a2a49f9-1684-4f43-b518-f646fa9af5b2",
   "metadata": {},
   "source": [
    "PREGUNTA: Repite el comando `fg` para hacer lo propio con el comando anterior (`okteta`), pero esta vez, en lugar de terminarlo, páralo. ¿Qué teclas o comando has utilizado?\n",
    "\n",
    "RESPUESTA:  ctrl-z\n",
    "\n"
   ]
  },
  {
   "cell_type": "markdown",
   "id": "0f4215bc",
   "metadata": {},
   "source": [
    "PREGUNTA: Trata de interactuar con el proceso `okteta`, ¿por que no responde al ratón ni al teclado?\n",
    "\n",
    "RESPUESTA: Cuando un proceso está suspendido, se detiene completamente y no puede responder a ninguna interacción, ya sea mediante el ratón o el teclado. \n",
    "\n"
   ]
  },
  {
   "cell_type": "markdown",
   "id": "e509880d",
   "metadata": {},
   "source": [
    "PREGUNTA: Vuelve a despertar el proceso `okteta` pero esta vez en segundo plano. ¿Qué comando has de utilizar?\n",
    "\n",
    "RESPUESTA: bg %1\n",
    "\n"
   ]
  },
  {
   "cell_type": "markdown",
   "id": "c582f37f",
   "metadata": {},
   "source": [
    "- Usa la orden adecuada para listar los procesos lanzados desde el terminal donde estás ejecutando los comandos anteriores."
   ]
  },
  {
   "cell_type": "code",
   "execution_count": 1,
   "id": "c989208a",
   "metadata": {},
   "outputs": [],
   "source": [
    "# Comando para monitorizar los procesos activos lanzados en este terminal\n",
    "jobs"
   ]
  },
  {
   "cell_type": "markdown",
   "id": "559c6d51-fb7e-4aa8-8bbc-a7066eadf691",
   "metadata": {},
   "source": [
    "```\n",
    "    PID TTY          TIME CMD\n",
    "  19422 pts/5    00:00:00 bash\n",
    "  27254 pts/5    00:00:01 okteta\n",
    "  28051 pts/5    00:00:00 ps\n",
    "```"
   ]
  },
  {
   "cell_type": "markdown",
   "id": "80a20a8a-14a2-4f48-8517-f464f2a6122b",
   "metadata": {},
   "source": [
    "- Finalmente, termina el proceso `okteta` desde el terminal esta vez usando el PID (identificador del proceso) que nos indicó el terminal al lanzar el proceso inicialmente."
   ]
  },
  {
   "cell_type": "code",
   "execution_count": 2,
   "id": "9f86707c",
   "metadata": {},
   "outputs": [
    {
     "name": "stdout",
     "output_type": "stream",
     "text": [
      "bash: kill: (34655) - No existe el proceso\n"
     ]
    },
    {
     "ename": "",
     "evalue": "1",
     "output_type": "error",
     "traceback": []
    }
   ],
   "source": [
    "# Comando para terminar el proceso lanzado en segundo plano\n",
    " kill 34655"
   ]
  },
  {
   "cell_type": "markdown",
   "id": "e7cee5ac-bcec-4e17-baf4-c53759766a8a",
   "metadata": {},
   "source": [
    "PREGUNTA: Lanza de nuevo los programas `okteta` y `gnome-text-editor`, en dicho orden, pero esta vez únicamente con `okteta` en segundo plano. ¿Qué ocurre si ahora pulsas `Ctrl-C` en el terminal?\n",
    "\n",
    "RESPUESTA: se cierra el gnome-text-editor\n",
    "\n"
   ]
  },
  {
   "cell_type": "markdown",
   "id": "00c51ed8",
   "metadata": {},
   "source": [
    "- Usando el comando adecuado, averigua el PID del proceso que está ejecutando `okteta` a partir de su nombre."
   ]
  },
  {
   "cell_type": "code",
   "execution_count": null,
   "id": "9f9f5985",
   "metadata": {},
   "outputs": [],
   "source": [
    "# Comando para averiguar el PID del un proceso por el nombre del comando ejecutado\n",
    "pgrep okteta"
   ]
  },
  {
   "cell_type": "markdown",
   "id": "4a8907ca-3ed5-4e68-8b42-1372181296e8",
   "metadata": {},
   "source": [
    "- Termina el programa `okteta` sin necesidad de introducir su PID"
   ]
  },
  {
   "cell_type": "code",
   "execution_count": 3,
   "id": "57ccec94-bb9e-4744-a562-6ee857476af2",
   "metadata": {},
   "outputs": [
    {
     "ename": "",
     "evalue": "1",
     "output_type": "error",
     "traceback": []
    }
   ],
   "source": [
    "pkill okteta\n"
   ]
  },
  {
   "cell_type": "markdown",
   "id": "f715191f-fce5-40c7-a9f0-049d7de99b3b",
   "metadata": {},
   "source": [
    "PREGUNTA: Descarga el programa ejecutable `uninterruptible`, el cual tienes disponible a través del AV, y cámbiale los permisos para poder ejecutarlo. Ejecútalo en primer plano y prueba a terminar su ejecución con `CTRL-C`. ¿Puedes? Explica qué semejanzas crees que tiene este programa con el programa *shell* en cuanto al tratamiento de la señal `SIGINT`.\n",
    "\n",
    "RESPUESTA:  no consigo instalar ni ejecutar el probrama uninterruptible\n",
    "\n"
   ]
  },
  {
   "cell_type": "markdown",
   "id": "3a223cf7-f83c-4a9b-8ea4-2002b8f5ea08",
   "metadata": {},
   "source": [
    "PREGUNTA: Detén la ejecución del programa lanzado anteriormente, sin terminarlo. Después lista los procesos lanzados en el terminal, ¿cuánto tiempo ha usado la CPU el programa `uninterruptible` antes de ser detenido? Si vuelves a listar los procesos, ¿ha variado el tiempo de CPU?\n",
    "\n",
    "RESPUESTA:\n",
    "\n"
   ]
  },
  {
   "cell_type": "markdown",
   "id": "2959ee8e-3cd7-4eec-8478-0cfe7dc0ef4d",
   "metadata": {},
   "source": [
    "PREGUNTA: Reanuda en segundo plano la ejecución del programa detenido anteriormente, y usa el comando adecuado para observar periódicamente el tiempo de CPU que lleva consumido. ¿Qué porcentaje de la CPU usa cuando está en ejecución? ¿En qué medida crece el tiempo de uso de la CPU con respecto al tiempo \"del reloj de pared\" (medido por una persona)?\n",
    "\n",
    "RESPUESTA:\n",
    "\n"
   ]
  },
  {
   "cell_type": "markdown",
   "id": "12e5101a-68ef-42e0-a9c2-e5a82f5261d5",
   "metadata": {},
   "source": [
    "PREGUNTA: Termina el programa `uninterruptible`, ya sea por su nombre o PID, enviando la señal `SIGTERM`. ¿Puedes terminar el proceso? Indica el comando que has utilizado.\n",
    "\n",
    "RESPUESTA:\n",
    "\n"
   ]
  },
  {
   "cell_type": "markdown",
   "id": "50a497c3",
   "metadata": {},
   "source": [
    "PREGUNTA: A la vista de la salida del programa `uninterruptible` terminado en el paso anterior, ¿crees que el programa termina súbitamente al recibir la señal, o lo hace por sus propios medios?\n",
    "\n",
    "RESPUESTA:\n",
    "\n"
   ]
  },
  {
   "cell_type": "markdown",
   "id": "5cbaf5da-0fb9-4a71-abef-dfd0b6283cb4",
   "metadata": {},
   "source": [
    "PREGUNTA: Descarga el programa `stubborn` del AV y cámbiale los permisos para poder ejecutarlo. Después, ejecútalo en primer plano y prueba a terminar su ejecución con `CTRL-C`. ¿Qué ocurre? De nuevo, observa los procesos en ejecución con el comando adecuado, ¿cuál es su uso de CPU?\n",
    "\n",
    "RESPUESTA:\n",
    "\n"
   ]
  },
  {
   "cell_type": "markdown",
   "id": "8e8df847-5afc-4622-b5f9-3955cabf9832",
   "metadata": {},
   "source": [
    "PREGUNTA: Detén la ejecución del programa lanzado anteriormente, sin terminarlo, y luego reanuda en segundo plano su ejecución. Después, trata de terminar el programa `stubborn`, ya sea por su nombre o PID, enviando la señal `SIGTERM` al igual que has hecho anteriormente. ¿Puedes terminar el proceso de esta forma?\n",
    "\n",
    "RESPUESTA:\n",
    "\n"
   ]
  },
  {
   "cell_type": "markdown",
   "id": "3d3e8e0e",
   "metadata": {},
   "source": [
    "PREGUNTA: A la vista de lo anterior, ¿de qué forma podemos terminar el proceso `stubborn`? Indica el comando.\n",
    "\n",
    "RESPUESTA:\n",
    "\n",
    "La única forma de acabar con el proceso es \"matarlo\" con `pkill -9 stubborn`, lo cual hace que se le envíe la señal `SIGKILL`, que ningún proceso puede ignorar. Al hacerlo, vemos este mensaje: \n",
    "```\n",
    "[1]+  Terminado (killed)      ./stubborn\n",
    "```\n"
   ]
  },
  {
   "cell_type": "markdown",
   "id": "b33cb824",
   "metadata": {},
   "source": [
    "### Listado y monitorización de procesos"
   ]
  },
  {
   "cell_type": "markdown",
   "id": "d9456ca4",
   "metadata": {},
   "source": [
    "- Usa el comando adecuado para mostrar **todos** los procesos que se están ejecutando actualmente en el sistema."
   ]
  },
  {
   "cell_type": "code",
   "execution_count": 4,
   "id": "dcbfdbf2",
   "metadata": {},
   "outputs": [
    {
     "name": "stdout",
     "output_type": "stream",
     "text": [
      "USER         PID %CPU %MEM    VSZ   RSS TTY      STAT START   TIME COMMAND\n",
      "root           1  0.0  0.0 167672 12740 ?        Ss   nov14   4:31 /sbin/init\n",
      "root           2  0.0  0.0      0     0 ?        S    nov14   0:00 [kthreadd]\n",
      "root           3  0.0  0.0      0     0 ?        S    nov14   0:00 [pool_workque\n",
      "root           4  0.0  0.0      0     0 ?        I<   nov14   0:00 [kworker/R-rc\n",
      "root           5  0.0  0.0      0     0 ?        I<   nov14   0:00 [kworker/R-rc\n",
      "root           6  0.0  0.0      0     0 ?        I<   nov14   0:00 [kworker/R-sl\n",
      "root           7  0.0  0.0      0     0 ?        I<   nov14   0:00 [kworker/R-ne\n",
      "root          10  0.0  0.0      0     0 ?        I<   nov14   0:00 [kworker/0:0H\n",
      "root          12  0.0  0.0      0     0 ?        I<   nov14   0:00 [kworker/R-mm\n",
      "root          13  0.0  0.0      0     0 ?        I    nov14   0:00 [rcu_tasks_ru\n",
      "root          14  0.0  0.0      0     0 ?        I    nov14   0:00 [rcu_tasks_tr\n",
      "root          15  0.0  0.0      0     0 ?        S    nov14   0:03 [ksoftirqd/0]\n",
      "root          16  0.0  0.0      0     0 ?        I    nov14   1:35 [rcu_sched]\n",
      "root          17  0.0  0.0      0     0 ?        S    nov14   0:11 [migration/0]\n",
      "root          18  0.0  0.0      0     0 ?        S    nov14   0:00 [idle_inject/\n",
      "root          19  0.0  0.0      0     0 ?        S    nov14   0:00 [cpuhp/0]\n",
      "root          20  0.0  0.0      0     0 ?        S    nov14   0:00 [cpuhp/1]\n",
      "root          21  0.0  0.0      0     0 ?        S    nov14   0:00 [idle_inject/\n",
      "root          22  0.0  0.0      0     0 ?        S    nov14   0:10 [migration/1]\n",
      "root          23  0.0  0.0      0     0 ?        S    nov14   0:02 [ksoftirqd/1]\n",
      "root          25  0.0  0.0      0     0 ?        I<   nov14   0:00 [kworker/1:0H\n",
      "root          26  0.0  0.0      0     0 ?        S    nov14   0:00 [cpuhp/2]\n",
      "root          27  0.0  0.0      0     0 ?        S    nov14   0:00 [idle_inject/\n",
      "root          28  0.0  0.0      0     0 ?        S    nov14   0:09 [migration/2]\n",
      "root          29  0.0  0.0      0     0 ?        S    nov14   0:02 [ksoftirqd/2]\n",
      "root          31  0.0  0.0      0     0 ?        I<   nov14   0:00 [kworker/2:0H\n",
      "root          32  0.0  0.0      0     0 ?        S    nov14   0:00 [cpuhp/3]\n",
      "root          33  0.0  0.0      0     0 ?        S    nov14   0:00 [idle_inject/\n",
      "root          34  0.0  0.0      0     0 ?        S    nov14   0:09 [migration/3]\n",
      "root          35  0.0  0.0      0     0 ?        S    nov14   0:02 [ksoftirqd/3]\n",
      "root          37  0.0  0.0      0     0 ?        I<   nov14   0:00 [kworker/3:0H\n",
      "root          38  0.0  0.0      0     0 ?        S    nov14   0:00 [kdevtmpfs]\n",
      "root          39  0.0  0.0      0     0 ?        I<   nov14   0:00 [kworker/R-in\n",
      "root          41  0.0  0.0      0     0 ?        S    nov14   0:00 [kauditd]\n",
      "root          42  0.0  0.0      0     0 ?        S    nov14   0:01 [khungtaskd]\n",
      "root          43  0.0  0.0      0     0 ?        S    nov14   0:00 [oom_reaper]\n",
      "root          45  0.0  0.0      0     0 ?        I<   nov14   0:00 [kworker/R-wr\n",
      "root          46  0.0  0.0      0     0 ?        S    nov14   1:27 [kcompactd0]\n",
      "root          47  0.0  0.0      0     0 ?        SN   nov14   0:00 [ksmd]\n",
      "root          48  0.0  0.0      0     0 ?        SN   nov14   0:10 [khugepaged]\n",
      "root          49  0.0  0.0      0     0 ?        I<   nov14   0:00 [kworker/R-ki\n",
      "root          50  0.0  0.0      0     0 ?        I<   nov14   0:00 [kworker/R-kb\n",
      "root          51  0.0  0.0      0     0 ?        I<   nov14   0:00 [kworker/R-bl\n",
      "root          52  0.0  0.0      0     0 ?        S    nov14   0:00 [irq/9-acpi]\n",
      "root          56  0.0  0.0      0     0 ?        I<   nov14   0:00 [kworker/R-tp\n",
      "root          57  0.0  0.0      0     0 ?        I<   nov14   0:00 [kworker/R-at\n",
      "root          58  0.0  0.0      0     0 ?        I<   nov14   0:00 [kworker/R-md\n",
      "root          59  0.0  0.0      0     0 ?        I<   nov14   0:00 [kworker/R-md\n",
      "root          60  0.0  0.0      0     0 ?        I<   nov14   0:00 [kworker/R-ed\n",
      "root          61  0.0  0.0      0     0 ?        I<   nov14   0:00 [kworker/R-de\n",
      "root          62  0.0  0.0      0     0 ?        S    nov14   0:00 [watchdogd]\n",
      "root          63  0.0  0.0      0     0 ?        I<   nov14   0:06 [kworker/1:1H\n",
      "root          64  0.0  0.0      0     0 ?        S    nov14   0:29 [kswapd0]\n",
      "root          65  0.0  0.0      0     0 ?        S    nov14   0:00 [ecryptfs-kth\n",
      "root          66  0.0  0.0      0     0 ?        I<   nov14   0:00 [kworker/R-kt\n",
      "root          67  0.0  0.0      0     0 ?        I<   nov14   0:00 [kworker/R-ac\n",
      "root          68  0.0  0.0      0     0 ?        S    nov14   0:47 [hwrng]\n",
      "root          69  0.0  0.0      0     0 ?        S    nov14   0:00 [scsi_eh_0]\n",
      "root          70  0.0  0.0      0     0 ?        I<   nov14   0:00 [kworker/R-sc\n",
      "root          71  0.0  0.0      0     0 ?        I<   nov14   0:00 [kworker/R-nv\n",
      "root          72  0.0  0.0      0     0 ?        I<   nov14   0:00 [kworker/R-nv\n",
      "root          73  0.0  0.0      0     0 ?        I<   nov14   0:00 [kworker/R-nv\n",
      "root          74  0.0  0.0      0     0 ?        I<   nov14   0:00 [kworker/R-nv\n",
      "root          75  0.0  0.0      0     0 ?        I<   nov14   0:07 [kworker/0:1H\n",
      "root          76  0.0  0.0      0     0 ?        I<   nov14   0:07 [kworker/2:1H\n",
      "root          77  0.0  0.0      0     0 ?        I<   nov14   0:17 [kworker/3:1H\n",
      "root          78  0.0  0.0      0     0 ?        I<   nov14   0:00 [kworker/R-ml\n",
      "root          79  0.0  0.0      0     0 ?        I<   nov14   0:00 [kworker/R-ip\n",
      "root          86  0.0  0.0      0     0 ?        I<   nov14   0:00 [kworker/R-ks\n",
      "root          89  0.0  0.0      0     0 ?        I<   nov14   0:00 [kworker/u9:0\n",
      "root         102  0.0  0.0      0     0 ?        I<   nov14   0:00 [kworker/R-ch\n",
      "root         103  0.0  0.0      0     0 ?        S    nov14   1:17 [jbd2/sda1-8]\n",
      "root         104  0.0  0.0      0     0 ?        I<   nov14   0:00 [kworker/R-ex\n",
      "root         145  0.0  1.7 384656 280628 ?       S<s  nov14  25:09 /lib/systemd/\n",
      "root         178  0.0  0.0      0     0 ?        I<   nov14   0:00 [kworker/R-ka\n",
      "root         180  0.0  0.0      0     0 ?        I<   nov14   0:00 [kworker/R-km\n",
      "root         182  0.0  0.0      0     0 ?        I<   nov14   0:00 [kworker/R-km\n",
      "root         183  0.0  0.0      0     0 ?        I<   nov14   0:00 [kworker/R-km\n",
      "root         185  0.0  0.1 289352 27392 ?        SLsl nov14   3:38 /sbin/multipa\n",
      "root         195  0.0  0.0  23092  6464 ?        Ss   nov14   0:03 /lib/systemd/\n",
      "root         224  0.0  0.0      0     0 ?        I<   nov14   0:00 [kworker/R-cr\n",
      "systemd+     401  0.0  0.0  16260  7936 ?        Ss   nov14   0:11 /lib/systemd/\n",
      "systemd+     403  0.0  0.0  25796 13696 ?        Ss   nov14   0:06 /lib/systemd/\n",
      "root         436  0.0  0.0 240556  7680 ?        Ssl  nov14   3:49 /usr/libexec/\n",
      "message+     438  0.0  0.0  27920 13568 ?        Ss   nov14   0:08 @dbus-daemon \n",
      "root         442  0.0  0.0 1912236 11396 ?       Ssl  nov14   4:41 /usr/bin/goog\n",
      "root         446  0.0  0.1  35364 17152 ?        Ss   nov14   0:01 /usr/bin/pyth\n",
      "syslog       449  0.0  0.0 240584 13668 ?        Ssl  nov14   6:55 /usr/sbin/rsy\n",
      "root         472  0.1  1.0 980720 175772 ?       Ssl  nov14  52:41 /opt/tljh/hub\n",
      "_chrony      475  0.0  0.0  18924  3228 ?        S    nov14   0:01 /usr/sbin/chr\n",
      "root         476  0.0  0.5 320916 88740 ?        Ss   nov14  35:55 /opt/tljh/hub\n",
      "_chrony      478  0.0  0.0  10596  1984 ?        S    nov14   0:00 /usr/sbin/chr\n",
      "root         614  0.0  0.0 2056180 15884 ?       Ssl  nov14   4:02 /usr/bin/goog\n",
      "root         623  0.0  0.0 254244 16016 ?        Ssl  nov14   0:00 /usr/libexec/\n",
      "root         688  0.0  0.1 112380 19712 ?        Ssl  nov14   0:00 /usr/bin/pyth\n",
      "root         752  0.0  0.0   8416  2432 ttyS0    Ss+  nov14   0:00 /sbin/agetty \n",
      "root         754  0.0  0.0   8792  2176 tty1     Ss+  nov14   0:00 /sbin/agetty \n",
      "root         755  0.0  0.0  15432  8320 ?        Ss   nov14   0:00 sshd: /usr/sb\n",
      "root         767  0.0  0.0  46396 13952 ?        Ss   nov14   0:06 /lib/systemd/\n",
      "root         786  0.0  0.0   9512  2944 ?        Ss   nov14   0:04 /usr/sbin/cro\n",
      "root         819  0.0  0.1 166408 24296 ?        Ssl  nov14   3:12 /opt/tljh/hub\n",
      "root         823  0.0  0.0      0     0 ?        I<   nov14   0:00 [kworker/R-tl\n",
      "root        1223  0.0  0.1 298344 18048 ?        Ssl  nov14   0:14 /usr/libexec/\n",
      "root      228728  0.0  0.1 1469524 22356 ?       Ssl  nov26   0:59 /usr/lib/snap\n",
      "root      414632  0.0  0.0      0     0 ?        I    dic03   0:15 [kworker/3:0-\n",
      "root      621000  0.0  0.0      0     0 ?        I    dic06   0:10 [kworker/0:2-\n",
      "root      674995  0.0  0.0      0     0 ?        I    03:19   0:00 [kworker/1:1-\n",
      "jupyter+  676582  2.3  0.9 818444 161360 ?       Ssl  10:20   1:52 /opt/tljh/use\n",
      "jupyter+  676597  0.0  0.0  11492  5504 pts/0    Ss+  10:20   0:00 /bin/bash -l\n",
      "jupyter+  676625  0.0  0.3 672824 53668 ?        Ssl  10:20   0:01 /opt/tljh/use\n",
      "jupyter+  676628  0.0  0.3 672828 53836 ?        Ssl  10:20   0:01 /opt/tljh/use\n",
      "jupyter+  676629  0.0  0.3 672820 53964 ?        Ssl  10:20   0:01 /opt/tljh/use\n",
      "jupyter+  676645  0.0  0.0  11428  5504 pts/1    Ss+  10:20   0:00 /usr/bin/bash\n",
      "jupyter+  676670  0.0  0.0  11428  5632 pts/2    Ss+  10:20   0:00 /usr/bin/bash\n",
      "jupyter+  676674  0.0  0.0  11428  5504 pts/3    Ss+  10:20   0:00 /usr/bin/bash\n",
      "root      677257  0.0  0.0      0     0 ?        I    10:28   0:00 [kworker/2:0-\n",
      "jupyter+  677274  0.0  0.3 673844 54348 ?        Ssl  10:28   0:02 /opt/tljh/use\n",
      "jupyter+  677287  0.0  0.0  11568  5760 pts/11   Ss+  10:28   0:00 /usr/bin/bash\n",
      "jupyter+  677392  0.0  0.3 672824 53708 ?        Ssl  10:30   0:01 /opt/tljh/use\n",
      "jupyter+  677407  0.0  0.0  11432  5632 pts/12   Ss+  10:30   0:00 /usr/bin/bash\n",
      "jupyter+  677436  0.0  0.3 672824 53580 ?        Ssl  10:31   0:01 /opt/tljh/use\n",
      "jupyter+  677449  0.0  0.0  11432  5632 pts/13   Ss+  10:31   0:00 /usr/bin/bash\n",
      "jupyter+  677781  1.2  0.9 808372 154312 ?       Rsl  10:33   0:50 /opt/tljh/use\n",
      "jupyter+  677795  0.0  0.0  11568  5504 pts/20   Ss+  10:34   0:00 /bin/bash -l\n",
      "jupyter+  677833  0.0  0.3 672828 53664 ?        Ssl  10:34   0:01 /opt/tljh/use\n",
      "jupyter+  677836  0.0  0.3 672820 53964 ?        Rsl  10:34   0:01 /opt/tljh/use\n",
      "jupyter+  677837  0.0  0.3 672828 53724 ?        Ssl  10:34   0:01 /opt/tljh/use\n",
      "jupyter+  677839  0.0  0.3 672828 53868 ?        Ssl  10:34   0:01 /opt/tljh/use\n",
      "jupyter+  677859  0.0  0.0  11596  5632 pts/21   Ss+  10:34   0:00 /usr/bin/bash\n",
      "jupyter+  677877  0.0  0.0  11596  5504 pts/22   Ss+  10:34   0:00 /usr/bin/bash\n",
      "jupyter+  677894  0.0  0.0  11732  5760 pts/23   Ss   10:34   0:00 /usr/bin/bash\n",
      "jupyter+  677913  0.0  0.0  11596  5632 pts/24   Ss+  10:34   0:00 /usr/bin/bash\n",
      "jupyter+  677953  0.0  0.3 672828 53480 ?        Ssl  10:34   0:01 /opt/tljh/use\n",
      "jupyter+  677964  0.0  0.0  11596  5632 pts/25   Ss+  10:34   0:00 /usr/bin/bash\n",
      "root      678430  0.0  0.0      0     0 ?        I    10:41   0:00 [kworker/u8:2\n",
      "root      679106  0.0  0.0      0     0 ?        I    10:54   0:00 [kworker/2:1]\n",
      "root      679268  0.0  0.0      0     0 ?        I    10:58   0:00 [kworker/u8:3\n",
      "root      679426  0.0  0.0      0     0 ?        I    11:01   0:00 [kworker/1:0-\n",
      "jupyter+  679760  1.6  0.8 805376 134688 ?       Ssl  11:14   0:23 /opt/tljh/use\n",
      "jupyter+  679771  0.0  0.0  11492  5632 pts/4    Ss+  11:14   0:00 /bin/bash -l\n",
      "jupyter+  679782  0.0  0.0  11492  5376 pts/5    Ss+  11:14   0:00 /bin/bash -l\n",
      "jupyter+  679797  0.0  0.3 672820 53836 ?        Ssl  11:14   0:00 /opt/tljh/use\n",
      "jupyter+  679812  0.0  0.0  11452  5632 pts/6    Ss+  11:14   0:00 /usr/bin/bash\n",
      "jupyter+  679851  0.0  0.3 672828 53836 ?        Ssl  11:15   0:00 /opt/tljh/use\n",
      "jupyter+  679864  0.0  0.0  11452  5632 pts/7    Ss+  11:15   0:00 /usr/bin/bash\n",
      "jupyter+  679874  0.0  0.3 672824 53708 ?        Ssl  11:15   0:00 /opt/tljh/use\n",
      "jupyter+  679887  0.0  0.0  11452  5632 pts/8    Ss+  11:15   0:00 /usr/bin/bash\n",
      "jupyter+  680327  0.0  0.0  11492  5632 pts/9    Ss+  11:18   0:00 /bin/bash -l\n",
      "root      680477  0.0  0.0      0     0 ?        I    11:22   0:00 [kworker/0:1]\n",
      "jupyter+  680537  0.1  0.3 672820 53840 ?        Ssl  11:23   0:01 /opt/tljh/use\n",
      "jupyter+  680550  0.0  0.0  32132 15872 pts/10   Ss+  11:23   0:00 /usr/bin/bash\n",
      "jupyter+  680627  1.7  0.8 806732 134416 ?       Ssl  11:25   0:14 /opt/tljh/use\n",
      "root      680683  0.0  0.0      0     0 ?        I    11:25   0:00 [kworker/u8:1\n",
      "jupyter+  680694  0.1  0.3 672824 54092 ?        Ssl  11:26   0:01 /opt/tljh/use\n",
      "jupyter+  680706  0.0  0.0  11588  5632 pts/14   Ss+  11:26   0:00 /usr/bin/bash\n",
      "jupyter+  681020  0.1  0.3 672824 53580 ?        Ssl  11:31   0:00 /opt/tljh/use\n",
      "jupyter+  681033  0.0  0.0  11588  5632 pts/15   Ss+  11:31   0:00 /usr/bin/bash\n",
      "root      681114  0.0  0.0      0     0 ?        I    11:32   0:00 [kworker/3:2]\n",
      "root      681295  0.0  0.0      0     0 ?        I    11:36   0:00 [kworker/u8:0\n",
      "jupyter+  681403  0.0  0.0  12776  3584 pts/23   R+   11:38   0:00 ps aux\n"
     ]
    }
   ],
   "source": [
    "ps aux\n"
   ]
  },
  {
   "cell_type": "markdown",
   "id": "4f9ed984",
   "metadata": {},
   "source": [
    "- Localiza tres procesos cuyo propietario sea nuestro usuario, y otros tres cuyo propietario sea el superusuario (root). Pega la línea completa mostrada para cada proceso.\n",
    "\n",
    "RESPUESTA:\n",
    "\n",
    "root           1  0.0  0.0 167672 12740 ?        Ss   nov14   4:31 /sbin/init\n",
    "\n",
    "root           2  0.0  0.0      0     0 ?        S    nov14   0:00 [kthreadd]\n",
    "\n",
    "root           3  0.0  0.0      0     0 ?        S    nov14   0:00 [pool_workque\n",
    "\n",
    "jupyter+  680694  0.1  0.3 672824 54092 ?        Ssl  11:26   0:01 /opt/tljh/use\n",
    "\n",
    "jupyter+  680706  0.0  0.0  11588  5632 pts/14   Ss+  11:26   0:00 /usr/bin/bash\n",
    "\n",
    "jupyter+  681020  0.1  0.3 672824 53580 ?        Ssl  11:31   0:00 /opt/tljh/use\n",
    "\n",
    "\n"
   ]
  },
  {
   "cell_type": "markdown",
   "id": "50897f10",
   "metadata": {},
   "source": [
    "- Localiza el proceso que ha consumido más tiempo de CPU. Pega la línea completa mostrada.\n",
    "\n",
    "RESPUESTA:  root         472  0.1  1.0 980720 175772 ?       Ssl  nov14  52:41 /opt/tljh/hub\n",
    "\n",
    "\n"
   ]
  },
  {
   "cell_type": "markdown",
   "id": "52e16c59",
   "metadata": {},
   "source": [
    "- Localiza también el último que se lanzó, mirando las horas de inicio. Pega la línea completa mostrada.\n",
    "\n",
    "RESPUESTA:  \n",
    "jupyter+  681403  0.0  0.0  12776  3584 pts/23   R+   11:38   0:00 ps aux\n",
    "\n",
    "\n"
   ]
  },
  {
   "cell_type": "markdown",
   "id": "78d785a5",
   "metadata": {},
   "source": [
    "- Lanza desde la interfaz de usuario el navegador firefox, y navega hasta la página `www.google.es`, mientras observas mediante `top` la evolución dinámica del consumo de memoria y CPU de los procesos involucrados.  Puedes dividir la pantalla entre ambas ventanas, terminal y navegador, para observar la salida de top mientras navegas. Luego, prueba a navegar a la página `www.youtube.com`. ¿En cuál de las dos páginas se hace más uso de la CPU?\n",
    "\n",
    "RESPUESTA: En YouTube se hace más uso de la CPU.\n",
    "\n"
   ]
  },
  {
   "cell_type": "markdown",
   "id": "03a93d11",
   "metadata": {},
   "source": [
    "### Redireccionamiento de la entrada/salida de un proceso"
   ]
  },
  {
   "cell_type": "code",
   "execution_count": 5,
   "id": "493203c3-ee8c-47fb-ac18-6446131d97e3",
   "metadata": {},
   "outputs": [
    {
     "name": "stdout",
     "output_type": "stream",
     "text": [
      "/usr/bin/ld  /usr/bin/ln  /usr/bin/ls\n"
     ]
    }
   ],
   "source": [
    "# Lista todos los ficheros en `/usr/bin/` cuyo nombre empiece por 'l'\n",
    "# y tenga exactamente dos caracteres\n",
    "ls /usr/bin/l? \n"
   ]
  },
  {
   "cell_type": "code",
   "execution_count": 6,
   "id": "703757b1-f7ea-451e-9683-a4613d702c3c",
   "metadata": {},
   "outputs": [],
   "source": [
    "# Repite el comando anterior, redireccionando la salida a un fichero llamado progs-l.txt\n",
    "ls /usr/bin/l? > progs-l.txt\n"
   ]
  },
  {
   "cell_type": "code",
   "execution_count": 7,
   "id": "9c8b8a14-e560-4fa0-8824-3fc172cd2b1e",
   "metadata": {},
   "outputs": [
    {
     "name": "stdout",
     "output_type": "stream",
     "text": [
      "/usr/bin/ld\n",
      "/usr/bin/ln\n",
      "/usr/bin/ls\n"
     ]
    }
   ],
   "source": [
    "# Muestra el contenido del fichero progs-l.txt\n",
    "cat progs-l.txt"
   ]
  },
  {
   "cell_type": "code",
   "execution_count": 8,
   "id": "6ed0e4e5-80f7-40eb-80b8-bcc2be9e5f92",
   "metadata": {},
   "outputs": [],
   "source": [
    "# Añade al final de dicho fichero un mensaje que diga \"FIN DEL LISTADO\", usando `echo` y la redirección\n",
    "echo \"FIN DEL LISTADO\" >> progs-l.txt\n"
   ]
  },
  {
   "cell_type": "code",
   "execution_count": 9,
   "id": "a0a027d5-64d8-46e9-a0f5-31770ab674c0",
   "metadata": {},
   "outputs": [
    {
     "name": "stdout",
     "output_type": "stream",
     "text": [
      "/usr/bin/ld\n",
      "/usr/bin/ln\n",
      "/usr/bin/ls\n",
      "FIN DEL LISTADO\n"
     ]
    }
   ],
   "source": [
    "# Muestra de nuevo el contenido del fichero\n",
    "cat progs-l.txt"
   ]
  },
  {
   "cell_type": "code",
   "execution_count": 10,
   "id": "40297afb-a388-492e-a377-bb69951a011a",
   "metadata": {},
   "outputs": [
    {
     "name": "stdout",
     "output_type": "stream",
     "text": [
      "drwxr-xr-x 2 root root       4096 sep  3 02:56 alternatives\n",
      "drwxr-xr-x 3 root root       4096 sep  3 02:04 apache2\n",
      "drwxr-xr-x 3 root root       4096 oct  8 06:56 apparmor\n",
      "drwxr-xr-x 8 root root       4096 oct  8 06:56 apparmor.d\n",
      "drwxr-xr-x 3 root root       4096 ago 29 17:24 apport\n",
      "drwxr-xr-x 8 root root       4096 ago 29 17:29 apt\n",
      "drwxr-xr-x 2 root root       4096 ago 29 17:24 bash_completion.d\n",
      "drwxr-xr-x 2 root root       4096 abr  7  2022 binfmt.d\n",
      "drwxr-xr-x 2 root root       4096 ago 29 17:24 byobu\n",
      "drwxr-xr-x 3 root root       4096 ago 29 17:22 ca-certificates\n",
      "drwxr-xr-x 4 root root       4096 sep  3 02:03 chrony\n",
      "drwxr-xr-x 5 root root       4096 sep  5 21:59 cloud\n",
      "drwxr-xr-x 2 root root       4096 ago 29 17:24 console-setup\n",
      "drwxr-xr-x 2 root root       4096 ago 29 17:23 cron.d\n",
      "drwxr-xr-x 2 root root       4096 nov 14 10:11 cron.daily\n",
      "drwxr-xr-x 2 root root       4096 ago 29 17:22 cron.hourly\n",
      "drwxr-xr-x 2 root root       4096 ago 29 17:22 cron.monthly\n",
      "drwxr-xr-x 2 root root       4096 ago 29 17:24 cron.weekly\n",
      "drwxr-xr-x 2 root root       4096 ago 29 17:24 cryptsetup-initramfs\n",
      "drwxr-xr-x 4 root root       4096 ago 29 17:22 dbus-1\n",
      "drwxr-xr-x 3 root root       4096 sep  3 02:56 dconf\n",
      "drwxr-xr-x 3 root root       4096 nov 14 10:27 default\n",
      "drwxr-xr-x 2 root root       4096 ago 29 17:22 depmod.d\n",
      "drwxr-xr-x 4 root root       4096 ago 29 17:23 dhcp\n",
      "drwxr-xr-x 2 root root       4096 sep  5 22:03 dictionaries-common\n",
      "drwxr-xr-x 4 root root       4096 sep  3 02:04 dpkg\n",
      "drwxr-xr-x 3 root root       4096 sep  3 02:56 emacs\n",
      "drwxr-xr-x 2 root root       4096 sep  3 02:56 environment.d\n",
      "drwxr-xr-x 4 root root       4096 sep  3 02:04 fonts\n",
      "drwxr-xr-x 2 root root       4096 ago 29 17:24 groff\n",
      "drwxr-xr-x 2 root root       4096 ago 29 17:28 grub.d\n",
      "drwxr-xr-x 3 root root       4096 feb 21  2022 gss\n",
      "drwxr-xr-x 2 root root       4096 sep  3 02:56 gtk-3.0\n",
      "drwxr-xr-x 2 root root       4096 nov 14 10:11 init.d\n",
      "drwxr-xr-x 5 root root       4096 ago 29 17:24 initramfs-tools\n",
      "drwxr-xr-x 4 root root       4096 ago 29 17:22 iproute2\n",
      "drwxr-xr-x 2 root root       4096 ago 29 17:24 iscsi\n",
      "drwxr-xr-x 6 root root       4096 nov 14 10:27 kernel\n",
      "drwxrwxr-x 2 root landscape  4096 may 28  2024 landscape\n",
      "drwxr-xr-x 2 root root       4096 ago 29 17:24 ldap\n",
      "drwxr-xr-x 2 root root       4096 sep  3 02:04 ld.so.conf.d\n",
      "drwxr-xr-x 3 root root       4096 ago 29 17:23 libblockdev\n",
      "drwxr-xr-x 2 root root       4096 ago 29 17:24 libnl-3\n",
      "drwxr-xr-x 4 root root       4096 sep  3 02:04 lighttpd\n",
      "drwxr-xr-x 4 root root       4096 ago 29 17:23 logcheck\n",
      "drwxr-xr-x 2 root root       4096 sep  5 21:59 logrotate.d\n",
      "drwxr-xr-x 3 root root       4096 ago 29 17:24 lvm\n",
      "drwxr-xr-x 2 root root       4096 ago 29 17:24 mdadm\n",
      "drwxr-xr-x 2 root root       4096 nov 14 10:27 modprobe.d\n",
      "drwxr-xr-x 2 root root       4096 ago 29 17:23 modules-load.d\n",
      "drwx------ 2 root root       4096 sep  3 02:03 multipath\n",
      "drwxr-xr-x 6 root root       4096 dic  6 06:54 needrestart\n",
      "drwxr-xr-x 2 root root       4096 sep  3 02:03 netplan\n",
      "drwxr-xr-x 5 root root       4096 ago 29 17:27 network\n",
      "drwxr-xr-x 8 root root       4096 ago 29 17:22 networkd-dispatcher\n",
      "drwxr-xr-x 2 root root       4096 ago 29 17:22 newt\n",
      "drwxr-xr-x 2 root root       4096 ago 29 17:27 nvme\n",
      "drwxr-xr-x 2 root root       4096 ago 29 17:22 opt\n",
      "drwxr-xr-x 2 root root       4096 ago 29 17:24 PackageKit\n",
      "drwxr-xr-x 2 root root       4096 ago 29 17:24 pam.d\n",
      "drwxr-xr-x 3 root root       4096 ago 29 17:23 perl\n",
      "drwxr-xr-x 3 root root       4096 ago 29 17:23 pm\n",
      "drwxr-xr-x 4 root root       4096 ago 29 17:23 polkit-1\n",
      "drwxr-xr-x 2 root root       4096 ago 29 17:28 pollinate\n",
      "drwxr-xr-x 4 root root       4096 ago 29 17:27 ppp\n",
      "drwxr-xr-x 2 root root       4096 sep  5 21:59 profile.d\n",
      "drwxr-xr-x 2 root root       4096 ago 29 17:23 python3\n",
      "drwxr-xr-x 2 root root       4096 nov 21 06:42 python3.10\n",
      "drwxr-xr-x 2 root root       4096 ago 29 17:27 rc0.d\n",
      "drwxr-xr-x 2 root root       4096 ago 29 17:27 rc1.d\n",
      "drwxr-xr-x 2 root root       4096 ago 29 17:27 rc2.d\n",
      "drwxr-xr-x 2 root root       4096 ago 29 17:27 rc3.d\n",
      "drwxr-xr-x 2 root root       4096 ago 29 17:27 rc4.d\n",
      "drwxr-xr-x 2 root root       4096 ago 29 17:27 rc5.d\n",
      "drwxr-xr-x 2 root root       4096 ago 29 17:27 rc6.d\n",
      "drwxr-xr-x 2 root root       4096 sep  3 02:56 rcS.d\n",
      "drwxr-xr-x 2 root root       4096 sep  5 21:59 rsyslog.d\n",
      "drwxr-xr-x 4 root root       4096 ago 29 17:23 security\n",
      "drwxr-xr-x 2 root root       4096 ago 29 17:22 selinux\n",
      "drwxr-xr-x 2 root root       4096 sep 10 16:45 sensors.d\n",
      "drwxr-xr-x 2 root root       4096 ago 29 17:23 skel\n",
      "drwxr-xr-x 6 root root       4096 ago 29 17:24 sos\n",
      "drwxr-xr-x 4 root root       4096 sep  3 02:03 ssh\n",
      "drwxr-xr-x 4 root root       4096 sep  5 21:59 ssl\n",
      "drwxr-x--- 2 root root       4096 sep  3 02:04 sudoers.d\n",
      "drwxr-xr-x 2 root root       4096 ago 29 17:27 sysctl.d\n",
      "drwxr-xr-x 5 root root       4096 ago 29 17:28 systemd\n",
      "drwxr-xr-x 2 root root       4096 ago 29 17:23 terminfo\n",
      "drwxr-xr-x 2 root root       4096 nov 14 10:27 thermald\n",
      "drwxr-xr-x 2 root root       4096 ago 29 17:24 tmpfiles.d\n",
      "drwxr-xr-x 2 root root       4096 sep  5 21:59 ubuntu-advantage\n",
      "drwxr-xr-x 4 root root       4096 ago 29 17:23 udev\n",
      "drwxr-xr-x 3 root root       4096 ago 29 17:24 ufw\n",
      "drwxr-xr-x 3 root root       4096 ago 29 17:24 update-manager\n",
      "drwxr-xr-x 2 root root       4096 sep  5 21:59 update-motd.d\n",
      "drwxr-xr-x 2 root root       4096 mar  4  2024 update-notifier\n",
      "drwxr-xr-x 2 root root       4096 nov 14 10:27 UPower\n",
      "drwxr-xr-x 2 root root       4096 sep  6  2021 usb_modeswitch.d\n",
      "drwxr-xr-x 2 root root       4096 nov 29 06:39 vim\n",
      "drwxr-xr-x 4 root root       4096 ago 29 17:24 vmware-tools\n",
      "drwxr-xr-x 8 root root       4096 sep 10 16:45 X11\n",
      "drwxr-xr-x 5 root root       4096 sep  3 02:56 xdg\n"
     ]
    }
   ],
   "source": [
    "# Utilizando el comando ls con la opción adecuada y la redirección de la salida estándar/de error,\n",
    "# averigua sobre qué subdirectorios de /etc no tienes permisos de acceso. PISTA: usa /dev/null\n",
    "# para descartar la salida que no te interese.\n",
    "\n",
    "ls -l /etc | grep \"^d\" 2>/dev/null\n",
    "\n"
   ]
  },
  {
   "cell_type": "code",
   "execution_count": 11,
   "id": "ff133717-ed86-48c9-9f50-b0ba0f50c4e6",
   "metadata": {},
   "outputs": [],
   "source": [
    "# Crea dos directorios, llamados dir1 y dir2\n",
    "mkdir dir1 dir2"
   ]
  },
  {
   "cell_type": "code",
   "execution_count": 20,
   "id": "1d30d81f",
   "metadata": {},
   "outputs": [
    {
     "name": "stdout",
     "output_type": "stream",
     "text": [
      "cp: no se puede efectuar `stat' sobre 'stubborn': No existe el archivo o el directorio\n"
     ]
    },
    {
     "ename": "",
     "evalue": "1",
     "output_type": "error",
     "traceback": []
    }
   ],
   "source": [
    "# Copia el fichero stubborn a dir2\n",
    "cp stubborn dir2/\n",
    "#no encuentro el fichero stubborn\n"
   ]
  },
  {
   "cell_type": "code",
   "execution_count": 21,
   "id": "32c7c204",
   "metadata": {},
   "outputs": [
    {
     "name": "stdout",
     "output_type": "stream",
     "text": [
      "dir1:\n",
      "\n",
      "dir2:\n"
     ]
    }
   ],
   "source": [
    "# Listar el contenido de dir1 y dir2 en un mismo comando\n",
    "ls dir1 dir2"
   ]
  },
  {
   "cell_type": "code",
   "execution_count": 22,
   "id": "7a95b75c",
   "metadata": {},
   "outputs": [],
   "source": [
    "# Cambia los permisos a dir2 para que nadie tenga acceso\n",
    "chmod 000 dir2"
   ]
  },
  {
   "cell_type": "code",
   "execution_count": 23,
   "id": "0f4b1d2c-f73b-4a04-804e-4ccd0c406fad",
   "metadata": {},
   "outputs": [
    {
     "name": "stdout",
     "output_type": "stream",
     "text": [
      "dir1:\n",
      "ls: no se puede abrir el directorio 'dir2': Permiso denegado\n"
     ]
    },
    {
     "ename": "",
     "evalue": "2",
     "output_type": "error",
     "traceback": []
    }
   ],
   "source": [
    "# Listar el contenido de dir1 y dir2 en un mismo comando\n",
    "ls dir1 dir2"
   ]
  },
  {
   "cell_type": "code",
   "execution_count": 24,
   "id": "5e379716-ef05-4bcd-a1a9-1f0bcc1d0e54",
   "metadata": {},
   "outputs": [
    {
     "ename": "",
     "evalue": "2",
     "output_type": "error",
     "traceback": []
    }
   ],
   "source": [
    "#a salida Utilizando la redirección de l estándar/de error, lista\n",
    "# los directorios dir1 y dir2, de forma que los mensajes de error\n",
    "# vayan al fichero \"errores_ls\" y el resto al fichero \"salida_ls\"\n",
    "ls dir1 dir2 > salida_ls 2> errores_ls\n"
   ]
  },
  {
   "cell_type": "code",
   "execution_count": 25,
   "id": "16589667",
   "metadata": {},
   "outputs": [
    {
     "name": "stdout",
     "output_type": "stream",
     "text": [
      "ls: no se puede abrir el directorio 'dir2': Permiso denegado\n"
     ]
    }
   ],
   "source": [
    "# Muestra el contenido del fichero errores_ls\n",
    "cat errores_ls"
   ]
  },
  {
   "cell_type": "code",
   "execution_count": 26,
   "id": "261081b3",
   "metadata": {},
   "outputs": [
    {
     "name": "stdout",
     "output_type": "stream",
     "text": [
      "dir1:\n"
     ]
    }
   ],
   "source": [
    "# Muestra el contenido del fichero salida_ls\n",
    "cat salida_ls"
   ]
  },
  {
   "cell_type": "markdown",
   "id": "c1efbfd5",
   "metadata": {},
   "source": [
    "### Variables de entorno. Concepto de PATH"
   ]
  },
  {
   "cell_type": "markdown",
   "id": "72304564-f2f3-4c4e-a666-4a403d74bf79",
   "metadata": {},
   "source": [
    "- La variable de entorno `LANG` define, junto con otras, la configuración regional y el idioma del shell. Empieza mostrando su valor actual con `echo`."
   ]
  },
  {
   "cell_type": "code",
   "execution_count": 29,
   "id": "67952124-9f6c-41ea-be99-6ee6381d51d4",
   "metadata": {},
   "outputs": [
    {
     "name": "stdout",
     "output_type": "stream",
     "text": [
      "es_ES.UTF-8\n"
     ]
    }
   ],
   "source": [
    "echo $LANG\n"
   ]
  },
  {
   "cell_type": "markdown",
   "id": "c2dff926",
   "metadata": {},
   "source": [
    " - Ejecuta el comando `ls` pasándole una ruta inexistente para generar un mensaje de error (coméntalo tras generarlo)."
   ]
  },
  {
   "cell_type": "code",
   "execution_count": 30,
   "id": "daacce0d",
   "metadata": {},
   "outputs": [
    {
     "name": "stdout",
     "output_type": "stream",
     "text": [
      "ls: no se puede acceder a '/ruta/inexistente': No existe el archivo o el directorio\n"
     ]
    },
    {
     "ename": "",
     "evalue": "2",
     "output_type": "error",
     "traceback": []
    }
   ],
   "source": [
    "ls /ruta/inexistente\n",
    "#ls: no se puede acceder a '/ruta/inexistente': No existe el archivo o el directorio"
   ]
  },
  {
   "cell_type": "markdown",
   "id": "151420ba-8ec3-40c0-819b-1e6f261a250b",
   "metadata": {},
   "source": [
    "-  Ahora, cambia el valor de la variable `LANG` por \"xyz\" (da igual el valor)  y seguidamente muestra su valor con `echo`."
   ]
  },
  {
   "cell_type": "code",
   "execution_count": 31,
   "id": "c31de968-48c9-4eea-9043-e8fb32016766",
   "metadata": {},
   "outputs": [
    {
     "name": "stdout",
     "output_type": "stream",
     "text": [
      "xyz\n"
     ]
    }
   ],
   "source": [
    "export LANG=xyz\n",
    "echo $LANG\n"
   ]
  },
  {
   "cell_type": "markdown",
   "id": "304824c2",
   "metadata": {},
   "source": [
    " - Vuelve a ejecutar el comando `ls` pasándole una ruta inexistente para generar un mensaje de error (coméntalo # de nuevo)."
   ]
  },
  {
   "cell_type": "code",
   "execution_count": 33,
   "id": "2f9e48ce",
   "metadata": {},
   "outputs": [
    {
     "name": "stdout",
     "output_type": "stream",
     "text": [
      "ls: cannot access '/ruta/inexistente': No such file or directory\n"
     ]
    },
    {
     "ename": "",
     "evalue": "2",
     "output_type": "error",
     "traceback": []
    }
   ],
   "source": [
    "ls /ruta/inexistente\n",
    "#ls: cannot access '/ruta/inexistente': No such file or directory"
   ]
  },
  {
   "cell_type": "markdown",
   "id": "6451158c-38ca-4525-9957-2275b6216482",
   "metadata": {},
   "source": [
    "PREGUNTA:  ¿En qué se diferencia el resultado de ejecutar el comando con un valor u otro de `$LANG`? ¿Cuál es el idioma por defecto del shell cuando $LANG no tiene un valor?\n",
    "\n",
    "RESPUESTA: Si $LANG tiene un valor como \"xyz\" el sistema puede no aplicar correctamente la localización, y algunos comportamientos predeterminados (como el idioma de los mensajes) se mantendrán en inglés o un valor predeterminado.\n",
    "\n"
   ]
  },
  {
   "cell_type": "markdown",
   "id": "18eaeb06",
   "metadata": {},
   "source": [
    "- Vuelve a establecer el valor de `LANG` a su valor original (\"es_ES.UTF-8\") y seguidamente muestra su valor con `echo` (en una misma línea)."
   ]
  },
  {
   "cell_type": "code",
   "execution_count": 34,
   "id": "6843238f",
   "metadata": {},
   "outputs": [
    {
     "name": "stdout",
     "output_type": "stream",
     "text": [
      "es_ES.UTF-8\n"
     ]
    }
   ],
   "source": [
    "export LANG=es_ES.UTF-8\n",
    "echo $LANG\n"
   ]
  },
  {
   "cell_type": "code",
   "execution_count": 46,
   "id": "9f45e0a9-3640-4c69-8ffd-e269406dd52d",
   "metadata": {},
   "outputs": [],
   "source": [
    "# Crea un subdirectorio llamado bin en tu directorio de inicio de usuario (si no existe y\n",
    "\n",
    "mkdir bin"
   ]
  },
  {
   "cell_type": "code",
   "execution_count": 47,
   "id": "a2e67231-cd7c-493b-8de8-ecdfedda284c",
   "metadata": {},
   "outputs": [],
   "source": [
    "# Copia al directorio creado anteriormente el fichero /usr/bin/ls, con el nombre myls\n",
    "cp /usr/bin/ls bin/myls\n"
   ]
  },
  {
   "cell_type": "code",
   "execution_count": 50,
   "id": "aac39f6c-58ba-42d7-955b-8093c05655a9",
   "metadata": {},
   "outputs": [
    {
     "name": "stdout",
     "output_type": "stream",
     "text": [
      "total 182220\n",
      "drwxr-xr-x  2 jupyter-7MwOMGMO2n jupyter-7MwOMGMO2n      4096 dic  9 12:17 bin\n",
      "drwxr-xr-x 13 jupyter-7MwOMGMO2n jupyter-7MwOMGMO2n      4096 nov 28 12:24 fc-alumno\n",
      "drwxrwxr-x  4 jupyter-7MwOMGMO2n jupyter-7MwOMGMO2n      4096 sep  7  2023 ficheros_ejemplo\n",
      "-rw-r--r--  1 jupyter-7MwOMGMO2n jupyter-7MwOMGMO2n 186547355 sep 26 10:28 ficheros_ejemplo.zip\n",
      "drwxr-xr-x  3 jupyter-7MwOMGMO2n jupyter-7MwOMGMO2n      4096 oct 14 15:56 geografia-murciana\n",
      "drwxr-xr-x  6 jupyter-7MwOMGMO2n jupyter-7MwOMGMO2n      4096 sep 23 12:39 myfirstrepo\n",
      "drwxr-xr-x  3 jupyter-7MwOMGMO2n jupyter-7MwOMGMO2n      4096 oct 14 13:22 p2-ejercicio\n",
      "drwxr-xr-x  3 jupyter-7MwOMGMO2n jupyter-7MwOMGMO2n      4096 nov  7 17:11 p4b-ejercicios\n",
      "drwxr-xr-x  3 jupyter-7MwOMGMO2n jupyter-7MwOMGMO2n      4096 oct 24 12:53 pruebas-bash\n",
      "drwxr-xr-x  4 jupyter-7MwOMGMO2n jupyter-7MwOMGMO2n      4096 oct 14 15:55 test-repo\n",
      "drwxr-xr-x  3 jupyter-7MwOMGMO2n jupyter-7MwOMGMO2n      4096 oct 14 16:09 tmp\n"
     ]
    }
   ],
   "source": [
    "# Sin cambiarte de directorio, ejecuta mediante una ruta absoluta el programa `myls` con la opción '-l':\n",
    "/home/jupyter-7MwOMGMO2n/bin/myls -l\n"
   ]
  },
  {
   "cell_type": "code",
   "execution_count": 51,
   "id": "aa3f01d3-c67f-428d-b9d2-83fb7d23815f",
   "metadata": {},
   "outputs": [],
   "source": [
    "# Modifica el valor de `PATH` para añadir el subdirectorio \"bin\" creado anteriormente:\n",
    "export PATH=$PATH:/home/jupyter-7MwOMGMO2n/bin/myls \n"
   ]
  },
  {
   "cell_type": "markdown",
   "id": "f982e2e0",
   "metadata": {},
   "source": [
    "Finalmente, prueba a ejecutar `myls` sin necesidad de indicar su ruta exacta."
   ]
  },
  {
   "cell_type": "code",
   "execution_count": 53,
   "id": "24cdea31-6b40-4da3-8d86-4d524c1c5b3a",
   "metadata": {},
   "outputs": [
    {
     "name": "stdout",
     "output_type": "stream",
     "text": [
      "Orden «myls» no encontrada. Quizá quiso decir:\n",
      "  la orden «tyls» del paquete deb «terminology (1.12.1-1)»\n",
      "  la orden «mmls» del paquete deb «sleuthkit (4.11.1+dfsg-1)»\n",
      "  la orden «pyls» del paquete deb «python3-pyls (0.36.2-3)»\n",
      "Pruebe con: apt install <nombre del paquete deb>\n"
     ]
    },
    {
     "ename": "",
     "evalue": "127",
     "output_type": "error",
     "traceback": []
    }
   ],
   "source": [
    "myls -l\n"
   ]
  },
  {
   "cell_type": "markdown",
   "id": "680d517a",
   "metadata": {},
   "source": [
    "### Variables del shell actual y variables de entorno"
   ]
  },
  {
   "cell_type": "markdown",
   "id": "2002571b",
   "metadata": {},
   "source": [
    "- Muestra el valor de la variable de entorno `USER`"
   ]
  },
  {
   "cell_type": "code",
   "execution_count": 54,
   "id": "5a68a861",
   "metadata": {},
   "outputs": [
    {
     "name": "stdout",
     "output_type": "stream",
     "text": [
      "jupyter-7MwOMGMO2n\n"
     ]
    }
   ],
   "source": [
    "echo $USER\n"
   ]
  },
  {
   "cell_type": "code",
   "execution_count": 55,
   "id": "35e6c833",
   "metadata": {},
   "outputs": [],
   "source": [
    "# Define una nueva variable llamada \"PRUEBA\" con valor \"hola\"\n",
    "export PRUEBA=\"hola\"\n"
   ]
  },
  {
   "cell_type": "code",
   "execution_count": 56,
   "id": "1f6ebcd4",
   "metadata": {},
   "outputs": [
    {
     "name": "stdout",
     "output_type": "stream",
     "text": [
      "hola\n"
     ]
    }
   ],
   "source": [
    "# Muestra el valor de la variable PRUEBA en el shell actual\n",
    "echo $PRUEBA\n"
   ]
  },
  {
   "cell_type": "code",
   "execution_count": 57,
   "id": "26cdfe26",
   "metadata": {},
   "outputs": [],
   "source": [
    "# Ejecuta esta celda para crear un shell script llamado \"variables.sh\"\n",
    "echo '#!/bin/bash' > variables.sh\n",
    "echo 'echo \"**Inicio del script**\"' >> variables.sh\n",
    "echo 'echo \"La variable PRUEBA vale $PRUEBA\"' >> variables.sh\n",
    "echo 'MYVAR=\"hello world!\"' >> variables.sh\n",
    "echo 'echo \"La variable MYVAR vale $MYVAR\"' >> variables.sh\n",
    "echo 'echo \"La variable USER vale $USER\"' >> variables.sh\n",
    "echo 'echo \"La variable ANOTHERVAR vale $ANOTHERVAR \"' >> variables.sh\n",
    "echo 'echo \"**Fin del script**\"' >> variables.sh"
   ]
  },
  {
   "cell_type": "code",
   "execution_count": 58,
   "id": "3a052d3f",
   "metadata": {},
   "outputs": [
    {
     "name": "stdout",
     "output_type": "stream",
     "text": [
      "#!/bin/bash\n",
      "echo \"**Inicio del script**\"\n",
      "echo \"La variable PRUEBA vale $PRUEBA\"\n",
      "MYVAR=\"hello world!\"\n",
      "echo \"La variable MYVAR vale $MYVAR\"\n",
      "echo \"La variable USER vale $USER\"\n",
      "echo \"La variable ANOTHERVAR vale $ANOTHERVAR \"\n",
      "echo \"**Fin del script**\"\n"
     ]
    }
   ],
   "source": [
    "# Muestra el contenido del script \"variables.sh\"\n",
    "cat variables.sh\n"
   ]
  },
  {
   "cell_type": "code",
   "execution_count": 59,
   "id": "f997ea2b",
   "metadata": {},
   "outputs": [],
   "source": [
    "# Establece permisos de ejecución para el fichero creado\n",
    "chmod +x variables.sh\n",
    "\n"
   ]
  },
  {
   "cell_type": "code",
   "execution_count": 66,
   "id": "b9661d9e",
   "metadata": {},
   "outputs": [
    {
     "name": "stdout",
     "output_type": "stream",
     "text": [
      "**Inicio del script**\n",
      "La variable PRUEBA vale hola\n",
      "La variable MYVAR vale hello world!\n",
      "La variable USER vale jupyter-7MwOMGMO2n\n",
      "La variable ANOTHERVAR vale  \n",
      "**Fin del script**\n"
     ]
    }
   ],
   "source": [
    "# Ejecuta el script \"variables.sh\"\n",
    "./variables.sh"
   ]
  },
  {
   "cell_type": "markdown",
   "id": "2a227bcb",
   "metadata": {},
   "source": [
    "PREGUNTA: ¿Se produce algún error en el shell cuando tratas de mostrar el valor de una variable a la que no has asignado valor previamente (ANOTHERVAR)?\n",
    "\n",
    "RESPUESTA: si, no se muestra su valor\n",
    "\n"
   ]
  },
  {
   "cell_type": "markdown",
   "id": "0065e35b",
   "metadata": {},
   "source": [
    "PREGUNTA: ¿Por qué no se imprime el valor de `PRUEBA`?\n",
    "\n",
    "RESPUESTA: en mi caso si se imprime\n",
    "\n"
   ]
  },
  {
   "cell_type": "code",
   "execution_count": 67,
   "id": "d6341193",
   "metadata": {},
   "outputs": [
    {
     "name": "stdout",
     "output_type": "stream",
     "text": [
      "\n"
     ]
    }
   ],
   "source": [
    "# Imprime el valor de la variable MYVAR en el shell actual\n",
    "echo $MYVAR\n"
   ]
  },
  {
   "cell_type": "markdown",
   "id": "128626f8",
   "metadata": {},
   "source": [
    "PREGUNTA: ¿Por qué no aparece \"hello world\" como valor de \"MYVAR\" en el shell actual, tras ejecutar `variables.sh`?\n",
    "\n",
    "RESPUESTA: Las variables definidas dentro de un script por defecto solo existen en el entorno del script y no afectan al entorno del shell actual.\n",
    "\n"
   ]
  },
  {
   "cell_type": "markdown",
   "id": "831e6e0e",
   "metadata": {},
   "source": [
    "PREGUNTA: ¿Qué valor tiene la variable \"USER\" en el proceso creado para ejecutar el script `variables.sh`?\n",
    "\n",
    "RESPUESTA: jupyter-7MwOMGMO2n\n",
    "\n",
    "\n"
   ]
  },
  {
   "cell_type": "markdown",
   "id": "0bbf22c8-18b7-4d90-9781-8c46a8b72021",
   "metadata": {},
   "source": [
    "**FIN DEL CUADERNO** (*no borres esta celda*)\n",
    "\n",
    "@@@@ practica7a-procesos-ejercicios.ipynb @@@@"
   ]
  }
 ],
 "metadata": {
  "kernelspec": {
   "display_name": "Bash",
   "language": "bash",
   "name": "bash"
  },
  "language_info": {
   "codemirror_mode": "shell",
   "file_extension": ".sh",
   "mimetype": "text/x-sh",
   "name": "bash"
  }
 },
 "nbformat": 4,
 "nbformat_minor": 5
}
