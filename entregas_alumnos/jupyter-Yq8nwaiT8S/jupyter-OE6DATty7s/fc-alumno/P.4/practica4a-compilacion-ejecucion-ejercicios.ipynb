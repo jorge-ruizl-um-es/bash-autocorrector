{
 "cells": [
  {
   "cell_type": "markdown",
   "id": "8e983960",
   "metadata": {},
   "source": [
    "# Ejercicios - Práctica 4: Compilación de programas"
   ]
  },
  {
   "cell_type": "markdown",
   "id": "00674774-0940-4610-8be5-55ec5032ad47",
   "metadata": {},
   "source": [
    "### Optimización del código gracias al compilador\n"
   ]
  },
  {
   "cell_type": "markdown",
   "id": "c90ba161-4765-4bc1-a6fc-4ffa09427823",
   "metadata": {},
   "source": [
    "- Pega el siguiente código en Compiler Explorer (https://godbolt.org/)."
   ]
  },
  {
   "cell_type": "markdown",
   "id": "8c73531f-75fc-4ec3-9bd4-d1a386eec6a1",
   "metadata": {},
   "source": [
    "```C\n",
    "#define ARRAY_SIZE 16\n",
    "\n",
    "int array[ARRAY_SIZE];\n",
    "\n",
    "int main() {\n",
    "    int i = 0;\n",
    "    while(i < ARRAY_SIZE) {\n",
    "        array[i] = -1;\n",
    "        ++i;\n",
    "    }\n",
    "}\n",
    "\n",
    "```"
   ]
  },
  {
   "cell_type": "markdown",
   "id": "03efe201-1e43-4b67-9a8d-1ffc6c63fd66",
   "metadata": {},
   "source": [
    "PREGUNTA: Explica brevemente lo que hace el programa.\n",
    "\n",
    "RESPUESTA: El programa define un array de tamaño 16 y lo inicializa con el valor -1, Usando un bucle while, comienza con i = 0 e incrementa i en cada iteración hasta alcanzar ARRAY_SIZE (16), momento en el cual el bucle termina.\n"
   ]
  },
  {
   "cell_type": "markdown",
   "id": "039de2d3-4e40-45b5-af8f-9f9e9020b82a",
   "metadata": {},
   "source": [
    "- Añade la opción `-O0` (la letra «o» mayúscula, seguida del número cero) a los parámetros pasados al compilador. Esta opción establece el nivel de optimización del compilador a 0 (desactivado). Una vez que el programa se compile, aparecerá en el centro el código ensamblador generado. Haz una captura de pantalla del código ensamblador generado y pégalo en la siguiente celda"
   ]
  },
  {
   "cell_type": "markdown",
   "id": "fbb5fd51-50ef-4276-839a-9c89388f2d48",
   "metadata": {},
   "source": [
    "PREGUNTA: ¿Cuántas instrucciones contiene el programa compilado con `-O0`? \n",
    "\n",
    "RESPUESTA: 13 instrucciones\n"
   ]
  },
  {
   "cell_type": "markdown",
   "id": "e1a97a0c-63d0-4abd-b434-e5af8966d6db",
   "metadata": {},
   "source": [
    "- Ahora, establece el nivel 1 de optimización del compilador, sustituyendo `-O0` por `-O1`. Luego, vuelve a hacer una captura de las instrucciones generadas."
   ]
  },
  {
   "cell_type": "markdown",
   "id": "6383e693-cf08-4883-aaba-089c8045a5eb",
   "metadata": {},
   "source": [
    "PREGUNTA: ¿Cuántas instrucciones contiene el programa compilado con `-O1`? \n",
    "\n",
    "RESPUESTA:\n"
   ]
  },
  {
   "cell_type": "markdown",
   "id": "4325b70d-ea03-4a29-a7a8-24c6e964764c",
   "metadata": {},
   "source": [
    "PREGUNTA: A la vista del código fuente en C, y sabiendo que en el ISA x86, la instrucción `jne .L2` realiza un salto a la instrucción marcada con la etiqueta `.L2:`, ¿cuántas veces se ejecutará la instrucción `movl    $-1, (%rax)`?\n",
    "\n",
    "RESPUESTA: se ejecutará una vez por cada iteración del bucle while, que recorre 16 veces debido a que ARRAY_SIZE es 16. Por lo tanto, se ejecutará 16 veces.\n"
   ]
  },
  {
   "cell_type": "markdown",
   "id": "4ed5cdb6-5c6e-4cf2-984c-7d8076217ffd",
   "metadata": {},
   "source": [
    "PREGUNTA: A la vista del número de instrucciones que conforman la traducción del bucle *while*, y teniendo en cuenta el número de iteraciones del mismo que se llevan a cabo, ¿cuántas instrucciones, aproximadamente, se ejecutarán para completar el programa? \n",
    "\n",
    "RESPUESTA: ya que el bucle se ejecutara 16 veces y cada vez que se ejecute son 13 instrucciones, el total de instrucciones sera: 16 * 13 = 208\n"
   ]
  },
  {
   "cell_type": "markdown",
   "id": "ded6ee97-b85c-4eb1-ae74-dad64d270316",
   "metadata": {},
   "source": [
    "- Por último, establece el nivel 2 de optimización del compilador, sustituyendo `-O1` por `-O2`. Luego, vuelve a hacer una captura de las instrucciones generadas."
   ]
  },
  {
   "cell_type": "markdown",
   "id": "07bf3a1e-b17b-4028-a976-0f0dff907ca9",
   "metadata": {},
   "source": [
    "PREGUNTA: ¿Cuántas instrucciones contiene el programa compilado con `-O2`? \n",
    "\n",
    "RESPUESTA:\n"
   ]
  },
  {
   "cell_type": "markdown",
   "id": "66f307a9-1870-4008-81e3-4d052e291913",
   "metadata": {},
   "source": [
    "PREGUNTA: A la vista de que no hay ninguna instrucción de salto (`jne`) en el programa generado, ¿cuántas instrucciones, exactamente, se ejecutarán para completar el programa esta vez?\n",
    "\n",
    "\n",
    "RESPUESTA:\n"
   ]
  },
  {
   "cell_type": "markdown",
   "id": "1d586e22-1501-4727-8ef9-497e170265b1",
   "metadata": {},
   "source": [
    "**MIDIENDO EL RENDIMIENTO**"
   ]
  },
  {
   "cell_type": "markdown",
   "id": "20e15d53-ff30-4160-8b58-38a17fd527ad",
   "metadata": {},
   "source": [
    "Ejecuta la siguiente celda para generar el fichero `array_write.c` con el código fuente del programa anterior. Fíjate que la única diferencia con el programa que hemos compilado mediante la aplicación web de *Compiler explorer* es que ahora el array es de tamaño mucho mayor (2^22, algo más de 4 millones de elementos). Trabajar con un array más grande conlleva más instrucciones ejecutadas y nos permite medir el tiempo total que tarda el programa en ejecutarse de manera más precisa y menos sensible a perturbaciones por factores externos al programa."
   ]
  },
  {
   "cell_type": "code",
   "execution_count": 1,
   "id": "10f1fe97-400f-4ce1-8e94-4f9f670fad4c",
   "metadata": {},
   "outputs": [],
   "source": [
    "# Ejecuta esta celda para generar el fichero array_write.c\n",
    "cat <<EOF > array_write.c\n",
    "#define ARRAY_SIZE (1 << 22)\n",
    "\n",
    "int array[ARRAY_SIZE];\n",
    "\n",
    "int main() {\n",
    "    int i = 0;\n",
    "    while(i < ARRAY_SIZE) {\n",
    "        array[i] = -1;\n",
    "        ++i;\n",
    "    }\n",
    "}\n",
    "EOF"
   ]
  },
  {
   "cell_type": "markdown",
   "id": "9b06c7e5-e176-4508-adc0-9e255c59c524",
   "metadata": {},
   "source": [
    "Ahora, compila el programa en C anterior directamente a un ejecutable, usando el nivel de optimización 0. El programa ejecutable se debe llamar `array_write_O0`. "
   ]
  },
  {
   "cell_type": "code",
   "execution_count": 2,
   "id": "37e47bfc-5cb7-4b96-bc07-ef510be9d435",
   "metadata": {},
   "outputs": [],
   "source": [
    "gcc -O0 array_write.c -o array_write_O0"
   ]
  },
  {
   "cell_type": "markdown",
   "id": "679c17fc-461d-4390-888e-628128652ac8",
   "metadata": {},
   "source": [
    "Repite lo anterior, pero usando el nivel de optimización 2 y llamando  `array_write_O2` al ejecutable generado. "
   ]
  },
  {
   "cell_type": "code",
   "execution_count": 3,
   "id": "937cb467-7612-498f-838b-25a9a08ab835",
   "metadata": {},
   "outputs": [],
   "source": [
    "gcc -O2 array_write.c -o array_write_O2"
   ]
  },
  {
   "cell_type": "markdown",
   "id": "44fc2667-9f30-49b2-b3eb-f0f4d3942c29",
   "metadata": {},
   "source": [
    "Por último, ejecuta las siguientes celdas, para medir el tiempo empleado en ejecutar cada programa:"
   ]
  },
  {
   "cell_type": "code",
   "execution_count": 4,
   "id": "a5677082-fd9e-42c3-ae4b-79f473fa1d1a",
   "metadata": {},
   "outputs": [
    {
     "name": "stdout",
     "output_type": "stream",
     "text": [
      "\n",
      "real\t0m0,073s\n",
      "user\t0m0,004s\n",
      "sys\t0m0,069s\n"
     ]
    }
   ],
   "source": [
    "time ./array_write_O0"
   ]
  },
  {
   "cell_type": "code",
   "execution_count": 5,
   "id": "14486406-f170-4292-b900-f54926a1f3ba",
   "metadata": {},
   "outputs": [
    {
     "name": "stdout",
     "output_type": "stream",
     "text": [
      "\n",
      "real\t0m0,016s\n",
      "user\t0m0,000s\n",
      "sys\t0m0,016s\n"
     ]
    }
   ],
   "source": [
    "time ./array_write_O2"
   ]
  },
  {
   "cell_type": "markdown",
   "id": "d565b8fe-3db2-4899-964e-3fbe7db05820",
   "metadata": {},
   "source": [
    "PREGUNTA: A la vista del rendimiento (tiempo de ejecución) de cada programa y de lo visto en los ejercicios anteriores, ¿qué conclusiones sacas?\n",
    "\n",
    "RESPUESTA: \n"
   ]
  },
  {
   "cell_type": "markdown",
   "id": "9233cd31-2908-404f-bbd8-00572d65cdb3",
   "metadata": {},
   "source": [
    "### Ensamblado y desensamblado"
   ]
  },
  {
   "cell_type": "markdown",
   "id": "8d167151-fc39-4b44-90e6-3090b88806c9",
   "metadata": {},
   "source": [
    "Vamos a compilar el programa array_write.c para generar código ensamblador: `array_write.s`. La opción que ves produce una salida más *limpia* y fácilmente legible."
   ]
  },
  {
   "cell_type": "code",
   "execution_count": null,
   "id": "0726e732-63e6-4f3e-9595-09bad4778efd",
   "metadata": {},
   "outputs": [],
   "source": [
    "gcc -S -O1 array_write.c -fno-asynchronous-unwind-tables"
   ]
  },
  {
   "cell_type": "code",
   "execution_count": null,
   "id": "6b36045b-0a08-4e26-b64c-a7c2882a51bb",
   "metadata": {},
   "outputs": [],
   "source": [
    "ls -l array_write.s"
   ]
  },
  {
   "cell_type": "markdown",
   "id": "0d89c210-9d7f-4678-ada5-8442b5f2b05f",
   "metadata": {},
   "source": [
    "Con el comando `nl`, podemos numerar las líneas de un fichero de texto."
   ]
  },
  {
   "cell_type": "code",
   "execution_count": null,
   "id": "38a97298-4adb-4299-8c3f-7def7380cfe1",
   "metadata": {},
   "outputs": [],
   "source": [
    "nl array_write.c"
   ]
  },
  {
   "cell_type": "markdown",
   "id": "f4e35b16-6257-4cf4-8dda-c6434a2aaab1",
   "metadata": {},
   "source": [
    "PREGUNTA: ¿Cuántas líneas tiene el fichero de código ensamblador generado? ¿Entre qué dos números de línea está el bucle del programa?"
   ]
  },
  {
   "cell_type": "code",
   "execution_count": null,
   "id": "4361b638-d144-47be-b5a7-7a3cc72c137f",
   "metadata": {},
   "outputs": [],
   "source": []
  },
  {
   "cell_type": "markdown",
   "id": "7f66f90b-1382-4978-9e6a-b6e9c53fbb6d",
   "metadata": {},
   "source": [
    "RESPUESTA:\n",
    "\n"
   ]
  },
  {
   "cell_type": "markdown",
   "id": "1b3c5edd-2b6c-43a7-a208-840b69b74499",
   "metadata": {},
   "source": [
    "Ensambla el fichero `array_write.s` para generar un fichero objeto `array_write.o`."
   ]
  },
  {
   "cell_type": "code",
   "execution_count": null,
   "id": "4931c31c-ea20-462a-a1dc-5b8026136922",
   "metadata": {},
   "outputs": [],
   "source": []
  },
  {
   "cell_type": "code",
   "execution_count": null,
   "id": "fc946eca-807c-46df-a670-63047011a996",
   "metadata": {},
   "outputs": [],
   "source": [
    "ls -l array_write.o"
   ]
  },
  {
   "cell_type": "markdown",
   "id": "09f8ff9d-1fd6-47bb-b800-67f59f5a3e91",
   "metadata": {},
   "source": [
    "Desensambla el fichero `array_write.o`:"
   ]
  },
  {
   "cell_type": "code",
   "execution_count": null,
   "id": "f04cad79-f2c5-4d95-a56d-760d2f74d40b",
   "metadata": {},
   "outputs": [],
   "source": []
  },
  {
   "cell_type": "markdown",
   "id": "7fe374a0-1e5d-482d-9397-434732060e54",
   "metadata": {},
   "source": [
    "PREGUNTA: ¿Cuál es el tamaño en bytes del código máquina generado? ¿Cuál es el código máquina de la instrucción `ret`, expresado en binario?\n",
    "\n",
    "RESPUESTA:\n"
   ]
  },
  {
   "cell_type": "markdown",
   "id": "78911009-18f8-43c1-a3ef-f2bb68f6a556",
   "metadata": {},
   "source": [
    "### Compilar un programa compuesto por múltiples módulos"
   ]
  },
  {
   "cell_type": "code",
   "execution_count": null,
   "id": "c8f0554e-420b-4e4c-bfd5-967f71b5ec59",
   "metadata": {},
   "outputs": [],
   "source": [
    "# Ejecuta esta celda para generar el fichero arrays_iguales.c\n",
    "cat <<EOF > arrays_iguales.c\n",
    "#include <stdbool.h>\n",
    "\n",
    "int arrays_iguales(int size, int array1[], int array2[]) {\n",
    "    int i = 0;\n",
    "    while(i < size) {\n",
    "        if (array1[i] != array2[i]) {\n",
    "            return false;\n",
    "        };\n",
    "        ++i;\n",
    "    }\n",
    "    return true;\n",
    "}\n",
    "EOF"
   ]
  },
  {
   "cell_type": "code",
   "execution_count": null,
   "id": "39b8fb89-910e-4c41-8e93-6467733a7ac6",
   "metadata": {},
   "outputs": [],
   "source": [
    "# Ejecuta esta celda para generar el fichero miprograma.c\n",
    "cat <<EOF > miprograma.c\n",
    "#include <stdbool.h>\n",
    "#define ARRAY_SIZE 8\n",
    "\n",
    "int a[ARRAY_SIZE] = {0,1,2,3,4,5,6,7};\n",
    "int b[ARRAY_SIZE] = {0,1,2,3,4,5,6,8};\n",
    "\n",
    "//Declaramos la función de \"array_iguales.c\" para poder llamarla desde main\n",
    "int arrays_iguales(int size, int array1[], int array2[]); \n",
    "\n",
    "int main() {\n",
    "    return arrays_iguales(ARRAY_SIZE, a, b);\n",
    "}\n",
    "EOF"
   ]
  },
  {
   "cell_type": "markdown",
   "id": "0c35c990-44a5-45fa-8ecd-a74116f36be4",
   "metadata": {},
   "source": [
    "PREGUNTA: ¿Qué hace este programa?\n",
    "\n",
    "RESPUESTA:\n",
    "\n",
    "@Comparar dos arrays de 8 enteros cada uno, haciendo uso de una función llamada \"arrays_iguales\", que está definida en otro fichero de código fuente.@"
   ]
  },
  {
   "cell_type": "markdown",
   "id": "40eef18c-16a4-4461-8a31-b5cecb903748",
   "metadata": {},
   "source": [
    "PREGUNTA: ¿Qué variables utiliza `miprograma.c`?\n",
    "\n",
    "RESPUESTA:\n"
   ]
  },
  {
   "cell_type": "markdown",
   "id": "47d72bd2-9fee-44d2-beab-078eb611fcca",
   "metadata": {},
   "source": [
    "Compila el fichero `miprograma.c` para generar un fichero objeto llamado `miprograma.o`."
   ]
  },
  {
   "cell_type": "code",
   "execution_count": null,
   "id": "7abdc18c-7717-4570-b45c-ba63a5b8fdfa",
   "metadata": {},
   "outputs": [],
   "source": []
  },
  {
   "cell_type": "markdown",
   "id": "b76c14c8-f8c8-4ddc-86d7-ae2b97970c63",
   "metadata": {},
   "source": [
    "Compila el fichero `arrays_iguales.c` para generar un fichero objeto llamado `arrays_iguales.o`."
   ]
  },
  {
   "cell_type": "code",
   "execution_count": null,
   "id": "423795b2-b726-4eb3-bf7d-411debb0f934",
   "metadata": {},
   "outputs": [],
   "source": []
  },
  {
   "cell_type": "markdown",
   "id": "e48f41ca-a394-4d64-bc74-cad8b56f726c",
   "metadata": {},
   "source": [
    "Con el comando `nm` podemos ver los símbolos (nombres de variables, funciones, etc.) que contiene un determinado fichero de código objeto. Ejemplo: `nm fichero.o`. Muestra los símbolos del fichero `miprograma.o`. Después, busca en la ayuda de `nm` la opción para mostrar únicamente los símbolos no definidos en este módulo (pero que aparecen referenciados en el módulo). A la vista de la información recabada, responde a la siguiente pregunta:"
   ]
  },
  {
   "cell_type": "code",
   "execution_count": null,
   "id": "44701f50-8fa5-4568-955c-cd68c2cc43b7",
   "metadata": {},
   "outputs": [],
   "source": []
  },
  {
   "cell_type": "code",
   "execution_count": null,
   "id": "46ec2f48-e9e7-4352-8d28-4552c92555bf",
   "metadata": {},
   "outputs": [],
   "source": []
  },
  {
   "cell_type": "markdown",
   "id": "b735f039-5989-4f68-b8be-8964439df8b5",
   "metadata": {},
   "source": [
    "PREGUNTA: ¿Cuántos símbolos contiene el fichero objeto `miprograma.o`? ¿Cuáles están definidos en el propio módulo de código objeto y cuáles no están definidos?\n",
    "\n",
    "RESPUESTA: \n"
   ]
  },
  {
   "cell_type": "markdown",
   "id": "68780a12-cf60-40ae-8c2c-86a32a041018",
   "metadata": {},
   "source": [
    "PREGUNTA: Trata de compilar el fichero `miprograma.c` para generar directamente un ejecutable llamado `compara_arrays`. ¿Qué ocurre? Razona la respuesta."
   ]
  },
  {
   "cell_type": "code",
   "execution_count": null,
   "id": "ac6314f1-5760-4978-bad2-c1dec9ca67a5",
   "metadata": {},
   "outputs": [],
   "source": []
  },
  {
   "cell_type": "markdown",
   "id": "fb9a78f5-98f1-477a-94ba-413e6936e3fd",
   "metadata": {},
   "source": [
    "RESPUESTA:\n",
    "\n"
   ]
  },
  {
   "cell_type": "markdown",
   "id": "f595e18a-79c1-4bf3-98ad-3567a8eb785e",
   "metadata": {},
   "source": [
    " Ahora usa `nm` para mostrar los símbolos del fichero objeto `arrays_iguales.o`"
   ]
  },
  {
   "cell_type": "code",
   "execution_count": null,
   "id": "cdda708d-efb6-4452-9d62-ebf12cd18ea9",
   "metadata": {},
   "outputs": [],
   "source": [
    "# Muestra todos los símbolos\n"
   ]
  },
  {
   "cell_type": "code",
   "execution_count": null,
   "id": "dbeda733-1cd9-4f01-81f9-ed9f6e16b603",
   "metadata": {},
   "outputs": [],
   "source": [
    "# Símbolos no definidos´\n"
   ]
  },
  {
   "cell_type": "markdown",
   "id": "d88b4de3-ab1d-44d4-852e-bf832d946dc9",
   "metadata": {},
   "source": [
    "Finalmente, escribe el comando necesario para conseguir generar un programa ejecutable llamado `compara_arrays`:"
   ]
  },
  {
   "cell_type": "code",
   "execution_count": null,
   "id": "a75f03c0-06b8-4c00-8389-d7cfa264f467",
   "metadata": {},
   "outputs": [],
   "source": []
  },
  {
   "cell_type": "markdown",
   "id": "eef2b2bf-3867-40ef-9584-96c18a26c9c2",
   "metadata": {},
   "source": [
    "Ejecuta el programa para comprobar que devuelve un 0 (*false*), ya que los arrays `a` y `b` tienen valores distintos."
   ]
  },
  {
   "cell_type": "code",
   "execution_count": null,
   "id": "5b38b283-bb79-4d64-8169-f65a25369664",
   "metadata": {
    "scrolled": true
   },
   "outputs": [],
   "source": [
    "./compara_arrays; echo $?    # echo $? muestra el valor retornado por el último comando"
   ]
  },
  {
   "cell_type": "code",
   "execution_count": null,
   "id": "29cfa9ed-2bd5-4bf2-a786-0c67d9eb5a8c",
   "metadata": {},
   "outputs": [],
   "source": [
    "# Cleanup\n",
    "FILES=\"\n",
    "arrays_iguales.c\n",
    "arrays_iguales.o\n",
    "array_write.c\n",
    "array_write.o\n",
    "array_write_O0\n",
    "array_write_O2\n",
    "array_write.s\n",
    "compara_arrays\n",
    "miprograma.c\n",
    "miprograma.o\"\n",
    "rm -f $FILES"
   ]
  },
  {
   "cell_type": "markdown",
   "id": "29338cc1-f928-4e53-bc32-4682c5e80333",
   "metadata": {},
   "source": [
    "# Ejercicios - Práctica 4: Ensamblador RISC-V. Ejecución con RIPES"
   ]
  },
  {
   "cell_type": "markdown",
   "id": "ed2b2a17-f831-46d8-97b6-1893b0fb6f2e",
   "metadata": {},
   "source": [
    "### Escribir datos en memoria: `result = var1 - var2`"
   ]
  },
  {
   "cell_type": "markdown",
   "id": "8167288c-ae36-4f13-ab49-75fb4a9861fa",
   "metadata": {},
   "source": [
    "- El programa que se muestra a continuación debe restar dos variables en memoria `var1` y `var2`, y luego escribir el resultado en una tercera variable llamada `result`. Sin embargo, el programa está incompleto."
   ]
  },
  {
   "cell_type": "markdown",
   "id": "15fcc146-9121-4487-8cd5-306275f32ae0",
   "metadata": {},
   "source": [
    "```\n",
    "    .data\n",
    "var1: .word 0xa0b0c0\n",
    "var2: .word 0x0c\n",
    "result: .word 0xffffffff\n",
    "\n",
    "    .text\n",
    "\n",
    "    la x4, var1\t\t\t\n",
    "    lw x5, 0(x4)    # (1)\n",
    "    lw x6, 4(x4)    # (2)\n",
    "    sub x7,x5,x6    # (3)\n",
    "                    # (4) \n",
    "```"
   ]
  },
  {
   "cell_type": "markdown",
   "id": "ecc6d9db-d20e-4647-adf6-2f48679889fe",
   "metadata": {},
   "source": [
    "- Copia y pega el código anterior Ripes, y ejecuta hasta llegar a la instrucción marcada con (2)."
   ]
  },
  {
   "cell_type": "markdown",
   "id": "0ce43b06-3e74-4952-ac9b-0b7654fe1678",
   "metadata": {},
   "source": [
    "PREGUNTA: A la vista de los valores de los registros, en este punto del programa ¿en qué dirección de memoria está ubicada la variable `var1`? ¿Cuál es el tamaño de dicha variable? Indica qué direcciones de memoria ocupa (inicial y final, inclusive)\n",
    "\n",
    "RESPUESTA: \n"
   ]
  },
  {
   "cell_type": "markdown",
   "id": "489dceaa-5d3c-452d-86df-5b5beaeb3f2f",
   "metadata": {},
   "source": [
    "PREGUNTA: ¿Qué instrucción habría que añadir en la línea marcada con (4) para que el programa escriba el resultado de la resta en la variable `result`?.\n",
    "\n",
    "RESPUESTA: \n",
    "\n"
   ]
  },
  {
   "attachments": {},
   "cell_type": "markdown",
   "id": "934c5ae1-6aad-4f1a-bd44-cc84c75cb25d",
   "metadata": {},
   "source": [
    "PREGUNTA: Haz una captura de pantalla que muestre el valor de los registros x4,x5 y x6 antes de ejecutar la instrucción (2). ¿De dónde procede el valor que tiene el registro x5? \n",
    "\n",
    "RESPUESTA:\n"
   ]
  },
  {
   "attachments": {},
   "cell_type": "markdown",
   "id": "9523c6a1-aab5-4d82-814c-54a41e9fb7db",
   "metadata": {},
   "source": [
    "PREGUNTA: ¿Cuál es la codificación en lenguaje máquina de la instrucción `lw x5, 0(x4)`? ¿Entre qué dos dirección de memoria se ubica dicha instrucción? Pega una captura de pantalla de la pestaña \"Memory\" que muestre el segmento de texto (parte de la memoria donde se ubican las instrucciones del programa).\n",
    "\n",
    "RESPUESTA:\n"
   ]
  },
  {
   "attachments": {},
   "cell_type": "markdown",
   "id": "472cf1d2-84e7-4bd8-9863-ce097000a1cc",
   "metadata": {},
   "source": [
    "PREGUNTA: ¿Cuál es el valor del byte en la dirección de memoria 0x10000002? Pega una captura de pantalla de la pestaña \"Memory\" que muestre el segmento de datos (parte de la memoria donde se ubican las variables globales del programa).\n",
    "\n",
    "RESPUESTA:\n"
   ]
  },
  {
   "cell_type": "markdown",
   "id": "c19c9541-ae4d-440b-908d-9e6df0207f20",
   "metadata": {},
   "source": [
    "PREGUNTA: A la vista del valor inicial de la variable `var1` (en el código ensamblador) y el valor de los bytes en que se almacena en memoria, ¿qué esquema de almacenamiento (endianness u orden de bytes) se utiliza en RISC-V? \n",
    "\n",
    "RESPUESTA:\n"
   ]
  },
  {
   "cell_type": "markdown",
   "id": "6e97a65a-e86b-47c9-957b-e91938eca199",
   "metadata": {},
   "source": [
    "PREGUNTA: ¿Cuál es el valor inicial, en decimal, de la variable `result` (en el código ensamblador)? ¿En qué direcciones de memoria se almacena? ¿Cuál es el valor hexadecimal de cada uno  de los 4 bytes en que se almacena en memoria?\n",
    "\n",
    "RESPUESTA:\n"
   ]
  },
  {
   "attachments": {},
   "cell_type": "markdown",
   "id": "aed260a3-874e-4256-b355-9a09dc385f46",
   "metadata": {},
   "source": [
    "PREGUNTA: Continúa ejecutando el programa hasta el final. ¿Cuál es el valor final de la variable `result` en memoria? ¿De dónde procede el valor almacenado en dichas posiciones de memoria? Pega una captura de pantalla de la pestaña \"Memory\" que lo muestre. \n",
    "\n",
    "RESPUESTA:\n"
   ]
  },
  {
   "cell_type": "markdown",
   "id": "e59e8798-76ad-4185-aa4e-5c53f2f8653b",
   "metadata": {},
   "source": [
    "### Ubicación de los datos del programa en memoria"
   ]
  },
  {
   "attachments": {},
   "cell_type": "markdown",
   "id": "89e3cc74-2f23-4f2f-a116-f01fa2664ab0",
   "metadata": {},
   "source": [
    "- Entra en la configuración de Ripes (*Settings*) y asegúrate de establecer los argumentos del compilador y enlazador como se muestra en la siguiente imagen. Debes pasar **-O1** al compilador para que optimice el código y **-nostdlib** al enlazador para evitar enlazar con la biblioteca estándar. "
   ]
  },
  {
   "attachments": {
    "35d5753a-499d-4c7f-8d5b-7fbadc59c7a4.png": {
     "image/png": "[encoded data removed]"
    }
   },
   "cell_type": "markdown",
   "id": "5bb21225-54a0-4be5-87bd-483a09821829",
   "metadata": {},
   "source": [
    "![image.png](attachment:35d5753a-499d-4c7f-8d5b-7fbadc59c7a4.png)"
   ]
  },
  {
   "cell_type": "markdown",
   "id": "55f1b1f4-c34c-46a8-9e96-aa1930fb0d94",
   "metadata": {},
   "source": [
    "- A continuación, copia el siguiente código en el editor y compila a ensamblador."
   ]
  },
  {
   "cell_type": "markdown",
   "id": "8ceefd7c-772d-42f1-b835-c47c0af0b9e8",
   "metadata": {},
   "source": [
    "```C\n",
    "#define ARRAY_SIZE 16\n",
    "\n",
    "int array[ARRAY_SIZE] = {15,14,13,12,11,10,9,8,7,6,5,4,3,2,1,0};\n",
    "\n",
    "int main() {\n",
    "    int i = 0;\n",
    "    while(i < ARRAY_SIZE) {\n",
    "        array[i] = -1;\n",
    "        ++i;\n",
    "    }\n",
    "}\n",
    "```"
   ]
  },
  {
   "cell_type": "markdown",
   "id": "24d5f78c-61f1-4cb2-9eeb-8bf61c69bd70",
   "metadata": {},
   "source": [
    "PREGUNTA: Explica brevemente lo que hace el programa.\n",
    "\n",
    "RESPUESTA:\n"
   ]
  },
  {
   "cell_type": "markdown",
   "id": "7385b56f-4e72-489d-bb62-1e0c809c7e3e",
   "metadata": {},
   "source": [
    "- Haz una captura de pantalla de la memoria ocupada por el array. Para ello, debes ir a la vista *Memory* y luego seleccionar *Go to section->.data*."
   ]
  },
  {
   "attachments": {},
   "cell_type": "markdown",
   "id": "76aab002-e66f-4298-8e4e-6f292d3d9ea7",
   "metadata": {},
   "source": []
  },
  {
   "cell_type": "markdown",
   "id": "04ca97bb-72ee-4b47-8193-b4934858e9b4",
   "metadata": {},
   "source": [
    "PREGUNTA: ¿Cuántos bytes ocupa el array en memoria? ¿Entre qué dos direcciones de memoria se encuentra almacenado el array? \n",
    "\n",
    "RESPUESTA:\n",
    "\n"
   ]
  },
  {
   "cell_type": "markdown",
   "id": "092b89e7-2586-49bc-aae6-c6586e1519b4",
   "metadata": {},
   "source": [
    "PREGUNTA: ¿Entre qué dos direcciones de memoria se almacena el primer elemento del array? Indica los valores en hexadecimal de cada byte que ocupa.\n",
    "\n",
    "RESPUESTA:\n",
    "\n"
   ]
  },
  {
   "cell_type": "markdown",
   "id": "2a783b3d-83ef-414f-a0de-2ac28b0ad330",
   "metadata": {},
   "source": [
    "PREGUNTA: A la vista del valor inicial del primer elemento en el código C, ¿qué orden de bytes usa RISC-V?\n",
    "\n",
    "RESPUESTA:\n"
   ]
  },
  {
   "cell_type": "markdown",
   "id": "e0e32679-8327-4df7-ba41-51daa7102fc0",
   "metadata": {},
   "source": [
    "PREGUNTA: Ejecuta paso a paso el programa hasta completar la primera iteración del bucle. ¿Qué registro se utiliza para guardar el valor entero -1? ¿Cuál es la codificación del -1 como entero con signo de 4 bytes?\n",
    "\n",
    "RESPUESTA:\n"
   ]
  },
  {
   "cell_type": "markdown",
   "id": "7fed21d5-1abd-4f07-bd07-2eed97521cc7",
   "metadata": {},
   "source": [
    "PREGUNTA: ¿Qué instrucción es la que escribe en el array el valor -1?  ¿En qué dirección de memoria está ubicada dicha instrucción?\n",
    "\n",
    "RESPUESTA:\n"
   ]
  },
  {
   "cell_type": "markdown",
   "id": "5dd11af2-d60a-482d-9b29-43a840bbd99d",
   "metadata": {},
   "source": [
    "PREGUNTA: Continúa ejecutando iteraciones del bucle. ¿Qué valores va tomando el registro x15? ¿Para qué se utiliza dicho registro?\n",
    "\n",
    "RESPUESTA:\n"
   ]
  },
  {
   "cell_type": "markdown",
   "id": "1c08ade2-de43-4f84-9c8a-d67dda7e3661",
   "metadata": {},
   "source": [
    "### Un error de programación habitual"
   ]
  },
  {
   "cell_type": "markdown",
   "id": "a0b4c4a6-652e-4e29-ae97-e872c266053b",
   "metadata": {},
   "source": [
    "- Copia y pega el siguiente programa en C en el editor. Luego, elimina la opción **-O1** de los argumentos del compilador. Finalmente, ejecuta el programa paso a paso durante algunas iteraciones del bucle, y luego cambia a la pestaña *Memory* para observar la sección *.data* mientras observas los valores del array. "
   ]
  },
  {
   "cell_type": "markdown",
   "id": "48ca840d-4d5e-4723-b817-969fb402fc71",
   "metadata": {},
   "source": [
    "```C\n",
    "#define ARRAY_SIZE 16\n",
    "\n",
    "int array[ARRAY_SIZE] = {15,14,13,12,11,10,9,8,7,6,5,4,3,2,1,0};\n",
    "\n",
    "int main() {\n",
    "    int i = 0;\n",
    "    while(i < ARRAY_SIZE) {\n",
    "        array[i] = -1;\n",
    "    }\n",
    "}\n",
    "```"
   ]
  },
  {
   "cell_type": "markdown",
   "id": "186244fb-121c-4b20-b254-45ca1492aa31",
   "metadata": {},
   "source": [
    "PREGUNTA: ¿Qué le ocurre al programa? Sabiendo que el programador quería establecer a -1 todos los elementos del array, ¿dónde está el error?\n",
    "\n",
    "RESPUESTA:\n"
   ]
  },
  {
   "cell_type": "markdown",
   "id": "0e862a5e-dfa5-4ab1-aa73-755ad7eff385",
   "metadata": {},
   "source": [
    "- El siguiente programa en ensamblador es similar al programa en C anterior (escribe el valor -1 en todos los elementos de un array). Copia y pega en Ripes, y simula paso a paso observando lo que le ocurre al programa."
   ]
  },
  {
   "cell_type": "markdown",
   "id": "705a5880-a720-4f95-8168-c1ccfe68e844",
   "metadata": {},
   "source": [
    "```\n",
    "        .data\n",
    "array:\n",
    "        .word   15\n",
    "        .word   14\n",
    "        .word   13\n",
    "        .word   12\n",
    "        \n",
    "    .text\n",
    "main:\n",
    "        la      a5, array\n",
    "        addi    a3,a5,16\n",
    "        li      a4, 0\n",
    "loop:\n",
    "        sw      a4,0(a5)\n",
    "        addi    a4,a4,1\n",
    "        bne     a5,a3,loop\n",
    "        li      a0,0\n",
    "        ret\n",
    "\n",
    "```"
   ]
  },
  {
   "cell_type": "markdown",
   "id": "2289700a-6e87-43ad-b0c4-9dbcb90e5e56",
   "metadata": {},
   "source": [
    "PREGUNTA: ¿Qué le ocurre al programa? ¿Podrías identificar el *bug* y resolverlo?\n",
    "\n",
    "RESPUESTA:\n"
   ]
  },
  {
   "cell_type": "markdown",
   "id": "494af738-8acf-48af-a35c-907f17331231",
   "metadata": {},
   "source": [
    "### Otro tipo de *bugs* bastante común"
   ]
  },
  {
   "cell_type": "markdown",
   "id": "544ff7eb-2915-4350-89d0-80de9301ddc5",
   "metadata": {},
   "source": [
    "- Esta es otra versión diferente del programa que contiene un error distinto. Copia y pega el siguiente código en Ripes, y ejecuta tanto desde el editor como desde la pestaña *Memory*, observando lo que ocurre con los valores del array y de la variable \"hola\"."
   ]
  },
  {
   "cell_type": "markdown",
   "id": "1936c6a0-9166-4fe3-90aa-76604726e47c",
   "metadata": {},
   "source": [
    "```\n",
    "        .data\n",
    "array:\n",
    "        .word   15\n",
    "        .word   14\n",
    "        .word   13\n",
    "        .word   12\n",
    "hola:   .string \"En un lugar de la Mancha, de cuyo nombre no quiero acordarme,...\"\n",
    "        \n",
    "    .text\n",
    "main:\n",
    "        la      a5, array\n",
    "        addi    a3,a5,-16\n",
    "        li      a4, -1\n",
    "loop:\n",
    "        sw      a4,0(a5)\n",
    "        addi    a4,a4,1\n",
    "        addi    a5,a5,4\n",
    "        bne     a5,a3,loop\n",
    "        li      a0,0\n",
    "        ret\n",
    "```"
   ]
  },
  {
   "attachments": {},
   "cell_type": "markdown",
   "id": "06eabf6a-dceb-4004-a8e7-0d631add5d59",
   "metadata": {},
   "source": [
    "PREGUNTA: ¿Qué le ocurre a este programa? ¿Cómo podrías solucionarlo? *PISTA: Fíjate en cómo se usa el registro a3 en el programa del ejercicio anterior.*)\n",
    "\n",
    "RESPUESTA:\n",
    "\n"
   ]
  }
 ],
 "metadata": {
  "kernelspec": {
   "display_name": "Bash",
   "language": "bash",
   "name": "bash"
  },
  "language_info": {
   "codemirror_mode": "shell",
   "file_extension": ".sh",
   "mimetype": "text/x-sh",
   "name": "bash"
  },
  "toc": {
   "base_numbering": 1,
   "nav_menu": {},
   "number_sections": true,
   "sideBar": true,
   "skip_h1_title": true,
   "title_cell": "Table of Contents",
   "title_sidebar": "Contents",
   "toc_cell": false,
   "toc_position": {
    "height": "calc(100% - 180px)",
    "left": "10px",
    "top": "150px",
    "width": "296px"
   },
   "toc_section_display": true,
   "toc_window_display": false
  }
 },
 "nbformat": 4,
 "nbformat_minor": 5
}
