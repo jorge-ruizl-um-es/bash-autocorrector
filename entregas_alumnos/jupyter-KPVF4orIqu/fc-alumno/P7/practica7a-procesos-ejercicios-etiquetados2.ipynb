{
 "cells": [
  {
   "cell_type": "markdown",
   "id": "8e983960",
   "metadata": {},
   "source": [
    "# Ejercicios - Práctica 7a: Procesos en el *shell* de Linux."
   ]
  },
  {
   "cell_type": "markdown",
   "id": "5f67155f",
   "metadata": {},
   "source": [
    "<br>\n",
    "<font size=\"5\">  \n",
    "    <span style=\"color: red;\"><b>ATENCIÓN:</b><br>Se recomienda realizar los ejercicios propuestos de este boletín en un terminal independiente, ya que la mayoría de ellos <b>no pueden llevarse a cabo en Jupyter</b> debido a que es necesario interactuar con el programa lanzado mediante el teclado durante su ejecución. \n",
    "    </span>\n",
    "    <br><br>\n",
    "    Utiliza el <i>notebook</i> únicamente para responder a las preguntas o introducir el comando requerido en las celdas de código.\n",
    "</font>  \n"
   ]
  },
  {
   "cell_type": "markdown",
   "id": "c61e6f57",
   "metadata": {},
   "source": [
    "### Control de procesos en primer y segundo plano"
   ]
  },
  {
   "cell_type": "markdown",
   "id": "043a0cc4-5e30-43d1-ac07-a2ea82d73652",
   "metadata": {},
   "source": [
    "- Lanza el programa `gnome-text-editor` desde un terminal, y luego pulsa `Ctrl-C` para enviar al proceso una señal de terminación. ¿Puedes terminar su ejecución de esta forma? ¿Por qué? ¿A qué proceso le llega la señal `SIGINT` enviada al pulsar `Ctrl-C`?\n",
    "\n"
   ]
  },
  {
   "cell_type": "markdown",
   "id": "8826df30-6128-4f9e-875a-01a4229a585e",
   "metadata": {},
   "source": [
    "Respuesta: Sí, se puede terminar su ejecución de esta forma, pues ctrl-c es el método para terminar una ejecución en primer plano"
   ]
  },
  {
   "cell_type": "markdown",
   "id": "038ef6a8",
   "metadata": {},
   "source": [
    "Vuelve a lanzar el mismo programa, esta vez en segundo plano, y tras hacerlo, pulsa de nuevo `Ctrl-C`. ¿Puedes terminar su ejecución así? ¿Por qué? ¿A qué proceso le llega esta vez la señal `SIGINT`?\n",
    "\n"
   ]
  },
  {
   "cell_type": "code",
   "execution_count": 1,
   "id": "d2eea050",
   "metadata": {},
   "outputs": [
    {
     "name": "stdout",
     "output_type": "stream",
     "text": [
      "[1] 640020\n"
     ]
    }
   ],
   "source": [
    "#VII.38\n",
    "#VII.34\n",
    "#VII.29\n",
    "#VII.28\n",
    "#VII.27\n",
    "#VII.26\n",
    "#VII.9\n",
    "# Comando para lanzar gnome-text-editor en segundo plano\n",
    "gnome-text-editor &"
   ]
  },
  {
   "cell_type": "markdown",
   "id": "34002cc0",
   "metadata": {},
   "source": [
    "- ¿Qué comando utilizarías para poder terminar el comando lanzado anteriormente sabiendo su PID?"
   ]
  },
  {
   "cell_type": "code",
   "execution_count": 2,
   "id": "91497829",
   "metadata": {},
   "outputs": [
    {
     "name": "stdout",
     "output_type": "stream",
     "text": [
      "No se ha encontrado la orden «gnome-text-editor», pero se puede instalar con:\n",
      "snap install gnome-text-editor  # version 45.1, or\n",
      "apt  install gedit              # version 41.0-3\n",
      "apt  install gnome-text-editor  # version 42.2-0ubuntu1\n",
      "Consulte «snap info gnome-text-editor» para ver más versiones.\n",
      "[1]+  Salida 127              gnome-text-editor\n",
      "bash: kill: %1: no existe ese trabajo\n"
     ]
    },
    {
     "ename": "",
     "evalue": "1",
     "output_type": "error",
     "traceback": []
    }
   ],
   "source": [
    "#VII.2\n",
    "# Comando para terminar la ejecución del proceso lanzado a partir del nombre del programa\n",
    "kill %1"
   ]
  },
  {
   "cell_type": "markdown",
   "id": "71867479-8914-42fb-8ba8-ba12ad70dd14",
   "metadata": {},
   "source": [
    "PREGUNTA: Una vez terminada la ejecución del comando anterior, sin teclear ningún comando, presiona repetidamente `Ctrl-C`. ¿Qué ocurre cada vez que lo haces? ¿Es posible terminar la ejecución del shell de esa forma?\n"
   ]
  },
  {
   "cell_type": "markdown",
   "id": "37aad816-3363-4f07-80c1-26eed85d0adb",
   "metadata": {},
   "source": [
    "RESPUESTA:No ocurre nada, puesto que ya había terminado la ejecución del programa anterior con kill (PID) entonces no queda ningún programa (en ningú plano que terminar)\n",
    "\n"
   ]
  },
  {
   "cell_type": "markdown",
   "id": "07b435d3-cc1f-4f5c-b34e-b3e1ef843226",
   "metadata": {},
   "source": [
    "- Lanza los programas `okteta` y `gnome-text-editor` desde el terminal, ambos en primer plano, como una secuencia de comandos consecutivos, en la misma línea de la siguiente celda:"
   ]
  },
  {
   "cell_type": "code",
   "execution_count": 3,
   "id": "8bb9c999-744b-48b8-b30d-2d06cd04baec",
   "metadata": {},
   "outputs": [
    {
     "name": "stdout",
     "output_type": "stream",
     "text": [
      "No se ha encontrado la orden «okteta», pero se puede instalar con:\n",
      "snap install okteta  # version 0.26.13, or\n",
      "apt  install okteta  # version 5:0.26.7-1\n",
      "Consulte «snap info okteta» para ver más versiones.\n",
      "No se ha encontrado la orden «gnome-text-editor», pero se puede instalar con:\n",
      "snap install gnome-text-editor  # version 45.1, or\n",
      "apt  install gedit              # version 41.0-3\n",
      "apt  install gnome-text-editor  # version 42.2-0ubuntu1\n",
      "Consulte «snap info gnome-text-editor» para ver más versiones.\n"
     ]
    },
    {
     "ename": "",
     "evalue": "127",
     "output_type": "error",
     "traceback": []
    }
   ],
   "source": [
    "# Lanzar okteta y después gnome-text-editor, ambos en primer plano\n",
    "okteta; gnome-text-editor"
   ]
  },
  {
   "cell_type": "markdown",
   "id": "6ebc93a7",
   "metadata": {},
   "source": [
    "PREGUNTA: ¿Qué ha de ocurrir para que comience a ejecutarse el editor `gnome-text-editor`? ¿Cuándo se completa la ejecución de la celda del notebook?"
   ]
  },
  {
   "cell_type": "markdown",
   "id": "0a6506e5-d6e3-4ae3-ad20-56f2f3f60ac7",
   "metadata": {},
   "source": [
    "RESPUESTA:\n",
    "Debe terminarse la ejecución del okteta antes (directamente o con ctrl-c\n"
   ]
  },
  {
   "cell_type": "markdown",
   "id": "6f7a601c-0136-4e19-b8f5-ee8b05a7ce0c",
   "metadata": {},
   "source": [
    "- Vuelve a lanzar los dos programas en una misma línea de comandos, pero esta vez en segundo plano."
   ]
  },
  {
   "cell_type": "code",
   "execution_count": 4,
   "id": "552cf1f7-6670-413d-ae47-9d5fc1ba9a25",
   "metadata": {},
   "outputs": [
    {
     "name": "stdout",
     "output_type": "stream",
     "text": [
      "[1] 640064\n",
      "[2] 640065\n"
     ]
    }
   ],
   "source": [
    "# Lanzar okteta y después gnome-text-editor, ambos en segundo plano\n",
    "okteta & gnome-text-editor &"
   ]
  },
  {
   "cell_type": "markdown",
   "id": "b4948205-22c4-44fb-9532-47b40855f089",
   "metadata": {},
   "source": [
    "- Escribe el comando adecuado para pasar a primer plano el último proceso que se lanzó (el editor `gnome-text-editor`).\n",
    "\n",
    "RESPUESTA: fg (foreground)\n",
    "\n"
   ]
  },
  {
   "cell_type": "markdown",
   "id": "f4576b30",
   "metadata": {},
   "source": [
    "PREGUNTA: Desde el terminal, termina el proceso que acabas de pasar a primer plano. ¿Qué teclas o comando has utilizado?\n",
    "\n",
    "RESPUESTA: Ctrl - C\n",
    "\n"
   ]
  },
  {
   "cell_type": "markdown",
   "id": "2a2a49f9-1684-4f43-b518-f646fa9af5b2",
   "metadata": {},
   "source": [
    "PREGUNTA: Repite el comando `fg` para hacer lo propio con el comando anterior (`okteta`), pero esta vez, en lugar de terminarlo, páralo. ¿Qué teclas o comando has utilizado?\n",
    "\n",
    "RESPUESTA: Ctrl-Z\n",
    "\n"
   ]
  },
  {
   "cell_type": "markdown",
   "id": "0f4215bc",
   "metadata": {},
   "source": [
    "PREGUNTA: Trata de interactuar con el proceso `okteta`, ¿por que no responde al ratón ni al teclado?\n",
    "\n",
    "RESPUESTA: Con Ctrl-Z, detiene el programa ante el sistema operativo. Por lo tanto, el programa, aunque abierto, no recibe ninguna entrada de ratón o teclado. No responde a interrupciones de dispositivos de entrada/salida (También permanecen en pausa sus procesos ante la CPU)\n"
   ]
  },
  {
   "cell_type": "markdown",
   "id": "e509880d",
   "metadata": {},
   "source": [
    "PREGUNTA: Vuelve a despertar el proceso `okteta` pero esta vez en segundo plano. ¿Qué comando has de utilizar?\n",
    "\n",
    "RESPUESTA: bg (background)\n",
    "\n"
   ]
  },
  {
   "cell_type": "markdown",
   "id": "c582f37f",
   "metadata": {},
   "source": [
    "- Usa la orden adecuada para listar los procesos lanzados desde el terminal donde estás ejecutando los comandos anteriores."
   ]
  },
  {
   "cell_type": "code",
   "execution_count": 5,
   "id": "c989208a",
   "metadata": {},
   "outputs": [
    {
     "name": "stdout",
     "output_type": "stream",
     "text": [
      "No se ha encontrado la orden «gnome-text-editor», pero se puede instalar con:\n",
      "snap install gnome-text-editor  # version 45.1, or\n",
      "apt  install gedit              # version 41.0-3\n",
      "apt  install gnome-text-editor  # version 42.2-0ubuntu1\n",
      "Consulte «snap info gnome-text-editor» para ver más versiones.\n",
      "No se ha encontrado la orden «okteta», pero se puede instalar con:\n",
      "snap install okteta  # version 0.26.13, or\n",
      "apt  install okteta  # version 5:0.26.7-1\n",
      "Consulte «snap info okteta» para ver más versiones.\n",
      "[1]-  Salida 127              okteta\n",
      "[2]+  Salida 127              gnome-text-editor\n",
      "    PID TTY          TIME CMD\n",
      " 639965 pts/1    00:00:00 bash\n",
      " 640092 pts/1    00:00:00 ps\n"
     ]
    }
   ],
   "source": [
    "#VII.5\n",
    "# Comando para monitorizar los procesos activos lanzados en este terminal\n",
    "ps"
   ]
  },
  {
   "cell_type": "markdown",
   "id": "559c6d51-fb7e-4aa8-8bbc-a7066eadf691",
   "metadata": {},
   "source": [
    "```\n",
    "    PID TTY          TIME CMD\n",
    "  19422 pts/5    00:00:00 bash\n",
    "  27254 pts/5    00:00:01 okteta\n",
    "  28051 pts/5    00:00:00 ps\n",
    "```"
   ]
  },
  {
   "cell_type": "markdown",
   "id": "80a20a8a-14a2-4f48-8517-f464f2a6122b",
   "metadata": {},
   "source": [
    "- Finalmente, termina el proceso `okteta` desde el terminal esta vez usando el PID (identificador del proceso) que nos indicó el terminal al lanzar el proceso inicialmente."
   ]
  },
  {
   "cell_type": "code",
   "execution_count": 6,
   "id": "9f86707c",
   "metadata": {},
   "outputs": [
    {
     "name": "stdout",
     "output_type": "stream",
     "text": [
      "bash: kill: %1: no existe ese trabajo\n"
     ]
    },
    {
     "ename": "",
     "evalue": "1",
     "output_type": "error",
     "traceback": []
    }
   ],
   "source": [
    "#VII.6\n",
    "# Comando para terminar el proceso lanzado en segundo plano\n",
    "kill %1"
   ]
  },
  {
   "cell_type": "markdown",
   "id": "e7cee5ac-bcec-4e17-baf4-c53759766a8a",
   "metadata": {},
   "source": [
    "PREGUNTA: Lanza de nuevo los programas `okteta` y `gnome-text-editor`, en dicho orden, pero esta vez únicamente con `okteta` en segundo plano. ¿Qué ocurre si ahora pulsas `Ctrl-C` en el terminal?\n",
    "\n",
    "RESPUESTA: Se termina el gnome-text-editor solamente (que era el que estaba en primer plano), mientras que el okteta persevera. Esto ocurre porque los procesos en primer plano se detienen con Ctrl-C \n",
    "\n"
   ]
  },
  {
   "cell_type": "markdown",
   "id": "00c51ed8",
   "metadata": {},
   "source": [
    "- Usando el comando adecuado, averigua el PID del proceso que está ejecutando `okteta` a partir de su nombre."
   ]
  },
  {
   "cell_type": "code",
   "execution_count": 7,
   "id": "9f9f5985",
   "metadata": {},
   "outputs": [
    {
     "ename": "",
     "evalue": "1",
     "output_type": "error",
     "traceback": []
    }
   ],
   "source": [
    "#VII.7\n",
    "# Comando para averiguar el PID del un proceso por el nombre del comando ejecutado\n",
    "pgrep okteta"
   ]
  },
  {
   "cell_type": "markdown",
   "id": "4a8907ca-3ed5-4e68-8b42-1372181296e8",
   "metadata": {},
   "source": [
    "- Termina el programa `okteta` sin necesidad de introducir su PID"
   ]
  },
  {
   "cell_type": "code",
   "execution_count": 8,
   "id": "57ccec94-bb9e-4744-a562-6ee857476af2",
   "metadata": {},
   "outputs": [
    {
     "ename": "",
     "evalue": "1",
     "output_type": "error",
     "traceback": []
    }
   ],
   "source": [
    "#VII.8\n",
    "pkill okteta"
   ]
  },
  {
   "cell_type": "markdown",
   "id": "f715191f-fce5-40c7-a9f0-049d7de99b3b",
   "metadata": {},
   "source": [
    "PREGUNTA: Descarga el programa ejecutable `uninterruptible`, el cual tienes disponible a través del AV, y cámbiale los permisos para poder ejecutarlo. Ejecútalo en primer plano y prueba a terminar su ejecución con `CTRL-C`. ¿Puedes? Explica qué semejanzas crees que tiene este programa con el programa *shell* en cuanto al tratamiento de la señal `SIGINT`.\n",
    "\n",
    "RESPUESTA: Me sale Recibida señal SIGINT, ignorada... Esto querría decir que el ejecutable tiene alguna configuración para ignorar la señal SIGINT del Ctrl-C. En caso similar, el shell también está configurado para ignorar el Ctrl-C\n"
   ]
  },
  {
   "cell_type": "markdown",
   "id": "3a223cf7-f83c-4a9b-8ea4-2002b8f5ea08",
   "metadata": {},
   "source": [
    "PREGUNTA: Detén la ejecución del programa lanzado anteriormente, sin terminarlo. Después lista los procesos lanzados en el terminal, ¿cuánto tiempo ha usado la CPU el programa `uninterruptible` antes de ser detenido? Si vuelves a listar los procesos, ¿ha variado el tiempo de CPU?\n",
    "\n",
    "RESPUESTA: Lo ha usado 00:09:02 minutos. Si vuelvo a listar los procesos no varía, puesto que está detenido con Ctrl-Z."
   ]
  },
  {
   "cell_type": "markdown",
   "id": "2959ee8e-3cd7-4eec-8478-0cfe7dc0ef4d",
   "metadata": {},
   "source": [
    "PREGUNTA: Reanuda en segundo plano la ejecución del programa detenido anteriormente, y usa el comando adecuado para observar periódicamente el tiempo de CPU que lleva consumido. ¿Qué porcentaje de la CPU usa cuando está en ejecución? ¿En qué medida crece el tiempo de uso de la CPU con respecto al tiempo \"del reloj de pared\" (medido por una persona)?\n",
    "\n",
    "RESPUESTA: Entre un 99,3 a un 99,7 (en algunos casos logra llegar a un 100,0. Crece el tiempo de forma proporcional con respecto al tiempo del reloj de pared.\n",
    "\n"
   ]
  },
  {
   "cell_type": "markdown",
   "id": "12e5101a-68ef-42e0-a9c2-e5a82f5261d5",
   "metadata": {},
   "source": [
    "PREGUNTA: Termina el programa `uninterruptible`, ya sea por su nombre o PID, enviando la señal `SIGTERM`. ¿Puedes terminar el proceso? Indica el comando que has utilizado.\n",
    "\n",
    "RESPUESTA: He utilizado el comando kill 10802 (El PID del proceso).\n",
    "Me ha indicado:\n",
    "\"Recibida señal SIGTERM, terminando...\n",
    "El programa ./uninterruptible está a punto de terminar voluntariamente\"\n",
    "\n"
   ]
  },
  {
   "cell_type": "markdown",
   "id": "50a497c3",
   "metadata": {},
   "source": [
    "PREGUNTA: A la vista de la salida del programa `uninterruptible` terminado en el paso anterior, ¿crees que el programa termina súbitamente al recibir la señal, o lo hace por sus propios medios?\n",
    "\n",
    "RESPUESTA: Teniendo en cuenta el mensaje que me ha dado, parece que lo que hago es emitir una señal que luego hace que el programa termine por sus propios medios. Entiendo que hay cierto nivel de control en el manejo de los recursos que utiliza el programa cuanto intento forzar su cierre que cuando intento cerrarlo, esperando que el programa se termine voluntariamente\n",
    "\n"
   ]
  },
  {
   "cell_type": "markdown",
   "id": "5cbaf5da-0fb9-4a71-abef-dfd0b6283cb4",
   "metadata": {},
   "source": [
    "PREGUNTA: Descarga el programa `stubborn` del AV y cámbiale los permisos para poder ejecutarlo. Después, ejecútalo en primer plano y prueba a terminar su ejecución con `CTRL-C`. ¿Qué ocurre? De nuevo, observa los procesos en ejecución con el comando adecuado, ¿cuál es su uso de CPU?\n",
    "./.\n",
    "RESPUESTA: Nuevamente, este ejecutable también parece configurado para ignorar el Ctrl-C. \n",
    "\n",
    "Su uso, revisándolo con el comando 'top', me revela que está consumiendo entre el 99,7 y el 100,0 %CPU."
   ]
  },
  {
   "cell_type": "markdown",
   "id": "8e8df847-5afc-4622-b5f9-3955cabf9832",
   "metadata": {},
   "source": [
    "PREGUNTA: Detén la ejecución del programa lanzado anteriormente, sin terminarlo, y luego reanuda en segundo plano su ejecución. Después, trata de terminar el programa `stubborn`, ya sea por su nombre o PID, enviando la señal `SIGTERM` al igual que has hecho anteriormente. ¿Puedes terminar el proceso de esta forma?\n",
    "\n",
    "RESPUESTA:\n",
    "No, no se puede. Me indica que Está recibiendo la señal SIGTERM, pero la está ignorando.\n"
   ]
  },
  {
   "cell_type": "markdown",
   "id": "3d3e8e0e",
   "metadata": {},
   "source": [
    "PREGUNTA: A la vista de lo anterior, ¿de qué forma podemos terminar el proceso `stubborn`? Indica el comando.\n",
    "\n",
    "RESPUESTA:\n",
    "\n",
    "La única forma de acabar con el proceso es \"matarlo\" con `pkill -9 stubborn`, lo cual hace que se le envíe la señal `SIGKILL`, que ningún proceso puede ignorar. Al hacerlo, vemos este mensaje: \n",
    "```\n",
    "[1]+  Terminado (killed)      ./stubborn\n",
    "```\n"
   ]
  },
  {
   "cell_type": "markdown",
   "id": "b33cb824",
   "metadata": {},
   "source": [
    "### Listado y monitorización de procesos"
   ]
  },
  {
   "cell_type": "markdown",
   "id": "d9456ca4",
   "metadata": {},
   "source": [
    "- Usa el comando adecuado para mostrar **todos** los procesos que se están ejecutando actualmente en el sistema."
   ]
  },
  {
   "cell_type": "code",
   "execution_count": 9,
   "id": "dcbfdbf2",
   "metadata": {},
   "outputs": [
    {
     "name": "stdout",
     "output_type": "stream",
     "text": [
      "UID          PID    PPID  C STIME TTY          TIME CMD\n",
      "root           1       0  0 nov14 ?        00:04:17 /sbin/init\n",
      "root           2       0  0 nov14 ?        00:00:00 [kthreadd]\n",
      "root           3       2  0 nov14 ?        00:00:00 [pool_workqueue_release]\n",
      "root           4       2  0 nov14 ?        00:00:00 [kworker/R-rcu_g]\n",
      "root           5       2  0 nov14 ?        00:00:00 [kworker/R-rcu_p]\n",
      "root           6       2  0 nov14 ?        00:00:00 [kworker/R-slub_]\n",
      "root           7       2  0 nov14 ?        00:00:00 [kworker/R-netns]\n",
      "root          10       2  0 nov14 ?        00:00:00 [kworker/0:0H-events_highpri\n",
      "root          12       2  0 nov14 ?        00:00:00 [kworker/R-mm_pe]\n",
      "root          13       2  0 nov14 ?        00:00:00 [rcu_tasks_rude_kthread]\n",
      "root          14       2  0 nov14 ?        00:00:00 [rcu_tasks_trace_kthread]\n",
      "root          15       2  0 nov14 ?        00:00:03 [ksoftirqd/0]\n",
      "root          16       2  0 nov14 ?        00:01:30 [rcu_sched]\n",
      "root          17       2  0 nov14 ?        00:00:11 [migration/0]\n",
      "root          18       2  0 nov14 ?        00:00:00 [idle_inject/0]\n",
      "root          19       2  0 nov14 ?        00:00:00 [cpuhp/0]\n",
      "root          20       2  0 nov14 ?        00:00:00 [cpuhp/1]\n",
      "root          21       2  0 nov14 ?        00:00:00 [idle_inject/1]\n",
      "root          22       2  0 nov14 ?        00:00:10 [migration/1]\n",
      "root          23       2  0 nov14 ?        00:00:02 [ksoftirqd/1]\n",
      "root          25       2  0 nov14 ?        00:00:00 [kworker/1:0H-events_highpri\n",
      "root          26       2  0 nov14 ?        00:00:00 [cpuhp/2]\n",
      "root          27       2  0 nov14 ?        00:00:00 [idle_inject/2]\n",
      "root          28       2  0 nov14 ?        00:00:08 [migration/2]\n",
      "root          29       2  0 nov14 ?        00:00:02 [ksoftirqd/2]\n",
      "root          31       2  0 nov14 ?        00:00:00 [kworker/2:0H-kblockd]\n",
      "root          32       2  0 nov14 ?        00:00:00 [cpuhp/3]\n",
      "root          33       2  0 nov14 ?        00:00:00 [idle_inject/3]\n",
      "root          34       2  0 nov14 ?        00:00:08 [migration/3]\n",
      "root          35       2  0 nov14 ?        00:00:02 [ksoftirqd/3]\n",
      "root          37       2  0 nov14 ?        00:00:00 [kworker/3:0H-events_highpri\n",
      "root          38       2  0 nov14 ?        00:00:00 [kdevtmpfs]\n",
      "root          39       2  0 nov14 ?        00:00:00 [kworker/R-inet_]\n",
      "root          41       2  0 nov14 ?        00:00:00 [kauditd]\n",
      "root          42       2  0 nov14 ?        00:00:01 [khungtaskd]\n",
      "root          43       2  0 nov14 ?        00:00:00 [oom_reaper]\n",
      "root          45       2  0 nov14 ?        00:00:00 [kworker/R-write]\n",
      "root          46       2  0 nov14 ?        00:01:21 [kcompactd0]\n",
      "root          47       2  0 nov14 ?        00:00:00 [ksmd]\n",
      "root          48       2  0 nov14 ?        00:00:10 [khugepaged]\n",
      "root          49       2  0 nov14 ?        00:00:00 [kworker/R-kinte]\n",
      "root          50       2  0 nov14 ?        00:00:00 [kworker/R-kbloc]\n",
      "root          51       2  0 nov14 ?        00:00:00 [kworker/R-blkcg]\n",
      "root          52       2  0 nov14 ?        00:00:00 [irq/9-acpi]\n",
      "root          56       2  0 nov14 ?        00:00:00 [kworker/R-tpm_d]\n",
      "root          57       2  0 nov14 ?        00:00:00 [kworker/R-ata_s]\n",
      "root          58       2  0 nov14 ?        00:00:00 [kworker/R-md]\n",
      "root          59       2  0 nov14 ?        00:00:00 [kworker/R-md_bi]\n",
      "root          60       2  0 nov14 ?        00:00:00 [kworker/R-edac-]\n",
      "root          61       2  0 nov14 ?        00:00:00 [kworker/R-devfr]\n",
      "root          62       2  0 nov14 ?        00:00:00 [watchdogd]\n",
      "root          63       2  0 nov14 ?        00:00:06 [kworker/1:1H-kblockd]\n",
      "root          64       2  0 nov14 ?        00:00:29 [kswapd0]\n",
      "root          65       2  0 nov14 ?        00:00:00 [ecryptfs-kthread]\n",
      "root          66       2  0 nov14 ?        00:00:00 [kworker/R-kthro]\n",
      "root          67       2  0 nov14 ?        00:00:00 [kworker/R-acpi_]\n",
      "root          68       2  0 nov14 ?        00:00:45 [hwrng]\n",
      "root          69       2  0 nov14 ?        00:00:00 [scsi_eh_0]\n",
      "root          70       2  0 nov14 ?        00:00:00 [kworker/R-scsi_]\n",
      "root          71       2  0 nov14 ?        00:00:00 [kworker/R-nvme-]\n",
      "root          72       2  0 nov14 ?        00:00:00 [kworker/R-nvme-]\n",
      "root          73       2  0 nov14 ?        00:00:00 [kworker/R-nvme-]\n",
      "root          74       2  0 nov14 ?        00:00:00 [kworker/R-nvme-]\n",
      "root          75       2  0 nov14 ?        00:00:06 [kworker/0:1H-kblockd]\n",
      "root          76       2  0 nov14 ?        00:00:06 [kworker/2:1H-kblockd]\n",
      "root          77       2  0 nov14 ?        00:00:16 [kworker/3:1H-kblockd]\n",
      "root          78       2  0 nov14 ?        00:00:00 [kworker/R-mld]\n",
      "root          79       2  0 nov14 ?        00:00:00 [kworker/R-ipv6_]\n",
      "root          86       2  0 nov14 ?        00:00:00 [kworker/R-kstrp]\n",
      "root          89       2  0 nov14 ?        00:00:00 [kworker/u9:0]\n",
      "root         102       2  0 nov14 ?        00:00:00 [kworker/R-charg]\n",
      "root         103       2  0 nov14 ?        00:01:12 [jbd2/sda1-8]\n",
      "root         104       2  0 nov14 ?        00:00:00 [kworker/R-ext4-]\n",
      "root         145       1  0 nov14 ?        00:23:54 /lib/systemd/systemd-journal\n",
      "root         178       2  0 nov14 ?        00:00:00 [kworker/R-kalua]\n",
      "root         180       2  0 nov14 ?        00:00:00 [kworker/R-kmpat]\n",
      "root         182       2  0 nov14 ?        00:00:00 [kworker/R-kmpat]\n",
      "root         183       2  0 nov14 ?        00:00:00 [kworker/R-kmpat]\n",
      "root         185       1  0 nov14 ?        00:03:22 /sbin/multipathd -d -s\n",
      "root         195       1  0 nov14 ?        00:00:03 /lib/systemd/systemd-udevd\n",
      "root         224       2  0 nov14 ?        00:00:00 [kworker/R-crypt]\n",
      "systemd+     401       1  0 nov14 ?        00:00:10 /lib/systemd/systemd-network\n",
      "systemd+     403       1  0 nov14 ?        00:00:05 /lib/systemd/systemd-resolve\n",
      "root         436       1  0 nov14 ?        00:03:35 /usr/libexec/accounts-daemon\n",
      "message+     438       1  0 nov14 ?        00:00:08 @dbus-daemon --system --addr\n",
      "root         442       1  0 nov14 ?        00:04:21 /usr/bin/google_osconfig_age\n",
      "root         446       1  0 nov14 ?        00:00:01 /usr/bin/python3 /usr/bin/ne\n",
      "syslog       449       1  0 nov14 ?        00:06:34 /usr/sbin/rsyslogd -n -iNONE\n",
      "root         472       1  0 nov14 ?        00:49:47 /opt/tljh/hub/bin/traefik -c\n",
      "_chrony      475       1  0 nov14 ?        00:00:01 /usr/sbin/chronyd -F 1\n",
      "root         476       1  0 nov14 ?        00:33:17 /opt/tljh/hub/bin/python3 -m\n",
      "_chrony      478     475  0 nov14 ?        00:00:00 /usr/sbin/chronyd -F 1\n",
      "root         614       1  0 nov14 ?        00:03:45 /usr/bin/google_guest_agent\n",
      "root         623       1  0 nov14 ?        00:00:00 /usr/libexec/polkitd --no-de\n",
      "root         688       1  0 nov14 ?        00:00:00 /usr/bin/python3 /usr/share/\n",
      "root         752       1  0 nov14 ttyS0    00:00:00 /sbin/agetty -o -p -- \\u --k\n",
      "root         754       1  0 nov14 tty1     00:00:00 /sbin/agetty -o -p -- \\u --n\n",
      "root         755       1  0 nov14 ?        00:00:00 sshd: /usr/sbin/sshd -D [lis\n",
      "root         767       1  0 nov14 ?        00:00:05 /lib/systemd/systemd-logind\n",
      "root         786       1  0 nov14 ?        00:00:03 /usr/sbin/cron -f -P\n",
      "root         819     476  0 nov14 ?        00:02:59 /opt/tljh/hub/bin/python3 -m\n",
      "root         823       2  0 nov14 ?        00:00:00 [kworker/R-tls-s]\n",
      "root        1223       1  0 nov14 ?        00:00:13 /usr/libexec/packagekitd\n",
      "root      228728       1  0 nov26 ?        00:00:50 /usr/lib/snapd/snapd\n",
      "root      414632       2  0 dic03 ?        00:00:10 [kworker/3:0-mm_percpu_wq]\n",
      "root      621000       2  0 dic06 ?        00:00:04 [kworker/0:2-events]\n",
      "root      630391       2  0 dic06 ?        00:00:23 [kworker/2:2-events_freezabl\n",
      "root      631031       2  0 dic06 ?        00:00:01 [kworker/1:0-events]\n",
      "root      637195       2  0 13:18 ?        00:00:00 [kworker/u8:0-events_unbound\n",
      "root      639755       2  0 14:38 ?        00:00:00 [kworker/u8:2-events_power_e\n",
      "root      639829       2  0 14:43 ?        00:00:00 [kworker/1:2]\n",
      "root      639879       2  0 14:52 ?        00:00:00 [kworker/3:1]\n",
      "root      639889       2  0 14:53 ?        00:00:00 [kworker/0:3-events]\n",
      "root      639899       2  2 15:02 ?        00:00:16 [kworker/2:1-mm_percpu_wq]\n",
      "root      639901       2  0 15:09 ?        00:00:00 [kworker/u8:1-events_power_e\n",
      "jupyter+  639915       1  3 15:13 ?        00:00:06 /opt/tljh/user/bin/python /o\n",
      "jupyter+  639927  639915  0 15:13 pts/0    00:00:00 /bin/bash -l\n",
      "jupyter+  639946  639915  0 15:13 ?        00:00:00 /opt/tljh/user/bin/python3 -\n",
      "jupyter+  639949  639915  0 15:13 ?        00:00:00 /opt/tljh/user/bin/python3 -\n",
      "jupyter+  639965  639946  0 15:13 pts/1    00:00:00 /usr/bin/bash --rcfile /opt/\n",
      "jupyter+  639983  639949  0 15:13 pts/2    00:00:00 /usr/bin/bash --rcfile /opt/\n",
      "root      640008       2  0 15:14 ?        00:00:00 [kworker/u8:3-events_power_e\n",
      "root      640009       2  0 15:14 ?        00:00:00 [kworker/u8:4-events_power_e\n",
      "jupyter+  640115  639965  0 15:16 pts/1    00:00:00 ps -Af\n"
     ]
    }
   ],
   "source": [
    "ps -Af"
   ]
  },
  {
   "cell_type": "markdown",
   "id": "4f9ed984",
   "metadata": {},
   "source": [
    "- Localiza tres procesos cuyo propietario sea nuestro usuario, y otros tres cuyo propietario sea el superusuario (root). Pega la línea completa mostrada para cada proceso.\n",
    "\n",
    "RESPUESTA: Esta respuesta fue de la primera ejecución. Después volví a ejecutarlo y los valores cambiaron.\n",
    "\n",
    "Procesos en los que el propietario es mi usuario: \n",
    "jupyter+  630718       1  1 19:35 ?        00:01:29 /opt/tljh/user/bin/python /o\n",
    "jupyter+  630984  630718  8 19:47 ?        00:06:52 /opt/tljh/user/bin/python -m\n",
    "jupyter+  632255  632238  0 20:44 pts/2    00:00:00 /usr/bin/bash --rcfile /opt/\n",
    "\n",
    "Procesos del superusuario (root):\n",
    "root         752       1  0 nov14 ttyS0    00:00:00 /sbin/agetty -o -p -- \\u --k\n",
    "root         754       1  0 nov14 tty1     00:00:00 /sbin/agetty -o -p -- \\u --n\n",
    "root         755       1  0 nov14 ?        00:00:00 sshd: /usr/sbin/sshd -D [lis\n"
   ]
  },
  {
   "cell_type": "markdown",
   "id": "50897f10",
   "metadata": {},
   "source": [
    "- Localiza el proceso que ha consumido más tiempo de CPU. Pega la línea completa mostrada.\n",
    "\n",
    "Esta respuesta fue de la primera ejecución. Después volví a ejecutarlo y los valores cambiaron.\n",
    "RESPUESTA: 472 ?        00:48:55 traefik\n",
    "\n"
   ]
  },
  {
   "cell_type": "markdown",
   "id": "52e16c59",
   "metadata": {},
   "source": [
    "- Localiza también el último que se lanzó, mirando las horas de inicio. Pega la línea completa mostrada.\n",
    "\n",
    "RESPUESTA:\n",
    "jupyter+  632756  632255  0 21:05 pts/2    00:00:00 ps -Af\n"
   ]
  },
  {
   "cell_type": "markdown",
   "id": "78d785a5",
   "metadata": {},
   "source": [
    "- Lanza desde la interfaz de usuario el navegador firefox, y navega hasta la página `www.google.es`, mientras observas mediante `top` la evolución dinámica del consumo de memoria y CPU de los procesos involucrados.  Puedes dividir la pantalla entre ambas ventanas, terminal y navegador, para observar la salida de top mientras navegas. Luego, prueba a navegar a la página `www.youtube.com`. ¿En cuál de las dos páginas se hace más uso de la CPU?\n",
    "\n",
    "RESPUESTA: Parece ser Youtube. Sin embargo, el uso de la CPU está vinculado con el número de interacciones que se tienen con la página. En la medida en que el usuario deja de interactuar, el uso de la CPU para el proceso parece ir disminuyendo\n",
    "\n"
   ]
  },
  {
   "cell_type": "markdown",
   "id": "03a93d11",
   "metadata": {},
   "source": [
    "### Redireccionamiento de la entrada/salida de un proceso"
   ]
  },
  {
   "cell_type": "code",
   "execution_count": 10,
   "id": "493203c3-ee8c-47fb-ac18-6446131d97e3",
   "metadata": {},
   "outputs": [
    {
     "name": "stdout",
     "output_type": "stream",
     "text": [
      "/usr/bin/ld  /usr/bin/ln  /usr/bin/ls\n"
     ]
    }
   ],
   "source": [
    "#VII.10\n",
    "# Lista todos los ficheros en `/usr/bin/` cuyo nombre empiece por 'l'\n",
    "# y tenga exactamente dos caracteres\n",
    "ls /usr/bin/l?"
   ]
  },
  {
   "cell_type": "code",
   "execution_count": 11,
   "id": "703757b1-f7ea-451e-9683-a4613d702c3c",
   "metadata": {},
   "outputs": [],
   "source": [
    "#VII.11\n",
    "# Repite el comando anterior, redireccionando la salida a un fichero llamado progs-l.txt\n",
    "ls /usr/bin/l? > progs-l.txt"
   ]
  },
  {
   "cell_type": "code",
   "execution_count": 12,
   "id": "9c8b8a14-e560-4fa0-8824-3fc172cd2b1e",
   "metadata": {},
   "outputs": [
    {
     "name": "stdout",
     "output_type": "stream",
     "text": [
      "/usr/bin/ld\n",
      "/usr/bin/ln\n",
      "/usr/bin/ls\n"
     ]
    }
   ],
   "source": [
    "#VII.12\n",
    "# Muestra el contenido del fichero progs-l.txt\n",
    "cat progs-l.txt"
   ]
  },
  {
   "cell_type": "code",
   "execution_count": 13,
   "id": "6ed0e4e5-80f7-40eb-80b8-bcc2be9e5f92",
   "metadata": {},
   "outputs": [],
   "source": [
    "#VII.13\n",
    "# Añade al final de dicho fichero un mensaje que diga \"FIN DEL LISTADO\", usando `echo` y la redirección\n",
    "echo \"FIN DEL LISTADO\" >> progs-l.txt"
   ]
  },
  {
   "cell_type": "code",
   "execution_count": 14,
   "id": "a0a027d5-64d8-46e9-a0f5-31770ab674c0",
   "metadata": {},
   "outputs": [
    {
     "name": "stdout",
     "output_type": "stream",
     "text": [
      "/usr/bin/ld\n",
      "/usr/bin/ln\n",
      "/usr/bin/ls\n",
      "FIN DEL LISTADO\n"
     ]
    }
   ],
   "source": [
    "#VII.14\n",
    "# Muestra de nuevo el contenido del fichero\n",
    "cat progs-l.txt"
   ]
  },
  {
   "cell_type": "code",
   "execution_count": 16,
   "id": "40297afb-a388-492e-a377-bb69951a011a",
   "metadata": {},
   "outputs": [
    {
     "name": "stdout",
     "output_type": "stream",
     "text": [
      "-rw-r--r-- 1 root root       3028 ago 29 17:22 /etc/adduser.conf\n",
      "drwxr-xr-x 2 root root       4096 sep  3 02:56 /etc/alternatives\n",
      "drwxr-xr-x 3 root root       4096 sep  3 02:04 /etc/apache2\n",
      "drwxr-xr-x 3 root root       4096 oct  8 06:56 /etc/apparmor\n",
      "drwxr-xr-x 8 root root       4096 oct  8 06:56 /etc/apparmor.d\n",
      "drwxr-xr-x 3 root root       4096 ago 29 17:24 /etc/apport\n",
      "drwxr-xr-x 8 root root       4096 ago 29 17:29 /etc/apt\n",
      "-rw-r--r-- 1 root root       2319 ene  6  2022 /etc/bash.bashrc\n",
      "-rw-r--r-- 1 root root         45 nov 11  2021 /etc/bash_completion\n",
      "drwxr-xr-x 2 root root       4096 ago 29 17:24 /etc/bash_completion.d\n",
      "-rw-r--r-- 1 root root        367 dic 16  2020 /etc/bindresvport.blacklist\n",
      "drwxr-xr-x 2 root root       4096 abr  7  2022 /etc/binfmt.d\n",
      "-rw-r--r-- 1 root root        111 sep  3 02:03 /etc/boto.cfg\n",
      "drwxr-xr-x 2 root root       4096 ago 29 17:24 /etc/byobu\n",
      "drwxr-xr-x 3 root root       4096 ago 29 17:22 /etc/ca-certificates\n",
      "-rw-r--r-- 1 root root       6890 sep 27 06:16 /etc/ca-certificates.conf\n",
      "-rw-r--r-- 1 root root       6253 ago 29 17:23 /etc/ca-certificates.conf.dpkg-old\n",
      "drwxr-xr-x 4 root root       4096 sep  3 02:03 /etc/chrony\n",
      "drwxr-xr-x 5 root root       4096 sep  5 21:59 /etc/cloud\n",
      "drwxr-xr-x 2 root root       4096 ago 29 17:24 /etc/console-setup\n",
      "drwxr-xr-x 2 root root       4096 ago 29 17:23 /etc/cron.d\n",
      "drwxr-xr-x 2 root root       4096 nov 14 10:11 /etc/cron.daily\n",
      "drwxr-xr-x 2 root root       4096 ago 29 17:22 /etc/cron.hourly\n",
      "drwxr-xr-x 2 root root       4096 ago 29 17:22 /etc/cron.monthly\n",
      "-rw-r--r-- 1 root root       1136 mar 23  2022 /etc/crontab\n",
      "drwxr-xr-x 2 root root       4096 ago 29 17:24 /etc/cron.weekly\n",
      "drwxr-xr-x 2 root root       4096 ago 29 17:24 /etc/cryptsetup-initramfs\n",
      "-rw-r--r-- 1 root root         54 ago 29 17:23 /etc/crypttab\n",
      "drwxr-xr-x 4 root root       4096 ago 29 17:22 /etc/dbus-1\n",
      "drwxr-xr-x 3 root root       4096 sep  3 02:56 /etc/dconf\n",
      "-rw-r--r-- 1 root root       2969 feb 20  2022 /etc/debconf.conf\n",
      "-rw-r--r-- 1 root root         13 ago 22  2021 /etc/debian_version\n",
      "drwxr-xr-x 3 root root       4096 nov 14 10:27 /etc/default\n",
      "-rw-r--r-- 1 root root        604 sep 16  2018 /etc/deluser.conf\n",
      "drwxr-xr-x 2 root root       4096 ago 29 17:22 /etc/depmod.d\n",
      "drwxr-xr-x 4 root root       4096 ago 29 17:23 /etc/dhcp\n",
      "drwxr-xr-x 2 root root       4096 sep  5 22:03 /etc/dictionaries-common\n",
      "drwxr-xr-x 4 root root       4096 sep  3 02:04 /etc/dpkg\n",
      "-rw-r--r-- 1 root root        685 ene  8  2022 /etc/e2scrub.conf\n",
      "-rw-r--r-- 1 root root         37 ago 29 17:24 /etc/ec2_version\n",
      "drwxr-xr-x 3 root root       4096 sep  3 02:56 /etc/emacs\n",
      "-rw-r--r-- 1 root root        106 ago 29 17:22 /etc/environment\n",
      "drwxr-xr-x 2 root root       4096 sep  3 02:56 /etc/environment.d\n",
      "-rw-r--r-- 1 root root       1816 dic 27  2019 /etc/ethertypes\n",
      "drwxr-xr-x 4 root root       4096 sep  3 02:04 /etc/fonts\n",
      "-rw-r--r-- 1 root root        119 nov 14 10:18 /etc/fstab\n",
      "-rw-r--r-- 1 root root        694 mar 23  2022 /etc/fuse.conf\n",
      "-rw-r--r-- 1 root root       2584 feb  3  2022 /etc/gai.conf\n",
      "-rw-r--r-- 1 root root         20 sep  3 02:03 /etc/google_instance_id\n",
      "drwxr-xr-x 2 root root       4096 ago 29 17:24 /etc/groff\n",
      "-rw-r--r-- 1 root root       4254 nov  4 20:13 /etc/group\n",
      "-rw-r--r-- 1 root root       4228 nov  4 20:13 /etc/group-\n",
      "drwxr-xr-x 2 root root       4096 ago 29 17:28 /etc/grub.d\n",
      "-rw-r----- 1 root shadow     3907 nov  4 20:13 /etc/gshadow\n",
      "-rw-r----- 1 root shadow     3881 nov  4 20:13 /etc/gshadow-\n",
      "drwxr-xr-x 3 root root       4096 feb 21  2022 /etc/gss\n",
      "drwxr-xr-x 2 root root       4096 sep  3 02:56 /etc/gtk-3.0\n",
      "-rw-r--r-- 1 root root       4436 dic 15  2020 /etc/hdparm.conf\n",
      "-rw-r--r-- 1 root root         92 oct 15  2021 /etc/host.conf\n",
      "-rw-r--r-- 1 root root         20 sep  3 02:03 /etc/hostname\n",
      "-rw-r--r-- 1 root root        271 ago 29 17:28 /etc/hosts\n",
      "-rw-r--r-- 1 root root        411 ago 29 17:24 /etc/hosts.allow\n",
      "-rw-r--r-- 1 root root        711 ago 29 17:24 /etc/hosts.deny\n",
      "drwxr-xr-x 2 root root       4096 nov 14 10:11 /etc/init.d\n",
      "drwxr-xr-x 5 root root       4096 ago 29 17:24 /etc/initramfs-tools\n",
      "-rw-r--r-- 1 root root       1748 ene  6  2022 /etc/inputrc\n",
      "drwxr-xr-x 4 root root       4096 ago 29 17:22 /etc/iproute2\n",
      "drwxr-xr-x 2 root root       4096 ago 29 17:24 /etc/iscsi\n",
      "-rw-r--r-- 1 root root         26 feb 14  2024 /etc/issue\n",
      "-rw-r--r-- 1 root root         19 feb 14  2024 /etc/issue.net\n",
      "drwxr-xr-x 6 root root       4096 nov 14 10:27 /etc/kernel\n",
      "-rw-r--r-- 1 root root        110 ago 29 17:23 /etc/kernel-img.conf\n",
      "drwxrwxr-x 2 root landscape  4096 may 28  2024 /etc/landscape\n",
      "drwxr-xr-x 2 root root       4096 ago 29 17:24 /etc/ldap\n",
      "-rw-r--r-- 1 root root      26723 nov 21 06:42 /etc/ld.so.cache\n",
      "-rw-r--r-- 1 root root         34 dic 16  2020 /etc/ld.so.conf\n",
      "drwxr-xr-x 2 root root       4096 sep  3 02:04 /etc/ld.so.conf.d\n",
      "-rw-r--r-- 1 root root        267 oct 15  2021 /etc/legal\n",
      "-rw-r--r-- 1 root root        191 mar 17  2022 /etc/libaudit.conf\n",
      "drwxr-xr-x 3 root root       4096 ago 29 17:23 /etc/libblockdev\n",
      "drwxr-xr-x 2 root root       4096 ago 29 17:24 /etc/libnl-3\n",
      "drwxr-xr-x 4 root root       4096 sep  3 02:04 /etc/lighttpd\n",
      "-rw-r--r-- 1 root root       2996 mar  4  2022 /etc/locale.alias\n",
      "-rw-r--r-- 1 root root       9454 sep  5 21:45 /etc/locale.gen\n",
      "lrwxrwxrwx 1 root root         33 sep 24 21:21 /etc/localtime -> /usr/share/zoneinfo/Europe/Madrid\n",
      "drwxr-xr-x 4 root root       4096 ago 29 17:23 /etc/logcheck\n",
      "-rw-r--r-- 1 root root      10734 nov 11  2021 /etc/login.defs\n",
      "-rw-r--r-- 1 root root        592 ene 24  2022 /etc/logrotate.conf\n",
      "drwxr-xr-x 2 root root       4096 sep  5 21:59 /etc/logrotate.d\n",
      "-rw-r--r-- 1 root root        104 feb 14  2024 /etc/lsb-release\n",
      "drwxr-xr-x 3 root root       4096 ago 29 17:24 /etc/lvm\n",
      "-r--r--r-- 1 root root         33 sep  3 02:03 /etc/machine-id\n",
      "-rw-r--r-- 1 root root        111 sep 11  2023 /etc/magic\n",
      "-rw-r--r-- 1 root root        111 sep 11  2023 /etc/magic.mime\n",
      "-rw-r--r-- 1 root root       5217 mar 17  2022 /etc/manpath.config\n",
      "drwxr-xr-x 2 root root       4096 ago 29 17:24 /etc/mdadm\n",
      "-rw-r--r-- 1 root root      72029 mar 21  2022 /etc/mime.types\n",
      "-rw-r--r-- 1 root root        744 ene  8  2022 /etc/mke2fs.conf\n",
      "drwxr-xr-x 2 root root       4096 nov 14 10:27 /etc/modprobe.d\n",
      "-rw-r--r-- 1 root root        195 ago 29 17:22 /etc/modules\n",
      "drwxr-xr-x 2 root root       4096 ago 29 17:23 /etc/modules-load.d\n",
      "lrwxrwxrwx 1 root root         19 ago 29 17:22 /etc/mtab -> ../proc/self/mounts\n",
      "drwx------ 2 root root       4096 sep  3 02:03 /etc/multipath\n",
      "-rw-r--r-- 1 root root         41 oct 31  2023 /etc/multipath.conf\n",
      "-rw-r--r-- 1 root root      11204 feb  9  2022 /etc/nanorc\n",
      "drwxr-xr-x 6 root root       4096 dic  6 06:54 /etc/needrestart\n",
      "-rw-r--r-- 1 root root        767 mar 24  2022 /etc/netconfig\n",
      "drwxr-xr-x 2 root root       4096 sep  3 02:03 /etc/netplan\n",
      "drwxr-xr-x 5 root root       4096 ago 29 17:27 /etc/network\n",
      "drwxr-xr-x 8 root root       4096 ago 29 17:22 /etc/networkd-dispatcher\n",
      "-rw-r--r-- 1 root root         91 oct 15  2021 /etc/networks\n",
      "drwxr-xr-x 2 root root       4096 ago 29 17:22 /etc/newt\n",
      "-rwxr-xr-x 1 root root        228 mar 23  2022 /etc/nftables.conf\n",
      "-rw-r--r-- 1 root root        554 sep  3 02:03 /etc/nsswitch.conf\n",
      "drwxr-xr-x 2 root root       4096 ago 29 17:27 /etc/nvme\n",
      "drwxr-xr-x 2 root root       4096 ago 29 17:22 /etc/opt\n",
      "-rw-r--r-- 1 root root       1238 dic  7 10:51 /etc/oslogin_passwd.cache\n",
      "lrwxrwxrwx 1 root root         21 feb 14  2024 /etc/os-release -> ../usr/lib/os-release\n",
      "-rw-r--r-- 1 root root       6920 ago 17  2020 /etc/overlayroot.conf\n",
      "-rw-r--r-- 1 root root        112 ago 29 17:24 /etc/overlayroot.local.conf\n",
      "drwxr-xr-x 2 root root       4096 ago 29 17:24 /etc/PackageKit\n",
      "-rw-r--r-- 1 root root        552 ago 12  2020 /etc/pam.conf\n",
      "drwxr-xr-x 2 root root       4096 ago 29 17:24 /etc/pam.d\n",
      "-rw-r--r-- 1 root root       6129 nov 14 10:27 /etc/passwd\n",
      "-rw-r--r-- 1 root root       6113 nov 14 10:27 /etc/passwd-\n",
      "drwxr-xr-x 3 root root       4096 ago 29 17:23 /etc/perl\n",
      "drwxr-xr-x 3 root root       4096 ago 29 17:23 /etc/pm\n",
      "drwxr-xr-x 4 root root       4096 ago 29 17:23 /etc/polkit-1\n",
      "drwxr-xr-x 2 root root       4096 ago 29 17:28 /etc/pollinate\n",
      "drwxr-xr-x 4 root root       4096 ago 29 17:27 /etc/ppp\n",
      "-rw-r--r-- 1 root root        582 oct 15  2021 /etc/profile\n",
      "drwxr-xr-x 2 root root       4096 sep  5 21:59 /etc/profile.d\n",
      "-rw-r--r-- 1 root root       2932 abr  1  2013 /etc/protocols\n",
      "drwxr-xr-x 2 root root       4096 ago 29 17:23 /etc/python3\n",
      "drwxr-xr-x 2 root root       4096 nov 21 06:42 /etc/python3.10\n",
      "-rw-r--r-- 1 root root        220 mar 25  2022 /etc/quotagrpadmins\n",
      "-rw-r--r-- 1 root root        526 feb  9  2021 /etc/quotatab\n",
      "drwxr-xr-x 2 root root       4096 ago 29 17:27 /etc/rc0.d\n",
      "drwxr-xr-x 2 root root       4096 ago 29 17:27 /etc/rc1.d\n",
      "drwxr-xr-x 2 root root       4096 ago 29 17:27 /etc/rc2.d\n",
      "drwxr-xr-x 2 root root       4096 ago 29 17:27 /etc/rc3.d\n",
      "drwxr-xr-x 2 root root       4096 ago 29 17:27 /etc/rc4.d\n",
      "drwxr-xr-x 2 root root       4096 ago 29 17:27 /etc/rc5.d\n",
      "drwxr-xr-x 2 root root       4096 ago 29 17:27 /etc/rc6.d\n",
      "drwxr-xr-x 2 root root       4096 sep  3 02:56 /etc/rcS.d\n",
      "lrwxrwxrwx 1 root root         39 ago 29 17:22 /etc/resolv.conf -> ../run/systemd/resolve/stub-resolv.conf\n",
      "lrwxrwxrwx 1 root root         13 dic  5  2023 /etc/rmt -> /usr/sbin/rmt\n",
      "-rw-r--r-- 1 root root        887 abr  1  2013 /etc/rpc\n",
      "-rw-r--r-- 1 root root       1382 dic 24  2021 /etc/rsyslog.conf\n",
      "drwxr-xr-x 2 root root       4096 sep  5 21:59 /etc/rsyslog.d\n",
      "-rw-r--r-- 1 root root       3663 jun 20  2016 /etc/screenrc\n",
      "drwxr-xr-x 4 root root       4096 ago 29 17:23 /etc/security\n",
      "drwxr-xr-x 2 root root       4096 ago 29 17:22 /etc/selinux\n",
      "-rw-r--r-- 1 root root      10593 mar 31  2022 /etc/sensors3.conf\n",
      "drwxr-xr-x 2 root root       4096 sep 10 16:45 /etc/sensors.d\n",
      "-rw-r--r-- 1 root root      12813 mar 27  2021 /etc/services\n",
      "-rw-r----- 1 root shadow     3461 nov 14 10:27 /etc/shadow\n",
      "-rw-r----- 1 root shadow     3461 nov 14 10:27 /etc/shadow-\n",
      "-rw-r--r-- 1 root root        158 ago 29 17:24 /etc/shells\n",
      "drwxr-xr-x 2 root root       4096 ago 29 17:23 /etc/skel\n",
      "drwxr-xr-x 6 root root       4096 ago 29 17:24 /etc/sos\n",
      "drwxr-xr-x 4 root root       4096 sep  3 02:03 /etc/ssh\n",
      "drwxr-xr-x 4 root root       4096 sep  5 21:59 /etc/ssl\n",
      "-rw-r--r-- 1 root root       2145 nov  4 20:13 /etc/subgid\n",
      "-rw-r--r-- 1 root root       2105 oct 24 12:27 /etc/subgid-\n",
      "-rw-r--r-- 1 root root       2145 nov  4 20:13 /etc/subuid\n",
      "-rw-r--r-- 1 root root       2105 oct 24 12:27 /etc/subuid-\n",
      "-rw-r--r-- 1 root root       4573 feb 14  2022 /etc/sudo.conf\n",
      "-r--r----- 1 root root       1671 feb  8  2022 /etc/sudoers\n",
      "drwxr-x--- 2 root root       4096 sep  3 02:04 /etc/sudoers.d\n",
      "-rw-r--r-- 1 root root       9390 feb 14  2022 /etc/sudo_logsrvd.conf\n",
      "-rw-r--r-- 1 root root       2355 feb 25  2022 /etc/sysctl.conf\n",
      "drwxr-xr-x 2 root root       4096 ago 29 17:27 /etc/sysctl.d\n",
      "drwxr-xr-x 5 root root       4096 ago 29 17:28 /etc/systemd\n",
      "drwxr-xr-x 2 root root       4096 ago 29 17:23 /etc/terminfo\n",
      "drwxr-xr-x 2 root root       4096 nov 14 10:27 /etc/thermald\n",
      "-rw-r--r-- 1 root root         14 sep 24 21:21 /etc/timezone\n",
      "drwxr-xr-x 2 root root       4096 ago 29 17:24 /etc/tmpfiles.d\n",
      "drwxr-xr-x 2 root root       4096 sep  5 21:59 /etc/ubuntu-advantage\n",
      "-rw-r--r-- 1 root root       1260 jun 16  2020 /etc/ucf.conf\n",
      "drwxr-xr-x 4 root root       4096 ago 29 17:23 /etc/udev\n",
      "drwxr-xr-x 3 root root       4096 ago 29 17:24 /etc/ufw\n",
      "drwxr-xr-x 3 root root       4096 ago 29 17:24 /etc/update-manager\n",
      "drwxr-xr-x 2 root root       4096 sep  5 21:59 /etc/update-motd.d\n",
      "drwxr-xr-x 2 root root       4096 mar  4  2024 /etc/update-notifier\n",
      "drwxr-xr-x 2 root root       4096 nov 14 10:27 /etc/UPower\n",
      "-rw-r--r-- 1 root root       1523 mar 25  2022 /etc/usb_modeswitch.conf\n",
      "drwxr-xr-x 2 root root       4096 sep  6  2021 /etc/usb_modeswitch.d\n",
      "drwxr-xr-x 2 root root       4096 nov 29 06:39 /etc/vim\n",
      "drwxr-xr-x 4 root root       4096 ago 29 17:24 /etc/vmware-tools\n",
      "lrwxrwxrwx 1 root root         23 ago 29 17:23 /etc/vtrgb -> /etc/alternatives/vtrgb\n",
      "-rw-r--r-- 1 root root        314 feb  9  2021 /etc/warnquota.conf\n",
      "-rw-r--r-- 1 root root       4942 jun 19 14:15 /etc/wgetrc\n",
      "drwxr-xr-x 8 root root       4096 sep 10 16:45 /etc/X11\n",
      "-rw-r--r-- 1 root root        681 mar 23  2022 /etc/xattr.conf\n",
      "drwxr-xr-x 5 root root       4096 sep  3 02:56 /etc/xdg\n",
      "-rw-r--r-- 1 root root        460 dic  8  2021 /etc/zsh_command_not_found\n"
     ]
    }
   ],
   "source": [
    "#VII.15\n",
    "# Utilizando el comando ls con la opción adecuada y la redirección de la salida estándar/de error,\n",
    "# averigua sobre qué subdirectorios de /etc no tienes permisos de acceso. PISTA: usa /dev/null\n",
    "# para descartar la salida que no te interese.\n",
    "ls -ld /etc/* 2>/dev/null"
   ]
  },
  {
   "cell_type": "code",
   "execution_count": 17,
   "id": "ff133717-ed86-48c9-9f50-b0ba0f50c4e6",
   "metadata": {},
   "outputs": [],
   "source": [
    "#VII.16\n",
    "# Crea dos directorios, llamados dir1 y dir2\n",
    "mkdir dir1 dir2"
   ]
  },
  {
   "cell_type": "code",
   "execution_count": 19,
   "id": "1d30d81f",
   "metadata": {},
   "outputs": [],
   "source": [
    "#VII.17\n",
    "# Copia el fichero stubborn a dir2\n",
    "cp stubborn dir2"
   ]
  },
  {
   "cell_type": "code",
   "execution_count": 20,
   "id": "a5bd6473",
   "metadata": {},
   "outputs": [],
   "source": [
    "#VII.18\n",
    "# Copia el fichero stubborn a dir2\n",
    "cp stubborn dir1"
   ]
  },
  {
   "cell_type": "code",
   "execution_count": 21,
   "id": "32c7c204",
   "metadata": {},
   "outputs": [
    {
     "name": "stdout",
     "output_type": "stream",
     "text": [
      "dir1:\n",
      "stubborn\n",
      "\n",
      "dir2:\n",
      "stubborn\n"
     ]
    }
   ],
   "source": [
    "#VII.19\n",
    "# Listar el contenido de dir1 y dir2 en un mismo comando\n",
    "ls dir1 dir2"
   ]
  },
  {
   "cell_type": "code",
   "execution_count": 22,
   "id": "7a95b75c",
   "metadata": {},
   "outputs": [],
   "source": [
    "#VII.20\n",
    "# Cambia los permisos a dir2 para que nadie tenga acceso\n",
    "chmod 000 dir2"
   ]
  },
  {
   "cell_type": "code",
   "execution_count": 23,
   "id": "0f4b1d2c-f73b-4a04-804e-4ccd0c406fad",
   "metadata": {},
   "outputs": [
    {
     "name": "stdout",
     "output_type": "stream",
     "text": [
      "dir1:\n",
      "stubborn\n",
      "ls: no se puede abrir el directorio 'dir2': Permiso denegado\n"
     ]
    },
    {
     "ename": "",
     "evalue": "2",
     "output_type": "error",
     "traceback": []
    }
   ],
   "source": [
    "#VII.21\n",
    "# Listar el contenido de dir1 y dir2 en un mismo comando\n",
    "ls dir1 dir2"
   ]
  },
  {
   "cell_type": "code",
   "execution_count": 24,
   "id": "5e379716-ef05-4bcd-a1a9-1f0bcc1d0e54",
   "metadata": {},
   "outputs": [
    {
     "ename": "",
     "evalue": "2",
     "output_type": "error",
     "traceback": []
    }
   ],
   "source": [
    "#VII.22\n",
    "# Utilizando la redirección de la salida estándar/de error, lista\n",
    "# los directorios dir1 y dir2, de forma que los mensajes de error\n",
    "# vayan al fichero \"errores_ls\" y el resto al fichero \"salida_ls\"\n",
    "ls dir1 dir2 > salida_ls 2> errores_ls"
   ]
  },
  {
   "cell_type": "code",
   "execution_count": 25,
   "id": "16589667",
   "metadata": {},
   "outputs": [
    {
     "name": "stdout",
     "output_type": "stream",
     "text": [
      "ls: no se puede abrir el directorio 'dir2': Permiso denegado\n"
     ]
    }
   ],
   "source": [
    "#VII.23\n",
    "# Muestra el contenido del fichero errores_ls\n",
    "cat errores_ls"
   ]
  },
  {
   "cell_type": "code",
   "execution_count": 26,
   "id": "261081b3",
   "metadata": {},
   "outputs": [
    {
     "name": "stdout",
     "output_type": "stream",
     "text": [
      "dir1:\n",
      "stubborn\n"
     ]
    }
   ],
   "source": [
    "#VII.24\n",
    "# Muestra el contenido del fichero salida_ls\n",
    "cat salida_ls"
   ]
  },
  {
   "cell_type": "markdown",
   "id": "c1efbfd5",
   "metadata": {},
   "source": [
    "### Variables de entorno. Concepto de PATH"
   ]
  },
  {
   "cell_type": "markdown",
   "id": "72304564-f2f3-4c4e-a666-4a403d74bf79",
   "metadata": {},
   "source": [
    "- La variable de entorno `LANG` define, junto con otras, la configuración regional y el idioma del shell. Empieza mostrando su valor actual con `echo`."
   ]
  },
  {
   "cell_type": "code",
   "execution_count": 27,
   "id": "67952124-9f6c-41ea-be99-6ee6381d51d4",
   "metadata": {},
   "outputs": [
    {
     "name": "stdout",
     "output_type": "stream",
     "text": [
      "es_ES.UTF-8\n"
     ]
    }
   ],
   "source": [
    "#VII.25\n",
    "echo $LANG"
   ]
  },
  {
   "cell_type": "markdown",
   "id": "c2dff926",
   "metadata": {},
   "source": [
    " - Ejecuta el comando `ls` pasándole una ruta inexistente para generar un mensaje de error (coméntalo tras generarlo)."
   ]
  },
  {
   "cell_type": "code",
   "execution_count": 29,
   "id": "daacce0d",
   "metadata": {},
   "outputs": [
    {
     "name": "stdout",
     "output_type": "stream",
     "text": [
      "ls: no se puede acceder a '/usr/dir1': No existe el archivo o el directorio\n"
     ]
    },
    {
     "ename": "",
     "evalue": "2",
     "output_type": "error",
     "traceback": []
    }
   ],
   "source": [
    "ls /usr/dir1 #Se que no podrá generar esta ruta, pues sé que estoy ignorando muchos directorios intermedios"
   ]
  },
  {
   "cell_type": "markdown",
   "id": "151420ba-8ec3-40c0-819b-1e6f261a250b",
   "metadata": {},
   "source": [
    "-  Ahora, cambia el valor de la variable `LANG` por \"xyz\" (da igual el valor)  y seguidamente muestra su valor con `echo`."
   ]
  },
  {
   "cell_type": "code",
   "execution_count": 30,
   "id": "c31de968-48c9-4eea-9043-e8fb32016766",
   "metadata": {},
   "outputs": [],
   "source": [
    "export LANG=xyz"
   ]
  },
  {
   "cell_type": "markdown",
   "id": "304824c2",
   "metadata": {},
   "source": [
    " - Vuelve a ejecutar el comando `ls` pasándole una ruta inexistente para generar un mensaje de error (coméntalo # de nuevo)."
   ]
  },
  {
   "cell_type": "code",
   "execution_count": 32,
   "id": "2f9e48ce",
   "metadata": {},
   "outputs": [
    {
     "name": "stdout",
     "output_type": "stream",
     "text": [
      "ls: cannot access '/usr/dir1': No such file or directory\n"
     ]
    },
    {
     "ename": "",
     "evalue": "2",
     "output_type": "error",
     "traceback": []
    }
   ],
   "source": [
    "ls /usr/dir1 # Ahora veo que me salen los mensajes en inglés. Como cambié el valor de LANG, se vio afectado la forma en la que se presentan los mensajes del shell en términos de la configuraciónn del idioma y la región."
   ]
  },
  {
   "cell_type": "markdown",
   "id": "6451158c-38ca-4525-9957-2275b6216482",
   "metadata": {},
   "source": [
    "PREGUNTA:  ¿En qué se diferencia el resultado de ejecutar el comando con un valor u otro de `$LANG`? ¿Cuál es el idioma por defecto del shell cuando $LANG no tiene un valor?\n",
    "\n",
    "RESPUESTA: El idioma por defecto parece ser el inglés cuando se cambia el valor del shell por uno aleatorio. \n",
    "\n"
   ]
  },
  {
   "cell_type": "markdown",
   "id": "18eaeb06",
   "metadata": {},
   "source": [
    "- Vuelve a establecer el valor de `LANG` a su valor original (\"es_ES.UTF-8\") y seguidamente muestra su valor con `echo` (en una misma línea)."
   ]
  },
  {
   "cell_type": "code",
   "execution_count": 33,
   "id": "6843238f",
   "metadata": {},
   "outputs": [
    {
     "name": "stdout",
     "output_type": "stream",
     "text": [
      "es_ES.UTF-8\n"
     ]
    }
   ],
   "source": [
    "export LANG=es_ES.UTF-8 && echo $LANG"
   ]
  },
  {
   "cell_type": "code",
   "execution_count": 34,
   "id": "9f45e0a9-3640-4c69-8ffd-e269406dd52d",
   "metadata": {},
   "outputs": [],
   "source": [
    "#VII.30\n",
    "# Crea un subdirectorio llamado bin en tu directorio de inicio de usuario (si no existe ya)\n",
    "mkdir ~/bin"
   ]
  },
  {
   "cell_type": "code",
   "execution_count": 35,
   "id": "a2e67231-cd7c-493b-8de8-ecdfedda284c",
   "metadata": {},
   "outputs": [],
   "source": [
    "#VII.31\n",
    "# Copia al directorio creado anteriormente el fichero /usr/bin/ls, con el nombre myls\n",
    "cp /usr/bin/ls ~/bin/myls"
   ]
  },
  {
   "cell_type": "code",
   "execution_count": 36,
   "id": "aac39f6c-58ba-42d7-955b-8093c05655a9",
   "metadata": {},
   "outputs": [
    {
     "name": "stdout",
     "output_type": "stream",
     "text": [
      "total 1408\n",
      "drwxr-xr-x 2 jupyter-cd1ObuWIvi jupyter-cd1ObuWIvi   4096 dic  7 15:31 dir1\n",
      "d--------- 2 jupyter-cd1ObuWIvi jupyter-cd1ObuWIvi   4096 dic  7 15:31 dir2\n",
      "-rw-r--r-- 1 jupyter-cd1ObuWIvi jupyter-cd1ObuWIvi     61 dic  7 15:35 errores_ls\n",
      "-rw-r--r-- 1 jupyter-cd1ObuWIvi jupyter-cd1ObuWIvi  94882 dic  7 15:49 practica7a-procesos-boletin.ipynb\n",
      "-rw-r--r-- 1 jupyter-cd1ObuWIvi jupyter-cd1ObuWIvi  60485 dic  7 16:08 practica7a-procesos-ejercicios.ipynb\n",
      "-rw-r--r-- 1 jupyter-cd1ObuWIvi jupyter-cd1ObuWIvi 444578 dic  5 16:51 practica7b-tuberias-boletin.ipynb\n",
      "-rw-r--r-- 1 jupyter-cd1ObuWIvi jupyter-cd1ObuWIvi  28117 dic  5 16:51 practica7b-tuberias-ejercicios.ipynb\n",
      "-rw-r--r-- 1 jupyter-cd1ObuWIvi jupyter-cd1ObuWIvi     52 dic  7 15:20 progs-l.txt\n",
      "-rw-r--r-- 1 jupyter-cd1ObuWIvi jupyter-cd1ObuWIvi     15 dic  7 15:35 salida_ls\n",
      "-rw-r--r-- 1 jupyter-cd1ObuWIvi jupyter-cd1ObuWIvi 785552 dic  7 15:30 stubborn\n"
     ]
    }
   ],
   "source": [
    "#VII.32\n",
    "# Sin cambiarte de directorio, ejecuta mediante una ruta absoluta el programa `myls` con la opción '-l':\n",
    "~/bin/myls -l"
   ]
  },
  {
   "cell_type": "code",
   "execution_count": 37,
   "id": "aa3f01d3-c67f-428d-b9d2-83fb7d23815f",
   "metadata": {},
   "outputs": [],
   "source": [
    "#VII.33\n",
    "# Modifica el valor de `PATH` para añadir el subdirectorio \"bin\" creado anteriormente:\n",
    "export PATH=\"$HOME/bin:$PATH\""
   ]
  },
  {
   "cell_type": "markdown",
   "id": "f982e2e0",
   "metadata": {},
   "source": [
    "Finalmente, prueba a ejecutar `myls` sin necesidad de indicar su ruta exacta."
   ]
  },
  {
   "cell_type": "code",
   "execution_count": 38,
   "id": "24cdea31-6b40-4da3-8d86-4d524c1c5b3a",
   "metadata": {},
   "outputs": [
    {
     "name": "stdout",
     "output_type": "stream",
     "text": [
      "total 1412\n",
      "drwxr-xr-x 2 jupyter-cd1ObuWIvi jupyter-cd1ObuWIvi   4096 dic  7 15:31 dir1\n",
      "d--------- 2 jupyter-cd1ObuWIvi jupyter-cd1ObuWIvi   4096 dic  7 15:31 dir2\n",
      "-rw-r--r-- 1 jupyter-cd1ObuWIvi jupyter-cd1ObuWIvi     61 dic  7 15:35 errores_ls\n",
      "-rw-r--r-- 1 jupyter-cd1ObuWIvi jupyter-cd1ObuWIvi  94882 dic  7 15:49 practica7a-procesos-boletin.ipynb\n",
      "-rw-r--r-- 1 jupyter-cd1ObuWIvi jupyter-cd1ObuWIvi  61919 dic  7 16:09 practica7a-procesos-ejercicios.ipynb\n",
      "-rw-r--r-- 1 jupyter-cd1ObuWIvi jupyter-cd1ObuWIvi 444578 dic  5 16:51 practica7b-tuberias-boletin.ipynb\n",
      "-rw-r--r-- 1 jupyter-cd1ObuWIvi jupyter-cd1ObuWIvi  28117 dic  5 16:51 practica7b-tuberias-ejercicios.ipynb\n",
      "-rw-r--r-- 1 jupyter-cd1ObuWIvi jupyter-cd1ObuWIvi     52 dic  7 15:20 progs-l.txt\n",
      "-rw-r--r-- 1 jupyter-cd1ObuWIvi jupyter-cd1ObuWIvi     15 dic  7 15:35 salida_ls\n",
      "-rw-r--r-- 1 jupyter-cd1ObuWIvi jupyter-cd1ObuWIvi 785552 dic  7 15:30 stubborn\n"
     ]
    }
   ],
   "source": [
    "myls -l"
   ]
  },
  {
   "cell_type": "markdown",
   "id": "680d517a",
   "metadata": {},
   "source": [
    "### Variables del shell actual y variables de entorno"
   ]
  },
  {
   "cell_type": "markdown",
   "id": "2002571b",
   "metadata": {},
   "source": [
    "- Muestra el valor de la variable de entorno `USER`"
   ]
  },
  {
   "cell_type": "code",
   "execution_count": 39,
   "id": "5a68a861",
   "metadata": {},
   "outputs": [
    {
     "name": "stdout",
     "output_type": "stream",
     "text": [
      "jupyter-cd1ObuWIvi\n"
     ]
    }
   ],
   "source": [
    "#VII.35\n",
    "echo $USER"
   ]
  },
  {
   "cell_type": "code",
   "execution_count": 40,
   "id": "35e6c833",
   "metadata": {},
   "outputs": [],
   "source": [
    "#VII.36\n",
    "# Define una nueva variable llamada \"PRUEBA\" con valor \"hola\"\n",
    "PRUEBA=\"hola\""
   ]
  },
  {
   "cell_type": "code",
   "execution_count": 41,
   "id": "1f6ebcd4",
   "metadata": {},
   "outputs": [
    {
     "name": "stdout",
     "output_type": "stream",
     "text": [
      "hola\n"
     ]
    }
   ],
   "source": [
    "#VII.37\n",
    "# Muestra el valor de la variable PRUEBA en el shell actual\n",
    "echo $PRUEBA"
   ]
  },
  {
   "cell_type": "code",
   "execution_count": 42,
   "id": "26cdfe26",
   "metadata": {},
   "outputs": [],
   "source": [
    "# Ejecuta esta celda para crear un shell script llamado \"variables.sh\"\n",
    "echo '#!/bin/bash' > variables.sh\n",
    "echo 'echo \"**Inicio del script**\"' >> variables.sh\n",
    "echo 'echo \"La variable PRUEBA vale $PRUEBA\"' >> variables.sh\n",
    "echo 'MYVAR=\"hello world!\"' >> variables.sh\n",
    "echo 'echo \"La variable MYVAR vale $MYVAR\"' >> variables.sh\n",
    "echo 'echo \"La variable USER vale $USER\"' >> variables.sh\n",
    "echo 'echo \"La variable ANOTHERVAR vale $ANOTHERVAR \"' >> variables.sh\n",
    "echo 'echo \"**Fin del script**\"' >> variables.sh"
   ]
  },
  {
   "cell_type": "code",
   "execution_count": 43,
   "id": "3a052d3f",
   "metadata": {},
   "outputs": [
    {
     "name": "stdout",
     "output_type": "stream",
     "text": [
      "#!/bin/bash\n",
      "echo \"**Inicio del script**\"\n",
      "echo \"La variable PRUEBA vale $PRUEBA\"\n",
      "MYVAR=\"hello world!\"\n",
      "echo \"La variable MYVAR vale $MYVAR\"\n",
      "echo \"La variable USER vale $USER\"\n",
      "echo \"La variable ANOTHERVAR vale $ANOTHERVAR \"\n",
      "echo \"**Fin del script**\"\n"
     ]
    }
   ],
   "source": [
    "# Muestra el contenido del script \"variables.sh\"\n",
    "cat variables.sh"
   ]
  },
  {
   "cell_type": "code",
   "execution_count": 44,
   "id": "f997ea2b",
   "metadata": {},
   "outputs": [],
   "source": [
    "#VII.39\n",
    "# Establece permisos de ejecución para el fichero creado\n",
    "chmod +x variables.sh"
   ]
  },
  {
   "cell_type": "code",
   "execution_count": 45,
   "id": "b9661d9e",
   "metadata": {},
   "outputs": [
    {
     "name": "stdout",
     "output_type": "stream",
     "text": [
      "**Inicio del script**\n",
      "La variable PRUEBA vale \n",
      "La variable MYVAR vale hello world!\n",
      "La variable USER vale jupyter-cd1ObuWIvi\n",
      "La variable ANOTHERVAR vale  \n",
      "**Fin del script**\n"
     ]
    }
   ],
   "source": [
    "#VII.40\n",
    "# Ejecuta el script \"variables.sh\"\n",
    "./variables.sh"
   ]
  },
  {
   "cell_type": "markdown",
   "id": "2a227bcb",
   "metadata": {},
   "source": [
    "PREGUNTA: ¿Se produce algún error en el shell cuando tratas de mostrar el valor de una variable a la que no has asignado valor previamente (ANOTHERVAR)?\n",
    "\n",
    "RESPUESTA: ANOTHERVAR no muestra su valor seguramente porque esta no es una variable de Entorno y no está definida para todos los subshells que se lancen\n",
    "\n"
   ]
  },
  {
   "cell_type": "markdown",
   "id": "0065e35b",
   "metadata": {},
   "source": [
    "PREGUNTA: ¿Por qué no se imprime el valor de `PRUEBA`?\n",
    "\n",
    "RESPUESTA: Porque PRUEBA, a pesar de estar definido previamente no está definida como variable de entorno, por lo tanto no puede ser usada por todos los subshells que se lancen.\n",
    "\n"
   ]
  },
  {
   "cell_type": "code",
   "execution_count": 48,
   "id": "d6341193",
   "metadata": {},
   "outputs": [
    {
     "name": "stdout",
     "output_type": "stream",
     "text": [
      "\n"
     ]
    }
   ],
   "source": [
    "#VII.41\n",
    "# Imprime el valor de la variable MYVAR en el shell actual\n",
    "echo $MYVAR"
   ]
  },
  {
   "cell_type": "markdown",
   "id": "128626f8",
   "metadata": {},
   "source": [
    "PREGUNTA: ¿Por qué no aparece \"hello world\" como valor de \"MYVAR\" en el shell actual, tras ejecutar `variables.sh`?\n",
    "\n",
    "RESPUESTA: Porque la variable MYVAR solo está disponible dentro del script y no en el shell que estoy ejecutando ahora\n",
    "\n"
   ]
  },
  {
   "cell_type": "markdown",
   "id": "831e6e0e",
   "metadata": {},
   "source": [
    "PREGUNTA: ¿Qué valor tiene la variable \"USER\" en el proceso creado para ejecutar el script `variables.sh`?\n",
    "\n",
    "RESPUESTA: El Script toma el valor que tiene USER en el shell y lo incorpora en su script.\n",
    "\n"
   ]
  },
  {
   "cell_type": "markdown",
   "id": "0bbf22c8-18b7-4d90-9781-8c46a8b72021",
   "metadata": {},
   "source": [
    "**FIN DEL CUADERNO** (*no borres esta celda*)\n",
    "\n",
    "@@@@ practica7a-procesos-ejercicios.ipynb @@@@"
   ]
  }
 ],
 "metadata": {
  "kernelspec": {
   "display_name": "Bash",
   "language": "bash",
   "name": "bash"
  },
  "language_info": {
   "codemirror_mode": "shell",
   "file_extension": ".sh",
   "mimetype": "text/x-sh",
   "name": "bash"
  }
 },
 "nbformat": 4,
 "nbformat_minor": 5
}
