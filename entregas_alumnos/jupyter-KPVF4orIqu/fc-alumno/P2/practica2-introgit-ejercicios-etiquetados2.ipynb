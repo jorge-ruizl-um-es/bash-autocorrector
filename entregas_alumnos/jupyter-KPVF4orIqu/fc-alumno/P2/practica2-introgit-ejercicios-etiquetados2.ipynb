{
 "cells": [
  {
   "cell_type": "markdown",
   "id": "53d40637",
   "metadata": {},
   "source": [
    "# Ejercicios - Práctica 2: Control de versiones con Git"
   ]
  },
  {
   "cell_type": "markdown",
   "id": "267d7c1c",
   "metadata": {},
   "source": [
    "## Flujo de trabajo con un repositorio local"
   ]
  },
  {
   "cell_type": "code",
   "execution_count": 46,
   "id": "96c574d0",
   "metadata": {},
   "outputs": [],
   "source": [
    "#II.53\n",
    "#II.41\n",
    "# Sitúate en tu directorio de inicio de usuario\n",
    "cd"
   ]
  },
  {
   "cell_type": "code",
   "execution_count": 47,
   "id": "cc6a4a29-6cb6-485c-bebe-32754c560594",
   "metadata": {},
   "outputs": [],
   "source": [
    "# Borra recursivamente el directorio test-repo\n",
    "rm -rf test-repo"
   ]
  },
  {
   "cell_type": "code",
   "execution_count": 48,
   "id": "91da112d",
   "metadata": {},
   "outputs": [],
   "source": [
    "#II.1\n",
    "# Crea un directorio llamado \"test-repo\"\n",
    "mkdir test-repo"
   ]
  },
  {
   "cell_type": "code",
   "execution_count": 49,
   "id": "352abf5b",
   "metadata": {},
   "outputs": [],
   "source": [
    "#II.2\n",
    "# Accede al directorio que acabas de crear\n",
    "cd test-repo"
   ]
  },
  {
   "cell_type": "code",
   "execution_count": 50,
   "id": "2cb58bc5",
   "metadata": {},
   "outputs": [
    {
     "name": "stdout",
     "output_type": "stream",
     "text": [
      "Inicializado repositorio Git vacío en /home/jupyter-mvyx6YiI7p/test-repo/.git/\n"
     ]
    }
   ],
   "source": [
    "#II.3\n",
    "# Crea un repositorio vacío\n",
    "git init"
   ]
  },
  {
   "cell_type": "code",
   "execution_count": 51,
   "id": "8bce43cb",
   "metadata": {},
   "outputs": [
    {
     "name": "stdout",
     "output_type": "stream",
     "text": [
      ".  ..  .git\n"
     ]
    }
   ],
   "source": [
    "#II.4\n",
    "# Muestra el contenido del directorio actual.\n",
    "# NOTA:: Usa la opción adecuada para mostrar **TODOS** \n",
    "# los ficheros y directorios (incluyendo los ocultos)\n",
    "ls -a"
   ]
  },
  {
   "cell_type": "markdown",
   "id": "c1c769a9-594c-490b-ae7f-70bca3daa281",
   "metadata": {},
   "source": [
    "Deberías observar en la salida del comando anterior que tras ejecutar `git init` se ha creado un directorio oculto llamado `.git`."
   ]
  },
  {
   "cell_type": "code",
   "execution_count": 52,
   "id": "34019ca2",
   "metadata": {},
   "outputs": [
    {
     "name": "stdout",
     "output_type": "stream",
     "text": [
      "branches  config  description  HEAD  hooks  info  objects  refs\n"
     ]
    }
   ],
   "source": [
    "#II.5\n",
    "# Muestra el contenido del subdirectorio \".git\"\n",
    "ls .git"
   ]
  },
  {
   "cell_type": "code",
   "execution_count": 53,
   "id": "a49e7a8c",
   "metadata": {},
   "outputs": [],
   "source": [
    "#II.6\n",
    "# Crea un fichero vacío llamado AUTHORS\n",
    "touch AUTHORS"
   ]
  },
  {
   "cell_type": "code",
   "execution_count": 54,
   "id": "542bbc8b",
   "metadata": {},
   "outputs": [
    {
     "name": "stdout",
     "output_type": "stream",
     "text": [
      "En la rama main\n",
      "\n",
      "No hay commits todavía\n",
      "\n",
      "Archivos sin seguimiento:\n",
      "  (usa \"git add <archivo>...\" para incluirlo a lo que será confirmado)\n",
      "\tAUTHORS\n",
      "\n",
      "no hay nada agregado al commit pero hay archivos sin seguimiento presentes (usa \"git add\" para hacerles seguimiento)\n"
     ]
    }
   ],
   "source": [
    "#II.7\n",
    "# Muestra el estado del árbol de trabajo y\n",
    "# observa en qué estado está el fichero AUTHORS\n",
    "git status"
   ]
  },
  {
   "cell_type": "code",
   "execution_count": 55,
   "id": "28c95973",
   "metadata": {},
   "outputs": [],
   "source": [
    "#II.8\n",
    "# Crea un directorio llamado practica2\n",
    "mkdir practica2"
   ]
  },
  {
   "cell_type": "code",
   "execution_count": 56,
   "id": "6476d087",
   "metadata": {},
   "outputs": [],
   "source": [
    "#II.9\n",
    "# Crea otro fichero vacío llamado \"lista_comandos.txt\" \n",
    "# en el directorio `practica2`\n",
    "touch practica2/lista_comandos.txt"
   ]
  },
  {
   "cell_type": "code",
   "execution_count": 57,
   "id": "04b4e4f6",
   "metadata": {},
   "outputs": [
    {
     "name": "stdout",
     "output_type": "stream",
     "text": [
      "En la rama main\n",
      "\n",
      "No hay commits todavía\n",
      "\n",
      "Archivos sin seguimiento:\n",
      "  (usa \"git add <archivo>...\" para incluirlo a lo que será confirmado)\n",
      "\tAUTHORS\n",
      "\tpractica2/\n",
      "\n",
      "no hay nada agregado al commit pero hay archivos sin seguimiento presentes (usa \"git add\" para hacerles seguimiento)\n"
     ]
    }
   ],
   "source": [
    "#II.10\n",
    "# Muestra el estado del árbol de trabajo y\n",
    "# observa en qué estado está el fichero AUTHORS\n",
    "git status"
   ]
  },
  {
   "cell_type": "code",
   "execution_count": 58,
   "id": "53cc5cb2",
   "metadata": {},
   "outputs": [],
   "source": [
    "#II.11\n",
    "# Añade el fichero AUTHORS (actualmente vacío) al índice\n",
    "git add AUTHORS"
   ]
  },
  {
   "cell_type": "code",
   "execution_count": 59,
   "id": "fa38c765",
   "metadata": {},
   "outputs": [
    {
     "name": "stdout",
     "output_type": "stream",
     "text": [
      "En la rama main\n",
      "\n",
      "No hay commits todavía\n",
      "\n",
      "Cambios a ser confirmados:\n",
      "  (usa \"git rm --cached <archivo>...\" para sacar del área de stage)\n",
      "\tnuevos archivos: AUTHORS\n",
      "\n",
      "Archivos sin seguimiento:\n",
      "  (usa \"git add <archivo>...\" para incluirlo a lo que será confirmado)\n",
      "\tpractica2/\n",
      "\n"
     ]
    }
   ],
   "source": [
    "#II.12\n",
    "# Muestra el estado del árbol de trabajo y observa\n",
    "# el nuevo estado del fichero AUTHORS\n",
    "git status"
   ]
  },
  {
   "cell_type": "markdown",
   "id": "546716b0-a233-4b15-af69-6fb15676aae0",
   "metadata": {},
   "source": [
    "Observa que el fichero `AUTHORS` debería haber pasado de estar *ignorado* a ser parte del área de índice o stage (*candidato* a ser confirmado)."
   ]
  },
  {
   "cell_type": "code",
   "execution_count": 60,
   "id": "c2649bb5",
   "metadata": {},
   "outputs": [
    {
     "name": "stdout",
     "output_type": "stream",
     "text": [
      "[main (commit-raíz) f95665a] añadiendo fichero con autores vacío\n",
      " 1 file changed, 0 insertions(+), 0 deletions(-)\n",
      " create mode 100644 AUTHORS\n"
     ]
    }
   ],
   "source": [
    "#II.13\n",
    "# Confirma los cambios al repositorio. Recuerda usar\n",
    "# la opción -m seguida del mensaje de commit entrecomillado\n",
    "# (p.ej., \"añadiendo fichero con autores vacío\")\n",
    "git commit -m \"añadiendo fichero con autores vacío\""
   ]
  },
  {
   "cell_type": "code",
   "execution_count": 61,
   "id": "897f2853",
   "metadata": {},
   "outputs": [
    {
     "name": "stdout",
     "output_type": "stream",
     "text": [
      "En la rama main\n",
      "Archivos sin seguimiento:\n",
      "  (usa \"git add <archivo>...\" para incluirlo a lo que será confirmado)\n",
      "\tpractica2/\n",
      "\n",
      "no hay nada agregado al commit pero hay archivos sin seguimiento presentes (usa \"git add\" para hacerles seguimiento)\n"
     ]
    }
   ],
   "source": [
    "#II.14\n",
    "# Muestra el estado del árbol de trabajo\n",
    "git status"
   ]
  },
  {
   "cell_type": "code",
   "execution_count": 62,
   "id": "20674efd-2b5c-4ffc-9a08-b008e8e07b71",
   "metadata": {},
   "outputs": [],
   "source": [
    "# Añade una línea al fichero `AUTHORS` ejecutando esta celda:\n",
    "echo \"Nombre Apellido\" >> AUTHORS"
   ]
  },
  {
   "cell_type": "code",
   "execution_count": 63,
   "id": "d9fe058a-24cf-4caf-adc1-6ec9e9ce4891",
   "metadata": {},
   "outputs": [
    {
     "name": "stdout",
     "output_type": "stream",
     "text": [
      "diff --git a/AUTHORS b/AUTHORS\n",
      "index e69de29..3a98e86 100644\n",
      "--- a/AUTHORS\n",
      "+++ b/AUTHORS\n",
      "@@ -0,0 +1 @@\n",
      "+Nombre Apellido\n"
     ]
    }
   ],
   "source": [
    "#II.15\n",
    "# Muestra los cambios en el fichero `AUTHORS`\n",
    "git diff AUTHORS"
   ]
  },
  {
   "cell_type": "code",
   "execution_count": 64,
   "id": "2feaf35f-4fa7-4da1-af36-baf33b7eb69d",
   "metadata": {},
   "outputs": [],
   "source": [
    "#II.16\n",
    "# Deshaz los cambios en el fichero `AUTHORS`\n",
    "git restore AUTHORS"
   ]
  },
  {
   "cell_type": "code",
   "execution_count": 65,
   "id": "73c7fa59-47b7-4ea6-903e-726de4683538",
   "metadata": {},
   "outputs": [],
   "source": [
    "#II.17\n",
    "# Muestra el contenido del fichero `AUTHORS`\n",
    "cat AUTHORS"
   ]
  },
  {
   "cell_type": "markdown",
   "id": "32eff9c5-64a9-4e15-a2ad-c74e5832f0c6",
   "metadata": {},
   "source": [
    "Ahora añade tu nombre y apellidos y haz los pasos necesarios para confirmar el cambio al repositorio."
   ]
  },
  {
   "cell_type": "code",
   "execution_count": 66,
   "id": "508ed25c-2a47-4119-9b1e-cb61a0294bfb",
   "metadata": {},
   "outputs": [],
   "source": [
    "# Añadimos nombre y apellidos (edita y pon los tuyos)\n",
    "echo \"Daniel Jimenez Prestan\" >> AUTHORS"
   ]
  },
  {
   "cell_type": "code",
   "execution_count": 67,
   "id": "6d9d6b9c-d8e7-4cdf-a2c9-5d81693906ad",
   "metadata": {},
   "outputs": [],
   "source": [
    "#II.18\n",
    "git add AUTHORS"
   ]
  },
  {
   "cell_type": "code",
   "execution_count": 68,
   "id": "54592108-10cc-4d22-9b58-3b6d8ab69633",
   "metadata": {},
   "outputs": [
    {
     "name": "stdout",
     "output_type": "stream",
     "text": [
      "[main 5c56007] Añadiendo nombre del autor\n",
      " 1 file changed, 1 insertion(+)\n"
     ]
    }
   ],
   "source": [
    "#II.19\n",
    "git commit -m \"Añadiendo nombre del autor\""
   ]
  },
  {
   "cell_type": "code",
   "execution_count": 69,
   "id": "f7779f83-e435-48cc-8201-22c6ab8ab0bb",
   "metadata": {},
   "outputs": [
    {
     "name": "stdout",
     "output_type": "stream",
     "text": [
      "commit 5c56007b04ae9cd158785b1337d3c6f53e1efa11 (HEAD -> main)\n",
      "Date:   Fri Oct 11 18:47:31 2024 +0200\n",
      "\n",
      "    Añadiendo nombre del autor\n",
      "\n",
      "diff --git a/AUTHORS b/AUTHORS\n",
      "index e69de29..bd5a390 100644\n",
      "--- a/AUTHORS\n",
      "+++ b/AUTHORS\n",
      "@@ -0,0 +1 @@\n",
      "+Daniel Jimenez Prestan\n",
      "\n",
      "commit f95665a5e71ecf13eca45151d14e18a5dbe0f68a\n",
      "Date:   Fri Oct 11 18:47:11 2024 +0200\n",
      "\n",
      "    añadiendo fichero con autores vacío\n",
      "\n",
      "diff --git a/AUTHORS b/AUTHORS\n",
      "new file mode 100644\n",
      "index 0000000..e69de29\n"
     ]
    }
   ],
   "source": [
    "#II.20\n",
    "# Muestra al registro de *commits* al repositorio:\n",
    "git log -p"
   ]
  },
  {
   "cell_type": "code",
   "execution_count": 70,
   "id": "6c81869a-20cd-4ecd-827e-020677479b1f",
   "metadata": {},
   "outputs": [],
   "source": [
    "#II.21\n",
    "# Regresa a tu directorio personal (padre del actual).\n",
    "cd .."
   ]
  },
  {
   "cell_type": "code",
   "execution_count": 71,
   "id": "9799e73a-b50b-43d6-a9bd-e0bb60a15e79",
   "metadata": {},
   "outputs": [
    {
     "name": "stdout",
     "output_type": "stream",
     "text": [
      "/home/jupyter-mvyx6YiI7p\n"
     ]
    }
   ],
   "source": [
    "# Muestra el directorio actual\n",
    "pwd"
   ]
  },
  {
   "cell_type": "code",
   "execution_count": 72,
   "id": "37c1f89c-0efa-4c5e-8eea-acf55270cbe0",
   "metadata": {},
   "outputs": [
    {
     "name": "stdout",
     "output_type": "stream",
     "text": [
      "fatal: no es un repositorio git (ni ninguno de los directorios superiores): .git\n"
     ]
    },
    {
     "ename": "",
     "evalue": "128",
     "output_type": "error",
     "traceback": []
    }
   ],
   "source": [
    "#II.28\n",
    "# Muestra el estado del árbol de trabajo\n",
    "git status"
   ]
  },
  {
   "cell_type": "markdown",
   "id": "98fd1845-bede-4c08-ba44-612dcdf303e2",
   "metadata": {},
   "source": [
    "PREGUNTA: ¿Es posible mostrar el estado del árbol de trabajo del repositorio `test-repo` desde el directorio actual? ¿Por qué?\n",
    "\n",
    "RESPUESTA: No es posible, debido a que hay una diferencia entre el directorio actual y el directorio de trabajo, en donde está creado el repositorio. Por lo tanto, si queremos ver el estado del árbol, debemos estar ubicados en el directorio de trabajo o, escribir el comando para acceder a funciones dentro del directorio en donde se encuentra el repositorio iniciado\n",
    "\n"
   ]
  },
  {
   "cell_type": "markdown",
   "id": "ef459484-03b5-49ea-bf7c-658c33e5d73d",
   "metadata": {},
   "source": [
    "Vamos a copiar un fichero cualquiera de configuración al directorio del usuario, ejecutando la siguiente celda:"
   ]
  },
  {
   "cell_type": "code",
   "execution_count": 73,
   "id": "fbc8d42f-d742-4e79-9f47-ab986231c4e7",
   "metadata": {},
   "outputs": [],
   "source": [
    "# Copiamos un fichero cualquiera\n",
    "cp /etc/hosts ."
   ]
  },
  {
   "cell_type": "code",
   "execution_count": 74,
   "id": "6d4a178c-e6a6-4242-9c9c-f77eaeaa4e39",
   "metadata": {},
   "outputs": [
    {
     "name": "stdout",
     "output_type": "stream",
     "text": [
      "127.0.0.1 localhost\n",
      "\n",
      "# The following lines are desirable for IPv6 capable hosts\n",
      "::1 ip6-localhost ip6-loopback\n",
      "fe00::0 ip6-localnet\n",
      "ff00::0 ip6-mcastprefix\n",
      "ff02::1 ip6-allnodes\n",
      "ff02::2 ip6-allrouters\n",
      "ff02::3 ip6-allhosts\n",
      "169.254.169.254 metadata.google.internal metadata\n"
     ]
    }
   ],
   "source": [
    "# Mostramos las primeras líneas del fichero descargado\n",
    "head hosts"
   ]
  },
  {
   "cell_type": "markdown",
   "id": "0fd5ce13-217c-4cac-91c8-187a17a1fb2d",
   "metadata": {},
   "source": [
    "Mostramos la ubicación del fichero copiado (su ruta absoluta):"
   ]
  },
  {
   "cell_type": "code",
   "execution_count": 75,
   "id": "1390ce41-9f5a-42e4-96f2-a4daab326788",
   "metadata": {},
   "outputs": [
    {
     "name": "stdout",
     "output_type": "stream",
     "text": [
      "/home/jupyter-mvyx6YiI7p/hosts\n"
     ]
    }
   ],
   "source": [
    "readlink -f hosts"
   ]
  },
  {
   "cell_type": "markdown",
   "id": "71888ede-bcd3-4f8a-b6c9-e111962ef65f",
   "metadata": {},
   "source": [
    "Ahora vamos a tratar de añadir el fichero `hosts` al repositorio."
   ]
  },
  {
   "cell_type": "code",
   "execution_count": 76,
   "id": "cc23fd1c-f4bb-404a-b275-33075a148a64",
   "metadata": {},
   "outputs": [],
   "source": [
    "#II.23\n",
    "# Entrar en el directorio `test-repo` donde hemos creado el repositorio.\n",
    "cd test-repo"
   ]
  },
  {
   "cell_type": "code",
   "execution_count": 77,
   "id": "01b42719-2555-4f34-9411-e666299d7ffb",
   "metadata": {},
   "outputs": [
    {
     "name": "stdout",
     "output_type": "stream",
     "text": [
      "fatal: ../hosts: '../hosts' está fuera del repositorio en '/home/jupyter-mvyx6YiI7p/test-repo'\n"
     ]
    },
    {
     "ename": "",
     "evalue": "128",
     "output_type": "error",
     "traceback": []
    }
   ],
   "source": [
    "# tratamos de añadir el fichero al repositorio.\n",
    "git add ../hosts"
   ]
  },
  {
   "cell_type": "markdown",
   "id": "9f24b24f-7ce6-45ba-ade6-c3f14cd3aa3f",
   "metadata": {},
   "source": [
    "PREGUNTA: ¿Podemos añadirlo directamente a nuestro repositorio `test-repo`? ¿Por qué?\n",
    "\n",
    "RESPUESTA: El fichero no se encuentra ubicado en el directorio de trabajo en donde está todo el ecosistema de Áreas de trabajo de git. Para que los ficheros, y los cambios que hagamos en ellos, puedan ubicarse en alguna de las áreas de trabajo (Árbol de trabajo, Índice o Repositorio mismo) tienen que ser movidas antes al directorio en donde se inicializó un repositorio de git.\n",
    "\n"
   ]
  },
  {
   "cell_type": "markdown",
   "id": "cabed57f-1ba1-4fdb-b580-e23fdf7ce0ed",
   "metadata": {},
   "source": [
    "Realiza los pasos necesarios para añadir el fichero `hosts` al repositorio `test-repo`, mostrando el estado del árbol de trabajo cada vez que cambie:"
   ]
  },
  {
   "cell_type": "code",
   "execution_count": 78,
   "id": "84d0e29a-15d2-4ca9-a588-a172e816fe42",
   "metadata": {},
   "outputs": [],
   "source": [
    "#II.24\n",
    "# Paso 1: Moverlo dentro del directorio del repositorio\n",
    "mv ../hosts ../test-repo"
   ]
  },
  {
   "cell_type": "code",
   "execution_count": 79,
   "id": "a1b314c6-29aa-4617-b78b-9674da5d0a6c",
   "metadata": {},
   "outputs": [
    {
     "name": "stdout",
     "output_type": "stream",
     "text": [
      "En la rama main\n",
      "Archivos sin seguimiento:\n",
      "  (usa \"git add <archivo>...\" para incluirlo a lo que será confirmado)\n",
      "\thosts\n",
      "\tpractica2/\n",
      "\n",
      "no hay nada agregado al commit pero hay archivos sin seguimiento presentes (usa \"git add\" para hacerles seguimiento)\n"
     ]
    }
   ],
   "source": [
    "#II.25\n",
    "# Paso 2: mostrar estado del fichero (ignorado)\n",
    "git status"
   ]
  },
  {
   "cell_type": "code",
   "execution_count": 80,
   "id": "36cd821c-e671-43c7-838c-fa59ac12f406",
   "metadata": {},
   "outputs": [],
   "source": [
    "#II.26\n",
    "# Paso 3: Añadirlo al índice\n",
    "git add hosts"
   ]
  },
  {
   "cell_type": "code",
   "execution_count": 81,
   "id": "aabe3e4d-d302-48bb-838e-4c033469c76f",
   "metadata": {},
   "outputs": [
    {
     "name": "stdout",
     "output_type": "stream",
     "text": [
      "En la rama main\n",
      "Cambios a ser confirmados:\n",
      "  (usa \"git restore --staged <archivo>...\" para sacar del área de stage)\n",
      "\tnuevos archivos: hosts\n",
      "\n",
      "Archivos sin seguimiento:\n",
      "  (usa \"git add <archivo>...\" para incluirlo a lo que será confirmado)\n",
      "\tpractica2/\n",
      "\n"
     ]
    }
   ],
   "source": [
    "# Paso 4: mostrar que hosts va a ser añadido al repositorio\n",
    "git status"
   ]
  },
  {
   "cell_type": "code",
   "execution_count": 82,
   "id": "19020a2c-2907-43f2-ac06-46f8c7b9903c",
   "metadata": {},
   "outputs": [
    {
     "name": "stdout",
     "output_type": "stream",
     "text": [
      "[main 212cd31] Añadiendo fichero hosts\n",
      " 1 file changed, 10 insertions(+)\n",
      " create mode 100644 hosts\n"
     ]
    }
   ],
   "source": [
    "#II.27\n",
    "# Paso 5: Confirmar nuevo fichero\n",
    "git commit -m \"Añadiendo fichero hosts\""
   ]
  },
  {
   "cell_type": "code",
   "execution_count": 83,
   "id": "dd95ff63-c392-4a86-989e-3936a6aa2ca6",
   "metadata": {},
   "outputs": [
    {
     "name": "stdout",
     "output_type": "stream",
     "text": [
      "total 12\n",
      "-rw-r--r-- 1 jupyter-mvyx6YiI7p jupyter-mvyx6YiI7p   23 oct 11 18:47 AUTHORS\n",
      "-rw-r--r-- 1 jupyter-mvyx6YiI7p jupyter-mvyx6YiI7p  271 oct 11 18:47 hosts\n",
      "drwxr-xr-x 2 jupyter-mvyx6YiI7p jupyter-mvyx6YiI7p 4096 oct 11 18:46 practica2\n"
     ]
    }
   ],
   "source": [
    "ls -l"
   ]
  },
  {
   "cell_type": "code",
   "execution_count": 84,
   "id": "1e79d93d-9f30-4023-ad6a-c6801b7c881d",
   "metadata": {},
   "outputs": [
    {
     "name": "stdout",
     "output_type": "stream",
     "text": [
      "En la rama main\n",
      "Archivos sin seguimiento:\n",
      "  (usa \"git add <archivo>...\" para incluirlo a lo que será confirmado)\n",
      "\tpractica2/\n",
      "\n",
      "no hay nada agregado al commit pero hay archivos sin seguimiento presentes (usa \"git add\" para hacerles seguimiento)\n"
     ]
    }
   ],
   "source": [
    "#II.76\n",
    "# Muestra el estado del árbol de trabajo\n",
    "git status"
   ]
  },
  {
   "cell_type": "markdown",
   "id": "a982c79f-272f-453a-9244-404766b367f0",
   "metadata": {},
   "source": [
    "Ejecuta la siguiente celda para modificar el fichero que hay en el directorio `practica2`."
   ]
  },
  {
   "cell_type": "code",
   "execution_count": 85,
   "id": "28580ab3-3c06-4982-86bd-f5c306625890",
   "metadata": {},
   "outputs": [],
   "source": [
    "echo \"ls\" >> practica2/lista_comandos.txt"
   ]
  },
  {
   "cell_type": "markdown",
   "id": "c9ea4edf-ea0f-4440-ac71-e5dcb77152a6",
   "metadata": {},
   "source": [
    "Sin cambiar de directorio, haz los pasos necesarios para añadir los cambios en el fichero `lista_comandos.txt` al índice y luego al repositorio, mostrando el estado del árbol de trabajo tras cada cambio."
   ]
  },
  {
   "cell_type": "code",
   "execution_count": 86,
   "id": "348d62c5-7b79-4070-a5b5-5f563d05df45",
   "metadata": {},
   "outputs": [],
   "source": [
    "#II.29\n",
    "git add practica2/lista_comandos.txt"
   ]
  },
  {
   "cell_type": "code",
   "execution_count": 87,
   "id": "a5ed9540-86d1-4ac1-9a88-feeccd0068ea",
   "metadata": {},
   "outputs": [
    {
     "name": "stdout",
     "output_type": "stream",
     "text": [
      "En la rama main\n",
      "Cambios a ser confirmados:\n",
      "  (usa \"git restore --staged <archivo>...\" para sacar del área de stage)\n",
      "\tnuevos archivos: practica2/lista_comandos.txt\n",
      "\n"
     ]
    }
   ],
   "source": [
    "#II.30\n",
    "git status"
   ]
  },
  {
   "cell_type": "code",
   "execution_count": 88,
   "id": "52eb3163-1d8f-4041-ba44-8cfbea0f28a7",
   "metadata": {},
   "outputs": [
    {
     "name": "stdout",
     "output_type": "stream",
     "text": [
      "[main d2c87d8] Añadiendo lista de comandos, ls\n",
      " 1 file changed, 1 insertion(+)\n",
      " create mode 100644 practica2/lista_comandos.txt\n"
     ]
    }
   ],
   "source": [
    "#II.31\n",
    "git commit -m \"Añadiendo lista de comandos, ls\""
   ]
  },
  {
   "cell_type": "code",
   "execution_count": 89,
   "id": "ea0a0aef-dc8f-4c62-b187-4bc93b8e1d61",
   "metadata": {},
   "outputs": [
    {
     "name": "stdout",
     "output_type": "stream",
     "text": [
      "En la rama main\n",
      "nada para hacer commit, el árbol de trabajo está limpio\n"
     ]
    }
   ],
   "source": [
    "#II.32\n",
    "# Muestra el estado de los ficheros del árbol de trabajo\n",
    "git status"
   ]
  },
  {
   "cell_type": "code",
   "execution_count": 90,
   "id": "db95d09a-aeb1-4c64-8d46-b9915d05e6ce",
   "metadata": {},
   "outputs": [],
   "source": [
    "# Ejecuta esta celda para seguir añadiendo comandos del shell al fichero anterior.\n",
    "echo \"cat\" >> practica2/lista_comandos.txt"
   ]
  },
  {
   "cell_type": "code",
   "execution_count": 91,
   "id": "b2f82334-6405-4b7a-88d1-510c79b5277a",
   "metadata": {},
   "outputs": [],
   "source": [
    "# Ejecuta esta celda para crear otro fichero con comandos de git.\n",
    "echo \"git init\" > practica2/lista_comandos_git.txt"
   ]
  },
  {
   "cell_type": "code",
   "execution_count": 92,
   "id": "2057f567-83c6-4a88-a31d-b5f0a43cdb9b",
   "metadata": {},
   "outputs": [
    {
     "name": "stdout",
     "output_type": "stream",
     "text": [
      "En la rama main\n",
      "Cambios no rastreados para el commit:\n",
      "  (usa \"git add <archivo>...\" para actualizar lo que será confirmado)\n",
      "  (usa \"git restore <archivo>...\" para descartar los cambios en el directorio de trabajo)\n",
      "\tmodificados:     practica2/lista_comandos.txt\n",
      "\n",
      "Archivos sin seguimiento:\n",
      "  (usa \"git add <archivo>...\" para incluirlo a lo que será confirmado)\n",
      "\tpractica2/lista_comandos_git.txt\n",
      "\n",
      "sin cambios agregados al commit (usa \"git add\" y/o \"git commit -a\")\n"
     ]
    }
   ],
   "source": [
    "#II.33\n",
    "# Muestra el estado de los ficheros del árbol de trabajo\n",
    "git status"
   ]
  },
  {
   "cell_type": "code",
   "execution_count": 93,
   "id": "808c9dcd-ef61-45e5-8f43-e3d011dfb30c",
   "metadata": {},
   "outputs": [
    {
     "name": "stdout",
     "output_type": "stream",
     "text": [
      "diff --git a/practica2/lista_comandos.txt b/practica2/lista_comandos.txt\n",
      "index 9e2740c..b8a4987 100644\n",
      "--- a/practica2/lista_comandos.txt\n",
      "+++ b/practica2/lista_comandos.txt\n",
      "@@ -1 +1,2 @@\n",
      " ls\n",
      "+cat\n"
     ]
    }
   ],
   "source": [
    "#II.34\n",
    "# Muestra los cambios en el directorio `practica2`.\n",
    "git diff practica2"
   ]
  },
  {
   "cell_type": "markdown",
   "id": "749722f5-b952-492b-ab02-690462975121",
   "metadata": {},
   "source": [
    "PREGUNTA: ¿Por qué no aparecen los cambios en el fichero `lista_comandos_git.txt`, pero sí el cambio en `lista_comandos.txt`?\n",
    "\n",
    "RESPUESTA: como vemos en la última revisión de status, el fichero 'lista_comandos_git.txt aparece en la lista de Archivos sin seguimiento porque es nuevo, se creo con \"echo \"git init\" > practica2/lista_comandos_git.txt\" hace 3 celdas. Si quisiera ver los cambios que este ha sufrido en el repositorio tengo que añadirlo al índice antes, y así ingresarlo por primera vez al ecosistema de áreas. \n",
    "\n"
   ]
  },
  {
   "cell_type": "markdown",
   "id": "3c4c2e25-0df1-4686-bf51-9acfab16672c",
   "metadata": {},
   "source": [
    "Añade el fichero de la lista de comandos de Git al índice, muestra el estado del árbol de trabajo y luego confirma el añadido."
   ]
  },
  {
   "cell_type": "code",
   "execution_count": 94,
   "id": "7e329b73-63f4-4c53-b891-0f3b53e2f2f1",
   "metadata": {},
   "outputs": [],
   "source": [
    "#II.35\n",
    "# Paso 1: añadir\n",
    "git add practica2/lista_comandos_git.txt"
   ]
  },
  {
   "cell_type": "code",
   "execution_count": 95,
   "id": "c3e61aca-c3f9-498d-a984-e42597dfa91d",
   "metadata": {},
   "outputs": [
    {
     "name": "stdout",
     "output_type": "stream",
     "text": [
      "En la rama main\n",
      "Cambios a ser confirmados:\n",
      "  (usa \"git restore --staged <archivo>...\" para sacar del área de stage)\n",
      "\tnuevos archivos: practica2/lista_comandos_git.txt\n",
      "\n",
      "Cambios no rastreados para el commit:\n",
      "  (usa \"git add <archivo>...\" para actualizar lo que será confirmado)\n",
      "  (usa \"git restore <archivo>...\" para descartar los cambios en el directorio de trabajo)\n",
      "\tmodificados:     practica2/lista_comandos.txt\n",
      "\n"
     ]
    }
   ],
   "source": [
    "#II.36\n",
    "# Paso 2: estado\n",
    "git status"
   ]
  },
  {
   "cell_type": "code",
   "execution_count": 96,
   "id": "98a2f7e7-4b3b-4d82-a117-904083f7cd0f",
   "metadata": {},
   "outputs": [
    {
     "name": "stdout",
     "output_type": "stream",
     "text": [
      "[main e5e225f] Añadiendo lista de comandos de git, empiezo por init\n",
      " 1 file changed, 1 insertion(+)\n",
      " create mode 100644 practica2/lista_comandos_git.txt\n"
     ]
    }
   ],
   "source": [
    "#II.37\n",
    "# Paso 3: Confirmar\n",
    "git commit -m \"Añadiendo lista de comandos de git, empiezo por init\""
   ]
  },
  {
   "cell_type": "code",
   "execution_count": 97,
   "id": "bb4c927b-47c1-446d-87c7-304eb2e4e527",
   "metadata": {},
   "outputs": [
    {
     "name": "stdout",
     "output_type": "stream",
     "text": [
      "commit e5e225f5854d6377c0b893ce5e4ee981147d5b3d (HEAD -> main)\n",
      "Date:   Fri Oct 11 18:49:10 2024 +0200\n",
      "\n",
      "    Añadiendo lista de comandos de git, empiezo por init\n",
      "\n",
      "commit d2c87d865e52b73f2d925c37fe227fee3854f871\n",
      "Date:   Fri Oct 11 18:48:32 2024 +0200\n",
      "\n",
      "    Añadiendo lista de comandos, ls\n",
      "\n",
      "commit 212cd31e20ac4065c073afbd741b68bb1c1572de\n",
      "Date:   Fri Oct 11 18:48:07 2024 +0200\n",
      "\n",
      "    Añadiendo fichero hosts\n",
      "\n",
      "commit 5c56007b04ae9cd158785b1337d3c6f53e1efa11\n",
      "Date:   Fri Oct 11 18:47:31 2024 +0200\n",
      "\n",
      "    Añadiendo nombre del autor\n",
      "\n",
      "commit f95665a5e71ecf13eca45151d14e18a5dbe0f68a\n",
      "Date:   Fri Oct 11 18:47:11 2024 +0200\n",
      "\n",
      "    añadiendo fichero con autores vacío\n"
     ]
    }
   ],
   "source": [
    "#II.38\n",
    "# Muestra el registro de commits hasta el momento\n",
    "git log"
   ]
  },
  {
   "cell_type": "markdown",
   "id": "32cf43b1-408d-43f8-b139-1607137386a2",
   "metadata": {},
   "source": [
    "Añade al índice los cambios en `lista_comandos.txt`, muestra el estado y luego muestra las diferencias con `git diff`:"
   ]
  },
  {
   "cell_type": "code",
   "execution_count": 98,
   "id": "6578006e-1129-4d41-b2fd-e3f825d79631",
   "metadata": {},
   "outputs": [],
   "source": [
    "#II.39\n",
    "# Paso 1: añadir\n",
    "git add practica2/lista_comandos.txt"
   ]
  },
  {
   "cell_type": "code",
   "execution_count": 99,
   "id": "e47dc5c9-c3fd-4486-8d31-1e8c209adc74",
   "metadata": {},
   "outputs": [
    {
     "name": "stdout",
     "output_type": "stream",
     "text": [
      "En la rama main\n",
      "Cambios a ser confirmados:\n",
      "  (usa \"git restore --staged <archivo>...\" para sacar del área de stage)\n",
      "\tmodificados:     practica2/lista_comandos.txt\n",
      "\n"
     ]
    }
   ],
   "source": [
    "#II.40\n",
    "# Paso 2: estado\n",
    "git status"
   ]
  },
  {
   "cell_type": "code",
   "execution_count": 100,
   "id": "53a7cf78-5d1a-4c4e-b928-f376bb14ef9d",
   "metadata": {},
   "outputs": [],
   "source": [
    "# Ejecuta esta celda:\n",
    "git diff"
   ]
  },
  {
   "cell_type": "markdown",
   "id": "8b5eb524-225f-4390-8014-7bc5f71b9c25",
   "metadata": {},
   "source": [
    "PREGUNTA: ¿Por qué el `git diff` anterior no muestra nada?\n",
    "\n",
    "RESPUESTA: No muestra nada porque desde que se adicionaron al índice, no se ha vuelto a hacer ningún tipo de modificación dentro de los ficheros.\n",
    "\n"
   ]
  },
  {
   "cell_type": "markdown",
   "id": "c72586ef-55c1-4c5e-a132-cb6bdf0195a2",
   "metadata": {},
   "source": [
    "Muestra los cambios en el fichero que han sido añadidos al índice (diferencia entre el índice y el repositorio):"
   ]
  },
  {
   "cell_type": "code",
   "execution_count": 101,
   "id": "96bff157-7015-40f5-819c-25118ecbdecc",
   "metadata": {},
   "outputs": [
    {
     "name": "stdout",
     "output_type": "stream",
     "text": [
      "diff --git a/practica2/lista_comandos.txt b/practica2/lista_comandos.txt\n",
      "index 9e2740c..b8a4987 100644\n",
      "--- a/practica2/lista_comandos.txt\n",
      "+++ b/practica2/lista_comandos.txt\n",
      "@@ -1 +1,2 @@\n",
      " ls\n",
      "+cat\n"
     ]
    }
   ],
   "source": [
    "git diff --staged practica2"
   ]
  },
  {
   "cell_type": "markdown",
   "id": "04dc1925-3356-4426-af2c-72516af650f7",
   "metadata": {},
   "source": [
    "Vamos a modificar de nuevo el fichero en nuestro árbol de trabajo, añadiendo un nuevo comando de *Bash*. "
   ]
  },
  {
   "cell_type": "code",
   "execution_count": 102,
   "id": "8d7d0bc9-97ab-44d1-9c63-5ebd49c87e82",
   "metadata": {},
   "outputs": [],
   "source": [
    "echo \"find\" >> practica2/lista_comandos.txt"
   ]
  },
  {
   "cell_type": "markdown",
   "id": "fb7c7e68-b2dc-4ad6-8a1e-28864375904e",
   "metadata": {},
   "source": [
    "Ahora, ejecuta la siguiente celda y explica lo que ves:"
   ]
  },
  {
   "cell_type": "code",
   "execution_count": 103,
   "id": "876d3504-d71e-44bd-a95a-25d9f38de3c8",
   "metadata": {},
   "outputs": [
    {
     "name": "stdout",
     "output_type": "stream",
     "text": [
      "diff --git a/practica2/lista_comandos.txt b/practica2/lista_comandos.txt\n",
      "index b8a4987..6e1a82d 100644\n",
      "--- a/practica2/lista_comandos.txt\n",
      "+++ b/practica2/lista_comandos.txt\n",
      "@@ -1,2 +1,3 @@\n",
      " ls\n",
      " cat\n",
      "+find\n"
     ]
    }
   ],
   "source": [
    "git diff"
   ]
  },
  {
   "cell_type": "markdown",
   "id": "74427941-0acb-4a0d-b1c6-6d98b64faf59",
   "metadata": {},
   "source": [
    "PREGUNTA: ¿Por qué `git diff` sólo muestra el añadido del comando \"find\", pero no del `cat`?\n",
    "\n",
    "RESPUESTA: Muestra todo el historial de adiciones, incluso cat, sin embargo, se resalta el de +find, puesto que es el último cambio realizado, desde su adición al área de índice.\n",
    "\n"
   ]
  },
  {
   "cell_type": "markdown",
   "id": "010425f6-936e-4329-888b-476fea050fc4",
   "metadata": {},
   "source": [
    "Vuelve a sacar el fichero del índice y muestra el estado otra vez:"
   ]
  },
  {
   "cell_type": "code",
   "execution_count": 104,
   "id": "e44195f5-7bbe-4b95-bdd4-c0a7df66f393",
   "metadata": {},
   "outputs": [],
   "source": [
    "#II.42\n",
    "# Paso 3: Sacar del índice\n",
    "git restore --staged practica2/lista_comandos.txt"
   ]
  },
  {
   "cell_type": "code",
   "execution_count": 105,
   "id": "f4a06373-4d86-42f2-b8fd-b220a48ac958",
   "metadata": {},
   "outputs": [
    {
     "name": "stdout",
     "output_type": "stream",
     "text": [
      "En la rama main\n",
      "Cambios no rastreados para el commit:\n",
      "  (usa \"git add <archivo>...\" para actualizar lo que será confirmado)\n",
      "  (usa \"git restore <archivo>...\" para descartar los cambios en el directorio de trabajo)\n",
      "\tmodificados:     practica2/lista_comandos.txt\n",
      "\n",
      "sin cambios agregados al commit (usa \"git add\" y/o \"git commit -a\")\n"
     ]
    }
   ],
   "source": [
    "#II.43\n",
    "# Paso 4: Estado\n",
    "git status"
   ]
  },
  {
   "cell_type": "code",
   "execution_count": 106,
   "id": "a7433e27-ce63-482e-b006-684151b9a683",
   "metadata": {},
   "outputs": [
    {
     "name": "stdout",
     "output_type": "stream",
     "text": [
      "diff --git a/practica2/lista_comandos.txt b/practica2/lista_comandos.txt\n",
      "index 9e2740c..6e1a82d 100644\n",
      "--- a/practica2/lista_comandos.txt\n",
      "+++ b/practica2/lista_comandos.txt\n",
      "@@ -1 +1,3 @@\n",
      " ls\n",
      "+cat\n",
      "+find\n"
     ]
    }
   ],
   "source": [
    "#II.44\n",
    "# Muestra los cambios realizados en el fichero:\n",
    "git diff practica2/lista_comandos.txt"
   ]
  },
  {
   "cell_type": "markdown",
   "id": "359d2ae9-531f-4f11-9972-af563817174d",
   "metadata": {},
   "source": [
    "Ahora, descarta los cambios, para que el contenido del fichero vuelva a ser igual a la última versión que fue confirmada al repositorio."
   ]
  },
  {
   "cell_type": "code",
   "execution_count": 107,
   "id": "fe17d266-ef24-4f4a-88c5-5788bbb87379",
   "metadata": {},
   "outputs": [],
   "source": [
    "#II.45\n",
    "# Descartar cambios y volver a la última versión del repositorio\n",
    "git restore practica2/lista_comandos.txt"
   ]
  },
  {
   "cell_type": "markdown",
   "id": "caaf2ce7-ddbc-4502-9609-2571f2096a36",
   "metadata": {},
   "source": [
    "Comprueba que el fichero con la lista de comandos contiene únicamente el comando \"ls\"."
   ]
  },
  {
   "cell_type": "code",
   "execution_count": 108,
   "id": "57ac4c82-0a9b-4281-9924-29a44d936c6a",
   "metadata": {},
   "outputs": [
    {
     "name": "stdout",
     "output_type": "stream",
     "text": [
      "ls\n"
     ]
    }
   ],
   "source": [
    "#II.46\n",
    "# Muestra el contenido del fichero con la lista de comandos del shell\n",
    "cat practica2/lista_comandos.txt"
   ]
  },
  {
   "cell_type": "code",
   "execution_count": 109,
   "id": "06d4c484-1470-4061-8f3b-6a56c7c29564",
   "metadata": {},
   "outputs": [
    {
     "name": "stdout",
     "output_type": "stream",
     "text": [
      "En la rama main\n",
      "nada para hacer commit, el árbol de trabajo está limpio\n"
     ]
    }
   ],
   "source": [
    "#II.47\n",
    "# Muestra el estado de los ficheros del árbol de trabajo\n",
    "git status"
   ]
  },
  {
   "cell_type": "markdown",
   "id": "0be4ec9b",
   "metadata": {},
   "source": [
    "Ahora cambia el nombre del fichero `lista_comandos.txt` para que pase a llamarse `lista_comandos_bash.txt`, sin cambiarlo de ubicación (debe seguir dentro de `practica2`)"
   ]
  },
  {
   "cell_type": "code",
   "execution_count": 110,
   "id": "6b05a2bb",
   "metadata": {},
   "outputs": [],
   "source": [
    "#II.48\n",
    "# Renombra el fichero en el repositorio\n",
    "git mv practica2/lista_comandos.txt practica2/lista_comandos_bash.txt"
   ]
  },
  {
   "cell_type": "code",
   "execution_count": 111,
   "id": "2db7bccc",
   "metadata": {},
   "outputs": [
    {
     "name": "stdout",
     "output_type": "stream",
     "text": [
      "En la rama main\n",
      "Cambios a ser confirmados:\n",
      "  (usa \"git restore --staged <archivo>...\" para sacar del área de stage)\n",
      "\trenombrados:     practica2/lista_comandos.txt -> practica2/lista_comandos_bash.txt\n",
      "\n"
     ]
    }
   ],
   "source": [
    "#II.49\n",
    "# Muestra el estado de los ficheros del árbol de trabajo\n",
    "git status"
   ]
  },
  {
   "cell_type": "code",
   "execution_count": 112,
   "id": "107e9169",
   "metadata": {},
   "outputs": [
    {
     "name": "stdout",
     "output_type": "stream",
     "text": [
      "[main 5388021] Renombrando fichero de comandos de bash\n",
      " 1 file changed, 0 insertions(+), 0 deletions(-)\n",
      " rename practica2/{lista_comandos.txt => lista_comandos_bash.txt} (100%)\n"
     ]
    }
   ],
   "source": [
    "#II.50\n",
    "# Confirma el cambio de nombre en el repositorio\n",
    "git commit -m \"Renombrando fichero de comandos de bash\""
   ]
  },
  {
   "cell_type": "markdown",
   "id": "bf89de03-bdfb-44bf-844e-71e50e080cec",
   "metadata": {},
   "source": [
    "Para finalizar, borra el fichero `practica2/lista_comandos_bash.txt` del repositorio:"
   ]
  },
  {
   "cell_type": "code",
   "execution_count": 113,
   "id": "ee8abe2d",
   "metadata": {},
   "outputs": [
    {
     "name": "stdout",
     "output_type": "stream",
     "text": [
      "rm 'practica2/lista_comandos_bash.txt'\n"
     ]
    }
   ],
   "source": [
    "# Paso 1: borra\n",
    "git rm practica2/lista_comandos_bash.txt"
   ]
  },
  {
   "cell_type": "code",
   "execution_count": 114,
   "id": "311f972a",
   "metadata": {},
   "outputs": [
    {
     "name": "stdout",
     "output_type": "stream",
     "text": [
      "En la rama main\n",
      "Cambios a ser confirmados:\n",
      "  (usa \"git restore --staged <archivo>...\" para sacar del área de stage)\n",
      "\tborrados:        practica2/lista_comandos_bash.txt\n",
      "\n"
     ]
    }
   ],
   "source": [
    "# Paso 2: estado\n",
    "git status"
   ]
  },
  {
   "cell_type": "code",
   "execution_count": 115,
   "id": "4b9383b7-9718-4a06-a64b-1b823fd3681f",
   "metadata": {},
   "outputs": [
    {
     "name": "stdout",
     "output_type": "stream",
     "text": [
      "[main 952146f] Borrando fichero con lista de comandos\n",
      " 1 file changed, 1 deletion(-)\n",
      " delete mode 100644 practica2/lista_comandos_bash.txt\n"
     ]
    }
   ],
   "source": [
    "# Paso 3: Confirma\n",
    "git commit -m \"Borrando fichero con lista de comandos\""
   ]
  },
  {
   "cell_type": "code",
   "execution_count": 116,
   "id": "0d2d1209-06d9-4472-a8d3-74860938b4f2",
   "metadata": {},
   "outputs": [
    {
     "name": "stdout",
     "output_type": "stream",
     "text": [
      ".:\n",
      "AUTHORS  hosts  practica2\n",
      "\n",
      "practica2:\n",
      "lista_comandos_git.txt\n"
     ]
    }
   ],
   "source": [
    "ls . practica2"
   ]
  },
  {
   "cell_type": "code",
   "execution_count": null,
   "id": "56738443-4fad-4950-8d91-5563c886655e",
   "metadata": {},
   "outputs": [],
   "source": []
  },
  {
   "cell_type": "markdown",
   "id": "9f898134-96ec-4c11-92a5-79b8b26b4604",
   "metadata": {},
   "source": [
    "## Flujo de trabajo con un repositorio remoto"
   ]
  },
  {
   "cell_type": "code",
   "execution_count": 117,
   "id": "381bf01a-225d-4f7f-8c1f-bdd4740ad179",
   "metadata": {},
   "outputs": [
    {
     "name": "stdout",
     "output_type": "stream",
     "text": [
      "Inicializado repositorio Git vacío en /home/jupyter-mvyx6YiI7p/tmp/geografia-murciana/.git/\n",
      "[main (commit-raíz) 7a2d66c] Añadiendo algunas sierras de la Región de Murcia\n",
      " 1 file changed, 5 insertions(+)\n",
      " create mode 100644 sierras\n"
     ]
    }
   ],
   "source": [
    "# Ejecuta esta celda para generar un repositorio que actuará como remoto\n",
    "TMP=$HOME/tmp\n",
    "rm -rf $TMP\n",
    "mkdir -p $TMP\n",
    "\n",
    "rm -rf $TMP/murcia\n",
    "mkdir $TMP/murcia\n",
    "cat <<EOF > $TMP/murcia/sierras\n",
    "Sierra de la Almenara\n",
    "Sierra de Burete\n",
    "Sierra del Carche\n",
    "Sierra de Carrascoy\n",
    "Sierra de Columbares\n",
    "EOF\n",
    "\n",
    "cat <<EOF > $TMP/murcia/rios\n",
    "Río Benamor\n",
    "Río Luchena\n",
    "Río Mula\n",
    "Río Quípar\n",
    "EOF\n",
    "\n",
    "cat <<EOF > $TMP/murcia/municipios\n",
    "LISTA DE MUNICIPIOS DE LA REGIÓN DE MURCIA\n",
    "Abanilla\n",
    "Alcantarilla\n",
    "Alhama de Murcia\n",
    "Archena\n",
    "Blanca\n",
    "Fortuna\n",
    "EOF\n",
    "\n",
    "REMOTE=\"$TMP/geografia-murciana\"\n",
    "\n",
    "rm -rf $REMOTE\n",
    "mkdir $REMOTE && cd $REMOTE \n",
    "git init\n",
    "cp $TMP/murcia/sierras .\n",
    "git add sierras\n",
    "git commit -m \"Añadiendo algunas sierras de la Región de Murcia\""
   ]
  },
  {
   "cell_type": "code",
   "execution_count": 118,
   "id": "8eff94ee-361e-40c1-8e8b-0194c32199af",
   "metadata": {},
   "outputs": [
    {
     "name": "stdout",
     "output_type": "stream",
     "text": [
      "total 12\n",
      "-rw-r--r-- 1 jupyter-mvyx6YiI7p jupyter-mvyx6YiI7p 106 oct 11 18:50 municipios\n",
      "-rw-r--r-- 1 jupyter-mvyx6YiI7p jupyter-mvyx6YiI7p  49 oct 11 18:50 rios\n",
      "-rw-r--r-- 1 jupyter-mvyx6YiI7p jupyter-mvyx6YiI7p  98 oct 11 18:50 sierras\n"
     ]
    }
   ],
   "source": [
    "#II.58\n",
    "ls -l $TMP/murcia"
   ]
  },
  {
   "cell_type": "code",
   "execution_count": 122,
   "id": "0e6cddb0-cbd7-491b-a90e-60e1c8077042",
   "metadata": {},
   "outputs": [],
   "source": [
    "# Ve a tu directorio personal\n",
    "cd"
   ]
  },
  {
   "cell_type": "code",
   "execution_count": 124,
   "id": "94a78cc6-64ce-4150-9e49-349eeb747f8c",
   "metadata": {},
   "outputs": [],
   "source": [
    "# Borra recursivamente el directorio \"p2ej\" (en caso de que exista)\n",
    "rm -rf p2-ejercicio"
   ]
  },
  {
   "cell_type": "code",
   "execution_count": 125,
   "id": "9446f6dd-256f-4436-b9d8-7462e905fe13",
   "metadata": {},
   "outputs": [],
   "source": [
    "# Crea un directorio llamado \"p2-ejercicio\"\n",
    "mkdir p2-ejercicio"
   ]
  },
  {
   "cell_type": "code",
   "execution_count": 126,
   "id": "2c17b607-482d-41ca-aca7-a88a04fe5eb1",
   "metadata": {},
   "outputs": [],
   "source": [
    "# Accede al directorio que acabas de crear\n",
    "cd p2-ejercicio"
   ]
  },
  {
   "cell_type": "code",
   "execution_count": 127,
   "id": "c7f9c429-2f5e-4685-8f37-e49220c3d41b",
   "metadata": {},
   "outputs": [
    {
     "name": "stdout",
     "output_type": "stream",
     "text": [
      "Clonando en 'geografia-murciana'...\n",
      "hecho.\n"
     ]
    }
   ],
   "source": [
    "#II.54\n",
    "# Clona el repositorio que hay en ~/tmp/geografia-murciana\n",
    "git clone $REMOTE $LOCAL_1"
   ]
  },
  {
   "cell_type": "code",
   "execution_count": 128,
   "id": "45aed313-c761-406e-9ef3-55c5bcd59aec",
   "metadata": {},
   "outputs": [
    {
     "name": "stdout",
     "output_type": "stream",
     "text": [
      "geografia-murciana\n"
     ]
    }
   ],
   "source": [
    "ls"
   ]
  },
  {
   "cell_type": "code",
   "execution_count": 129,
   "id": "88da6478-5849-4b5d-b4a4-21c8115ec6df",
   "metadata": {},
   "outputs": [
    {
     "name": "stdout",
     "output_type": "stream",
     "text": [
      "Cambiado a rama 'alicante'\n",
      "/home/jupyter-mvyx6YiI7p/p2-ejercicio\n"
     ]
    }
   ],
   "source": [
    "# Ejecuta la siguiente celda antes de continuar con el resto del ejercicio\n",
    "# NOTA: el manejo de ramas en Git está fuera del ámbito de FC\n",
    "cd $REMOTE \n",
    "git branch alicante\n",
    "git switch alicante\n",
    "cd -"
   ]
  },
  {
   "cell_type": "code",
   "execution_count": 130,
   "id": "f1c980f5-03d3-4b66-b917-13852e8c8336",
   "metadata": {},
   "outputs": [],
   "source": [
    "#II.55\n",
    "# Accede al directorio de la copia local del repositorio que acabas de crear\n",
    "cd geografia-murciana"
   ]
  },
  {
   "cell_type": "code",
   "execution_count": 131,
   "id": "b61b5b13-740e-4023-9980-6b018c604d44",
   "metadata": {},
   "outputs": [
    {
     "name": "stdout",
     "output_type": "stream",
     "text": [
      "total 16\n",
      "drwxr-xr-x 3 jupyter-mvyx6YiI7p jupyter-mvyx6YiI7p 4096 oct 11 18:51 .\n",
      "drwxr-xr-x 3 jupyter-mvyx6YiI7p jupyter-mvyx6YiI7p 4096 oct 11 18:51 ..\n",
      "drwxr-xr-x 8 jupyter-mvyx6YiI7p jupyter-mvyx6YiI7p 4096 oct 11 18:51 .git\n",
      "-rw-r--r-- 1 jupyter-mvyx6YiI7p jupyter-mvyx6YiI7p   98 oct 11 18:51 sierras\n"
     ]
    }
   ],
   "source": [
    "#II.56\n",
    "# Haz un listado largo del contenido del directorio, incluyendo ficheros ocultos\n",
    "ls -la"
   ]
  },
  {
   "cell_type": "code",
   "execution_count": 132,
   "id": "5d32a3ab-da26-431e-863d-825a9f07b151",
   "metadata": {},
   "outputs": [
    {
     "name": "stdout",
     "output_type": "stream",
     "text": [
      "7a2d66c (HEAD -> main, origin/main, origin/HEAD) Añadiendo algunas sierras de la Región de Murcia\n"
     ]
    }
   ],
   "source": [
    "#II.57\n",
    "# Muestra el registro de commits en una sola línea\n",
    "git log --oneline"
   ]
  },
  {
   "cell_type": "code",
   "execution_count": 133,
   "id": "3161eda0-6056-49df-a8bf-b0ac39a922eb",
   "metadata": {},
   "outputs": [
    {
     "name": "stdout",
     "output_type": "stream",
     "text": [
      "total 12\n",
      "-rw-r--r-- 1 jupyter-mvyx6YiI7p jupyter-mvyx6YiI7p 106 oct 11 18:50 municipios\n",
      "-rw-r--r-- 1 jupyter-mvyx6YiI7p jupyter-mvyx6YiI7p  49 oct 11 18:50 rios\n",
      "-rw-r--r-- 1 jupyter-mvyx6YiI7p jupyter-mvyx6YiI7p  98 oct 11 18:50 sierras\n"
     ]
    }
   ],
   "source": [
    "ls -l ../../tmp/murcia"
   ]
  },
  {
   "cell_type": "code",
   "execution_count": 134,
   "id": "f1a421f2-e989-4416-829c-b0b2bb19ceba",
   "metadata": {},
   "outputs": [],
   "source": [
    "#II.59\n",
    "# Añade al repositorio el contenido íntegro del directorio $TMP/murcia\n",
    "# Para ello, necesitas hacerlo en varios pasos. El resultado debe ser que\n",
    "# haya un nuevo directorio \"murcia\" en el repositorio, con los tres ficheros\n",
    "# PASO 1\n",
    "cp -r ../../tmp/murcia/ ."
   ]
  },
  {
   "cell_type": "code",
   "execution_count": 135,
   "id": "c4ffafdf-8c4d-4298-963f-828e70367fbe",
   "metadata": {},
   "outputs": [],
   "source": [
    "#II.60\n",
    "# PASO 2\n",
    "git add murcia/"
   ]
  },
  {
   "cell_type": "code",
   "execution_count": 136,
   "id": "fdccaaf6-3df9-4233-a33a-1aebfae94cba",
   "metadata": {},
   "outputs": [
    {
     "name": "stdout",
     "output_type": "stream",
     "text": [
      "En la rama main\n",
      "Tu rama está actualizada con 'origin/main'.\n",
      "\n",
      "Cambios a ser confirmados:\n",
      "  (usa \"git restore --staged <archivo>...\" para sacar del área de stage)\n",
      "\tnuevos archivos: murcia/municipios\n",
      "\tnuevos archivos: murcia/rios\n",
      "\tnuevos archivos: murcia/sierras\n",
      "\n"
     ]
    }
   ],
   "source": [
    "#II.61\n",
    "# PASO 3 (estado)\n",
    "git status"
   ]
  },
  {
   "cell_type": "code",
   "execution_count": 137,
   "id": "d94668b8-ca2a-4c9d-bdbd-bc18da1fdf90",
   "metadata": {},
   "outputs": [
    {
     "name": "stdout",
     "output_type": "stream",
     "text": [
      "diff --git a/murcia/municipios b/murcia/municipios\n",
      "new file mode 100644\n",
      "index 0000000..19abbd5\n",
      "--- /dev/null\n",
      "+++ b/murcia/municipios\n",
      "@@ -0,0 +1,7 @@\n",
      "+LISTA DE MUNICIPIOS DE LA REGIÓN DE MURCIA\n",
      "+Abanilla\n",
      "+Alcantarilla\n",
      "+Alhama de Murcia\n",
      "+Archena\n",
      "+Blanca\n",
      "+Fortuna\n",
      "diff --git a/murcia/rios b/murcia/rios\n",
      "new file mode 100644\n",
      "index 0000000..b8d48de\n",
      "--- /dev/null\n",
      "+++ b/murcia/rios\n",
      "@@ -0,0 +1,4 @@\n",
      "+Río Benamor\n",
      "+Río Luchena\n",
      "+Río Mula\n",
      "+Río Quípar\n",
      "diff --git a/murcia/sierras b/murcia/sierras\n",
      "new file mode 100644\n",
      "index 0000000..0df1613\n",
      "--- /dev/null\n",
      "+++ b/murcia/sierras\n",
      "@@ -0,0 +1,5 @@\n",
      "+Sierra de la Almenara\n",
      "+Sierra de Burete\n",
      "+Sierra del Carche\n",
      "+Sierra de Carrascoy\n",
      "+Sierra de Columbares\n"
     ]
    }
   ],
   "source": [
    "#II.62\n",
    "# Muestra lo que has añadido al índice\n",
    "git diff --staged"
   ]
  },
  {
   "cell_type": "code",
   "execution_count": 138,
   "id": "54ab5e73-d098-44d5-92e3-c1110789824e",
   "metadata": {},
   "outputs": [
    {
     "name": "stdout",
     "output_type": "stream",
     "text": [
      "[main 32ef1e5] Añadiendo municipios, rios y sierras\n",
      " 3 files changed, 16 insertions(+)\n",
      " create mode 100644 murcia/municipios\n",
      " create mode 100644 murcia/rios\n",
      " create mode 100644 murcia/sierras\n"
     ]
    }
   ],
   "source": [
    "#II.63\n",
    "# PASO 4 (confirma el cambio al repositorio)\n",
    "git commit -m \"Añadiendo municipios, rios y sierras\""
   ]
  },
  {
   "cell_type": "code",
   "execution_count": 139,
   "id": "366c6934-ded4-49f0-adfa-2dcd7c6dad54",
   "metadata": {},
   "outputs": [
    {
     "name": "stdout",
     "output_type": "stream",
     "text": [
      "En la rama main\n",
      "Tu rama está adelantada a 'origin/main' por 1 commit.\n",
      "  (usa \"git push\" para publicar tus commits locales)\n",
      "\n",
      "nada para hacer commit, el árbol de trabajo está limpio\n"
     ]
    }
   ],
   "source": [
    "# Vuelve a comprobar el estado\n",
    "git status"
   ]
  },
  {
   "cell_type": "markdown",
   "id": "92cd40a8-a103-481e-8fa3-2e7652392a1c",
   "metadata": {},
   "source": [
    "PREGUNTA: ¿Qué información te muestra el comando anterior, acerca del remoto?\n",
    "\n",
    "RESPUESTA: Me dice que el remoto todavía no tiene rastreado el commit que acabo de hacer, por lo tanto, mi rama local está adelantada por 1 commit (Ese último commit que hice). Si quiero que el remoto rastree o aloje ese commit, debo usar \"git push\"\n",
    "\n"
   ]
  },
  {
   "cell_type": "code",
   "execution_count": 140,
   "id": "8ae6cee4-3adc-4959-bd95-4fb0acf01a2c",
   "metadata": {},
   "outputs": [
    {
     "name": "stdout",
     "output_type": "stream",
     "text": [
      "32ef1e5 (HEAD -> main) Añadiendo municipios, rios y sierras\n",
      "7a2d66c (origin/main, origin/HEAD) Añadiendo algunas sierras de la Región de Murcia\n"
     ]
    }
   ],
   "source": [
    "#II.64\n",
    "# PASO 5: comprobación (registro)\n",
    "git log --oneline"
   ]
  },
  {
   "cell_type": "markdown",
   "id": "ede034cd-ad72-479a-a275-752b7c7d91c9",
   "metadata": {},
   "source": [
    "PREGUNTA: ¿Cómo puedes saber a partir de la información anterior que el repositorio local y remoto no está en la misma versión?\n",
    "\n",
    "RESPUESTA: En la primera línea, indica que la rama main (mi repositorio local) está un commit adelante, que aún no tiene registrado en el repositorio remoto.\n",
    "\n"
   ]
  },
  {
   "cell_type": "markdown",
   "id": "7750a771-ab3f-4889-9681-cbd40d99a899",
   "metadata": {},
   "source": [
    "PREGUNTA: ¿Cuántos ficheros tiene ahora mismo el repositorio remoto?\n",
    "\n",
    "RESPUESTA: tiene un fichero llamado sierras y un subdirectorio con tres ficheros: municipios, rios y sierras.\n",
    "\n"
   ]
  },
  {
   "cell_type": "code",
   "execution_count": 141,
   "id": "be6dc492-e966-4aeb-bd46-5f800b8f7236",
   "metadata": {},
   "outputs": [
    {
     "name": "stdout",
     "output_type": "stream",
     "text": [
      "Enumerando objetos: 6, listo.\n",
      "Contando objetos: 100% (6/6), listo.\n",
      "Compresión delta usando hasta 4 hilos\n",
      "Comprimiendo objetos: 100% (4/4), listo.\n",
      "Escribiendo objetos: 100% (5/5), 573 bytes | 573.00 KiB/s, listo.\n",
      "Total 5 (delta 0), reusados 0 (delta 0), pack-reusados 0\n",
      "To /home/jupyter-mvyx6YiI7p/tmp/geografia-murciana\n",
      "   7a2d66c..32ef1e5  main -> main\n"
     ]
    }
   ],
   "source": [
    "#II.65\n",
    "# Envía tus cambios al repositorio remoto\n",
    "git push"
   ]
  },
  {
   "cell_type": "code",
   "execution_count": 142,
   "id": "7596d448-f8f4-4680-885d-61af82e06deb",
   "metadata": {},
   "outputs": [
    {
     "name": "stdout",
     "output_type": "stream",
     "text": [
      "32ef1e5 (HEAD -> main, origin/main, origin/HEAD) Añadiendo municipios, rios y sierras\n",
      "7a2d66c Añadiendo algunas sierras de la Región de Murcia\n"
     ]
    }
   ],
   "source": [
    "#II.66\n",
    "# Vuelve a mostrar el registro de commits\n",
    "git log --oneline"
   ]
  },
  {
   "cell_type": "markdown",
   "id": "bba65392-be4a-4dc6-9011-ecf92aa16c63",
   "metadata": {},
   "source": [
    "PREGUNTA: ¿En qué ha cambiado la información mostrada por el comando anterior sobre el repositorio remoto?\n",
    "\n",
    "RESPUESTA: Ahora, aparecen igualadas los repositorios (local y remoto), al aparecer en la línea: (HEAD -> main, origin/main, origin/HEAD). La segunda línea corrobora que el último commit en el repositorio local y remoto es el mismo.\n",
    "\n"
   ]
  },
  {
   "cell_type": "code",
   "execution_count": 143,
   "id": "cedfdec2-4b9f-43ea-8ebb-eb7e463a0d69",
   "metadata": {},
   "outputs": [],
   "source": [
    "# Ejecuta la siguiente celda para ver las diferencias entre dos ficheros\n",
    "diff -u sierras murcia/sierras"
   ]
  },
  {
   "cell_type": "code",
   "execution_count": 144,
   "id": "93a592f4-a33c-4331-b3a9-26a72b67c155",
   "metadata": {},
   "outputs": [
    {
     "name": "stdout",
     "output_type": "stream",
     "text": [
      "rm 'sierras'\n"
     ]
    }
   ],
   "source": [
    "#II.67\n",
    "# Elimina del repositorio el fichero \"sierras\" que está fuera del directorio \"murcia\"\n",
    "# PASO 1\n",
    "git rm sierras"
   ]
  },
  {
   "cell_type": "code",
   "execution_count": 145,
   "id": "86519e4f-e873-4925-b0dd-3c2c96ef845e",
   "metadata": {},
   "outputs": [
    {
     "name": "stdout",
     "output_type": "stream",
     "text": [
      "En la rama main\n",
      "Tu rama está actualizada con 'origin/main'.\n",
      "\n",
      "Cambios a ser confirmados:\n",
      "  (usa \"git restore --staged <archivo>...\" para sacar del área de stage)\n",
      "\tborrados:        sierras\n",
      "\n"
     ]
    }
   ],
   "source": [
    "#II.68\n",
    "# PASO 2 (estado)\n",
    "git status"
   ]
  },
  {
   "cell_type": "code",
   "execution_count": 146,
   "id": "c0f15cfd-fd2d-41ae-beb7-0efc6647b958",
   "metadata": {},
   "outputs": [
    {
     "name": "stdout",
     "output_type": "stream",
     "text": [
      "[main c7b4823] Eliminando fichero duplicado\n",
      " 1 file changed, 5 deletions(-)\n",
      " delete mode 100644 sierras\n"
     ]
    }
   ],
   "source": [
    "# PASO 3 (confirma) Mensaje: \"Eliminando fichero duplicado\"\n",
    "git commit -m \"Eliminando fichero duplicado\""
   ]
  },
  {
   "cell_type": "code",
   "execution_count": 147,
   "id": "480c91cd-ccdb-4019-ade3-1210b93e3c07",
   "metadata": {},
   "outputs": [
    {
     "name": "stdout",
     "output_type": "stream",
     "text": [
      "c7b4823 (HEAD -> main) Eliminando fichero duplicado\n",
      "32ef1e5 (origin/main, origin/HEAD) Añadiendo municipios, rios y sierras\n",
      "7a2d66c Añadiendo algunas sierras de la Región de Murcia\n"
     ]
    }
   ],
   "source": [
    "# PASO 4 (comprueba registro en una línea\n",
    "git log --oneline"
   ]
  },
  {
   "cell_type": "code",
   "execution_count": 148,
   "id": "0c8dd3f1-aef6-4e1c-8337-396f49cbdb60",
   "metadata": {},
   "outputs": [
    {
     "name": "stdout",
     "output_type": "stream",
     "text": [
      ".  ..  .git  murcia\n"
     ]
    }
   ],
   "source": [
    "ls -a"
   ]
  },
  {
   "cell_type": "code",
   "execution_count": 149,
   "id": "2ad035d5-9c19-40b8-875c-b7ccb8001795",
   "metadata": {},
   "outputs": [
    {
     "name": "stdout",
     "output_type": "stream",
     "text": [
      "En la rama main\n",
      "Tu rama está adelantada a 'origin/main' por 1 commit.\n",
      "  (usa \"git push\" para publicar tus commits locales)\n",
      "\n",
      "nada para hacer commit, el árbol de trabajo está limpio\n"
     ]
    }
   ],
   "source": [
    "#II.71\n",
    "# Muestra el estado\n",
    "git status"
   ]
  },
  {
   "cell_type": "code",
   "execution_count": 150,
   "id": "78abf7d2-9f72-4a1f-8bae-6a47cba1c4ce",
   "metadata": {},
   "outputs": [
    {
     "name": "stdout",
     "output_type": "stream",
     "text": [
      "Enumerando objetos: 3, listo.\n",
      "Contando objetos: 100% (3/3), listo.\n",
      "Compresión delta usando hasta 4 hilos\n",
      "Comprimiendo objetos: 100% (1/1), listo.\n",
      "Escribiendo objetos: 100% (2/2), 273 bytes | 273.00 KiB/s, listo.\n",
      "Total 2 (delta 0), reusados 0 (delta 0), pack-reusados 0\n",
      "To /home/jupyter-mvyx6YiI7p/tmp/geografia-murciana\n",
      "   32ef1e5..c7b4823  main -> main\n"
     ]
    }
   ],
   "source": [
    "#II.72\n",
    "# Envía tus cambios al remoto\n",
    "git push"
   ]
  },
  {
   "cell_type": "code",
   "execution_count": 151,
   "id": "64d7146b-e7b9-4108-ba2b-ce07912cc986",
   "metadata": {},
   "outputs": [
    {
     "name": "stdout",
     "output_type": "stream",
     "text": [
      "Cambiado a rama 'main'\n",
      "[main 5537e0c] Añadiendo más municipios con la letra L\n",
      " 1 file changed, 2 insertions(+)\n",
      "Cambiado a rama 'alicante'\n",
      "/home/jupyter-mvyx6YiI7p/p2-ejercicio/geografia-murciana\n"
     ]
    }
   ],
   "source": [
    "# Ejecuta la siguiente celda antes de continuar con el resto del ejercicio\n",
    "cd $REMOTE \n",
    "git switch main\n",
    "echo \"Librilla\" >> murcia/municipios\n",
    "echo \"Lorca\" >> murcia/municipios\n",
    "git commit . -m \"Añadiendo más municipios con la letra L\"\n",
    "git switch alicante\n",
    "cd -"
   ]
  },
  {
   "cell_type": "code",
   "execution_count": null,
   "id": "31170c27-2d7d-4644-ab0d-590ac60c5986",
   "metadata": {},
   "outputs": [],
   "source": []
  },
  {
   "cell_type": "markdown",
   "id": "6a09d553-3310-42c8-8210-d5d9cdd291d2",
   "metadata": {},
   "source": [
    "PREGUNTA: ¿Es posible saber ahora mismo que el repositorio remoto está por delante del actual?\n",
    "\n",
    "RESPUESTA: No, no es posible. Lo último que se sabe, gracias al último git status, es que el repositorio local tenía 1 commit por delante del respositorio remoto. Luego, al hacer git push, se subió al repositorio remoto los últimos cambios confirmados en el repositorio local.\n",
    "\n"
   ]
  },
  {
   "cell_type": "markdown",
   "id": "0b1d8ce2-d16a-4314-8710-292f6996bc91",
   "metadata": {},
   "source": [
    "PREGUNTA: \n",
    "\n",
    "RESPUESTA:\n",
    "\n"
   ]
  },
  {
   "cell_type": "code",
   "execution_count": 152,
   "id": "221b5e12-d64c-4dba-8688-fd418413b80e",
   "metadata": {},
   "outputs": [
    {
     "name": "stdout",
     "output_type": "stream",
     "text": [
      "remote: Enumerando objetos: 7, listo.        \n",
      "remote: Contando objetos: 100% (7/7), listo.        \n",
      "remote: Comprimiendo objetos: 100% (3/3), listo.        \n",
      "remote: Total 4 (delta 1), reusados 0 (delta 0), pack-reusados 0        \n",
      "Desempaquetando objetos: 100% (4/4), 423 bytes | 211.00 KiB/s, listo.\n",
      "Desde /home/jupyter-mvyx6YiI7p/tmp/geografia-murciana\n",
      "   c7b4823..5537e0c  main       -> origin/main\n",
      " * [nueva rama]      alicante   -> origin/alicante\n",
      "Actualizando c7b4823..5537e0c\n",
      "Fast-forward\n",
      " murcia/municipios | 2 ++\n",
      " 1 file changed, 2 insertions(+)\n"
     ]
    }
   ],
   "source": [
    "#II.74\n",
    "# Obtén los últimos cambios publicados en el repositorio remoto\n",
    "git pull"
   ]
  },
  {
   "cell_type": "code",
   "execution_count": 153,
   "id": "815b8c14-9394-4ba0-891d-2c75afd9ea16",
   "metadata": {},
   "outputs": [
    {
     "name": "stdout",
     "output_type": "stream",
     "text": [
      "5537e0c (HEAD -> main, origin/main, origin/HEAD) Añadiendo más municipios con la letra L\n",
      "c7b4823 Eliminando fichero duplicado\n",
      "32ef1e5 Añadiendo municipios, rios y sierras\n",
      "7a2d66c (origin/alicante) Añadiendo algunas sierras de la Región de Murcia\n"
     ]
    }
   ],
   "source": [
    "git log --oneline"
   ]
  },
  {
   "cell_type": "code",
   "execution_count": 154,
   "id": "5df5e7ec-7a9c-4916-b3dd-7a0b3a179986",
   "metadata": {},
   "outputs": [],
   "source": [
    "echo \"Sierra de Ricote\" >> murcia/sierras\n",
    "echo \"Río Taibilla\" >> murcia/rios"
   ]
  },
  {
   "cell_type": "code",
   "execution_count": 155,
   "id": "2219c956-c24a-4287-ac20-22d2dbead5cd",
   "metadata": {},
   "outputs": [
    {
     "name": "stdout",
     "output_type": "stream",
     "text": [
      "En la rama main\n",
      "Tu rama está actualizada con 'origin/main'.\n",
      "\n",
      "Cambios no rastreados para el commit:\n",
      "  (usa \"git add <archivo>...\" para actualizar lo que será confirmado)\n",
      "  (usa \"git restore <archivo>...\" para descartar los cambios en el directorio de trabajo)\n",
      "\tmodificados:     murcia/rios\n",
      "\tmodificados:     murcia/sierras\n",
      "\n",
      "sin cambios agregados al commit (usa \"git add\" y/o \"git commit -a\")\n"
     ]
    }
   ],
   "source": [
    "#II.73\n",
    "git status"
   ]
  },
  {
   "cell_type": "code",
   "execution_count": 156,
   "id": "910f7432-2e03-4dab-ba64-848776e9b401",
   "metadata": {},
   "outputs": [
    {
     "name": "stdout",
     "output_type": "stream",
     "text": [
      "Cambiado a rama 'main'\n",
      "[main 5edd8ab] Añadiendo más municipios con la letra M\n",
      " 1 file changed, 2 insertions(+)\n",
      "Cambiado a rama 'alicante'\n",
      "/home/jupyter-mvyx6YiI7p/p2-ejercicio/geografia-murciana\n"
     ]
    }
   ],
   "source": [
    "# Ejecuta la siguiente celda antes de continuar con el resto del ejercicio\n",
    "cd $REMOTE \n",
    "git switch main\n",
    "echo \"Mazarrón\" >> murcia/municipios\n",
    "echo \"Moratalla\" >> murcia/municipios\n",
    "git commit . -m \"Añadiendo más municipios con la letra M\"\n",
    "git switch alicante\n",
    "cd -"
   ]
  },
  {
   "cell_type": "markdown",
   "id": "4d80247f-6d26-41a1-99b6-6a4b5e62077c",
   "metadata": {},
   "source": [
    "Una manera sencilla de saber si hay cambios en el remoto es ejecutar `git push`, para ver si tu copia local está actualizada:"
   ]
  },
  {
   "cell_type": "code",
   "execution_count": 157,
   "id": "5b5d3346-05c4-4d5f-a596-b09ff838f227",
   "metadata": {},
   "outputs": [
    {
     "name": "stdout",
     "output_type": "stream",
     "text": [
      "To /home/jupyter-mvyx6YiI7p/tmp/geografia-murciana\n",
      " ! [rejected]        main -> main (fetch first)\n",
      "error: falló el empuje de algunas referencias a '/home/jupyter-mvyx6YiI7p/tmp/geografia-murciana'\n",
      "ayuda: Actualizaciones fueron rechazadas porque el remoto contiene trabajo que\n",
      "ayuda: no existe localmente. Esto es causado usualmente por otro repositorio\n",
      "ayuda: empujando a la misma ref. Quizás quieras integrar primero los cambios\n",
      "ayuda: remotos (ej. 'git pull ...') antes de volver a hacer push.\n",
      "ayuda: Mira 'Notes about fast-forwards' en 'git push --help' para detalles.\n"
     ]
    },
    {
     "ename": "",
     "evalue": "1",
     "output_type": "error",
     "traceback": []
    }
   ],
   "source": [
    "git push"
   ]
  },
  {
   "cell_type": "markdown",
   "id": "f520b017-c228-4082-b476-867e911923e2",
   "metadata": {},
   "source": [
    "PREGUNTA: ¿Por qué falla y qué te indica la salida del comando anterior? \n",
    "\n",
    "RESPUESTA: lo que ocurre es que se han creado uno municipios desde otra rama y se han subido al repositorio remoto. Es decir, el repositorio remoto tiene actualizaciones que en el repositorio local todavía no han sido solicitadas mediante git pull. El error me sugiere hacer git pull, para luego incorporar mis actualizaciones locales al repositorio remoto.\n",
    "\n"
   ]
  },
  {
   "cell_type": "code",
   "execution_count": 158,
   "id": "a8fc17f4-5577-425a-a982-333197eea9f6",
   "metadata": {},
   "outputs": [
    {
     "name": "stdout",
     "output_type": "stream",
     "text": [
      "LISTA DE MUNICIPIOS DE LA REGIÓN DE MURCIA\n",
      "Abanilla\n",
      "Alcantarilla\n",
      "Alhama de Murcia\n",
      "Archena\n",
      "Blanca\n",
      "Fortuna\n",
      "Librilla\n",
      "Lorca\n"
     ]
    }
   ],
   "source": [
    "#II.78\n",
    "# Muestra el contenido del fichero de municipios\n",
    "cat murcia/municipios"
   ]
  },
  {
   "cell_type": "code",
   "execution_count": 159,
   "id": "af0e7017-fd06-4b2f-9e2a-38cc4d5f2f93",
   "metadata": {},
   "outputs": [
    {
     "name": "stdout",
     "output_type": "stream",
     "text": [
      "remote: Enumerando objetos: 7, listo.        \n",
      "remote: Contando objetos: 100% (7/7), listo.        \n",
      "remote: Comprimiendo objetos: 100% (3/3), listo.        \n",
      "remote: Total 4 (delta 1), reusados 0 (delta 0), pack-reusados 0        \n",
      "Desempaquetando objetos: 100% (4/4), 430 bytes | 215.00 KiB/s, listo.\n",
      "Desde /home/jupyter-mvyx6YiI7p/tmp/geografia-murciana\n",
      "   5537e0c..5edd8ab  main       -> origin/main\n",
      "Actualizando 5537e0c..5edd8ab\n",
      "Fast-forward\n",
      " murcia/municipios | 2 ++\n",
      " 1 file changed, 2 insertions(+)\n"
     ]
    }
   ],
   "source": [
    "#II.79\n",
    "# Obtén los últimos cambios en el repositorio remoto\n",
    "git pull"
   ]
  },
  {
   "cell_type": "code",
   "execution_count": 160,
   "id": "9a2858db-45dd-492b-abd0-bf1a2d716971",
   "metadata": {},
   "outputs": [
    {
     "name": "stdout",
     "output_type": "stream",
     "text": [
      "En la rama main\n",
      "Tu rama está actualizada con 'origin/main'.\n",
      "\n",
      "Cambios no rastreados para el commit:\n",
      "  (usa \"git add <archivo>...\" para actualizar lo que será confirmado)\n",
      "  (usa \"git restore <archivo>...\" para descartar los cambios en el directorio de trabajo)\n",
      "\tmodificados:     murcia/rios\n",
      "\tmodificados:     murcia/sierras\n",
      "\n",
      "sin cambios agregados al commit (usa \"git add\" y/o \"git commit -a\")\n"
     ]
    }
   ],
   "source": [
    "#II.80\n",
    "git status"
   ]
  },
  {
   "cell_type": "markdown",
   "id": "49f88761-efc6-4040-b37f-802140a2c5be",
   "metadata": {},
   "source": [
    "PREGUNTA: ¿Por qué no se han visto afectados por el \"pull\" los ficheros modificados de tu árbol de trabajo?\n",
    "\n",
    "RESPUESTA: Porque las modificaciones que se han hecho desde las distintas ramas (desde la rama alicante y mi rama, la rama main) no entran en conflicto. Es decir, de el repositorio remoto me he traido, con git pull, modificaciones de ficheros distintos de los ficheros que yo he modificado en mi repositorio local.\n",
    "\n"
   ]
  },
  {
   "cell_type": "code",
   "execution_count": 162,
   "id": "5b1e558d-5438-4232-aa00-fcbcb35448f6",
   "metadata": {},
   "outputs": [
    {
     "name": "stdout",
     "output_type": "stream",
     "text": [
      "LISTA DE MUNICIPIOS DE LA REGIÓN DE MURCIA\n",
      "Abanilla\n",
      "Alcantarilla\n",
      "Alhama de Murcia\n",
      "Archena\n",
      "Blanca\n",
      "Fortuna\n",
      "Librilla\n",
      "Lorca\n",
      "Mazarrón\n",
      "Moratalla\n"
     ]
    }
   ],
   "source": [
    "#II.81\n",
    "# Muestra el contenido del fichero de municipios\n",
    "cat murcia/municipios"
   ]
  },
  {
   "cell_type": "code",
   "execution_count": 163,
   "id": "23eabbfa-567b-49ff-9510-ddea35b57da8",
   "metadata": {},
   "outputs": [
    {
     "name": "stdout",
     "output_type": "stream",
     "text": [
      "diff --git a/murcia/rios b/murcia/rios\n",
      "index b8d48de..8fb1be0 100644\n",
      "--- a/murcia/rios\n",
      "+++ b/murcia/rios\n",
      "@@ -2,3 +2,4 @@ Río Benamor\n",
      " Río Luchena\n",
      " Río Mula\n",
      " Río Quípar\n",
      "+Río Taibilla\n"
     ]
    }
   ],
   "source": [
    "#II.82\n",
    "# Muestra las diferencias entre el fichero de ríos en tu árbol de trabajo y el repositorio\n",
    "git diff murcia/rios"
   ]
  },
  {
   "cell_type": "code",
   "execution_count": 164,
   "id": "d661d526-b9a8-4604-8864-95fbd42f5ce7",
   "metadata": {},
   "outputs": [
    {
     "name": "stdout",
     "output_type": "stream",
     "text": [
      "Everything up-to-date\n"
     ]
    }
   ],
   "source": [
    "#II.83\n",
    "# Trata de enviar tus cambios en el fichero de ríos al repositorio\n",
    "git push"
   ]
  },
  {
   "cell_type": "markdown",
   "id": "675696c6-2a89-4452-b1aa-5137904af810",
   "metadata": {},
   "source": [
    "PREGUNTA: ¿Se han enviado los cambio que has en el fichero de ríos y sierras al repositorio remoto?\n",
    "\n",
    "RESPUESTA: No, de acuerdo al último git status hecho, todavía tengo ficheros modificados que no he añadido al índice, por lo tanto, el intento de hacer git push es inútil, puesto que los últimos cambios confirmados ya se habían \"pusheado\". Desde esa mirada no me queda \"nada más\" por subir al repositorio remoto, mientras no haya nada añadido en las áreas de control de cambio de git. \n",
    "\n"
   ]
  },
  {
   "cell_type": "code",
   "execution_count": 166,
   "id": "dd629cae-272e-451f-baf2-f0cf3a7e9083",
   "metadata": {},
   "outputs": [],
   "source": [
    "#II.84\n",
    "# Haz lo necesario para publicar al remoto los cambios que tienes pendiente\n",
    "# PASO 1 (añadir al índice)\n",
    "git add murcia/rios"
   ]
  },
  {
   "cell_type": "code",
   "execution_count": 168,
   "id": "f9432909-31a9-4944-820a-3d884defa0f1",
   "metadata": {},
   "outputs": [],
   "source": [
    "git add murcia/sierras"
   ]
  },
  {
   "cell_type": "code",
   "execution_count": 170,
   "id": "d62c9c36-573c-4026-a165-dfb3e89e6e6c",
   "metadata": {},
   "outputs": [
    {
     "name": "stdout",
     "output_type": "stream",
     "text": [
      "[main 9ead9f8] Añadiendo algunos ríos y sierras\n",
      " 2 files changed, 2 insertions(+)\n"
     ]
    }
   ],
   "source": [
    "#II.85\n",
    "# PASO 2 (confirmar)\n",
    "git commit -m \"Añadiendo algunos ríos y sierras\""
   ]
  },
  {
   "cell_type": "code",
   "execution_count": 171,
   "id": "82241a31-5d6e-48b3-aa00-fb2ab129df75",
   "metadata": {},
   "outputs": [
    {
     "name": "stdout",
     "output_type": "stream",
     "text": [
      "commit 9ead9f82d884067513cea96182b0ea4dbb491305 (HEAD -> main)\n",
      "Date:   Fri Oct 11 20:19:33 2024 +0200\n",
      "\n",
      "    Añadiendo algunos ríos y sierras\n",
      "\n",
      "commit 5edd8ab29aa1f749cad31cc0262dbb03ce9b3f0c (origin/main, origin/HEAD)\n",
      "Date:   Fri Oct 11 19:33:53 2024 +0200\n",
      "\n",
      "    Añadiendo más municipios con la letra M\n",
      "\n",
      "commit 5537e0c3845b5e4d3b3bd692b9f7209e4a4db8b4\n",
      "Date:   Fri Oct 11 18:53:19 2024 +0200\n",
      "\n",
      "    Añadiendo más municipios con la letra L\n",
      "\n",
      "commit c7b4823ac8850607fd7c00d51ca8ac090dc10ccb\n",
      "Date:   Fri Oct 11 18:52:59 2024 +0200\n",
      "\n",
      "    Eliminando fichero duplicado\n",
      "\n",
      "commit 32ef1e587ad9af6708cad718e7f8fa0b54f07b27\n",
      "Date:   Fri Oct 11 18:52:25 2024 +0200\n",
      "\n",
      "    Añadiendo municipios, rios y sierras\n",
      "\n",
      "commit 7a2d66c15698df59fc24278bdf8d75982f2e0b3e (origin/alicante)\n",
      "Date:   Fri Oct 11 18:50:29 2024 +0200\n",
      "\n",
      "    Añadiendo algunas sierras de la Región de Murcia\n"
     ]
    }
   ],
   "source": [
    "#II.86\n",
    "# PASO 3 (comprobar)\n",
    "git log"
   ]
  },
  {
   "cell_type": "code",
   "execution_count": 172,
   "id": "c9056d2f-192f-49ad-9c52-9d9c6acb3f36",
   "metadata": {},
   "outputs": [
    {
     "name": "stdout",
     "output_type": "stream",
     "text": [
      "Enumerando objetos: 9, listo.\n",
      "Contando objetos: 100% (9/9), listo.\n",
      "Compresión delta usando hasta 4 hilos\n",
      "Comprimiendo objetos: 100% (4/4), listo.\n",
      "Escribiendo objetos: 100% (5/5), 496 bytes | 496.00 KiB/s, listo.\n",
      "Total 5 (delta 1), reusados 0 (delta 0), pack-reusados 0\n",
      "To /home/jupyter-mvyx6YiI7p/tmp/geografia-murciana\n",
      "   5edd8ab..9ead9f8  main -> main\n"
     ]
    }
   ],
   "source": [
    "#II.87\n",
    "# PASO 4 (publicar)\n",
    "git push"
   ]
  },
  {
   "cell_type": "code",
   "execution_count": 174,
   "id": "b5f73c39-9ad0-4f3f-9381-fba24a55adaf",
   "metadata": {},
   "outputs": [],
   "source": [
    "rm -rf ~/p2-ejercicio"
   ]
  },
  {
   "cell_type": "code",
   "execution_count": null,
   "id": "08a501fd-2578-4e4b-827d-46b445f40e6c",
   "metadata": {},
   "outputs": [],
   "source": []
  },
  {
   "cell_type": "code",
   "execution_count": null,
   "id": "264e0b33-19b0-49e6-95f9-66a6d08b2ddc",
   "metadata": {},
   "outputs": [],
   "source": []
  },
  {
   "cell_type": "markdown",
   "id": "0bbf22c8-18b7-4d90-9781-8c46a8b72021",
   "metadata": {},
   "source": [
    "**FIN DEL CUADERNO** (*no borres esta celda*)\n",
    "\n",
    "@@@@ practica2-introgit-ejercicios.ipynb @@@@"
   ]
  }
 ],
 "metadata": {
  "kernelspec": {
   "display_name": "Bash",
   "language": "bash",
   "name": "bash"
  },
  "language_info": {
   "codemirror_mode": "shell",
   "file_extension": ".sh",
   "mimetype": "text/x-sh",
   "name": "bash"
  }
 },
 "nbformat": 4,
 "nbformat_minor": 5
}
