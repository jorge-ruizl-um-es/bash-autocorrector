{
 "cells": [
  {
   "attachments": {},
   "cell_type": "markdown",
   "id": "e497958a-45d2-4712-91f9-5daf24c860d2",
   "metadata": {},
   "source": [
    "# Práctica 5b: Herramientas de gestión del sistema de ficheros. Búsquedas.\n",
    "\n",
    "## Objetivos\n",
    "\n",
    "El objetivo de este boletín de prácticas es familiarizar a los alumnos con varias herramientas básicas de la línea de comandos que forman parte del repertorio básico de cualquier usuario, y que permiten desde la gestión de la metainformación de los ficheros o la búsqueda avanzada en el sistema de ficheros, hasta la búsqueda por contenido, la compresión y archivado, o la monitorización del espacio en disco. También se introducirá por primera vez el concepto de enlace y sus tipos.\n",
    "\n",
    "## Búsqueda de ficheros por sus metadatos\n",
    "\n",
    "\n",
    "Una tarea muy frecuente en el manejo del SO es encontrar la ubicación de ficheros o directorios que coincidan con ciertos criterios de búsqueda basados en los metadatos de los ficheros a encontrar: su nombre, tipo, tamaño, propietario, fecha de última modificación, etc. Una orden de Linux muy útil para ello es `find`, que nos permite realizar búsquedas con mucha precisión. El comando `find` busca recursivamente entradas (ficheros, directorios, etc.) en la(s) ruta(s) especificada(s) como parámetro(s), que concuerden con la(s) expresión(es) de búsqueda especificadas.\n",
    "\n",
    "\n",
    "El formato general es `find [ruta1 ruta2...] expresión`. Entre las opciones más empleadas como parte de la expresión de búsqueda, tenemos las siguientes:\n",
    "\n",
    "* `-iname nombre` : Nombre del fichero a buscar, sin distinguir el uso de mayúsculas. Se pueden utilizar comodines, en cuyo caso se debe entrecomillas el patrón. También podemos utilizar `-name` si queremos que la búsqueda distinga entre mayúsculas y minúsculas.\n",
    "* `--type f|d` : Tipo del fichero (fichero regular o directorio). Hay muchas más opciones, pero quedan fuera del alcance de un curso introductorio de primero.\n",
    "* `--user usuario` : Propietario al que debe pertenecer el fichero.\n",
    "* `--mtime [+|-]n` : Fichero modificado hace más de, menos de o exactamente n días.\n",
    "* `--size [+|-]n` : Fichero con un tamaño de más, menos o exactamente 512 × n bytes. Lo habitual es especificar una unidad de mayor tamaño, por ejemplo `-size +28k` para indicar ficheros que tengan un tamaño\n",
    "mayor de 28 KiB.\n",
    "* `--printf \"...\"` : Sirve para imprimir cadenas de texto formateado junto con información acerca de los ficheros encontrados por find, tales con su ruta (%p), tamaño (%s), usuario propietario (%u), etc.\n",
    "\n",
    "Los criterios de búsqueda usados en la expresión se pueden combinar con operadores lógicos: `!` para la negación; `-o` para la disyunción (“OR”); y `-a` para la conjunción (“AND”), que está implícito por efecto cuando se indican varios criterios. Veamos varios ejemplos concretos de uso del comando find con diferentes expresiones de búsqueda:\n",
    "\n",
    "* `find dir -type f -iname \"*.tgz\" `: Busca dentro de `dir` ficheros con extensión `.tgz` (o .TGZ, .Tgz, etc.).\n",
    "* `find /etc/default dir -type d -name \"dir_*\" ` : Busca tanto bajo `/etc/default` como bajo `dir` los directorios cuyo nombre empiece exactamente con la cadena `dir_`.\n",
    "* `find dir -size +140k -a -type f`: Busca en `dir` los ficheros de más de 140 KiB.\n",
    "* `find . -type f -printf \"El fichero %p ocupa %s bytes\\n\"`: Sirve para imprimir cadenas de texto formateado junto con información acerca de los ficheros encontrados por `find`, tales con su ruta (`%p`), tamaño (`%s`), usuario propietario (`%u`), fecha de última modificación (`%t`), etc.."
   ]
  },
  {
   "cell_type": "code",
   "execution_count": 2,
   "id": "42acb1f0-00ac-4374-94c2-e8c0922661ce",
   "metadata": {},
   "outputs": [],
   "source": [
    "# Ejecuta esta celda para crear algunos ficheros\n",
    "rm -rf ~/bash-búsquedas\n",
    "mkdir -p ~/bash-búsquedas\n",
    "cd ~/bash-búsquedas\n",
    "# Creamos 5 directorios\n",
    "mkdir -p dir1 dir2 dir3 dir4 dir5\n",
    "# Creamos ficheros vacíos en 4 de ellos\n",
    "touch dir1/onefile\n",
    "touch dir2/anotherfile\n",
    "touch dir3/yetanotherfile\n",
    "touch dir4/unfichero"
   ]
  },
  {
   "cell_type": "code",
   "execution_count": 3,
   "id": "18846071-3764-409e-9f4e-badf38074b62",
   "metadata": {},
   "outputs": [
    {
     "name": "stdout",
     "output_type": "stream",
     "text": [
      "Clonando en 'nano'...\n",
      "remote: Enumerating objects: 58494, done.        \n",
      "remote: Counting objects: 100% (2741/2741), done.        \n",
      "remote: Compressing objects: 100% (1242/1242), done.        \n",
      "remote: Total 58494 (delta 1864), reused 1957 (delta 1499), pack-reused 55753 (from 1)        \n",
      "Recibiendo objetos: 100% (58494/58494), 39.00 MiB | 19.57 MiB/s, listo.\n",
      "Resolviendo deltas: 100% (47794/47794), listo.\n"
     ]
    }
   ],
   "source": [
    "# Clonamos el repositorio del editor \"nano\"\n",
   ]
  },
  {
   "cell_type": "code",
   "execution_count": 4,
   "id": "98e79b31-ae99-463d-8ddc-ac8b3929a986",
   "metadata": {},
   "outputs": [
    {
     "name": "stdout",
     "output_type": "stream",
     "text": [
      "/home/jupyter-sLkE0qGCXS/bash-búsquedas\n"
     ]
    }
   ],
   "source": [
    "pwd"
   ]
  },
  {
   "cell_type": "code",
   "execution_count": 5,
   "id": "98f088e0-b0b1-451f-9f2b-3256d52b048e",
   "metadata": {},
   "outputs": [
    {
     "name": "stdout",
     "output_type": "stream",
     "text": [
      "dir1  dir2  dir3  dir4  dir5  nano\n"
     ]
    }
   ],
   "source": [
    "ls"
   ]
  },
  {
   "cell_type": "code",
   "execution_count": 6,
   "id": "a7e2f967-f8d4-499e-897d-eb7ad7ec3713",
   "metadata": {},
   "outputs": [
    {
     "name": "stdout",
     "output_type": "stream",
     "text": [
      "nano/src/nano.c\n"
     ]
    }
   ],
   "source": [
    "# Buscar en el directorio \"nano\" ficheros regulares cuyo nombre \n",
    "# sea NANO.C, sin distinguir mayúsculas de minúsculas\n",
    "find nano -type f -iname \"NANO.C\""
   ]
  },
  {
   "cell_type": "code",
   "execution_count": 7,
   "id": "9ef8c13d-2537-483e-a127-f6a486487a9f",
   "metadata": {},
   "outputs": [
    {
     "name": "stdout",
     "output_type": "stream",
     "text": [
      "nano/src/winio.c\n"
     ]
    }
   ],
   "source": [
    "# Buscar en el directorio \"nano\" ficheros regulares cuyo nombre \n",
    "# empiece por la cadena \"win\" (en minúsculas)\n",
    "find nano -type f -name \"win*\""
   ]
  },
  {
   "cell_type": "code",
   "execution_count": 8,
   "id": "d30468eb-3dc2-43c5-b7fa-537350a865b7",
   "metadata": {},
   "outputs": [
    {
     "name": "stdout",
     "output_type": "stream",
     "text": [
      "nano/src/definitions.h\n",
      "nano/src/prototypes.h\n",
      "nano/src/Makefile.am\n"
     ]
    }
   ],
   "source": [
    "# Buscar en el directorio \"nano\" ficheros regulares cuyo nombre \n",
    "# NO acabe por *.c (en minúsculas)\n",
    "find nano/src -type f ! -name \"*.c\""
   ]
  },
  {
   "cell_type": "code",
   "execution_count": 9,
   "id": "7fcb4b99-69d1-4ec0-b92a-9144f116f3a9",
   "metadata": {},
   "outputs": [
    {
     "name": "stdout",
     "output_type": "stream",
     "text": [
      "/home/jupyter-sLkE0qGCXS/bash-búsquedas\n"
     ]
    }
   ],
   "source": [
    "pwd"
   ]
  },
  {
   "cell_type": "code",
   "execution_count": 10,
   "id": "83527c0a-976e-41e5-bc38-61b6ef4d596d",
   "metadata": {},
   "outputs": [
    {
     "name": "stdout",
     "output_type": "stream",
     "text": [
      "nano/src/Makefile.am\n",
      "nano/syntax/makefile.nanorc\n",
      "nano/syntax/cmake.nanorc\n",
      "nano/syntax/Makefile.am\n",
      "nano/doc/Makefile.am\n",
      "nano/po/Makevars\n",
      "nano/Makefile.am\n",
      "nano/m4/Makefile.am\n"
     ]
    }
   ],
   "source": [
    "# Buscar en el directorio \"nano\" ficheros regulares cuyo nombre \n",
    "# contenga la cadena \"make\", sin distinguir mayúsculas\n",
    "find nano -type f -iname \"*make*\""
   ]
  },
  {
   "cell_type": "code",
   "execution_count": 11,
   "id": "1762ff6f-2f27-41e5-8348-ac19c4a023d4",
   "metadata": {},
   "outputs": [
    {
     "name": "stdout",
     "output_type": "stream",
     "text": [
      "nano/src/Makefile.am\n",
      "nano/syntax/makefile.nanorc\n",
      "nano/syntax/cmake.nanorc\n",
      "nano/syntax/Makefile.am\n",
      "nano/doc/Makefile.am\n",
      "nano/Makefile.am\n",
      "nano/m4/Makefile.am\n"
     ]
    }
   ],
   "source": [
    "# Buscar en el directorio \"nano\" ficheros regulares cuyo nombre \n",
    "# contenga la cadena \"make\" seguida de f o punto, sin distinguir mayúsculas\n",
    "find nano -type f -iname \"*make[f.]*\""
   ]
  },
  {
   "cell_type": "code",
   "execution_count": 12,
   "id": "318fa39e-78ea-4d5d-a665-4c91ccdc3a2a",
   "metadata": {},
   "outputs": [
    {
     "name": "stdout",
     "output_type": "stream",
     "text": [
      "nano/.github\n",
      "nano/.git\n"
     ]
    }
   ],
   "source": [
    "# Buscar en el directorio \"nano\", subdirectorios cuyo nombre \n",
    "# contenga la cadena \"git\", sin distinguir mayúsculas\n",
    "find nano -type d -name \"*git*\""
   ]
  },
  {
   "cell_type": "code",
   "execution_count": 13,
   "id": "127aab81-02c8-4df1-ad34-25cc60519278",
   "metadata": {},
   "outputs": [
    {
     "name": "stdout",
     "output_type": "stream",
     "text": [
      "nano/src/winio.c\n",
      "nano/NEWS\n",
      "nano/ChangeLog.2007-2015\n",
      "nano/ChangeLog.1999-2006\n"
     ]
    }
   ],
   "source": [
    "# Buscar en el directorio \"nano\" ficheros regulares cuyo tamaño \n",
    "# sea mayor que 100KiB y menor que 500KiB\n",
    "find nano -type f -size +100k -size -500k"
   ]
  },
  {
   "cell_type": "code",
   "execution_count": 16,
   "id": "f87ead1f-cacb-4306-a6a4-d05e3e037f0e",
   "metadata": {},
   "outputs": [
    {
     "name": "stdout",
     "output_type": "stream",
     "text": [
      "El fichero nano/src/utils.c ocupa 14314 bytes\n",
      "El fichero nano/src/color.c ocupa 12353 bytes\n",
      "El fichero nano/doc/sample.nanorc.in ocupa 11743 bytes\n",
      "El fichero nano/IMPROVEMENTS ocupa 12080 bytes\n",
      "El fichero nano/.git/index ocupa 11523 bytes\n"
     ]
    }
   ],
   "source": [
    "# Buscar en el directorio \"nano\" ficheros regulares cuyo tamaño \n",
    "# sea mayor que 10KiB y menor que 15KiB, y para cada coincidencia\n",
    "# imprime una cadena su ruta relativa (%p) y tamaño (%s)\n",
    "find nano -type f -size +10k -size -15k -printf \"El fichero %p ocupa %s bytes\\n\""
   ]
  },
  {
   "cell_type": "markdown",
   "id": "5fbe6286",
   "metadata": {},
   "source": [
    "#### <span style=\"color: blue;\">EJERCICIO</span>\n",
    "\n",
    "Encuentra mediante `find` los ficheros que cumplan los criterios indicados."
   ]
  },
  {
   "cell_type": "code",
   "execution_count": 18,
   "id": "f85ff63c-4b1c-4ec1-9b62-c36f66940902",
   "metadata": {},
   "outputs": [
    {
     "name": "stdout",
     "output_type": "stream",
     "text": [
      "nano/src/files.c\n",
      "nano/src/prototypes.h\n",
      "nano/syntax/nftables.nanorc\n",
      "nano/nano-regress\n",
      "nano/po/POTFILES.in\n",
      "nano/po/es.po\n",
      "nano/.git/description\n"
     ]
    }
   ],
   "source": [
    "# Ficheros dentro del directorio \"nano\", de tipo regular \n",
    "# y cuyo nombre contenga la subcadena \"es\", sin distinguir mayúsculas\n",
    "find nano -type f -iname \"*es*\""
   ]
  },
  {
   "cell_type": "code",
   "execution_count": 19,
   "id": "7a7f074c-1b3d-400a-85f4-fdb07a07a349",
   "metadata": {},
   "outputs": [
    {
     "name": "stdout",
     "output_type": "stream",
     "text": [
      "nano/po/POTFILES.in\n"
     ]
    }
   ],
   "source": [
    "# Ficheros dentro del directorio \"nano\", de tipo regular \n",
    "# y cuyo nombre contenga la subcadena \"es\" en mayúsculas\n",
    "find nano -type f -name \"*ES*\""
   ]
  },
  {
   "cell_type": "code",
   "execution_count": 20,
   "id": "e269557f-450a-4f74-b7de-e5afb7cd105e",
   "metadata": {},
   "outputs": [
    {
     "name": "stdout",
     "output_type": "stream",
     "text": [
      "nano/src/files.c\n",
      "nano/src/prototypes.h\n",
      "nano/syntax/nftables.nanorc\n",
      "nano/po/es.po\n"
     ]
    }
   ],
   "source": [
    "# Ficheros dentro del directorio \"nano\", de tipo regular \n",
    "# y cuyo nombre contenga la subcadena \"es.\" y no acabe ni \n",
    "# en 'c', ni en 'h' ni en 'n', sin distinguir mayúsculas\n",
    "find nano -type f -name \"*es.*\" ! -name \"[chn]\""
   ]
  },
  {
   "cell_type": "code",
   "execution_count": 23,
   "id": "5d10115c-8b0e-4703-a28c-f3e42e7ba9f9",
   "metadata": {},
   "outputs": [
    {
     "name": "stdout",
     "output_type": "stream",
     "text": [
      "dir2/anotherfile\n",
      "dir3/yetanotherfile\n"
     ]
    }
   ],
   "source": [
    "# Ficheros dentro de los directorios \"nano\" \"dir2\" y \"dir3\",\n",
    "# de tipo regular cuyo nombre contenga la subcadena \"file\",\n",
    "# no contengan el carácter \"m\", sin distinguir mayúsculas,\n",
    "# y tengan tamaño menor que 1KiB\n",
    "find {nano,dir2,dir3} -type f -name \"*file*\" ! -iname \"m\" -size -1k"
   ]
  },
  {
   "cell_type": "code",
   "execution_count": 24,
   "id": "58222ac9-da06-4ccd-8ae0-1d8a400b9c06",
   "metadata": {},
   "outputs": [
    {
     "name": "stdout",
     "output_type": "stream",
     "text": [
      "nano/.git/objects/pack/pack-7721fe636a3ca50c0f124721cb180ecfc4287bf4.pack\n"
     ]
    }
   ],
   "source": [
    "# Ficheros regulares dentro de \"nano\" cuyo tamaño \n",
    "# sea mayor que 3MiB, y para cada coincidencia imprime una\n",
    "#  cadena su ruta relativa (%p) y fecha de última modificación (%t)\n",
    "find nano -type f -size +3M "
   ]
  },
  {
   "cell_type": "markdown",
   "id": "4c21160b",
   "metadata": {},
   "source": [
    "## Búsqueda de texto en ficheros. Búsqueda de ficheros por su contenido.\n"
   ]
  },
  {
   "cell_type": "markdown",
   "id": "4631f8ee",
   "metadata": {},
   "source": [
    "Otra tarea recurrente al interactuar con el sistema de ficheros es encontrar determinados ficheros en función de su contenido, o bien localizar exactamente en qué lugar de un determinado fichero aparece una cierta palabra. El comando por excelencia para ello es `grep`, que es una contracción de *global regular expresion print*, y que se encarga de encontrar e imprimir las líneas de los ficheros que coinciden con un patrón dado.\n",
    "\n",
    "El formato general es `grep [opciones] patrón [ruta...]` . Es **conveniente entrecomillar el patrón**, que puede contener caracteres literales y otros con significado especial. Entre las opciones más empleadas tenemos las siguientes:\n",
    "* `-i`: Busca ignorando el uso de mayúsculas.\n",
    "* `-v`: Invierte la búsqueda, selecciona las líneas que no concuerdan con el patrón dado.\n",
    "* `-l`: Muestra el nombre del fichero que contiene la línea coincidente en vez de dicha línea.\n",
    "* `-n`: Muestra el número de línea para cada línea coincidente, empezando por 1.\n",
    "* `-w`: Busca únicamente palabras completas, no fragmentos de palabras.\n",
    "* `-r`: Busca recursivamente en los directorios."
   ]
  },
  {
   "cell_type": "markdown",
   "id": "d1c39b85",
   "metadata": {},
   "source": [
    "Algunos caracteres con significado especial que se usan frecuentemente como parte del patrón son:\n",
    "- `^`: inicio de línea.\n",
    "- `$`: fin de línea.\n",
    "- `.`: una ocurrencia de cualquier carácter. \n",
    "- `[abcf-h]`: una ocurrencia de un carácter perteneciente a un grupo/rango de caracteres. "
   ]
  },
  {
   "cell_type": "markdown",
   "id": "242b2892",
   "metadata": {},
   "source": [
    "Veamos varios ejemplos concretos de uso del comando grep con diferentes opciones y patrones:\n",
    "* `grep -rl “memoria” . `: Buscaría recursivamente la palabra exacta “memoria” en todos los ficheros que cuelgan del directorio de trabajo actual (`.`), a cualquier profundidad, y mostraría únicamente el nombre de aquellos ficheros en los que se encontraron coincidencias.\n",
    "* `grep -in “total” /proc/meminfo` : Mostraría las líneas del fichero `/proc/meminfo` que contienen la subcadena “total”, sin tener en cuenta las mayúsculas, anteponiendo el número de línea.\n",
    "* `grep “ $” fich.txt` : Mostraría las líneas del fichero `fich.txt` que acaban con el carácter espacio.\n",
    "* `grep “ˆ[A-Z].s” fich.txt`: Mostraría las líneas del fichero `fich.txt` indicado que empiezan con una letra mayúscula, seguida de cualquier carácter y a continuación la letra ’s’."
   ]
  },
  {
   "cell_type": "code",
   "execution_count": 21,
   "id": "2f15f142",
   "metadata": {},
   "outputs": [
    {
     "name": "stdout",
     "output_type": "stream",
     "text": [
      "\t/* Check for a shortcut in the main list. */\n",
      "int main(int argc, char **argv)\n",
      "\tbindtextdomain(PACKAGE, LOCALEDIR);\n",
      "\ttextdomain(PACKAGE);\n"
     ]
    }
   ],
   "source": [
    "# Busca en el contenido del fichero nano.c aquellas líneas\n",
    "# que contengan la cadena \"main\" \n",
    "grep main nano/src/nano.c"
   ]
  },
  {
   "cell_type": "code",
   "execution_count": 14,
   "id": "5f018f3f-59ff-4404-918a-96a90e3596f6",
   "metadata": {},
   "outputs": [
    {
     "name": "stdout",
     "output_type": "stream",
     "text": [
      "\t/* Check for a shortcut in the main list. */\n",
      "int main(int argc, char **argv)\n"
     ]
    }
   ],
   "source": [
    "# Busca en el contenido del fichero nano.c aquellas líneas\n",
    "# que contengan la palabra (-w) \"main\" (no como fragmento\n",
    "# de otra cadena más larga)\n",
    "grep -w main nano/src/nano.c"
   ]
  },
  {
   "cell_type": "code",
   "execution_count": 15,
   "id": "36ccabff-fbb2-446b-b870-b9217e1dedea",
   "metadata": {},
   "outputs": [
    {
     "name": "stdout",
     "output_type": "stream",
     "text": [
      "nano/src/definitions.h:18: *   along with this program.  If not, see http://www.gnu.org/licenses/.  *\n",
      "nano/src/prototypes.h:17: *   along with this program.  If not, see http://www.gnu.org/licenses/.  *\n"
     ]
    }
   ],
   "source": [
    "# Busca en el contenido de todos los ficheros *.h en cualquier\n",
    "# subdirectorio dentro de \"nano\", aquellas líneas  que contengan la\n",
    "# cadena \"gnu\", mostrando el número de línea (-n) en cada fichero \n",
    "grep -n gnu nano/*/*.h"
   ]
  },
  {
   "cell_type": "code",
   "execution_count": 16,
   "id": "92396ca6-d192-42b0-bab3-3ccd5501b5ec",
   "metadata": {},
   "outputs": [
    {
     "name": "stdout",
     "output_type": "stream",
     "text": [
      "nano/COPYING:then you must either (1) cause the Corresponding Source to be so\n",
      "nano/doc/nanorc.5:then either the double quote or the blank should be put\n",
      "nano/doc/nanorc.5:then to the top, then to the bottom.\n",
      "nano/doc/nano.texi:then either the double quote or the blank should be put\n",
      "nano/doc/nano.texi:then to the top, then to the bottom.\n",
      "grep: nano/.git/objects/pack/pack-7721fe636a3ca50c0f124721cb180ecfc4287bf4.pack: coincidencia en fichero binario\n"
     ]
    }
   ],
   "source": [
    "# Busca recursivamente (-r) en el contenido de todos los ficheros\n",
    "# dentro del directorio \"nano\" a cualquier profundidad, aquellas\n",
    "# líneas  que empiecen (^) por la cadena \"then \"\n",
    "grep -r \"^then \" nano"
   ]
  },
  {
   "cell_type": "code",
   "execution_count": 17,
   "id": "7bd479e3-7ec1-4044-9bd9-0b070e81e8c5",
   "metadata": {},
   "outputs": [
    {
     "name": "stdout",
     "output_type": "stream",
     "text": [
      "nano/.git/packed-refs:9eec991ce4db8118ccef3d574582eef54dc9cf4a refs/remotes/origin/master\n",
      "grep: nano/.git/objects/pack/pack-7721fe636a3ca50c0f124721cb180ecfc4287bf4.idx: coincidencia en fichero binario\n",
      "grep: nano/.git/objects/pack/pack-7721fe636a3ca50c0f124721cb180ecfc4287bf4.pack: coincidencia en fichero binario\n",
      "grep: nano/.git/index: coincidencia en fichero binario\n",
      "nano/.git/refs/heads/master:9eec991ce4db8118ccef3d574582eef54dc9cf4a\n",
      "nano/COPYING.DOC:5. COMBINING DOCUMENTS\n",
      "nano/COPYING.DOC:6. COLLECTIONS OF DOCUMENTS\n",
      "nano/COPYING.DOC:7. AGGREGATION WITH INDEPENDENT WORKS\n",
      "nano/COPYING.DOC:8. TRANSLATION\n",
      "nano/COPYING.DOC:9. TERMINATION\n"
     ]
    }
   ],
   "source": [
    "# Busca recursivamente (-r) en el contenido de todos los ficheros\n",
    "# dentro del directorio \"nano\" a cualquier profundidad, aquellas\n",
    "# líneas  que empiezan (^) por un número del 5 al 9\n",
    "grep -r \"^[5-9]\" nano/"
   ]
  },
  {
   "cell_type": "markdown",
   "id": "626ab935",
   "metadata": {},
   "source": [
    "#### <span style=\"color: blue;\">EJERCICIO</span>\n",
    "\n",
    "Utiliza `grep` para encontrar ficheros de texto que contengan ciertas cadenas de caracteres que concuerden con un patrón de búsqueda."
   ]
  },
  {
   "cell_type": "code",
   "execution_count": 18,
   "id": "b9428aaa",
   "metadata": {},
   "outputs": [
    {
     "name": "stdout",
     "output_type": "stream",
     "text": [
      "    You will need the header files of ncurses installed for ./configure\n"
     ]
    }
   ],
   "source": [
    "# Busca en el contenido del fichero nano/README aquellas líneas\n",
    "# que contengan la cadena \"installed\" \n",
    "grep installed nano/README"
   ]
  },
  {
   "cell_type": "code",
   "execution_count": 19,
   "id": "e333e49e-ee12-4bba-9a23-20aa25340805",
   "metadata": {},
   "outputs": [
    {
     "name": "stdout",
     "output_type": "stream",
     "text": [
      "\n"
     ]
    }
   ],
   "source": [
    "# Busca en el contenido de todos los ficheros *.c del directorio\n",
    "# src\" dentro de \"nano\", aquellas líneas  que contengan la\n",
    "# palabra \"Windows\" (sin distinguir mayúsculas: -i)\n",
    "grep -i nano/src*.c"
   ]
  },
  {
   "cell_type": "code",
   "execution_count": 20,
   "id": "36bf74a9-9acd-4d1d-852b-179f581004c8",
   "metadata": {},
   "outputs": [
    {
     "name": "stdout",
     "output_type": "stream",
     "text": [
      "nano/THANKS:Francisco Javier Tsao Santín <tsao@members.fsf.org>   Galician\n",
      "nano/po/es.po:# Ricardo Javier Cardenes Medina <rcardenes@not.iac.es>, 2006.\n",
      "nano/po/gl.po:# Francisco Javier Tsao Santín <tsao@members.fsf.org>, 2006, 2008, 2011, 2012, 2015, 2016, 2020.\n",
      "nano/po/gl.po:\"Last-Translator: Francisco Javier Tsao Santín <tsao@members.fsf.org>\\n\"\n",
      "grep: nano/.git/objects/pack/pack-7721fe636a3ca50c0f124721cb180ecfc4287bf4.pack: coincidencia en fichero binario\n"
     ]
    }
   ],
   "source": [
    "# Busca recursivamente (-r) en el contenido de todos los ficheros\n",
    "# dentro del directorio \"nano\" a cualquier profundidad, aquellas\n",
    "# líneas  que contengan la cadena \"Javier\"\n",
    "grep -r Javier nano"
   ]
  },
  {
   "cell_type": "code",
   "execution_count": 21,
   "id": "6e98fddf-50ed-49e5-80af-5a654968cc1d",
   "metadata": {},
   "outputs": [
    {
     "name": "stdout",
     "output_type": "stream",
     "text": [
      "nano/src/winio.c:\t\t\t\t\t\t * act as if they are Home/End/PgUp/PgDown with Shift. */\n",
      "nano/src/global.c:\tadd_to_sclist(MMAIN|MBROWSER|MHELP|MLINTER, \"PgUp\", KEY_PPAGE, do_page_up, 0);\n",
      "nano/src/global.c:\tadd_to_sclist(MMAIN|MBROWSER|MHELP|MLINTER, \"PgDn\", KEY_NPAGE, do_page_down, 0);\n",
      "nano/src/global.c:\tadd_to_sclist(MMAIN, \"M-PgUp\", ALT_PAGEUP, to_prev_anchor, 0);\n",
      "nano/src/global.c:\tadd_to_sclist(MMAIN, \"M-PgDn\", ALT_PAGEDOWN, to_next_anchor, 0);\n",
      "nano/syntax/nanohelp.nanorc:color cyan \"\\<((Sh-)?Tab|Enter|Ins|(Sh-\\^?)?Del|Space|Bsp|Up|Down|Left|Right|Home|End|PgUp|PgDn)\\>\"\n",
      "nano/syntax/tex.nanorc:## Syntax highlighting for TeX files.\n",
      "nano/syntax/tex.nanorc:magic \"(La)?TeX document\"\n",
      "nano/syntax/texinfo.nanorc:color yellow \"^@[a-z]+([[:space:]]|$)|@([a-z]+|,|H|U|AA|AE|DH|L|OE?|(La)?TeX|TH)\\{|\\}\"\n",
      "nano/syntax/po.nanorc:color brightmagenta \"%([1-9]\\$)?[#0 +'I-]?(\\*([1-9]\\$)?|[1-9](\\.[0-9]?)?)?[hlLjzt]?[diouxXeEfFgGaAcspnm%]\"\n",
      "nano/doc/nanorc.5:You can move from message to message with <PgUp> and <PgDn>,\n",
      "nano/doc/nano.texi:at the current line.  With @kbd{M-PgUp} and @kbd{M-PgDn} you can jump\n",
      "nano/doc/nano.texi:You can move from message to message with @kbd{PgUp} and @kbd{PgDn},\n",
      "nano/ChangeLog.2007-2015:\tand also WhereIs and WhereIsNext together in the help lines\n",
      "nano/IMPROVEMENTS:  - M-Ins places an anchor, M-PgUp/M-PgDn jump to the nearest anchor.\n",
      "nano/ChangeLog.1999-2006:\t- Lengthen the \"UnCut Txt\" shortcut name to \"UnCut Text\", as\n",
      "nano/ChangeLog.1999-2006:\t- Tweak one \"TeX\" regex to use the \"icolor\" directive. (DLR)\n",
      "nano/ChangeLog.1999-2006:\t  display \"UnJustify\" in the shortcut list anymore. (DLR)\n",
      "nano/ChangeLog.1999-2006:\t- Don't delete the statusbar line on UnCut, since the current\n",
      "nano/ChangeLog.1999-2006:\t  exist. (Jeff DeFouw)\n",
      "nano/ChangeLog.1999-2006:\t  cursor without updating the edit window. (Jeff DeFouw)\n",
      "nano/ChangeLog.1999-2006:\t- Add some examples for HTML and TeX files. (David Benbennick)\n",
      "nano/ChangeLog.1999-2006:\t- Add Esc-[-[IGL] keys for FreeBSD Console (PgUp,PgDn,Insert).\n",
      "nano/ChangeLog.1999-2006:\t  on patches for 0.8.7 by Glenn McGrath).\n",
      "nano/po/nl.po:msgstr \"AaOo\"\n",
      "nano/po/fi.po:msgstr \"KkYy\"\n",
      "nano/po/fi.po:msgstr \"EeNn\"\n",
      "nano/po/eo.po:msgstr \"CcĈĉTt\"\n",
      "nano/po/de.po:msgstr \"JjYy\"\n",
      "nano/po/hr.po:msgstr \"IzrežiDoDna\"\n",
      "nano/po/eu.po:msgstr \"BbYy\"\n",
      "nano/po/eu.po:msgstr \"EeNn\"\n",
      "nano/po/eu.po:msgstr \"GgAaDd\"\n",
      "nano/po/ga.po:msgstr \"FocalArA\"\n",
      "nano/po/ga.po:msgstr \"BlocArAgh\"\n",
      "nano/po/ga.po:msgstr \"AnChéadRó\"\n",
      "nano/po/ga.po:msgstr \"RóDeiridh\"\n",
      "nano/po/ga.po:msgstr \"ComhadArA\"\n",
      "nano/po/ga.po:msgstr \"ArFionraí\"\n",
      "nano/po/ga.po:msgstr \"ColArChlé\"\n",
      "nano/po/ga.po:msgstr \"ColArDheis\"\n",
      "nano/po/ga.po:msgstr \"SsYy\"\n",
      "nano/po/ga.po:msgstr \"UuAa\"\n",
      "nano/po/da.po:msgstr \"JjYy\"\n",
      "nano/po/hu.po:msgstr \"IiYy\"\n",
      "nano/po/hu.po:msgstr \"MmAa\"\n",
      "nano/po/sv.po:msgstr \"JjYy\"\n",
      "nano/po/cs.po:msgstr \"JítDoAdr\"\n",
      "nano/po/nb.po:msgstr \"JjYy\"\n",
      "nano/po/es.po:msgstr \"SsYy\"\n",
      "nano/po/es.po:msgstr \"TtAa\"\n",
      "nano/po/pt.po:\"cursor é posto na correspondente posição no ficheiro. Com PgUp e PgDn pode \"\n",
      "nano/po/sk.po:\"PgUp/PgDown na prechádzanie medzi súbormi a S alebo Enter na výber súboru \"\n",
      "nano/po/sk.po:msgstr \"AaÁá\"\n",
      "nano/po/sr.po:msgstr \"ДдDdYy\"\n",
      "nano/po/gl.po:\"teclas das frechas ou AvPáx/RePáx para navegar polos ficheiros, e S ou Intro \"\n",
      "nano/po/gl.po:msgstr \"SsYy\"\n",
      "nano/po/gl.po:msgstr \"TtAa\"\n",
      "nano/po/ca.po:\"cursor es posiciona a la posició corresponent del fitxer. Amb RePag i AvPag \"\n",
      "nano/po/sl.po:msgstr \"DdYy\"\n",
      "nano/po/sl.po:msgstr \"NnNn\"\n",
      "nano/po/sl.po:msgstr \"VvAa\"\n",
      "nano/po/is.po:msgstr \"JjYy\"\n",
      "nano/po/pt_BR.po:msgstr \"SsYy\"\n",
      "nano/po/vi.po:msgstr \"Tới ThMục\"\n",
      "nano/po/vi.po:msgstr \"YyCc\"\n",
      "nano/po/vi.po:msgstr \"NnKk\"\n",
      "nano/po/vi.po:msgstr \"AaTt\"\n",
      "nano/po/it.po:# NdT: di fatto funziona per un solo carattere alla volta.\n",
      "nano/po/it.po:# NdT: questo messaggio è usato come comando.\n",
      "nano/po/it.po:msgstr \"SsYy\"\n",
      "grep: nano/.git/objects/pack/pack-7721fe636a3ca50c0f124721cb180ecfc4287bf4.idx: coincidencia en fichero binario\n",
      "grep: nano/.git/objects/pack/pack-7721fe636a3ca50c0f124721cb180ecfc4287bf4.pack: coincidencia en fichero binario\n",
      "grep: nano/.git/index: coincidencia en fichero binario\n",
      "nano/ChangeLog:      help: move the M-Del item up, so that M-PgUp and M-PgDn are paired\n",
      "nano/COPYING.DOC:ASCII without markup, Texinfo input format, LaTeX input format, SGML\n"
     ]
    }
   ],
   "source": [
    "# Busca recursivamente (-r) en el contenido de todos los ficheros\n",
    "# dentro del directorio \"nano\" a cualquier profundidad, aquellas\n",
    "# líneas que contienen una cadena formada por una letra mayúscula,\n",
    "# seguida de otra minúscula y en tercer lugar de nuevo mayúscula.\n",
    "grep -r [A-Z][a-z][A-Z] nano"
   ]
  },
  {
   "cell_type": "code",
   "execution_count": 24,
   "id": "b9ef9c45-a1e0-4fe8-ae64-489e46746943",
   "metadata": {},
   "outputs": [
    {
     "name": "stdout",
     "output_type": "stream",
     "text": [
      "nano/doc/Makefile.am:endif\n",
      "nano/doc/Makefile.am:endif\n",
      "nano/doc/nano.texi:in the given @code{menu} at startup time (and reports an error if\n"
     ]
    }
   ],
   "source": [
    "# Busca  en el contenido de todos los ficheros que hay dentro \n",
    "# del directorio \"nano/doc\", aquellas líneas  que \n",
    "# terminan ($) por la palabra \"if\"\n",
    "grep \"if$\" nano/doc/*"
   ]
  },
  {
   "cell_type": "markdown",
   "id": "9243ab19",
   "metadata": {},
   "source": [
    "## Compresión y descompresión de ficheros"
   ]
  },
  {
   "cell_type": "markdown",
   "id": "2e5caeed",
   "metadata": {},
   "source": [
    "`tar` es el comando tradicionalmente usado para empaquetar (y desempaquetar) varios ficheros en uno sólo. La herramienta `tar` por sí sola no comprime el fichero resultante sino que hay que usar otras herramientas. En concreto, `gzip` es la herramienta que más se suele usar en Linux, y que se llama pasando un simple parámetro a la orden tar. Los ficheros empaquetados con tar suelen tener la “extensión” `.tar`, mientras que los ficheros empaquetados con `tar` y comprimidos usando Gzip suelen tener extensión `.tar.gz` o, más abreviadamente, `.tgz`. "
   ]
  },
  {
   "cell_type": "markdown",
   "id": "3dfbcaaf",
   "metadata": {},
   "source": [
    "Éstas son las tres\n",
    "formas más comunes de uso de este comando, correspondientes a la compresión, el listado y la descompresión:\n",
    "\n",
    "* `tar czvf result.tar.gz directorio[s]|fichero[s]`: Empaqueta (indicado por la opción c) y comprime (opción `z`) los directorios (recursivamente) y ficheros indicados como segundo y sucesivos parámetros, en un solo fichero `.tar.gz` (opción `f`), cuyo nombre se pasa como primer parámetro. Se guardan rutas relativas y permisos. Indicando la opción `v` muestra una descripción detallada del proceso de comprensión.\n",
    "* `tar tzvf result.tar.gz` : Lista en el terminal los contenidos del fichero `result.tar.gz`. La opción `z` indica que los archivos se leen a través de opción `gzip`. Es recomendable usar esta opción debe ser usada para ficheros comprimidos con opción `gzip`.\n",
    "* `tar xzvf result.tar.gz` : Descomprime y desempaqueta el fichero `result.tar.gz`, recuperando los ficheros, permisos y la estructura de directorios original. Si se desea extraer los ficheros en un directorio diferente al de trabajo actual se debe usar la opción `-C` como por ejemplo: `tar xzvf result.tar.gz -C ./otrodir`"
   ]
  },
  {
   "cell_type": "markdown",
   "id": "2b6ef965",
   "metadata": {},
   "source": [
    "Naturalmente existen también utilidades Linux para tratar otros tipos de ficheros comprimidos igualmente populares, como los tipos de\n",
    "ficheros `.zip`, `.rar`, etc. Sin embargo, aquí nos centraremos exclusivamente en el comando `tar`, dado que como ya se ha dicho, el\n",
    "formato `.tgz` es el más comúnmente usado para la compresión en Linux."
   ]
  },
  {
   "cell_type": "code",
   "execution_count": 5,
   "id": "890a07b7",
   "metadata": {},
   "outputs": [
    {
     "name": "stdout",
     "output_type": "stream",
     "text": [
      "Clonando en 'nano'...\n",
      "remote: Enumerating objects: 58494, done.        \n",
      "remote: Counting objects: 100% (2741/2741), done.        \n",
      "remote: Compressing objects: 100% (1242/1242), done.        \n",
      "remote: Total 58494 (delta 1864), reused 1957 (delta 1499), pack-reused 55753 (from 1)        \n",
      "Recibiendo objetos: 100% (58494/58494), 39.00 MiB | 14.21 MiB/s, listo.\n",
      "Resolviendo deltas: 100% (47794/47794), listo.\n"
     ]
    }
   ],
   "source": [
    "# Ejecuta esta celda para crear algunos ficheros\n",
    "rm -rf ~/bash-compresión\n",
    "mkdir -p ~/bash-compresión\n",
    "cd ~/bash-compresión\n",
    "# Clonamos el repositorio del editor \"nano\"\n",
   ]
  },
  {
   "cell_type": "code",
   "execution_count": 6,
   "id": "7432b8c9",
   "metadata": {},
   "outputs": [
    {
     "name": "stdout",
     "output_type": "stream",
     "text": [
      "nano\n"
     ]
    }
   ],
   "source": [
    "ls"
   ]
  },
  {
   "cell_type": "code",
   "execution_count": 7,
   "id": "6b466dc1",
   "metadata": {},
   "outputs": [
    {
     "name": "stdout",
     "output_type": "stream",
     "text": [
      "tar: Declinando escribir contenido de archivo a terminal (¿falta la opción -f)?\n",
      "tar: Error is not recoverable: exiting now\n"
     ]
    },
    {
     "ename": "",
     "evalue": "2",
     "output_type": "error",
     "traceback": []
    }
   ],
   "source": [
    "# El comando tar al empaquetar (c) escribe por defecto los ficheros\n",
    "# empaquetados en la salida estándar... Debemos pasar siempre \"f\"\n",
    "tar c nano-src.tar nano/src"
   ]
  },
  {
   "cell_type": "code",
   "execution_count": 8,
   "id": "964eab83",
   "metadata": {},
   "outputs": [],
   "source": [
    "# Empaquetar todos los archivos del directorio \"nano/src\" en un\n",
    "# fichero llamado nano-src.tar\n",
    "tar cf nano-src.tar nano/src"
   ]
  },
  {
   "cell_type": "code",
   "execution_count": 9,
   "id": "a7207109",
   "metadata": {},
   "outputs": [
    {
     "name": "stdout",
     "output_type": "stream",
     "text": [
      "total 724\n",
      "drwxr-xr-x 9 jupyter-sLkE0qGCXS jupyter-sLkE0qGCXS   4096 nov  5 12:42 nano\n",
      "-rw-r--r-- 1 jupyter-sLkE0qGCXS jupyter-sLkE0qGCXS 737280 nov  5 12:42 nano-src.tar\n"
     ]
    }
   ],
   "source": [
    "ls -l"
   ]
  },
  {
   "cell_type": "code",
   "execution_count": 10,
   "id": "133eccd7-c50b-45e2-8254-8b929fb3350e",
   "metadata": {},
   "outputs": [
    {
     "name": "stdout",
     "output_type": "stream",
     "text": [
      "total 732K\n",
      "-rw-r--r-- 1 jupyter-sLkE0qGCXS jupyter-sLkE0qGCXS  22K nov  5 12:42 browser.c\n",
      "-rw-r--r-- 1 jupyter-sLkE0qGCXS jupyter-sLkE0qGCXS  16K nov  5 12:42 chars.c\n",
      "-rw-r--r-- 1 jupyter-sLkE0qGCXS jupyter-sLkE0qGCXS  13K nov  5 12:42 color.c\n",
      "-rw-r--r-- 1 jupyter-sLkE0qGCXS jupyter-sLkE0qGCXS  24K nov  5 12:42 cut.c\n",
      "-rw-r--r-- 1 jupyter-sLkE0qGCXS jupyter-sLkE0qGCXS  19K nov  5 12:42 definitions.h\n",
      "-rw-r--r-- 1 jupyter-sLkE0qGCXS jupyter-sLkE0qGCXS  78K nov  5 12:42 files.c\n",
      "-rw-r--r-- 1 jupyter-sLkE0qGCXS jupyter-sLkE0qGCXS  60K nov  5 12:42 global.c\n",
      "-rw-r--r-- 1 jupyter-sLkE0qGCXS jupyter-sLkE0qGCXS  20K nov  5 12:42 help.c\n",
      "-rw-r--r-- 1 jupyter-sLkE0qGCXS jupyter-sLkE0qGCXS  17K nov  5 12:42 history.c\n",
      "-rw-r--r-- 1 jupyter-sLkE0qGCXS jupyter-sLkE0qGCXS 1,1K nov  5 12:42 Makefile.am\n",
      "-rw-r--r-- 1 jupyter-sLkE0qGCXS jupyter-sLkE0qGCXS  21K nov  5 12:42 move.c\n",
      "-rw-r--r-- 1 jupyter-sLkE0qGCXS jupyter-sLkE0qGCXS  71K nov  5 12:42 nano.c\n",
      "-rw-r--r-- 1 jupyter-sLkE0qGCXS jupyter-sLkE0qGCXS  23K nov  5 12:42 prompt.c\n",
      "-rw-r--r-- 1 jupyter-sLkE0qGCXS jupyter-sLkE0qGCXS  21K nov  5 12:42 prototypes.h\n",
      "-rw-r--r-- 1 jupyter-sLkE0qGCXS jupyter-sLkE0qGCXS  48K nov  5 12:42 rcfile.c\n",
      "-rw-r--r-- 1 jupyter-sLkE0qGCXS jupyter-sLkE0qGCXS  32K nov  5 12:42 search.c\n",
      "-rw-r--r-- 1 jupyter-sLkE0qGCXS jupyter-sLkE0qGCXS  93K nov  5 12:42 text.c\n",
      "-rw-r--r-- 1 jupyter-sLkE0qGCXS jupyter-sLkE0qGCXS  14K nov  5 12:42 utils.c\n",
      "-rw-r--r-- 1 jupyter-sLkE0qGCXS jupyter-sLkE0qGCXS 112K nov  5 12:42 winio.c\n"
     ]
    }
   ],
   "source": [
    "ls -lh nano/src"
   ]
  },
  {
   "cell_type": "code",
   "execution_count": 11,
   "id": "05d191a1",
   "metadata": {},
   "outputs": [],
   "source": [
    "# Empaquetar todos los archivos del directorio \"nano/src\" en un\n",
    "# fichero comprimido con gzip llamado nano-src.tar.gz\n",
    "tar zcf nano-src.tar.gz nano/src"
   ]
  },
  {
   "cell_type": "code",
   "execution_count": 12,
   "id": "a8b75400",
   "metadata": {},
   "outputs": [
    {
     "name": "stdout",
     "output_type": "stream",
     "text": [
      "total 908\n",
      "drwxr-xr-x 9 jupyter-sLkE0qGCXS jupyter-sLkE0qGCXS   4096 nov  5 12:42 nano\n",
      "-rw-r--r-- 1 jupyter-sLkE0qGCXS jupyter-sLkE0qGCXS 737280 nov  5 12:42 nano-src.tar\n",
      "-rw-r--r-- 1 jupyter-sLkE0qGCXS jupyter-sLkE0qGCXS 187046 nov  5 12:44 nano-src.tar.gz\n"
     ]
    }
   ],
   "source": [
    "ls -l"
   ]
  },
  {
   "cell_type": "code",
   "execution_count": 13,
   "id": "f3a80517",
   "metadata": {},
   "outputs": [
    {
     "name": "stdout",
     "output_type": "stream",
     "text": [
      "nano/src/\n",
      "nano/src/nano.c\n",
      "nano/src/utils.c\n",
      "nano/src/files.c\n",
      "nano/src/history.c\n",
      "nano/src/rcfile.c\n",
      "nano/src/move.c\n",
      "nano/src/color.c\n",
      "nano/src/search.c\n",
      "nano/src/prompt.c\n",
      "nano/src/definitions.h\n",
      "nano/src/text.c\n",
      "nano/src/prototypes.h\n",
      "nano/src/chars.c\n",
      "nano/src/browser.c\n",
      "nano/src/winio.c\n",
      "nano/src/help.c\n",
      "nano/src/cut.c\n",
      "nano/src/Makefile.am\n",
      "nano/src/global.c\n"
     ]
    }
   ],
   "source": [
    "# Empaquetar todos los archivos del directorio \"nano/src\" en un\n",
    "# fichero comprimido con gzip llamado nano-src.tar.gz, mostrando\n",
    "# todos los ficheros que se van empaquetando\n",
    "tar zcvf nano-src.tar.gz nano/src"
   ]
  },
  {
   "cell_type": "code",
   "execution_count": 14,
   "id": "d25c5108",
   "metadata": {},
   "outputs": [
    {
     "name": "stdout",
     "output_type": "stream",
     "text": [
      "nano/src/\n",
      "nano/src/nano.c\n",
      "nano/src/utils.c\n",
      "nano/src/files.c\n",
      "nano/src/history.c\n",
      "nano/src/rcfile.c\n",
      "nano/src/move.c\n",
      "nano/src/color.c\n",
      "nano/src/search.c\n",
      "nano/src/prompt.c\n",
      "nano/src/definitions.h\n",
      "nano/src/text.c\n",
      "nano/src/prototypes.h\n",
      "nano/src/chars.c\n",
      "nano/src/browser.c\n",
      "nano/src/winio.c\n",
      "nano/src/help.c\n",
      "nano/src/cut.c\n",
      "nano/src/Makefile.am\n",
      "nano/src/global.c\n",
      "nano/doc/\n",
      "nano/doc/.gitignore\n",
      "nano/doc/cheatsheet.html\n",
      "nano/doc/faq.html\n",
      "nano/doc/rnano.1\n",
      "nano/doc/nano.1\n",
      "nano/doc/sample.nanorc.in\n",
      "nano/doc/nanorc.5\n",
      "nano/doc/nano.texi\n",
      "nano/doc/Makefile.am\n"
     ]
    }
   ],
   "source": [
    "# Se pueden empaquetar al mismo tiempo cualquier número de directorios\n",
    "# o ficheros individuales, simplemente pasándolos como parámetro\n",
    "tar zcvf nano-src-doc.tar.gz nano/src/ nano/doc"
   ]
  },
  {
   "cell_type": "code",
   "execution_count": 15,
   "id": "540b29d6-66b9-4fa0-8343-4a98d7597d6d",
   "metadata": {},
   "outputs": [
    {
     "name": "stdout",
     "output_type": "stream",
     "text": [
      "total 1148\n",
      "drwxr-xr-x 9 jupyter-sLkE0qGCXS jupyter-sLkE0qGCXS   4096 nov  5 12:42 nano\n",
      "-rw-r--r-- 1 jupyter-sLkE0qGCXS jupyter-sLkE0qGCXS 242472 nov  5 12:44 nano-src-doc.tar.gz\n",
      "-rw-r--r-- 1 jupyter-sLkE0qGCXS jupyter-sLkE0qGCXS 737280 nov  5 12:42 nano-src.tar\n",
      "-rw-r--r-- 1 jupyter-sLkE0qGCXS jupyter-sLkE0qGCXS 187046 nov  5 12:44 nano-src.tar.gz\n"
     ]
    }
   ],
   "source": [
    "ls -l"
   ]
  },
  {
   "cell_type": "code",
   "execution_count": null,
   "id": "c0cf2c23",
   "metadata": {},
   "outputs": [],
   "source": [
    "# Se pueden empaquetar al mismo tiempo cualquier número de directorios\n",
    "# o ficheros individuales, simplemente pasándolos como parámetro, y \n",
    "# resulta posible utilizar comodines en la ruta a dichos ficheros\n",
    "tar zcvf nano-src-headers.tar.gz nano/src/*.h nano/README*"
   ]
  },
  {
   "cell_type": "code",
   "execution_count": null,
   "id": "89428a68",
   "metadata": {},
   "outputs": [],
   "source": [
    "# Con la opción \"t\" (en vez de \"x\" o \"c\") mostramos el contenido\n",
    "# de un fichero empaquetado, pero sin desempaquetarlo\n",
    "tar ztvf nano-src-headers.tar.gz "
   ]
  },
  {
   "cell_type": "code",
   "execution_count": null,
   "id": "c79220d4",
   "metadata": {},
   "outputs": [],
   "source": [
    "# Con la opción \"x\" descomprimimos un fichero empaquetado (zx si\n",
    "# está comprimido con gzip). Por defecto, se descomprime en el\n",
    "# directorio actual, pero podemos desempaquetar en otro directorio con \"-C\"\n",
    "mkdir -p headers-descomprimido\n",
    "tar zxvf nano-src-headers.tar.gz -C headers-descomprimido"
   ]
  },
  {
   "cell_type": "code",
   "execution_count": null,
   "id": "9860419c",
   "metadata": {},
   "outputs": [],
   "source": [
    "find headers-descomprimido"
   ]
  },
  {
   "cell_type": "markdown",
   "id": "0ca4803b",
   "metadata": {},
   "source": [
    "#### <span style=\"color: blue;\">EJERCICIO</span>\n",
    "\n",
    "Escribe el comando adecuado para empaquetar o desempaquetar ficheros mediante la herramienta `tar`."
   ]
  },
  {
   "cell_type": "code",
   "execution_count": null,
   "id": "b1516d4d",
   "metadata": {},
   "outputs": [],
   "source": [
    "# Borra recursivamente y sin preguntar los directorios nano/src\n",
    "# y nano/doc\n",
    "rm - rf nano/src nano/doc"
   ]
  },
  {
   "cell_type": "code",
   "execution_count": null,
   "id": "61b1ccc1",
   "metadata": {},
   "outputs": [],
   "source": [
    "# Muestra el contenido del fichero empaquetado nano-src-doc.tar.gz\n",
    "# creado anteriormente\n",
    "ls "
   ]
  },
  {
   "cell_type": "code",
   "execution_count": null,
   "id": "0c18502d",
   "metadata": {},
   "outputs": [],
   "source": [
    "# Desempaqueta el contenido del fichero nano-src-doc.tar.gz \n",
    "# en el directorio actual\n"
   ]
  },
  {
   "cell_type": "code",
   "execution_count": null,
   "id": "f78944b3",
   "metadata": {},
   "outputs": [],
   "source": [
    "# Crea un fichero empaquetado y comprimido con todo el contenido\n",
    "# del directorio \"nano\"\n"
   ]
  },
  {
   "cell_type": "code",
   "execution_count": null,
   "id": "275c6adc",
   "metadata": {},
   "outputs": [],
   "source": [
    "# Crea un directorio llamado \"copia-nano\" y cámbiate a él\n"
   ]
  },
  {
   "cell_type": "code",
   "execution_count": null,
   "id": "98331752",
   "metadata": {},
   "outputs": [],
   "source": [
    "# Desempaqueta al directorio actual el contenido de fichero\n",
    "# empaquetado \"nano.tar.gz\" (situado en el directorio padre)\n"
   ]
  },
  {
   "cell_type": "code",
   "execution_count": null,
   "id": "46d9d01e",
   "metadata": {},
   "outputs": [],
   "source": [
    "# Crea un directorio llamado copia-nano-headers\n"
   ]
  },
  {
   "cell_type": "code",
   "execution_count": null,
   "id": "6890cdca",
   "metadata": {},
   "outputs": [],
   "source": [
    "# Desempaqueta al directorio copia-nano-headers el contenido del\n",
    "# fichero empaquetado \"nano-src-headers.tar.gz\" (situado en el \n",
    "# directorio padre)\n"
   ]
  },
  {
   "cell_type": "code",
   "execution_count": null,
   "id": "dc00d548",
   "metadata": {},
   "outputs": [],
   "source": [
    "# Encuentra todos los ficheros que hay en \"copia-nano-headers\" a cualquier profunidad\n"
   ]
  },
  {
   "cell_type": "markdown",
   "id": "14b9d48a",
   "metadata": {},
   "source": [
    "## Enlaces"
   ]
  },
  {
   "cell_type": "markdown",
   "id": "4bd41ad1",
   "metadata": {},
   "source": [
    "Crear enlaces a ficheros o directorios nos permite tener una copia “virtual” de un fichero o directorio. Si por ejemplo editamos el contenido del fichero enlazado, al abrir el enlace aparece tal modificación tanto en el fichero enlazado como en el original. Decimos “virtual” porque en realidad el enlace no ocupa un lugar adicional en el disco, es sólo **una forma de referenciar a otro fichero o directorio desde otro lugar del sistema de ficheros**. Existen dos tipos de enlaces, físicos y simbólicos, que describimos a continuación."
   ]
  },
  {
   "cell_type": "markdown",
   "id": "7f25ebc2",
   "metadata": {},
   "source": [
    "### Enlaces físicos (*duros*)\n",
    "\n"
   ]
  },
  {
   "cell_type": "markdown",
   "id": "d492f5bb",
   "metadata": {},
   "source": [
    "Un enlace físico o duro (*hard link*, en inglés) es una forma de asociar un archivo a varios nombres de archivo distintos en el sistema de archivos. A diferencia de los enlaces simbólicos (*soft links* o *symlinks*), que son referencias a otros archivos por su ruta o nombre, los enlaces duros crean **múltiples entradas** en el sistema de archivos que apuntan **a los mismos datos en disco**. Esto significa que, en términos prácticos, **todos los enlaces duros de un archivo son equivalentes en cuanto a contenido**, ya que apuntan al mismo conjunto de datos en el disco. Por tanto, hasta que no se borran todos los enlaces físicos que apuntan a un mismo fichero no se elimina realmente el contenido del fichero. Cada enlace duro actúa como una copia exacta del fichero enlazado (y por tanto se puede borrar el fichero enlazado y sus copias seguirán existiendo con su contenido).\n",
    "\n",
    "Si bien es conveniente conocer su existencia, en la práctica, los usuarios convencionales del *shell* no suelen utilizar múltiples enlaces físicos que apunten al mismo contenido en disco. Por tanto, no profundizaremos más en su uso."
   ]
  },
  {
   "cell_type": "markdown",
   "id": "ac790a89",
   "metadata": {},
   "source": [
    "### Enlaces simbólicos (*blandos*)"
   ]
  },
  {
   "cell_type": "markdown",
   "id": "3443eb05",
   "metadata": {},
   "source": [
    "Al contrario que los enlaces físicos, los enlaces simbólicos (también llamados *blandos* o *symlinks*), sí se utilizan en el día a día de los usuarios de Linux. En un *symlink*, si borramos el fichero enlazado original, los enlaces quedan “colgando” (apuntando a ningún sitio), y el contenido del fichero se pierde, puesto que el espacio en disco ocupado por los datos habrá sido definitivamente liberado. El enlace simbólico, sin embargo, puede ser borrado en cualquier momento sin afectar para nada al fichero original.\n",
    "Los enlaces blandos se identifican al hacer un listado con formato largo (`ls -l`) porque en vez de aparecer en la primera columna un carácter `-` (como un fichero normal) o un carácter `d` (como un directorio), aparece un carácter `l` (de *link*, \"enlace\" en inglés)."
   ]
  },
  {
   "cell_type": "markdown",
   "id": "cfe9f18d",
   "metadata": {},
   "source": [
    "Los enlaces simbólicos se crean con el mismo comando que los físicos, pero añadiendo la opción `-s`:\n",
    "\n",
    "```bash\n",
    "$ ln -s fichero_a_enlazar nombre_enlace_simbolico\n",
    "```"
   ]
  },
  {
   "cell_type": "code",
   "execution_count": null,
   "id": "29aaba30",
   "metadata": {},
   "outputs": [],
   "source": [
    "mkdir -p dir1\n",
    "echo \"Un fichero cualquiera\" > dir1/mifichero\n",
    "rm misoftlink"
   ]
  },
  {
   "cell_type": "code",
   "execution_count": null,
   "id": "c18ae280",
   "metadata": {},
   "outputs": [],
   "source": [
    "# Creamos un enlace simbólico a \"mifichero\"\n",
    "ln -s dir1/mifichero misoftlink"
   ]
  },
  {
   "cell_type": "code",
   "execution_count": null,
   "id": "43b384e8",
   "metadata": {},
   "outputs": [],
   "source": [
    "# Como vemos, el enlace simbólico \"apunta\" al destino DE FORMA RELATIVA\n",
    "ls -l"
   ]
  },
  {
   "cell_type": "code",
   "execution_count": null,
   "id": "8b8ce979",
   "metadata": {},
   "outputs": [],
   "source": [
    "# Podemos acceder al contenido del fichero mediante el enlace simbólico...\n",
    "cat misoftlink"
   ]
  },
  {
   "cell_type": "code",
   "execution_count": null,
   "id": "1906ee6f",
   "metadata": {},
   "outputs": [],
   "source": [
    "# En realidad, es como si \"misoftlink\" se reemplazase por \"dir1/mifichero\" en cada comando que usemos\n",
    "cp misoftlink mifichero.backup"
   ]
  },
  {
   "cell_type": "code",
   "execution_count": null,
   "id": "3aa20e2a",
   "metadata": {},
   "outputs": [],
   "source": [
    "ls -l"
   ]
  },
  {
   "cell_type": "code",
   "execution_count": null,
   "id": "429621b2",
   "metadata": {},
   "outputs": [],
   "source": [
    "# Pero si borramos el fichero apuntado, su contenido se pierde y el enlace simbólico quedará \"roto\"\n",
    "rm dir1/mifichero"
   ]
  },
  {
   "cell_type": "code",
   "execution_count": null,
   "id": "a313da25",
   "metadata": {},
   "outputs": [],
   "source": [
    "# El shell muestra en rojo/negro los enlaces simbólicos rotos (dangling links)\n",
    "ls -l"
   ]
  },
  {
   "cell_type": "code",
   "execution_count": null,
   "id": "e20f0a0d",
   "metadata": {},
   "outputs": [],
   "source": [
    "cat misoftlink"
   ]
  },
  {
   "cell_type": "code",
   "execution_count": null,
   "id": "de79f293",
   "metadata": {},
   "outputs": [],
   "source": [
    "# En el momento en que vuelva a existir algún fichero en el destino, el enlace simbólico funcionará...\n",
    "mv mifichero.backup dir1/mifichero"
   ]
  },
  {
   "cell_type": "code",
   "execution_count": null,
   "id": "c645b1dc",
   "metadata": {},
   "outputs": [],
   "source": [
    "ls -l"
   ]
  },
  {
   "cell_type": "markdown",
   "id": "9827834a",
   "metadata": {},
   "source": [
    "## Espacio en disco\n",
    "\n",
    "En Linux, existen varias utilidades y comandos que te permiten gestionar y supervisar el espacio en disco de tu sistema. Estas herramientas son esenciales para administrar eficazmente el almacenamiento y asegurarte de que no se agote el espacio."
   ]
  },
  {
   "cell_type": "markdown",
   "id": "484fc35e-fad5-4dbe-abc4-d09d414cfee6",
   "metadata": {},
   "source": [
    "### Espacio libre disponible"
   ]
  },
  {
   "cell_type": "markdown",
   "id": "d76e90fd",
   "metadata": {},
   "source": [
    "Una de las utilidades más comunes para la gestión de espacio en disco es `df` (*disk free*): este comando informa de espacio total, libre y ocupado en todos los sistemas de ficheros montados (discos duros, disquetes, discos USB, etc.). Con la opción `-h` (*human readable*) podemos verlo en unidades más fácilmente legibles."
   ]
  },
  {
   "cell_type": "code",
   "execution_count": null,
   "id": "78369816-0141-4337-9041-a025cee37a6a",
   "metadata": {},
   "outputs": [],
   "source": [
    "df -h"
   ]
  },
  {
   "cell_type": "markdown",
   "id": "06912844-9ddc-488f-bcd4-47a59fd9add1",
   "metadata": {},
   "source": [
    "### Espacio ocupado por un fichero/directorio\n",
    "\n",
    "Otro de los comandos básicos para la gestión del espacio en disco es `du` (*disk used*), al cual se le proporciona como argumento los directorios cuyo espacio ocupado queremos conocer:\n",
    "\n",
    "```bash\n",
    "$ du -hs directorio1 ... \n",
    "```\n",
    "\n",
    "\n",
    "Este comando muestra los bloques que ocupan realmente en disco los directorios indicados y todo lo que cuelga de ellos. Las opciones `-h` y `-s` sirven, respectivamente, para indicar que el listado lo queremos en unidades de KiB, MiB o GiB (y no en bloques de 1024 bytes, como se muestra por defecto), y que queremos que se resuman los contenidos de cada directorio que se pasa como parámetro (en lugar de mostrar detalladamente lo que ocuparía cada entrada contenida dentro de dichos directorios)."
   ]
  },
  {
   "cell_type": "code",
   "execution_count": 16,
   "id": "38b5c55f",
   "metadata": {},
   "outputs": [
    {
     "name": "stdout",
     "output_type": "stream",
     "text": [
      "Clonando en 'nano'...\n",
      "remote: Enumerating objects: 58494, done.        \n",
      "remote: Counting objects: 100% (2741/2741), done.        \n",
      "remote: Compressing objects: 100% (1243/1243), done.        \n",
      "remote: Total 58494 (delta 1863), reused 1956 (delta 1498), pack-reused 55753 (from 1)        \n",
      "Recibiendo objetos: 100% (58494/58494), 39.00 MiB | 3.28 MiB/s, listo.\n",
      "Resolviendo deltas: 100% (47793/47793), listo.\n"
     ]
    }
   ],
   "source": [
    "# Ejecuta esta celda para crear algunos ficheros\n",
    "rm -rf ~/bash-du\n",
    "mkdir -p ~/bash-du\n",
    "cd ~/bash-du\n",
    "# Clonamos el repositorio del editor \"nano\"\n",
   ]
  },
  {
   "cell_type": "code",
   "execution_count": 17,
   "id": "edd5a971",
   "metadata": {},
   "outputs": [
    {
     "name": "stdout",
     "output_type": "stream",
     "text": [
      "41M\tnano/.git\n"
     ]
    }
   ],
   "source": [
    "du -hs nano/.git"
   ]
  },
  {
   "cell_type": "code",
   "execution_count": 18,
   "id": "46be7564",
   "metadata": {},
   "outputs": [
    {
     "name": "stdout",
     "output_type": "stream",
     "text": [
      "736K\tnano/src\n",
      "24K\tnano/syntax/extra\n",
      "196K\tnano/syntax\n",
      "216K\tnano/doc\n",
      "8,0K\tnano/.github/workflows\n",
      "12K\tnano/.github\n",
      "3,1M\tnano/po\n",
      "64K\tnano/.git/hooks\n",
      "41M\tnano/.git/objects/pack\n",
      "4,0K\tnano/.git/objects/info\n",
      "41M\tnano/.git/objects\n",
      "8,0K\tnano/.git/logs/refs/remotes/origin\n",
      "12K\tnano/.git/logs/refs/remotes\n",
      "8,0K\tnano/.git/logs/refs/heads\n",
      "24K\tnano/.git/logs/refs\n",
      "32K\tnano/.git/logs\n",
      "8,0K\tnano/.git/info\n",
      "4,0K\tnano/.git/refs/tags\n",
      "8,0K\tnano/.git/refs/remotes/origin\n",
      "12K\tnano/.git/refs/remotes\n",
      "8,0K\tnano/.git/refs/heads\n",
      "28K\tnano/.git/refs\n",
      "4,0K\tnano/.git/branches\n",
      "41M\tnano/.git\n",
      "16K\tnano/m4\n",
      "46M\tnano/\n"
     ]
    }
   ],
   "source": [
    "du -h nano/"
   ]
  },
  {
   "cell_type": "code",
   "execution_count": 19,
   "id": "0d44d915",
   "metadata": {},
   "outputs": [],
   "source": [
    "# Creamos un fichero de tamaño pequeño (12 bytes)\n",
    "echo \"hola, mundo\" > hola"
   ]
  },
  {
   "cell_type": "code",
   "execution_count": 20,
   "id": "b4d037bc",
   "metadata": {},
   "outputs": [
    {
     "name": "stdout",
     "output_type": "stream",
     "text": [
      "-rw-r--r-- 1 jupyter-sLkE0qGCXS jupyter-sLkE0qGCXS 12 nov  5 12:58 hola\n"
     ]
    }
   ],
   "source": [
    "ls -l hola"
   ]
  },
  {
   "cell_type": "code",
   "execution_count": 21,
   "id": "7a5e19fc",
   "metadata": {},
   "outputs": [
    {
     "name": "stdout",
     "output_type": "stream",
     "text": [
      "4,0K\thola\n"
     ]
    }
   ],
   "source": [
    "# Fíjate que el espacio en disco se asigna en bloques de 4KiB,\n",
    "# aunque el fichero tenga solo 12 bytes, ocupa 4KiB del espacio en disco\n",
    "du -h hola"
   ]
  },
  {
   "cell_type": "code",
   "execution_count": 22,
   "id": "94424cf8",
   "metadata": {},
   "outputs": [],
   "source": [
    "mkdir \"prueba-dir\""
   ]
  },
  {
   "cell_type": "code",
   "execution_count": 23,
   "id": "9a9d6b75",
   "metadata": {},
   "outputs": [
    {
     "name": "stdout",
     "output_type": "stream",
     "text": [
      "4,0K\tprueba-dir\n"
     ]
    }
   ],
   "source": [
    "# Y lo mismo ocurre con los directorios, aunque estén vacíos\n",
    "du -h prueba-dir"
   ]
  },
  {
   "cell_type": "code",
   "execution_count": 24,
   "id": "6d411360",
   "metadata": {},
   "outputs": [
    {
     "name": "stdout",
     "output_type": "stream",
     "text": [
      "drwxr-xr-x 2 jupyter-sLkE0qGCXS jupyter-sLkE0qGCXS 4096 nov  5 12:58 prueba-dir\n"
     ]
    }
   ],
   "source": [
    "ls -ld prueba-dir"
   ]
  },
  {
   "cell_type": "code",
   "execution_count": 25,
   "id": "e1e78a9e",
   "metadata": {},
   "outputs": [
    {
     "name": "stdout",
     "output_type": "stream",
     "text": [
      "136K\t/usr/bin/ls\n"
     ]
    }
   ],
   "source": [
    "# También podemos pasarle ficheros en vez de directorios\n",
    "du -h /usr/bin/ls"
   ]
  },
  {
   "cell_type": "code",
   "execution_count": 26,
   "id": "a48d1839-c060-45c7-9e12-d2b27a6564fb",
   "metadata": {},
   "outputs": [
    {
     "name": "stdout",
     "output_type": "stream",
     "text": [
      "-rwxr-xr-x 1 root root 135K feb  8  2024 /usr/bin/ls\n"
     ]
    }
   ],
   "source": [
    "# Aunque el tamaño que ocupa un único fichero se puede ver con ls -l\n",
    "ls -lh /usr/bin/ls"
   ]
  },
  {
   "cell_type": "markdown",
   "id": "0bbf22c8-18b7-4d90-9781-8c46a8b72021",
   "metadata": {},
   "source": [
    "**FIN DEL CUADERNO** (*no borres esta celda*)\n",
    "\n",
    "@@@@ practica5b-busquedas-boletin.ipynb @@@@"
   ]
  }
 ],
 "metadata": {
  "kernelspec": {
   "display_name": "Bash",
   "language": "bash",
   "name": "bash"
  },
  "language_info": {
   "codemirror_mode": "shell",
   "file_extension": ".sh",
   "mimetype": "text/x-sh",
   "name": "bash"
  }
 },
 "nbformat": 4,
 "nbformat_minor": 5
}
