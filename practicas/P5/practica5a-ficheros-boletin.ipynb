{
 "cells": [
  {
   "cell_type": "markdown",
   "id": "8e983960",
   "metadata": {},
   "source": [
    "# Práctica 5a: Manejo del sistema de ficheros en el *shell* de Linux. Comodines.\n",
    "\n",
    "## Objetivos\n",
    "\n",
    "El objetivo de este boletín de prácticas es continuar familiarizando al alumno con la consulta y manipulación del sistema de ficheros a través de la interfaz de línea de comandos, introduciendo el uso de comodines como herramienta clave detrás del potencial del shell a la hora de listar, mover, copiar o borrar ficheros. También se introducen conceptos tales como el propietario y grupo de un fichero, así como sus permisos."
   ]
  },
  {
   "cell_type": "markdown",
   "id": "b14dce2d",
   "metadata": {},
   "source": [
    "## Uso de comodines\n",
    "\n",
    "Una de las capacidades destacadas que ofrece cualquier shell es la posibilidad de utilizar caracteres especiales, llamados comodines, para manejar muchos ficheros de nombre similar a la vez a la hora de pasar parámetros a los diferentes comandos. Podemos combinar comodines para obtener listados múltiples acotados, sin necesidad de teclear\n",
    "una a una todas las entradas deseadas. Los comodines pueden usarse en cualquier lugar de la línea de comandos, aunque lo más habitual es emplearlos en los listados a realizar con el comando ls visto en el apartado anterior (como en el comando `ls -l *.c *.h`, por ejemplo), o bien con comandos para copiar, mover o borrar archivos, que veremos un poco más adelante.\n",
    "El repertorio completo de comodines que utilizaremos es el siguiente:\n",
    "- `*` : Significa cero o más caracteres cualesquiera.\n",
    "- `?` : Un carácter cualquiera.\n",
    "- `[a-z]` : Cualquier carácter del rango indicado.\n",
    "- `[!b-d]` : Cualquier carácter que no esté en el rango indicado.\n",
    "- `{nom1,nom2,...}` : Cualquier secuencia de caracteres o nombres de la lista.\n",
    "\n",
    "\n",
    "Algunos ejemplos:\n",
    "- `*.{c,h}` : Recogería nombres como `pepe.c`, `f1.c`, `hola.h`, `antonio.h`, ...\n",
    "- `{fi1,fi2}.[a-c]` : Recogería los nombres `fi1.a`, `fi2.a`, `fi1.b`, `fi2.b`, `fi1.c`, `fi2.c`.\n",
    "- `*.?` : Recogería todos los ficheros con extensión de un carácter, como `f1.a`, `hola.c`, `adios.txt.c`, ...\n",
    "- `*.[!c]` : Recogería todos los ficheros con extensión de un carácter que no sea `c`, como `pepe.h`, `f1.a`, o `f2.z`, pero no `fichero`, `hola.doc` o `antonio.c`.\n",
    "\n",
    "Naturalmente, los comodines pueden también formar parte de una ruta arbitrariamente larga, como en el comando\n",
    "`ls -l ../../dir/p*.txt`, por ejemplo."
   ]
  },
  {
   "cell_type": "markdown",
   "id": "6720c4e9-7b91-4332-bf44-f1d3714756ed",
   "metadata": {},
   "source": [
    "<span style=\"color: red;\"><B>ADVERTENCIA IMPORTANTE</B></span>. A diferencia de las interfaces gráficas, `rm` **no mueve los archivos a una carpeta llamada “Papelera” o similar**. En su lugar, los borra total, absoluta e irrevocablemente. Debes tener mucho cuidado con los parámetros que utilizas con `rm` para asegurarte de que sólo estás borrando el/los archivo/s que pretendes.\n",
    "\n",
    "Debes tener especial cuidado cuando utilices comodines, ya que es fácil borrar accidentalmente más archivos de los que pretendías. Un carácter de espacio erróneo en tu comando puede cambiarlo por completo: \n",
    "```bash\n",
    "$ rm t*\n",
    "```\n",
    "significa eliminar todos los archivos que empiezan por \"t\", mientras que este comando:"
   ]
  },
  {
   "cell_type": "markdown",
   "id": "3585c8c1-68ff-45e4-8b6a-84f1d885eaf3",
   "metadata": {},
   "source": [
    "```bash\n",
    "$ rm t *\n",
    "```\n",
    "significa eliminar el archivo `t` así como cualquier archivo cuyo nombre esté formado por cero o más caracteres, *¡lo que sería todo en el directorio!* Si no estás seguro, utilice la opción `-i` (interactiva) de `rm`, que te pedirá que confirmes la eliminación de cada archivo; introduzca S para eliminarlo, N para conservarlo y pulse `Ctrl-C` para detener la operación por completo.\n",
    "\n",
    "En particular, **debes tener muchísimo cuidado al usar `rm -rf`** ya que esto borra de forma recursiva (-r), y sin confirmación (-f), los parámetros que se le pasan como parámetros (usualmente directorios)."
   ]
  },
  {
   "cell_type": "markdown",
   "id": "b1d647c8",
   "metadata": {},
   "source": [
    "**EJERCICIO**\n",
    "\n",
    "Ejecuta las siguientes celdas para generar un directorio con ficheros de prueba."
   ]
  },
  {
   "cell_type": "code",
   "execution_count": null,
   "id": "7771645e",
   "metadata": {},
   "outputs": [],
   "source": [
    "TEST_DIR=\"$HOME/pruebas-bash/comodines\"\n",
    "rm -rf $TEST_DIR\n",
    "mkdir -p $TEST_DIR\n",
    "cd $TEST_DIR\n",
    "# Ejecuta esta celda para crear algunos ficheros con distintos nombres\n",
    "for i in `seq 5 15` ; do touch file_$i.c ; done \n",
    "for i in `seq 8 12` ; do touch fichero_$i.c ; done\n",
    "for i in `seq 0 5` ; do touch archivo_$i.c ; done\n",
    "for i in `seq 0 5` ; do touch archivo_$i.cpp fichero_$i.cpp; done\n",
    "for i in `seq 0 5` ; do touch file_$i.h ; done\n",
    "for i in `seq 0 10` ; do touch $i.txt ; done\n",
    "touch test1.txt readme hello.py alfiletero.txt file_.c file_a.c file_ab.c\n",
    "cp /usr/bin/fi* ."
   ]
  },
  {
   "cell_type": "code",
   "execution_count": null,
   "id": "fc4872a5",
   "metadata": {},
   "outputs": [],
   "source": [
    "ls"
   ]
  },
  {
   "cell_type": "markdown",
   "id": "7d82b210",
   "metadata": {},
   "source": [
    " Ahora, a la vista del contenido del directorio actual, observa la salida de cada comando que usa comodines, y escribe el comando adecuado en las celdas vacías:"
   ]
  },
  {
   "cell_type": "code",
   "execution_count": null,
   "id": "9aaead52",
   "metadata": {},
   "outputs": [],
   "source": [
    "# Lista ficheros que empiecen por \"file\"\n",
    "# Recuerda: * equivale a *CERO* o más caracteres\n",
    "ls file*                             #@solution@"
   ]
  },
  {
   "cell_type": "code",
   "execution_count": null,
   "id": "16eb8711",
   "metadata": {},
   "outputs": [],
   "source": [
    "# Lista los ficheros que terminen con el carácter \"h\"\n",
    "ls *h                             #@solution@"
   ]
  },
  {
   "cell_type": "code",
   "execution_count": null,
   "id": "ac51f0cb",
   "metadata": {},
   "outputs": [],
   "source": [
    "# Lista los ficheros que contengan la cadena \".c\"\n",
    "ls *.c*                             #@solution@"
   ]
  },
  {
   "cell_type": "code",
   "execution_count": null,
   "id": "2b6d14aa",
   "metadata": {},
   "outputs": [],
   "source": [
    "# Lista los ficheros que contengan las cadenas \"fi\" y \"ro\", en ese orden\n",
    "ls *fi*ro*                              #@solution@"
   ]
  },
  {
   "cell_type": "code",
   "execution_count": null,
   "id": "7cf618ab",
   "metadata": {},
   "outputs": [],
   "source": [
    "ls file_?.c"
   ]
  },
  {
   "cell_type": "markdown",
   "id": "fc40d64c",
   "metadata": {},
   "source": [
    "¿Por qué no se muestra `file_10.c`?\n",
    "\n",
    "RESPUESTA:\n",
    "\n",
    "Porque el comodín ? equivale a únicamente un carácter y por tanto no concuerda con \"10\" (dos caracteres). @solution@"
   ]
  },
  {
   "cell_type": "markdown",
   "id": "b8cae500",
   "metadata": {},
   "source": [
    "¿Por qué se muestra `file_a.c`?\n",
    "\n",
    "RESPUESTA:\n",
    "Porque el comodín ? equivale a cualquier carácter, numérico o alfabético. @solution@"
   ]
  },
  {
   "cell_type": "code",
   "execution_count": null,
   "id": "4b1b0194",
   "metadata": {},
   "outputs": [],
   "source": [
    "# Muestra únicamente los ficheros llamados \"file_\" seguidos \n",
    "# de exactamente dos caracteres cualquiera, y acabados en \".c\"\n",
    "ls file_??.c                             #@solution@"
   ]
  },
  {
   "cell_type": "code",
   "execution_count": null,
   "id": "db2dabc1",
   "metadata": {},
   "outputs": [],
   "source": [
    "# Muestra únicamente los ficheros llamados \"file_\" seguidos \n",
    "# de exactamente dos caracters numéricos, y acabados en \".c\"\n",
    "ls file_[0-9][0-9].c                              #@solution@"
   ]
  },
  {
   "cell_type": "code",
   "execution_count": null,
   "id": "422478dd-ad78-4e1b-ad00-49acd76d65dc",
   "metadata": {},
   "outputs": [],
   "source": [
    "# Muestra todos los ficheros llamados \"file_\" seguidos \n",
    "# de cualquier cadena de caracteres, y acabados acabados en \".c\"\n",
    "ls file_*.c                             #@solution@"
   ]
  },
  {
   "cell_type": "markdown",
   "id": "efa5af52",
   "metadata": {},
   "source": [
    "¿Por qué se muestra `file_.c`?\n",
    "\n",
    "RESPUESTA:\n",
    "\n",
    "Porque el comodín  \"*\" equivale también a cero caracteres (cadena vacía). @solution@"
   ]
  },
  {
   "cell_type": "code",
   "execution_count": null,
   "id": "b57350ae",
   "metadata": {},
   "outputs": [],
   "source": [
    "# Lista los ficheros que empiecen por una letra cualquiera minúscula seguida de \"i\", \n",
    "# una cadena cualquiera y acaben con la letra p\n",
    "ls [a-z]i*p                             #@solution@"
   ]
  },
  {
   "cell_type": "code",
   "execution_count": null,
   "id": "5858b280",
   "metadata": {},
   "outputs": [],
   "source": [
    "# Lista los ficheros que empiecen por \"file_5\" y acaben por una letra de la 'a' a la 'f'\n",
    "ls file_5*[a-f]                             #@solution@"
   ]
  },
  {
   "cell_type": "code",
   "execution_count": null,
   "id": "1c9df963",
   "metadata": {},
   "outputs": [],
   "source": [
    "# Lista los ficheros que acaban en .cpp\n",
    "ls *.cpp                             #@solution@"
   ]
  },
  {
   "cell_type": "code",
   "execution_count": null,
   "id": "48f11d47",
   "metadata": {},
   "outputs": [],
   "source": [
    "# Lista los ficheros que acaban en .cpp o en .h\n",
    "ls *.{cpp,h}                             #@solution@"
   ]
  },
  {
   "cell_type": "code",
   "execution_count": null,
   "id": "99205948",
   "metadata": {},
   "outputs": [],
   "source": [
    "# Lista los ficheros que empiezan por \"file\" o \"fichero\" seguidos de \"_8.c\"\n",
    "ls {file,fichero}_8.c                             #@solution@"
   ]
  },
  {
   "cell_type": "code",
   "execution_count": null,
   "id": "2a490482",
   "metadata": {},
   "outputs": [],
   "source": [
    "# Lista los ficheros que empiezan por \"file\" o \"fichero\" seguidos de dos caracteres cualquiera y luego \".c\"\n",
    "ls {file,fichero}??.c                             #@solution@"
   ]
  },
  {
   "cell_type": "code",
   "execution_count": null,
   "id": "353e2665",
   "metadata": {},
   "outputs": [],
   "source": [
    "# Lista los ficheros que contienen las cadenas \"fi\", \"chi\" o \"es\", y acaban en \"txt\" o en \"cpp\"\n",
    "# ls *{fi,chi,es}*{cpp,txt}                             #@solution@"
   ]
  },
  {
   "cell_type": "markdown",
   "id": "61443166",
   "metadata": {},
   "source": [
    "¿Por qué crees que se muestran algunos mensajes de error en el comando anterior? Comenta el comando (#) tras ejecutarlo.\n",
    "\n",
    "RESPUESTA: Porque cuando se usa `{}` para combinar varios patrones, el comando se expande considerando todas las combinaciones de patrones posibles. Devuelve un mensaje de error por cada combinación con la que no haya coincidencias con ningún archivo."
   ]
  },
  {
   "cell_type": "code",
   "execution_count": null,
   "id": "9b92fc2d",
   "metadata": {},
   "outputs": [],
   "source": [
    "# Lista los ficheros que empiezan un número del 0 al 5\n",
    "ls [0-5]*                             #@solution@"
   ]
  },
  {
   "cell_type": "code",
   "execution_count": null,
   "id": "8570a1e8",
   "metadata": {},
   "outputs": [],
   "source": [
    "# Lista los ficheros que contienen la cadena \"he\", \"re\" o \"le\"\n",
    "ls *[hlr]e*                             #@solution@"
   ]
  },
  {
   "cell_type": "code",
   "execution_count": null,
   "id": "c86100a9",
   "metadata": {},
   "outputs": [],
   "source": [
    "# Lista los ficheros que empiezan por a o por f, y acaban por _3.c, _4.c, _5.c, _6.c, _7.c\n",
    "ls [af]*_[3-7].c                             #@solution@"
   ]
  },
  {
   "cell_type": "code",
   "execution_count": null,
   "id": "9631af10",
   "metadata": {},
   "outputs": [],
   "source": [
    "# Lista los ficheros que empiezan por cualquier letra de la m a la z\n",
    "ls [m-z]*                             #@solution@"
   ]
  },
  {
   "cell_type": "code",
   "execution_count": null,
   "id": "2d7117ab",
   "metadata": {},
   "outputs": [],
   "source": [
    "# Lista los ficheros que empiezan por f o cualquier letra de la m a la z, y acaban por d o por t.\n",
    "ls [f,m-z]*[dt]                             #@solution@"
   ]
  },
  {
   "cell_type": "code",
   "execution_count": null,
   "id": "2efc8d91",
   "metadata": {},
   "outputs": [],
   "source": [
    "# Lista los ficheros que NO empiezan por f y acaban en .c\n",
    "ls [!f]*.c                             #@solution@"
   ]
  },
  {
   "cell_type": "code",
   "execution_count": null,
   "id": "dec2683b",
   "metadata": {},
   "outputs": [],
   "source": [
    "# Lista los ficheros que cuya primera letra sea la f o la h,\n",
    "# la segunda sea la i o la e, y la tercera sea la l o la n,\n",
    "# y acaben por cualquier cadena\n",
    "ls [fh][ie][ln]*                             #@solution@"
   ]
  },
  {
   "cell_type": "code",
   "execution_count": null,
   "id": "f63fe00e",
   "metadata": {},
   "outputs": [],
   "source": [
    "# Lista los ficheros que empiecen por \"file\" o \"hello\" y acaben con un carácter de la g a la z\n",
    "ls {file,hello}*[g-z]                             #@solution@"
   ]
  },
  {
   "cell_type": "markdown",
   "id": "6b9fe5cc",
   "metadata": {},
   "source": [
    "Las rutas que acabamos de emplear con comodines son todas rutas relativas al directorio actual (los ficheros que manejamos están en dicho directorio, por eso no hemos antepuesto nada al nombre del fichero). No obstante, resulta posible utilizar comodines para cualquier ruta, ya sea absoluta o relativa, como podemos ver a continuación:"
   ]
  },
  {
   "cell_type": "code",
   "execution_count": null,
   "id": "7bbc60d4",
   "metadata": {},
   "outputs": [],
   "source": [
    "cd ~/pruebas-bash\n",
    "mkdir permisos\n",
    "echo \"Fichero de prueba\" > permisos/prueba.txt"
   ]
  },
  {
   "cell_type": "code",
   "execution_count": null,
   "id": "366a92ef-4b25-4a48-9418-ceddff1a1424",
   "metadata": {},
   "outputs": [],
   "source": [
    "echo > hola\n",
    "echo > hol1"
   ]
  },
  {
   "cell_type": "code",
   "execution_count": null,
   "id": "2dd0565b-b430-430e-a6ba-8a97c49ce1ba",
   "metadata": {},
   "outputs": [],
   "source": [
    "ls"
   ]
  },
  {
   "cell_type": "code",
   "execution_count": null,
   "id": "3ee046cd-7983-4c1d-af3d-ef0fc78287a8",
   "metadata": {},
   "outputs": [],
   "source": [
    "ls comodines"
   ]
  },
  {
   "cell_type": "code",
   "execution_count": null,
   "id": "f78bffb4",
   "metadata": {},
   "outputs": [],
   "source": [
    "# Lista los ficheros cuyo nombre empiece por \"fi\" y acabe en 'h' situados \n",
    "# en el subdirectorio comodines\n",
    "ls comodines/fi*h                     #@solution@"
   ]
  },
  {
   "cell_type": "code",
   "execution_count": null,
   "id": "5a84d093",
   "metadata": {},
   "outputs": [],
   "source": [
    "# Lista los ficheros cuyo nombre acabe en \".txt\" que estén situados \n",
    "# en los subdirectorios inmediatos al actual cuyo nombre acabe en \"os\" o en \"es\"\n",
    "ls *{os,es}/*.txt                             #@solution@"
   ]
  },
  {
   "cell_type": "markdown",
   "id": "07a7a742-3c8b-40bd-920f-71230a84194a",
   "metadata": {},
   "source": [
    "## Gestión de los permisos\n",
    "\n",
    "Las operaciones que vimos en el boletín anterior de lectura y modificación de ficheros y directorios sólo se pueden realizar si disponemos de los permisos pertinentes sobre los ficheros o directorios involucrados. En esta sección veremos una explicación de los mismos, que varía de interpretación dependiendo de si los permisos se refieren a un fichero o un directorio.\n",
    "\n",
    "Los comandos relacionados con el cambio de permisos, usuarios y grupos son los siguientes:\n",
    "* `chmod 3_cifras_en_octal fichero|directorio` : Cambia permisos de ficheros o directorios. Como los permisos de propietario, de grupo y de resto de usuarios son tres para cada tipo, éstos se pueden\n",
    "designar con 3 cifras octales. Por ejemplo, `754 = 111 101 100 = rwx r-x r--`\n",
    "* `chown nuevo_propietario fichero|directorio` : Cambia el propietario de un fichero o directorio. Obviamente, se necesita ser superusuario para poder ejecutar con éxito este comando. Esta orden también\n",
    "permite cambiar el grupo propietario del fichero o directorio.\n",
    "* `chgrp nuevo_grupo fichero|directorio` : Cambia el grupo de un fichero o directorio. De nuevo, se necesita ser superusuario."
   ]
  },
  {
   "cell_type": "code",
   "execution_count": null,
   "id": "3334595c",
   "metadata": {},
   "outputs": [],
   "source": [
    "# Ejecuta esta celda para crear algunos \n",
    "# ficheros y directorios con distintos permisos\n",
    "cd\n",
    "cd pruebas-bash\n",
    "chmod -Rf 700 bash-gestion-permisos\n",
    "rm -rf bash-gestion-permisos\n",
    "mkdir -p bash-gestion-permisos\n",
    "cd bash-gestion-permisos"
   ]
  },
  {
   "cell_type": "markdown",
   "id": "a347c3b5-21b0-4f03-92c9-721b1a6be8fa",
   "metadata": {},
   "source": [
    "## Usuarios y grupos. Permisos.\n",
    "\n",
    "Linux es un SO multiusuario, lo que significa que más de un usuario puede trabajar en el sistema de forma simultánea con otros, ejecutando una o más tareas a la vez. Para que múltiples usuarios puedan hacer uso del sistema de una forma segura y ordenada es necesario que el sistema disponga de mecanismos para proteger y limitar el acceso\n",
    "a los datos de cada usuario, así como proteger y asegurar el correcto funcionamiento del propio sistema.\n",
    "\n",
    "### Tipos de usuarios\n",
    "\n",
    "1. **Usuarios normales**: Son individuos particulares que pueden acceder al sistema para hacer uso de los recursos que ofrece el mismo, sin disponer de los privilegios necesarios para administrarlo. Como indicador el prompt utiliza para ellos por defecto el símbolo dólar.\n",
    "\n",
    "\n",
    "2. **Usuarios de sistema**: Son usuarios especiales vinculados a ciertas tareas que debe realizar el sistema operativo. No están vinculados a personas, ya que este tipo de usuarios no pueden ingresar al sistema con un login normal. Ejemplos: `mail`, `bin`, `kvm`, etc. También se les conoce como usuarios sin login.\n",
    "\n",
    "\n",
    "3. **Usuario `root`, o superusuario**: Todo sistema Linux cuenta con un superusuario, que tiene los máximos privilegios. Dichos privilegios le permitirán efectuar cualquier operación sobre el sistema (incluida su destrucción). Su existencia es imprescindible ya que se encarga de adminstrar su funcionamiento, incluyendo los grupos, usuarios, instalación de software, etc. Debido a su omnipotencia, al entrar como superusuario el prompt nos avisa de ello utilizando el símbolo almohadilla `#`."
   ]
  },
  {
   "cell_type": "markdown",
   "id": "0e6c45b4-05ee-4888-81b5-f5c58b00e50d",
   "metadata": {},
   "source": [
    "Un usuario puede pertenecer a varios grupos, y el superusuario es el responsable de organizar la distribución de usuarios por grupos.\n",
    "\n",
    "\n",
    "A continuación se expone la lista de órdenes más habituales relacionadas con lo visto en este apartado:\n",
    "\n",
    "- `whoami` : Muestra nuestro nombre de usuario.\n",
    "- `who` : Muestra los usuarios actualmente conectados al sistema, con su hora de inicio de sesión, y la máquina desde la que accedió al equipo.\n",
    "- `su`: Cambia de usuario (*switch user*). Por defecto, cambia de usuario normal a superusuario (o root). El prompt acaba con el carácter # en lugar del carácter dólar para advertírnoslo. Si se especifica como parámetro un usuario, se cambia a ese usuario. En cualquier caso, hay que indicar la contraseña del usuario al que se desea cambiar.\n",
    "- `sudo orden`: Ejecuta el comando orden como superususario, aún estando conectados como usuario normal (por supuesto, y al igual que el comando anterior, exige contraseña).\n",
    "- `exit` : Termina la sesión del usuario actual."
   ]
  },
  {
   "cell_type": "code",
   "execution_count": null,
   "id": "0b1ff0ef",
   "metadata": {},
   "outputs": [],
   "source": [
    "whoami"
   ]
  },
  {
   "cell_type": "code",
   "execution_count": null,
   "id": "d214b831",
   "metadata": {},
   "outputs": [],
   "source": [
    "who"
   ]
  },
  {
   "attachments": {
    "image.png": {
     "image/png": "[encoded data removed]"
    }
   },
   "cell_type": "markdown",
   "id": "39f2a102-8c64-4a17-9cb2-389e9808f259",
   "metadata": {},
   "source": [
    "### Grupos\n",
    "\n",
    "Para poder administrar los permisos de acceso al sistema de ficheros de una forma más flexible, Linux permite la organización de usuarios en grupos, de forma que cada fichero o directorio, además de tener un usuario propietario, siempre pertenece a un determinado grupo. Los grupos, por tanto, permiten otorgar una serie de privilegios a un conjunto de usuarios sin tener que dárselos de forma individual a cada uno de ellos. Así pues, los usuarios de un sistema Linux se organizan en grupos, de forma que todos los miembros del mismo grupo disponen de los mismos privilegios para poder acceder a ficheros y servicios del sistema. \n",
    "\n",
    "![image.png](attachment:image.png)\n",
    "\n",
    "Con el comando `groups`: podemos ver a qué grupos pertenecemos."
   ]
  },
  {
   "cell_type": "code",
   "execution_count": null,
   "id": "59e71e22",
   "metadata": {},
   "outputs": [],
   "source": [
    "groups"
   ]
  },
  {
   "cell_type": "markdown",
   "id": "316bf76e-c318-4a99-9bfc-4e8f15c22e74",
   "metadata": {},
   "source": [
    "### Superusuario\n",
    "\n",
    "Una buena razón para aprender los fundamentos de la línea de comandos es que las instrucciones que solemos encontrar en la red suelen favorecer el uso de comandos del shell en lugar de una interfaz gráfica. Cuando esas instrucciones requieran cambios en tu máquina que vayan más allá de la modificación de unos pocos ficheros en tu\n",
    "directorio personal, inevitablemente te encontrarás con comandos que deben ser ejecutados como administrador de la máquina (o superusuario en la jerga de Unix). Antes de que empieces a ejecutar comandos arbitrarios que encuentres en algún rincón oscuro de Internet, vale la pena entender las implicaciones de ejecutar como administrador, para que puedas valorar mejor si son seguras de ejecutar o no.\n",
    "\n",
    "\n",
    "El superusuario es un usuario con superpoderes, pues **puede modificar o eliminar cualquier fichero en cualquier directorio del sistema, independientemente de quién sea su propietario**; `root` puede reescribir las reglas del cortafuegos o iniciar servicios de red que podrían abrir la máquina a un ataque; o apagar la máquina aunque haya otras personas utilizándola. En resumen, el usuario `root` puede hacer prácticamente cualquier cosa, saltándose fácilmente las protecciones que se suelen poner en marcha para evitar que los usuarios se pasen de la raya. Por supuesto, una persona conectada como root es tan capaz de cometer errores como cualquier otra. Los anales de la historia de la informática están llenos de relatos en los que un comando mal escrito borra todo el sistema de ficheros o mata un servidor vital. Además, existe la posibilidad de un ataque malicioso: si un usuario se conecta como root y abandona su escritorio, no es demasiado difícil que un colega descontento se meta en su máquina y cause estragos."
   ]
  },
  {
   "cell_type": "markdown",
   "id": "66732ddc-2992-4a60-af7e-5b599532c1a1",
   "metadata": {},
   "source": [
    "Para tratar de minimizar la cantidad de tiempo que se pasa conectado como root, muchas distribuciones de Linux comenzaron a fomentar el uso del comando `su` (*switch user*), que permite cambiar a otro usuario en la máquina sin tener que salir y entrar de nuevo. Cuando se utiliza sin parámetros, asume que quieres cambiar al usuario `root`, pero puedes pasarle un nombre de usuario para cambiar a una cuenta de usuario específica.\n",
    "\n",
    "En muchas distribuciones de Linux, como Ubuntu, la cuenta de `root` está deshabilitada por completo para no permitir sesiones de terminal de larga duración con poderes peligrosos. En su lugar, se requiere que el usuario solicite específicamente los derechos de superusuario en cada comando mediante `sudo` (que viene de “cambiar de usuario y hacer este comando”). `sudo` se utiliza antepuesto a un comando que debe ejecutarse con privilegios de superusuario. Por ejemplo: \n",
    "```bash\n",
    "$ sudo chown newowner FILE\n",
    "```\n",
    "\n",
    "Se utiliza un fichero de configuración para definir qué usuarios pueden utilizar `sudo`, y qué comandos pueden ejecutar. Cuando se ejecuta, al usuario se le pide su propia contraseña, que se almacena en la memoria durante un período de tiempo (por defecto 15 minutos), por lo que si necesita ejecutar varios comandos de nivel de superusuario no se le pide continuamente que la escriba. En un sistema Ubuntu, el primer usuario creado cuando se instala el sistema se\n",
    "considera el superusuario."
   ]
  },
  {
   "cell_type": "markdown",
   "id": "60baf72d-da16-4890-a0a1-1934319de339",
   "metadata": {},
   "source": [
    "\n",
    "### Permisos en ficheros\n",
    "\n",
    "El significado de los permisos de lectura y escritura es obvio.\n",
    "* **Lectura**. El permiso de lectura nos permite acceder al contenido del fichero con una orden o un editor de texto.\n",
    "* **Escritura**. Si carecemos de permiso de escritura no se habilitará en el menú de éste la opción de salvar fichero (si lo abrimos con el editor de texto desde el explorador de archivos). Tampoco podremos escribir en el mismo usando el operador de redirección (`>` ó `>>`)\n",
    "* **Ejecución**.  El permiso de ejecución se le añade al fichero sólo cuando éste es un programa ejecutable o cuando, después de editar un fichero con un editor de texto ASCII plano, queremos que éste se ejecute como un *script* (también llamado \"guión shell\")."
   ]
  },
  {
   "cell_type": "code",
   "execution_count": null,
   "id": "7f47ad81-04d0-441b-bb52-b69664a26e13",
   "metadata": {},
   "outputs": [],
   "source": [
    "echo \"Nobody can see this!\" > file_noaccess"
   ]
  },
  {
   "cell_type": "code",
   "execution_count": null,
   "id": "435e8ec7-3673-41b7-897a-b00afa95763b",
   "metadata": {},
   "outputs": [],
   "source": [
    "ll file_noaccess"
   ]
  },
  {
   "cell_type": "code",
   "execution_count": null,
   "id": "3469a462-0a4c-4b64-9772-98fec74bb40d",
   "metadata": {},
   "outputs": [],
   "source": [
    "# Quitamos todos los permisos a todo el mundo\n",
    "chmod 000 file_noaccess"
   ]
  },
  {
   "cell_type": "code",
   "execution_count": null,
   "id": "5abd0fe1-7b3e-4e88-9bee-b5443a7861d0",
   "metadata": {},
   "outputs": [],
   "source": [
    "ll file_noaccess"
   ]
  },
  {
   "cell_type": "code",
   "execution_count": null,
   "id": "d9a0c7d0",
   "metadata": {},
   "outputs": [],
   "source": [
    "# Comenta (#) el comando tras ejecutarlo\n",
    "# cat file_noaccess"
   ]
  },
  {
   "cell_type": "code",
   "execution_count": null,
   "id": "f70e842f-98cd-4117-80d5-2ec6fef72168",
   "metadata": {},
   "outputs": [],
   "source": [
    "echo \"Un fichero cualquiera\" > file_regular"
   ]
  },
  {
   "cell_type": "code",
   "execution_count": null,
   "id": "eba50245-24c5-4912-9a3e-4c40d46d2940",
   "metadata": {},
   "outputs": [],
   "source": [
    "ll file_regular"
   ]
  },
  {
   "cell_type": "code",
   "execution_count": null,
   "id": "6bbd1eec-5d3e-4547-82a6-053705c85730",
   "metadata": {},
   "outputs": [],
   "source": [
    "chmod 644 file_regular"
   ]
  },
  {
   "cell_type": "code",
   "execution_count": null,
   "id": "731e7bb5-fe75-4bdc-9ded-4ffe7aeb16a3",
   "metadata": {},
   "outputs": [],
   "source": [
    "echo \"con varias líneas\" >> file_regular"
   ]
  },
  {
   "cell_type": "code",
   "execution_count": null,
   "id": "10c50f71",
   "metadata": {},
   "outputs": [],
   "source": [
    "cat file_regular"
   ]
  },
  {
   "cell_type": "code",
   "execution_count": null,
   "id": "9c7b8fb8-cadd-45f4-a882-b504697c92d4",
   "metadata": {},
   "outputs": [],
   "source": [
    "ll file_regular"
   ]
  },
  {
   "cell_type": "code",
   "execution_count": null,
   "id": "ed24aa8b",
   "metadata": {},
   "outputs": [],
   "source": [
    "cat file_regular"
   ]
  },
  {
   "cell_type": "code",
   "execution_count": null,
   "id": "67b422da-a82a-42a8-a135-d2c006758d82",
   "metadata": {},
   "outputs": [],
   "source": [
    "echo \"Edit me if you can\" > file_readonly\n"
   ]
  },
  {
   "cell_type": "code",
   "execution_count": null,
   "id": "536b70a2-0db3-4611-878a-292773a11870",
   "metadata": {},
   "outputs": [],
   "source": [
    "chmod 444 file_readonly"
   ]
  },
  {
   "cell_type": "code",
   "execution_count": null,
   "id": "1bb9cb18-47ed-4621-a532-5ab4737c998a",
   "metadata": {},
   "outputs": [],
   "source": [
    "ll file_readonly"
   ]
  },
  {
   "cell_type": "code",
   "execution_count": null,
   "id": "efa6db48",
   "metadata": {},
   "outputs": [],
   "source": [
    "# Comenta (#) el comando tras ejecutarlo\n",
    "# echo \"Can't write to this file!\" >> file_readonly"
   ]
  },
  {
   "cell_type": "code",
   "execution_count": null,
   "id": "f1d8430b",
   "metadata": {},
   "outputs": [],
   "source": [
    "ls -l file*"
   ]
  },
  {
   "cell_type": "code",
   "execution_count": null,
   "id": "76fe64ba",
   "metadata": {},
   "outputs": [],
   "source": [
    "# Comenta (#) el comando tras ejecutarlo\n",
    "# ./file_regular"
   ]
  },
  {
   "cell_type": "code",
   "execution_count": null,
   "id": "f36b6dcf-1ade-4011-bf1e-46a45c969b24",
   "metadata": {},
   "outputs": [],
   "source": [
    "echo '#!/bin/bash' > file_roexecutable\n",
    "echo 'echo \"Hello world\"' >> file_roexecutable"
   ]
  },
  {
   "cell_type": "code",
   "execution_count": null,
   "id": "dd8c6b3a",
   "metadata": {},
   "outputs": [],
   "source": [
    "cat file_roexecutable"
   ]
  },
  {
   "cell_type": "code",
   "execution_count": null,
   "id": "68103ad3-0a68-4a0c-933d-b6a23a466a85",
   "metadata": {},
   "outputs": [],
   "source": [
    "ll file_roexecutable"
   ]
  },
  {
   "cell_type": "code",
   "execution_count": null,
   "id": "6824d7b2-80e7-42f3-9568-ac59880e2cc9",
   "metadata": {},
   "outputs": [],
   "source": [
    "chmod 554 file_roexecutable"
   ]
  },
  {
   "cell_type": "code",
   "execution_count": null,
   "id": "672ef1cd-65aa-4941-beb6-eab5f81b5ffc",
   "metadata": {},
   "outputs": [],
   "source": [
    "ll file_roexecutable"
   ]
  },
  {
   "cell_type": "markdown",
   "id": "0be0fbf1-0c35-44cb-9ede-e400306ce8b7",
   "metadata": {},
   "source": [
    "Recuerda: Para ejecutar un fichero debes indicar su ruta completa, ya sea de forma relativa al directorio de trabajo actual o bien la ruta absoluta. Si el fichero a ejecutar está situado en el directorio actual, entonces debes indicarlo explícitamente anteponiendo `./` al nombre del fichero. De lo contrario, el *shell* interpretará que el programa que quieres ejecutar está en el `PATH`, es decir, en alguno de los directorios en los que por defecto se ubican los programas instalados para todos los usuarios (p.ej., `/usr/bin`, etc.). En el próximo boletín de prácticas veremos esto (concepto de `PATH` con más detalle)."
   ]
  },
  {
   "cell_type": "code",
   "execution_count": null,
   "id": "e00c5935",
   "metadata": {},
   "outputs": [],
   "source": [
    "# Si no indicamos la ruta, el shell no será capaz de encontrar el fichero a ejecutar (comenta el comando tras obtener el error)\n",
    "# file_roexecutable"
   ]
  },
  {
   "cell_type": "code",
   "execution_count": null,
   "id": "1648ce71",
   "metadata": {},
   "outputs": [],
   "source": [
    "./file_roexecutable"
   ]
  },
  {
   "cell_type": "code",
   "execution_count": null,
   "id": "0f58cd78",
   "metadata": {},
   "outputs": [],
   "source": [
    "ls -l /usr/bin/cat"
   ]
  },
  {
   "cell_type": "code",
   "execution_count": null,
   "id": "20b3fd91",
   "metadata": {},
   "outputs": [],
   "source": [
    "# Creamos una copia del programa \"cat\", llamada \"mostrar_fichero\", ubicada en el directorio actual:\n",
    "cp /usr/bin/cat ./mostrar_fichero"
   ]
  },
  {
   "cell_type": "code",
   "execution_count": null,
   "id": "75fbf827",
   "metadata": {},
   "outputs": [],
   "source": [
    "ls -l"
   ]
  },
  {
   "cell_type": "code",
   "execution_count": null,
   "id": "30b610e2",
   "metadata": {},
   "outputs": [],
   "source": [
    "# Se trata de un fichero que contiene un programa en código máquina, y con permisos de ejecución...\n",
    "./mostrar_fichero file_regular"
   ]
  },
  {
   "cell_type": "markdown",
   "id": "731f611e-ad40-4f7c-8940-34b28c981a36",
   "metadata": {},
   "source": [
    "Aunque se permite cualquier combinación de los tres permisos, habitualmente un fichero tiene permiso de sólo lectura, o de lectura y también de escritura, o de lectura y ejecución, o de lectura, escritura y ejecución. Es atípico que un fichero sólo tenga permiso de escritura, pues su carencia del permiso de lectura impide que el editor lo lea (*la escritura en estos ficheros podría hacerse en cualquier caso, por ejemplo, con una orden redireccionada al fichero, como veremos en un boletín de prácticas posterior*)."
   ]
  },
  {
   "cell_type": "markdown",
   "id": "44e012f9-2599-4c2f-a6ba-958a3529a426",
   "metadata": {},
   "source": [
    "### Permisos en directorios\n",
    "\n",
    "Aquí el significado de los permisos no es tan obvio. \n",
    "\n",
    "* **Lectura**. El permiso de lectura permite conocer las entradas del directorio, por ejemplo realizando un listado de su contenido.\n",
    "* **Escritura**. El permiso de escritura permite modificar las entradas al directorio (por ejemplo crear, borrar o renombrar ficheros o directorios dentro de él). \n",
    "* **Ejecución**. Finalmente, el permiso de ejecución permite entrar dentro de un directorio (por ejemplo con el comando `cd directorio`) o utilizar este directorio en programas que necesiten acceder a sus contenidos como por ejemplo en búsquedas realizadas con el comando `find`.\n",
    "  \n",
    "> **IMPORTANTE:** Los permisos de lectura y escritura del directorio, respectivamente,  **no tienen relación con la lectura y modificación del contenido en sí de los ficheros** ubicados en dicho directorio, puesto que éstos son permisos propios de cada fichero individual. \n"
   ]
  },
  {
   "cell_type": "code",
   "execution_count": null,
   "id": "9644ac01-bd18-4792-b30a-5edcdf0cd9e9",
   "metadata": {},
   "outputs": [],
   "source": [
    "# Creamos 5 directorios\n",
    "mkdir -p dir1 dir2 dir3 dir4 dir5\n",
    "# Creamos ficheros vacíos en 4 de ellos\n",
    "touch dir1/onefile\n",
    "touch dir2/anotherfile\n",
    "touch dir3/yetanotherfile\n",
    "touch dir4/unfichero"
   ]
  },
  {
   "cell_type": "code",
   "execution_count": null,
   "id": "4fd7ad22",
   "metadata": {},
   "outputs": [],
   "source": [
    "ls -ld dir* # La opción -d de ls es para listar los directorios mismos, en vez de su contenido"
   ]
  },
  {
   "cell_type": "code",
   "execution_count": null,
   "id": "8652c7f5-b768-4d64-b58e-71c4455960d8",
   "metadata": {},
   "outputs": [],
   "source": [
    "chmod 750 dir2"
   ]
  },
  {
   "cell_type": "code",
   "execution_count": null,
   "id": "e0b2d466-af90-4516-826b-ddb6b14ca161",
   "metadata": {},
   "outputs": [],
   "source": [
    "# dir2 es ahora inaccesible al resto de usuarios, y miembros del grupo no pueden modificarlo\n",
    "ls -ld dir2 "
   ]
  },
  {
   "cell_type": "code",
   "execution_count": null,
   "id": "0e0b12b4-e4fa-4d26-a9fd-76bcffac558d",
   "metadata": {},
   "outputs": [],
   "source": [
    "chmod 500 dir3"
   ]
  },
  {
   "cell_type": "code",
   "execution_count": null,
   "id": "11941798-7b3f-4efd-954d-c60145165377",
   "metadata": {},
   "outputs": [],
   "source": [
    "# dir3 es un directorio de solo lectura para el propietario, sin acceso para el resto\n",
    "ls -ld dir3 "
   ]
  },
  {
   "cell_type": "code",
   "execution_count": null,
   "id": "4fd00e15",
   "metadata": {},
   "outputs": [],
   "source": [
    "# yetanotherfile es un fichero en blanco con permisos rw\n",
    "cat dir3/yetanotherfile"
   ]
  },
  {
   "cell_type": "code",
   "execution_count": null,
   "id": "0fd913af",
   "metadata": {},
   "outputs": [],
   "source": [
    "# Comenta (#) el comando tras ejecutarlo\n",
    "rm dir3/yetanotherfile"
   ]
  },
  {
   "cell_type": "markdown",
   "id": "1113b6e8-faf8-4d91-af4f-e4818f54e46a",
   "metadata": {},
   "source": [
    "Como vemos, el fichero no se puede eliminar porque el directorio `dir3` es de sólo lectura. *RECUERDA: un directorio es **una lista** de ficheros/directorios*. En este caso, sólo podemos leer la lista pero no quitar elementos de dicha lista.\n",
    "\n",
    "Lo que sí podemos hacer es **modificar el contenido** de ficheros que estén en directorios de sólo lectura, siempre que dichos ficheros tengan los permisos de escritura, como en este caso."
   ]
  },
  {
   "cell_type": "code",
   "execution_count": null,
   "id": "048f2cbd",
   "metadata": {},
   "outputs": [],
   "source": [
    "echo \"Hola\" > dir3/yetanotherfile"
   ]
  },
  {
   "cell_type": "code",
   "execution_count": null,
   "id": "92afb461",
   "metadata": {},
   "outputs": [],
   "source": [
    "# El *CONTENIDO* de yetanotherfile puede ser modificado!\n",
    "cat dir3/yetanotherfile"
   ]
  },
  {
   "cell_type": "code",
   "execution_count": null,
   "id": "a2195c58-8ca2-43da-8991-34f736b42ee4",
   "metadata": {},
   "outputs": [],
   "source": [
    "# dir4 es un directorio al que ni siquiera el propietario se puede cambiar con \"cd\"\n",
    "chmod 400 dir4"
   ]
  },
  {
   "cell_type": "code",
   "execution_count": null,
   "id": "2e914262-7cb6-4335-8aec-0fe7d785a499",
   "metadata": {},
   "outputs": [],
   "source": [
    "ls -ld dir4"
   ]
  },
  {
   "cell_type": "code",
   "execution_count": null,
   "id": "d2d4d4a5",
   "metadata": {},
   "outputs": [],
   "source": [
    "# No podemos cambiarnos a dir4 (comentar el comando tras obtener el error)\n",
    "# cd dir4"
   ]
  },
  {
   "cell_type": "code",
   "execution_count": null,
   "id": "55507d6b",
   "metadata": {},
   "outputs": [],
   "source": [
    "# Pero sí podemos mostrar el nombre de los ficheros que contiene\n",
    "ls dir4"
   ]
  },
  {
   "cell_type": "code",
   "execution_count": null,
   "id": "4bf8f736",
   "metadata": {},
   "outputs": [],
   "source": [
    "# Sin embargo no podemos acceder al contenido de los ficheros sin permiso de ejecución en el directorio\n",
    "# Comenta el comando tras obtener el error\n",
    "# cat dir4/unfichero"
   ]
  },
  {
   "cell_type": "markdown",
   "id": "bbef504c-d9ba-4303-ab40-7d9ed022b331",
   "metadata": {},
   "source": [
    "Lo normal para un directorio será que tenga los permisos de lectura, escritura y ejecución (`rwx`) para el propietario del fichero, y los permisos de lectura y ejecución (`r-x`) para el resto (grupo propietario y resto de usuarios). En caso de que fuese necesario, podríamos evitar que el resto de usuarios que no sean del grupo al que pertenece el fichero tenga acceso al directorio, como vemos a continuación."
   ]
  },
  {
   "cell_type": "code",
   "execution_count": null,
   "id": "78c3da79-0ce6-4002-beeb-6018ddee2183",
   "metadata": {},
   "outputs": [],
   "source": [
    "# dir5 es un directorio sin ningún tipo de acceso\n",
    "chmod 000 dir5"
   ]
  },
  {
   "cell_type": "code",
   "execution_count": null,
   "id": "6a4f4d7a",
   "metadata": {},
   "outputs": [],
   "source": [
    "ls -ld dir5"
   ]
  },
  {
   "cell_type": "markdown",
   "id": "3f55301c-bd23-4a47-8f65-4f760568b400",
   "metadata": {},
   "source": [
    "No es posible acceder a directorios sobre los que no tengamos permisos de ejecución:"
   ]
  },
  {
   "cell_type": "code",
   "execution_count": null,
   "id": "3366b63e",
   "metadata": {},
   "outputs": [],
   "source": [
    "# Comenta el comando tras obtener el error\n",
    "# cd dir5"
   ]
  },
  {
   "cell_type": "markdown",
   "id": "dcf4db6b-b49a-4ebb-bcdb-6a2d30c68d8e",
   "metadata": {},
   "source": [
    "Habitualmente se suelen habilitar los permisos de escritura y ejecución conjuntamente si queremos dar permisos para borrar entradas o crear nuevas. La habilitación de sólo el permiso de lectura de un directorio nos permite\n",
    "conocer sus entradas (nombres de ficheros y directorios) pero nada más (ni permisos, ni fechas, ni tamaños,\n",
    "etc.). Como vemos a continuación, tener exclusivamente permiso de lectura sobre un directorio no basta para poder acceder a los ficheros del directorio:"
   ]
  },
  {
   "cell_type": "markdown",
   "id": "d77a1f10-fdc7-48c7-8d92-c9240487b3d6",
   "metadata": {},
   "source": [
    "#### <span style=\"color: blue;\">EJERCICIO</span>"
   ]
  },
  {
   "cell_type": "code",
   "execution_count": null,
   "id": "08c5002e",
   "metadata": {},
   "outputs": [],
   "source": [
    "# Haz un listado largo del directorio actual\n",
    "ls -l"
   ]
  },
  {
   "cell_type": "markdown",
   "id": "ba0f8a22-2836-4959-9d1f-cbb5964f65ef",
   "metadata": {},
   "source": [
    "- Modifica los permisos del fichero `file_regular` para que sólo el propietario pueda modificar su contenido, mientras que el resto pueda únicamente leerlo."
   ]
  },
  {
   "cell_type": "code",
   "execution_count": null,
   "id": "22f4ff00",
   "metadata": {},
   "outputs": [],
   "source": [
    "chmod 644 file_regular                            #@solution@"
   ]
  },
  {
   "cell_type": "code",
   "execution_count": null,
   "id": "a4ce5f3c-f414-41f4-ab1c-23010201d98e",
   "metadata": {},
   "outputs": [],
   "source": [
    "ls -l file_regular"
   ]
  },
  {
   "cell_type": "markdown",
   "id": "b89268bb-f86c-47c0-8b12-b8b4caf8037a",
   "metadata": {},
   "source": [
    "- Modifica los permisos del fichero `file_readonly` para que sólo el propietario pueda ver su contenido, mientras que el resto no tenga ningún tipo de acceso al mismo."
   ]
  },
  {
   "cell_type": "code",
   "execution_count": null,
   "id": "3ade69d3",
   "metadata": {
    "vscode": {
     "languageId": "plaintext"
    }
   },
   "outputs": [],
   "source": [
    "chmod 644 file_readonly                        #@solution@"
   ]
  },
  {
   "cell_type": "code",
   "execution_count": null,
   "id": "4b65f682",
   "metadata": {
    "vscode": {
     "languageId": "plaintext"
    }
   },
   "outputs": [],
   "source": [
    "ls -l file_readonly"
   ]
  },
  {
   "cell_type": "markdown",
   "id": "683f5318-2f33-4e90-9041-79e201ed7b35",
   "metadata": {},
   "source": [
    "- Modifica los permisos del fichero `file_roexecutable` para que cualquier usuario de la máquina pueda verlo y ejecutarlo."
   ]
  },
  {
   "cell_type": "code",
   "execution_count": null,
   "id": "bc36a5fd",
   "metadata": {},
   "outputs": [],
   "source": [
    "chmod 555 file_roexecutable                            #@solution@"
   ]
  },
  {
   "cell_type": "code",
   "execution_count": null,
   "id": "df19b065-e78f-4b6e-9d76-241cdca00d89",
   "metadata": {},
   "outputs": [],
   "source": [
    "ls -l file_roexecutable"
   ]
  },
  {
   "cell_type": "markdown",
   "id": "6fa11484-ee8c-40cc-93e5-35100250a7f5",
   "metadata": {},
   "source": [
    "- Modifica los permisos del directorio `dir3` para que el propietario pueda añadir nuevos ficheros al mismo y los miembros del grupo puedan acceder a dicho directorio y ver su contenido."
   ]
  },
  {
   "cell_type": "code",
   "execution_count": null,
   "id": "37695baf-e24f-4bbc-8d62-01feeba9e18e",
   "metadata": {},
   "outputs": [],
   "source": [
    "chmod 750 dir3                           #@solution@"
   ]
  },
  {
   "cell_type": "code",
   "execution_count": null,
   "id": "51963916-8ba6-44e4-a1b5-e6ad213112b6",
   "metadata": {
    "scrolled": true
   },
   "outputs": [],
   "source": [
    "ls -ld dir3"
   ]
  },
  {
   "cell_type": "code",
   "execution_count": null,
   "id": "99f74c36-1ea3-47e9-96fa-e7e963f1c216",
   "metadata": {},
   "outputs": [],
   "source": [
    "cd\n",
    "cd pruebas-bash\n",
    "chmod -Rf 700 bash-gestion-permisos\n",
    "rm -rf bash-gestion-permisos\n",
    "rm -rf pruebas-bash"
   ]
  }
 ],
 "metadata": {
  "kernelspec": {
   "display_name": "Bash",
   "language": "bash",
   "name": "bash"
  },
  "language_info": {
   "codemirror_mode": "shell",
   "file_extension": ".sh",
   "mimetype": "text/x-sh",
   "name": "bash"
  },
  "toc": {
   "base_numbering": 1,
   "nav_menu": {},
   "number_sections": true,
   "sideBar": true,
   "skip_h1_title": true,
   "title_cell": "Table of Contents",
   "title_sidebar": "Contents",
   "toc_cell": false,
   "toc_position": {
    "height": "calc(100% - 180px)",
    "left": "10px",
    "top": "150px",
    "width": "296px"
   },
   "toc_section_display": true,
   "toc_window_display": false
  }
 },
 "nbformat": 4,
 "nbformat_minor": 5
}
