{
 "cells": [
  {
   "cell_type": "markdown",
   "id": "c5e0d6b2-ef9c-429e-82b1-9630148b5726",
   "metadata": {},
   "source": [
    "# Ejercicios - Práctica 5a: Herramientas de gestión del sistema de ficheros. Búsquedas."
   ]
  },
  {
   "cell_type": "markdown",
   "id": "055d9927",
   "metadata": {},
   "source": [
    "### Gestión y búsquedas de ficheros.\n",
    "\n",
    "Vamos a hacer uso de los mismos ficheros de ejemplo que utilizamos anteriormente. Para obtenerlos, ejecutar la siguiente celda:"
   ]
  },
  {
   "cell_type": "code",
   "execution_count": null,
   "id": "474c9a3f-c138-45b1-880d-2a4fd36d0b73",
   "metadata": {},
   "outputs": [],
   "source": [
    "# Definir la URL del archivo a descargar y el nombre del archivo\n",
    "FICHERO=\"ficheros_ejemplo.zip\"\n",
    "URL=\"https://ditec.um.es/~rtitos/docencia/fc-gcid/24-25/$FICHERO\"\n",
    "\n",
    "cd\n",
    "\n",
    "# Comprobar si el archivo ya existe\n",
    "if [ -f \"$FICHERO\" ]; then\n",
    "    echo \"El archivo $FICHERO ya existe.\"\n",
    "    rm -rf \"ficheros_ejemplo\"\n",
    "    unzip -q $FICHERO\n",
    "    echo \"Archivo descomprimido.\"\n",
    "else\n",
    "    echo \"El archivo $FICHERO no existe. Descargando...\"\n",
    "    # Descargar el archivo\n",
    "    curl -O $URL\n",
    "    \n",
    "    # Comprobar si la descarga fue exitosa\n",
    "    if [ $? -eq 0 ]; then\n",
    "        echo \"Descarga completada. Descomprimiendo el archivo ...\"\n",
    "        # Descomprimir el archivo ZIP de forma silenciosa\n",
    "        unzip -q $FICHERO\n",
    "        echo \"Archivo descomprimido.\"\n",
    "    else\n",
    "        echo \"Error en la descarga.\"\n",
    "    fi\n",
    "fi"
   ]
  },
  {
   "cell_type": "markdown",
   "id": "b089eec7",
   "metadata": {},
   "source": [
    "```\n",
    "ficheros_ejemplo\n",
    "├── nano\n",
    "│   ├── docu\n",
    "│   ├── m4\n",
    "│   ├── po\n",
    "│   ├── src\n",
    "│   └── syntax\n",
    "│       └── extra\n",
    "└── sample_files\n",
    "    ├── audio\n",
    "    │   ├── mp3\n",
    "    │   ├── ogg\n",
    "    │   ├── wav\n",
    "    │   └── wma\n",
    "    ├── docu\n",
    "    │   ├── docu\n",
    "    │   ├── docux\n",
    "    │   ├── pdf\n",
    "    │   ├── rtf\n",
    "    │   ├── txt\n",
    "    │   ├── xls\n",
    "    │   └── xlsx\n",
    "    ├── image\n",
    "    │   ├── bmp\n",
    "    │   ├── gif\n",
    "    │   ├── jpg\n",
    "    │   ├── png\n",
    "    │   └── tiff\n",
    "    └── video\n",
    "        ├── flv\n",
    "        ├── mkv\n",
    "        ├── mov\n",
    "        └── mp4\n",
    "\n",
    "```"
   ]
  },
  {
   "cell_type": "markdown",
   "id": "080049b0",
   "metadata": {},
   "source": [
    "Una vez lo tengas preparado, empezando desde tu directorio personal, realiza los siguientes ejercicios, utilizando en todo caso **RUTAS RELATIVAS**. \n",
    "\n",
    "<span style=\"color: red;\">Recuerda que en el directorio `outputs` tienes el cuaderno con las salidas de los comandos que se piden</span>, para poder comprobar si tu respuesta a cada ejercicio es la correcta."
   ]
  },
  {
   "cell_type": "markdown",
   "id": "ebf79c79",
   "metadata": {},
   "source": [
    "\n",
    "### Búsquedas en el sistema de ficheros. Comodines"
   ]
  },
  {
   "cell_type": "markdown",
   "id": "1b5856f1",
   "metadata": {},
   "source": [
    "Usando convenientemente los comodines y las opciones de `find`, mostrar lo siguiente:"
   ]
  },
  {
   "cell_type": "code",
   "execution_count": null,
   "id": "b2b404c8",
   "metadata": {},
   "outputs": [],
   "source": [
    "# Ejecuta esta celda para restaurar el estado de los ficheros\n",
    "# Para ello, necesitas colocar el 'ficheros_ejemplo.zip' en tu directorio personal\n",
    "cd\n",
    "chmod -Rf 700 ficheros_ejemplo\n",
    "rm -rf ficheros_ejemplo\n",
    "unzip -q ficheros_ejemplo.zip\n",
    "cd ~/ficheros_ejemplo/sample_files\n",
    "touch video/mkv/*as*"
   ]
  },
  {
   "cell_type": "code",
   "execution_count": null,
   "id": "aa8dbe02",
   "metadata": {},
   "outputs": [],
   "source": [
    "#V.1\n",
    "# todos los directorios que cuelgan del directorio actual\n",
    "find . -type d                  #@solution@"
   ]
  },
  {
   "cell_type": "code",
   "execution_count": null,
   "id": "5a009a04",
   "metadata": {
    "code_folding": []
   },
   "outputs": [],
   "source": [
    "#V.2\n",
    "# todos los directorios que cuelgan del directorio actual\n",
    "# cuyo nombre acabe en 'v'\n",
    "find . -type d -name \"*v\"                  #@solution@"
   ]
  },
  {
   "cell_type": "code",
   "execution_count": null,
   "id": "94a50855",
   "metadata": {
    "code_folding": []
   },
   "outputs": [],
   "source": [
    "#V.3\n",
    "# todos los ficheros en \"image\", cuyo nombre empiece con \n",
    "# una letra entre la b y la f, con extensión .jpg \n",
    "find image -type f -name \"[b-f]*.jpg\"                  #@solution@"
   ]
  },
  {
   "cell_type": "code",
   "execution_count": null,
   "id": "c6f59109",
   "metadata": {},
   "outputs": [],
   "source": [
    "#V.4\n",
    "# todos los directorios en \"image\", cuyo nombre contenga la\n",
    "# letra 'c' en segundo lugar\n",
    "find image -type d -name \"?c*\"                  #@solution@"
   ]
  },
  {
   "cell_type": "code",
   "execution_count": null,
   "id": "6ecaf693",
   "metadata": {},
   "outputs": [],
   "source": [
    "#V.5\n",
    "# todos los ficheros en \"audio\", cuyo nombre contenga las letras 'b', w' y 'v', \n",
    "# en ese orden (no necesariamente consecutivas)\n",
    "find audio -type f -name \"*b*w*v*\"                  #@solution@"
   ]
  },
  {
   "cell_type": "code",
   "execution_count": null,
   "id": "5dd1be51",
   "metadata": {},
   "outputs": [],
   "source": [
    "#V.6\n",
    "# todos los ficheros en \"audio\", cuyo nombre contenga un subrayado (_) seguido de\n",
    "# dos caracteres numéricos de los cuales el primero debe ser 0 y el segundo entre 4 y 6\n",
    "find audio -type f -name \"*_0[4-6]*\"                  #@solution@"
   ]
  },
  {
   "cell_type": "code",
   "execution_count": null,
   "id": "56eae084",
   "metadata": {},
   "outputs": [],
   "source": [
    "#V.7\n",
    "# todos los ficheros en \"video\", cuyo nombre contenga las letras 'r', w' y 'v', \n",
    "# en ese orden (no necesariamente consecutivas), y acabe con \".\" seguido de tres caracteres cualquiera\n",
    "find video -type f -name \"*r*w*v*.???\"                  #@solution@"
   ]
  },
  {
   "cell_type": "code",
   "execution_count": null,
   "id": "d7661aa3",
   "metadata": {},
   "outputs": [],
   "source": [
    "#V.8\n",
    "# todos los ficheros a partir del directorio actual \n",
    "# cuyo nombre contenga la letra z pero no la letra h\n",
    "find . -type f -name \"*z*\" ! -name \"*h*\"                  #@solution@"
   ]
  },
  {
   "cell_type": "code",
   "execution_count": null,
   "id": "2bda0f98",
   "metadata": {},
   "outputs": [],
   "source": [
    "#V.9\n",
    "# todos los ficheros a partir del directorio actual \n",
    "# cuyo nombre acabe en \"mkv\" y tengan tamaño superior a 1MiB\n",
    "find . -type f -name \"*mkv\" -size +1M                  #@solution@"
   ]
  },
  {
   "cell_type": "code",
   "execution_count": null,
   "id": "41609c70",
   "metadata": {},
   "outputs": [],
   "source": [
    "#V.10\n",
    "# todos los ficheros a partir del directorio actual \n",
    "# que tengan tamaño entre 200KiB y 250KiB\n",
    "find . -type f -size +200k -size -250k                  #@solution@"
   ]
  },
  {
   "cell_type": "code",
   "execution_count": null,
   "id": "21027b7a",
   "metadata": {},
   "outputs": [],
   "source": [
    "#V.11\n",
    "# todos los ficheros a partir del directorio actual \n",
    "# que tengan fecha de modificación inferior a 1 día\n",
    "find . -type f -mtime -1                  #@solution@"
   ]
  },
  {
   "cell_type": "code",
   "execution_count": null,
   "id": "1e2f6bed",
   "metadata": {},
   "outputs": [],
   "source": [
    "#V.12\n",
    "# todos los ficheros a partir del directorio actual \n",
    "# que tengan fecha de modificación superior a 30 días\n",
    "# cuyo nombre contenga la cadena \"ice\"\n",
    "find . -type f -mtime +30 -name \"*ice*\"                  #@solution@"
   ]
  },
  {
   "cell_type": "markdown",
   "id": "f2e148c3",
   "metadata": {},
   "source": [
    "### Búsqueda de patrones en ficheros"
   ]
  },
  {
   "cell_type": "code",
   "execution_count": null,
   "id": "8a9fb693",
   "metadata": {},
   "outputs": [],
   "source": [
    "# Ejecuta esta celda para generar ficheros de prueba. En particular, vamos a\n",
    "# clonar el repositorio con el código de zsh (otro programa shell, alternativo a bash)\n",
    "mkdir -p ~/p4b-ejercicios\n",
    "cd ~/p4b-ejercicios\n",
    "rm -rf zsh\n",
    "git clone https://github.com/zsh-users/zsh.git\n",
    "cd zsh && git branch fc-tests 20739b5458d19b81afafb8b7ed96476562f69f0f"
   ]
  },
  {
   "cell_type": "code",
   "execution_count": null,
   "id": "d6816403",
   "metadata": {},
   "outputs": [],
   "source": [
    "pwd"
   ]
  },
  {
   "cell_type": "code",
   "execution_count": null,
   "id": "dbf4cd2d",
   "metadata": {},
   "outputs": [],
   "source": [
    "#V.13\n",
    "# Busca en el contenido del fichero Src/main.c aquellas líneas\n",
    "# que contengan la cadena \"shell\" \n",
    "grep shell Src/main.c                  #@solution@"
   ]
  },
  {
   "cell_type": "code",
   "execution_count": null,
   "id": "d789aa3f",
   "metadata": {},
   "outputs": [],
   "source": [
    "#V.14\n",
    "# Busca en el contenido de los ficheros de Src cuyo nombre acabe en .c\n",
    "# aquellas líneas que contengan la cadena \"BASH\" (en mayúsculas)\n",
    "grep BASH Src/*.c                  #@solution@"
   ]
  },
  {
   "cell_type": "code",
   "execution_count": null,
   "id": "97c9931f",
   "metadata": {},
   "outputs": [],
   "source": [
    "#V.15\n",
    "# Busca en el contenido de los ficheros de Src cuyo nombre acabe en .c\n",
    "# aquellas líneas que contengan la palabra \"ansi\" (no como fragmento\n",
    "# de otra function más larga), sin atender al uso de mayúsculas\n",
    "grep -wi ansi Src/*.c                  #@solution@"
   ]
  },
  {
   "cell_type": "code",
   "execution_count": null,
   "id": "9505057a",
   "metadata": {},
   "outputs": [],
   "source": [
    "#V.16\n",
    "# Busca recursivamente en el directorio actual ficheros que contengan\n",
    "# la cadena \"standard C\" (usa las comillas para quitar el significado especial al carácter espacio)\n",
    "grep -r \"standard C\" .                  #@solution@"
   ]
  },
  {
   "cell_type": "code",
   "execution_count": null,
   "id": "82286da6",
   "metadata": {},
   "outputs": [],
   "source": [
    "#V.17\n",
    "# Busca recursivamente en el directorio \"Doc\" ficheros que contengan\n",
    "# una cadena numérica que empiece por cualquier número seguido de \"567\"\n",
    "grep -r \"[0-9]567\" Doc                  #@solution@"
   ]
  },
  {
   "cell_type": "code",
   "execution_count": null,
   "id": "350864a8",
   "metadata": {},
   "outputs": [],
   "source": [
    "#V.18\n",
    "# Busca recursivamente en el directorio \"Doc\" ficheros que contengan\n",
    "# líneas que comiencen por un número seguido de un guión (-)\n",
    "grep -r \"^[0-9]-\" Doc/                  #@solution@"
   ]
  },
  {
   "cell_type": "code",
   "execution_count": null,
   "id": "ceb1d47e",
   "metadata": {},
   "outputs": [],
   "source": [
    "#V.19\n",
    "# Busca en los ficheros \"NEWS\" e \"INSTALL\" líneas que acaben por \"rary\"\n",
    "grep \"rary$\" NEWS INSTALL                  #@solution@"
   ]
  },
  {
   "cell_type": "markdown",
   "id": "969ee442",
   "metadata": {},
   "source": [
    "### Compresión y descompresión"
   ]
  },
  {
   "cell_type": "markdown",
   "id": "31a2732a-bcb4-4fdf-98e2-6a5f6898faf1",
   "metadata": {},
   "source": [
    "Este ejercicio presupone que has generado los ficheros necesarios para el ejercicio anterior y estás situado en el directorio `zsh`.\n",
    "\n",
    "En caso necesario, re-ejecuta el cuaderno desde la primera celda del ejercicio anterior."
   ]
  },
  {
   "cell_type": "code",
   "execution_count": null,
   "id": "9bb2837a",
   "metadata": {},
   "outputs": [],
   "source": [
    "pwd"
   ]
  },
  {
   "cell_type": "code",
   "execution_count": null,
   "id": "8b05328f",
   "metadata": {},
   "outputs": [],
   "source": [
    "ls"
   ]
  },
  {
   "cell_type": "code",
   "execution_count": null,
   "id": "7fdd97fb",
   "metadata": {},
   "outputs": [],
   "source": [
    "#V.20\n",
    "# Crea un fichero empaquetado con tar comprimido con gzip, llamado\n",
    "# \"zsh-doc.tar.gz\" que contenga el directorio \"Doc\" al completo, sin\n",
    "# mostrar por pantalla los ficheros que se van empaquetando\n",
    "tar zcf zsh-doc.tar.gz Doc                  #@solution@"
   ]
  },
  {
   "cell_type": "code",
   "execution_count": null,
   "id": "c1705d23",
   "metadata": {},
   "outputs": [],
   "source": [
    "#V.21\n",
    "# Crea un fichero empaquetado con tar comprimido con gzip, llamado\n",
    "# \"zsh-util-misc.tar.gz\" que contenga los ficheros ubicados en los \n",
    "# directorios \"Util\" y \"Misc\" cuyo nombre contiene la cadena \"ex\",\n",
    "# mostrando por pantalla los ficheros que se van empaquetando\n",
    "tar zcvf zsh-util-misc.tar.gz Util/*ex* Misc/*ex*                  #@solution@"
   ]
  },
  {
   "cell_type": "code",
   "execution_count": null,
   "id": "6e1e7602",
   "metadata": {},
   "outputs": [],
   "source": [
    "#V.22\n",
    "# Muestra los ficheros que hay dentro del empaquetado \"zsh-util-misc.tar.gz\"\n",
    "# sin extraer su contenido\n",
    "tar ztvf zsh-util-misc.tar.gz                  #@solution@"
   ]
  },
  {
   "cell_type": "code",
   "execution_count": null,
   "id": "acfa06db",
   "metadata": {},
   "outputs": [],
   "source": [
    "#V.23\n",
    "# Borra los ficheros ubicados en los directorios \n",
    "# \"Util\" y \"Misc\" cuyo nombre contiene la cadena \"ex\"\n",
    "rm Util/*ex* Misc/*ex*                  #@solution@"
   ]
  },
  {
   "cell_type": "code",
   "execution_count": null,
   "id": "60c3020b",
   "metadata": {},
   "outputs": [],
   "source": [
    "#V.24\n",
    "# Muestra el estado del árbol de trabajo (copia del repositorio Git de \"zsh\")\n",
    "git status                   #@solution@"
   ]
  },
  {
   "cell_type": "code",
   "execution_count": null,
   "id": "96ee2e7d",
   "metadata": {},
   "outputs": [],
   "source": [
    "#V.25\n",
    "# Desempaqueta el fichero \"zsh-util-misc.tar.gz\", mostrando\n",
    "# los ficheros que se van generando al descomprimir\n",
    "tar zxvf zsh-util-misc.tar.gz                  #@solution@"
   ]
  },
  {
   "cell_type": "code",
   "execution_count": null,
   "id": "38aaf2c8",
   "metadata": {},
   "outputs": [],
   "source": [
    "#V.26\n",
    "# Borra todos los ficheros del directorio actual que acaben en \"tar.gz\"\n",
    "rm *.tar.gz                  #@solution@"
   ]
  },
  {
   "cell_type": "code",
   "execution_count": null,
   "id": "22fdf85c",
   "metadata": {},
   "outputs": [],
   "source": [
    "#V.27\n",
    "# Muestra el estado del árbol de trabajo (copia del repositorio Git de \"zsh\")\n",
    "git status                  #@solution@"
   ]
  },
  {
   "cell_type": "markdown",
   "id": "dffca928-c855-441b-aa6c-c9cb26fcab63",
   "metadata": {},
   "source": [
    "PREGUNTA: ¿Por qué ya no aparecen ficheros en estado *borrado*?"
   ]
  },
  {
   "cell_type": "markdown",
   "id": "abfa5406-f60d-4f3e-8e68-266a177ec098",
   "metadata": {},
   "source": [
    "RESPUESTA:\n",
    "\n",
    "Porque tras descomprimir el fichero `zsh-util-misc.tar.gz` hemos restaurado dichos ficheros con idéntico contenido al que tienen en el repositorio. @solution@"
   ]
  }
 ],
 "metadata": {
  "kernelspec": {
   "display_name": "Bash",
   "language": "bash",
   "name": "bash"
  },
  "language_info": {
   "codemirror_mode": "shell",
   "file_extension": ".sh",
   "mimetype": "text/x-sh",
   "name": "bash"
  },
  "toc": {
   "base_numbering": 1,
   "nav_menu": {},
   "number_sections": true,
   "sideBar": true,
   "skip_h1_title": true,
   "title_cell": "Table of Contents",
   "title_sidebar": "Contents",
   "toc_cell": false,
   "toc_position": {
    "height": "calc(100% - 180px)",
    "left": "10px",
    "top": "150px",
    "width": "296px"
   },
   "toc_section_display": true,
   "toc_window_display": false
  }
 },
 "nbformat": 4,
 "nbformat_minor": 5
}
