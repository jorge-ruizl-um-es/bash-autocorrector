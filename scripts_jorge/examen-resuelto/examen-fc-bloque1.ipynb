{
 "cells": [
  {
   "cell_type": "markdown",
   "id": "3eaec161",
   "metadata": {},
   "source": [
    "# Bloque I: Consulta y manipulación del sistema de ficheros"
   ]
  },
  {
   "cell_type": "markdown",
   "id": "389c1029",
   "metadata": {},
   "source": [
    "Puedes **RESETEAR** los recursos del examen a su estado inicial ejecutando el siguiente comando (restaurar los ficheros de ejemplo al estado inicial)"
   ]
  },
  {
   "cell_type": "code",
   "execution_count": null,
   "id": "85710319",
   "metadata": {},
   "outputs": [],
   "source": [
    "### RESETEAR EL EXAMEN (Útil para usar Run all)\n",
    "cd\n",
    "NUM_EXAM_DIRS=$(find ~  -maxdepth 2 -type d -name \"examen-*-practicas\" 2> /dev/null | wc -l)\n",
    "if [[ $NUM_EXAM_DIRS > 1 ]]; then\n",
    "    echo \"ERROR: Se han detectado múltiples directorios de examen!\"\n",
    "    find ~  -maxdepth 2 -type d -name \"examen-*-practicas\" 2> /dev/null \n",
    "else\n",
    "    EXAM_DIR=$(find ~  -maxdepth 1 -type d -name \"examen-*-practicas\")\n",
    "    if [ -d \"$EXAM_DIR\" ]; then\n",
    "        echo \"Directorio del examen: $EXAM_DIR\"\n",
    "        echo -n \"Preparando recursos del examen...\"\n",
    "        $EXAM_DIR/examen-fc-preparar-recursos\n",
    "        echo \"OK\"\n",
    "    else\n",
    "        echo \"No se encuentra el directorio del examen\"\n",
    "    fi\n",
    "fi"
   ]
  },
  {
   "cell_type": "markdown",
   "id": "7211097e",
   "metadata": {},
   "source": [
    "Ejecuta la siguiente celda para cambiarte al directorio desde donde debes realizar los comandos del examen. **Recuerda que *NO DEBES CAMBIAR* de directorio en ningún momento**, salvo que haya una celda que así lo indique expresamente."
   ]
  },
  {
   "cell_type": "markdown",
   "id": "5433967c-cf0f-49fa-af05-79a819ab5052",
   "metadata": {},
   "source": [
    "La estructura del directorio `recursos-examen` es la siguiente:\n",
    "```\n",
    "recursos-examen/\n",
    "├── bin\n",
    "├── misc\n",
    "│   └── mygitrepo\n",
    "├── mygitrepo\n",
    "│   ├── doc\n",
    "│   └── src\n",
    "├── nano\n",
    "│   ├── doc\n",
    "│   ├── m4\n",
    "│   ├── po\n",
    "│   ├── src\n",
    "│   └── syntax\n",
    "├── sample_files\n",
    "│   ├── document\n",
    "│   └── image\n",
    "└── scripts\n",
    "```"
   ]
  },
  {
   "cell_type": "code",
   "execution_count": null,
   "id": "8d094136",
   "metadata": {},
   "outputs": [],
   "source": [
    "### RESUELTA\n",
    "cd $HOME/recursos-examen/nano "
   ]
  },
  {
   "cell_type": "markdown",
   "id": "94035782",
   "metadata": {},
   "source": [
    "Haz un **listado largo** del contenido del directorio `examen-2025-enero-practicas` donde están ubicados los *notebooks* del examen, usando **rutas relativas**, de forma que el listado esté **ordenado por tamaño**, primero los ficheros más grandes. Consulta la ayuda para encontrar la opción adecuada."
   ]
  },
  {
   "cell_type": "code",
   "execution_count": null,
   "id": "5b60d0ae",
   "metadata": {},
   "outputs": [],
   "source": [
    "#I.1\n",
    "ls -lS ../../examen-2025-enero-practicas               #@solution@"
   ]
  },
  {
   "cell_type": "markdown",
   "id": "24c83025",
   "metadata": {},
   "source": [
    "Haz un **listado del contenido íntegro** (incluyendo ocultos) de los ficheros y directorios situados en el directorio actual, cuyo nombre acabe en 'c'."
   ]
  },
  {
   "cell_type": "code",
   "execution_count": null,
   "id": "4a45e172",
   "metadata": {},
   "outputs": [],
   "source": [
    "#I.2\n",
    "ls -a *c                #@solution@"
   ]
  },
  {
   "cell_type": "markdown",
   "id": "8dcf2cc1",
   "metadata": {},
   "source": [
    "Haz un listado de los ficheros cuyo nombre acabe en 'm', que estén situados en subdirectorios del directorio actual cuyo nombre tenga tres caracteres."
   ]
  },
  {
   "cell_type": "code",
   "execution_count": null,
   "id": "d79842e7",
   "metadata": {},
   "outputs": [],
   "source": [
    "#I.3\n",
    "ls ???/*m                #@solution@"
   ]
  },
  {
   "cell_type": "markdown",
   "id": "2d1f6e81",
   "metadata": {},
   "source": [
    "Haz un listado del contenido de los subdirectorios del directorio actual cuyo nombre tenga exactamente tres caracteres, siendo la primera la 'd' o la 's', y la última una 'c'."
   ]
  },
  {
   "cell_type": "code",
   "execution_count": null,
   "id": "00aadbff",
   "metadata": {},
   "outputs": [],
   "source": [
    "#I.4\n",
    "ls [ds]?c                #@solution@"
   ]
  },
  {
   "cell_type": "markdown",
   "id": "88681d5a-bf31-4591-8003-c03d4bcacbb3",
   "metadata": {},
   "source": [
    "**TRES comandos**: Crea un directorio llamado `test` en el **directorio padre** del actual. Tras esto, en la misma celda, copia a dicho directorio los ficheros situados en `scripts` cuyo nombre contenga la cadena `gnome`. A continuación, en la misma celda, lista el contenido del directorio al que has copiado los ficheros."
   ]
  },
  {
   "cell_type": "code",
   "execution_count": null,
   "id": "677e8cb9-0593-47ba-977a-d4a98affeab4",
   "metadata": {},
   "outputs": [],
   "source": [
    "#I.5\n",
    "mkdir ../test; cp ../scripts/*gnome* ../test; ls ../test   #@solution@"
   ]
  },
  {
   "cell_type": "markdown",
   "id": "4ab79929",
   "metadata": {},
   "source": [
    "**DOS COMANDOS**: Usa el comando adecuado para averiguar la ruta absoluta del comando `cat` y luego, crea una copia de dicho comando `cat` en el directorio actual, de forma que la copia se llame `mostrar`."
   ]
  },
  {
   "cell_type": "code",
   "execution_count": null,
   "id": "6f9e6d57",
   "metadata": {},
   "outputs": [],
   "source": [
    "#I.6\n",
    "whereis cat; cp /usr/bin/cat mostrar               #@solution@"
   ]
  },
  {
   "cell_type": "markdown",
   "id": "fddacebb-3c2a-4c25-a828-17f576eb7b7b",
   "metadata": {},
   "source": [
    "**TRES COMANDOS**: Ejecuta el fichero `mostrar`, pasándole como argumento el fichero `TODO`. Después, muestra una línea formada por diez asteriscos. Finalmente, muestra el contenido de dicho fichero por pantalla con el comando `cat`."
   ]
  },
  {
   "cell_type": "code",
   "execution_count": null,
   "id": "b7951e74-c137-48b7-b50d-c4e895c4674c",
   "metadata": {},
   "outputs": [],
   "source": [
    "#I.7\n",
    "./mostrar TODO; echo \"*********\"; cat TODO               #@solution@"
   ]
  },
  {
   "cell_type": "markdown",
   "id": "de6954df",
   "metadata": {},
   "source": [
    "**DOS COMANDOS:** Reubica el fichero `mostrar` para que pase a estar situado en el directorio `test` creado anteriormente. Después, lista el contenido de dicho directorio."
   ]
  },
  {
   "cell_type": "code",
   "execution_count": null,
   "id": "24985573",
   "metadata": {},
   "outputs": [],
   "source": [
    "#I.8\n",
    "mv mostrar ../test; ls ../test               #@solution@"
   ]
  },
  {
   "cell_type": "markdown",
   "id": "e5b87f8a",
   "metadata": {},
   "source": [
    "**DOS COMANDOS:** Crea una copia íntegra del directorio `src` llamada `source-nano`, situada en el directorio `test`. Después, haz un listado recursivo del directorio `test`."
   ]
  },
  {
   "cell_type": "code",
   "execution_count": null,
   "id": "b785d7ff",
   "metadata": {
    "scrolled": true
   },
   "outputs": [],
   "source": [
    "#I.9\n",
    "cp -r src ../test/source-nano; ls -R ../test               #@solution@"
   ]
  },
  {
   "cell_type": "markdown",
   "id": "5b0edc64-0515-4f93-b796-79330a4b3f5d",
   "metadata": {},
   "source": [
    "Copia al directorio `test` que has creado, los ficheros situados en cualquier subdirectorio inmediato de `document` (dentro de `sample_files`), cuyo nombre contenga el número 5 y termine por `pdf` o `rtf`."
   ]
  },
  {
   "cell_type": "code",
   "execution_count": null,
   "id": "48aabdb4-99e0-4634-8dcf-80babfe3a257",
   "metadata": {},
   "outputs": [],
   "source": [
    "#I.10\n",
    "cp ../sample_files/document/*/*5*{pdf,rtf} ../test                         #@solution@"
   ]
  },
  {
   "cell_type": "markdown",
   "id": "3cfa4b03-7727-45ec-b766-7482ccfc71e1",
   "metadata": {},
   "source": [
    "**DOS COMANDOS**: Elimina los ficheros de `test` cuyo nombre **no** comience por una letra entre la 'j' y la 'z'. A continuación, lista el contenido de dicho directorio."
   ]
  },
  {
   "cell_type": "code",
   "execution_count": null,
   "id": "4d037025",
   "metadata": {},
   "outputs": [],
   "source": [
    "#I.11\n",
    "rm ../test/[!l-z]*; ls ../test               #@solution@"
   ]
  },
  {
   "cell_type": "markdown",
   "id": "24abf994",
   "metadata": {},
   "source": [
    "Crea en el directorio personal, un fichero comprimido empaquetado llamado `boletines.tar.gz` que contenga todo lo que hay en el directorio `boletines` situado en el directorio del examen. Se deben mostrar por pantalla los ficheros comprimidos."
   ]
  },
  {
   "cell_type": "code",
   "execution_count": null,
   "id": "7a54f1d6",
   "metadata": {},
   "outputs": [],
   "source": [
    "#I.12\n",
    "tar zcvf  ~/boletines.tar.gz ~/examen-2025-enero-practicas/boletines               #@solution@"
   ]
  },
  {
   "cell_type": "markdown",
   "id": "f9f60423-7ec5-4225-8ab2-1a89917d56e8",
   "metadata": {},
   "source": [
    "**DOS COMANDOS**: Elimina el permiso de ejecución sobre el fichero `autogen.sh`, de forma que sólo el propietario pueda ejecutarlo, pero no los miembros del grupo ni el resto de usuarios. A continuación, haz un listado largo de dicho fichero que muestre los permisos."
   ]
  },
  {
   "cell_type": "code",
   "execution_count": null,
   "id": "53d1bbd8",
   "metadata": {},
   "outputs": [],
   "source": [
    "#I.13\n",
    "chmod 744 autogen.sh; ls -l autogen.sh              #@solution@"
   ]
  },
  {
   "cell_type": "markdown",
   "id": "7b23bc29-9cdf-4920-b817-1fe14fb599ef",
   "metadata": {},
   "source": [
    "**DOS COMANDOS**: Establece los permisos adecuados para que nadie pueda cambiar el contenido de los ficheros situados en el directorio `src` del directorio actual, pero cualquiera pueda ver su contenido. Después, haz un listado largo del contenido de dicho directorio."
   ]
  },
  {
   "cell_type": "code",
   "execution_count": null,
   "id": "9e8aa91c-6ff2-4b99-a04f-faf29fa03777",
   "metadata": {},
   "outputs": [],
   "source": [
    "#I.14\n",
    "chmod 444 src/*; ls -l src              #@solution@"
   ]
  },
  {
   "cell_type": "markdown",
   "id": "d2d9e0c1-b367-4b5c-bd22-cdb9e1db10d8",
   "metadata": {},
   "source": [
    "**DOS COMANDOS**: Muestra el espacio ocupado por los subdirectorios del directorio actual cuyo nombre tenga exactamente tres caracteres, de manera resumida y en unidades fácilmente legibles. Después, muestra el espacio libre en el sistema de ficheros donde está el directorio personal del usuario, de forma que las unidades sean legible por humanos usando potencias de 1000 en vez de potencias de 1024."
   ]
  },
  {
   "cell_type": "code",
   "execution_count": null,
   "id": "a532ef3f-1eda-468b-b99a-2be1422a9300",
   "metadata": {},
   "outputs": [],
   "source": [
    "#I.15\n",
    "du -h ???; df -H ~           #@solution@"
   ]
  },
  {
   "cell_type": "markdown",
   "id": "0fe5e304",
   "metadata": {},
   "source": [
    "[Haz clic aquí para pasar a las preguntas del bloque 2 (Búsquedas)](./examen-fc-bloque2.ipynb)"
   ]
  }
 ],
 "metadata": {
  "kernelspec": {
   "display_name": "Bash",
   "language": "bash",
   "name": "bash"
  },
  "language_info": {
   "codemirror_mode": "shell",
   "file_extension": ".sh",
   "mimetype": "text/x-sh",
   "name": "bash"
  },
  "toc": {
   "base_numbering": 1,
   "nav_menu": {},
   "number_sections": true,
   "sideBar": true,
   "skip_h1_title": false,
   "title_cell": "Table of Contents",
   "title_sidebar": "Contents",
   "toc_cell": false,
   "toc_position": {},
   "toc_section_display": true,
   "toc_window_display": false
  }
 },
 "nbformat": 4,
 "nbformat_minor": 5
}
