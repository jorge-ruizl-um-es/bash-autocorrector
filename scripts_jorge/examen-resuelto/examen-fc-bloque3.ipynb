{
 "cells": [
  {
   "cell_type": "markdown",
   "id": "f66af509",
   "metadata": {},
   "source": [
    "# Bloque III: Gestión de procesos. Redireccionamiento. Tuberías"
   ]
  },
  {
   "cell_type": "markdown",
   "id": "c17d0b35",
   "metadata": {},
   "source": [
    "Ejecuta la siguiente celda para cambiarte al directorio padre"
   ]
  },
  {
   "cell_type": "markdown",
   "id": "336d331b",
   "metadata": {},
   "source": [
    "Puedes **RESETEAR** los recursos del examen a su estado inicial ejecutando el siguiente comando (restaurar los ficheros de ejemplo al estado inicial)"
   ]
  },
  {
   "cell_type": "code",
   "execution_count": null,
   "id": "eb22e04f",
   "metadata": {},
   "outputs": [],
   "source": [
    "### RESETEAR EL EXAMEN (Útil para usar Run all)\n",
    "cd\n",
    "NUM_EXAM_DIRS=$(find ~  -maxdepth 2 -type d -name \"examen-*-practicas\" 2> /dev/null | wc -l)\n",
    "if [[ $NUM_EXAM_DIRS > 1 ]]; then\n",
    "    echo \"ERROR: Se han detectado múltiples directorios de examen!\"\n",
    "    find ~  -maxdepth 2 -type d -name \"examen-*-practicas\" 2> /dev/null \n",
    "else\n",
    "    EXAM_DIR=$(find ~  -maxdepth 1 -type d -name \"examen-*-practicas\")\n",
    "    if [ -d \"$EXAM_DIR\" ]; then\n",
    "        echo \"Directorio del examen: $EXAM_DIR\"\n",
    "        echo -n \"Preparando recursos del examen...\"\n",
    "        $EXAM_DIR/examen-fc-preparar-recursos\n",
    "        echo \"OK\"\n",
    "    else\n",
    "        echo \"No se encuentra el directorio del examen\"\n",
    "    fi\n",
    "fi"
   ]
  },
  {
   "cell_type": "code",
   "execution_count": null,
   "id": "1b8f9945",
   "metadata": {},
   "outputs": [],
   "source": [
    "### RESUELTA\n",
    "cd $HOME/recursos-examen/nano"
   ]
  },
  {
   "cell_type": "code",
   "execution_count": null,
   "id": "1e0a9db9-6187-40e4-ae43-480c64aeba3f",
   "metadata": {},
   "outputs": [],
   "source": [
    "ls"
   ]
  },
  {
   "cell_type": "markdown",
   "id": "6164cf9a",
   "metadata": {},
   "source": [
    "Crea un fichero llamado `noticias`, con las últimas 2 líneas del fichero `NEWS` que  contienen la cadena \"editor\"."
   ]
  },
  {
   "cell_type": "code",
   "execution_count": null,
   "id": "b60e4706",
   "metadata": {},
   "outputs": [],
   "source": [
    "#III.1\n",
    "grep \"editor\" NEWS | tail -n2 > noticias                 #@solution@"
   ]
  },
  {
   "cell_type": "markdown",
   "id": "d9640b11",
   "metadata": {},
   "source": [
    "Ejecuta un comando para añadir al fichero `noticias` que has creado en el paso anterior, aquellas líneas no vacías de entre las 5 primeras líneas del fichero `IMPROVEMENTS`, de forma que las líneas añadidas aparezcan numeradas."
   ]
  },
  {
   "cell_type": "code",
   "execution_count": null,
   "id": "6998d073",
   "metadata": {},
   "outputs": [],
   "source": [
    "#III.2\n",
    "head -n 5 IMPROVEMENTS | grep -v ^$ | nl  >> noticias                 #@solution@"
   ]
  },
  {
   "cell_type": "code",
   "execution_count": null,
   "id": "ec42ef2b-ef7a-49a4-865d-b5957f4665ef",
   "metadata": {},
   "outputs": [],
   "source": [
    "cat noticias"
   ]
  },
  {
   "cell_type": "markdown",
   "id": "998bdce8",
   "metadata": {},
   "source": [
    "Busca en el directorio `/etc` todos los ficheros regulares cuyo nombre acabe en `init`, de forma que los posibles mensajes de error que pueda generar dicho comando sean descartados (no aparezcan por la pantalla ni se guarden en ningún fichero) y los ficheros encontrados se guarden en el fichero `ficheros_init`."
   ]
  },
  {
   "cell_type": "code",
   "execution_count": null,
   "id": "3f57bfcd",
   "metadata": {},
   "outputs": [],
   "source": [
    "#III.3\n",
    "find /etc -type f -name \"*init\" > ficheros_init  2>/dev/null               #@solution@"
   ]
  },
  {
   "cell_type": "code",
   "execution_count": null,
   "id": "09a382a2-528b-4834-8d6d-7d1afa2c5f86",
   "metadata": {},
   "outputs": [],
   "source": [
    "cat ficheros_init"
   ]
  },
  {
   "cell_type": "markdown",
   "id": "1f0f2913",
   "metadata": {},
   "source": [
    "**DOS COMANDOS**: Ejecuta el comando `sleep` en segundo plano para que duerma una hora. Seguidamente, muestra los procesos lanzados en el *shell* actual (este *notebook*)."
   ]
  },
  {
   "cell_type": "code",
   "execution_count": null,
   "id": "757989c5",
   "metadata": {},
   "outputs": [],
   "source": [
    "#III.4\n",
    "sleep 1h & ps            #@solution@"
   ]
  },
  {
   "cell_type": "markdown",
   "id": "c7b07497-535f-42af-a948-7b784d0b73bc",
   "metadata": {},
   "source": [
    "\n"
   ]
  },
  {
   "cell_type": "markdown",
   "id": "ba67d3a0-0ffa-43a6-ae73-3436e69ca8d4",
   "metadata": {},
   "source": [
    "Sabiendo que el comando `pmap` muestra el *mapa de memoria* (espacio de direcciones virtual) de un proceso identificado por su PID, muestra el mapa de memoria del proceso `sleep` que has lanzado previamente **sin necesidad de usar un PID específico** (localizando el PID mediante un comando). Debes filtrar de forma adecuada la salida de `pmap` para que sólo se muestre por pantalla la región de memoria en la que se ubica el código de la biblioteca del sistema `libc`. (*Recuerda: Las regiones de memoria que contienen código deben tener permisos de ejecución)"
   ]
  },
  {
   "cell_type": "code",
   "execution_count": null,
   "id": "cf317ee9-13b8-4c78-912d-1e230146a54f",
   "metadata": {},
   "outputs": [],
   "source": [
    "#III.5\n",
    "pmap $(pgrep sleep) | grep libc | grep r-x     #@solution@"
   ]
  },
  {
   "cell_type": "markdown",
   "id": "c309dbed",
   "metadata": {},
   "source": [
    "Ejecuta un comando para terminar forzosamente con los procesos en ejecución cuyo comando sea `sleep`, mediante el envío de una señal."
   ]
  },
  {
   "cell_type": "code",
   "execution_count": null,
   "id": "e795e324",
   "metadata": {},
   "outputs": [],
   "source": [
    "#III.6\n",
    "pkill -9 sleep               #@solution@"
   ]
  },
  {
   "cell_type": "markdown",
   "id": "6341e822",
   "metadata": {},
   "source": [
    "Muestra el total de líneas tienen aquellos ficheros del directorio `src` en los que aparece la palabra `linux`."
   ]
  },
  {
   "cell_type": "code",
   "execution_count": null,
   "id": "e625454c",
   "metadata": {},
   "outputs": [],
   "source": [
    "#III.7\n",
    "wc -l $(grep -rl linux src) | grep total              #@solution@"
   ]
  },
  {
   "cell_type": "markdown",
   "id": "ce899017",
   "metadata": {},
   "source": [
    "De entre los ficheros del directorio `syntax` cuyo nombre contiene la cadena `java`, muestra las ocurrencias de la palabra `yellow` junto con su número de línea. "
   ]
  },
  {
   "cell_type": "code",
   "execution_count": null,
   "id": "5ca2cb6e",
   "metadata": {},
   "outputs": [],
   "source": [
    "#III.8\n",
    "grep -nw yellow $(find syntax -name \"*java*\")               #@solution@"
   ]
  },
  {
   "cell_type": "markdown",
   "id": "d3224ff5",
   "metadata": {},
   "source": [
    "Muestra la lista de directorios en los que el *shell* busca los programas para que puedan ejecutarse sin necesidad de indicar su ruta completa."
   ]
  },
  {
   "cell_type": "markdown",
   "id": "3187229c",
   "metadata": {},
   "source": [
    "[Haz clic aquí para pasar a las preguntas del bloque 4 (git)](./examen-fc-bloque4.ipynb)"
   ]
  }
 ],
 "metadata": {
  "kernelspec": {
   "display_name": "Bash",
   "language": "bash",
   "name": "bash"
  },
  "language_info": {
   "codemirror_mode": "shell",
   "file_extension": ".sh",
   "mimetype": "text/x-sh",
   "name": "bash"
  },
  "toc": {
   "base_numbering": 1,
   "nav_menu": {},
   "number_sections": true,
   "sideBar": true,
   "skip_h1_title": false,
   "title_cell": "Table of Contents",
   "title_sidebar": "Contents",
   "toc_cell": false,
   "toc_position": {},
   "toc_section_display": true,
   "toc_window_display": false
  }
 },
 "nbformat": 4,
 "nbformat_minor": 5
}
