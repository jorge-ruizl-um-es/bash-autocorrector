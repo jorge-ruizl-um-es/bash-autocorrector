{
 "cells": [
  {
   "cell_type": "markdown",
   "id": "44dc40b0",
   "metadata": {},
   "source": [
    "# Bloque II: Búsquedas"
   ]
  },
  {
   "cell_type": "markdown",
   "id": "c8372aff",
   "metadata": {},
   "source": [
    "Ejecuta la siguiente celda para empezar este bloque. También puedes hacerlo para restaurar los ficheros del examen a su estado inicial y volver a ejecutar el *notebook* desde el principio."
   ]
  },
  {
   "cell_type": "code",
   "execution_count": null,
   "id": "92309e31",
   "metadata": {},
   "outputs": [],
   "source": [
    "### EMPEZAR/RESTAURAR LOS FICHEROS DE PRUEBA DEL EXAMEN\n",
    "cd\n",
    "EXAM_DIR=$(find ~ -name \"examen-*-practicas\")\n",
    "FILES_DIR=\"$HOME/recursos-examen\"\n",
    "# Suprimimos el alias de \"rm -i\"\n",
    "unalias rm 2> /dev/null || true\n",
    "# Borramos el directorio de recursos\n",
    "chmod -R +w $FILES_DIR && rm -rf $FILES_DIR\n",
    "# Regeneramos el directorio de recursos\n",
    "$EXAM_DIR/examen-fc-preparar-recursos\n",
    "# Mostramos la estructura del árbol de directorios\n",
    "tree -L 2 -d $FILES_DIR\n",
    "# Nos cambiamos al mismo\n",
    "cd $FILES_DIR"
   ]
  },
  {
   "cell_type": "markdown",
   "id": "a03491b3",
   "metadata": {},
   "source": [
    "Tras ejecutar la celda anterior, te debes encontrar en el directorio `recursos-examen` que hay en la carpeta de usuario."
   ]
  },
  {
   "cell_type": "code",
   "execution_count": null,
   "id": "b4814f59",
   "metadata": {},
   "outputs": [],
   "source": [
    "pwd"
   ]
  },
  {
   "cell_type": "markdown",
   "id": "557dbb09",
   "metadata": {},
   "source": [
    "Teniendo en cuenta que estás situado en dicho directorio actualmente, responde a las siguientes preguntas."
   ]
  },
  {
   "cell_type": "markdown",
   "id": "396d61ff",
   "metadata": {},
   "source": [
    "Encuentra todos los directorios que cuelgan de `files`, que hayan sido modificados hace más de 60 días:"
   ]
  },
  {
   "cell_type": "code",
   "execution_count": null,
   "id": "d6237c9a",
   "metadata": {},
   "outputs": [],
   "source": [
    "#II.1\n",
    "find files -type d -mtime +60"
   ]
  },
  {
   "cell_type": "markdown",
   "id": "ee97732c",
   "metadata": {},
   "source": [
    "SALIDA:\n",
    "```\n",
    "files/video\n",
    "files/image/bmp/cc\n",
    "files/document/txt\n",
    "```"
   ]
  },
  {
   "cell_type": "markdown",
   "id": "82f81546",
   "metadata": {},
   "source": [
    "Encuentra entre los directorios que cuelgan del directorio `files` a cualquier profundidad, aquellos cuyo nombre tenga exactamente tres caracteres."
   ]
  },
  {
   "cell_type": "code",
   "execution_count": null,
   "id": "c461486d",
   "metadata": {},
   "outputs": [],
   "source": [
    "#II.2\n",
    "find files -type d -name \"???\""
   ]
  },
  {
   "cell_type": "markdown",
   "id": "6acac978",
   "metadata": {},
   "source": [
    "SALIDA:\n",
    "```\n",
    "files/document/pdf\n",
    "files/document/doc\n",
    "files/document/txt\n",
    "files/document/xls\n",
    "files/mix\n",
    "files/docs/pdf\n",
    "files/docs/doc\n",
    "files/docs/txt\n",
    "files/docs/xls\n",
    "files/audio/wav\n",
    "files/audio/mp3\n",
    "files/audio/wma\n",
    "files/audio/ogg\n",
    "files/video/mkv\n",
    "files/video/mov\n",
    "files/video/flv\n",
    "files/video/mp4\n",
    "files/image/jpg\n",
    "files/image/bmp\n",
    "files/image/gif\n",
    "files/image/png\n",
    "```"
   ]
  },
  {
   "cell_type": "markdown",
   "id": "3457f6b6",
   "metadata": {},
   "source": [
    "Encuentra entre los ficheros regulares que cuelgan del directorio `image` a cualquier profundidad, aquellos cuyo nombre empiece con una letra entre la 'm' y la 'z' y no acabe con la letra 'g'."
   ]
  },
  {
   "cell_type": "code",
   "execution_count": null,
   "id": "1ff8018c",
   "metadata": {},
   "outputs": [],
   "source": [
    "#II.3\n",
    "find files/image -type f -iname \"[m-z]*[!g]\""
   ]
  },
  {
   "cell_type": "markdown",
   "id": "1301c437",
   "metadata": {},
   "source": [
    "SALIDA:\n",
    "```\n",
    "files/image/bmp/pitbul.bmp\n",
    "files/image/gif/t_rex.gif\n",
    "```"
   ]
  },
  {
   "cell_type": "markdown",
   "id": "6a164e20",
   "metadata": {},
   "source": [
    "Encuentra entre los ficheros regulares que cuelgan del directorio actual a cualquier profundidad, aquellos cuyo nombre empiece por la letra 'c', y cuyo tamaño esté comprendido entre los 250 y 300 KiB."
   ]
  },
  {
   "cell_type": "code",
   "execution_count": null,
   "id": "864f9f69",
   "metadata": {},
   "outputs": [],
   "source": [
    "#II.4\n",
    "find . -type f -iname \"c*\" -size +250k -size -300k"
   ]
  },
  {
   "cell_type": "markdown",
   "id": "0093179a",
   "metadata": {},
   "source": [
    "```\n",
    "./files/video/mp4/cherry_flower_blossom.mp4\n",
    "```"
   ]
  },
  {
   "cell_type": "markdown",
   "id": "c5f2592e",
   "metadata": {},
   "source": [
    "Muestra las ocurrencias de la cadena \"bugfix\" en el fichero `AUTHORS` ubicado en el directorio `nano`."
   ]
  },
  {
   "cell_type": "code",
   "execution_count": null,
   "id": "cb08ba85",
   "metadata": {},
   "outputs": [],
   "source": [
    "#II.5\n",
    "grep bugfix nano/AUTHORS"
   ]
  },
  {
   "cell_type": "markdown",
   "id": "bde95758",
   "metadata": {},
   "source": [
    "```\n",
    "  follow symlink option and bugfixes, and much more.\n",
    "\t* Wrap and justify bugfixes/enhancements, new color syntax\n",
    "```"
   ]
  },
  {
   "cell_type": "markdown",
   "id": "592de1da",
   "metadata": {},
   "source": [
    "Encuentra todas las líneas que acaban en \"160\" entre los ficheros dentro del directorio `po` que hay en `nano` cuyo nombre empieza por 'i' y acaban con \".po\"."
   ]
  },
  {
   "cell_type": "code",
   "execution_count": null,
   "id": "ce5b2710",
   "metadata": {},
   "outputs": [],
   "source": [
    "#II.6\n",
    "grep \"160$\" nano/po/i*.po"
   ]
  },
  {
   "cell_type": "markdown",
   "id": "81704d37",
   "metadata": {},
   "source": [
    "SALIDA:\n",
    "```\n",
    "nano/po/id.po:#: src/files.c:1160\n",
    "nano/po/is.po:#: src/files.c:1160\n",
    "nano/po/it.po:#: src/files.c:1160\n",
    "```"
   ]
  },
  {
   "cell_type": "markdown",
   "id": "04b10d1f",
   "metadata": {},
   "source": [
    "Muestra las ocurrencias de cadenas formadas cinco caracteres numéricos consecutivos, de los cuales los tres últimos deben ser \"456\", entre los ficheros del directorio `nano` cuyo nombre empiece por la letra 'C'."
   ]
  },
  {
   "cell_type": "code",
   "execution_count": null,
   "id": "51204aab",
   "metadata": {},
   "outputs": [],
   "source": [
    "#II.7\n",
    "grep \"[0-9][0-9]456\" nano/C*"
   ]
  },
  {
   "cell_type": "markdown",
   "id": "239290a8",
   "metadata": {},
   "source": [
    "```\n",
    "nano/ChangeLog.2007-2015:\tThis addresses Debian bug #664456 reported by Shawn Landden.\n",
    "nano/ChangeLog.2007-2015:\tIf wished, the user can unbind them.  This fixes Savannah bug #42456.\n",
    "```"
   ]
  },
  {
   "cell_type": "markdown",
   "id": "2210027b",
   "metadata": {},
   "source": [
    "Busca recursivamente dentro del directorio `nano` aquellas ocurrencias de la cadena \"int main\" al principio de la línea, y muestra el número de línea además del nombre del fichero."
   ]
  },
  {
   "cell_type": "code",
   "execution_count": null,
   "id": "1cf5b3b2",
   "metadata": {},
   "outputs": [],
   "source": [
    "#II.8\n",
    "grep -nr \"^int main\" nano/* "
   ]
  },
  {
   "cell_type": "markdown",
   "id": "047c1d8d",
   "metadata": {},
   "source": [
    "SALIDA:\n",
    "```\n",
    "nano/configure.ac:538:int main(void)\n",
    "nano/configure.ac:549:int main(void)\n",
    "nano/src/nano.c:1703:int main(int argc, char **argv)\n",
    "```"
   ]
  },
  {
   "cell_type": "markdown",
   "id": "38bd9729",
   "metadata": {},
   "source": [
    "Crea en el directorio actual un fichero archivador comprimido empaquetado mediante tar, llamado `media.tar.gz` que contenga todos los archivos de los directorios `audio` y `video` (situados en `files`)."
   ]
  },
  {
   "cell_type": "code",
   "execution_count": null,
   "id": "8ba318c9",
   "metadata": {},
   "outputs": [],
   "source": [
    "#II.9\n",
    "tar czvf media.tar.gz files/{audio,video}"
   ]
  },
  {
   "cell_type": "markdown",
   "id": "9b5e1584",
   "metadata": {},
   "source": [
    "Muestra el espacio en disco ocupado por los subdirectorios `audio`, `image` y `video`, de forma que se muestre únicamente el tamaño total ocupado por cada uno de estos tres directorios, y lo haga en unidades fácilmente legibles (KiB, MiB, etc.)."
   ]
  },
  {
   "cell_type": "code",
   "execution_count": null,
   "id": "2ad10169",
   "metadata": {},
   "outputs": [],
   "source": [
    "#II.10\n",
    "du -hs files/audio files/image files/video"
   ]
  },
  {
   "cell_type": "markdown",
   "id": "6ac72c26",
   "metadata": {},
   "source": [
    "SALIDA:\n",
    "```\n",
    "2,7M\tfiles/audio\n",
    "3,6M\tfiles/image\n",
    "5,8M\tfiles/video\n",
    "```"
   ]
  },
  {
   "cell_type": "markdown",
   "id": "6b4d6cf1",
   "metadata": {},
   "source": [
    "[Haz clic aquí para pasar a las preguntas del bloque 3 (Procesos)](./examen-fc-bloque3.ipynb)"
   ]
  }
 ],
 "metadata": {
  "kernelspec": {
   "display_name": "Bash",
   "language": "bash",
   "name": "bash"
  },
  "language_info": {
   "codemirror_mode": "shell",
   "file_extension": ".sh",
   "mimetype": "text/x-sh",
   "name": "bash"
  },
  "toc": {
   "base_numbering": 1,
   "nav_menu": {},
   "number_sections": true,
   "sideBar": true,
   "skip_h1_title": false,
   "title_cell": "Table of Contents",
   "title_sidebar": "Contents",
   "toc_cell": false,
   "toc_position": {},
   "toc_section_display": true,
   "toc_window_display": false
  }
 },
 "nbformat": 4,
 "nbformat_minor": 5
}
