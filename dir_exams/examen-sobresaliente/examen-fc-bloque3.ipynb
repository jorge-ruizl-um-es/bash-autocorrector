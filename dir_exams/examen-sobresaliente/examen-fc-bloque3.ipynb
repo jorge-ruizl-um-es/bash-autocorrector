{
 "cells": [
  {
   "cell_type": "markdown",
   "id": "f66af509",
   "metadata": {},
   "source": [
    "# Bloque III: Gestión de procesos. Redireccionamiento. Tuberías"
   ]
  },
  {
   "cell_type": "markdown",
   "id": "c17d0b35",
   "metadata": {},
   "source": [
    "Ejecuta la siguiente celda para cambiarte al directorio padre"
   ]
  },
  {
   "cell_type": "markdown",
   "id": "336d331b",
   "metadata": {},
   "source": [
    "Puedes **RESETEAR** los recursos del examen a su estado inicial ejecutando el siguiente comando (restaurar los ficheros de ejemplo al estado inicial)"
   ]
  },
  {
   "cell_type": "code",
   "execution_count": 1,
   "id": "eb22e04f",
   "metadata": {},
   "outputs": [
    {
     "name": "stdout",
     "output_type": "stream",
     "text": [
      "Directorio del examen: /home/examen01/examen-2025-enero-practicas\n",
      "Preparando recursos del examen...OK\n"
     ]
    }
   ],
   "source": [
    "### RESETEAR EL EXAMEN (Útil para usar Run all)\n",
    "cd\n",
    "NUM_EXAM_DIRS=$(find ~  -maxdepth 2 -type d -name \"examen-*-practicas\" 2> /dev/null | wc -l)\n",
    "if [[ $NUM_EXAM_DIRS > 1 ]]; then\n",
    "    echo \"ERROR: Se han detectado múltiples directorios de examen!\"\n",
    "    find ~  -maxdepth 2 -type d -name \"examen-*-practicas\" 2> /dev/null \n",
    "else\n",
    "    EXAM_DIR=$(find ~  -maxdepth 1 -type d -name \"examen-*-practicas\")\n",
    "    if [ -d \"$EXAM_DIR\" ]; then\n",
    "        echo \"Directorio del examen: $EXAM_DIR\"\n",
    "        echo -n \"Preparando recursos del examen...\"\n",
    "        $EXAM_DIR/examen-fc-preparar-recursos\n",
    "        echo \"OK\"\n",
    "    else\n",
    "        echo \"No se encuentra el directorio del examen\"\n",
    "    fi\n",
    "fi"
   ]
  },
  {
   "cell_type": "code",
   "execution_count": 2,
   "id": "1b8f9945",
   "metadata": {},
   "outputs": [],
   "source": [
    "### RESUELTA\n",
    "cd $HOME/recursos-examen/nano"
   ]
  },
  {
   "cell_type": "code",
   "execution_count": 3,
   "id": "1e0a9db9-6187-40e4-ae43-480c64aeba3f",
   "metadata": {},
   "outputs": [
    {
     "name": "stdout",
     "output_type": "stream",
     "text": [
      "AUTHORS              configure.ac  \u001b[0m\u001b[01;34mm4\u001b[0m            README             THANKS\n",
      "\u001b[01;32mautogen.sh\u001b[0m           COPYING       Makefile.am   README.hacking     TODO\n",
      "ChangeLog            COPYING.DOC   \u001b[01;32mnano-regress\u001b[0m  \u001b[01;32mroll-a-release.sh\u001b[0m\n",
      "ChangeLog.1999-2006  \u001b[01;34mdoc\u001b[0m           NEWS          \u001b[01;34msrc\u001b[0m\n",
      "ChangeLog.2007-2015  IMPROVEMENTS  \u001b[01;34mpo\u001b[0m            \u001b[01;34msyntax\u001b[0m\n"
     ]
    }
   ],
   "source": [
    "ls"
   ]
  },
  {
   "cell_type": "markdown",
   "id": "6164cf9a",
   "metadata": {},
   "source": [
    "Crea un fichero llamado `noticias`, con las últimas 2 líneas del fichero `NEWS` que  contienen la cadena \"editor\"."
   ]
  },
  {
   "cell_type": "code",
   "execution_count": 4,
   "id": "b60e4706",
   "metadata": {},
   "outputs": [],
   "source": [
    "#III.1\n",
    "cat NEWS | grep \"editor\" | tail -n2  > noticias"
   ]
  },
  {
   "cell_type": "markdown",
   "id": "d9640b11",
   "metadata": {},
   "source": [
    "Ejecuta un comando para añadir al fichero `noticias` que has creado en el paso anterior, aquellas líneas no vacías de entre las 5 primeras líneas del fichero `IMPROVEMENTS`, de forma que las líneas añadidas aparezcan numeradas."
   ]
  },
  {
   "cell_type": "code",
   "execution_count": 5,
   "id": "6998d073",
   "metadata": {},
   "outputs": [],
   "source": [
    "#III.2\n",
    "cat IMPROVEMENTS | head -n5 | grep -v \"^$\" | nl >> noticias"
   ]
  },
  {
   "cell_type": "code",
   "execution_count": 6,
   "id": "ec42ef2b-ef7a-49a4-865d-b5957f4665ef",
   "metadata": {},
   "outputs": [
    {
     "name": "stdout",
     "output_type": "stream",
     "text": [
      "             function just changes the way tabs LOOK in the editor,\n",
      "             smaller or bigger while in the editor.  New in the\n",
      "     1\tImprovements in GNU nano\n",
      "     2\t========================\n",
      "     3\tSince 7.0:\n",
      "     4\t  - String binds may contain bindable function names between braces.\n"
     ]
    }
   ],
   "source": [
    "cat noticias"
   ]
  },
  {
   "cell_type": "markdown",
   "id": "998bdce8",
   "metadata": {},
   "source": [
    "Busca en el directorio `/etc` todos los ficheros regulares cuyo nombre acabe en `init`, de forma que los posibles mensajes de error que pueda generar dicho comando sean descartados (no aparezcan por la pantalla ni se guarden en ningún fichero) y los ficheros encontrados se guarden en el fichero `ficheros_init`."
   ]
  },
  {
   "cell_type": "code",
   "execution_count": 7,
   "id": "3f57bfcd",
   "metadata": {},
   "outputs": [
    {
     "ename": "",
     "evalue": "1",
     "output_type": "error",
     "traceback": []
    }
   ],
   "source": [
    "#III.3\n",
    "find /etc -type f -name \"*init\" > ficheros_init 2> /dev/null"
   ]
  },
  {
   "cell_type": "code",
   "execution_count": null,
   "id": "09a382a2-528b-4834-8d6d-7d1afa2c5f86",
   "metadata": {},
   "outputs": [],
   "source": [
    "cat ficheros_init"
   ]
  },
  {
   "cell_type": "markdown",
   "id": "1f0f2913",
   "metadata": {},
   "source": [
    "**DOS COMANDOS**: Ejecuta el comando `sleep` en segundo plano para que duerma una hora. Seguidamente, muestra los procesos lanzados en el *shell* actual (este *notebook*)."
   ]
  },
  {
   "cell_type": "code",
   "execution_count": 8,
   "id": "757989c5",
   "metadata": {},
   "outputs": [
    {
     "name": "stdout",
     "output_type": "stream",
     "text": [
      "[1] 7617\n",
      "    PID TTY          TIME CMD\n",
      "   7577 pts/13   00:00:00 bash\n",
      "   7617 pts/13   00:00:00 sleep\n",
      "   7618 pts/13   00:00:00 ps\n"
     ]
    }
   ],
   "source": [
    "#III.4\n",
    "sleep 3600 & ps "
   ]
  },
  {
   "cell_type": "markdown",
   "id": "c7b07497-535f-42af-a948-7b784d0b73bc",
   "metadata": {},
   "source": [
    "\n"
   ]
  },
  {
   "cell_type": "markdown",
   "id": "ba67d3a0-0ffa-43a6-ae73-3436e69ca8d4",
   "metadata": {},
   "source": [
    "Sabiendo que el comando `pmap` muestra el *mapa de memoria* (espacio de direcciones virtual) de un proceso identificado por su PID, muestra el mapa de memoria del proceso `sleep` que has lanzado previamente **sin necesidad de usar un PID específico** (localizando el PID mediante un comando). Debes filtrar de forma adecuada la salida de `pmap` para que sólo se muestre por pantalla la región de memoria en la que se ubica el código de la biblioteca del sistema `libc`. (*Recuerda: Las regiones de memoria que contienen código deben tener permisos de ejecución)"
   ]
  },
  {
   "cell_type": "code",
   "execution_count": 9,
   "id": "cf317ee9-13b8-4c78-912d-1e230146a54f",
   "metadata": {},
   "outputs": [
    {
     "name": "stdout",
     "output_type": "stream",
     "text": [
      "00007da736e28000   1568K r-\u001b[01;31m\u001b[Kx\u001b[m\u001b[K-- libc.so.6\n"
     ]
    }
   ],
   "source": [
    "#III.5\n",
    "pmap $(pgrep sleep) | grep \"libc\" | grep \"x\""
   ]
  },
  {
   "cell_type": "markdown",
   "id": "c309dbed",
   "metadata": {},
   "source": [
    "Ejecuta un comando para terminar forzosamente con los procesos en ejecución cuyo comando sea `sleep`, mediante el envío de una señal."
   ]
  },
  {
   "cell_type": "code",
   "execution_count": 10,
   "id": "e795e324",
   "metadata": {},
   "outputs": [
    {
     "name": "stdout",
     "output_type": "stream",
     "text": [
      "[1]+  Terminado (killed)      sleep 3600\n"
     ]
    }
   ],
   "source": [
    "#III.6\n",
    "pkill -9 sleep"
   ]
  },
  {
   "cell_type": "markdown",
   "id": "6341e822",
   "metadata": {},
   "source": [
    "Muestra el total de líneas tienen aquellos ficheros del directorio `src` en los que aparece la palabra `linux`."
   ]
  },
  {
   "cell_type": "code",
   "execution_count": 13,
   "id": "e625454c",
   "metadata": {},
   "outputs": [
    {
     "name": "stdout",
     "output_type": "stream",
     "text": [
      "0\n"
     ]
    }
   ],
   "source": [
    "#III.7\n",
    "grep -wn \"linux\" src/* | wc -l"
   ]
  },
  {
   "cell_type": "markdown",
   "id": "ce899017",
   "metadata": {},
   "source": [
    "De entre los ficheros del directorio `syntax` cuyo nombre contiene la cadena `java`, muestra las ocurrencias de la palabra `yellow` junto con su número de línea. "
   ]
  },
  {
   "cell_type": "code",
   "execution_count": 12,
   "id": "5ca2cb6e",
   "metadata": {},
   "outputs": [
    {
     "name": "stdout",
     "output_type": "stream",
     "text": [
      "\u001b[35m\u001b[Ksyntax/java.nanorc\u001b[m\u001b[K\u001b[36m\u001b[K:\u001b[m\u001b[K\u001b[32m\u001b[K12\u001b[m\u001b[K\u001b[36m\u001b[K:\u001b[m\u001b[Kcolor \u001b[01;31m\u001b[Kyellow\u001b[m\u001b[K \"\\<(true|false|null)\\>\"\n"
     ]
    }
   ],
   "source": [
    "#III.8\n",
    "grep -wn \"yellow\" syntax/*java*"
   ]
  },
  {
   "cell_type": "markdown",
   "id": "d3224ff5",
   "metadata": {},
   "source": [
    "Muestra la lista de directorios en los que el *shell* busca los programas para que puedan ejecutarse sin necesidad de indicar su ruta completa."
   ]
  },
  {
   "cell_type": "markdown",
   "id": "3187229c",
   "metadata": {},
   "source": [
    "[Haz clic aquí para pasar a las preguntas del bloque 4 (git)](./examen-fc-bloque4.ipynb)"
   ]
  }
 ],
 "metadata": {
  "kernelspec": {
   "display_name": "Bash",
   "language": "bash",
   "name": "bash"
  },
  "language_info": {
   "codemirror_mode": "shell",
   "file_extension": ".sh",
   "mimetype": "text/x-sh",
   "name": "bash"
  }
 },
 "nbformat": 4,
 "nbformat_minor": 5
}
