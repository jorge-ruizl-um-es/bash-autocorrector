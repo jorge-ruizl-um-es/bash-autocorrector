{
 "cells": [
  {
   "cell_type": "markdown",
   "id": "3eaec161",
   "metadata": {},
   "source": [
    "# Bloque I: Consulta y manipulación del sistema de ficheros"
   ]
  },
  {
   "cell_type": "markdown",
   "id": "389c1029",
   "metadata": {},
   "source": [
    "Puedes **RESETEAR** los recursos del examen a su estado inicial ejecutando el siguiente comando (restaurar los ficheros de ejemplo al estado inicial)"
   ]
  },
  {
   "cell_type": "code",
   "execution_count": 1,
   "id": "85710319",
   "metadata": {},
   "outputs": [
    {
     "name": "stdout",
     "output_type": "stream",
     "text": [
      "Directorio del examen: /home/examen01/examen-2025-enero-practicas\n",
      "Preparando recursos del examen...OK\n"
     ]
    }
   ],
   "source": [
    "### RESETEAR EL EXAMEN (Útil para usar Run all)\n",
    "cd\n",
    "NUM_EXAM_DIRS=$(find ~  -maxdepth 2 -type d -name \"examen-*-practicas\" 2> /dev/null | wc -l)\n",
    "if [[ $NUM_EXAM_DIRS > 1 ]]; then\n",
    "    echo \"ERROR: Se han detectado múltiples directorios de examen!\"\n",
    "    find ~  -maxdepth 2 -type d -name \"examen-*-practicas\" 2> /dev/null \n",
    "else\n",
    "    EXAM_DIR=$(find ~  -maxdepth 1 -type d -name \"examen-*-practicas\")\n",
    "    if [ -d \"$EXAM_DIR\" ]; then\n",
    "        echo \"Directorio del examen: $EXAM_DIR\"\n",
    "        echo -n \"Preparando recursos del examen...\"\n",
    "        $EXAM_DIR/examen-fc-preparar-recursos\n",
    "        echo \"OK\"\n",
    "    else\n",
    "        echo \"No se encuentra el directorio del examen\"\n",
    "    fi\n",
    "fi"
   ]
  },
  {
   "cell_type": "markdown",
   "id": "7211097e",
   "metadata": {},
   "source": [
    "Ejecuta la siguiente celda para cambiarte al directorio desde donde debes realizar los comandos del examen. **Recuerda que *NO DEBES CAMBIAR* de directorio en ningún momento**, salvo que haya una celda que así lo indique expresamente."
   ]
  },
  {
   "cell_type": "markdown",
   "id": "5433967c-cf0f-49fa-af05-79a819ab5052",
   "metadata": {},
   "source": [
    "La estructura del directorio `recursos-examen` es la siguiente:\n",
    "```\n",
    "recursos-examen/\n",
    "├── bin\n",
    "├── misc\n",
    "│   └── mygitrepo\n",
    "├── mygitrepo\n",
    "│   ├── doc\n",
    "│   └── src\n",
    "├── nano\n",
    "│   ├── doc\n",
    "│   ├── m4\n",
    "│   ├── po\n",
    "│   ├── src\n",
    "│   └── syntax\n",
    "├── sample_files\n",
    "│   ├── document\n",
    "│   └── image\n",
    "└── scripts\n",
    "```"
   ]
  },
  {
   "cell_type": "code",
   "execution_count": 2,
   "id": "8d094136",
   "metadata": {},
   "outputs": [],
   "source": [
    "### RESUELTA\n",
    "cd $HOME/recursos-examen/nano "
   ]
  },
  {
   "cell_type": "code",
   "execution_count": 16,
   "id": "735fcaba",
   "metadata": {},
   "outputs": [
    {
     "name": "stdout",
     "output_type": "stream",
     "text": [
      "Modo de empleo: ls [OPCIÓN]... [FICHERO]...\n",
      "Muestra información acerca de los FICHEROs (del directorio actual por defecto).\n",
      "Ordena las entradas alfabéticamente si no se especifica ninguna de las\n",
      "opciones -cftuvSUX ni --sort.\n",
      "\n",
      "Los argumentos obligatorios para las opciones largas son también obligatorios\n",
      "para las opciones cortas.\n",
      "  -a, --all                  no oculta las entradas que comienzan con .\n",
      "  -A, --almost-all           no muestra las entradas . y .. implícitas\n",
      "      --author               con -l, imprime el autor de cada fichero\n",
      "  -b, --escape               imprime escapes en estilo C para los caracteres no\n",
      "                             gráficos\n",
      "      --block-size=SIZE      with -l, scale sizes by SIZE when printing them;\n",
      "                             e.g., '--block-size=M'; see SIZE format below\n",
      "\n",
      "  -B, --ignore-backups       do not list implied entries ending with ~\n",
      "  -c                         with -lt: sort by, and show, ctime (time of last\n",
      "                             change of file status information);\n",
      "                             with -l: show ctime and sort by name;\n",
      "                             otherwise: sort by ctime, newest first\n",
      "\n",
      "  -C                         list entries by columns\n",
      "      --color[=WHEN]         color the output WHEN; more info below\n",
      "  -d, --directory            list directories themselves, not their contents\n",
      "  -D, --dired                generate output designed for Emacs' dired mode\n",
      "  -f                         list all entries in directory order\n",
      "  -F, --classify[=WHEN]      append indicator (one of */=>@|) to entries WHEN\n",
      "      --file-type            likewise, except do not append '*'\n",
      "      --format=WORD          across -x, commas -m, horizontal -x, long -l,\n",
      "                             single-column -1, verbose -l, vertical -C\n",
      "\n",
      "      --full-time            like -l --time-style=full-iso\n",
      "  -g                         como -l, pero no lista el propietario\n",
      "      --group-directories-first\n",
      "                             group directories before files;\n",
      "                             can be augmented with a --sort option, but any\n",
      "                             use of --sort=none (-U) disables grouping\n",
      "\n",
      "  -G, --no-group             in a long listing, don't print group names\n",
      "  -h, --human-readable       with -l and -s, print sizes like 1K 234M 2G etc.\n",
      "      --si                   likewise, but use powers of 1000 not 1024\n",
      "  -H, --dereference-command-line\n",
      "                             follow symbolic links listed on the command line\n",
      "      --dereference-command-line-symlink-to-dir\n",
      "                             follow each command line symbolic link\n",
      "                             that points to a directory\n",
      "\n",
      "      --hide=PATTERN         do not list implied entries matching shell PATTERN\n",
      "                             (overridden by -a or -A)\n",
      "\n",
      "      --hyperlink[=WHEN]     hyperlink file names WHEN\n",
      "      --indicator-style=WORD\n",
      "                             append indicator with style WORD to entry names:\n",
      "                             none (default), slash (-p),\n",
      "                             file-type (--file-type), classify (-F)\n",
      "\n",
      "  -i, --inode                print the index number of each file\n",
      "  -I, --ignore=PATTERN       do not list implied entries matching shell PATTERN\n",
      "  -k, --kibibytes            default to 1024-byte blocks for file system usage;\n",
      "                             used only with -s and per directory totals\n",
      "\n",
      "  -l                         use a long listing format\n",
      "  -L, --dereference          when showing file information for a symbolic\n",
      "                             link, show information for the file the link\n",
      "                             references rather than for the link itself\n",
      "\n",
      "  -m                         fill width with a comma separated list of entries\n",
      "  -n, --numeric-uid-gid      like -l, but list numeric user and group IDs\n",
      "  -N, --literal              print entry names without quoting\n",
      "  -o                         like -l, but do not list group information\n",
      "  -p, --indicator-style=slash\n",
      "                             append / indicator to directories\n",
      "  -q, --hide-control-chars   print ? instead of nongraphic characters\n",
      "      --show-control-chars   show nongraphic characters as-is (the default,\n",
      "                             unless program is 'ls' and output is a terminal)\n",
      "\n",
      "  -Q, --quote-name           enclose entry names in double quotes\n",
      "      --quoting-style=WORD   use quoting style WORD for entry names:\n",
      "                             literal, locale, shell, shell-always,\n",
      "                             shell-escape, shell-escape-always, c, escape\n",
      "                             (overrides QUOTING_STYLE environment variable)\n",
      "\n",
      "  -r, --reverse              invierte el orden, en su caso\n",
      "  -R, --recursive            muestra los subdirectorios recursivamente\n",
      "  -s, --size                 muestra el tamaño de cada fichero, en bloques\n",
      "  -S                         sort by file size, largest first\n",
      "      --sort=WORD            sort by WORD instead of name: none (-U), size (-S),\n",
      "                             time (-t), version (-v), extension (-X), width\n",
      "\n",
      "      --time=WORD            select which timestamp used to display or sort;\n",
      "                               access time (-u): atime, access, use;\n",
      "                               metadata change time (-c): ctime, status;\n",
      "                               modified time (default): mtime, modification;\n",
      "                               birth time: birth, creation;\n",
      "                             with -l, WORD determines which time to show;\n",
      "                             with --sort=time, sort by WORD (newest first)\n",
      "\n",
      "      --time-style=TIME_STYLE\n",
      "                             time/date format with -l; see TIME_STYLE below\n",
      "  -t                         sort by time, newest first; see --time\n",
      "  -T, --tabsize=COLS         assume tab stops at each COLS instead of 8\n",
      "  -u                         with -lt: sort by, and show, access time;\n",
      "                             with -l: show access time and sort by name;\n",
      "                             otherwise: sort by access time, newest first\n",
      "\n",
      "  -U                         do not sort; list entries in directory order\n",
      "  -v                         natural sort of (version) numbers within text\n",
      "  -w, --width=COLS           set output width to COLS.  0 means no limit\n",
      "  -x                         list entries by lines instead of by columns\n",
      "  -X                         sort alphabetically by entry extension\n",
      "  -Z, --context              print any security context of each file\n",
      "      --zero                 end each output line with NUL, not newline\n",
      "  -1                         list one file per line\n",
      "      --help        display this help and exit\n",
      "      --version     output version information and exit\n",
      "\n",
      "The SIZE argument is an integer and optional unit (example: 10K is 10*1024).\n",
      "Units are K,M,G,T,P,E,Z,Y,R,Q (powers of 1024) or KB,MB,... (powers of 1000).\n",
      "Binary prefixes can be used, too: KiB=K, MiB=M, and so on.\n",
      "\n",
      "The TIME_STYLE argument can be full-iso, long-iso, iso, locale, or +FORMAT.\n",
      "FORMAT is interpreted like in date(1).  If FORMAT is FORMAT1<newline>FORMAT2,\n",
      "then FORMAT1 applies to non-recent files and FORMAT2 to recent files.\n",
      "TIME_STYLE prefixed with 'posix-' takes effect only outside the POSIX locale.\n",
      "Also the TIME_STYLE environment variable sets the default style to use.\n",
      "\n",
      "The WHEN argument defaults to 'always' and can also be 'auto' or 'never'.\n",
      "\n",
      "Using color to distinguish file types is disabled both by default and\n",
      "with --color=never.  With --color=auto, ls emits color codes only when\n",
      "standard output is connected to a terminal.  The LS_COLORS environment\n",
      "variable can change the settings.  Use the dircolors(1) command to set it.\n",
      "\n",
      "Estado de salida:\n",
      " 0  si todo fue bien\n",
      " 1  si hubo problemas menores (p. ej., no poder acceder a un subdirectorio),\n",
      " 2  si hubo un serio problema (p. ej., no se puede acceder al argumento de la\n",
      "                                 línea de órdenes)\n",
      "\n",
      "ayuda en línea sobre GNU coreutils: <https://www.gnu.org/software/coreutils/>\n",
      "Report any translation bugs to <https://translationproject.org/team/>\n",
      "Full documentation <https://www.gnu.org/software/coreutils/ls>\n",
      "or available locally via: info '(coreutils) ls invocation'\n"
     ]
    }
   ],
   "source": [
    "ls --help"
   ]
  },
  {
   "cell_type": "markdown",
   "id": "94035782",
   "metadata": {},
   "source": [
    "Haz un **listado largo** del contenido del directorio `examen-2025-enero-practicas` donde están ubicados los *notebooks* del examen, usando **rutas relativas**, de forma que el listado esté **ordenado por tamaño**, primero los ficheros más grandes. Consulta la ayuda para encontrar la opción adecuada."
   ]
  },
  {
   "cell_type": "code",
   "execution_count": 19,
   "id": "5b60d0ae",
   "metadata": {},
   "outputs": [
    {
     "name": "stdout",
     "output_type": "stream",
     "text": [
      "total 12832\n",
      "-rw-rw-r-- 1 examen01 examen01 12648557 ene  8 15:09 \u001b[0m\u001b[01;31mrecursos-examen.tar.gz\u001b[0m\n",
      "-rw-rw-r-- 1 examen01 examen01   394346 dic 16 15:16 examen-2025-enero-practicas-enunciado.pdf\n",
      "-rw-rw-r-- 1 examen01 examen01    32137 ene  8 15:10 examen-fc.ipynb\n",
      "-rw-rw-r-- 1 examen01 examen01    11959 ene 13 12:39 examen-fc-bloque1.ipynb\n",
      "-rw-rw-r-- 1 examen01 examen01     6939 ene  8 15:10 examen-fc-bloque3.ipynb\n",
      "-rw-rw-r-- 1 examen01 examen01     6051 ene  8 15:10 examen-fc-bloque4.ipynb\n",
      "-rw-rw-r-- 1 examen01 examen01     4888 ene  8 15:10 examen-fc-bloque5.ipynb\n",
      "-rw-rw-r-- 1 examen01 examen01     4865 ene  8 15:09 examen-fc-bloque2.ipynb\n",
      "drwxrwxr-x 2 examen01 examen01     4096 ene  8 15:10 \u001b[01;34mboletines\u001b[0m\n",
      "drwxrwxr-x 3 examen01 examen01     4096 ene  8 15:12 \u001b[01;34moutputs\u001b[0m\n",
      "-rwxrwxr-x 1 examen01 examen01      236 ene  8 15:09 \u001b[01;32mexamen-fc-preparar-recursos\u001b[0m\n"
     ]
    }
   ],
   "source": [
    "#I.1\n",
    "ls -lS ../../examen-2025-enero-practicas"
   ]
  },
  {
   "cell_type": "markdown",
   "id": "24c83025",
   "metadata": {},
   "source": [
    "Haz un **listado del contenido íntegro** (incluyendo ocultos) de los ficheros y directorios situados en el directorio actual, cuyo nombre acabe en 'c'."
   ]
  },
  {
   "cell_type": "code",
   "execution_count": 27,
   "id": "4a45e172",
   "metadata": {},
   "outputs": [
    {
     "name": "stdout",
     "output_type": "stream",
     "text": [
      "./configure.ac\n",
      "\n",
      "./doc:\n",
      "\u001b[0m\u001b[01;34m.\u001b[0m   cheatsheet.html  .gitignore   nano.1    nano.texi  sample.nanorc.in\n",
      "\u001b[01;34m..\u001b[0m  faq.html         Makefile.am  nanorc.5  rnano.1\n",
      "\n",
      "./src:\n",
      "\u001b[01;34m.\u001b[0m          chars.c        files.c    Makefile.am  prototypes.h  utils.c\n",
      "\u001b[01;34m..\u001b[0m         color.c        global.c   move.c       rcfile.c      winio.c\n",
      "browser.c  cut.c          help.c     nano.c       search.c\n",
      "cempty.C   definitions.h  history.c  prompt.c     text.c\n"
     ]
    }
   ],
   "source": [
    "#I.2\n",
    "ls -a ./*c"
   ]
  },
  {
   "cell_type": "markdown",
   "id": "8dcf2cc1",
   "metadata": {},
   "source": [
    "Haz un listado de los ficheros cuyo nombre acabe en 'm', que estén situados en subdirectorios del directorio actual cuyo nombre tenga tres caracteres."
   ]
  },
  {
   "cell_type": "code",
   "execution_count": 28,
   "id": "d79842e7",
   "metadata": {},
   "outputs": [
    {
     "name": "stdout",
     "output_type": "stream",
     "text": [
      "./doc/Makefile.am  ./src/Makefile.am\n"
     ]
    }
   ],
   "source": [
    "#I.3\n",
    "ls ./???/*m"
   ]
  },
  {
   "cell_type": "markdown",
   "id": "2d1f6e81",
   "metadata": {},
   "source": [
    "Haz un listado del contenido de los subdirectorios del directorio actual cuyo nombre tenga exactamente tres caracteres, siendo la primera la 'd' o la 's', y la última una 'c'."
   ]
  },
  {
   "cell_type": "code",
   "execution_count": 30,
   "id": "00aadbff",
   "metadata": {},
   "outputs": [
    {
     "name": "stdout",
     "output_type": "stream",
     "text": [
      "doc:\n",
      "cheatsheet.html  Makefile.am  nanorc.5   rnano.1\n",
      "faq.html         nano.1       nano.texi  sample.nanorc.in\n",
      "\n",
      "src:\n",
      "browser.c  cut.c          help.c       nano.c        search.c\n",
      "cempty.C   definitions.h  history.c    prompt.c      text.c\n",
      "chars.c    files.c        Makefile.am  prototypes.h  utils.c\n",
      "color.c    global.c       move.c       rcfile.c      winio.c\n"
     ]
    }
   ],
   "source": [
    "#I.4\n",
    "ls [ds]?c"
   ]
  },
  {
   "cell_type": "markdown",
   "id": "88681d5a-bf31-4591-8003-c03d4bcacbb3",
   "metadata": {},
   "source": [
    "**TRES comandos**: Crea un directorio llamado `test` en el **directorio padre** del actual. Tras esto, en la misma celda, copia a dicho directorio los ficheros situados en `scripts` cuyo nombre contenga la cadena `gnome`. A continuación, en la misma celda, lista el contenido del directorio al que has copiado los ficheros."
   ]
  },
  {
   "cell_type": "code",
   "execution_count": 34,
   "id": "677e8cb9-0593-47ba-977a-d4a98affeab4",
   "metadata": {},
   "outputs": [
    {
     "name": "stdout",
     "output_type": "stream",
     "text": [
      "\u001b[0m\u001b[01;32mgnome-session\u001b[0m  \u001b[01;32mremmina-gnome\u001b[0m\n"
     ]
    }
   ],
   "source": [
    "#I.5\n",
    "mkdir ../test ; cp ../scripts/*gnome* ../test ; ls ../test"
   ]
  },
  {
   "cell_type": "markdown",
   "id": "4ab79929",
   "metadata": {},
   "source": [
    "**DOS COMANDOS**: Usa el comando adecuado para averiguar la ruta absoluta del comando `cat` y luego, crea una copia de dicho comando `cat` en el directorio actual, de forma que la copia se llame `mostrar`."
   ]
  },
  {
   "cell_type": "code",
   "execution_count": 36,
   "id": "6f9e6d57",
   "metadata": {},
   "outputs": [
    {
     "name": "stdout",
     "output_type": "stream",
     "text": [
      "cat: /usr/bin/cat /usr/share/man/man1/cat.1.gz\n"
     ]
    }
   ],
   "source": [
    "#I.6\n",
    "whereis cat ; cp /usr/bin/cat ./mostrar"
   ]
  },
  {
   "cell_type": "markdown",
   "id": "fddacebb-3c2a-4c25-a828-17f576eb7b7b",
   "metadata": {},
   "source": [
    "**TRES COMANDOS**: Ejecuta el fichero `mostrar`, pasándole como argumento el fichero `TODO`. Después, muestra una línea formada por diez asteriscos. Finalmente, muestra el contenido de dicho fichero por pantalla con el comando `cat`."
   ]
  },
  {
   "cell_type": "code",
   "execution_count": 40,
   "id": "b7951e74-c137-48b7-b50d-c4e895c4674c",
   "metadata": {},
   "outputs": [
    {
     "name": "stdout",
     "output_type": "stream",
     "text": [
      "\n",
      "For a list of open bugs and requested features see:\n",
      "\n",
      "  https://savannah.gnu.org/bugs/?group=nano\n",
      "\n",
      "**********\n",
      "\n",
      "For a list of open bugs and requested features see:\n",
      "\n",
      "  https://savannah.gnu.org/bugs/?group=nano\n",
      "\n"
     ]
    }
   ],
   "source": [
    "#I.7\n",
    "./mostrar TODO ; echo \"**********\" ; cat TODO"
   ]
  },
  {
   "cell_type": "markdown",
   "id": "de6954df",
   "metadata": {},
   "source": [
    "**DOS COMANDOS:** Reubica el fichero `mostrar` para que pase a estar situado en el directorio `test` creado anteriormente. Después, lista el contenido de dicho directorio."
   ]
  },
  {
   "cell_type": "code",
   "execution_count": 41,
   "id": "24985573",
   "metadata": {},
   "outputs": [
    {
     "name": "stdout",
     "output_type": "stream",
     "text": [
      "\u001b[0m\u001b[01;32mgnome-session\u001b[0m  \u001b[01;32mmostrar\u001b[0m  \u001b[01;32mremmina-gnome\u001b[0m\n"
     ]
    }
   ],
   "source": [
    "#I.8\n",
    "mv ./mostrar ../test ; ls ../test"
   ]
  },
  {
   "cell_type": "markdown",
   "id": "e5b87f8a",
   "metadata": {},
   "source": [
    "**DOS COMANDOS:** Crea una copia íntegra del directorio `src` llamada `source-nano`, situada en el directorio `test`. Después, haz un listado recursivo del directorio `test`."
   ]
  },
  {
   "cell_type": "code",
   "execution_count": 42,
   "id": "b785d7ff",
   "metadata": {},
   "outputs": [
    {
     "name": "stdout",
     "output_type": "stream",
     "text": [
      "../test:\n",
      "\u001b[0m\u001b[01;32mgnome-session\u001b[0m  \u001b[01;32mmostrar\u001b[0m  \u001b[01;32mremmina-gnome\u001b[0m  \u001b[01;34msource-nano\u001b[0m\n",
      "\n",
      "../test/source-nano:\n",
      "browser.c  cut.c          help.c       nano.c        search.c\n",
      "cempty.C   definitions.h  history.c    prompt.c      text.c\n",
      "chars.c    files.c        Makefile.am  prototypes.h  utils.c\n",
      "color.c    global.c       move.c       rcfile.c      winio.c\n"
     ]
    }
   ],
   "source": [
    "#I.9\n",
    "cp -r src ../test/source-nano ; ls -R ../test"
   ]
  },
  {
   "cell_type": "markdown",
   "id": "5b0edc64-0515-4f93-b796-79330a4b3f5d",
   "metadata": {},
   "source": [
    "Copia al directorio `test` que has creado, los ficheros situados en cualquier subdirectorio inmediato de `document` (dentro de `sample_files`), cuyo nombre contenga el número 5 y termine por `pdf` o `rtf`."
   ]
  },
  {
   "cell_type": "code",
   "execution_count": 43,
   "id": "48aabdb4-99e0-4634-8dcf-80babfe3a257",
   "metadata": {},
   "outputs": [],
   "source": [
    "#I.10\n",
    "cp ../sample_files/document/*/*5*{pdf,rtf} ../test"
   ]
  },
  {
   "cell_type": "markdown",
   "id": "3cfa4b03-7727-45ec-b766-7482ccfc71e1",
   "metadata": {},
   "source": [
    "**DOS COMANDOS**: Elimina los ficheros de `test` cuyo nombre **no** comience por una letra entre la 'j' y la 'z'. A continuación, lista el contenido de dicho directorio."
   ]
  },
  {
   "cell_type": "code",
   "execution_count": 49,
   "id": "4d037025",
   "metadata": {},
   "outputs": [
    {
     "name": "stdout",
     "output_type": "stream",
     "text": [
      "\u001b[0m\u001b[01;32mmostrar\u001b[0m  \u001b[01;32mremmina-gnome\u001b[0m  \u001b[01;34msource-nano\u001b[0m\n"
     ]
    }
   ],
   "source": [
    "#I.11\n",
    "rm ../test/[!j-z]* ; ls ../test"
   ]
  },
  {
   "cell_type": "markdown",
   "id": "24abf994",
   "metadata": {},
   "source": [
    "Crea en el directorio personal, un fichero comprimido empaquetado llamado `boletines.tar.gz` que contenga todo lo que hay en el directorio `boletines` situado en el directorio del examen. Se deben mostrar por pantalla los ficheros comprimidos."
   ]
  },
  {
   "cell_type": "code",
   "execution_count": 53,
   "id": "7717bc0b",
   "metadata": {},
   "outputs": [
    {
     "name": "stdout",
     "output_type": "stream",
     "text": [
      "\u001b[0m\u001b[01;34mboletines\u001b[0m                                  examen-fc-bloque5.ipynb\n",
      "examen-2025-enero-practicas-enunciado.pdf  examen-fc.ipynb\n",
      "examen-fc-bloque1.ipynb                    \u001b[01;32mexamen-fc-preparar-recursos\u001b[0m\n",
      "examen-fc-bloque2.ipynb                    \u001b[01;34moutputs\u001b[0m\n",
      "examen-fc-bloque3.ipynb                    \u001b[01;31mrecursos-examen.tar.gz\u001b[0m\n",
      "examen-fc-bloque4.ipynb\n"
     ]
    }
   ],
   "source": [
    "ls ../../examen-2025-enero-practicas"
   ]
  },
  {
   "cell_type": "code",
   "execution_count": 58,
   "id": "7a54f1d6",
   "metadata": {},
   "outputs": [
    {
     "name": "stdout",
     "output_type": "stream",
     "text": [
      "tar: Eliminando la `../../' inicial de los nombres\n",
      "../../examen-2025-enero-practicas/boletines/practica2-introgit-boletin.ipynb\n",
      "tar: Eliminando la `../../' inicial de los objetivos de los enlaces\n",
      "../../examen-2025-enero-practicas/boletines/practica3-okteta-enteros-reales-boletin.ipynb\n",
      "../../examen-2025-enero-practicas/boletines/practica4a-compilacion-ejecucion-boletin.ipynb\n",
      "../../examen-2025-enero-practicas/boletines/practica5a-ficheros-boletin.ipynb\n",
      "../../examen-2025-enero-practicas/boletines/practica5b-busquedas-boletin.ipynb\n",
      "../../examen-2025-enero-practicas/boletines/practica6a-cache-boletin.ipynb\n",
      "../../examen-2025-enero-practicas/boletines/practica7a-procesos-boletin.ipynb\n",
      "../../examen-2025-enero-practicas/boletines/practica7b-tuberias-boletin.ipynb\n",
      "../../examen-2025-enero-practicas/boletines/resumen-comandos-linux.pdf\n",
      "tar: boletines.tar.gz: No se puede efectuar stat: No existe el archivo o el directorio\n",
      "tar: Se sale con estado de fallo debido a errores anteriores\n"
     ]
    },
    {
     "ename": "",
     "evalue": "2",
     "output_type": "error",
     "traceback": []
    }
   ],
   "source": [
    "#I.12\n",
    "tar czvf ../../examen-2025-enero-practicas/boletines/*  boletines.tar.gz"
   ]
  },
  {
   "cell_type": "markdown",
   "id": "f9f60423-7ec5-4225-8ab2-1a89917d56e8",
   "metadata": {},
   "source": [
    "**DOS COMANDOS**: Elimina el permiso de ejecución sobre el fichero `autogen.sh`, de forma que sólo el propietario pueda ejecutarlo, pero no los miembros del grupo ni el resto de usuarios. A continuación, haz un listado largo de dicho fichero que muestre los permisos."
   ]
  },
  {
   "cell_type": "code",
   "execution_count": 60,
   "id": "53d1bbd8",
   "metadata": {},
   "outputs": [
    {
     "name": "stdout",
     "output_type": "stream",
     "text": [
      "-rwxrw-rw- 1 examen01 examen01 998 dic  6 19:54 \u001b[0m\u001b[01;32mautogen.sh\u001b[0m\n"
     ]
    }
   ],
   "source": [
    "#I.13\n",
    "chmod 766 autogen.sh ; ls -l autogen.sh"
   ]
  },
  {
   "cell_type": "markdown",
   "id": "7b23bc29-9cdf-4920-b817-1fe14fb599ef",
   "metadata": {},
   "source": [
    "**DOS COMANDOS**: Establece los permisos adecuados para que nadie pueda cambiar el contenido de los ficheros situados en el directorio `src` del directorio actual, pero cualquiera pueda ver su contenido. Después, haz un listado largo del contenido de dicho directorio."
   ]
  },
  {
   "cell_type": "code",
   "execution_count": 62,
   "id": "9e8aa91c-6ff2-4b99-a04f-faf29fa03777",
   "metadata": {},
   "outputs": [
    {
     "name": "stdout",
     "output_type": "stream",
     "text": [
      "total 720\n",
      "-rw-r--r-- 1 examen01 examen01  22183 dic  6 19:54 browser.c\n",
      "-rw-r--r-- 1 examen01 examen01      0 dic  6 19:54 cempty.C\n",
      "-rw-r--r-- 1 examen01 examen01  15782 dic  6 19:54 chars.c\n",
      "-rw-r--r-- 1 examen01 examen01  12351 dic  6 19:54 color.c\n",
      "-rw-r--r-- 1 examen01 examen01  23267 dic  6 19:54 cut.c\n",
      "-rw-r--r-- 1 examen01 examen01  18744 dic  6 19:54 definitions.h\n",
      "-rw-r--r-- 1 examen01 examen01  78882 dic  6 19:54 files.c\n",
      "-rw-r--r-- 1 examen01 examen01  56845 dic  6 19:54 global.c\n",
      "-rw-r--r-- 1 examen01 examen01  19638 dic  6 19:54 help.c\n",
      "-rw-r--r-- 1 examen01 examen01  17166 dic  6 19:54 history.c\n",
      "-rw-r--r-- 1 examen01 examen01   1093 dic  6 19:54 Makefile.am\n",
      "-rw-r--r-- 1 examen01 examen01  19726 dic  6 19:54 move.c\n",
      "-rw-r--r-- 1 examen01 examen01  69570 dic  6 19:54 nano.c\n",
      "-rw-r--r-- 1 examen01 examen01  22970 dic  6 19:54 prompt.c\n",
      "-rw-r--r-- 1 examen01 examen01  20523 dic  6 19:54 prototypes.h\n",
      "-rw-r--r-- 1 examen01 examen01  48406 dic  6 19:54 rcfile.c\n",
      "-rw-r--r-- 1 examen01 examen01  31773 dic  6 19:54 search.c\n",
      "-rw-r--r-- 1 examen01 examen01  94357 dic  6 19:54 text.c\n",
      "-rw-r--r-- 1 examen01 examen01  14133 dic  6 19:54 utils.c\n",
      "-rw-r--r-- 1 examen01 examen01 112784 dic  6 19:54 winio.c\n"
     ]
    }
   ],
   "source": [
    "#I.14\n",
    "chmod 555 src ; ls -l src\n"
   ]
  },
  {
   "cell_type": "markdown",
   "id": "d2d9e0c1-b367-4b5c-bd22-cdb9e1db10d8",
   "metadata": {},
   "source": [
    "**DOS COMANDOS**: Muestra el espacio ocupado por los subdirectorios del directorio actual cuyo nombre tenga exactamente tres caracteres, de manera resumida y en unidades fácilmente legibles. Después, muestra el espacio libre en el sistema de ficheros donde está el directorio personal del usuario, de forma que las unidades sean legible por humanos usando potencias de 1000 en vez de potencias de 1024."
   ]
  },
  {
   "cell_type": "code",
   "execution_count": 63,
   "id": "a532ef3f-1eda-468b-b99a-2be1422a9300",
   "metadata": {},
   "outputs": [
    {
     "name": "stdout",
     "output_type": "stream",
     "text": [
      "204K\t./doc\n",
      "724K\t./src\n",
      "S.ficheros     Tamaño Usados  Disp Uso% Montado en\n",
      "tmpfs            1,6G   2,2M  1,6G   1% /run\n",
      "/dev/sda6        247G    64G  170G  28% /\n",
      "tmpfs            7,8G    35M  7,7G   1% /dev/shm\n",
      "tmpfs            5,0M   8,0K  5,0M   1% /run/lock\n",
      "tmpfs            7,8G      0  7,8G   0% /run/qemu\n",
      "tmpfs            1,6G   140K  1,6G   1% /run/user/1000\n",
      "tmpfs            1,6G   124K  1,6G   1% /run/user/120\n",
      "tmpfs            1,6G   184K  1,6G   1% /run/user/1001\n"
     ]
    }
   ],
   "source": [
    "#I.15\n",
    "du -hs ./??? ; df -h"
   ]
  },
  {
   "cell_type": "markdown",
   "id": "0fe5e304",
   "metadata": {},
   "source": [
    "[Haz clic aquí para pasar a las preguntas del bloque 2 (Búsquedas)](./examen-fc-bloque2.ipynb)"
   ]
  }
 ],
 "metadata": {
  "kernelspec": {
   "display_name": "Bash",
   "language": "bash",
   "name": "bash"
  },
  "language_info": {
   "codemirror_mode": "shell",
   "file_extension": ".sh",
   "mimetype": "text/x-sh",
   "name": "bash"
  }
 },
 "nbformat": 4,
 "nbformat_minor": 5
}
