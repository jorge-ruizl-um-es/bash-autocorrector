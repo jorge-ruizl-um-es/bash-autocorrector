{
 "cells": [
  {
   "cell_type": "markdown",
   "id": "44dc40b0",
   "metadata": {},
   "source": [
    "# Bloque II: Búsquedas"
   ]
  },
  {
   "cell_type": "markdown",
   "id": "c8372aff",
   "metadata": {},
   "source": [
    "Puedes **RESETEAR** los recursos del examen a su estado inicial ejecutando el siguiente comando (restaurar los ficheros de ejemplo al estado inicial)"
   ]
  },
  {
   "cell_type": "code",
   "execution_count": 1,
   "id": "92ec2105",
   "metadata": {},
   "outputs": [
    {
     "name": "stdout",
     "output_type": "stream",
     "text": [
      "Directorio del examen: /home/examen01/examen-2025-enero-practicas\n",
      "Preparando recursos del examen...OK\n"
     ]
    }
   ],
   "source": [
    "### RESETEAR EL EXAMEN (Útil para usar Run all)\n",
    "cd\n",
    "NUM_EXAM_DIRS=$(find ~  -maxdepth 2 -type d -name \"examen-*-practicas\" 2> /dev/null | wc -l)\n",
    "if [[ $NUM_EXAM_DIRS > 1 ]]; then\n",
    "    echo \"ERROR: Se han detectado múltiples directorios de examen!\"\n",
    "    find ~  -maxdepth 2 -type d -name \"examen-*-practicas\" 2> /dev/null \n",
    "else\n",
    "    EXAM_DIR=$(find ~  -maxdepth 1 -type d -name \"examen-*-practicas\")\n",
    "    if [ -d \"$EXAM_DIR\" ]; then\n",
    "        echo \"Directorio del examen: $EXAM_DIR\"\n",
    "        echo -n \"Preparando recursos del examen...\"\n",
    "        $EXAM_DIR/examen-fc-preparar-recursos\n",
    "        echo \"OK\"\n",
    "    else\n",
    "        echo \"No se encuentra el directorio del examen\"\n",
    "    fi\n",
    "fi"
   ]
  },
  {
   "cell_type": "markdown",
   "id": "3187c62e",
   "metadata": {},
   "source": [
    "Ejecuta la siguiente celda para cambiarte al subdirectorio `sample_files`:"
   ]
  },
  {
   "cell_type": "code",
   "execution_count": 2,
   "id": "e4484e1d-59b8-4891-b2a7-ba67ee224b99",
   "metadata": {},
   "outputs": [],
   "source": [
    "# RESUELTA\n",
    "cd $HOME/recursos-examen/sample_files"
   ]
  },
  {
   "cell_type": "markdown",
   "id": "e31515e1-8e3d-4aa0-b8a1-a84f07c16894",
   "metadata": {},
   "source": [
    "Observa el contenido del directorio actual y sus subdirectorios:"
   ]
  },
  {
   "cell_type": "code",
   "execution_count": 3,
   "id": "4535894b-6efa-41cd-87d0-e9a2f36a6e9e",
   "metadata": {},
   "outputs": [
    {
     "name": "stdout",
     "output_type": "stream",
     "text": [
      ".\n",
      "./document\n",
      "./document/pdf\n",
      "./document/pdf/sample1.pdf\n",
      "./document/pdf/file-example_PDF_500_kB.pdf\n",
      "./document/pdf/sample3.pdf\n",
      "./document/pdf/file-example_PDF_1MB.pdf\n",
      "./document/pdf/file-sample_150kB.pdf\n",
      "./document/pdf/sample2.pdf\n",
      "./document/rtf\n",
      "./document/rtf/file-sample_300kB.rtf\n",
      "./document/rtf/file-sample_500kB.rtf\n",
      "./document/rtf/file-sample_100kB.rtf\n",
      "./document/rtf/file-sample_1MB.rtf\n",
      "./document/txt\n",
      "./document/txt/sample1.txt\n",
      "./document/txt/sample2.txt\n",
      "./document/txt/sample3.txt\n",
      "./image\n",
      "./image/png\n",
      "./image/png/vintage_bmw_car.png\n",
      "./image/png/wheat_silhouette.png\n",
      "./image/png/pink_coffee_mug.png\n",
      "./image/png/stegosaurus.png\n",
      "./image/png/rose.png\n",
      "./image/png/oil_towers.png\n",
      "./image/jpg\n",
      "./image/jpg/egg_pattern.jpg\n",
      "./image/jpg/bitcoin.jpg\n",
      "./image/jpg/eagle_closeup.jpg\n",
      "./image/jpg/elephants.jpg\n",
      "./image/jpg/cocktail_on_the_beach.jpg\n",
      "./image/jpg/hexagon_building_facade.jpg\n",
      "./LICENSE\n",
      "./README.md\n"
     ]
    }
   ],
   "source": [
    "find"
   ]
  },
  {
   "cell_type": "markdown",
   "id": "6a164e20",
   "metadata": {},
   "source": [
    "Encuenta en los subdirectorios `image` y `document` ficheros regulares cuyo nombre contenga dos veces la letra \"e\", y cuyo tamaño esté comprendido entre los 600 y los 700 kilobytes."
   ]
  },
  {
   "cell_type": "code",
   "execution_count": 8,
   "id": "864f9f69",
   "metadata": {},
   "outputs": [
    {
     "name": "stdout",
     "output_type": "stream",
     "text": [
      "image/jpg/elephants.jpg\n"
     ]
    }
   ],
   "source": [
    "#II.1\n",
    "find image document -type f -name \"*e*e*\" -size +600k -size -700k\n"
   ]
  },
  {
   "cell_type": "markdown",
   "id": "3eb34769",
   "metadata": {},
   "source": [
    "Encuentra a partir del directorio actual, los directorios cuyo nombre tenga exactamente tres caracteres, entre los cuales el tercero debe ser una 'f' o una 'g'."
   ]
  },
  {
   "cell_type": "code",
   "execution_count": 9,
   "id": "97a59586",
   "metadata": {},
   "outputs": [
    {
     "name": "stdout",
     "output_type": "stream",
     "text": [
      "./document/pdf\n",
      "./document/rtf\n",
      "./image/png\n",
      "./image/jpg\n"
     ]
    }
   ],
   "source": [
    "#II.2\n",
    "find . -type d -name \"??[fg]\""
   ]
  },
  {
   "cell_type": "markdown",
   "id": "2e926116-0e54-48ce-adfb-88423a20fcf7",
   "metadata": {},
   "source": [
    "Encuentra entre los ficheros `txt` que hay en `document`, aquellos que contienen la palabra `id` (como palabra completa):"
   ]
  },
  {
   "cell_type": "code",
   "execution_count": 17,
   "id": "cb08ba85",
   "metadata": {},
   "outputs": [
    {
     "name": "stdout",
     "output_type": "stream",
     "text": [
      "\u001b[35m\u001b[Kdocument/txt/sample1.txt\u001b[m\u001b[K\n",
      "\u001b[35m\u001b[Kdocument/txt/sample3.txt\u001b[m\u001b[K\n"
     ]
    }
   ],
   "source": [
    "#II.3\n",
    "grep -wl \"id\" document/txt/*"
   ]
  },
  {
   "cell_type": "markdown",
   "id": "04b10d1f",
   "metadata": {},
   "source": [
    "Encuentra todas las ocurrencias de la palabra *ergo* seguida de cualquier carácter al **final de la línea** en cualquier fichero que cuelgue del directorio actual a cualquier profundidad. Has de mostrar el nombre del fichero y el número de línea coincidente."
   ]
  },
  {
   "cell_type": "code",
   "execution_count": 15,
   "id": "51204aab",
   "metadata": {},
   "outputs": [
    {
     "name": "stdout",
     "output_type": "stream",
     "text": [
      "\u001b[35m\u001b[K./document/txt/sample2.txt\u001b[m\u001b[K\u001b[36m\u001b[K:\u001b[m\u001b[K\u001b[32m\u001b[K6\u001b[m\u001b[K\u001b[36m\u001b[K:\u001b[m\u001b[KQui ita affectus, beatum esse numquam probabis; Sed nimis multa. Nam prius a se poterit quisque discedere quam appetitum earum rerum, quae sibi conducant, amittere. Familiares nostros, credo, Sironem dicis et Philodemum, cum optimos viros, tum homines doctissimos. Quod iam a me expectare noli. Quid \u001b[01;31m\u001b[Kergo?\u001b[m\u001b[K\n"
     ]
    }
   ],
   "source": [
    "#II.4\n",
    "grep -rwnH \"ergo.$\" . "
   ]
  },
  {
   "cell_type": "markdown",
   "id": "3290a3b9-9fa9-401c-9c65-f87350d77b38",
   "metadata": {},
   "source": [
    "**DOS COMANDOS**: Muestra los nombres de los ficheros de aquellos subdirectorios de `document` cuyo nombre contine una `t`, que cumplan la siguiente condición: el nombre del fichero debe contener un número entre el 1 y el 3 y tienen alguna línea que comienza por la vocal i mayúscula (I)."
   ]
  },
  {
   "cell_type": "code",
   "execution_count": 18,
   "id": "0c8977ff-a717-4ee8-934e-33bc501ce34e",
   "metadata": {},
   "outputs": [
    {
     "name": "stdout",
     "output_type": "stream",
     "text": [
      "\u001b[35m\u001b[Kdocument/rtf/file-sample_100kB.rtf\u001b[m\u001b[K\n",
      "\u001b[35m\u001b[Kdocument/rtf/file-sample_1MB.rtf\u001b[m\u001b[K\n",
      "\u001b[35m\u001b[Kdocument/rtf/file-sample_300kB.rtf\u001b[m\u001b[K\n",
      "\u001b[35m\u001b[Kdocument/txt/sample2.txt\u001b[m\u001b[K\n",
      "\u001b[35m\u001b[Kdocument/txt/sample3.txt\u001b[m\u001b[K\n"
     ]
    }
   ],
   "source": [
    "#II.5\n",
    "grep -l \"^I\"  document/*t*/*[1-3]*"
   ]
  },
  {
   "cell_type": "markdown",
   "id": "6b4d6cf1",
   "metadata": {},
   "source": [
    "[Haz clic aquí para pasar a las preguntas del bloque 3 (Procesos)](./examen-fc-bloque3.ipynb)"
   ]
  }
 ],
 "metadata": {
  "kernelspec": {
   "display_name": "Bash",
   "language": "bash",
   "name": "bash"
  },
  "language_info": {
   "codemirror_mode": "shell",
   "file_extension": ".sh",
   "mimetype": "text/x-sh",
   "name": "bash"
  }
 },
 "nbformat": 4,
 "nbformat_minor": 5
}
