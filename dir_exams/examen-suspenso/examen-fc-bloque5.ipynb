{
 "cells": [
  {
   "cell_type": "markdown",
   "id": "df0754ab",
   "metadata": {},
   "source": [
    "# Bloque V: Lenguajes del computador"
   ]
  },
  {
   "cell_type": "code",
   "execution_count": 1,
   "id": "309f109e",
   "metadata": {},
   "outputs": [],
   "source": [
    "# Ejecuta esta celda para generar el fichero arrays_iguales.c\n",
    "cat <<EOF > arrays_iguales.c\n",
    "#include <stdbool.h>\n",
    "\n",
    "int arrays_iguales(int size, int array1[], int array2[]) {\n",
    "    int i = 0;\n",
    "    while(i < size) {\n",
    "        if (array1[i] != array2[i]) {\n",
    "            return false;\n",
    "        };\n",
    "        ++i;\n",
    "    }\n",
    "    return true;\n",
    "}\n",
    "EOF\n",
    "cat <<EOF > miprograma.c\n",
    "#include <stdbool.h>\n",
    "#define ARRAY_SIZE 8\n",
    "\n",
    "int a[ARRAY_SIZE] = {0,1,2,3,4,5,6,7};\n",
    "int b[ARRAY_SIZE] = {0,1,2,3,4,5,6,7};\n",
    "\n",
    "//Declaramos la función de \"array_iguales.c\" para poder llamarla desde main\n",
    "int arrays_iguales(int size, int array1[], int array2[]); \n",
    "\n",
    "int main() {\n",
    "    return arrays_iguales(ARRAY_SIZE, a, b);\n",
    "}\n",
    "EOF\n",
    "gcc miprograma.c arrays_iguales.c -o compara_arrays"
   ]
  },
  {
   "cell_type": "markdown",
   "id": "5a36ea36-3135-4dbe-953d-2241e95a7852",
   "metadata": {},
   "source": [
    "Compila el código anterior para generar un programa ejecutable enlazado estáticamente llamado `compara_arrays_static`, y seguidamente haz un listado largo de todos los ficheros del directorio actual cuyo nombre empiece por \"compara\"."
   ]
  },
  {
   "cell_type": "code",
   "execution_count": null,
   "id": "e9a0b9dc-568c-4b0b-9540-8deeb6d4028a",
   "metadata": {},
   "outputs": [],
   "source": [
    "#V.1\n",
    "gcc -o miprograma.c arrays_iguales"
   ]
  },
  {
   "cell_type": "markdown",
   "id": "1fa0fb7f-b0f3-4a9a-978f-91a63c5fa6d1",
   "metadata": {},
   "source": [
    "Muestra las rutas de las bibliotecas dinámicas de las que depende el ejecutable `compara_arrays`, filtrando la salida para que solo aparezca las línea que corresponde a la librería de C (`libc`) y mostrando sólo la ruta de la biblioteca. *Pista: Necesitas dos tuberías.*"
   ]
  },
  {
   "cell_type": "code",
   "execution_count": null,
   "id": "e20c432a-33c7-43f8-89be-4fcd89b4e76f",
   "metadata": {},
   "outputs": [],
   "source": [
    "#V.2\n"
   ]
  },
  {
   "cell_type": "markdown",
   "id": "02079e3a-fbf7-40ae-8f6c-9e4a51f6df8f",
   "metadata": {},
   "source": [
    "Compila el código de `arrays_iguales.c` a ensamblador, y muestra las instrucciones `cmp` generadas."
   ]
  },
  {
   "cell_type": "code",
   "execution_count": null,
   "id": "b34bdb9b-d5e3-4719-b41a-2bfbc74a0109",
   "metadata": {},
   "outputs": [],
   "source": [
    "#V.3\n",
    "gcc arrays_iguales.c -s "
   ]
  },
  {
   "cell_type": "markdown",
   "id": "5f19127e-ef0e-4efc-a556-3fc8139761b5",
   "metadata": {},
   "source": [
    "Desensambla el fichero ejecutable `compara_arrays` generado anteriormente, y muestra cuántas instrucciones `call` contiene. *Pista: Necesitas dos tuberías.*"
   ]
  },
  {
   "cell_type": "code",
   "execution_count": null,
   "id": "ea786a02-99b2-45c8-ac39-5a9bfe6802ab",
   "metadata": {},
   "outputs": [],
   "source": [
    "#V.4\n",
    "objdump -d compara_arrays"
   ]
  },
  {
   "cell_type": "markdown",
   "id": "c2a570c2-7028-43e0-b6a3-9a1bb9d586d2",
   "metadata": {},
   "source": [
    "Muestra la última línea del código ensamblador del ejecutable enlazado estáticamente `compara_arrays_static`, reemplazando el carácter `:` por `=`. *Pista: Necesitas dos tuberías.*"
   ]
  },
  {
   "cell_type": "code",
   "execution_count": null,
   "id": "b2a82956-58af-4ac3-a7f9-88204146276f",
   "metadata": {},
   "outputs": [],
   "source": [
    "#V.5\n"
   ]
  },
  {
   "cell_type": "markdown",
   "id": "f119f0b9-d1d8-437b-ac02-2b7bae3d0de2",
   "metadata": {},
   "source": [
    "Desensambla el fichero de la biblioteca estándar de C con el que enlaza `compara_arrays` (/lib/x86_64-linux-gnu/libc.so.6), y muestra la línea que marca el comienzo de la función `IO_puts`, sabiendo que es una etiqueta y que por tanto siempre acaba por el carácter ':'. *Pista: Necesitas dos tuberías.*"
   ]
  },
  {
   "cell_type": "code",
   "execution_count": null,
   "id": "ffbcd0e4-33e2-4972-b1de-d377a374c8c0",
   "metadata": {},
   "outputs": [],
   "source": [
    "#V.6\n",
    "objdump -d compara_arrays"
   ]
  },
  {
   "cell_type": "code",
   "execution_count": null,
   "id": "b8c98b94-6eea-4bb3-8e5f-84b5a6ca4e0a",
   "metadata": {},
   "outputs": [],
   "source": [
    "# Cleanup\n",
    "rm arrays_iguales* compara_arrays* miprograma*"
   ]
  },
  {
   "cell_type": "markdown",
   "id": "736e6fce",
   "metadata": {},
   "source": [
    "**FIN DEL EXAMEN**"
   ]
  }
 ],
 "metadata": {
  "kernelspec": {
   "display_name": "Bash",
   "language": "bash",
   "name": "bash"
  },
  "language_info": {
   "codemirror_mode": "shell",
   "file_extension": ".sh",
   "mimetype": "text/x-sh",
   "name": "bash"
  }
 },
 "nbformat": 4,
 "nbformat_minor": 5
}
