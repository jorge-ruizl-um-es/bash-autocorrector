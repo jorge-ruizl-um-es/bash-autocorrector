{
 "cells": [
  {
   "cell_type": "markdown",
   "id": "928436fe",
   "metadata": {},
   "source": [
    "# Bloque IV: Control de versiones con `git`"
   ]
  },
  {
   "cell_type": "markdown",
   "id": "e35d4683",
   "metadata": {},
   "source": [
    "Puedes **RESETEAR** los recursos del examen a su estado inicial ejecutando el siguiente comando (restaurar los ficheros de ejemplo al estado inicial)"
   ]
  },
  {
   "cell_type": "code",
   "execution_count": 19,
   "id": "6f577c13",
   "metadata": {},
   "outputs": [
    {
     "name": "stdout",
     "output_type": "stream",
     "text": [
      "Directorio del examen: /home/examen01/examen-2025-enero-practicas\n",
      "Preparando recursos del examen...OK\n"
     ]
    }
   ],
   "source": [
    "### RESETEAR EL EXAMEN (Útil para usar Run all)\n",
    "cd\n",
    "NUM_EXAM_DIRS=$(find ~  -maxdepth 2 -type d -name \"examen-*-practicas\" 2> /dev/null | wc -l)\n",
    "if [[ $NUM_EXAM_DIRS > 1 ]]; then\n",
    "    echo \"ERROR: Se han detectado múltiples directorios de examen!\"\n",
    "    find ~  -maxdepth 2 -type d -name \"examen-*-practicas\" 2> /dev/null \n",
    "else\n",
    "    EXAM_DIR=$(find ~  -maxdepth 1 -type d -name \"examen-*-practicas\")\n",
    "    if [ -d \"$EXAM_DIR\" ]; then\n",
    "        echo \"Directorio del examen: $EXAM_DIR\"\n",
    "        echo -n \"Preparando recursos del examen...\"\n",
    "        $EXAM_DIR/examen-fc-preparar-recursos\n",
    "        echo \"OK\"\n",
    "    else\n",
    "        echo \"No se encuentra el directorio del examen\"\n",
    "    fi\n",
    "fi\n",
    "# RESUELTA\n",
    "cd $HOME/recursos-examen/mygitrepo\n",
    "git config user.name \"Your Name Here\"\n",
    "git config user.email \"your@email.example\""
   ]
  },
  {
   "cell_type": "code",
   "execution_count": 20,
   "id": "004a3fa4-52f6-4ae9-a944-09af2e330946",
   "metadata": {},
   "outputs": [
    {
     "name": "stdout",
     "output_type": "stream",
     "text": [
      "/home/examen01/recursos-examen/mygitrepo\n"
     ]
    }
   ],
   "source": [
    "pwd"
   ]
  },
  {
   "cell_type": "markdown",
   "id": "7ecf206f-e20d-49a0-8f26-cbc7a4b90961",
   "metadata": {},
   "source": [
    "Observa el estado del repositorio donde te encuentras:"
   ]
  },
  {
   "cell_type": "code",
   "execution_count": 21,
   "id": "6362aeea-f19e-4a36-b81d-3b8654cc9130",
   "metadata": {},
   "outputs": [
    {
     "name": "stdout",
     "output_type": "stream",
     "text": [
      "En la rama master\n",
      "Tu rama está adelantada a 'origin/master' por 2 commits.\n",
      "  (usa \"git push\" para publicar tus commits locales)\n",
      "\n",
      "Cambios a ser confirmados:\n",
      "  (usa \"git restore --staged <archivo>...\" para sacar del área de stage)\n",
      "\t\u001b[32mnuevos archivos: doc/faq.html\u001b[m\n",
      "\n",
      "Cambios no rastreados para el commit:\n",
      "  (usa \"git add/rm <archivo>...\" para actualizar a lo que se le va a hacer commit)\n",
      "  (usa \"git restore <archivo>...\" para descartar los cambios en el directorio de trabajo)\n",
      "\t\u001b[31mborrados:        AUTHORS\u001b[m\n",
      "\t\u001b[31mmodificados:     README\u001b[m\n",
      "\n",
      "Archivos sin seguimiento:\n",
      "  (usa \"git add <archivo>...\" para incluirlo a lo que será confirmado)\n",
      "\t\u001b[31mREADME.md\u001b[m\n",
      "\n"
     ]
    }
   ],
   "source": [
    "git status; "
   ]
  },
  {
   "cell_type": "markdown",
   "id": "1cd07f0b",
   "metadata": {},
   "source": [
    "**DOS COMANDOS**: Recupera el fichero en estado borrado y luego muestra su contenido."
   ]
  },
  {
   "cell_type": "code",
   "execution_count": 22,
   "id": "5be2dd25",
   "metadata": {},
   "outputs": [
    {
     "name": "stdout",
     "output_type": "stream",
     "text": [
      "AUTHORS\n"
     ]
    }
   ],
   "source": [
    "#IV.1\n",
    "git restore AUTHORS\n",
    "ls AUTHORS"
   ]
  },
  {
   "cell_type": "code",
   "execution_count": 23,
   "id": "d9872962-f68f-43d1-bc9b-e6dd51bfbb32",
   "metadata": {},
   "outputs": [
    {
     "name": "stdout",
     "output_type": "stream",
     "text": [
      "En la rama master\n",
      "Tu rama está adelantada a 'origin/master' por 2 commits.\n",
      "  (usa \"git push\" para publicar tus commits locales)\n",
      "\n",
      "Cambios a ser confirmados:\n",
      "  (usa \"git restore --staged <archivo>...\" para sacar del área de stage)\n",
      "\t\u001b[32mnuevos archivos: doc/faq.html\u001b[m\n",
      "\n",
      "Cambios no rastreados para el commit:\n",
      "  (usa \"git add <archivo>...\" para actualizar lo que será confirmado)\n",
      "  (usa \"git restore <archivo>...\" para descartar los cambios en el directorio de trabajo)\n",
      "\t\u001b[31mmodificados:     README\u001b[m\n",
      "\n",
      "Archivos sin seguimiento:\n",
      "  (usa \"git add <archivo>...\" para incluirlo a lo que será confirmado)\n",
      "\t\u001b[31mREADME.md\u001b[m\n",
      "\n"
     ]
    }
   ],
   "source": [
    "git status"
   ]
  },
  {
   "cell_type": "markdown",
   "id": "7a1a376f",
   "metadata": {},
   "source": [
    "**DOS COMANDOS**: Muestra las diferencias entre la versión del fichero `README` en el directorio actual y la versión en el repositorio. Seguidamente, descarta las modificaciones en dicho fichero."
   ]
  },
  {
   "cell_type": "code",
   "execution_count": 24,
   "id": "af0bb1b4",
   "metadata": {},
   "outputs": [
    {
     "name": "stdout",
     "output_type": "stream",
     "text": [
      "\u001b[1mdiff --git a/README b/README\u001b[m\n",
      "\u001b[1mindex 54a79db..2d00e1d 100644\u001b[m\n",
      "\u001b[1m--- a/README\u001b[m\n",
      "\u001b[1m+++ b/README\u001b[m\n",
      "\u001b[36m@@ -2,4 +2,3 @@\u001b[m \u001b[mThis is a sample README file\u001b[m\n",
      " \u001b[m\n",
      " TODO: Add description and refer to INSTALL file to installation instructions\u001b[m\n",
      " \u001b[m\n",
      "\u001b[31m-TODO: Consider renaming this README as README.md and use Markdown syntax\u001b[m\n"
     ]
    }
   ],
   "source": [
    "#IV.2\n",
    "git diff README\n",
    "git restore README"
   ]
  },
  {
   "cell_type": "code",
   "execution_count": 25,
   "id": "6d39a1f5-d5cc-4832-a4ba-d21bac2c9485",
   "metadata": {},
   "outputs": [
    {
     "name": "stdout",
     "output_type": "stream",
     "text": [
      "This is a sample README file\n",
      "\n",
      "TODO: Add description and refer to INSTALL file to installation instructions\n",
      "\n",
      "TODO: Consider renaming this README as README.md and use Markdown syntax\n"
     ]
    }
   ],
   "source": [
    "cat README"
   ]
  },
  {
   "cell_type": "markdown",
   "id": "f5ab119c",
   "metadata": {},
   "source": [
    "Saca del índice el fichero nuevo que va a ser confirmado en el repositorio."
   ]
  },
  {
   "cell_type": "code",
   "execution_count": 26,
   "id": "0dbaf3f2",
   "metadata": {},
   "outputs": [],
   "source": [
    "#IV.3\n",
    "git restore --staged README"
   ]
  },
  {
   "cell_type": "code",
   "execution_count": 27,
   "id": "ad1b9133",
   "metadata": {},
   "outputs": [
    {
     "name": "stdout",
     "output_type": "stream",
     "text": [
      "En la rama master\n",
      "Tu rama está adelantada a 'origin/master' por 2 commits.\n",
      "  (usa \"git push\" para publicar tus commits locales)\n",
      "\n",
      "Cambios a ser confirmados:\n",
      "  (usa \"git restore --staged <archivo>...\" para sacar del área de stage)\n",
      "\t\u001b[32mnuevos archivos: doc/faq.html\u001b[m\n",
      "\n",
      "Archivos sin seguimiento:\n",
      "  (usa \"git add <archivo>...\" para incluirlo a lo que será confirmado)\n",
      "\t\u001b[31mREADME.md\u001b[m\n",
      "\n"
     ]
    }
   ],
   "source": [
    "git status . "
   ]
  },
  {
   "cell_type": "markdown",
   "id": "2493b2b8-809a-4495-aeec-d7bcce5252ef",
   "metadata": {},
   "source": [
    "**TRES COMANDOS**: Añade al repositorio el fichero `LICENSE` (ubicado en `~/recursos-examen/sample_files`."
   ]
  },
  {
   "cell_type": "code",
   "execution_count": 29,
   "id": "4adbcbc8-f058-4fe1-bf63-2973fb3d85c8",
   "metadata": {},
   "outputs": [
    {
     "name": "stdout",
     "output_type": "stream",
     "text": [
      "fatal: ruta especificada 'LICENSE~/recursos-examen/sample_files' no concordó con ningún archivo\n",
      "En la rama master\n",
      "Tu rama está adelantada a 'origin/master' por 3 commits.\n",
      "  (usa \"git push\" para publicar tus commits locales)\n",
      "\n",
      "Archivos sin seguimiento:\n",
      "  (usa \"git add <archivo>...\" para incluirlo a lo que será confirmado)\n",
      "\t\u001b[31mREADME.md\u001b[m\n",
      "\n",
      "no hay nada agregado al commit pero hay archivos sin seguimiento presentes (usa \"git add\" para hacerles seguimiento)\n",
      "\u001b[33m5f55d64\u001b[m\u001b[33m (\u001b[m\u001b[1;36mHEAD\u001b[m\u001b[33m -> \u001b[m\u001b[1;32mmaster\u001b[m\u001b[33m)\u001b[m Añadiendo LICENSE\n",
      "\u001b[33m1c0b9d9\u001b[m Añadiendo algunas dependencias\n",
      "\u001b[33m6b2b058\u001b[m Ampliando el README\n",
      "\u001b[33m983426c\u001b[m\u001b[33m (\u001b[m\u001b[1;31morigin/master\u001b[m\u001b[33m, \u001b[m\u001b[1;31morigin/HEAD\u001b[m\u001b[33m)\u001b[m Adding sample source file in src\n",
      "\u001b[33m7152a16\u001b[m Updating README with description + installation\n",
      "\u001b[33m9aadc35\u001b[m Adding INSTALL file\n",
      "\u001b[33ma150a99\u001b[m Adding John as author\n",
      "\u001b[33m9b21afa\u001b[m Adding authors\n",
      "\u001b[33m6280b65\u001b[m Drafting first line in README\n",
      "\u001b[33m0461652\u001b[m Adding empty README\n"
     ]
    }
   ],
   "source": [
    "#IV.4\n",
    "git add LICENSE~/recursos-examen/sample_files\n",
    "git commit -m \"Añadiendo LICENSE\"\n",
    "git log --oneline"
   ]
  },
  {
   "cell_type": "code",
   "execution_count": null,
   "id": "0aa702c7-67f3-41cb-a5f9-41ddf5a66b01",
   "metadata": {},
   "outputs": [],
   "source": [
    "ls"
   ]
  },
  {
   "cell_type": "code",
   "execution_count": null,
   "id": "a2b10caf-66d2-436e-9f8e-5d17e2eab413",
   "metadata": {},
   "outputs": [],
   "source": [
    "git status"
   ]
  },
  {
   "cell_type": "markdown",
   "id": "33cba157-fb1e-4063-9c9f-0335d9676f1e",
   "metadata": {},
   "source": [
    "Muestra los nombres de los autores que han modificado en el repositorio el contenido de los ficheros cuyo nombre empieza por `README`."
   ]
  },
  {
   "cell_type": "code",
   "execution_count": null,
   "id": "dcaa420a",
   "metadata": {},
   "outputs": [],
   "source": [
    "#IV.5\n",
    "git log /"
   ]
  },
  {
   "cell_type": "markdown",
   "id": "880f6428-e177-44e1-b762-a2796bd177e1",
   "metadata": {},
   "source": [
    "**TRES COMANDOS**: Marca para su eliminación del repositorio el fichero `README`, muestra el estado y confirma la eliminación."
   ]
  },
  {
   "cell_type": "code",
   "execution_count": null,
   "id": "913172a4",
   "metadata": {},
   "outputs": [],
   "source": [
    "#IV.6\n",
    "git rm README\n",
    "git status\n",
    "git commit -m \"Eliminando fichero README\""
   ]
  },
  {
   "cell_type": "code",
   "execution_count": null,
   "id": "0896f555-39d1-4e59-8449-80da7f277a09",
   "metadata": {},
   "outputs": [],
   "source": [
    "git status"
   ]
  },
  {
   "cell_type": "code",
   "execution_count": null,
   "id": "2144b7f5-1700-4e9f-96ed-2338f09d515c",
   "metadata": {},
   "outputs": [],
   "source": [
    "ls"
   ]
  },
  {
   "cell_type": "markdown",
   "id": "7c7013c0",
   "metadata": {},
   "source": [
    "[Haz clic aquí para pasar a las preguntas del bloque 5 (Lenguajes del computador)](./examen-fc-bloque5.ipynb)"
   ]
  }
 ],
 "metadata": {
  "kernelspec": {
   "display_name": "Bash",
   "language": "bash",
   "name": "bash"
  },
  "language_info": {
   "codemirror_mode": "shell",
   "file_extension": ".sh",
   "mimetype": "text/x-sh",
   "name": "bash"
  }
 },
 "nbformat": 4,
 "nbformat_minor": 5
}
