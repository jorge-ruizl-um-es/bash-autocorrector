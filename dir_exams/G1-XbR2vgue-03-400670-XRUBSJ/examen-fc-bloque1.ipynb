{
 "cells": [
  {
   "cell_type": "markdown",
   "id": "3eaec161",
   "metadata": {},
   "source": [
    "# Bloque I: Consulta y manipulación del sistema de ficheros"
   ]
  },
  {
   "cell_type": "markdown",
   "id": "389c1029",
   "metadata": {},
   "source": [
    "Ejecuta la siguiente celda para empezar este bloque. También puedes hacerlo para restaurar los ficheros del examen a su estado inicial y volver a ejecutar el *notebook* desde el principio."
   ]
  },
  {
   "cell_type": "code",
   "execution_count": null,
   "id": "85710319",
   "metadata": {},
   "outputs": [],
   "source": [
    "### EMPEZAR/RESTAURAR LOS FICHEROS DE PRUEBA DEL EXAMEN\n",
    "cd\n",
    "EXAM_DIR=$(find ~ -name \"examen-*-practicas\")\n",
    "FILES_DIR=\"$HOME/recursos-examen\"\n",
    "# Suprimimos el alias de \"rm -i\"\n",
    "unalias rm 2> /dev/null || true\n",
    "# Borramos el directorio de recursos\n",
    "chmod -R +w $FILES_DIR && rm -rf $FILES_DIR\n",
    "# Regeneramos el directorio de recursos\n",
    "$EXAM_DIR/examen-fc-preparar-recursos\n",
    "# Mostramos la estructura del árbol de directorios\n",
    "tree -L 2 -d $FILES_DIR\n",
    "# Nos cambiamos al mismo\n",
    "cd $FILES_DIR/files"
   ]
  },
  {
   "cell_type": "code",
   "execution_count": null,
   "id": "5e156d12-8e9e-414d-8637-8d01d4f35adf",
   "metadata": {},
   "outputs": [],
   "source": [
    "# Mostramos el directorio de trabajo actual (NO DEBES CAMBIAR DE DIRECTORIO)\n",
    "pwd"
   ]
  },
  {
   "cell_type": "markdown",
   "id": "e6afbcf2-7045-4acf-a038-e663ea2f46a3",
   "metadata": {},
   "source": [
    "A la vista de la estructura del árbol de directorios de `recursos-examen`, y sabiendo que el directorio de trabajo actual es `/home/examen01/recursos-examen/files`, responde a las siguientes preguntas usando en todo caso **rutas relativas** y **sin cambiar de directorio** en ningún caso."
   ]
  },
  {
   "cell_type": "markdown",
   "id": "b6178747-edf5-443d-bdba-a24e8af96738",
   "metadata": {},
   "source": [
    "Haz un listado que muestre **todo** el contenido del directorio `nano`, incluyendo los ficheros ocultos."
   ]
  },
  {
   "cell_type": "code",
   "execution_count": null,
   "id": "f1e0d1b5-e5b2-4bf4-af61-e22b74fe99db",
   "metadata": {},
   "outputs": [],
   "source": [
    "# I.1\n",
    "ls -a ../nano"
   ]
  },
  {
   "cell_type": "markdown",
   "id": "193c7f4e-6cdd-45ea-b6f2-a8f16d6726ce",
   "metadata": {},
   "source": [
    "SALIDA:\n",
    "```\n",
    ".                    configure.ac  m4              roll-a-release.sh\n",
    "..                   COPYING       Makefile.am     src\n",
    "AUTHORS              COPYING.DOC   nano-regress    syntax\n",
    "autogen.sh           doc           NEWS            THANKS\n",
    "ChangeLog            .github       po              TODO\n",
    "ChangeLog.1999-2006  .gitignore    README\n",
    "ChangeLog.2007-2015  IMPROVEMENTS  README.hacking\n",
    "```"
   ]
  },
  {
   "cell_type": "markdown",
   "id": "47298383-87ca-457e-859e-1a74d61c33ac",
   "metadata": {},
   "source": [
    "Haz un listado recursivo del directorio `image`."
   ]
  },
  {
   "cell_type": "code",
   "execution_count": null,
   "id": "b35a8c64-1c86-455f-ba7f-b918a55a80df",
   "metadata": {},
   "outputs": [],
   "source": [
    "# I.2\n",
    "ls -R image"
   ]
  },
  {
   "cell_type": "markdown",
   "id": "b2418288-83f0-46ee-9515-decb31e9c8b5",
   "metadata": {},
   "source": [
    "SALIDA:\n",
    "```\n",
    "image:\n",
    "bmp  gif  jpg  png  tiff\n",
    "\n",
    "image/bmp:\n",
    "cc  empire_state_building_in_the_evening.bmp  pitbul.bmp\n",
    "\n",
    "image/bmp/cc:\n",
    "\n",
    "image/gif:\n",
    "apple_flexing_muscles.gif  t_rex.gif\n",
    "\n",
    "image/jpg:\n",
    "egg_pattern.jpg  orange_juice_glass.jpg  stacked_ice_cubes.jpg\n",
    "\n",
    "image/png:\n",
    "animal_pattern.png  burger.png          face_mask.png\n",
    "baran_skull.png     digital_camera.png  vintage_bmw_car.png\n",
    "\n",
    "image/tiff:\n",
    "```"
   ]
  },
  {
   "cell_type": "markdown",
   "id": "606348a8-8d3e-47bb-9bdb-68872bc8d35a",
   "metadata": {},
   "source": [
    "Haz un listado largo (detallado) de los ficheros del directorio `png` cuyo nombre empiece por 'b':"
   ]
  },
  {
   "cell_type": "code",
   "execution_count": null,
   "id": "5b2006c9-5b2d-4ce3-b96b-c73247f8ac0c",
   "metadata": {},
   "outputs": [],
   "source": [
    "# I.3\n",
    "ls -l image/png/b*"
   ]
  },
  {
   "cell_type": "markdown",
   "id": "e1c8333d-bd17-4777-95c0-68dd024b5512",
   "metadata": {},
   "source": [
    "SALIDA:\n",
    "```\n",
    "total 1408\n",
    "-rw-rw-r-- 1 examen01 examen01  85030 sep  7 09:08 baran_skull.png\n",
    "-rw-rw-r-- 1 examen01 examen01  39691 sep  7 09:08 burger.png\n",
    "```"
   ]
  },
  {
   "cell_type": "markdown",
   "id": "40c783bd-a557-4583-b85c-0a86613bc989",
   "metadata": {},
   "source": [
    "Crea dos directorios, uno llamado `favoritos` situado dentro de `image`, y otro llamado `playlist` dentro de `audio`."
   ]
  },
  {
   "cell_type": "code",
   "execution_count": null,
   "id": "345ffc82-e3a7-4a37-83cd-b5cb2564f5b7",
   "metadata": {},
   "outputs": [],
   "source": [
    "# I.4\n",
    "mkdir image/favoritos audio/playlist"
   ]
  },
  {
   "cell_type": "code",
   "execution_count": null,
   "id": "889d5547",
   "metadata": {},
   "outputs": [],
   "source": [
    "# I.4 Comprobación\n",
    "ls audio\n",
    "ls image"
   ]
  },
  {
   "cell_type": "markdown",
   "id": "6eba279d-3eb1-4035-bb23-45d950fc5dc7",
   "metadata": {},
   "source": [
    "Copia los ficheros del directorio `mix` que acaben en `pg` al directorio `favoritos`."
   ]
  },
  {
   "cell_type": "code",
   "execution_count": null,
   "id": "eade9a00-076c-4dc6-991f-9b5b0513e26b",
   "metadata": {},
   "outputs": [],
   "source": [
    "# I.5\n",
    "cp mix/*pg image/favoritos"
   ]
  },
  {
   "cell_type": "markdown",
   "id": "38a1e325-1f64-4085-bdf5-6d61695c4153",
   "metadata": {},
   "source": [
    "Tras la copia anterior, el contenido del directorio `favoritos` creado anteriormente debería ser:"
   ]
  },
  {
   "cell_type": "code",
   "execution_count": null,
   "id": "e6b96937-4ba1-4e06-a545-e759a0844c5f",
   "metadata": {},
   "outputs": [],
   "source": [
    "# I.5 Comprobación\n",
    "ls image/favoritos"
   ]
  },
  {
   "cell_type": "markdown",
   "id": "109be8d1-f637-41f3-99f8-aa0d69852a28",
   "metadata": {},
   "source": [
    "```\n",
    "bitcoin.jpg                 orange_juice_glass.jpg\n",
    "cocktail_on_the_beach.jpg   yorkshire_terrier_dog.jpg\n",
    "lemon_patern_wallpaper.jpg\n",
    "```"
   ]
  },
  {
   "cell_type": "markdown",
   "id": "c3920189-98a0-4eda-afd8-e7ebee0a3467",
   "metadata": {},
   "source": [
    "Haciendo uso de comodines, lista el contenido de los directorios `doc` y `m4` que hay en `nano`."
   ]
  },
  {
   "cell_type": "code",
   "execution_count": null,
   "id": "c192a791-d5c5-4eff-b840-7e4e80750a61",
   "metadata": {},
   "outputs": [],
   "source": [
    "# I.6\n",
    "ls ../nano/doc/* ../nano/m4/*"
   ]
  },
  {
   "cell_type": "markdown",
   "id": "f1d4423e-dc78-4b64-98ec-88895294baf8",
   "metadata": {},
   "source": [
    "SALIDA:\n",
    "```\n",
    "../nano/doc:\n",
    "cheatsheet.html  Makefile.am  nanorc.5   rnano.1\n",
    "faq.html         nano.1       nano.texi  sample.nanorc.in\n",
    "\n",
    "../nano/m4:\n",
    "ac_define_dir.m4  ax_check_compile_flag.m4  Makefile.am\n",
    "```"
   ]
  },
  {
   "cell_type": "markdown",
   "id": "a0efb250-cffa-4369-9561-d9f6fbe51b95",
   "metadata": {},
   "source": [
    "Lista todos los ficheros situados en cualquier directorio de `image` cuyo nombre empiece por la letra 'b' seguida de cualquier carácter entre la 'm' y la 'z'."
   ]
  },
  {
   "cell_type": "code",
   "execution_count": null,
   "id": "a6912b1b-a186-407e-b69e-b2eed9a6d5af",
   "metadata": {},
   "outputs": [],
   "source": [
    "# I.7\n",
    "ls -R image/*/b[m-z]*"
   ]
  },
  {
   "cell_type": "markdown",
   "id": "416baaf6-4cac-46d4-9bcf-f74c30f6f3c8",
   "metadata": {},
   "source": [
    "SALIDA:\n",
    "```\n",
    "image/png/burger.png\n",
    "```"
   ]
  },
  {
   "cell_type": "markdown",
   "id": "de38bdc1-9715-47c6-b842-e346215fcbd2",
   "metadata": {},
   "source": [
    "Borra los ficheros del directorio `favoritos` cuyo nombre comience por un carácter cualquiera seguido de una vocal."
   ]
  },
  {
   "cell_type": "code",
   "execution_count": null,
   "id": "660fbb4d-563f-413f-89b8-42e344fba64e",
   "metadata": {},
   "outputs": [],
   "source": [
    "# I.8\n",
    "rm image/favoritos/*[a,e,i,o,u]*"
   ]
  },
  {
   "cell_type": "markdown",
   "id": "31dd593d-7d77-469b-b309-e4367a6f5e55",
   "metadata": {},
   "source": [
    "Tras borrar los ficheros anteriores, el directorio `favoritos` debería tener un único fichero: `orange_juice_glass.jpg`"
   ]
  },
  {
   "cell_type": "code",
   "execution_count": null,
   "id": "601a0791-3e15-4ec9-b055-937483f83b31",
   "metadata": {},
   "outputs": [],
   "source": [
    "#I.8 Comprobación \n",
    "ls image/favoritos"
   ]
  },
  {
   "cell_type": "markdown",
   "id": "05a791dc-0309-4d77-9c03-c349067d2d03",
   "metadata": {},
   "source": [
    "Copia al directorio `playlist` todos los ficheros situados en cualquier subdirectorio inmediato de `audio` cuyo nombre contenga al menos un carácter numérico y acabe con \"ogg\" o \"wma\"."
   ]
  },
  {
   "cell_type": "code",
   "execution_count": null,
   "id": "a0f0a0f0-913f-4063-ad79-c177f4b68e9c",
   "metadata": {},
   "outputs": [],
   "source": [
    "# I.9\n",
    "cp audio/*/*[0-9]*[ogg,wma] audio/playlist"
   ]
  },
  {
   "cell_type": "markdown",
   "id": "921b0fac-4e65-4f80-a71c-9e909edba60d",
   "metadata": {},
   "source": [
    "El contenido de `playlist` debería ser:\n",
    "```\n",
    "background_loop_chill_techno_02.ogg  background_loop_straight_03.ogg\n",
    "background_loop_chill_techno_05.ogg  background_loop_straight_04.wma\n",
    "background_loop_funky_02.ogg\n",
    "```"
   ]
  },
  {
   "cell_type": "code",
   "execution_count": null,
   "id": "db76d5b6-bff8-40cb-9dc2-7e3df149ad46",
   "metadata": {},
   "outputs": [],
   "source": [
    "#I.9 Comprobación \n",
    "ls audio/playlist"
   ]
  },
  {
   "cell_type": "markdown",
   "id": "577cc88d-5565-48d1-9ae8-f29cdeddaffd",
   "metadata": {},
   "source": [
    "Crea una copia íntegra del directorio  `document` llamada `docu`."
   ]
  },
  {
   "cell_type": "code",
   "execution_count": null,
   "id": "328c463f-eb76-4a3b-bd5d-30abc2b0dea9",
   "metadata": {},
   "outputs": [],
   "source": [
    "# I.10\n",
    "cp -r document ./docu"
   ]
  },
  {
   "cell_type": "markdown",
   "id": "bdcedbb5-0b80-4e1e-9a21-cef55c43256d",
   "metadata": {},
   "source": [
    "Cambia el nombre del directorio  `docu` que acabas de crear, para que se llame `docs`."
   ]
  },
  {
   "cell_type": "code",
   "execution_count": null,
   "id": "27678fc1-004c-4e5b-b699-325362a9a6be",
   "metadata": {},
   "outputs": [],
   "source": [
    "# I.11\n",
    "cp -r docu docs"
   ]
  },
  {
   "cell_type": "markdown",
   "id": "c43165ef-e0a5-47a9-88fd-1ad076cb8414",
   "metadata": {},
   "source": [
    "Establece los permisos adecuados para que el propietario pueda borrar los ficheros que hay dentro del directorio `mix`, mientras que los demás sólo puedan ver el contenido y acceder a dicho directorio."
   ]
  },
  {
   "cell_type": "code",
   "execution_count": null,
   "id": "d4a1b4b9",
   "metadata": {},
   "outputs": [],
   "source": [
    "#I.12\n",
    "chmod 755 mix"
   ]
  },
  {
   "cell_type": "code",
   "execution_count": null,
   "id": "01d0af4e-b7ca-4194-a1d5-e62665f62fbf",
   "metadata": {},
   "outputs": [],
   "source": [
    "#I.12 Comprobación\n",
    "ls -l"
   ]
  },
  {
   "cell_type": "markdown",
   "id": "0fe5e304",
   "metadata": {},
   "source": [
    "[Haz clic aquí para pasar a las preguntas del bloque 2 (Búsquedas)](./examen-fc-bloque2.ipynb)"
   ]
  }
 ],
 "metadata": {
  "kernelspec": {
   "display_name": "Bash",
   "language": "bash",
   "name": "bash"
  },
  "language_info": {
   "codemirror_mode": "shell",
   "file_extension": ".sh",
   "mimetype": "text/x-sh",
   "name": "bash"
  },
  "toc": {
   "base_numbering": 1,
   "nav_menu": {},
   "number_sections": true,
   "sideBar": true,
   "skip_h1_title": false,
   "title_cell": "Table of Contents",
   "title_sidebar": "Contents",
   "toc_cell": false,
   "toc_position": {},
   "toc_section_display": true,
   "toc_window_display": false
  }
 },
 "nbformat": 4,
 "nbformat_minor": 5
}
