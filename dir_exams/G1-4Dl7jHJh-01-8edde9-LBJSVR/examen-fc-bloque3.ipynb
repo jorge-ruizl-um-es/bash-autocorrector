{
 "cells": [
  {
   "cell_type": "markdown",
   "id": "f66af509",
   "metadata": {},
   "source": [
    "# Bloque III: Gestión de procesos y redireccionamiento. Tuberías I"
   ]
  },
  {
   "cell_type": "markdown",
   "id": "336d331b",
   "metadata": {},
   "source": [
    "Puedes **RESETEAR** los recursos del examen a su estado inicial ejecutando el siguiente comando (restaurar los ficheros de ejemplo al estado inicial)"
   ]
  },
  {
   "cell_type": "code",
   "execution_count": null,
   "id": "eb22e04f",
   "metadata": {},
   "outputs": [],
   "source": [
    "### EMPEZAR/RESTAURAR LOS FICHEROS DE PRUEBA DEL EXAMEN\n",
    "cd\n",
    "EXAM_DIR=$(find ~ -name \"examen-*-practicas\")\n",
    "FILES_DIR=\"$HOME/recursos-examen\"\n",
    "# Suprimimos el alias de \"rm -i\"\n",
    "unalias rm 2> /dev/null || true\n",
    "# Regeneramos el directorio de recursos\n",
    "$EXAM_DIR/examen-fc-preparar-recursos\n",
    "# Mostramos la estructura del árbol de directorios\n",
    "#tree -L 2 -d $FILES_DIR\n",
    "# Nos cambiamos al mismo\n",
    "cd $FILES_DIR/files"
   ]
  },
  {
   "cell_type": "markdown",
   "id": "2a68fcb6",
   "metadata": {},
   "source": [
    "Tras ejecutar la celda anterior, te debes encontrar en el directorio `recursos-examen/files` que hay en la carpeta de usuario."
   ]
  },
  {
   "cell_type": "code",
   "execution_count": null,
   "id": "5de2e89c",
   "metadata": {},
   "outputs": [],
   "source": [
    "pwd"
   ]
  },
  {
   "cell_type": "markdown",
   "id": "0637b4a1",
   "metadata": {},
   "source": [
    "Teniendo en cuenta que estás situado en dicho directorio actualmente, responde a las siguientes preguntas."
   ]
  },
  {
   "cell_type": "markdown",
   "id": "6164cf9a",
   "metadata": {},
   "source": [
    "**DOS COMANDOS**: Ejecuta dos comandos en una misma línea usando el separador adecuado, de forma que ambos se ejecuten en primer plano.\n",
    "- El primer comando debe crea un fichero llamado `copyright`, cuyo contenido sean las líneas del fichero `LICENSE` que empiezan por \"Copyright\".\n",
    "- El segundo comando debe añadir tu nombre y apellidos al fichero `copyright` creado por el primer comando."
   ]
  },
  {
   "cell_type": "code",
   "execution_count": null,
   "id": "b60e4706",
   "metadata": {},
   "outputs": [],
   "source": [
    "#III.1\n",
    "touch copyright | grep \"^Copyright\" LICENSE | echo \"Nombre Apellidos\" >> copyright"
   ]
  },
  {
   "cell_type": "code",
   "execution_count": null,
   "id": "0fe69f91-02e4-42e4-8d3b-a098337daef1",
   "metadata": {},
   "outputs": [],
   "source": [
    "#III.1 Comprobación\n"
   ]
  },
  {
   "cell_type": "markdown",
   "id": "0267da53-48e3-4261-8d07-60e9c530ceaa",
   "metadata": {},
   "source": [
    "El contenido del fichero creado debería ser:\n",
    "```\n",
    "Copyright (c) 2021 Aheeva Technologies\n",
    "Nombre Apellidos\n",
    "```"
   ]
  },
  {
   "cell_type": "markdown",
   "id": "b6141f06",
   "metadata": {},
   "source": [
    "Ejecuta un comando que cree un fichero `errores` con los mensajes de error generados al tratar de borrar todos los ficheros en el directorio `mix` cuyo nombre empiece por 'b' y acabe en \"png\"."
   ]
  },
  {
   "cell_type": "code",
   "execution_count": null,
   "id": "1e42e86f",
   "metadata": {},
   "outputs": [],
   "source": [
    "#III.2\n",
    "touch errores | cat mix 2>errores "
   ]
  },
  {
   "cell_type": "code",
   "execution_count": null,
   "id": "15019a14-8a7d-4d41-aef3-0fb34e0edd3b",
   "metadata": {},
   "outputs": [],
   "source": [
    "#III.2 Comprobación\n"
   ]
  },
  {
   "cell_type": "markdown",
   "id": "1b2fb049",
   "metadata": {},
   "source": [
    "El contenido del fichero debe ser:\n",
    "```\n",
    "rm: no se puede borrar 'mix/barbeshop_item_silhouettes.png': Permiso denegado\n",
    "rm: no se puede borrar 'mix/buldog_cartoon.png': Permiso denegado\n",
    "```"
   ]
  },
  {
   "cell_type": "markdown",
   "id": "998bdce8",
   "metadata": {},
   "source": [
    "**TRES COMANDOS:** Usa tres comandos consecutivos, de forma que el primero se lance en primer plano, el segundo comando en segundo plano y el tercero en primer plano. \n",
    "1. El primer comando debe crear una copia del fichero `/usr/bin/sleep` en el directorio actual llamada `duerme`.\n",
    "2. El segundo comando debe lanzar en segundo plano el programa `duerme` copiado por el primer comando (*NOTA: `sleep` toma como argumento el número de segundos a dormir*).\n",
    "3. El tercer comando debe terminar forzosamente (*matar*) la ejecución del proceso en segundo plano lanzado en el paso anterior, sin necesidad de indicar su PID."
   ]
  },
  {
   "cell_type": "code",
   "execution_count": null,
   "id": "3f57bfcd",
   "metadata": {},
   "outputs": [],
   "source": [
    "#III.3\n"
   ]
  },
  {
   "cell_type": "markdown",
   "id": "dbefc7fd",
   "metadata": {},
   "source": [
    "SALIDA: (aproximada, el PID será diferente)\n",
    "```\n",
    "[1] 559366\n",
    "[1]+  Terminado (killed)      ./duerme 1000\n",
    "```"
   ]
  },
  {
   "cell_type": "markdown",
   "id": "523bbefa-1b36-4c1d-a4c6-fe51612b3725",
   "metadata": {},
   "source": [
    "Utilizando tuberías, muestra los procesos en ejecución lanzados en el shell actual, cuyo comando contenga la cadena \"sleep\" pero no la cadena \"grep\"."
   ]
  },
  {
   "cell_type": "code",
   "execution_count": null,
   "id": "f363bfb3",
   "metadata": {},
   "outputs": [],
   "source": [
    "# RESUELTA: Ejecuta la siguiente celda\n",
    "sleep 10000 &"
   ]
  },
  {
   "cell_type": "code",
   "execution_count": null,
   "id": "2f2b6a32-013d-42bf-a7be-5598c8401b73",
   "metadata": {
    "code_folding": []
   },
   "outputs": [],
   "source": [
    "#III.4\n"
   ]
  },
  {
   "cell_type": "markdown",
   "id": "a7edfd7d-7df9-4632-9207-458538a73d9c",
   "metadata": {},
   "source": [
    "SALIDA: (aproximada, el PID será diferente)\n",
    "```\n",
    "559368 pts/20   S      0:00 sleep 10000\n",
    "```"
   ]
  },
  {
   "cell_type": "markdown",
   "id": "3187229c",
   "metadata": {},
   "source": [
    "[Haz clic aquí para pasar a las preguntas del bloque 4 (git)](./examen-fc-bloque4.ipynb)"
   ]
  }
 ],
 "metadata": {
  "kernelspec": {
   "display_name": "Bash",
   "language": "bash",
   "name": "bash"
  },
  "language_info": {
   "codemirror_mode": "shell",
   "file_extension": ".sh",
   "mimetype": "text/x-sh",
   "name": "bash"
  },
  "toc": {
   "base_numbering": 1,
   "nav_menu": {},
   "number_sections": true,
   "sideBar": true,
   "skip_h1_title": false,
   "title_cell": "Table of Contents",
   "title_sidebar": "Contents",
   "toc_cell": false,
   "toc_position": {},
   "toc_section_display": true,
   "toc_window_display": false
  }
 },
 "nbformat": 4,
 "nbformat_minor": 5
}
