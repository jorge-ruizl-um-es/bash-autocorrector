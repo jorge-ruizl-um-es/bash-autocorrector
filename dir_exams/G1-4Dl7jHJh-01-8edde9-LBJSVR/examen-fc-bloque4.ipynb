{
 "cells": [
  {
   "cell_type": "markdown",
   "id": "928436fe",
   "metadata": {},
   "source": [
    "# Bloque IV: Control de versiones con Git"
   ]
  },
  {
   "cell_type": "markdown",
   "id": "e35d4683",
   "metadata": {},
   "source": [
    "Puedes **RESETEAR** los recursos del examen a su estado inicial ejecutando el siguiente comando (restaurar los ficheros de ejemplo al estado inicial)"
   ]
  },
  {
   "cell_type": "code",
   "execution_count": null,
   "id": "6f577c13",
   "metadata": {},
   "outputs": [],
   "source": [
    "### EMPEZAR/RESTAURAR LOS FICHEROS DE PRUEBA DEL EXAMEN\n",
    "cd\n",
    "EXAM_DIR=$(find ~ -name \"examen-*-practicas\")\n",
    "FILES_DIR=\"$HOME/recursos-examen\"\n",
    "# Suprimimos el alias de \"rm -i\"\n",
    "unalias rm 2> /dev/null || true\n",
    "# Regeneramos el directorio de recursos\n",
    "$EXAM_DIR/examen-fc-preparar-recursos\n",
    "# Nos cambiamos al mismo\n",
    "cd $FILES_DIR/repo"
   ]
  },
  {
   "cell_type": "markdown",
   "id": "bdab2cd8",
   "metadata": {},
   "source": [
    "Edita la siguiente con tu nombre y correo electrónico, y ejecútala"
   ]
  },
  {
   "cell_type": "code",
   "execution_count": null,
   "id": "cbcc58ac",
   "metadata": {},
   "outputs": [],
   "source": [
    "# RESUELTA\n",
    "git config user.name \"Marta\"\n",
    "git config user.email \"alumno@um.es\""
   ]
  },
  {
   "cell_type": "markdown",
   "id": "6dc888af-cdb7-4746-9650-be8b43a062f5",
   "metadata": {},
   "source": [
    "Muestra las diferencias entre el contenido de `AUTHORS` en el árbol de trabajo con respecto al repositorio."
   ]
  },
  {
   "cell_type": "code",
   "execution_count": null,
   "id": "6c76d8fb-fb78-4a8c-9833-d296a9e5e665",
   "metadata": {},
   "outputs": [],
   "source": [
    "#IV.1\n",
    "git diff AUTHORS"
   ]
  },
  {
   "cell_type": "markdown",
   "id": "daf8ab02-dde3-4ab9-a94b-f3f0a92d21bc",
   "metadata": {},
   "source": [
    "SALIDA: (sólo se muestran una parte)\n",
    "```\n",
    "-Marco Diego Aurélio Mesquita <marcodiegomesquita@gmail.com>\n",
    "+Marco D. Aurélio Mesquita <marcodiegomesquita@gmail.com>\n",
    " \t* Filtering text through an external command.\n",
    "```"
   ]
  },
  {
   "cell_type": "markdown",
   "id": "bcac295b-f8c4-4649-8017-3f69d2b68cc3",
   "metadata": {},
   "source": [
    "Muestra el estado de los ficheros en el árbol de trabajo."
   ]
  },
  {
   "cell_type": "code",
   "execution_count": null,
   "id": "52bb7de4-00ee-473a-830d-d9c19a524111",
   "metadata": {},
   "outputs": [],
   "source": [
    "#IV.2\n",
    "git status"
   ]
  },
  {
   "cell_type": "markdown",
   "id": "e06ef9ec-4b4b-4096-b11b-e2a39218ea3b",
   "metadata": {},
   "source": [
    "Confirma al repositorio los cambios en `THANKS`."
   ]
  },
  {
   "cell_type": "code",
   "execution_count": null,
   "id": "e647bd2a-7d00-4d5b-ab41-73bd752dd71e",
   "metadata": {},
   "outputs": [],
   "source": [
    "# RESUELTA\n",
    "git commit THANKS -m \"Cambiando Spanish a Español\""
   ]
  },
  {
   "cell_type": "markdown",
   "id": "f0f6bd9d-b104-4156-b12b-d861924f3f42",
   "metadata": {},
   "source": [
    "Restaura el contenido de `AUTHORS` en el árbol de trabajo a su estado en la versión actual de repositorio."
   ]
  },
  {
   "cell_type": "code",
   "execution_count": null,
   "id": "f365c52a-ed3e-450b-a6e9-afc499af13c9",
   "metadata": {},
   "outputs": [],
   "source": [
    "#IV.3\n",
    "git restore AUTHORS"
   ]
  },
  {
   "cell_type": "markdown",
   "id": "49e1cff4-560a-4405-a6ff-b3733ff8c8c8",
   "metadata": {},
   "source": [
    "Ahora el contenido del fichero `AUTHORS` debería ser idéntico a la versión en el repositorio."
   ]
  },
  {
   "cell_type": "code",
   "execution_count": null,
   "id": "3550b51c-ae18-45c2-9fb2-5a5e32f84435",
   "metadata": {},
   "outputs": [],
   "source": [
    "#IV.3 Comprobación\n",
    "ls AUTHORS"
   ]
  },
  {
   "cell_type": "markdown",
   "id": "63ee640e-90de-40d2-af9d-fdba52b3a5a2",
   "metadata": {},
   "source": [
    "Muestra el registro de commits al repositorio que han modificado el fichero `AUTHORS`."
   ]
  },
  {
   "cell_type": "code",
   "execution_count": null,
   "id": "d78354dc-cea1-4660-a6b9-aebfeb29df5d",
   "metadata": {},
   "outputs": [],
   "source": [
    "#IV.4\n",
    "git log"
   ]
  },
  {
   "cell_type": "markdown",
   "id": "dca263c9-9eb5-4afd-b114-b7ba6cda3c57",
   "metadata": {},
   "source": [
    "SALIDA:\n",
    "```\n",
    "commit 8457cf96fff4a4b7633cf96fdeea7b493e6cb08e\n",
    "Author: Rubén Titos <alumno@um.es>\n",
    "Date:   Sat Dec 2 18:56:10 2023 +0100\n",
    "\n",
    "    Añadiendo autores\n",
    "```"
   ]
  },
  {
   "cell_type": "markdown",
   "id": "7c7013c0",
   "metadata": {},
   "source": [
    "[Haz clic aquí para pasar a las preguntas del bloque 5 (Lenguajes del computador)](./examen-fc-bloque5.ipynb)"
   ]
  }
 ],
 "metadata": {
  "kernelspec": {
   "display_name": "Bash",
   "language": "bash",
   "name": "bash"
  },
  "language_info": {
   "codemirror_mode": "shell",
   "file_extension": ".sh",
   "mimetype": "text/x-sh",
   "name": "bash"
  },
  "toc": {
   "base_numbering": 1,
   "nav_menu": {},
   "number_sections": true,
   "sideBar": true,
   "skip_h1_title": false,
   "title_cell": "Table of Contents",
   "title_sidebar": "Contents",
   "toc_cell": false,
   "toc_position": {},
   "toc_section_display": true,
   "toc_window_display": false
  }
 },
 "nbformat": 4,
 "nbformat_minor": 5
}
