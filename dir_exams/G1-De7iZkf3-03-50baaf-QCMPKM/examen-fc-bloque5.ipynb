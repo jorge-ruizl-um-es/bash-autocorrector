{
 "cells": [
  {
   "cell_type": "markdown",
   "id": "df0754ab",
   "metadata": {},
   "source": [
    "# Bloque V: Lenguajes del computador"
   ]
  },
  {
   "cell_type": "markdown",
   "id": "9f573123",
   "metadata": {},
   "source": [
    "A la vista de la siguiente información mostrada sobre la ejecución paso a paso mediante GDB de un programa en ensamblador del ISA x86-64, responde a las siguientes preguntas justificando en todo caso la respuesta:\n"
   ]
  },
  {
   "cell_type": "markdown",
   "id": "3f50cbbd",
   "metadata": {},
   "source": [
    "```\n",
    "┌─Register group: general───────────────────────────────────────────┐\n",
    "│rbx            0x4c5100                                            │\n",
    "│rip            0x40169b                                            │\n",
    "┌───────────────────────────────────────────────────────────────────┐\n",
    "│    0x401696 <inicio_while>         cmp    $0x5,%esi               │\n",
    "│    0x401699 <inicio_while+3>       jge    0x4016a7 <fin_while>    │\n",
    "│    0x40169b <inicio_while+5>       mov    (%rbx),%ecx             │\n",
    "│    0x40169d <inicio_while+7>       add    %ecx,%eax               │\n",
    "│    0x40169f <inicio_while+9>       inc    %esi                    │\n",
    "│    0x4016a1 <inicio_while+11>      add    $0x4,%rbx               │\n",
    "│    0x4016a5 <inicio_while+15>      jmp    0x401696 <inicio_while> │\n",
    "└───────────────────────────────────────────────────────────────────┘\n",
    "(gdb) x/20bx 0x4c50f0\n",
    "0x4c50f0:       0x0a    0x00    0x00    0x00    0x14    0x00    0x00    0x00\n",
    "0x4c50f8:       0x1e    0x00    0x00    0x00    0x28    0x00    0x00    0x00\n",
    "0x4c5100:       0x32    0x00    0x00    0x00\n",
    "(gdb) x/8bx inicio_while\n",
    "0x401696 <inicio_while>:        0x83    0xfe    0x05    0x7d    0x0c    0x8b    0x0b    0x01\n",
    "```"
   ]
  },
  {
   "cell_type": "markdown",
   "id": "65deb0f2-4018-4731-95d4-cf73402681d2",
   "metadata": {},
   "source": [
    "- El primer comando de `gdb` ejecutado muestra el contenido de 20 bytes en la memoria a partir de la dirección `0x4c50f0`, donde se ubica un array de 5 elementos de tipo entero.\n",
    "- El segundo comando de `gdb` ejecutado muestra el contenido de 8 bytes en la memoria a partir de la dirección `0x401696`."
   ]
  },
  {
   "cell_type": "markdown",
   "id": "9f589cb3",
   "metadata": {},
   "source": [
    "**¿Cuál es la instrucción que ejecutará el programa a continuación? ¿Cómo puede saberse?** "
   ]
  },
  {
   "cell_type": "markdown",
   "id": "d3a17871",
   "metadata": {},
   "source": [
    "RESPUESTA: La instrucción que ejecutará el programa es 0x40169b <inicio_while+5>       mov    (%rbx),%ecx \n",
    "Lo sé porque el registro rip, que es el registro contador de programa, el cual indica la dirección de memoria de la siguiente instrucción a ejecutar, tiene valor 0x40169b, que es la dirección de memoria de la instrucción que he mencionado\n"
   ]
  },
  {
   "cell_type": "markdown",
   "id": "ad061c85",
   "metadata": {},
   "source": [
    "**Señala qué instrucción del programa realiza un salto condicional y cuál es la condición de dicho salto.** \n"
   ]
  },
  {
   "cell_type": "markdown",
   "id": "c750fd70",
   "metadata": {},
   "source": [
    "RESPUESTA: Esta instrucción realiza un salto condicional 0x401699 <inicio_while+3>       jge    0x4016a7 <fin_while>\n",
    "La condición de salto es que salte a la dirección de memoria 0x4016a7, que es el fin del while(bucle), si el registro %esi es mayor o igual a 0x5, lo sé viendo la instrucción anterior (cmp    $0x5,%esi)\n"
   ]
  },
  {
   "cell_type": "markdown",
   "id": "e657796a",
   "metadata": {},
   "source": [
    "**A la vista del valor de los registros en este instante, ¿cuál será el siguiente valor que tomará el registro ECX tras ejecutar la instrucción actual?** "
   ]
  },
  {
   "cell_type": "markdown",
   "id": "c094ed84",
   "metadata": {},
   "source": [
    "RESPUESTA: Al ejecutar la instrucción actual(mov    (%rbx),%ecx), el siguiente valor que tomará el registro ECX será 0x4c5100 porque lo que hace esta instrucción es copiar el valor del registro rbx a ecx y observando el valor de rbx que es 0x4c5100, sé el valor que tomará ecx\n"
   ]
  },
  {
   "cell_type": "markdown",
   "id": "c47a3a9c",
   "metadata": {},
   "source": [
    "**¿Cuál es la codificación en lenguaje máquina de la instrucción `cmp $0x5,%esi`? Indica cómo puede saberse.** "
   ]
  },
  {
   "cell_type": "markdown",
   "id": "28fda836",
   "metadata": {},
   "source": [
    "RESPUESTA:La codificación en lenguaje máquina de la instrucción cmp $0x5,%esi, es 0x83    0xfe    0x05, lo sé porque al observar la salida de este comando, (gdb) x/8bx inicio_while, el cual muestra el contenido de 8 bytes en la memoria a partir de la dirección 0x401696, puedo ver que los tres primeros bytes son esos, y solo son los tres primeros bytes porque la siguiente instrucción, 0x401699 <inicio_while+3>    jge    0x4016a7 <fin_while>, se codifica a partir de los tres primeros bytes (+3)\n",
    "\n"
   ]
  },
  {
   "cell_type": "markdown",
   "id": "736e6fce",
   "metadata": {},
   "source": [
    "[Haz clic aquí para pasar a las preguntas del bloque 6 (Tuberías y subshells)](./examen-fc-bloque6.ipynb)"
   ]
  }
 ],
 "metadata": {
  "kernelspec": {
   "display_name": "Bash",
   "language": "bash",
   "name": "bash"
  },
  "language_info": {
   "codemirror_mode": "shell",
   "file_extension": ".sh",
   "mimetype": "text/x-sh",
   "name": "bash"
  },
  "toc": {
   "base_numbering": 1,
   "nav_menu": {},
   "number_sections": true,
   "sideBar": true,
   "skip_h1_title": false,
   "title_cell": "Table of Contents",
   "title_sidebar": "Contents",
   "toc_cell": false,
   "toc_position": {},
   "toc_section_display": true,
   "toc_window_display": false
  }
 },
 "nbformat": 4,
 "nbformat_minor": 5
}
